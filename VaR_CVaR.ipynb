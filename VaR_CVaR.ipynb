{
  "nbformat": 4,
  "nbformat_minor": 0,
  "metadata": {
    "colab": {
      "name": "VaR_CVaR.ipynb",
      "provenance": [],
      "collapsed_sections": [],
      "toc_visible": true,
      "include_colab_link": true
    },
    "kernelspec": {
      "name": "python3",
      "display_name": "Python 3"
    },
    "language_info": {
      "name": "python"
    }
  },
  "cells": [
    {
      "cell_type": "markdown",
      "metadata": {
        "id": "view-in-github",
        "colab_type": "text"
      },
      "source": [
        "<a href=\"https://colab.research.google.com/github/NachoC20/RiesgoMercado/blob/main/VaR_CVaR.ipynb\" target=\"_parent\"><img src=\"https://colab.research.google.com/assets/colab-badge.svg\" alt=\"Open In Colab\"/></a>"
      ]
    },
    {
      "cell_type": "code",
      "metadata": {
        "id": "OpOSiRvJybob",
        "colab": {
          "base_uri": "https://localhost:8080/"
        },
        "outputId": "b1d19557-6e68-4584-ab32-cce6ad299fe2"
      },
      "source": [
        "%load_ext rpy2.ipython\n",
        "!rm -rf RiesgosFinancieros\n",
        "!git clone \"https://github.com/pikey-msc/RiesgosFinancieros/\""
      ],
      "execution_count": null,
      "outputs": [
        {
          "output_type": "stream",
          "name": "stdout",
          "text": [
            "Cloning into 'RiesgosFinancieros'...\n",
            "remote: Enumerating objects: 691, done.\u001b[K\n",
            "remote: Counting objects: 100% (112/112), done.\u001b[K\n",
            "remote: Compressing objects: 100% (112/112), done.\u001b[K\n",
            "remote: Total 691 (delta 77), reused 0 (delta 0), pack-reused 579\u001b[K\n",
            "Receiving objects: 100% (691/691), 40.95 MiB | 21.95 MiB/s, done.\n",
            "Resolving deltas: 100% (456/456), done.\n"
          ]
        }
      ]
    },
    {
      "cell_type": "markdown",
      "metadata": {
        "id": "byHvLjhkyx4l"
      },
      "source": [
        "# Tarea 1: Riesgo de Mercado"
      ]
    },
    {
      "cell_type": "code",
      "metadata": {
        "colab": {
          "base_uri": "https://localhost:8080/"
        },
        "id": "ktGoEkyypexP",
        "outputId": "93806437-8693-4c23-a090-35813d0833ab"
      },
      "source": [
        "%%R\n",
        "#Instalamos los paquetes que necesitaremos.\n",
        "install.packages(\"quantmod\")\n",
        "install.packages(\"data.table\")\n",
        "install.packages(\"PerformanceAnalytics\")\n",
        "install.packages(\"Deriv\")\n",
        "\n",
        "#Cargamos librerias\n",
        "library(Deriv)\n",
        "library(quantmod)\n",
        "library(data.table)\n",
        "library(\"PerformanceAnalytics\")\n",
        "library(dplyr)\n",
        "\n",
        "con = gzcon(url('https://github.com/systematicinvestor/SIT/raw/master/sit.gz', 'rb'))\n",
        "source(con)\n",
        "close(con)"
      ],
      "execution_count": null,
      "outputs": [
        {
          "output_type": "stream",
          "name": "stderr",
          "text": [
            "R[write to console]: Installing package into ‘/usr/local/lib/R/site-library’\n",
            "(as ‘lib’ is unspecified)\n",
            "\n",
            "R[write to console]: also installing the dependencies ‘xts’, ‘zoo’, ‘TTR’\n",
            "\n",
            "\n",
            "R[write to console]: trying URL 'https://cran.rstudio.com/src/contrib/xts_0.12.1.tar.gz'\n",
            "\n",
            "R[write to console]: Content type 'application/x-gzip'\n",
            "R[write to console]:  length 517875 bytes (505 KB)\n",
            "\n",
            "R[write to console]: =\n",
            "R[write to console]: =\n",
            "R[write to console]: =\n",
            "R[write to console]: =\n",
            "R[write to console]: =\n",
            "R[write to console]: =\n",
            "R[write to console]: =\n",
            "R[write to console]: =\n",
            "R[write to console]: =\n",
            "R[write to console]: =\n",
            "R[write to console]: =\n",
            "R[write to console]: =\n",
            "R[write to console]: =\n",
            "R[write to console]: =\n",
            "R[write to console]: =\n",
            "R[write to console]: =\n",
            "R[write to console]: =\n",
            "R[write to console]: =\n",
            "R[write to console]: =\n",
            "R[write to console]: =\n",
            "R[write to console]: =\n",
            "R[write to console]: =\n",
            "R[write to console]: =\n",
            "R[write to console]: =\n",
            "R[write to console]: =\n",
            "R[write to console]: =\n",
            "R[write to console]: =\n",
            "R[write to console]: =\n",
            "R[write to console]: =\n",
            "R[write to console]: =\n",
            "R[write to console]: =\n",
            "R[write to console]: =\n",
            "R[write to console]: =\n",
            "R[write to console]: =\n",
            "R[write to console]: =\n",
            "R[write to console]: =\n",
            "R[write to console]: =\n",
            "R[write to console]: =\n",
            "R[write to console]: =\n",
            "R[write to console]: =\n",
            "R[write to console]: =\n",
            "R[write to console]: =\n",
            "R[write to console]: =\n",
            "R[write to console]: =\n",
            "R[write to console]: =\n",
            "R[write to console]: =\n",
            "R[write to console]: =\n",
            "R[write to console]: =\n",
            "R[write to console]: =\n",
            "R[write to console]: =\n",
            "R[write to console]: \n",
            "\n",
            "R[write to console]: downloaded 505 KB\n",
            "\n",
            "\n",
            "R[write to console]: trying URL 'https://cran.rstudio.com/src/contrib/zoo_1.8-9.tar.gz'\n",
            "\n",
            "R[write to console]: Content type 'application/x-gzip'\n",
            "R[write to console]:  length 793891 bytes (775 KB)\n",
            "\n",
            "R[write to console]: =\n",
            "R[write to console]: =\n",
            "R[write to console]: =\n",
            "R[write to console]: =\n",
            "R[write to console]: =\n",
            "R[write to console]: =\n",
            "R[write to console]: =\n",
            "R[write to console]: =\n",
            "R[write to console]: =\n",
            "R[write to console]: =\n",
            "R[write to console]: =\n",
            "R[write to console]: =\n",
            "R[write to console]: =\n",
            "R[write to console]: =\n",
            "R[write to console]: =\n",
            "R[write to console]: =\n",
            "R[write to console]: =\n",
            "R[write to console]: =\n",
            "R[write to console]: =\n",
            "R[write to console]: =\n",
            "R[write to console]: =\n",
            "R[write to console]: =\n",
            "R[write to console]: =\n",
            "R[write to console]: =\n",
            "R[write to console]: =\n",
            "R[write to console]: =\n",
            "R[write to console]: =\n",
            "R[write to console]: =\n",
            "R[write to console]: =\n",
            "R[write to console]: =\n",
            "R[write to console]: =\n",
            "R[write to console]: =\n",
            "R[write to console]: =\n",
            "R[write to console]: =\n",
            "R[write to console]: =\n",
            "R[write to console]: =\n",
            "R[write to console]: =\n",
            "R[write to console]: =\n",
            "R[write to console]: =\n",
            "R[write to console]: =\n",
            "R[write to console]: =\n",
            "R[write to console]: =\n",
            "R[write to console]: =\n",
            "R[write to console]: =\n",
            "R[write to console]: =\n",
            "R[write to console]: =\n",
            "R[write to console]: =\n",
            "R[write to console]: =\n",
            "R[write to console]: =\n",
            "R[write to console]: =\n",
            "R[write to console]: \n",
            "\n",
            "R[write to console]: downloaded 775 KB\n",
            "\n",
            "\n",
            "R[write to console]: trying URL 'https://cran.rstudio.com/src/contrib/TTR_0.24.2.tar.gz'\n",
            "\n",
            "R[write to console]: Content type 'application/x-gzip'\n",
            "R[write to console]:  length 314035 bytes (306 KB)\n",
            "\n",
            "R[write to console]: =\n",
            "R[write to console]: =\n",
            "R[write to console]: =\n",
            "R[write to console]: =\n",
            "R[write to console]: =\n",
            "R[write to console]: =\n",
            "R[write to console]: =\n",
            "R[write to console]: =\n",
            "R[write to console]: =\n",
            "R[write to console]: =\n",
            "R[write to console]: =\n",
            "R[write to console]: =\n",
            "R[write to console]: =\n",
            "R[write to console]: =\n",
            "R[write to console]: =\n",
            "R[write to console]: =\n",
            "R[write to console]: =\n",
            "R[write to console]: =\n",
            "R[write to console]: =\n",
            "R[write to console]: =\n",
            "R[write to console]: =\n",
            "R[write to console]: =\n",
            "R[write to console]: =\n",
            "R[write to console]: =\n",
            "R[write to console]: =\n",
            "R[write to console]: =\n",
            "R[write to console]: =\n",
            "R[write to console]: =\n",
            "R[write to console]: =\n",
            "R[write to console]: =\n",
            "R[write to console]: =\n",
            "R[write to console]: =\n",
            "R[write to console]: =\n",
            "R[write to console]: =\n",
            "R[write to console]: =\n",
            "R[write to console]: =\n",
            "R[write to console]: =\n",
            "R[write to console]: =\n",
            "R[write to console]: =\n",
            "R[write to console]: =\n",
            "R[write to console]: =\n",
            "R[write to console]: =\n",
            "R[write to console]: =\n",
            "R[write to console]: =\n",
            "R[write to console]: =\n",
            "R[write to console]: =\n",
            "R[write to console]: =\n",
            "R[write to console]: =\n",
            "R[write to console]: =\n",
            "R[write to console]: =\n",
            "R[write to console]: \n",
            "\n",
            "R[write to console]: downloaded 306 KB\n",
            "\n",
            "\n",
            "R[write to console]: trying URL 'https://cran.rstudio.com/src/contrib/quantmod_0.4.18.tar.gz'\n",
            "\n",
            "R[write to console]: Content type 'application/x-gzip'\n",
            "R[write to console]:  length 154512 bytes (150 KB)\n",
            "\n",
            "R[write to console]: =\n",
            "R[write to console]: =\n",
            "R[write to console]: =\n",
            "R[write to console]: =\n",
            "R[write to console]: =\n",
            "R[write to console]: =\n",
            "R[write to console]: =\n",
            "R[write to console]: =\n",
            "R[write to console]: =\n",
            "R[write to console]: =\n",
            "R[write to console]: =\n",
            "R[write to console]: =\n",
            "R[write to console]: =\n",
            "R[write to console]: =\n",
            "R[write to console]: =\n",
            "R[write to console]: =\n",
            "R[write to console]: =\n",
            "R[write to console]: =\n",
            "R[write to console]: =\n",
            "R[write to console]: =\n",
            "R[write to console]: =\n",
            "R[write to console]: =\n",
            "R[write to console]: =\n",
            "R[write to console]: =\n",
            "R[write to console]: =\n",
            "R[write to console]: =\n",
            "R[write to console]: =\n",
            "R[write to console]: =\n",
            "R[write to console]: =\n",
            "R[write to console]: =\n",
            "R[write to console]: =\n",
            "R[write to console]: =\n",
            "R[write to console]: =\n",
            "R[write to console]: =\n",
            "R[write to console]: =\n",
            "R[write to console]: =\n",
            "R[write to console]: =\n",
            "R[write to console]: =\n",
            "R[write to console]: =\n",
            "R[write to console]: =\n",
            "R[write to console]: =\n",
            "R[write to console]: =\n",
            "R[write to console]: =\n",
            "R[write to console]: =\n",
            "R[write to console]: =\n",
            "R[write to console]: =\n",
            "R[write to console]: =\n",
            "R[write to console]: =\n",
            "R[write to console]: =\n",
            "R[write to console]: =\n",
            "R[write to console]: \n",
            "\n",
            "R[write to console]: downloaded 150 KB\n",
            "\n",
            "\n",
            "R[write to console]: \n",
            "\n",
            "R[write to console]: \n",
            "R[write to console]: The downloaded source packages are in\n",
            "\t‘/tmp/RtmpRXshs3/downloaded_packages’\n",
            "R[write to console]: \n",
            "R[write to console]: \n",
            "\n",
            "R[write to console]: Installing package into ‘/usr/local/lib/R/site-library’\n",
            "(as ‘lib’ is unspecified)\n",
            "\n",
            "R[write to console]: trying URL 'https://cran.rstudio.com/src/contrib/data.table_1.14.2.tar.gz'\n",
            "\n",
            "R[write to console]: Content type 'application/x-gzip'\n",
            "R[write to console]:  length 5301817 bytes (5.1 MB)\n",
            "\n",
            "R[write to console]: =\n",
            "R[write to console]: =\n",
            "R[write to console]: =\n",
            "R[write to console]: =\n",
            "R[write to console]: =\n",
            "R[write to console]: =\n",
            "R[write to console]: =\n",
            "R[write to console]: =\n",
            "R[write to console]: =\n",
            "R[write to console]: =\n",
            "R[write to console]: =\n",
            "R[write to console]: =\n",
            "R[write to console]: =\n",
            "R[write to console]: =\n",
            "R[write to console]: =\n",
            "R[write to console]: =\n",
            "R[write to console]: =\n",
            "R[write to console]: =\n",
            "R[write to console]: =\n",
            "R[write to console]: =\n",
            "R[write to console]: =\n",
            "R[write to console]: =\n",
            "R[write to console]: =\n",
            "R[write to console]: =\n",
            "R[write to console]: =\n",
            "R[write to console]: =\n",
            "R[write to console]: =\n",
            "R[write to console]: =\n",
            "R[write to console]: =\n",
            "R[write to console]: =\n",
            "R[write to console]: =\n",
            "R[write to console]: =\n",
            "R[write to console]: =\n",
            "R[write to console]: =\n",
            "R[write to console]: =\n",
            "R[write to console]: =\n",
            "R[write to console]: =\n",
            "R[write to console]: =\n",
            "R[write to console]: =\n",
            "R[write to console]: =\n",
            "R[write to console]: =\n",
            "R[write to console]: =\n",
            "R[write to console]: =\n",
            "R[write to console]: =\n",
            "R[write to console]: =\n",
            "R[write to console]: =\n",
            "R[write to console]: =\n",
            "R[write to console]: =\n",
            "R[write to console]: =\n",
            "R[write to console]: =\n",
            "R[write to console]: \n",
            "\n",
            "R[write to console]: downloaded 5.1 MB\n",
            "\n",
            "\n",
            "R[write to console]: \n",
            "\n",
            "R[write to console]: \n",
            "R[write to console]: The downloaded source packages are in\n",
            "\t‘/tmp/RtmpRXshs3/downloaded_packages’\n",
            "R[write to console]: \n",
            "R[write to console]: \n",
            "\n",
            "R[write to console]: Installing package into ‘/usr/local/lib/R/site-library’\n",
            "(as ‘lib’ is unspecified)\n",
            "\n",
            "R[write to console]: also installing the dependency ‘quadprog’\n",
            "\n",
            "\n",
            "R[write to console]: trying URL 'https://cran.rstudio.com/src/contrib/quadprog_1.5-8.tar.gz'\n",
            "\n",
            "R[write to console]: Content type 'application/x-gzip'\n",
            "R[write to console]:  length 36141 bytes (35 KB)\n",
            "\n",
            "R[write to console]: =\n",
            "R[write to console]: =\n",
            "R[write to console]: =\n",
            "R[write to console]: =\n",
            "R[write to console]: =\n",
            "R[write to console]: =\n",
            "R[write to console]: =\n",
            "R[write to console]: =\n",
            "R[write to console]: =\n",
            "R[write to console]: =\n",
            "R[write to console]: =\n",
            "R[write to console]: =\n",
            "R[write to console]: =\n",
            "R[write to console]: =\n",
            "R[write to console]: =\n",
            "R[write to console]: =\n",
            "R[write to console]: =\n",
            "R[write to console]: =\n",
            "R[write to console]: =\n",
            "R[write to console]: =\n",
            "R[write to console]: =\n",
            "R[write to console]: =\n",
            "R[write to console]: =\n",
            "R[write to console]: =\n",
            "R[write to console]: =\n",
            "R[write to console]: =\n",
            "R[write to console]: =\n",
            "R[write to console]: =\n",
            "R[write to console]: =\n",
            "R[write to console]: =\n",
            "R[write to console]: =\n",
            "R[write to console]: =\n",
            "R[write to console]: =\n",
            "R[write to console]: =\n",
            "R[write to console]: =\n",
            "R[write to console]: =\n",
            "R[write to console]: =\n",
            "R[write to console]: =\n",
            "R[write to console]: =\n",
            "R[write to console]: =\n",
            "R[write to console]: =\n",
            "R[write to console]: =\n",
            "R[write to console]: =\n",
            "R[write to console]: =\n",
            "R[write to console]: =\n",
            "R[write to console]: =\n",
            "R[write to console]: =\n",
            "R[write to console]: =\n",
            "R[write to console]: =\n",
            "R[write to console]: =\n",
            "R[write to console]: \n",
            "\n",
            "R[write to console]: downloaded 35 KB\n",
            "\n",
            "\n",
            "R[write to console]: trying URL 'https://cran.rstudio.com/src/contrib/PerformanceAnalytics_2.0.4.tar.gz'\n",
            "\n",
            "R[write to console]: Content type 'application/x-gzip'\n",
            "R[write to console]:  length 2455098 bytes (2.3 MB)\n",
            "\n",
            "R[write to console]: =\n",
            "R[write to console]: =\n",
            "R[write to console]: =\n",
            "R[write to console]: =\n",
            "R[write to console]: =\n",
            "R[write to console]: =\n",
            "R[write to console]: =\n",
            "R[write to console]: =\n",
            "R[write to console]: =\n",
            "R[write to console]: =\n",
            "R[write to console]: =\n",
            "R[write to console]: =\n",
            "R[write to console]: =\n",
            "R[write to console]: =\n",
            "R[write to console]: =\n",
            "R[write to console]: =\n",
            "R[write to console]: =\n",
            "R[write to console]: =\n",
            "R[write to console]: =\n",
            "R[write to console]: =\n",
            "R[write to console]: =\n",
            "R[write to console]: =\n",
            "R[write to console]: =\n",
            "R[write to console]: =\n",
            "R[write to console]: =\n",
            "R[write to console]: =\n",
            "R[write to console]: =\n",
            "R[write to console]: =\n",
            "R[write to console]: =\n",
            "R[write to console]: =\n",
            "R[write to console]: =\n",
            "R[write to console]: =\n",
            "R[write to console]: =\n",
            "R[write to console]: =\n",
            "R[write to console]: =\n",
            "R[write to console]: =\n",
            "R[write to console]: =\n",
            "R[write to console]: =\n",
            "R[write to console]: =\n",
            "R[write to console]: =\n",
            "R[write to console]: =\n",
            "R[write to console]: =\n",
            "R[write to console]: =\n",
            "R[write to console]: =\n",
            "R[write to console]: =\n",
            "R[write to console]: =\n",
            "R[write to console]: =\n",
            "R[write to console]: =\n",
            "R[write to console]: =\n",
            "R[write to console]: =\n",
            "R[write to console]: \n",
            "\n",
            "R[write to console]: downloaded 2.3 MB\n",
            "\n",
            "\n",
            "R[write to console]: \n",
            "\n",
            "R[write to console]: \n",
            "R[write to console]: The downloaded source packages are in\n",
            "\t‘/tmp/RtmpRXshs3/downloaded_packages’\n",
            "R[write to console]: \n",
            "R[write to console]: \n",
            "\n",
            "R[write to console]: Installing package into ‘/usr/local/lib/R/site-library’\n",
            "(as ‘lib’ is unspecified)\n",
            "\n",
            "R[write to console]: trying URL 'https://cran.rstudio.com/src/contrib/Deriv_4.1.3.tar.gz'\n",
            "\n",
            "R[write to console]: Content type 'application/x-gzip'\n",
            "R[write to console]:  length 37214 bytes (36 KB)\n",
            "\n",
            "R[write to console]: =\n",
            "R[write to console]: =\n",
            "R[write to console]: =\n",
            "R[write to console]: =\n",
            "R[write to console]: =\n",
            "R[write to console]: =\n",
            "R[write to console]: =\n",
            "R[write to console]: =\n",
            "R[write to console]: =\n",
            "R[write to console]: =\n",
            "R[write to console]: =\n",
            "R[write to console]: =\n",
            "R[write to console]: =\n",
            "R[write to console]: =\n",
            "R[write to console]: =\n",
            "R[write to console]: =\n",
            "R[write to console]: =\n",
            "R[write to console]: =\n",
            "R[write to console]: =\n",
            "R[write to console]: =\n",
            "R[write to console]: =\n",
            "R[write to console]: =\n",
            "R[write to console]: =\n",
            "R[write to console]: =\n",
            "R[write to console]: =\n",
            "R[write to console]: =\n",
            "R[write to console]: =\n",
            "R[write to console]: =\n",
            "R[write to console]: =\n",
            "R[write to console]: =\n",
            "R[write to console]: =\n",
            "R[write to console]: =\n",
            "R[write to console]: =\n",
            "R[write to console]: =\n",
            "R[write to console]: =\n",
            "R[write to console]: =\n",
            "R[write to console]: =\n",
            "R[write to console]: =\n",
            "R[write to console]: =\n",
            "R[write to console]: =\n",
            "R[write to console]: =\n",
            "R[write to console]: =\n",
            "R[write to console]: =\n",
            "R[write to console]: =\n",
            "R[write to console]: =\n",
            "R[write to console]: =\n",
            "R[write to console]: =\n",
            "R[write to console]: =\n",
            "R[write to console]: =\n",
            "R[write to console]: =\n",
            "R[write to console]: \n",
            "\n",
            "R[write to console]: downloaded 36 KB\n",
            "\n",
            "\n",
            "R[write to console]: \n",
            "\n",
            "R[write to console]: \n",
            "R[write to console]: The downloaded source packages are in\n",
            "\t‘/tmp/RtmpRXshs3/downloaded_packages’\n",
            "R[write to console]: \n",
            "R[write to console]: \n",
            "\n",
            "R[write to console]: Loading required package: xts\n",
            "\n",
            "R[write to console]: Loading required package: zoo\n",
            "\n",
            "R[write to console]: \n",
            "Attaching package: ‘zoo’\n",
            "\n",
            "\n",
            "R[write to console]: The following objects are masked from ‘package:base’:\n",
            "\n",
            "    as.Date, as.Date.numeric\n",
            "\n",
            "\n",
            "R[write to console]: Loading required package: TTR\n",
            "\n",
            "R[write to console]: Registered S3 method overwritten by 'quantmod':\n",
            "  method            from\n",
            "  as.zoo.data.frame zoo \n",
            "\n",
            "R[write to console]: data.table 1.14.2 using 1 threads (see ?getDTthreads).  Latest news: r-datatable.com\n",
            "\n",
            "R[write to console]: \n",
            "Attaching package: ‘data.table’\n",
            "\n",
            "\n",
            "R[write to console]: The following objects are masked from ‘package:xts’:\n",
            "\n",
            "    first, last\n",
            "\n",
            "\n",
            "R[write to console]: \n",
            "Attaching package: ‘PerformanceAnalytics’\n",
            "\n",
            "\n",
            "R[write to console]: The following object is masked from ‘package:graphics’:\n",
            "\n",
            "    legend\n",
            "\n",
            "\n",
            "R[write to console]: \n",
            "Attaching package: ‘dplyr’\n",
            "\n",
            "\n",
            "R[write to console]: The following objects are masked from ‘package:data.table’:\n",
            "\n",
            "    between, first, last\n",
            "\n",
            "\n",
            "R[write to console]: The following objects are masked from ‘package:xts’:\n",
            "\n",
            "    first, last\n",
            "\n",
            "\n",
            "R[write to console]: The following objects are masked from ‘package:stats’:\n",
            "\n",
            "    filter, lag\n",
            "\n",
            "\n",
            "R[write to console]: The following objects are masked from ‘package:base’:\n",
            "\n",
            "    intersect, setdiff, setequal, union\n",
            "\n",
            "\n"
          ]
        }
      ]
    },
    {
      "cell_type": "code",
      "metadata": {
        "id": "cw7IybAurRan"
      },
      "source": [
        "\n",
        "%%R\n",
        "## GENERAMOS LAS FUNCIONES QUE NECESITAREMOS:\n",
        "\n",
        "# Función de interpolación de tasas por el método alamabrada\n",
        "talamb=function(nodos,curva,plazos){\n",
        "  n=max(ncol(plazos),1)\n",
        "  m=max(ncol(nodos),1)\n",
        "  TC=matrix(0,1,n)\n",
        "  TL=matrix(0,1,n)\n",
        "  TF=matrix(0,1,n)\n",
        "  for (j in 1:n){\n",
        "    i=1\n",
        "    repeat\n",
        "    {\n",
        "      if(nodos[i]<= plazos[j] && plazos[j] <=nodos[i+1])\n",
        "      {\n",
        "        TC[j]=curva[i]\n",
        "        TL[j]=curva[i+1]\n",
        "        TF[j]=((((1+TL[j]*nodos[i+1]/360)/(1+TC[j]*nodos[i]/360))^((plazos[j]-nodos[i])/(nodos[i+1]-nodos[i]))*(1+TC[j]*nodos[i]/360))-1)*360/plazos[j]\n",
        "        break\n",
        "      }\n",
        "      else if (plazos[j]<nodos[1])\n",
        "      {\n",
        "        TC[j]=curva[1]\n",
        "        TL[j]=curva[1]\n",
        "        TF[j]=curva[1]\n",
        "        break\n",
        "      }\n",
        "      else if (plazos[j]>nodos[m])\n",
        "      {\n",
        "        TC[j]=curva[m]\n",
        "        TL[j]=curva[m]\n",
        "        TF[j]=curva[m]\n",
        "        break\n",
        "      }\n",
        "      else\n",
        "      {i=i+1}\n",
        "    }\n",
        "  }\n",
        "  as.matrix(t(as.numeric(rbind(TF))))\n",
        "}\n",
        "\n",
        "# Función para diagonalizar un vector\n",
        "diagv=function(x)\t{\n",
        "  n01=nrow(as.matrix(x))\n",
        "  m01=ncol(as.matrix(x))\n",
        "  dimmax=max(n01,m01)\n",
        "  res=matrix(0,dimmax,dimmax)\n",
        "  for (i in 1:dimmax){\n",
        "    res[i,i]=x[i]\n",
        "  }\n",
        "  res\n",
        "}\n",
        "\n",
        "#Función de cuantil más cercano\n",
        "equantile <- function(v,p=.5,ns=nrow(as.matrix(v))) \n",
        "{ \n",
        "  if ( !is.numeric(p) || any( p<0 | p>1) ) \n",
        "    stop(\"Percentil tiene que ser 0<=p<=1\") \n",
        "  ranking <- order(v) \n",
        "  vw=matrix(0,ns,1)\n",
        "  vw[1:ns]=seq(1/ns,ns)  \n",
        "  sumw <- cumsum(vw[ranking]) \n",
        "  plist <- sumw / sumw[ length(sumw) ] \n",
        "  v [ ranking [ which.max( plist >= p ) ] ]  \n",
        "} \n",
        "\n",
        "\n",
        "wquantile <- function(v,w=rep(1,length(v)),p=.5) \n",
        "{ \n",
        "  if ( !is.numeric(w) || length(v) != length(w) ) \n",
        "    stop(\"Los valores y los pesos tienen que tener misma longitud\") \n",
        "  if ( !is.numeric(p) || any( p<0 | p>1) ) \n",
        "    stop(\"Percentil tiene que ser 0<=p<=1\") \n",
        "  if ( min(w) < 0 ) stop(\"Los pesos tiene que ser mayores que 0\") \n",
        "  ranking <- order(v) \n",
        "  sumw <- cumsum(w[ranking]) \n",
        "  plist <- sumw / sumw[ length(sumw) ] \n",
        "  v [ ranking [ which.max( plist >= p ) ] ]  \n",
        "}\n",
        "\n",
        "#CVaR con alisado\n",
        "wcvar <- function(v,w=rep(1,length(v)),p=.5) \n",
        "{ \n",
        "  if ( !is.numeric(w) || length(v) != length(w) ) \n",
        "    stop(\"Los valores y los pesos tienen que tener misma longitud\") \n",
        "  if ( !is.numeric(p) || any( p<0 | p>1) ) \n",
        "    stop(\"Percentil tiene que ser 0<=p<=1\") \n",
        "  if ( min(w) < 0 ) stop(\"Los pesos tiene que ser mayores que 0\") \n",
        "  ranking <- order(v) \n",
        "  sumw <- cumsum(w[ranking]) \n",
        "  plist <- sumw / sumw[ length(sumw) ] \n",
        "  loss= v [ ranking [ which( plist < p ) ] ]  \n",
        "  esc=w [ ranking [ which( plist < p ) ] ]  \n",
        "  sum(loss*esc)/(sum(esc))\n",
        "}"
      ],
      "execution_count": 401,
      "outputs": []
    },
    {
      "cell_type": "markdown",
      "metadata": {
        "id": "5JCrPvE20dqB"
      },
      "source": [
        "## Para el alisado"
      ]
    },
    {
      "cell_type": "code",
      "metadata": {
        "id": "XfWhHwda0iFJ"
      },
      "source": [
        "%%R\n",
        "w0 <- 0.05 #@param {type:\"number\"}"
      ],
      "execution_count": 402,
      "outputs": []
    },
    {
      "cell_type": "code",
      "metadata": {
        "id": "OIdUwSbT37cv"
      },
      "source": [
        "%%R\n",
        "lambda =uniroot(function(x) w0*(1-x^(n))/(1-x)-1, c(0,0.99), tol = 1e-28)$root\n",
        "\n",
        "#generamos la función que genera \"n\" escenarios con base en w0 y lambda\n",
        "genera_esc=function(lamda,w0,n)\n",
        "{\n",
        "  p_esc=matrix(0,n,1)\n",
        "  for (i in (1:n))\n",
        "  {\n",
        "    p_esc[i]=w0*lambda^(i-1)\n",
        "  }\n",
        "  p_esc\n",
        "}"
      ],
      "execution_count": null,
      "outputs": []
    },
    {
      "cell_type": "code",
      "metadata": {
        "id": "3KSEof6j02dw"
      },
      "source": [
        "%%R\n",
        "#VaR con alisado\n",
        "\n",
        "wquantile <- function(v,w=rep(1,length(v)),p=.5) \n",
        "{ \n",
        "  if ( !is.numeric(w) || length(v) != length(w) ) \n",
        "    stop(\"Los valores y los pesos tienen que tener misma longitud\") \n",
        "  if ( !is.numeric(p) || any( p<0 | p>1) ) \n",
        "    stop(\"Percentil tiene que ser 0<=p<=1\") \n",
        "  if ( min(w) < 0 ) stop(\"Los pesos tiene que ser mayores que 0\") \n",
        "  ranking <- order(v) \n",
        "  sumw <- cumsum(w[ranking]) \n",
        "  plist <- sumw / sumw[ length(sumw) ] \n",
        "  v [ ranking [ which.max( plist >= p ) ] ]  \n",
        "} \n",
        "\n",
        "#CVaR con alisado\n",
        "wcvar <- function(v,w=rep(1,length(v)),p=.5) \n",
        "{ \n",
        "  if ( !is.numeric(w) || length(v) != length(w) ) \n",
        "    stop(\"Los valores y los pesos tienen que tener misma longitud\") \n",
        "  if ( !is.numeric(p) || any( p<0 | p>1) ) \n",
        "    stop(\"Percentil tiene que ser 0<=p<=1\") \n",
        "  if ( min(w) < 0 ) stop(\"Los pesos tiene que ser mayores que 0\") \n",
        "  ranking <- order(v) \n",
        "  sumw <- cumsum(w[ranking]) \n",
        "  plist <- sumw / sumw[ length(sumw) ] \n",
        "  loss= v [ ranking [ which( plist <= p ) ] ]  \n",
        "  esc=w [ ranking [ which( plist <= p ) ] ]  \n",
        "  sum(loss*esc)/(sum(esc))\n",
        "} \n"
      ],
      "execution_count": 403,
      "outputs": []
    },
    {
      "cell_type": "markdown",
      "metadata": {
        "id": "hybmk3fshL_H"
      },
      "source": [
        "## **Definición de parámetros para valorar**"
      ]
    },
    {
      "cell_type": "code",
      "metadata": {
        "id": "H9At0oyxiWy_"
      },
      "source": [
        "%%R\n",
        "\n",
        "fval=as.Date(\"20200313\",format=\"%Y%m%d\") #Fecha de valoración\n",
        "itpl=0 #poner 0 si se quiere interpolación lineal o 1 si se quiere tasa alambrada\n",
        "alpha=0.98 #Nivel de confianza para obtener estimaciones de riesgo"
      ],
      "execution_count": 404,
      "outputs": []
    },
    {
      "cell_type": "markdown",
      "metadata": {
        "id": "QaQxAocklLsW"
      },
      "source": [
        "### Inciso 1\n",
        "1000 acciones de GCarso, -5000 de AméricaMóvil y 1200 WalMart. *Todas de la BMV*"
      ]
    },
    {
      "cell_type": "code",
      "metadata": {
        "id": "OQ0mLoCplhnH"
      },
      "source": [
        "%%R\n",
        "Symbols<-c  (\"AMXL.MX\", \"GCARSOA1.MX\", \"WALMEX.MX\" )#Claves de cotización de las emisoras, en orden alfabético\n",
        "pos_eq=c(-5000,1000,1200) #Monto inicial invertido en acciones\n",
        "nh=3660 #Días de historia"
      ],
      "execution_count": 405,
      "outputs": []
    },
    {
      "cell_type": "markdown",
      "metadata": {
        "id": "zY4j4mF_gU_l"
      },
      "source": [
        "### Inciso 2\n",
        "1500 dólares (peso dólar), 700 euros, y -600 libras esterlinas."
      ]
    },
    {
      "cell_type": "code",
      "metadata": {
        "id": "2pU6zJv9gpmm"
      },
      "source": [
        "%%R\n",
        "SymbolsFX<-c(\"EURUSD=X\",\"GBPUSD=X\",\"USDMXN=X\" ) #Simbolos en orden alfabetico\n",
        "pos_fx=c(700,-600,1500) #Monto incial invertido en divisas\n",
        "nh=3660 #días de historia\n"
      ],
      "execution_count": 406,
      "outputs": []
    },
    {
      "cell_type": "markdown",
      "metadata": {
        "id": "hq_OoINPhiXh"
      },
      "source": [
        "### Inciso 3\n",
        "2 bonos largos, uno cupón cero de cetes (con la curva guber) con nocional de 1500 vencimiento de 180 días, un bono M con tasa fija de 4.5% con un cupon de 4.05% anual vencimiento de 3600 días y un bono corto 1000 bondes con plazo 707 con cupón que paga 28 días (calcular cupón basado en curva de fondeo y descontar con la curva correspondiente). "
      ]
    },
    {
      "cell_type": "code",
      "metadata": {
        "id": "jdBAhRYqiFOf"
      },
      "source": [
        "%%R\n",
        "\n",
        "#CETES\n",
        "base=\"RiesgosFinancieros/2022-1/Tarea/tasa_guber.txt\"\n",
        "ven_cete = cbind(180, 0)\n",
        "contratos_cete = cbind(1500, 0)\n",
        "nominal_cete = 10\n",
        "\n",
        "\n",
        "#BONO M CON TASA FIJA\n",
        "btasadesc=\"RiesgosFinancieros/2022-1/Tarea/tasa_yield.txt\"\n",
        "tf = cbind(0.045,0)\n",
        "tfcupon = cbind(0.0405, 0)\n",
        "ven_bonom = cbind(3600, 0)\n",
        "plazocupon_bonom = cbind(182, 0)\n",
        "contratos_bonom = cbind(1000, 0)\n",
        "nominal_bonom = 100\n",
        "\n",
        "#BONDES D\n",
        "btasadescst=\"RiesgosFinancieros/2022-1/Tarea/tasa_guber_st.txt\"\n",
        "btasafondeo=\"RiesgosFinancieros/2022-1/Tarea/tfondeo.txt\"\n",
        "plazos_bdm= cbind(707, 707) #Vencimiento del bono\n",
        "plazocupon_bdm= cbind(28, 28) #plazos_bdm fijos de cada cupón\n",
        "contratos_bdm = cbind(1000, 0)\n",
        "nominal_bdm=1000"
      ],
      "execution_count": 407,
      "outputs": []
    },
    {
      "cell_type": "markdown",
      "metadata": {
        "id": "DxRUO-N7BcYx"
      },
      "source": [
        "###Inciso 4\n",
        "100 contratos de compra de futuros de peso dólar con un strike de 20.83 vencimiento de 5 días, y 50 contratos\n",
        "de venta de futuros del IPC con strike de 49525 vencimiento de 53 días."
      ]
    },
    {
      "cell_type": "code",
      "metadata": {
        "id": "EmZRWzfDBldl"
      },
      "source": [
        "%%R\n",
        "#FORWARDS TDC\n",
        "bext=\"RiesgosFinancieros/2022-1/Tarea/tasa_libor.txt\"\n",
        "bdom=\"RiesgosFinancieros/2022-1/Tarea/tasa_fwd.txt\"\n",
        "SymbolsFX_ftdc<-c(\"USDMXN=X\", \"GBPUSD=X\" ) #tienen que ir en orden alfabético\n",
        "plazos_fwd=cbind(5)\n",
        "contratos_fwd=cbind(100)\n",
        "kst_fwd=cbind(20.83)\n",
        "nominal_fwd=1\n",
        "yext=1 #si se carga información de yahoo en la fecha definida por fval o SymbolsFX, en caso contrario se utiliza información que se tendrá que cargar de tasas_spot.txt\n",
        "trlib=1 #1 si la curva libor viene a 182 0 si no.\n",
        "\n",
        "#FORWARDS DE IPC\n",
        "#Descontamos con gubernamental\n",
        "base=\"RiesgosFinancieros/2022-1/Tarea/tasa_guber.txt\"\n",
        "SymbolsEQ_find<-c(\"^MXX\", \"GCARSOA1.MX\" ) #tienen que ir en orden alfabético\n",
        "plazos_fwd_ind=cbind(53)\n",
        "contratos_fwd_ind=cbind(50)\n",
        "kst_fwd_ind=cbind(49525)\n",
        "nominal_fwd_ind=1"
      ],
      "execution_count": 408,
      "outputs": []
    },
    {
      "cell_type": "markdown",
      "metadata": {
        "id": "rgn7UAur1CvH"
      },
      "source": [
        "### Inciso 5\n",
        "\n",
        "Un swap largo nocional de 1600 pagando tasa fija de 4.6% anual (cada 28 días) y recibiendo tasa flotante de la curva TIIE vencimiento de 588 días, un swap corto con nocional de 1200 pagando tasa variable de la TIIE y recibiendo fija de 4.9% vencimiento de 270."
      ]
    },
    {
      "cell_type": "code",
      "metadata": {
        "id": "nFGCZQjk1izg"
      },
      "source": [
        "%%R\n",
        "btasadesc_sw=\"RiesgosFinancieros/2022-1/Tarea/tasa_TIIE_SW_OP.txt\"\n",
        "btasacupvar_sw=\"RiesgosFinancieros/2022-1/Tarea/tasa_DIRS_SW_OP.txt\"\n",
        "tasafija_sw=cbind(0.046,0.049) #se establece la tasa fija a pagar para cada swap\n",
        "plazos_sw=cbind(588,270) #se establece el número de días que vivirá el swap\n",
        "plazocupon_sw=cbind(28,28) #se establece el número de días que se pagará cada cupón\n",
        "contratos_sw=cbind(1600,-1200) #se establece el número de contratos_sw de cada swap\n",
        "nominal_sw=cbind(1, 1) #se establece el nominal_sw de cada swap\n",
        "por_sw=cbind(0,1) #se establece 0 si se paga tasa fija y 1 si se paga tasa variable"
      ],
      "execution_count": 409,
      "outputs": []
    },
    {
      "cell_type": "markdown",
      "metadata": {
        "id": "-Xzs8r00hKoY"
      },
      "source": [
        "### Inciso 6\n",
        "Dos opciones europeas, una de tasa de interés larga call con strike de 5.8 % vencimiento de 1700 días 1000\n",
        "contratos, y otra put larga de tasa de interés con strike de 6.0 % de la tiie nocional de 500 contratos vencimiento\n",
        "700 días. (se valuará basado en las superficies de volatilidad si es in o out the money y en las curvas de tasa de interés TIIE o Pagarés)."
      ]
    },
    {
      "cell_type": "code",
      "metadata": {
        "id": "s5lqsgLLhtKM"
      },
      "source": [
        "%%R\n",
        "btasadesc_oir=\"RiesgosFinancieros/2022-1/Tarea/tasa_TIIE_SW_OP.txt\" #Tasa de descuento\n",
        "btasaspot_oir=\"RiesgosFinancieros/2022-1/Tarea/tasa_DIRS_SW_OP.txt\" #Tasa Spot\n",
        "bvolspot_oir=\"RiesgosFinancieros/2022-1/Tarea/tvoltiie_opc.txt\" #Volatilidad\n",
        "plazos_oir=cbind( 1700, 700) #T-t\n",
        "pr_oir=28 #plazo de referencia  \n",
        "dct_oir=360 #d_base\n",
        "cp_oir=cbind(1,0) #si es call (cap) o put (floor) \n",
        "K_oir=cbind( 0.058,0.06) #Strike\n",
        "contratos_oir=cbind(1000,500)\n",
        "nominal_oir=1\n",
        "cs_oir=1 #1 si es continua la tasa 0 si es simple"
      ],
      "execution_count": 410,
      "outputs": []
    },
    {
      "cell_type": "markdown",
      "metadata": {
        "id": "En1RuybCrHca"
      },
      "source": [
        "## **Carga de datos**"
      ]
    },
    {
      "cell_type": "markdown",
      "metadata": {
        "id": "cJbj6vvQNFbb"
      },
      "source": [
        "### Inciso 1"
      ]
    },
    {
      "cell_type": "code",
      "metadata": {
        "id": "c-RlR_3gNYOp"
      },
      "source": [
        "%%R\n",
        "start_date=Sys.Date()-nh #fecha inicial\n",
        "dataEnv<-new.env()\n",
        "getSymbols.yahoo(Symbols,env=dataEnv,from=start_date)\n",
        "\n",
        "bt.prep(dataEnv,align='remove.na',fill.gaps = T)\n",
        "stock_prices = dataEnv$prices"
      ],
      "execution_count": 411,
      "outputs": []
    },
    {
      "cell_type": "markdown",
      "metadata": {
        "id": "O8JTi9Vy2RIy"
      },
      "source": [
        "###Inciso 2"
      ]
    },
    {
      "cell_type": "code",
      "metadata": {
        "id": "ah56LOm92WU2"
      },
      "source": [
        "%%R\n",
        "  start_date=Sys.Date()-nh #fecha inicial\n",
        "  dataEnvFX<-new.env() #Creamos donde guardar los datos\n",
        "  getSymbols.yahoo(SymbolsFX,env=dataEnvFX,from=start_date) #Obtenemos los datps\n",
        "  bt.prep(dataEnvFX,align='remove.na',fill.gaps=T) #Limpieza de datos\n",
        "  stock_pricesFX = dataEnvFX$prices #Nos da el precio\n",
        "\n",
        "  stock_pricesFX=cbind(stock_pricesFX[,1,with=F]*stock_pricesFX[,3,with=F],stock_pricesFX[,2,with=F]*stock_pricesFX[,3,with=F],stock_pricesFX[,3,with=F])\n",
        "stock_prices_EQFX=merge(stock_pricesFX,stock_prices,join = \"inner\")\n",
        "\n",
        "aux2=data.table(Date=as.Date(index(stock_prices_EQFX)),coredata(stock_prices_EQFX))\n"
      ],
      "execution_count": 412,
      "outputs": []
    },
    {
      "cell_type": "markdown",
      "metadata": {
        "id": "Y7rQMdI7638_"
      },
      "source": [
        "### Inciso 3"
      ]
    },
    {
      "cell_type": "code",
      "metadata": {
        "id": "vlIKUqjKspKk",
        "colab": {
          "base_uri": "https://localhost:8080/"
        },
        "outputId": "bc763129-066c-4bc8-c39b-b9be559ddf6c"
      },
      "source": [
        "%%R\n",
        "\n",
        "# CETES\n",
        "data_cetes<-read.table(base)\n",
        "n_gov<-nrow(data_cetes)\n",
        "m_gov=ncol(data_cetes)\n",
        "x_orig_gov=data.frame(data_cetes[2:n_gov,1:m_gov])\n",
        "x_orig_gov=as.data.table(mutate(data_cetes[2:n_gov,1:m_gov],Date=as.Date(V1,format=\"%Y%m%d\")))\n",
        "x_orig_gov=x_orig_gov%>%select(-V1)\n",
        "nodos_gov=data.frame(data_cetes[1,2:m_gov])\n",
        "\n",
        "# BONO M\n",
        "data_m<-read.table(btasadesc)\n",
        "n_bonom<-nrow(data_m)\n",
        "m_bonom=ncol(data_m)\n",
        "x_orig_bonom=data.frame(data_m[2:n_bonom,1:m_bonom])\n",
        "x_orig_bonom=as.data.table(mutate(data_m[2:n_bonom,1:m_bonom],Date=as.Date(V1,format=\"%Y%m%d\")))\n",
        "x_orig_bonom=x_orig_bonom%>%select(-V1)\n",
        "nodos_bonom=data.frame(data_m[1,2:m_bonom])\n",
        "\n",
        "# BONDE D\n",
        "\n",
        "data1<-read.table(base)\n",
        "n<-nrow(data1)\n",
        "m_bd=ncol(data1)\n",
        "X_orig_bd=as.data.table(mutate(data1[2:n,1:m_bd],Date=as.Date(V1,format=\"%Y%m%d\")))\n",
        "X_orig_bd%>%select(-V1)\n",
        "\n",
        "X1_orig=mutate(data.frame(data1[2:n,1:m_bd]), V1=as.Date(V1,format=\"%Y%m%d\"))\n",
        "print(head(X1_orig[,1:4]))\n",
        "nodos=data.frame(data1[1,2:m_bd])\n",
        "n=n-1\n",
        "\n",
        "data3<-read.table(btasadescst)\n",
        "n3<-nrow(data3)\n",
        "m3_bd=ncol(data3)\n",
        "X3_orig_bd=as.data.table(mutate(data3[2:n,1:m3_bd],Date=as.Date(V1,format=\"%Y%m%d\")))\n",
        "X3_orig_bd=X3_orig_bd%>%select(-V1)\n",
        "\n",
        "X3a_orig=mutate(data.frame(data1[2:n,1:m_bd]), V1=as.Date(V1,format=\"%Y%m%d\"))\n",
        "nodos3_bd=data.frame(data3[1,2:m3_bd])\n",
        "n3=n3-1\n",
        "\n",
        "data2<-read.table(btasafondeo)\n",
        "n2<-nrow(data2)\n",
        "X2_orig_bd=data.frame(data2[2:n2,1:2])\n",
        "print(head(X2_orig_bd))\n",
        "X2_orig_bd=mutate(X2_orig_bd, V1=as.Date(V1,format=\"%Y%m%d\"), Date=as.Date(V1,format=\"%Y%m%d\"), V2=as.numeric(as.character(V2)))\n",
        "tfh=seq(min(X2_orig_bd$V1), max(X2_orig_bd$V1), \"days\") #sucesión de dias para tasa fondeo\n",
        "tfhd=data.frame(ID=1:count(tfh),fecha=tfh)\n",
        "\n",
        "#Cruzar la sucesión de todos los días versus el de tasa de fondeo\n",
        "tfhd=setDT(tfhd)[, Date := tfh][order(-Date)]\n",
        "X2_orig_bd=setDT(X2_orig_bd)[, Date := V1][order(-Date)]\n",
        "# rolling join unión por rolling, rellena las fechas que faltaban con el último valor conocido \"roll=Inf\"\n",
        "X2_orig_bd=X2_orig_bd[tfhd, on = .(Date), roll = Inf] \n",
        "print(head(X2_orig_bd))\n",
        "#buscar fecha de valuación en tfondeo\n",
        "tf_act=X2_orig_bd[fecha==fval,]$V2/100\n",
        "tf_int=X2_orig_bd[fecha<=fval & fecha>=(fval-plazocupon_bdm[1])]$V2/100\n",
        "\n",
        "X1_orig=setDT(X1_orig)[, Date:= V1][order(-Date)] #Para alinear con valor presente y tasa de fondeo.\n"
      ],
      "execution_count": 413,
      "outputs": [
        {
          "output_type": "stream",
          "name": "stdout",
          "text": [
            "          V1         V2         V3         V4\n",
            "2 2020-03-06 0.07906000 0.07808887 0.07709264\n",
            "3 2020-03-05 0.07722139 0.07808887 0.07709264\n",
            "4 2020-03-04 0.07722139 0.07808887 0.07744709\n",
            "5 2020-03-03 0.07813334 0.07808887 0.07744709\n",
            "6 2020-03-02 0.07722139 0.07808887 0.07744709\n",
            "7 2020-02-28 0.07722139 0.07802004 0.07744709\n",
            "        V1    V2\n",
            "2 19981103 30.75\n",
            "3 19981104  29.2\n",
            "4 19981105  29.8\n",
            "5 19981106  31.3\n",
            "6 19981109  32.9\n",
            "7 19981110 34.54\n",
            "           V1   V2       Date   ID      fecha\n",
            "1: 2020-03-13 7.06 2020-03-13 7802 2020-03-13\n",
            "2: 2020-03-12 7.10 2020-03-12 7801 2020-03-12\n",
            "3: 2020-03-11 7.02 2020-03-11 7800 2020-03-11\n",
            "4: 2020-03-10 6.98 2020-03-10 7799 2020-03-10\n",
            "5: 2020-03-09 7.05 2020-03-09 7798 2020-03-09\n",
            "6: 2020-03-06 7.04 2020-03-08 7797 2020-03-08\n"
          ]
        }
      ]
    },
    {
      "cell_type": "code",
      "metadata": {
        "colab": {
          "base_uri": "https://localhost:8080/"
        },
        "id": "27vIbthgQceF",
        "outputId": "0964f039-46ca-4c68-b752-cf906677565a"
      },
      "source": [
        "%%R\n",
        "X2_orig_bd[fecha==fval,]$V2/100"
      ],
      "execution_count": 414,
      "outputs": [
        {
          "output_type": "stream",
          "name": "stdout",
          "text": [
            "[1] 0.0706\n"
          ]
        }
      ]
    },
    {
      "cell_type": "markdown",
      "metadata": {
        "id": "VjEeGSB2Fb3F"
      },
      "source": [
        "###Inciso 4\n"
      ]
    },
    {
      "cell_type": "code",
      "metadata": {
        "id": "YyykdGhOF6lt",
        "colab": {
          "base_uri": "https://localhost:8080/"
        },
        "outputId": "3d88adee-3c8d-4c8b-cf09-35d1baaa1e3c"
      },
      "source": [
        "%%R\n",
        "#CARGA DE DATOS DE  FORWARDS DE TDC\n",
        "#datas\n",
        "#data<-read.table(\"tasa_tiie.txt\")\n",
        "data1<-read.table(bext)\n",
        "data2<-read.table(bdom)\n",
        "\n",
        "########minimos para parametrizar\n",
        "n1=nrow(data1)\n",
        "n2=nrow(data2)\n",
        "m1_ftdc=ncol(data1)\n",
        "m2_ftdc=ncol(data2)\n",
        "n=min(n1,n2)-1\n",
        "###NODOS###\n",
        "nodos1_ftdc=data.frame(data1[1,2:m1_ftdc])\n",
        "nodos2_ftdc=data.frame(data2[1,2:m2_ftdc])\n",
        "####MATRICES DEL MISMO TAMAÑO MENOS DOLAR\n",
        "\n",
        "x1_ftdc=as.data.table(mutate(data1[2:n,1:m1_ftdc],Date=as.Date(V1,format=\"%Y%m%d\")))\n",
        "\n",
        "x1_ftdc=x1_ftdc%>%select(-V1)\n",
        "x2_ftdc=as.data.table(mutate(data2[2:n,1:m2_ftdc],Date=as.Date(V1,format=\"%Y%m%d\")))\n",
        "x2_ftdc=x2_ftdc%>%select(-V1)\n",
        "print(x2_ftdc[1:20,])\n",
        "\n",
        "###Para Dolar\n",
        "\n",
        "if (yext==1)\n",
        "{\n",
        "#Cargar los símbolos de yahoo finance para FX\n",
        "  start_date=fval-3660 #fecha inicial\n",
        "\n",
        "\n",
        "  \n",
        "#Creación del objeto para guardar los datos\n",
        "  dataEnvFX_ftdc<-new.env()\n",
        "  \n",
        "#obtener los datos\n",
        "  getSymbols.yahoo(SymbolsFX_ftdc,env=dataEnvFX_ftdc,from=start_date, to=(fval))\n",
        "#limpiarlos, alinearnos y quedarnos con el precio de cierre \n",
        "  bt.prep(dataEnvFX_ftdc,align='remove.na',fill.gaps=T)\n",
        "  \n",
        "#muestra de datos\n",
        "  head(dataEnvFX_ftdc$prices[,2])\n",
        "  \n",
        "#Nos quedamos con los precios\n",
        "  X3_ftdc=data.table(Date=as.Date(index(dataEnvFX_ftdc$prices[,2])),coredata(dataEnvFX_ftdc$prices[,2]))\n",
        "} else  \n",
        "{ \n",
        "data3<-read.table(btsp)\n",
        "print(head(data3))\n",
        "n3<-nrow(data3)\n",
        "m3<-ncol(data3)\n",
        "X3=data.table(as.matrix(as.double(as.matrix(data3[2:(n+1),m3]))))\n",
        "X3_find=as.data.table(mutate(data3[2:(n+1),1:m3],Date=as.Date(V1,format=\"%Y%m%d\")))\n",
        "}\n",
        "\n",
        "\n",
        "# CARGA DE DATOS DE  FORWARD DE IPC\n",
        "\n",
        "data<-read.table(base)\n",
        "n<-nrow(data)\n",
        "m_gov=ncol(data)\n",
        "#x_orig_gov=data.frame(data[2:n,1:m_gov])\n",
        "x_orig_gov=as.data.table(mutate(data[2:n,1:m_gov],Date=as.Date(V1,format=\"%Y%m%d\")))\n",
        "x_orig_gov=x_orig_gov%>%select(-V1)\n",
        "nodos_gov=data.frame(data[1,2:m_gov])\n",
        "\n",
        "  #Cargar los símbolos de yahoo finance para EQ\n",
        "  start_date=fval-nh #fecha inicial\n",
        "  \n",
        "  #Creación del objeto para guardar los datos\n",
        "  dataEnvEQ<-new.env()\n",
        "  \n",
        "  #obtener los datos\n",
        "  getSymbols.yahoo(SymbolsEQ_find,env=dataEnvEQ,from=start_date, to=(fval))\n",
        "  #limpiarlos, alinearnos y quedarnos con el precio de cierre \n",
        "  bt.prep(dataEnvEQ,align='remove.na',fill.gaps=T)\n",
        "  \n",
        "  #muestra de datos\n",
        "#  head(dataEnvEQ$prices)\n",
        "  \n",
        "  #Nos quedamos con los precios\n",
        "  X3_find=data.table(Date=as.Date(index(dataEnvEQ$prices[,2])),coredata(dataEnvEQ$prices[,2]))"
      ],
      "execution_count": 415,
      "outputs": [
        {
          "output_type": "stream",
          "name": "stdout",
          "text": [
            "          V2       V3       V4       V5       V6       V7       V8       V9\n",
            " 1: 7.818577 7.818577 7.839789 8.067963 8.239547 8.343793 8.472818 8.635362\n",
            " 2: 7.784639 7.805316 7.838284 8.068495 8.247257 8.343650 8.472873 8.616668\n",
            " 3: 7.817477 7.829912 7.837796 8.076634 8.247080 8.343621 8.472850 8.616802\n",
            " 4: 7.770354 7.795126 7.840694 8.067389 8.231023 8.342564 8.463999 8.616986\n",
            " 5: 7.799087 7.816851 7.834036 8.059198 8.230909 8.333645 8.455073 8.598360\n",
            " 6: 7.781644 7.792078 7.834036 8.059198 8.230909 8.333645 8.455073 8.598360\n",
            " 7: 7.782668 7.804714 7.834036 8.059198 8.230909 8.333645 8.455073 8.598505\n",
            " 8: 7.799087 7.816851 7.834036 8.059198 8.233134 8.350175 8.464103 8.617028\n",
            " 9: 7.799087 7.816851 7.834036 8.059198 8.233134 8.350175 8.464053 8.626142\n",
            "10: 7.766249 7.792575 7.834036 8.059428 8.243066 8.367934 8.481755 8.691225\n",
            "11: 7.810369 7.810372 7.831645 8.060029 8.243071 8.366564 8.472838 8.681864\n",
            "12: 7.807297 7.819819 7.827540 8.058986 8.223236 8.341373 8.455107 8.616715\n",
            "13: 7.831926 7.841129 7.834036 8.058966 8.221546 8.319183 8.411007 8.542577\n",
            "14: 7.815507 7.828990 7.834036 8.058966 8.221546 8.320718 8.419477 8.542526\n",
            "15: 7.807297 7.825053 7.842139 8.059178 8.227700 8.303876 8.410447 8.514604\n",
            "16: 7.781644 7.792078 7.834036 8.059198 8.227711 8.301380 8.392479 8.523952\n",
            "17: 7.786773 7.803320 7.823918 8.059757 8.229813 8.321956 8.428351 8.551417\n",
            "18: 7.780534 7.801266 7.834107 8.058739 8.212863 8.311912 8.410234 8.588771\n",
            "19: 7.778564 7.800613 7.829902 8.042112 8.205924 8.310502 8.402152 8.607605\n",
            "20: 7.772817 7.794874 7.824229 8.042820 8.232391 8.338541 8.436974 8.653582\n",
            "         V10      V11      V12       V13       V14      V15      V16      V17\n",
            " 1: 8.693331 8.897879 9.218722  9.620580 10.054788 10.52738 11.05114 11.63303\n",
            " 2: 8.674524 8.848460 9.134522  9.519985  9.937430 10.40275 10.91929 11.49299\n",
            " 3: 8.655220 8.848444 9.135206  9.520615  9.938002 10.39883 10.90995 11.47754\n",
            " 4: 8.645678 8.858648 9.135735  9.537704  9.974764 10.42992 10.93229 11.49002\n",
            " 5: 8.636357 8.859191 9.157834  9.555913  9.987179 10.43349 10.92575 11.47212\n",
            " 6: 8.636357 8.859133 9.168375  9.584608 10.036043 10.49970 11.01095 11.57872\n",
            " 7: 8.617144 8.850172 9.147777  9.562524 10.013008 10.47540 10.98519 11.55132\n",
            " 8: 8.635867 8.878494 9.189231  9.606329 10.058754 10.52369 11.03640 11.60583\n",
            " 9: 8.674084 8.918366 9.230496  9.660883 10.128571 10.58928 11.09541 11.65743\n",
            "10: 8.750032 8.976504 9.290384  9.712111 10.169781 10.63222 11.14144 11.70696\n",
            "11: 8.750244 8.976938 9.280114  9.683559 10.120894 10.58841 11.10576 11.68044\n",
            "12: 8.693794 8.898771 9.198125  9.609491 10.055981 10.51152 11.01346 11.57075\n",
            "13: 8.599244 8.821373 9.096937  9.537021 10.017938 10.45572 10.93282 11.46214\n",
            "14: 8.599113 8.821037 9.139190  9.571709 10.041229 10.49720 10.99739 11.55270\n",
            "15: 8.580387 8.802056 9.098081  9.539168 10.019913 10.47556 10.97422 11.52781\n",
            "16: 8.599407 8.862207 9.140292  9.610757 10.126714 10.60399 11.12538 11.70462\n",
            "17: 8.655872 8.941022 9.265374  9.760982 10.303292 10.81930 11.38511 12.01466\n",
            "18: 8.713392 9.000566 9.327168  9.825708 10.371403 10.90078 11.48254 12.13021\n",
            "19: 8.722922 9.020186 9.369352  9.882566 10.443896 10.98303 11.57513 12.23456\n",
            "20: 8.808338 9.098835 9.472386 10.003497 10.584186 11.13282 11.73463 12.40512\n",
            "          Date\n",
            " 1: 2020-03-06\n",
            " 2: 2020-03-05\n",
            " 3: 2020-03-04\n",
            " 4: 2020-03-03\n",
            " 5: 2020-03-02\n",
            " 6: 2020-02-28\n",
            " 7: 2020-02-27\n",
            " 8: 2020-02-26\n",
            " 9: 2020-02-25\n",
            "10: 2020-02-24\n",
            "11: 2020-02-21\n",
            "12: 2020-02-20\n",
            "13: 2020-02-19\n",
            "14: 2020-02-18\n",
            "15: 2020-02-17\n",
            "16: 2020-02-14\n",
            "17: 2020-02-13\n",
            "18: 2020-02-12\n",
            "19: 2020-02-11\n",
            "20: 2020-02-10\n"
          ]
        }
      ]
    },
    {
      "cell_type": "markdown",
      "metadata": {
        "id": "6q3vnBxyO9IT"
      },
      "source": [
        "### Inciso 5"
      ]
    },
    {
      "cell_type": "code",
      "metadata": {
        "id": "5YLdDms-O_sD"
      },
      "source": [
        "%%R\n",
        "data1<-read.table(btasadesc_sw)\n",
        "n1<-nrow(data1)\n",
        "m1_orig_sw=ncol(data1)\n",
        "X1_orig_sw=data.table(mutate(data1[2:n1,1:m1_orig_sw],Date=as.Date(V1,format=\"%Y%m%d\")))\n",
        "X1_orig_sw=X1_orig_sw%>%select(-V1)\n",
        "nodos1_sw=data.frame(data1[1,2:m1_orig_sw])\n",
        "  \n",
        "data2<-read.table(btasacupvar_sw)\n",
        "n2<-nrow(data2)\n",
        "m2_orig_sw=ncol(data2)\n",
        "X2_orig_sw=data.table(mutate(data2[2:n1,1:m1_orig_sw],Date=as.Date(V1,format=\"%Y%m%d\")))\n",
        "X2_orig_sw=X2_orig_sw%>%select(-V1)\n",
        "nodos2_sw=data.frame(data2[1,2:m2_orig_sw])\n"
      ],
      "execution_count": 416,
      "outputs": []
    },
    {
      "cell_type": "markdown",
      "metadata": {
        "id": "HH-ONuC12Yfz"
      },
      "source": [
        "###Inciso 6"
      ]
    },
    {
      "cell_type": "code",
      "metadata": {
        "id": "OHvzG5dD2bWY"
      },
      "source": [
        "%%R\n",
        "  #carga de rho\t\n",
        "  data1<-read.table(btasadesc_oir) \n",
        "  n<-nrow(data1)\n",
        "  m1_orig_oir=ncol(data1)\n",
        "  x1_orig_oir=data.table(mutate(data1[2:n,1:m1_orig_oir],Date=as.Date(V1,format=\"%Y%m%d\")))\n",
        "  x1_orig_oir=x1_orig_oir%>%select(-V1)\n",
        "  nodos1_oir=data.frame(data1[1,2:m1_orig_oir])\n",
        "  \n",
        "  #data1[1:3,]\n",
        "  #carga de tasas spot\n",
        "  data2<-read.table(btasaspot_oir)\n",
        "  n<-nrow(data2)\n",
        "  m2_orig_oir=ncol(data2)\n",
        "  x2_orig_oir=data.table(mutate(data2[2:n,1:m2_orig_oir],Date=as.Date(V1,format=\"%Y%m%d\")))\n",
        "  x2_orig_oir=x2_orig_oir%>%select(-V1)\n",
        "  nodos2_oir=data.frame(data2[1,2:m2_orig_oir])\n",
        "  #carga de volatilidades de spot\n",
        "  data3<-read.table(bvolspot_oir)\n",
        "  n<-nrow(data3)\n",
        "  m3_orig_oir=ncol(data3)\n",
        "  x3_orig_oir=data.table(mutate(data3[2:n,1:m3_orig_oir],Date=as.Date(V1,format=\"%Y%m%d\")))\n",
        "  x3_orig_oir=x3_orig_oir%>%select(-V1)\n",
        "  \n",
        "  nodos3_oir=data.frame(data3[1,2:m3_orig_oir])"
      ],
      "execution_count": 417,
      "outputs": []
    },
    {
      "cell_type": "markdown",
      "metadata": {
        "id": "dEovi7w5G29H"
      },
      "source": [
        "##**Integración de Insumos**"
      ]
    },
    {
      "cell_type": "markdown",
      "metadata": {
        "id": "0pJAdD0PEXIh"
      },
      "source": [
        "### Cruce de tablas"
      ]
    },
    {
      "cell_type": "code",
      "metadata": {
        "id": "rZctw8Ty6vZQ",
        "colab": {
          "base_uri": "https://localhost:8080/"
        },
        "outputId": "36a1980e-d70a-444f-a0bf-952c1f93651b"
      },
      "source": [
        "%%R\n",
        "#INTERSECCIÓN DE FECHAS DE TODOS LOS INSUMOS    \n",
        "  \n",
        "\n",
        "lin_gub=data.table(Date=as.Date(aux2[x_orig_gov,on=.(Date),nomatch=0]$Date)) #Fechas acciones, equity, guber, yield\n",
        "\n",
        "#lin_gub_aux=data.table(Date=as.Date(lin_gub[x_orig_bonom,on=.(Date),nomatch=0]$Date)) \n",
        "\n",
        "lin_gub_bmybdst_aux=data.table(Date=as.Date(lin_gub[X3_orig_bd,on=.(Date),nomatch=0]$Date)) #Fechas acciones, equity, guber, yield y st (bonde)\n",
        "\n",
        "\n",
        "lin_gub_bmybdst=data.table(Date=as.Date(X3_ftdc[lin_gub_bmybdst_aux,on=.(Date),nomatch=0]$Date)) #Fechas acciones, equity, guber, yield y st (bonde)\n",
        "\n",
        "lin_gub_bmybdst_flib=data.table(Date=as.Date(lin_gub_bmybdst[x1_ftdc,on=.(Date),nomatch=0]$Date)) #Fechas acciones, equity, guber, yield,  st (bonde), libor\n",
        "\n",
        "lin_gub_bmybdst_flibfwd=data.table(Date=as.Date(lin_gub_bmybdst_flib[x2_ftdc,on=.(Date),nomatch=0]$Date)) #Fechas acciones, equity, guber, yield, st (bonde), libor, fwd\n",
        "\n",
        "lin_gub_bmybdst_flibfwdspind=data.table(Date=as.Date(lin_gub_bmybdst_flibfwd[X3_find,on=.(Date),nomatch=0]$Date)) #Fechas acciones, equity, guber, yield, st (bonde), libor, fwd, spot, equity or index\n",
        "\n",
        "\n",
        "\n",
        "lin_gub_bmybdst_flibfwdspind_swcup=data.table(Date=as.Date(lin_gub_bmybdst_flibfwdspind[X1_orig_sw,on=.(Date),nomatch=0]$Date)) #Fechas acciones, equity, guber, yield, st (bonde), libor, fwd, spot, equity or index, swap cupón\n",
        "\n",
        "lin_gub_bmybdst_flibfwdspind_swcupvp=data.table(Date=as.Date(lin_gub_bmybdst_flibfwdspind_swcup[X2_orig_sw,on=.(Date),nomatch=0]$Date)) #Fechas acciones, equity, guber, yield, st (bonde), libor, fwd, spot, equity or index, swap cupón\n",
        "\n",
        "lin_gub_bmybdst_flibfwdspind_swcupvp_oirs=data.table(Date=as.Date(lin_gub_bmybdst_flibfwdspind_swcupvp[x1_orig_oir,on=.(Date),nomatch=0]$Date)) #Fechas acciones, equity, guber, yield, st (bonde), libor, fwd, spot, equity or index, swap cupón, opciones ir spot\n",
        "\n",
        "lin_gub_bmybdst_flibfwdspind_swcupvp_oirsvp=data.table(Date=as.Date(lin_gub_bmybdst_flibfwdspind_swcupvp_oirs[x2_orig_oir,on=.(Date),nomatch=0]$Date)) #Fechas acciones, equity, guber, yield, st (bonde), libor, fwd, spot, equity or index, swap cupón, opciones ir spot, opc ir vp\n",
        "\n",
        "lin_gub_bmybdst_flibfwdspind_swcupvp_oirsvpvol=data.table(Date=as.Date(lin_gub_bmybdst_flibfwdspind_swcupvp_oirsvp[x3_orig_oir,on=.(Date),nomatch=0]$Date)) #Fechas acciones, equity, guber, yield, st (bonde), libor, fwd, spot, equity or index, swap cupón, opciones ir spot, opc ir vp, opc ir vol\n",
        "\n",
        "\n",
        "lin_gub_bmybdst_flibfwdspind_swcupvp_oirsvpvol=unique(lin_gub_bmybdst_flibfwdspind_swcupvp_oirsvpvol)\n",
        "print(lin_gub_bmybdst_flibfwdspind_swcupvp_oirsvpvol)"
      ],
      "execution_count": 418,
      "outputs": [
        {
          "output_type": "stream",
          "name": "stdout",
          "text": [
            "           Date\n",
            "  1: 2020-03-06\n",
            "  2: 2020-03-05\n",
            "  3: 2020-03-04\n",
            "  4: 2020-03-03\n",
            "  5: 2020-03-02\n",
            " ---           \n",
            "216: 2019-03-26\n",
            "217: 2019-03-25\n",
            "218: 2019-03-21\n",
            "219: 2019-03-20\n",
            "220: 2019-03-19\n"
          ]
        }
      ]
    },
    {
      "cell_type": "markdown",
      "metadata": {
        "id": "dH41gFtOENT6"
      },
      "source": [
        "### Formato de historia"
      ]
    },
    {
      "cell_type": "markdown",
      "metadata": {
        "id": "28s1WRx1E9UA"
      },
      "source": [
        "#### Historia de todos"
      ]
    },
    {
      "cell_type": "code",
      "metadata": {
        "id": "57rW0_rpFBVo",
        "colab": {
          "base_uri": "https://localhost:8080/"
        },
        "outputId": "da2d9203-3483-49a0-b9c4-f00d7b5b9384"
      },
      "source": [
        "%%R\n",
        "n=nrow(lin_gub_bmybdst_flibfwdspind_swcupvp_oirsvpvol)\n",
        "n"
      ],
      "execution_count": 419,
      "outputs": [
        {
          "output_type": "stream",
          "name": "stdout",
          "text": [
            "[1] 220\n"
          ]
        }
      ]
    },
    {
      "cell_type": "markdown",
      "metadata": {
        "id": "aZj6NZEAE42p"
      },
      "source": [
        "#### Incisos 1 y 2"
      ]
    },
    {
      "cell_type": "code",
      "metadata": {
        "id": "SWBDdQIuEkrR"
      },
      "source": [
        "%%R\n",
        "#historia de acciones y divisas\n",
        "stock_prices_EQFX=lin_gub_bmybdst_flibfwdspind_swcupvp_oirsvpvol[aux2,on=.(Date),nomatch=0][order(-Date)]\n",
        "stock_prices_EQFX=stock_prices_EQFX%>%select(-Date)"
      ],
      "execution_count": 420,
      "outputs": []
    },
    {
      "cell_type": "markdown",
      "metadata": {
        "id": "GTI2b407kVrL"
      },
      "source": [
        "#### Inciso 3"
      ]
    },
    {
      "cell_type": "code",
      "metadata": {
        "id": "SKEedVolkb41"
      },
      "source": [
        "%%R\n",
        "#Historia de curva gubernamental y yield\n",
        "x_orig_gov=lin_gub_bmybdst_flibfwdspind_swcupvp_oirsvpvol[x_orig_gov,on=.(Date),nomatch=0][order(-Date)]\n",
        "x_orig_gov=x_orig_gov%>%select(-Date)\n",
        "\n",
        "#Historia de curvas de bonde\n",
        "X1_orig=lin_gub_bmybdst_flibfwdspind_swcupvp_oirsvpvol[X1_orig,on=.(Date),nomatch=0][order(-Date)]\n",
        "X1_orig=X1_orig%>%select(-Date)\n",
        "X2_orig_bd=lin_gub_bmybdst_flibfwdspind_swcupvp_oirsvpvol[X2_orig_bd,on=.(Date),nomatch=0][order(-Date)]\n",
        "X2_orig_bd=X2_orig_bd%>%select(-Date)\n",
        "X3_orig_bd=lin_gub_bmybdst_flibfwdspind_swcupvp_oirsvpvol[X3_orig_bd,on=.(Date),nomatch=0][order(-Date)]\n",
        "X3_orig_bd=X3_orig_bd%>%select(-Date)\n",
        "\n"
      ],
      "execution_count": 421,
      "outputs": []
    },
    {
      "cell_type": "markdown",
      "metadata": {
        "id": "FBSlPmJGlWMe"
      },
      "source": [
        "#### Inciso 4\n"
      ]
    },
    {
      "cell_type": "code",
      "metadata": {
        "id": "YNQAT638lloC"
      },
      "source": [
        "%%R\n",
        "#historia de curvas de forward tdc\n",
        "x1_ftdc=lin_gub_bmybdst_flibfwdspind_swcupvp_oirsvpvol[x1_ftdc,on=.(Date),nomatch=0][order(-Date)]\n",
        "x1_ftdc=x1_ftdc%>%select(-Date)/100\n",
        "x2_ftdc=lin_gub_bmybdst_flibfwdspind_swcupvp_oirsvpvol[x2_ftdc,on=.(Date),nomatch=0][order(-Date)]\n",
        "x2_ftdc=x2_ftdc%>%select(-Date)/100\n",
        "X3_ftdc=lin_gub_bmybdst_flibfwdspind_swcupvp_oirsvpvol[X3_ftdc,on=.(Date),nomatch=0][order(-Date)]\n",
        "X3_ftdc=X3_ftdc%>%select(-Date)\n",
        "\n",
        "#historia de curvas de forward ind\n",
        "#CONSIDERAR LA CURVA GUBERNAMENTAL X1_ORIG_GOV\n",
        "X3_find=lin_gub_bmybdst_flibfwdspind_swcupvp_oirsvpvol[X3_find,on=.(Date),nomatch=0][order(-Date)]\n",
        "X3_find=X3_find%>%select(-Date)"
      ],
      "execution_count": 422,
      "outputs": []
    },
    {
      "cell_type": "markdown",
      "metadata": {
        "id": "hP8Kw5CVFPO7"
      },
      "source": [
        "#### Inciso 5"
      ]
    },
    {
      "cell_type": "code",
      "metadata": {
        "id": "QYlhkMU2FUsg"
      },
      "source": [
        "%%R\n",
        "X1_orig_sw=lin_gub_bmybdst_flibfwdspind_swcupvp_oirsvpvol[X1_orig_sw,on=.(Date),nomatch=0][order(-Date)]\n",
        "X1_orig_sw=X1_orig_sw%>%select(-Date)/100\n",
        "X2_orig_sw=lin_gub_bmybdst_flibfwdspind_swcupvp_oirsvpvol[X2_orig_sw,on=.(Date),nomatch=0][order(-Date)]\n",
        "X2_orig_sw=X2_orig_sw%>%select(-Date)/100"
      ],
      "execution_count": 423,
      "outputs": []
    },
    {
      "cell_type": "markdown",
      "metadata": {
        "id": "Rv8mvZBChD8a"
      },
      "source": [
        "####Inciso 6"
      ]
    },
    {
      "cell_type": "code",
      "metadata": {
        "id": "o4eUepIVhR_H"
      },
      "source": [
        "%%R\n",
        "x1_orig_oir=lin_gub_bmybdst_flibfwdspind_swcupvp_oirsvpvol[x1_orig_oir,on=.(Date),nomatch=0][order(-Date)]\n",
        "x1_orig_oir=x1_orig_oir%>%select(-Date)/100\n",
        "x2_orig_oir=lin_gub_bmybdst_flibfwdspind_swcupvp_oirsvpvol[x2_orig_oir,on=.(Date),nomatch=0][order(-Date)]\n",
        "x2_orig_oir=x2_orig_oir%>%select(-Date)/100\n",
        "x3_orig_oir=lin_gub_bmybdst_flibfwdspind_swcupvp_oirsvpvol[x3_orig_oir,on=.(Date),nomatch=0][order(-Date)]\n",
        "x3_orig_oir=x3_orig_oir%>%select(-Date)"
      ],
      "execution_count": 424,
      "outputs": []
    },
    {
      "cell_type": "markdown",
      "metadata": {
        "id": "uD7bCvnGnKva"
      },
      "source": [
        "## **Valuación**"
      ]
    },
    {
      "cell_type": "markdown",
      "metadata": {
        "id": "RL6tbOVoNsxZ"
      },
      "source": [
        "### Inciso 1 y 2: Acciones y divisas"
      ]
    },
    {
      "cell_type": "code",
      "metadata": {
        "id": "67VajrF8N2AS"
      },
      "source": [
        "%%R\n",
        "x0_acc_div=stock_prices_EQFX[1,]\n",
        "DeltaX_acc_div=as.matrix(log(as.matrix(stock_prices_EQFX[1:(n-1)])/as.matrix(stock_prices_EQFX[2:(n)])))\n",
        "V0_acc_div=cbind(t(pos_fx),t(pos_eq))*x0_acc_div\n",
        "m_fx=length(pos_fx)\n",
        "m_acc=length(pos_eq)"
      ],
      "execution_count": 425,
      "outputs": []
    },
    {
      "cell_type": "markdown",
      "metadata": {
        "id": "vwstou6tnYsS"
      },
      "source": [
        "### Inciso 3: Cetes"
      ]
    },
    {
      "cell_type": "code",
      "metadata": {
        "id": "L85VyT-UnXnH",
        "colab": {
          "base_uri": "https://localhost:8080/"
        },
        "outputId": "0ada52e0-b52e-46f6-e8a4-d9e87dce2924"
      },
      "source": [
        "%%R\n",
        "# Interpolamos las tasas\n",
        "m=ncol(ven_cete)\n",
        "x=matrix(0,n,m)\n",
        "for (i in 1:(n))\n",
        "{\n",
        "    if(itpl == 0){\n",
        "        x[i,]=approx(nodos_gov,x_orig_gov[i,], ven_cete)$y\n",
        "    }else{\n",
        "        x[i,]=talamb(nodos_gov,x_orig_gov[i,],ven_cete)\n",
        "    }\n",
        "}\n",
        "#Función para el calculo de los bonos cupon 0\n",
        "bonocupcero = function(i,t)\n",
        "{\n",
        "1/(1+i*t/360)\n",
        "}\n",
        "\n",
        "#Valor actual de cada bono\n",
        "x0_cetes=x[1,]\n",
        "V0_cetes=as.matrix(bonocupcero(x0_cetes,ven_cete))*nominal_cete \n",
        "V0_cetes[1,2] = 0\n",
        "#Valor total\n",
        "VT0_cetes=sum(V0_cetes)\n",
        "\n",
        "VT0_cetes\n"
      ],
      "execution_count": 426,
      "outputs": [
        {
          "output_type": "stream",
          "name": "stdout",
          "text": [
            "[1] 9.615927\n"
          ]
        }
      ]
    },
    {
      "cell_type": "code",
      "metadata": {
        "id": "UW2SAKh4CaXn",
        "colab": {
          "base_uri": "https://localhost:8080/"
        },
        "outputId": "be4e112f-ac9e-4611-8375-d2170f08626c"
      },
      "source": [
        "%%R\n",
        "nrow(X_futind)\n",
        "\n"
      ],
      "execution_count": 427,
      "outputs": [
        {
          "output_type": "stream",
          "name": "stdout",
          "text": [
            "[1] 220\n"
          ]
        }
      ]
    },
    {
      "cell_type": "markdown",
      "metadata": {
        "id": "sCdDuULV68ki"
      },
      "source": [
        "### Inciso 3: Bonos M"
      ]
    },
    {
      "cell_type": "code",
      "metadata": {
        "id": "6zj5QzkqeYiJ",
        "colab": {
          "base_uri": "https://localhost:8080/"
        },
        "outputId": "108501e9-ab47-47ce-b23c-f8da6639ba42"
      },
      "source": [
        "%%R\n",
        "#interpolación de tasas y volatilidades\n",
        "#revisar la valuacion que cambia si usamos n en vez de n-1\n",
        "m=ncol(ven_bonom)\n",
        "X=matrix(0,n,m)\n",
        "for (i in 1:(n))\n",
        "{\n",
        "    if(itpl == 0){\n",
        "        X[i,]=approx(nodos_bonom,x_orig_gov[i,], m)$y\n",
        "    }else{\n",
        "        X[i,]=talamb(nodos_bonom,x_orig_gov[i,],m)\n",
        "    }\n",
        "}\n",
        "\n",
        "bonoMyield=function(x, plazos, plazocupon, tfcupon, nominal, contratos = 1) #valoración bono tasa fija\n",
        "{\n",
        "x=x0  \n",
        "N=as.integer(plazos/plazocupon)+1   \n",
        "a=(1-(1+x*plazocupon/360)^(-N))/(plazocupon*x/360)\n",
        "p1=plazos-plazocupon*(N-1)   \n",
        "((contratos*nominal*tfcupon*plazocupon/360)*a+(contratos*nominal)/((1+x*plazocupon/360)^N))*(1+x*plazocupon/360)^(1-p1/plazocupon)   \n",
        "}\n",
        "\n",
        "x0=X[1,] #tasas de descuento valor actual\n",
        "V0_bonom = bonoMyield(x0,ven_bonom, plazocupon_bonom, tfcupon, nominal_bonom, contratos_bonom)\n",
        "V0_bonom[1,2] = 0\n",
        "VT0_bonom=sum(V0_bonom)\n",
        "VT0_bonom\n"
      ],
      "execution_count": 428,
      "outputs": [
        {
          "output_type": "stream",
          "name": "stdout",
          "text": [
            "[1] 74226.93\n"
          ]
        }
      ]
    },
    {
      "cell_type": "code",
      "metadata": {
        "id": "8HTXOS12FA_E",
        "colab": {
          "base_uri": "https://localhost:8080/"
        },
        "outputId": "7e2581a2-ba25-4f7f-88a4-50d6018b4a22"
      },
      "source": [
        "%%R\n",
        "\n",
        "X2_orig_bd"
      ],
      "execution_count": 429,
      "outputs": [
        {
          "output_type": "stream",
          "name": "stdout",
          "text": [
            "             V1   V2   ID      fecha\n",
            "  1: 2020-03-06 7.04 7795 2020-03-06\n",
            "  2: 2020-03-05 7.06 7794 2020-03-05\n",
            "  3: 2020-03-04 7.05 7793 2020-03-04\n",
            "  4: 2020-03-03 7.07 7792 2020-03-03\n",
            "  5: 2020-03-02 7.05 7791 2020-03-02\n",
            " ---                                \n",
            "216: 2019-03-26 8.27 7449 2019-03-26\n",
            "217: 2019-03-25 8.28 7448 2019-03-25\n",
            "218: 2019-03-21 8.27 7444 2019-03-21\n",
            "219: 2019-03-20 8.27 7443 2019-03-20\n",
            "220: 2019-03-19 8.26 7442 2019-03-19\n"
          ]
        }
      ]
    },
    {
      "cell_type": "markdown",
      "metadata": {
        "id": "JWSQp1Xr-E6H"
      },
      "source": [
        "### Inciso 3: Bondes D"
      ]
    },
    {
      "cell_type": "code",
      "metadata": {
        "id": "KXD8dhvT-CWn",
        "colab": {
          "base_uri": "https://localhost:8080/"
        },
        "outputId": "b4b9ea03-0647-48ff-d1b7-124190965507"
      },
      "source": [
        "%%R\n",
        "#BONDE D CÁLCULO\n",
        "names(X2_orig_bd)[1] = 'Date'\n",
        "X2_pr=lin_gub_bmybdst_flibfwdspind_swcupvp_oirsvpvol[X2_orig_bd, on = .(Date),nomatch=0][order(-Date)] #Se alinea la tasa de fondeo por fecha con la tasa de valor presente.\n",
        "m=ncol(plazos_bdm)\n",
        "\n",
        "\n",
        "N_bd=as.integer(plazos_bdm/plazocupon_bdm)+1 #número de cupones a pagar\n",
        "VTplazos_bdm=matrix(0,1,sum(N_bd)) #vector de todos los plazos_bdm de todos los contratos_bdm\n",
        "contratos_bdmT=matrix(0,1,sum(N_bd)) #vector de todos los contratos_bdm de todos los flujos de todos los contratos_bdm\n",
        "nominal_bdmT=matrix(0,1,sum(N_bd)) #vector de todos los nominal_bdmes de todos los flujos de todos los contratos_bdm\n",
        "plazocupon_bdmT=matrix(0,1,sum(N_bd)) #vector de todos los plazos_bdmcupon de todos los flujos de todos los contratos_bdm\n",
        "tasafijaT_bd=matrix(0,1,sum(N_bd)) #vector de tasas fijas de todos los flujos de todos los contratos_bdm\n",
        "ulNomT_bd=matrix(0,1,sum(N_bd)) #vector de contratos_bdm a final de flujo\n",
        "\n",
        "\n",
        "plazini_bd=plazos_bdm-plazocupon_bdm*(N_bd-1) #vector de plazos_bdm iniciales\n",
        "ddv=plazocupon_bdm-plazini_bd #dias trasncurridos del cupón vigente\n",
        "tfcupon=matrix(0,1,m)  #El primero cupón de cada bono\n",
        "tfcupondev=matrix(0,1,m) #cupón de los días devengados\n",
        "tfcupgen=((1+tf_act/360)^(plazocupon_bdm[1])-1)*360/plazocupon_bdm[1] #el segundo al último cupón de todos los bonos\n",
        "#calcula cupones de bonos\n",
        "for (j in (1:m))\n",
        "{\n",
        "  tfcupondev[j]=(prod(1+tf_int[(1:ddv[j])]/360)-1)*360/ddv[j]\n",
        "  tfcupon[j]=((1+tfcupondev[j]*ddv[j]/360)*(1+tf_act/360)^(plazocupon_bdm[1]-ddv[j])-1)*360/plazocupon_bdm[1]\n",
        "}\n",
        "\n",
        "\n",
        "for (j in (1:m))\n",
        "{\n",
        "  if (j==1)\n",
        "  {\n",
        "    VTplazos_bdm[,1:sum(N_bd[1:j])]=seq(plazini_bd[j],plazos_bdm[j], by=plazocupon_bdm[j])\n",
        "    contratos_bdmT[,1:sum(N_bd[1:j])]=seq(contratos_bdm[j],contratos_bdm[j])\n",
        "    plazocupon_bdmT[,1:sum(N_bd[1:j])]=seq(plazocupon_bdm[j],plazocupon_bdm[j])\n",
        "    ulNomT_bd[,sum(N_bd[1:j])]=contratos_bdm[j]\n",
        "    tasafijaT_bd[,1]=tfcupon[j]\n",
        "    tasafijaT_bd[,2:sum(N_bd[1:j])]=seq(tfcupgen,tfcupgen)\n",
        "  }\n",
        "  else\n",
        "  {\n",
        "    VTplazos_bdm[,(sum(N_bd[1:j-1])+1):sum(N_bd[1:j])]=seq(plazini_bd[j],plazos_bdm[j], by=plazocupon_bdm[j])\n",
        "    contratos_bdmT[,(sum(N_bd[1:j-1])+1):sum(N_bd[1:j])]=seq(contratos_bdm[j],contratos_bdm[j])\t\t\t\t\t\n",
        "    plazocupon_bdmT[,(sum(N_bd[1:j-1])+1):sum(N_bd[1:j])]=seq(plazocupon_bdm[j],plazocupon_bdm[j])\n",
        "    tasafijaT_bd[,(sum(N_bd[1:j-1])+1)]=tfcupon[j]\n",
        "    tasafijaT_bd[,(sum(N_bd[1:j-1])+2):sum(N_bd[1:j])]=seq(tfcupgen,tfcupgen)\n",
        "    ulNomT_bd[,sum(N_bd[1:j])]=contratos_bdm[j]\n",
        "  }\n",
        "}\n",
        "\n",
        "Xvp_bd=matrix(0,n,ncol(VTplazos_bdm))\n",
        "Xst_bd=matrix(0,n,ncol(VTplazos_bdm))\n",
        "\n",
        "for (i in (1:n))\n",
        "{\n",
        "  Xvp_bd[i,]=if(itpl==0){approx(nodos_gov,x_orig_gov[i,],VTplazos_bdm,rule=2)$y}else{talamb(nodos_gov,x_orig_gov[i,],VTplazos_bdm)}\n",
        "  Xst_bd[i,]=if(itpl==0){approx(nodos3_bd,X3_orig_bd[i,],VTplazos_bdm,rule=2)$y}else{talamb(nodos3_bd,X3_orig_bd[i,],VTplazos_bdm)}\n",
        "  \n",
        "}\n",
        "\n",
        "X_bd_tc=matrix(1,n,ncol(contratos_bdmT))*X2_pr$V2/100\n",
        "X_bd_ext=cbind(X_bd_tc,as.matrix(Xvp_bd),as.matrix(Xst_bd))\n",
        "\n",
        "bondeD=function(contratos_bdmT,  nominal_bdm, tf_act, plazocupon_bdmT, VTplazos_bdm, Xvp, Xst, N,ddv)\n",
        "{\n",
        "  tfcupon=matrix(0,1,m)  #El primero cupón de cada bono\n",
        "  tfcupondev=matrix(0,1,m) #cupón de los días devengados\n",
        "  tfcupgen=((1+tf_act/360)^(plazocupon_bdm[1])-1)*360/plazocupon_bdm[1] #el segundo al último cupón de todos los bonos\n",
        "  tasafijaT=matrix(0,1,sum(N))\n",
        "  #calcula cupones de bonos\n",
        "  for (j in (1:m))\n",
        "  {\n",
        "    tfcupondev[j]=(prod(1+tf_int[(1:ddv[j])]/360)-1)*360/ddv[j]\n",
        "    tfcupon[j]=((1+tfcupondev[j]*ddv[j]/360)*(1+tf_act/360)^(plazocupon_bdm[1]-ddv[j])-1)*360/plazocupon_bdm[1]\n",
        "  }\n",
        "  \n",
        "  \n",
        "  for (j in (1:m))\n",
        "  {\n",
        "    if (j==1)\n",
        "    {\n",
        "      tasafijaT[,1]=tfcupon[j]\n",
        "      tasafijaT[,2:sum(N[1:j])]=seq(tfcupgen,tfcupgen)\n",
        "    }\n",
        "    else\n",
        "    {\n",
        "      tasafijaT[,(sum(N[1:j-1])+1)]=tfcupon[j]\n",
        "      tasafijaT[,(sum(N[1:j-1])+2):sum(N[1:j])]=seq(tfcupgen,tfcupgen)\n",
        "    }\n",
        "  }\n",
        "  \n",
        "  \n",
        "  V0=matrix(0,1,count(N))\n",
        "  V0f=((((contratos_bdmT*(tasafijaT)*(plazocupon_bdmT/360))+ulNomT_bd)/(1+(Xvp+Xst)*VTplazos_bdm/360)))*nominal_bdm\n",
        "  for (j in (1:count(N)))\n",
        "  {\n",
        "    if(j==1)\n",
        "    {\n",
        "      V0[j]=sum(V0f[j:N[j]])\n",
        "    }\n",
        "    else\n",
        "    {\n",
        "      V0[j]=sum(V0f[(sum(N[1:j-1])+1):(sum(N[1:j]))])\n",
        "    }\n",
        "  }\n",
        "  V0\n",
        "} \n",
        "\n",
        "\n",
        "\n",
        "V0_bd=bondeD(contratos_bdmT, nominal_bdm, tf_act, plazocupon_bdmT, VTplazos_bdm, Xvp_bd[1,], Xst_bd[1,], N_bd,ddv)\n",
        "\n",
        "V0_bd"
      ],
      "execution_count": 430,
      "outputs": [
        {
          "output_type": "stream",
          "name": "stdout",
          "text": [
            "         [,1] [,2]\n",
            "[1,] 951537.5    0\n"
          ]
        }
      ]
    },
    {
      "cell_type": "markdown",
      "metadata": {
        "id": "h5X_HCGunH-0"
      },
      "source": [
        "### Inciso 4: Forwards de tipo de cambio"
      ]
    },
    {
      "cell_type": "code",
      "metadata": {
        "id": "724EaknvnSG_",
        "colab": {
          "base_uri": "https://localhost:8080/"
        },
        "outputId": "e77842e8-7836-43ce-e801-5459cb6ebad4"
      },
      "source": [
        "%%R\n",
        "#FORWARDS Y/O FUTUROS DE TIPO DE CAMBIO CÁLCULO\n",
        "\n",
        "################MATRICES DE INTERPOLACION LINEAL ####################\n",
        "\n",
        "m=ncol(plazos_fwd)\n",
        "X1_fwtdc=matrix(0,n,m)\n",
        "X2_fwtdc=matrix(0,n,m)\n",
        "\n",
        "\n",
        "for (j in 1:n)\n",
        "{\n",
        "  X1_fwtdc[j,]=if(itpl==0){approx(nodos1_ftdc,x1_ftdc[j,],plazos_fwd,rule=2)$y}else{talamb(nodos1_ftdc,x1_ftdc[j,],plazos_fwd)}\n",
        "  X2_fwtdc[j,]=if(itpl==0){approx(nodos2_ftdc,x2_ftdc[j,],plazos_fwd,rule=2)$y}else{talamb(nodos2_ftdc,x2_ftdc[j,],plazos_fwd)}\n",
        "  if(trlib==1){X1_fwtdc[j,]=((1+X1_fwtdc[j,])^(plazos_fwd/180)-1)*360/plazos_fwd} #transformación de act 180 a 360\n",
        "}\n",
        "\n",
        "\n",
        "futuroTC = function(t,tl,tn,s,k) #t=dias por vencer, tn=tasa nacional para tipo de cambio forward, tl= tasa extranjera pra tipo de cambio forward, S=spot\n",
        "{\n",
        "  f=s*((1+tn*t/360)/(1+tl*t/360)) #Se obtiene el tipo de cambio forward\n",
        "  t(as.numeric((f-k)/(1+t*tn/360))) #Se obtiene el valor del payoff a valor presente con el valor z que define si es largo o corto\n",
        "}\n",
        "\n",
        "X3_ftdc=as.matrix(X3_ftdc)\n",
        "X_futtdc=cbind(X1_fwtdc,X2_fwtdc,X3_ftdc)\n",
        "\n",
        "V0_fwtdc=futuroTC(plazos_fwd,X1_fwtdc[1,],X2_fwtdc[1,],X3_ftdc[1,],kst_fwd)*contratos_fwd*nominal_fwd\n",
        "# V0_fwtdc=futuroTC(plazos_fwd,X1_fwtdc[1,],X2_fwtdc[1,],X3_ftdc[1,],kst_fwd)*contratos_fwd*nominal_fwd]\n",
        "V0_fwtdc"
      ],
      "execution_count": 431,
      "outputs": [
        {
          "output_type": "stream",
          "name": "stdout",
          "text": [
            "          [,1]\n",
            "[1,] -100.3609\n"
          ]
        }
      ]
    },
    {
      "cell_type": "markdown",
      "metadata": {
        "id": "sEDlzB0NnbO5"
      },
      "source": [
        "### Inciso 4: Forwards de indice"
      ]
    },
    {
      "cell_type": "code",
      "metadata": {
        "id": "mYw7esZOngvz",
        "colab": {
          "base_uri": "https://localhost:8080/"
        },
        "outputId": "6ea64c8f-b0f3-4083-b500-eed733ed2ac8"
      },
      "source": [
        "%%R\n",
        "#FORWARDS Y/O FUTUROS DE ÍNDICES CÁLCULO\n",
        "\n",
        "################MATRICES DE INTERPOLACION LINEAL ####################\n",
        "\n",
        "m_ind=ncol(plazos_fwd_ind)\n",
        "X1_fwind=matrix(0,n,m_ind) #DIVIDENDOS\n",
        "X2_fwind=matrix(0,n,m_ind)\n",
        "\n",
        "for (j in 1:n)\n",
        "{\n",
        "  #X1_fwind[j,]=if(itpl==0){approx(nodos1_,x1_ftdc[j,],plazos_fwd)$y}else{talamb(nodos1_ftdc,x1_ftdc[j,],plazos_fwd)}\n",
        "  X2_fwind[j,]=if(itpl==0){approx(nodos_gov,x_orig_gov[j,],plazos_fwd_ind,rule=2)$y}else{talamb(nodos_gov,x_orig_gov[j,],plazos_fwd_ind)}\n",
        "  #if(trlib==1){X1_fwtdc[j,]=((1+X1_fwtdc[j,])^(plazos_fwd/180)-1)*360/plazos_fwd} #transformación de act 180 a 360\n",
        "}\n",
        "\n",
        "X3_find=as.matrix(X3_find)\n",
        "X_futind=cbind(X1_fwind,X2_fwind,matrix(X3_find,n,ncol(X1_fwind)))\n",
        "\n",
        "V0_fwind=futuroTC(plazos_fwd_ind,X1_fwind[1,],X2_fwind[1,],X3_find[1,],kst_fwd_ind)*contratos_fwd_ind*nominal_fwd_ind\n",
        "V0_fwind\n"
      ],
      "execution_count": 432,
      "outputs": [
        {
          "output_type": "stream",
          "name": "stdout",
          "text": [
            "        [,1]\n",
            "[1,] -378765\n"
          ]
        }
      ]
    },
    {
      "cell_type": "markdown",
      "metadata": {
        "id": "TQ0E0bwzPHkr"
      },
      "source": [
        "### Inciso 5: Swaps"
      ]
    },
    {
      "cell_type": "code",
      "metadata": {
        "id": "KCwvhM8c_iTP",
        "colab": {
          "base_uri": "https://localhost:8080/"
        },
        "outputId": "f7978b3b-c4d2-4e29-d610-38da0b62eb25"
      },
      "source": [
        "%%R\n",
        "nodosvp=nodos1_sw\n",
        "nodostc=nodos2_sw\n",
        "curvavp=as.matrix(X1_orig_sw)\n",
        "curvatc=X2_orig_sw\n",
        "n1=nrow(curvavp)\n",
        "n2=nrow(curvatc)\n",
        "\n",
        "\n",
        "m=max(ncol(plazos_sw),1) #número de contratos_sw swap a valorar\n",
        "N=matrix(0,1,m) #es un vector de m valores donde se cargarán los m número de cupones a pagar para cada contrato\n",
        "for (j in (1:m))\n",
        "{\n",
        "  N[j]=as.integer(plazos_sw[j]/plazocupon_sw[j])+1 #número de cupones a pagar\n",
        "}\n",
        "VTplazos_sw=matrix(0,1,sum(N)) #vector de todos los plazos_sw de todos los contratos_sw\n",
        "contratos_swT=matrix(0,1,sum(N)) #vector de todos los contratos_sw de todos los flujos de todos los contratos_sw\n",
        "nominal_swT=matrix(0,1,sum(N)) #vector de todos los nominal_swes de todos los flujos de todos los contratos_sw\n",
        "por_swT=matrix(0,1,sum(N)) #vector de todos los dummy si paga o recibe de todos los flujos de todos los contratos_sw\n",
        "plazocupon_swT=matrix(0,1,sum(N)) #vector de todos los plazos_swcupon de todos los flujos de todos los contratos_sw\n",
        "tasafija_swT=matrix(0,1,sum(N)) #vector de tasas fijas de todos los flujos de todos los contratos_sw\n",
        "VTplazos_swc=matrix(0,1,sum(N)) #vector de todos los plazos_sw cortos de todos los contratos_sw\n",
        "\n",
        "\n",
        "plazini=plazos_sw-plazocupon_sw*(N-1) #vector de plazos_sw iniciales\n",
        "\n",
        "for (j in (1:m))\n",
        "{\n",
        "  if (j==1)\n",
        "  {\n",
        "    VTplazos_sw[,1:sum(N[1:j])]=seq(plazini[j],plazos_sw[j], by=plazocupon_sw[j])\n",
        "    VTplazos_swc[,1:sum(N[1:j])]=c(0,VTplazos_sw[,1:(sum(N[1:j])-1)])\n",
        "    contratos_swT[,1:sum(N[1:j])]=seq(contratos_sw[j],contratos_sw[j])\n",
        "    nominal_swT[,1:sum(N[1:j])]=seq(nominal_sw[j],nominal_sw[j])\n",
        "    por_swT[,1:sum(N[1:j])]=seq(por_sw[j],por_sw[j])\n",
        "    plazocupon_swT[,1:sum(N[1:j])]=seq(plazocupon_sw[j],plazocupon_sw[j])\n",
        "    tasafija_swT[,1:sum(N[1:j])]=seq(tasafija_sw[j],tasafija_sw[j])\n",
        "  }\n",
        "  else\n",
        "  {\n",
        "    VTplazos_sw[,(sum(N[1:j-1])+1):sum(N[1:j])]=seq(plazini[j],plazos_sw[j], by=plazocupon_sw[j])\n",
        "    VTplazos_swc[,(sum(N[1:j-1])+1):sum(N[1:j])]=c(0,VTplazos_sw[,(sum(N[1:j-1])+1):(sum(N[1:j])-1)])\n",
        "    contratos_swT[,(sum(N[1:j-1])+1):sum(N[1:j])]=seq(contratos_sw[j],contratos_sw[j])\t\t\t\t\t\n",
        "    nominal_swT[,(sum(N[1:j-1])+1):sum(N[1:j])]=seq(nominal_sw[j],nominal_sw[j])\n",
        "    por_swT[,(sum(N[1:j-1])+1):sum(N[1:j])]=seq(por_sw[j],por_sw[j])\n",
        "    plazocupon_swT[,(sum(N[1:j-1])+1):sum(N[1:j])]=seq(plazocupon_sw[j],plazocupon_sw[j])\n",
        "    tasafija_swT[,(sum(N[1:j-1])+1):sum(N[1:j])]=seq(tasafija_sw[j],tasafija_sw[j])\n",
        "  }\n",
        "}\n",
        "\n",
        "\n",
        "Xvp=matrix(0,n,ncol(VTplazos_sw))\n",
        "Xtc=matrix(0,n,ncol(VTplazos_sw))\n",
        "Xtcc=matrix(0,n,ncol(VTplazos_sw))\n",
        "XtfwdT=matrix(0,n,ncol(VTplazos_sw))\n",
        "\n",
        "for (i in (1:n))\n",
        "{\n",
        "  Xvp[i,]=if(itpl==0){approx(nodosvp,curvavp[i,],VTplazos_sw,rule=2)$y}else{talamb(nodosvp,curvavp[i,],VTplazos_sw)}\n",
        "  Xtc[i,]=if(itpl==0){approx(nodostc,curvatc[i,],VTplazos_sw,rule=2)$y}else{talamb(nodostc,curvatc[i,],VTplazos_sw)}\n",
        "  Xtcc[i,]=if(itpl==0){approx(nodostc,curvatc[i,],VTplazos_swc, rule=2)$y}else{talamb(nodostc,curvatc[i,],VTplazos_swc)}\n",
        "  \n",
        "  XtfwdT[i,]=((1+Xtc[i,]*VTplazos_sw/360)/(1+Xtcc[i,]*VTplazos_swc/360)-1)*360/plazocupon_swT \n",
        "  for (j in (1:ncol(VTplazos_sw)))\n",
        "  {\n",
        "    if (VTplazos_sw[j]<= plazocupon_swT[j])\n",
        "    {\n",
        "      XtfwdT[i,j]=Xtc[i,j]\n",
        "    }\n",
        "    else\n",
        "    {\n",
        "      j=sum(N[1:j])\n",
        "    }\n",
        "  }\n",
        "}\n",
        "\n",
        "X_sw=cbind(XtfwdT,Xvp)\n",
        "\n",
        "swap=function(por_swT, contratos_swT, nominal_swT, XtfwdT, tasafija_swT, plazocupon_swT, VTplazos_sw, Xvp, N)\n",
        "{\n",
        "  V0=matrix(0,1,ncol(N))\n",
        "  V0f=(((contratos_swT*(XtfwdT-tasafija_swT)*(plazocupon_swT/360)))/(1+Xvp*VTplazos_sw/360))*nominal_swT*(-1)^por_swT\n",
        "  for (j in (1:ncol(N)))\n",
        "  {\n",
        "    if(j==1)\n",
        "    {\n",
        "      V0[j]=sum(V0f[j:N[j]])\n",
        "    }\n",
        "    else\n",
        "    {\n",
        "      V0[j]=sum(V0f[(sum(N[1:j-1])+1):(sum(N[1:j]))])\n",
        "    }\n",
        "  }\n",
        "  V0\n",
        "}\n",
        "\n",
        "V0_sw=swap(por_swT, contratos_swT, nominal_swT, XtfwdT[1,], tasafija_swT, plazocupon_swT, VTplazos_sw, Xvp[1,], N)\n",
        "V0_sw"
      ],
      "execution_count": 433,
      "outputs": [
        {
          "output_type": "stream",
          "name": "stdout",
          "text": [
            "         [,1]     [,2]\n",
            "[1,] 79.69671 28.35638\n"
          ]
        }
      ]
    },
    {
      "cell_type": "markdown",
      "metadata": {
        "id": "CYo4nXHwUntH"
      },
      "source": [
        "###Inciso 6: Opciones"
      ]
    },
    {
      "cell_type": "code",
      "metadata": {
        "id": "3ukSbPgwfloW",
        "colab": {
          "base_uri": "https://localhost:8080/"
        },
        "outputId": "04633622-f54b-4ad5-93de-472e4c543204"
      },
      "source": [
        "%%R\n",
        "m=ncol(plazos_oir)\n",
        "x1=matrix(0,n,m)\n",
        "x2tc=matrix(0,n,m)\n",
        "x2tl=matrix(0,n,m)\n",
        "x2=matrix(0,n,m)\n",
        "x3=matrix(0,n,m)\n",
        "for (i in 1:(n))\n",
        "{\n",
        "  x1[i,]=if(itpl==0){approx(nodos1_oir,x1_orig_oir[i,],plazos_oir,rule=2)$y}else{talamb(nodos1_oir,x1_orig_oir[i,],plazos_oir)}\n",
        "  x2tc[i,]=if(itpl==0){approx(nodos2_oir,x2_orig_oir[i,],plazos_oir,rule=2)$y}else{talamb(nodos2_oir,x2_orig_oir[i,],plazos_oir)}\n",
        "  x2tl[i,]=if(itpl==0){approx(nodos2_oir,x2_orig_oir[i,],(plazos_oir+pr_oir),rule=2)$y}else{talamb(nodos2_oir,x2_orig_oir[i,],(plazos_oir+pr_oir))}\n",
        "  x3[i,]=if(itpl==0){approx(nodos3_oir,x3_orig_oir[i,],plazos_oir,rule=2)$y}else{talamb(nodos3_oir,x3_orig_oir[i,],plazos_oir)}\n",
        "  x2[i,]=((1+x2tl[i,]*(plazos_oir+pr_oir)/360)/(1+x2tc[i,]*(plazos_oir)/360)-1)*360/pr_oir\n",
        "}\n",
        "\n",
        "x01=x1[1,] #tasas de descuento\n",
        "x02=x2[1,] #tasas spot\n",
        "x03=x3[1,] #volatilidades\n",
        "\n",
        "X_oir=cbind(x1,x2,x3)\n",
        "\n",
        "opctint = function(d,S,K_oir,vol,t,cp_oir,cs_oir,pr_oir,dct_oir)\t#función de una opción europea\n",
        "{\n",
        "  d1=if(cs_oir==1){(log(S/K_oir)+vol^2*t/(365*2))*(1/(vol*sqrt(t/365)))}else{(log(S/K_oir)+vol^2*t/(360*2))*(1/(vol*sqrt(t/360)))}\n",
        "  d2=if(cs_oir==1){(log(S/K_oir)-vol^2*t/(365*2))*(1/(vol*sqrt(t/365)))}else{(log(S/K_oir)-vol^2*t/(360*2))*(1/(vol*sqrt(t/360)))}\n",
        "  vp=if(cs_oir==1){log(1+d*t/360)*365/t}else{d}  \n",
        "  (if(cs_oir==1){(S*pnorm(d1*(-1)^cp_oir)-K_oir*pnorm(d2*(-1)^cp_oir))*(exp(-vp*t/365))*(-1)^cp_oir}else{(S*pnorm(d1*(-1)^cp_oir)-K_oir*pnorm(d2*(-1)^cp_oir))*(1/(1+vp*t/360))*(-1)^cp_oir})*(pr_oir/dct_oir)/(1+S*pr_oir/dct_oir)\n",
        "}\n",
        "\n",
        "#Valor del portafolio\n",
        "V0_oir=opctint(x01,x02,K_oir,x03,plazos_oir,cp_oir,cs_oir,pr_oir,dct_oir)*contratos_oir*nominal_oir\n",
        "V0_oir"
      ],
      "execution_count": 434,
      "outputs": [
        {
          "output_type": "stream",
          "name": "stdout",
          "text": [
            "          [,1]      [,2]\n",
            "[1,] 0.7591073 0.4324731\n"
          ]
        }
      ]
    },
    {
      "cell_type": "markdown",
      "metadata": {
        "id": "C-nK3UdY8-48"
      },
      "source": [
        "## Integración de factores de riesgo"
      ]
    },
    {
      "cell_type": "code",
      "metadata": {
        "id": "UxbhkTm6aw71",
        "colab": {
          "base_uri": "https://localhost:8080/"
        },
        "outputId": "b00872e9-0356-4bef-9dbf-045268911b4e"
      },
      "source": [
        "%%R\n",
        "n_if"
      ],
      "execution_count": 442,
      "outputs": [
        {
          "output_type": "stream",
          "name": "stdout",
          "text": [
            "     [,1]\n",
            "[1,]    6\n",
            "[2,]  156\n",
            "[3,]   64\n",
            "[4,]    6\n",
            "[5,]    3\n",
            "[6,]    3\n",
            "[7,]    1\n",
            "[8,]    1\n"
          ]
        }
      ]
    },
    {
      "cell_type": "code",
      "metadata": {
        "id": "WxMNbZc89DYi"
      },
      "source": [
        "%%R\n",
        "#DIMENSION DE TODOS LOS INSTRUMENTOS\n",
        "#Son 8 instrumentos financieros (9 si separamos acciones y divisas)\n",
        "n_if=matrix(0,8,1)\n",
        "n_if[1]=ncol(stock_prices_EQFX) #acciones y divisas\n",
        "n_if[2]=ncol(X_bd_ext) #bonde\n",
        "n_if[3]=ncol(X_sw) #swaps\n",
        "n_if[4]=ncol(X_oir) #opciones tasa de interés\n",
        "n_if[5]=ncol(X_futtdc) #Forwards de tipo de cambio\n",
        "n_if[6]=ncol(X_futind) #Forwards de índices\n",
        "n_if[7]=1 #Cetes\n",
        "n_if[8]=1 #Bonos M\n",
        "#valor del portafolios\n",
        "\n",
        "V0_port=cbind(V0_acc_div, V0_bd, V0_sw, V0_oir,V0_fwtdc,V0_fwind, V0_cetes, VT0_bonom)\n",
        "V0T_port=sum(V0_port)\n",
        "\n",
        "\n",
        "\n",
        "#INTEGRACIÓN DE TODOS LOS FACTORES DE RIESGO EN UNA MATRIZ\n",
        "X_port=cbind(stock_prices_EQFX,X_bd_ext,X_sw,X_oir,X_futtdc,X_futind, x[,1], X[,1]) #Factores de riesgo del portafolios de 8(9) instrumentos financieros\n",
        "\n",
        "#Cálculo de variaciones Delta_X DEL PORTAFOLIOS\n",
        "DeltaX_port=as.matrix(log(X_port[1:(n-1)]/X_port[2:(n)]))\n",
        "DeltaX_port[is.nan(DeltaX_port)] <- 0 #quitamos NaN\n",
        "DeltaX_port[is.na(DeltaX_port)] <- 0 #quitamos Na\n",
        "DeltaX_port[is.infinite(DeltaX_port)] <- 0 #quitamos Na\n",
        "\n",
        "\n",
        "Ns=nrow(DeltaX_port) #Definimos número de escenarios históricos\n",
        "\n",
        "DeltaX_s=DeltaX_port"
      ],
      "execution_count": 436,
      "outputs": []
    },
    {
      "cell_type": "code",
      "metadata": {
        "colab": {
          "base_uri": "https://localhost:8080/"
        },
        "id": "_QHJPU0e21sg",
        "outputId": "9f7dcdd9-693f-4cce-ff5b-f3fa0995d235"
      },
      "source": [
        "%%R\n",
        "nrow(DeltaX_s)"
      ],
      "execution_count": 445,
      "outputs": [
        {
          "output_type": "stream",
          "name": "stdout",
          "text": [
            "[1] 219\n"
          ]
        }
      ]
    },
    {
      "cell_type": "markdown",
      "metadata": {
        "id": "MZjorS9XmL2j"
      },
      "source": [
        "## Medicion de riesgo, sin alisado"
      ]
    },
    {
      "cell_type": "markdown",
      "metadata": {
        "id": "ph64YUF1m-NR"
      },
      "source": [
        "### Inciso 1 y 2: Acciones y divisas"
      ]
    },
    {
      "cell_type": "code",
      "metadata": {
        "id": "FbUxdsonnBqB",
        "colab": {
          "base_uri": "https://localhost:8080/"
        },
        "outputId": "8b8517ec-de3d-4434-bf11-c45a9f85a132"
      },
      "source": [
        "%%R\n",
        "m=m_fx+m_acc    #PASO CLAVE\n",
        "X_s_acc_div=matrix(0,Ns,n_if[1]) #Factores de riesgo simulados con base en DeltaX_s x0*(1+Delta_Xs)   #PASO CLAVE\n",
        "V_acc_div=matrix(0,Ns,m)\n",
        "Vfr1_acc_div=matrix(0,Ns,m_fx)\n",
        "Vfr2_acc_div=matrix(0,Ns,m_acc)\n",
        "PG_acc_div=matrix(0,Ns,m) #Pèrdidas y ganancias\n",
        "PGfr1_acc_div=matrix(0,Ns,m_fx)\n",
        "PGfr2_acc_div=matrix(0,Ns,m_acc)\n",
        "PGT_acc_div=matrix(0,Ns,1)\n",
        "PGfr1T_acc_div=matrix(0,Ns,1)\n",
        "PGfr2T_acc_div=matrix(0,Ns,1)\n",
        "\n",
        "DeltaX_s_acc_div=DeltaX_s[,(1:n_if[1])]    #PASO CLAVE\n",
        "x0_acc_div=stock_prices_EQFX[1,]   #PASO CLAVE\n",
        "\n",
        "for (i in 1:Ns)\n",
        "{\n",
        "  X_s_acc_div[i,]=as.matrix(x0_acc_div*exp(DeltaX_s_acc_div[i,]))\n",
        "  #PASO CLAVE\n",
        "  V_acc_div[i,]=cbind(t(pos_fx),t(pos_eq))*X_s_acc_div[i,]\n",
        "  #PASO CLAVE\n",
        "  Vfr1_acc_div[i,]=t(pos_fx)*X_s_acc_div[i,1:m_fx]\n",
        "  #PASO CLAVE\n",
        "  Vfr2_acc_div[i,]=t(pos_eq)*X_s_acc_div[i,(m_fx+1):(m_fx+m_acc)]\n",
        "  #PASO CLAVE\n",
        "  PG_acc_div[i,]=as.matrix(V_acc_div[i,]-V0_acc_div)\n",
        "  PGfr1_acc_div[i,]=as.matrix(Vfr1_acc_div[i,]-V0_acc_div[,1:m_fx])\n",
        "  PGfr2_acc_div[i,]=as.matrix(Vfr2_acc_div[i,]-V0_acc_div[,(m_fx+1):(m_fx+m_acc)])\n",
        "  PGT_acc_div[i,]=sum(PG_acc_div[i,])\n",
        "  PGfr1T_acc_div[i,]=sum(PGfr1_acc_div[i,])\n",
        "  PGfr2T_acc_div[i,]=sum(PGfr2_acc_div[i,])\n",
        "}\n",
        "\n",
        "\n",
        "\n",
        "PG_acc_div[1:5,]\n",
        "PGfr1_acc_div[1:5,]\n",
        "PGfr2_acc_div[1:5,]\n",
        "PGT_acc_div[1:5,]\n",
        "\n",
        "\n",
        "#VaR por posición\n",
        "VaRCont_acc_div=matrix(0,1,m)\n",
        "VaRfr1_acc_div=matrix(0,1,m_fx)\n",
        "VaRfr2_acc_div=matrix(0,1,m_acc)\n",
        "CVaRCont_acc_div=matrix(0,1,m)\n",
        "CVaRfr1_acc_div=matrix(0,1,m_fx)\n",
        "CVaRfr2_acc_div=matrix(0,1,m_acc)\n",
        "for (i in (1:m))\n",
        "{\n",
        "  VaRCont_acc_div[i]=equantile(PG_acc_div[,i],1-alpha,Ns)\n",
        "  CVaRCont_acc_div[i]= mean(merge(which(PG_acc_div[,i]<VaRCont_acc_div[i]),cbind(seq(1,Ns),PG_acc_div[,i]), by.x=1,by.y=1)[,2])\n",
        "  if (i<=m_fx)\n",
        "  {\n",
        "  VaRfr1_acc_div[i]=equantile(PGfr1_acc_div[,i],1-alpha,Ns)\n",
        "  CVaRfr1_acc_div[i]= mean(merge(which(PGfr1_acc_div[,i]<VaRfr1_acc_div[i]),cbind(seq(1,Ns),PGfr1_acc_div[,i]), by.x=1,by.y=1)[,2])\n",
        "  }\n",
        "  if (i<=m_acc)\n",
        "  {  \n",
        "  VaRfr2_acc_div[i]=equantile(PGfr2_acc_div[,i],1-alpha,Ns)\n",
        "  CVaRfr2_acc_div[i]= mean(merge(which(PGfr2_acc_div[,i]<VaRfr2_acc_div[i]),cbind(seq(1,Ns),PGfr2_acc_div[,i]), by.x=1,by.y=1)[,2])\n",
        "  }\n",
        "}\n",
        "\n",
        "VaRCont_acc_div\n",
        "VaRfr1_acc_div\n",
        "VaRfr2_acc_div\n",
        "CVaRCont_acc_div\n",
        "CVaRfr1_acc_div\n",
        "CVaRfr2_acc_div\n",
        "\n",
        "\n",
        "#VaR Total\n",
        "\n",
        "VaRTotal_acc_div=equantile(PGT_acc_div,1-alpha,Ns)\n",
        "CVaRTotal_acc_div= mean(merge(which(PGT_acc_div<VaRTotal_acc_div),cbind(seq(1,Ns),PGT_acc_div), by.x=1,by.y=1)[,2])\n",
        "VaRTotalfr1_acc_div=equantile(PGfr1T_acc_div,1-alpha,Ns)\n",
        "CVaRTotalfr1_acc_div= mean(PGfr1T_acc_div[which(PGfr1T_acc_div<VaRTotalfr1_acc_div),])\n",
        "VaRTotalfr2_acc_div=equantile(PGfr2T_acc_div,1-alpha,Ns)\n",
        "CVaRTotalfr2_acc_div= mean(PGfr2T_acc_div[which(PGfr2T_acc_div<VaRTotalfr2_acc_div),])\n",
        "\n",
        "\n",
        "# print(cbind(VaRTotal_acc_div,sum(V0_acc_div), VaRCont_acc_div, V0_acc_div))\n",
        "cbind(CVaRTotal_acc_div,sum(V0_acc_div), CVaRCont_acc_div, V0_acc_div)\n",
        "cbind(VaRTotal_acc_div,VaRTotalfr1_acc_div,VaRTotalfr2_acc_div)\n",
        "cbind(CVaRTotal_acc_div,CVaRTotalfr1_acc_div,CVaRTotalfr2_acc_div)\n",
        "\n",
        "print(\"Valor de acciones y divisas\")\n",
        "print(V0_acc_div )\n",
        "print(\"Valor en Riesgo de acciones y divisas\")\n",
        "print(VaRCont_acc_div)\n",
        "print(\"Valor en Riesgo de divisas\")\n",
        "print(VaRTotalfr1_acc_div)\n",
        "print(\"Valor en Riesgo de acciones\")\n",
        "print(VaRTotalfr2_acc_div)\n",
        "\n",
        "print(\"Valor en Riesgo Condicional de acciones y divisas\")\n",
        "print(CVaRCont_acc_div)\n",
        "print(\"Valor en Riesgo Condicional de divisas\")\n",
        "print(CVaRTotalfr1_acc_div)\n",
        "print(\"Valor en Riesgo Condicional de acciones\")\n",
        "print(CVaRTotalfr2_acc_div)\n"
      ],
      "execution_count": 437,
      "outputs": [
        {
          "output_type": "stream",
          "name": "stdout",
          "text": [
            "[1] \"Valor de acciones y divisas\"\n",
            "   EURUSD.X  GBPUSD.X USDMXN.X AMXL.MX GCARSOA1.MX WALMEX.MX\n",
            "1: 15567.65 -15396.68 29721.75  -79600       52940     69000\n",
            "[1] \"Valor en Riesgo de acciones y divisas\"\n",
            "          [,1]      [,2]      [,3]      [,4]      [,5]      [,6]\n",
            "[1,] -164.2607 -261.6068 -354.8889 -2858.266 -2664.647 -1810.567\n",
            "[1] \"Valor en Riesgo de divisas\"\n",
            "[1] -396.7038\n",
            "[1] \"Valor en Riesgo de acciones\"\n",
            "[1] -2909.172\n",
            "[1] \"Valor en Riesgo Condicional de acciones y divisas\"\n",
            "          [,1]      [,2]      [,3]      [,4]     [,5]      [,6]\n",
            "[1,] -200.9584 -334.8924 -539.3833 -3557.072 -4400.62 -2313.259\n",
            "[1] \"Valor en Riesgo Condicional de divisas\"\n",
            "[1] -553.5146\n",
            "[1] \"Valor en Riesgo Condicional de acciones\"\n",
            "[1] -3561.442\n"
          ]
        }
      ]
    },
    {
      "cell_type": "markdown",
      "metadata": {
        "id": "jOV9aFS9nkpS"
      },
      "source": [
        "### Inciso 3: Cetes"
      ]
    },
    {
      "cell_type": "code",
      "metadata": {
        "id": "gMtKyz2Tnocx",
        "colab": {
          "base_uri": "https://localhost:8080/"
        },
        "outputId": "63f7145a-6060-42bd-b820-04911d592937"
      },
      "source": [
        "%%R"
      ],
      "execution_count": 438,
      "outputs": [
        {
          "output_type": "stream",
          "name": "stderr",
          "text": [
            "UsageError: %%R is a cell magic, but the cell body is empty. Did you mean the line magic %R (single %)?\n"
          ]
        }
      ]
    },
    {
      "cell_type": "markdown",
      "metadata": {
        "id": "MGQx0Oy3npy8"
      },
      "source": [
        "### Inciso 3: Bonos M"
      ]
    },
    {
      "cell_type": "code",
      "metadata": {
        "id": "lEOKnSJ5nsxR"
      },
      "source": [
        "%%R"
      ],
      "execution_count": null,
      "outputs": []
    },
    {
      "cell_type": "markdown",
      "metadata": {
        "id": "Lba6uV2TnuGK"
      },
      "source": [
        "### Inciso 3: Bondes D"
      ]
    },
    {
      "cell_type": "code",
      "metadata": {
        "id": "YBy4DT0qn0Ax"
      },
      "source": [
        "%%R"
      ],
      "execution_count": null,
      "outputs": []
    },
    {
      "cell_type": "markdown",
      "metadata": {
        "id": "PF6R6z1Tn06k"
      },
      "source": [
        "### Inciso 4: Forwards de tipo de cambio"
      ]
    },
    {
      "cell_type": "code",
      "metadata": {
        "id": "eIB6qdbsn6Fa"
      },
      "source": [
        "%%R"
      ],
      "execution_count": null,
      "outputs": []
    },
    {
      "cell_type": "markdown",
      "metadata": {
        "id": "d4neKbsqn7XJ"
      },
      "source": [
        "### Inciso 4: Forwards de indice"
      ]
    },
    {
      "cell_type": "code",
      "metadata": {
        "id": "g1F-6O_Wn_Vx"
      },
      "source": [
        "%%R"
      ],
      "execution_count": null,
      "outputs": []
    },
    {
      "cell_type": "markdown",
      "metadata": {
        "id": "2lTNgzE6oAi5"
      },
      "source": [
        "### Inciso 5: Swaps"
      ]
    },
    {
      "cell_type": "code",
      "metadata": {
        "id": "vflCvCScoDHp",
        "colab": {
          "base_uri": "https://localhost:8080/"
        },
        "outputId": "f4505ff6-2cb6-4b2b-bf97-2be16f4d4646"
      },
      "source": [
        "%%R\n",
        "#riesgo del swap\n",
        "m=ncol(N)    #PASO CLAVE\n",
        "X_s_sw=matrix(0,Ns,n_if[3]) #Factores de riesgo simulados con base en DeltaX_s x0*(1+Delta_Xs)   #PASO CLAVE\n",
        "V_sw=matrix(0,Ns,m)\n",
        "Vfr1_sw=matrix(0,Ns,m)\n",
        "Vfr2_sw=matrix(0,Ns,m)\n",
        "PG_sw=matrix(0,Ns,m) #Pèrdidas y ganancias\n",
        "PGfr1_sw=matrix(0,Ns,m)\n",
        "PGfr2_sw=matrix(0,Ns,m)\n",
        "PGT_sw=matrix(0,Ns,1)\n",
        "PGfr1T_sw=matrix(0,Ns,1)\n",
        "PGfr2T_sw=matrix(0,Ns,1)\n",
        "\n",
        "DeltaX_s_sw=DeltaX_s[,sum(n_if[1:2],1):sum(n_if[1:3])]    #PASO CLAVE\n",
        "x0_sw=as.numeric(c(XtfwdT[1,],Xvp[1,]))   #PASO CLAVE\n",
        "\n",
        "for (i in 1:Ns)\n",
        "{\n",
        "  X_s_sw[i,]=x0_sw*exp(DeltaX_s_sw[i,])\n",
        "  #PASO CLAVE\n",
        "  V_sw[i,]=swap(por_swT, contratos_swT, nominal_swT, X_s_sw[i,1:(n_if[3]/2)], tasafija_swT, plazocupon_swT, VTplazos_sw, X_s_sw[i,(n_if[3]/2+1):(n_if[3])],N)\n",
        "  #PASO CLAVE\n",
        "  Vfr1_sw[i,]=swap(por_swT, contratos_swT, nominal_swT,X_s_sw[i,1:(n_if[3]/2)], tasafija_swT, plazocupon_swT, VTplazos_sw, Xvp[1,],N)\n",
        "  #PASO CLAVE\n",
        "  Vfr2_sw[i,]=swap(por_swT, contratos_swT, nominal_swT,  XtfwdT[1,], tasafija_swT, plazocupon_swT, VTplazos_sw, X_s_sw[i,(n_if[3]/2+1):(n_if[3])],N)\n",
        "  #PASO CLAVE\n",
        "  PG_sw[i,]=V_sw[i,]-V0_sw\n",
        "  PGfr1_sw[i,]=Vfr1_sw[i,]-V0_sw\n",
        "  PGfr2_sw[i,]=Vfr2_sw[i,]-V0_sw\n",
        "  PGT_sw[i,]=sum(PG_sw[i,])\n",
        "  PGfr1T_sw[i,]=sum(PGfr1_sw[i,])\n",
        "  PGfr2T_sw[i,]=sum(PGfr2_sw[i,])\n",
        "}\n",
        "\n",
        "\n",
        "\n",
        "#VaR por posición\n",
        "VaRCont_sw=matrix(0,1,m)\n",
        "VaRfr1_sw=matrix(0,1,m)\n",
        "VaRfr2_sw=matrix(0,1,m)\n",
        "CVaRCont_sw=matrix(0,1,m)\n",
        "CVaRfr1_sw=matrix(0,1,m)\n",
        "CVaRfr2_sw=matrix(0,1,m)\n",
        "for (i in (1:m))\n",
        "{\n",
        "  VaRCont_sw[i]=equantile(PG_sw[,i],1-alpha,Ns)\n",
        "  VaRfr1_sw[i]=equantile(PGfr1_sw[,i],1-alpha,Ns)\n",
        "  VaRfr2_sw[i]=equantile(PGfr2_sw[,i],1-alpha,Ns)\n",
        "  CVaRfr1_sw[i]= mean(merge(which(PGfr1_sw[,i]<VaRfr1_sw[i]),cbind(seq(1,Ns),PGfr1_sw[,i]), by.x=1,by.y=1)[,2])\n",
        "  CVaRfr2_sw[i]= mean(merge(which(PGfr2_sw[,i]<VaRfr2_sw[i]),cbind(seq(1,Ns),PGfr2_sw[,i]), by.x=1,by.y=1)[,2])\n",
        "  CVaRCont_sw[i]= mean(merge(which(PG_sw[,i]<VaRCont_sw[i]),cbind(seq(1,Ns),PG_sw[,i]), by.x=1,by.y=1)[,2])\n",
        "}\n",
        "\n",
        "#VaR Total\n",
        "\n",
        "VaRTotal_sw=equantile(PGT_sw,1-alpha,Ns)\n",
        "CVaRTotal_sw= mean(merge(which(PGT_sw<VaRTotal_sw),cbind(seq(1,Ns),PGT_sw), by.x=1,by.y=1)[,2])\n",
        "VaRTotalfr1_sw=equantile(PGfr1T_sw,1-alpha,Ns)\n",
        "CVaRTotalfr1_sw= mean(PGfr1T_sw[which(PGfr1T_sw<VaRTotalfr1_sw),])\n",
        "VaRTotalfr2_sw=equantile(PGfr2T_sw,1-alpha,Ns)\n",
        "CVaRTotalfr2_sw= mean(PGfr2T_sw[which(PGfr2T_sw<VaRTotalfr2_sw),])\n",
        "\n",
        "\n",
        "print(cbind(VaRTotal_sw,sum(V0_sw), VaRCont_sw, V0_sw))\n",
        "print(cbind(CVaRTotal_sw,sum(V0_sw), CVaRCont_sw, V0_sw))\n",
        "print(cbind(VaRTotal_sw,VaRTotalfr1_sw,VaRTotalfr2_sw))\n",
        "print(cbind(CVaRTotal_sw,CVaRTotalfr1_sw,CVaRTotalfr2_sw))\n"
      ],
      "execution_count": 446,
      "outputs": [
        {
          "output_type": "stream",
          "name": "stdout",
          "text": [
            "     VaRTotal_sw                                                \n",
            "[1,]   -4.231178 108.0531 -3.379938 -0.9049095 79.69671 28.35638\n",
            "     CVaRTotal_sw                                               \n",
            "[1,]    -6.319764 108.0531 -5.090684 -1.524824 79.69671 28.35638\n",
            "     VaRTotal_sw VaRTotalfr1_sw VaRTotalfr2_sw\n",
            "[1,]   -4.231178      -4.249618    -0.09853602\n",
            "     CVaRTotal_sw CVaRTotalfr1_sw CVaRTotalfr2_sw\n",
            "[1,]    -6.319764       -6.341834      -0.1893861\n"
          ]
        }
      ]
    },
    {
      "cell_type": "markdown",
      "metadata": {
        "id": "rs73pFQJoEYo"
      },
      "source": [
        "### Inciso 6: Opciones"
      ]
    },
    {
      "cell_type": "code",
      "metadata": {
        "id": "zNGxKu6DoHLA"
      },
      "source": [
        "%%R"
      ],
      "execution_count": null,
      "outputs": []
    },
    {
      "cell_type": "markdown",
      "metadata": {
        "id": "SkvxE6A03YsR"
      },
      "source": [
        "## Medición de riesgo, con alisado"
      ]
    },
    {
      "cell_type": "markdown",
      "metadata": {
        "id": "x62UCMUm3ect"
      },
      "source": [
        "### Generación de escenarios"
      ]
    },
    {
      "cell_type": "code",
      "metadata": {
        "colab": {
          "base_uri": "https://localhost:8080/"
        },
        "id": "ZT1Rzgnu3u3V",
        "outputId": "1ef7bdb9-f9d6-458e-92b0-f99498936ec9"
      },
      "source": [
        "%%R\n",
        "w0 <- 0.05 #@param {type:\"number\"}\n",
        "lambda =uniroot(function(x) w0*(1-x^(n))/(1-x)-1, c(0,0.99), tol = 1e-28)$root\n",
        "\n",
        "\n",
        "#generamos la función que genera \"n\" escenarios con base en w0 y lambda\n",
        "genera_esc=function(lamda,w0,n)\n",
        "{\n",
        "  p_esc=matrix(0,n,1)\n",
        "  for (i in (1:n))\n",
        "  {\n",
        "    p_esc[i]=w0*lambda^(i-1)\n",
        "  }\n",
        "  p_esc\n",
        "}\n",
        "\n",
        "p_esc=genera_esc(lambda,w0,Ns)\n",
        "sum(p_esc)"
      ],
      "execution_count": 448,
      "outputs": [
        {
          "output_type": "stream",
          "name": "stdout",
          "text": [
            "[1] 0.9999993\n"
          ]
        }
      ]
    },
    {
      "cell_type": "markdown",
      "metadata": {
        "id": "I_WCiVlw4SFu"
      },
      "source": [
        "#### Inciso 1 y 2: Acciones y divisas\n"
      ]
    },
    {
      "cell_type": "code",
      "metadata": {
        "colab": {
          "base_uri": "https://localhost:8080/"
        },
        "id": "-eWMjTb64WEF",
        "outputId": "ba5ab5fd-9c32-4238-95cd-faa5dd375040"
      },
      "source": [
        "%%R\n",
        "VaRCACont_acc_div=matrix(0,1,m)\n",
        "VaRCAfr1_acc_div=matrix(0,1,m_fx)\n",
        "VaRCAfr2_acc_div=matrix(0,1,m_acc)\n",
        "CVaRCACont_acc_div=matrix(0,1,m)\n",
        "CVaRCAfr1_acc_div=matrix(0,1,m_fx)\n",
        "CVaRCAfr2_acc_div=matrix(0,1,m_acc)\n",
        "for (i in (1:m))\n",
        "{\n",
        "  VaRCACont_acc_div[i]=wquantile(as.matrix(PG_acc_div[,i]), p_esc, 1-alpha)\n",
        "  CVaRCACont_acc_div[i]= wcvar(as.matrix(PG_acc_div[,i]), p_esc, 1-alpha)\n",
        "  if (i<=m_fx)\n",
        "  {\n",
        "  VaRCAfr1_acc_div[i]=wquantile(as.matrix(PGfr1_acc_div[,i]), p_esc, 1-alpha)\n",
        "  CVaRCAfr1_acc_div[i]= wcvar(as.matrix(PGfr1_acc_div[,i]), p_esc, 1-alpha)\n",
        "  }\n",
        "  if (i<=m_acc)\n",
        "  {  \n",
        "  VaRCAfr2_acc_div[i]=wquantile(as.matrix(PGfr2_acc_div[,i]), p_esc, 1-alpha)\n",
        "  CVaRCAfr2_acc_div[i]= wcvar(as.matrix(PGfr2_acc_div[,i]), p_esc, 1-alpha)\n",
        "  }\n",
        "}\n",
        "\n",
        "VaRCACont_acc_div\n",
        "VaRCAfr1_acc_div\n",
        "VaRCAfr2_acc_div\n",
        "CVaRCACont_acc_div\n",
        "CVaRCAfr1_acc_div\n",
        "CVaRCAfr2_acc_div\n",
        "\n",
        "#VaR Total\n",
        "\n",
        "VaRCATotal_acc_div=wquantile(PGT_acc_div,p_esc, 1-alpha)\n",
        "CVaRCATotal_acc_div= wcvar(PGT_acc_div,p_esc,1-alpha)\n",
        "VaRCATotalfr1_acc_div=wquantile(PGfr1T_acc_div,p_esc,1-alpha)\n",
        "CVaRCATotalfr1_acc_div= wcvar(PGfr1T_acc_div,p_esc,1-alpha)\n",
        "VaRCATotalfr2_acc_div=wquantile(PGfr2T_acc_div,p_esc,1-alpha)\n",
        "CVaRCATotalfr2_acc_div= wcvar(PGfr2T_acc_div,p_esc,1-alpha)\n",
        "\n",
        "print(\"Valor de acciones y divisas\")\n",
        "print(V0_acc_div )\n",
        "print(\"Valor en Riesgo de acciones y divisas\")\n",
        "print(VaRCACont_acc_div)\n",
        "print(\"Valor en Riesgo de divisas\")\n",
        "print(VaRCATotalfr1_acc_div)\n",
        "print(\"Valor en Riesgo de acciones\")\n",
        "print(VaRCATotalfr2_acc_div)\n",
        "\n",
        "print(\"Valor en Riesgo Condicional de acciones y divisas\")\n",
        "print(CVaRCACont_acc_div)\n",
        "print(\"Valor en Riesgo Condicional de divisas\")\n",
        "print(CVaRCATotalfr1_acc_div)\n",
        "print(\"Valor en Riesgo Condicional de acciones\")\n",
        "print(CVaRCATotalfr2_acc_div)"
      ],
      "execution_count": 450,
      "outputs": [
        {
          "output_type": "stream",
          "name": "stdout",
          "text": [
            "[1] \"Valor de acciones y divisas\"\n",
            "   EURUSD.X  GBPUSD.X USDMXN.X AMXL.MX GCARSOA1.MX WALMEX.MX\n",
            "1: 15567.65 -15396.68 29721.75  -79600       52940     69000\n",
            "[1] \"Valor en Riesgo de acciones y divisas\"\n",
            "          [,1]      [,2]\n",
            "[1,] -200.4597 -326.4396\n",
            "[1] \"Valor en Riesgo de divisas\"\n",
            "[1] -455.6402\n",
            "[1] \"Valor en Riesgo de acciones\"\n",
            "[1] -3997.393\n",
            "[1] \"Valor en Riesgo Condicional de acciones y divisas\"\n",
            "          [,1]      [,2]\n",
            "[1,] -247.2496 -398.2374\n",
            "[1] \"Valor en Riesgo Condicional de divisas\"\n",
            "[1] -659.7572\n",
            "[1] \"Valor en Riesgo Condicional de acciones\"\n",
            "[1] -4639.764\n"
          ]
        }
      ]
    },
    {
      "cell_type": "markdown",
      "metadata": {
        "id": "-zAVC0t_4XZN"
      },
      "source": [
        "#### Inciso 3: Cetes"
      ]
    },
    {
      "cell_type": "code",
      "metadata": {
        "id": "VfKf48nY4a9I"
      },
      "source": [
        "%%R"
      ],
      "execution_count": null,
      "outputs": []
    },
    {
      "cell_type": "markdown",
      "metadata": {
        "id": "VuCNj7bx4bym"
      },
      "source": [
        "#### Inciso 3: Bonos M"
      ]
    },
    {
      "cell_type": "code",
      "metadata": {
        "id": "DdXhxDwF4ebW"
      },
      "source": [
        "%%R"
      ],
      "execution_count": null,
      "outputs": []
    },
    {
      "cell_type": "markdown",
      "metadata": {
        "id": "C8UO0Vaw4kfN"
      },
      "source": [
        "#### Inciso 3: Bondes D"
      ]
    },
    {
      "cell_type": "code",
      "metadata": {
        "id": "xv33bHYV4mvm"
      },
      "source": [
        "%%R"
      ],
      "execution_count": null,
      "outputs": []
    },
    {
      "cell_type": "markdown",
      "metadata": {
        "id": "s1m9hIgG4ni2"
      },
      "source": [
        "#### Inciso 4: Forward de tipo de cambio"
      ]
    },
    {
      "cell_type": "code",
      "metadata": {
        "id": "moM4wuQE4ubd"
      },
      "source": [
        "%%R"
      ],
      "execution_count": null,
      "outputs": []
    },
    {
      "cell_type": "markdown",
      "metadata": {
        "id": "hRcZPNXk4vWG"
      },
      "source": [
        "#### Inciso 4: Forwards de indice"
      ]
    },
    {
      "cell_type": "code",
      "metadata": {
        "id": "YIIz3coU4y0l"
      },
      "source": [
        "%%R"
      ],
      "execution_count": null,
      "outputs": []
    },
    {
      "cell_type": "markdown",
      "metadata": {
        "id": "e_hc4LuZ4zx1"
      },
      "source": [
        "#### Inciso 5: Swaps"
      ]
    },
    {
      "cell_type": "code",
      "metadata": {
        "id": "J5D9TXXI5MK0"
      },
      "source": [
        "%%R"
      ],
      "execution_count": null,
      "outputs": []
    },
    {
      "cell_type": "markdown",
      "metadata": {
        "id": "DLRDqT4q5NVt"
      },
      "source": [
        "#### Inciso 6: Opciones"
      ]
    },
    {
      "cell_type": "code",
      "metadata": {
        "id": "eyHLWcHo5SHV"
      },
      "source": [
        "%%R"
      ],
      "execution_count": null,
      "outputs": []
    },
    {
      "cell_type": "markdown",
      "metadata": {
        "id": "6t563UyF8jp9"
      },
      "source": [
        "## Riesgo integral"
      ]
    },
    {
      "cell_type": "code",
      "metadata": {
        "colab": {
          "base_uri": "https://localhost:8080/",
          "height": 680
        },
        "id": "vy1wk00C8og3",
        "outputId": "27930801-8a47-4c71-f6f2-6fbfd9e777f8"
      },
      "source": [
        "%%R\n",
        "#Medición de riesgo por factor de riesgo de todo el portafolios\n",
        "#Acciones\n",
        "#1. Acciones \n",
        "PGPort_ACC=PGfr2T_acc_div + PGfr3T_fwind #Pérdidas y ganancias\n",
        "VaRPort_ACC=equantile(PGPort_ACC,1-alpha,Ns) #VaR\n",
        "CVaRPort_ACC= mean(PGPort_ACC[which(PGPort_ACC<VaRPort_ACC)]) #CVaR\n",
        "\n",
        "\n",
        "#Tasa de Interés\n",
        "#1. Dado que swaps y bondes son de tasa de interés usaremos PGT_bd y PGT_sw\n",
        "#2. Para futuros usaremos PGfr1T_fwtdc y PGfr2T_fwtdc\n",
        "PGPort_TI=PGT_bd+PGT_sw+PGfr1T_oir +PGfr2T_oir + PGfr1T_fwind +PGfr2T_fwind + PGfr1T_fwtdc + PGfr2T_fwtdc#Pérdidas y ganancias\n",
        "VaRPort_TI=equantile(PGPort_TI,1-alpha,Ns) #VaR\n",
        "CVaRPort_TI= mean(PGPort_TI[which(PGPort_TI<VaRPort_TI)]) #CVaR\n",
        "\n",
        "#Tipo de cambio\n",
        "#1. Dado que swaps y bondes son de tasa de interés no usamos nada\n",
        "#2. Para futuros usamos sólo PGfr3T_fwtdc\n",
        "PGPort_TDC=PGfr1T_acc_div + PGfr3T_fwtdc  #Pérdidas y ganancias\n",
        "VaRPort_TDC=equantile(PGPort_TDC,1-alpha,Ns) #VaR\n",
        "CVaRPort_TDC= mean(PGPort_TDC[which(PGPort_TDC<VaRPort_TDC)]) #CVaR\n",
        "\n",
        "#Volatilidad\n",
        "#1. Sólo aplica la volatilidad de Opciones de tasa de interés\n",
        "\n",
        "PGPort_VOL=PGfr3T_oir  #Pérdidas y ganancias\n",
        "VaRPort_VOL=equantile(PGPort_VOL,1-alpha,Ns) #VaR\n",
        "CVaRPort_VOL= mean(PGPort_VOL[which(PGPort_VOL<VaRPort_VOL)]) #CVaR\n",
        "\n",
        "\n",
        "#Medición de riesgo de todo el portafolios\n",
        "#Sumar todos los PGT de todos los instrumentos\n",
        "\n",
        "PGT_Port=PGPort_ACC+PGPort_TI+PGPort_TDC+PGPort_VOL\n",
        "VaRTotal_Port=equantile(PGT_Port,1-alpha,Ns) #VaR\n",
        "CVaRTotal_Port= mean(PGT_Port[which(PGT_Port<VaRTotal_Port)]) #CVaR"
      ],
      "execution_count": 451,
      "outputs": [
        {
          "output_type": "stream",
          "name": "stderr",
          "text": [
            "R[write to console]: Error in withVisible({ : object 'PGfr3T_fwind' not found\n",
            "\n"
          ]
        },
        {
          "output_type": "stream",
          "name": "stdout",
          "text": [
            "\n",
            "Error in withVisible({ : object 'PGfr3T_fwind' not found\n"
          ]
        },
        {
          "output_type": "error",
          "ename": "RInterpreterError",
          "evalue": "ignored",
          "traceback": [
            "\u001b[0;31m---------------------------------------------------------------------------\u001b[0m",
            "\u001b[0;31mRRuntimeError\u001b[0m                             Traceback (most recent call last)",
            "\u001b[0;32m/usr/local/lib/python3.7/dist-packages/rpy2/ipython/rmagic.py\u001b[0m in \u001b[0;36meval\u001b[0;34m(self, code)\u001b[0m\n\u001b[1;32m    267\u001b[0m                 \u001b[0;31m# Need the newline in case the last line in code is a comment.\u001b[0m\u001b[0;34m\u001b[0m\u001b[0;34m\u001b[0m\u001b[0;34m\u001b[0m\u001b[0m\n\u001b[0;32m--> 268\u001b[0;31m                 \u001b[0mvalue\u001b[0m\u001b[0;34m,\u001b[0m \u001b[0mvisible\u001b[0m \u001b[0;34m=\u001b[0m \u001b[0mro\u001b[0m\u001b[0;34m.\u001b[0m\u001b[0mr\u001b[0m\u001b[0;34m(\u001b[0m\u001b[0;34m\"withVisible({%s\\n})\"\u001b[0m \u001b[0;34m%\u001b[0m \u001b[0mcode\u001b[0m\u001b[0;34m)\u001b[0m\u001b[0;34m\u001b[0m\u001b[0;34m\u001b[0m\u001b[0m\n\u001b[0m\u001b[1;32m    269\u001b[0m             \u001b[0;32mexcept\u001b[0m \u001b[0;34m(\u001b[0m\u001b[0mri\u001b[0m\u001b[0;34m.\u001b[0m\u001b[0membedded\u001b[0m\u001b[0;34m.\u001b[0m\u001b[0mRRuntimeError\u001b[0m\u001b[0;34m,\u001b[0m \u001b[0mValueError\u001b[0m\u001b[0;34m)\u001b[0m \u001b[0;32mas\u001b[0m \u001b[0mexception\u001b[0m\u001b[0;34m:\u001b[0m\u001b[0;34m\u001b[0m\u001b[0;34m\u001b[0m\u001b[0m\n",
            "\u001b[0;32m/usr/local/lib/python3.7/dist-packages/rpy2/robjects/__init__.py\u001b[0m in \u001b[0;36m__call__\u001b[0;34m(self, string)\u001b[0m\n\u001b[1;32m    437\u001b[0m         \u001b[0mp\u001b[0m \u001b[0;34m=\u001b[0m \u001b[0mrinterface\u001b[0m\u001b[0;34m.\u001b[0m\u001b[0mparse\u001b[0m\u001b[0;34m(\u001b[0m\u001b[0mstring\u001b[0m\u001b[0;34m)\u001b[0m\u001b[0;34m\u001b[0m\u001b[0;34m\u001b[0m\u001b[0m\n\u001b[0;32m--> 438\u001b[0;31m         \u001b[0mres\u001b[0m \u001b[0;34m=\u001b[0m \u001b[0mself\u001b[0m\u001b[0;34m.\u001b[0m\u001b[0meval\u001b[0m\u001b[0;34m(\u001b[0m\u001b[0mp\u001b[0m\u001b[0;34m)\u001b[0m\u001b[0;34m\u001b[0m\u001b[0;34m\u001b[0m\u001b[0m\n\u001b[0m\u001b[1;32m    439\u001b[0m         \u001b[0;32mreturn\u001b[0m \u001b[0mconversion\u001b[0m\u001b[0;34m.\u001b[0m\u001b[0mrpy2py\u001b[0m\u001b[0;34m(\u001b[0m\u001b[0mres\u001b[0m\u001b[0;34m)\u001b[0m\u001b[0;34m\u001b[0m\u001b[0;34m\u001b[0m\u001b[0m\n",
            "\u001b[0;32m/usr/local/lib/python3.7/dist-packages/rpy2/robjects/functions.py\u001b[0m in \u001b[0;36m__call__\u001b[0;34m(self, *args, **kwargs)\u001b[0m\n\u001b[1;32m    198\u001b[0m         return (super(SignatureTranslatedFunction, self)\n\u001b[0;32m--> 199\u001b[0;31m                 .__call__(*args, **kwargs))\n\u001b[0m\u001b[1;32m    200\u001b[0m \u001b[0;34m\u001b[0m\u001b[0m\n",
            "\u001b[0;32m/usr/local/lib/python3.7/dist-packages/rpy2/robjects/functions.py\u001b[0m in \u001b[0;36m__call__\u001b[0;34m(self, *args, **kwargs)\u001b[0m\n\u001b[1;32m    124\u001b[0m                 \u001b[0mnew_kwargs\u001b[0m\u001b[0;34m[\u001b[0m\u001b[0mk\u001b[0m\u001b[0;34m]\u001b[0m \u001b[0;34m=\u001b[0m \u001b[0mconversion\u001b[0m\u001b[0;34m.\u001b[0m\u001b[0mpy2rpy\u001b[0m\u001b[0;34m(\u001b[0m\u001b[0mv\u001b[0m\u001b[0;34m)\u001b[0m\u001b[0;34m\u001b[0m\u001b[0;34m\u001b[0m\u001b[0m\n\u001b[0;32m--> 125\u001b[0;31m         \u001b[0mres\u001b[0m \u001b[0;34m=\u001b[0m \u001b[0msuper\u001b[0m\u001b[0;34m(\u001b[0m\u001b[0mFunction\u001b[0m\u001b[0;34m,\u001b[0m \u001b[0mself\u001b[0m\u001b[0;34m)\u001b[0m\u001b[0;34m.\u001b[0m\u001b[0m__call__\u001b[0m\u001b[0;34m(\u001b[0m\u001b[0;34m*\u001b[0m\u001b[0mnew_args\u001b[0m\u001b[0;34m,\u001b[0m \u001b[0;34m**\u001b[0m\u001b[0mnew_kwargs\u001b[0m\u001b[0;34m)\u001b[0m\u001b[0;34m\u001b[0m\u001b[0;34m\u001b[0m\u001b[0m\n\u001b[0m\u001b[1;32m    126\u001b[0m         \u001b[0mres\u001b[0m \u001b[0;34m=\u001b[0m \u001b[0mconversion\u001b[0m\u001b[0;34m.\u001b[0m\u001b[0mrpy2py\u001b[0m\u001b[0;34m(\u001b[0m\u001b[0mres\u001b[0m\u001b[0;34m)\u001b[0m\u001b[0;34m\u001b[0m\u001b[0;34m\u001b[0m\u001b[0m\n",
            "\u001b[0;32m/usr/local/lib/python3.7/dist-packages/rpy2/rinterface_lib/conversion.py\u001b[0m in \u001b[0;36m_\u001b[0;34m(*args, **kwargs)\u001b[0m\n\u001b[1;32m     44\u001b[0m     \u001b[0;32mdef\u001b[0m \u001b[0m_\u001b[0m\u001b[0;34m(\u001b[0m\u001b[0;34m*\u001b[0m\u001b[0margs\u001b[0m\u001b[0;34m,\u001b[0m \u001b[0;34m**\u001b[0m\u001b[0mkwargs\u001b[0m\u001b[0;34m)\u001b[0m\u001b[0;34m:\u001b[0m\u001b[0;34m\u001b[0m\u001b[0;34m\u001b[0m\u001b[0m\n\u001b[0;32m---> 45\u001b[0;31m         \u001b[0mcdata\u001b[0m \u001b[0;34m=\u001b[0m \u001b[0mfunction\u001b[0m\u001b[0;34m(\u001b[0m\u001b[0;34m*\u001b[0m\u001b[0margs\u001b[0m\u001b[0;34m,\u001b[0m \u001b[0;34m**\u001b[0m\u001b[0mkwargs\u001b[0m\u001b[0;34m)\u001b[0m\u001b[0;34m\u001b[0m\u001b[0;34m\u001b[0m\u001b[0m\n\u001b[0m\u001b[1;32m     46\u001b[0m         \u001b[0;31m# TODO: test cdata is of the expected CType\u001b[0m\u001b[0;34m\u001b[0m\u001b[0;34m\u001b[0m\u001b[0;34m\u001b[0m\u001b[0m\n",
            "\u001b[0;32m/usr/local/lib/python3.7/dist-packages/rpy2/rinterface.py\u001b[0m in \u001b[0;36m__call__\u001b[0;34m(self, *args, **kwargs)\u001b[0m\n\u001b[1;32m    679\u001b[0m             \u001b[0;32mif\u001b[0m \u001b[0merror_occured\u001b[0m\u001b[0;34m[\u001b[0m\u001b[0;36m0\u001b[0m\u001b[0;34m]\u001b[0m\u001b[0;34m:\u001b[0m\u001b[0;34m\u001b[0m\u001b[0;34m\u001b[0m\u001b[0m\n\u001b[0;32m--> 680\u001b[0;31m                 \u001b[0;32mraise\u001b[0m \u001b[0membedded\u001b[0m\u001b[0;34m.\u001b[0m\u001b[0mRRuntimeError\u001b[0m\u001b[0;34m(\u001b[0m\u001b[0m_rinterface\u001b[0m\u001b[0;34m.\u001b[0m\u001b[0m_geterrmessage\u001b[0m\u001b[0;34m(\u001b[0m\u001b[0;34m)\u001b[0m\u001b[0;34m)\u001b[0m\u001b[0;34m\u001b[0m\u001b[0;34m\u001b[0m\u001b[0m\n\u001b[0m\u001b[1;32m    681\u001b[0m         \u001b[0;32mreturn\u001b[0m \u001b[0mres\u001b[0m\u001b[0;34m\u001b[0m\u001b[0;34m\u001b[0m\u001b[0m\n",
            "\u001b[0;31mRRuntimeError\u001b[0m: Error in withVisible({ : object 'PGfr3T_fwind' not found\n",
            "\nDuring handling of the above exception, another exception occurred:\n",
            "\u001b[0;31mRInterpreterError\u001b[0m                         Traceback (most recent call last)",
            "\u001b[0;32m<ipython-input-451-95c388ec1c58>\u001b[0m in \u001b[0;36m<module>\u001b[0;34m()\u001b[0m\n\u001b[0;32m----> 1\u001b[0;31m \u001b[0mget_ipython\u001b[0m\u001b[0;34m(\u001b[0m\u001b[0;34m)\u001b[0m\u001b[0;34m.\u001b[0m\u001b[0mrun_cell_magic\u001b[0m\u001b[0;34m(\u001b[0m\u001b[0;34m'R'\u001b[0m\u001b[0;34m,\u001b[0m \u001b[0;34m''\u001b[0m\u001b[0;34m,\u001b[0m \u001b[0;34m'#Medición de riesgo por factor de riesgo de todo el portafolios\\n#Acciones\\n#1. Acciones \\nPGPort_ACC=PGfr2T_acc_div + PGfr3T_fwind #Pérdidas y ganancias\\nVaRPort_ACC=equantile(PGPort_ACC,1-alpha,Ns) #VaR\\nCVaRPort_ACC= mean(PGPort_ACC[which(PGPort_ACC<VaRPort_ACC)]) #CVaR\\n\\n\\n#Tasa de Interés\\n#1. Dado que swaps y bondes son de tasa de interés usaremos PGT_bd y PGT_sw\\n#2. Para futuros usaremos PGfr1T_fwtdc y PGfr2T_fwtdc\\nPGPort_TI=PGT_bd+PGT_sw+PGfr1T_oir +PGfr2T_oir + PGfr1T_fwind +PGfr2T_fwind + PGfr1T_fwtdc + PGfr2T_fwtdc#Pérdidas y ganancias\\nVaRPort_TI=equantile(PGPort_TI,1-alpha,Ns) #VaR\\nCVaRPort_TI= mean(PGPort_TI[which(PGPort_TI<VaRPort_TI)]) #CVaR\\n\\n#Tipo de cambio\\n#1. Dado que swaps y bondes son de tasa de interés no usamos nada\\n#2. Para futuros usamos sólo PGfr3T_fwtdc\\nPGPort_TDC=PGfr1T_acc_div + PGfr3T_fwtdc  #Pérdidas y ganancias\\nVaRPort_TDC=equantile(PGPort_TDC,1-alpha,Ns) #VaR\\nCVaRPort_TDC= mean(PGPort_TDC[which(PGPort_TDC<VaRPort_TDC)]) #CVaR\\n\\n#Volatilidad\\n#1. Sólo aplica la volatilidad de Opciones de tasa de interés\\n\\nPGPort_VOL=PGfr3T_oir  #Pérdidas y ganancias\\nVaRPort_VOL=equantile(PGPort_VOL,1-alpha,Ns) #VaR\\nCVaRPort_VOL= mean(PGPort_VOL[which(PGPort_VOL<VaRPort_VOL)]) #CVaR\\n\\n\\n#Medición de riesgo de todo el portafolios\\n#Sumar todos los PGT de todos los instrumento...\n\u001b[0m",
            "\u001b[0;32m/usr/local/lib/python3.7/dist-packages/IPython/core/interactiveshell.py\u001b[0m in \u001b[0;36mrun_cell_magic\u001b[0;34m(self, magic_name, line, cell)\u001b[0m\n\u001b[1;32m   2115\u001b[0m             \u001b[0mmagic_arg_s\u001b[0m \u001b[0;34m=\u001b[0m \u001b[0mself\u001b[0m\u001b[0;34m.\u001b[0m\u001b[0mvar_expand\u001b[0m\u001b[0;34m(\u001b[0m\u001b[0mline\u001b[0m\u001b[0;34m,\u001b[0m \u001b[0mstack_depth\u001b[0m\u001b[0;34m)\u001b[0m\u001b[0;34m\u001b[0m\u001b[0;34m\u001b[0m\u001b[0m\n\u001b[1;32m   2116\u001b[0m             \u001b[0;32mwith\u001b[0m \u001b[0mself\u001b[0m\u001b[0;34m.\u001b[0m\u001b[0mbuiltin_trap\u001b[0m\u001b[0;34m:\u001b[0m\u001b[0;34m\u001b[0m\u001b[0;34m\u001b[0m\u001b[0m\n\u001b[0;32m-> 2117\u001b[0;31m                 \u001b[0mresult\u001b[0m \u001b[0;34m=\u001b[0m \u001b[0mfn\u001b[0m\u001b[0;34m(\u001b[0m\u001b[0mmagic_arg_s\u001b[0m\u001b[0;34m,\u001b[0m \u001b[0mcell\u001b[0m\u001b[0;34m)\u001b[0m\u001b[0;34m\u001b[0m\u001b[0;34m\u001b[0m\u001b[0m\n\u001b[0m\u001b[1;32m   2118\u001b[0m             \u001b[0;32mreturn\u001b[0m \u001b[0mresult\u001b[0m\u001b[0;34m\u001b[0m\u001b[0;34m\u001b[0m\u001b[0m\n\u001b[1;32m   2119\u001b[0m \u001b[0;34m\u001b[0m\u001b[0m\n",
            "\u001b[0;32m<decorator-gen-119>\u001b[0m in \u001b[0;36mR\u001b[0;34m(self, line, cell, local_ns)\u001b[0m\n",
            "\u001b[0;32m/usr/local/lib/python3.7/dist-packages/IPython/core/magic.py\u001b[0m in \u001b[0;36m<lambda>\u001b[0;34m(f, *a, **k)\u001b[0m\n\u001b[1;32m    186\u001b[0m     \u001b[0;31m# but it's overkill for just that one bit of state.\u001b[0m\u001b[0;34m\u001b[0m\u001b[0;34m\u001b[0m\u001b[0;34m\u001b[0m\u001b[0m\n\u001b[1;32m    187\u001b[0m     \u001b[0;32mdef\u001b[0m \u001b[0mmagic_deco\u001b[0m\u001b[0;34m(\u001b[0m\u001b[0marg\u001b[0m\u001b[0;34m)\u001b[0m\u001b[0;34m:\u001b[0m\u001b[0;34m\u001b[0m\u001b[0;34m\u001b[0m\u001b[0m\n\u001b[0;32m--> 188\u001b[0;31m         \u001b[0mcall\u001b[0m \u001b[0;34m=\u001b[0m \u001b[0;32mlambda\u001b[0m \u001b[0mf\u001b[0m\u001b[0;34m,\u001b[0m \u001b[0;34m*\u001b[0m\u001b[0ma\u001b[0m\u001b[0;34m,\u001b[0m \u001b[0;34m**\u001b[0m\u001b[0mk\u001b[0m\u001b[0;34m:\u001b[0m \u001b[0mf\u001b[0m\u001b[0;34m(\u001b[0m\u001b[0;34m*\u001b[0m\u001b[0ma\u001b[0m\u001b[0;34m,\u001b[0m \u001b[0;34m**\u001b[0m\u001b[0mk\u001b[0m\u001b[0;34m)\u001b[0m\u001b[0;34m\u001b[0m\u001b[0;34m\u001b[0m\u001b[0m\n\u001b[0m\u001b[1;32m    189\u001b[0m \u001b[0;34m\u001b[0m\u001b[0m\n\u001b[1;32m    190\u001b[0m         \u001b[0;32mif\u001b[0m \u001b[0mcallable\u001b[0m\u001b[0;34m(\u001b[0m\u001b[0marg\u001b[0m\u001b[0;34m)\u001b[0m\u001b[0;34m:\u001b[0m\u001b[0;34m\u001b[0m\u001b[0;34m\u001b[0m\u001b[0m\n",
            "\u001b[0;32m/usr/local/lib/python3.7/dist-packages/rpy2/ipython/rmagic.py\u001b[0m in \u001b[0;36mR\u001b[0;34m(self, line, cell, local_ns)\u001b[0m\n\u001b[1;32m    781\u001b[0m             \u001b[0;32mif\u001b[0m \u001b[0;32mnot\u001b[0m \u001b[0me\u001b[0m\u001b[0;34m.\u001b[0m\u001b[0mstdout\u001b[0m\u001b[0;34m.\u001b[0m\u001b[0mendswith\u001b[0m\u001b[0;34m(\u001b[0m\u001b[0me\u001b[0m\u001b[0;34m.\u001b[0m\u001b[0merr\u001b[0m\u001b[0;34m)\u001b[0m\u001b[0;34m:\u001b[0m\u001b[0;34m\u001b[0m\u001b[0;34m\u001b[0m\u001b[0m\n\u001b[1;32m    782\u001b[0m                 \u001b[0mprint\u001b[0m\u001b[0;34m(\u001b[0m\u001b[0me\u001b[0m\u001b[0;34m.\u001b[0m\u001b[0merr\u001b[0m\u001b[0;34m)\u001b[0m\u001b[0;34m\u001b[0m\u001b[0;34m\u001b[0m\u001b[0m\n\u001b[0;32m--> 783\u001b[0;31m             \u001b[0;32mraise\u001b[0m \u001b[0me\u001b[0m\u001b[0;34m\u001b[0m\u001b[0;34m\u001b[0m\u001b[0m\n\u001b[0m\u001b[1;32m    784\u001b[0m         \u001b[0;32mfinally\u001b[0m\u001b[0;34m:\u001b[0m\u001b[0;34m\u001b[0m\u001b[0;34m\u001b[0m\u001b[0m\n\u001b[1;32m    785\u001b[0m             \u001b[0;32mif\u001b[0m \u001b[0mself\u001b[0m\u001b[0;34m.\u001b[0m\u001b[0mdevice\u001b[0m \u001b[0;32min\u001b[0m \u001b[0;34m[\u001b[0m\u001b[0;34m'png'\u001b[0m\u001b[0;34m,\u001b[0m \u001b[0;34m'svg'\u001b[0m\u001b[0;34m]\u001b[0m\u001b[0;34m:\u001b[0m\u001b[0;34m\u001b[0m\u001b[0;34m\u001b[0m\u001b[0m\n",
            "\u001b[0;32m/usr/local/lib/python3.7/dist-packages/rpy2/ipython/rmagic.py\u001b[0m in \u001b[0;36mR\u001b[0;34m(self, line, cell, local_ns)\u001b[0m\n\u001b[1;32m    761\u001b[0m                     \u001b[0mreturn_output\u001b[0m \u001b[0;34m=\u001b[0m \u001b[0;32mFalse\u001b[0m\u001b[0;34m\u001b[0m\u001b[0;34m\u001b[0m\u001b[0m\n\u001b[1;32m    762\u001b[0m             \u001b[0;32melse\u001b[0m\u001b[0;34m:\u001b[0m\u001b[0;34m\u001b[0m\u001b[0;34m\u001b[0m\u001b[0m\n\u001b[0;32m--> 763\u001b[0;31m                 \u001b[0mtext_result\u001b[0m\u001b[0;34m,\u001b[0m \u001b[0mresult\u001b[0m\u001b[0;34m,\u001b[0m \u001b[0mvisible\u001b[0m \u001b[0;34m=\u001b[0m \u001b[0mself\u001b[0m\u001b[0;34m.\u001b[0m\u001b[0meval\u001b[0m\u001b[0;34m(\u001b[0m\u001b[0mcode\u001b[0m\u001b[0;34m)\u001b[0m\u001b[0;34m\u001b[0m\u001b[0;34m\u001b[0m\u001b[0m\n\u001b[0m\u001b[1;32m    764\u001b[0m                 \u001b[0mtext_output\u001b[0m \u001b[0;34m+=\u001b[0m \u001b[0mtext_result\u001b[0m\u001b[0;34m\u001b[0m\u001b[0;34m\u001b[0m\u001b[0m\n\u001b[1;32m    765\u001b[0m                 \u001b[0;32mif\u001b[0m \u001b[0mvisible\u001b[0m\u001b[0;34m:\u001b[0m\u001b[0;34m\u001b[0m\u001b[0;34m\u001b[0m\u001b[0m\n",
            "\u001b[0;32m/usr/local/lib/python3.7/dist-packages/rpy2/ipython/rmagic.py\u001b[0m in \u001b[0;36meval\u001b[0;34m(self, code)\u001b[0m\n\u001b[1;32m    271\u001b[0m                 \u001b[0mwarning_or_other_msg\u001b[0m \u001b[0;34m=\u001b[0m \u001b[0mself\u001b[0m\u001b[0;34m.\u001b[0m\u001b[0mflush\u001b[0m\u001b[0;34m(\u001b[0m\u001b[0;34m)\u001b[0m\u001b[0;34m\u001b[0m\u001b[0;34m\u001b[0m\u001b[0m\n\u001b[1;32m    272\u001b[0m                 raise RInterpreterError(code, str(exception),\n\u001b[0;32m--> 273\u001b[0;31m                                         warning_or_other_msg)\n\u001b[0m\u001b[1;32m    274\u001b[0m             \u001b[0mtext_output\u001b[0m \u001b[0;34m=\u001b[0m \u001b[0mself\u001b[0m\u001b[0;34m.\u001b[0m\u001b[0mflush\u001b[0m\u001b[0;34m(\u001b[0m\u001b[0;34m)\u001b[0m\u001b[0;34m\u001b[0m\u001b[0;34m\u001b[0m\u001b[0m\n\u001b[1;32m    275\u001b[0m             \u001b[0;32mreturn\u001b[0m \u001b[0mtext_output\u001b[0m\u001b[0;34m,\u001b[0m \u001b[0mvalue\u001b[0m\u001b[0;34m,\u001b[0m \u001b[0mvisible\u001b[0m\u001b[0;34m[\u001b[0m\u001b[0;36m0\u001b[0m\u001b[0;34m]\u001b[0m\u001b[0;34m\u001b[0m\u001b[0;34m\u001b[0m\u001b[0m\n",
            "\u001b[0;31mRInterpreterError\u001b[0m: Failed to parse and evaluate line '#Medición de riesgo por factor de riesgo de todo el portafolios\\n#Acciones\\n#1. Acciones \\nPGPort_ACC=PGfr2T_acc_div + PGfr3T_fwind #Pérdidas y ganancias\\nVaRPort_ACC=equantile(PGPort_ACC,1-alpha,Ns) #VaR\\nCVaRPort_ACC= mean(PGPort_ACC[which(PGPort_ACC<VaRPort_ACC)]) #CVaR\\n\\n\\n#Tasa de Interés\\n#1. Dado que swaps y bondes son de tasa de interés usaremos PGT_bd y PGT_sw\\n#2. Para futuros usaremos PGfr1T_fwtdc y PGfr2T_fwtdc\\nPGPort_TI=PGT_bd+PGT_sw+PGfr1T_oir +PGfr2T_oir + PGfr1T_fwind +PGfr2T_fwind + PGfr1T_fwtdc + PGfr2T_fwtdc#Pérdidas y ganancias\\nVaRPort_TI=equantile(PGPort_TI,1-alpha,Ns) #VaR\\nCVaRPort_TI= mean(PGPort_TI[which(PGPort_TI<VaRPort_TI)]) #CVaR\\n\\n#Tipo de cambio\\n#1. Dado que swaps y bondes son de tasa de interés no usamos nada\\n#2. Para futuros usamos sólo PGfr3T_fwtdc\\nPGPort_TDC=PGfr1T_acc_div + PGfr3T_fwtdc  #Pérdidas y ganancias\\nVaRPort_TDC=equantile(PGPort_TDC,1-alpha,Ns) #VaR\\nCVaRPort_TDC= mean(PGPort_TDC[which(PGPort_TDC<VaRPort_TDC)]) #CVaR\\n\\n#Volatilidad\\n#1. Sólo aplica la volatilidad de Opciones de tasa de interés\\n\\nPGPort_VOL=PGfr3T_oir  #Pérdidas y ganancias\\nVaRPort_VOL=equantile(PGPort_VOL,1-alpha,Ns) #VaR\\nCVaRPort_VOL= mean(PGPort_VOL[which(PGPort_VOL<VaRPort_VOL)]) #CVaR\\n\\n\\n#Medición de riesgo de todo el portafolios\\n#Sumar todos los PGT de todos los instrumentos\\n\\nPGT_Port=PGPort_ACC+PGPort_TI+PGPort_TDC+PGPort_VOL\\nVaRTotal_Port=equantile(PGT_Port,1-alpha,Ns) #VaR...\nR error message: \"Error in withVisible({ : object 'PGfr3T_fwind' not found\""
          ]
        }
      ]
    }
  ]
}