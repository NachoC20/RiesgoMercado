{
  "nbformat": 4,
  "nbformat_minor": 0,
  "metadata": {
    "colab": {
      "name": "VaR_CVaR.ipynb",
      "provenance": [],
      "collapsed_sections": [],
      "toc_visible": true,
      "include_colab_link": true
    },
    "kernelspec": {
      "name": "python3",
      "display_name": "Python 3"
    },
    "language_info": {
      "name": "python"
    }
  },
  "cells": [
    {
      "cell_type": "markdown",
      "metadata": {
        "id": "view-in-github",
        "colab_type": "text"
      },
      "source": [
        "<a href=\"https://colab.research.google.com/github/NachoC20/RiesgoMercado/blob/main/VaR_CVaR.ipynb\" target=\"_parent\"><img src=\"https://colab.research.google.com/assets/colab-badge.svg\" alt=\"Open In Colab\"/></a>"
      ]
    },
    {
      "cell_type": "code",
      "metadata": {
        "id": "OpOSiRvJybob",
        "colab": {
          "base_uri": "https://localhost:8080/"
        },
        "outputId": "6c78a34d-c5e8-4ce7-ee6f-3b05d8f51dff"
      },
      "source": [
        "%load_ext rpy2.ipython\n",
        "!rm -rf RiesgosFinancieros\n",
        "!git clone \"https://github.com/pikey-msc/RiesgosFinancieros/\""
      ],
      "execution_count": 1,
      "outputs": [
        {
          "output_type": "stream",
          "name": "stdout",
          "text": [
            "Cloning into 'RiesgosFinancieros'...\n",
            "remote: Enumerating objects: 713, done.\u001b[K\n",
            "remote: Counting objects: 100% (134/134), done.\u001b[K\n",
            "remote: Compressing objects: 100% (134/134), done.\u001b[K\n",
            "remote: Total 713 (delta 88), reused 0 (delta 0), pack-reused 579\u001b[K\n",
            "Receiving objects: 100% (713/713), 41.10 MiB | 25.48 MiB/s, done.\n",
            "Resolving deltas: 100% (467/467), done.\n"
          ]
        }
      ]
    },
    {
      "cell_type": "markdown",
      "metadata": {
        "id": "byHvLjhkyx4l"
      },
      "source": [
        "# Tarea 1: Riesgo de Mercado"
      ]
    },
    {
      "cell_type": "code",
      "metadata": {
        "colab": {
          "base_uri": "https://localhost:8080/"
        },
        "id": "ktGoEkyypexP",
        "outputId": "bb1a8607-23aa-4bcb-fa82-dee3043e68b3"
      },
      "source": [
        "%%R\n",
        "#Instalamos los paquetes que necesitaremos.\n",
        "install.packages(\"quantmod\")\n",
        "install.packages(\"data.table\")\n",
        "install.packages(\"PerformanceAnalytics\")\n",
        "install.packages(\"Deriv\")\n",
        "\n",
        "#Cargamos librerias\n",
        "library(Deriv)\n",
        "library(quantmod)\n",
        "library(data.table)\n",
        "library(\"PerformanceAnalytics\")\n",
        "library(dplyr)\n",
        "\n",
        "con = gzcon(url('https://github.com/systematicinvestor/SIT/raw/master/sit.gz', 'rb'))\n",
        "source(con)\n",
        "close(con)"
      ],
      "execution_count": 2,
      "outputs": [
        {
          "output_type": "stream",
          "name": "stderr",
          "text": [
            "R[write to console]: Installing package into ‘/usr/local/lib/R/site-library’\n",
            "(as ‘lib’ is unspecified)\n",
            "\n",
            "R[write to console]: also installing the dependencies ‘xts’, ‘zoo’, ‘TTR’\n",
            "\n",
            "\n",
            "R[write to console]: trying URL 'https://cran.rstudio.com/src/contrib/xts_0.12.1.tar.gz'\n",
            "\n",
            "R[write to console]: Content type 'application/x-gzip'\n",
            "R[write to console]:  length 517875 bytes (505 KB)\n",
            "\n",
            "R[write to console]: =\n",
            "R[write to console]: =\n",
            "R[write to console]: =\n",
            "R[write to console]: =\n",
            "R[write to console]: =\n",
            "R[write to console]: =\n",
            "R[write to console]: =\n",
            "R[write to console]: =\n",
            "R[write to console]: =\n",
            "R[write to console]: =\n",
            "R[write to console]: =\n",
            "R[write to console]: =\n",
            "R[write to console]: =\n",
            "R[write to console]: =\n",
            "R[write to console]: =\n",
            "R[write to console]: =\n",
            "R[write to console]: =\n",
            "R[write to console]: =\n",
            "R[write to console]: =\n",
            "R[write to console]: =\n",
            "R[write to console]: =\n",
            "R[write to console]: =\n",
            "R[write to console]: =\n",
            "R[write to console]: =\n",
            "R[write to console]: =\n",
            "R[write to console]: =\n",
            "R[write to console]: =\n",
            "R[write to console]: =\n",
            "R[write to console]: =\n",
            "R[write to console]: =\n",
            "R[write to console]: =\n",
            "R[write to console]: =\n",
            "R[write to console]: =\n",
            "R[write to console]: =\n",
            "R[write to console]: =\n",
            "R[write to console]: =\n",
            "R[write to console]: =\n",
            "R[write to console]: =\n",
            "R[write to console]: =\n",
            "R[write to console]: =\n",
            "R[write to console]: =\n",
            "R[write to console]: =\n",
            "R[write to console]: =\n",
            "R[write to console]: =\n",
            "R[write to console]: =\n",
            "R[write to console]: =\n",
            "R[write to console]: =\n",
            "R[write to console]: =\n",
            "R[write to console]: =\n",
            "R[write to console]: =\n",
            "R[write to console]: \n",
            "\n",
            "R[write to console]: downloaded 505 KB\n",
            "\n",
            "\n",
            "R[write to console]: trying URL 'https://cran.rstudio.com/src/contrib/zoo_1.8-9.tar.gz'\n",
            "\n",
            "R[write to console]: Content type 'application/x-gzip'\n",
            "R[write to console]:  length 793891 bytes (775 KB)\n",
            "\n",
            "R[write to console]: =\n",
            "R[write to console]: =\n",
            "R[write to console]: =\n",
            "R[write to console]: =\n",
            "R[write to console]: =\n",
            "R[write to console]: =\n",
            "R[write to console]: =\n",
            "R[write to console]: =\n",
            "R[write to console]: =\n",
            "R[write to console]: =\n",
            "R[write to console]: =\n",
            "R[write to console]: =\n",
            "R[write to console]: =\n",
            "R[write to console]: =\n",
            "R[write to console]: =\n",
            "R[write to console]: =\n",
            "R[write to console]: =\n",
            "R[write to console]: =\n",
            "R[write to console]: =\n",
            "R[write to console]: =\n",
            "R[write to console]: =\n",
            "R[write to console]: =\n",
            "R[write to console]: =\n",
            "R[write to console]: =\n",
            "R[write to console]: =\n",
            "R[write to console]: =\n",
            "R[write to console]: =\n",
            "R[write to console]: =\n",
            "R[write to console]: =\n",
            "R[write to console]: =\n",
            "R[write to console]: =\n",
            "R[write to console]: =\n",
            "R[write to console]: =\n",
            "R[write to console]: =\n",
            "R[write to console]: =\n",
            "R[write to console]: =\n",
            "R[write to console]: =\n",
            "R[write to console]: =\n",
            "R[write to console]: =\n",
            "R[write to console]: =\n",
            "R[write to console]: =\n",
            "R[write to console]: =\n",
            "R[write to console]: =\n",
            "R[write to console]: =\n",
            "R[write to console]: =\n",
            "R[write to console]: =\n",
            "R[write to console]: =\n",
            "R[write to console]: =\n",
            "R[write to console]: =\n",
            "R[write to console]: =\n",
            "R[write to console]: \n",
            "\n",
            "R[write to console]: downloaded 775 KB\n",
            "\n",
            "\n",
            "R[write to console]: trying URL 'https://cran.rstudio.com/src/contrib/TTR_0.24.2.tar.gz'\n",
            "\n",
            "R[write to console]: Content type 'application/x-gzip'\n",
            "R[write to console]:  length 314035 bytes (306 KB)\n",
            "\n",
            "R[write to console]: =\n",
            "R[write to console]: =\n",
            "R[write to console]: =\n",
            "R[write to console]: =\n",
            "R[write to console]: =\n",
            "R[write to console]: =\n",
            "R[write to console]: =\n",
            "R[write to console]: =\n",
            "R[write to console]: =\n",
            "R[write to console]: =\n",
            "R[write to console]: =\n",
            "R[write to console]: =\n",
            "R[write to console]: =\n",
            "R[write to console]: =\n",
            "R[write to console]: =\n",
            "R[write to console]: =\n",
            "R[write to console]: =\n",
            "R[write to console]: =\n",
            "R[write to console]: =\n",
            "R[write to console]: =\n",
            "R[write to console]: =\n",
            "R[write to console]: =\n",
            "R[write to console]: =\n",
            "R[write to console]: =\n",
            "R[write to console]: =\n",
            "R[write to console]: =\n",
            "R[write to console]: =\n",
            "R[write to console]: =\n",
            "R[write to console]: =\n",
            "R[write to console]: =\n",
            "R[write to console]: =\n",
            "R[write to console]: =\n",
            "R[write to console]: =\n",
            "R[write to console]: =\n",
            "R[write to console]: =\n",
            "R[write to console]: =\n",
            "R[write to console]: =\n",
            "R[write to console]: =\n",
            "R[write to console]: =\n",
            "R[write to console]: =\n",
            "R[write to console]: =\n",
            "R[write to console]: =\n",
            "R[write to console]: =\n",
            "R[write to console]: =\n",
            "R[write to console]: =\n",
            "R[write to console]: =\n",
            "R[write to console]: =\n",
            "R[write to console]: =\n",
            "R[write to console]: =\n",
            "R[write to console]: =\n",
            "R[write to console]: \n",
            "\n",
            "R[write to console]: downloaded 306 KB\n",
            "\n",
            "\n",
            "R[write to console]: trying URL 'https://cran.rstudio.com/src/contrib/quantmod_0.4.18.tar.gz'\n",
            "\n",
            "R[write to console]: Content type 'application/x-gzip'\n",
            "R[write to console]:  length 154512 bytes (150 KB)\n",
            "\n",
            "R[write to console]: =\n",
            "R[write to console]: =\n",
            "R[write to console]: =\n",
            "R[write to console]: =\n",
            "R[write to console]: =\n",
            "R[write to console]: =\n",
            "R[write to console]: =\n",
            "R[write to console]: =\n",
            "R[write to console]: =\n",
            "R[write to console]: =\n",
            "R[write to console]: =\n",
            "R[write to console]: =\n",
            "R[write to console]: =\n",
            "R[write to console]: =\n",
            "R[write to console]: =\n",
            "R[write to console]: =\n",
            "R[write to console]: =\n",
            "R[write to console]: =\n",
            "R[write to console]: =\n",
            "R[write to console]: =\n",
            "R[write to console]: =\n",
            "R[write to console]: =\n",
            "R[write to console]: =\n",
            "R[write to console]: =\n",
            "R[write to console]: =\n",
            "R[write to console]: =\n",
            "R[write to console]: =\n",
            "R[write to console]: =\n",
            "R[write to console]: =\n",
            "R[write to console]: =\n",
            "R[write to console]: =\n",
            "R[write to console]: =\n",
            "R[write to console]: =\n",
            "R[write to console]: =\n",
            "R[write to console]: =\n",
            "R[write to console]: =\n",
            "R[write to console]: =\n",
            "R[write to console]: =\n",
            "R[write to console]: =\n",
            "R[write to console]: =\n",
            "R[write to console]: =\n",
            "R[write to console]: =\n",
            "R[write to console]: =\n",
            "R[write to console]: =\n",
            "R[write to console]: =\n",
            "R[write to console]: =\n",
            "R[write to console]: =\n",
            "R[write to console]: =\n",
            "R[write to console]: =\n",
            "R[write to console]: =\n",
            "R[write to console]: \n",
            "\n",
            "R[write to console]: downloaded 150 KB\n",
            "\n",
            "\n",
            "R[write to console]: \n",
            "\n",
            "R[write to console]: \n",
            "R[write to console]: The downloaded source packages are in\n",
            "\t‘/tmp/Rtmp9jy9Px/downloaded_packages’\n",
            "R[write to console]: \n",
            "R[write to console]: \n",
            "\n",
            "R[write to console]: Installing package into ‘/usr/local/lib/R/site-library’\n",
            "(as ‘lib’ is unspecified)\n",
            "\n",
            "R[write to console]: trying URL 'https://cran.rstudio.com/src/contrib/data.table_1.14.2.tar.gz'\n",
            "\n",
            "R[write to console]: Content type 'application/x-gzip'\n",
            "R[write to console]:  length 5301817 bytes (5.1 MB)\n",
            "\n",
            "R[write to console]: =\n",
            "R[write to console]: =\n",
            "R[write to console]: =\n",
            "R[write to console]: =\n",
            "R[write to console]: =\n",
            "R[write to console]: =\n",
            "R[write to console]: =\n",
            "R[write to console]: =\n",
            "R[write to console]: =\n",
            "R[write to console]: =\n",
            "R[write to console]: =\n",
            "R[write to console]: =\n",
            "R[write to console]: =\n",
            "R[write to console]: =\n",
            "R[write to console]: =\n",
            "R[write to console]: =\n",
            "R[write to console]: =\n",
            "R[write to console]: =\n",
            "R[write to console]: =\n",
            "R[write to console]: =\n",
            "R[write to console]: =\n",
            "R[write to console]: =\n",
            "R[write to console]: =\n",
            "R[write to console]: =\n",
            "R[write to console]: =\n",
            "R[write to console]: =\n",
            "R[write to console]: =\n",
            "R[write to console]: =\n",
            "R[write to console]: =\n",
            "R[write to console]: =\n",
            "R[write to console]: =\n",
            "R[write to console]: =\n",
            "R[write to console]: =\n",
            "R[write to console]: =\n",
            "R[write to console]: =\n",
            "R[write to console]: =\n",
            "R[write to console]: =\n",
            "R[write to console]: =\n",
            "R[write to console]: =\n",
            "R[write to console]: =\n",
            "R[write to console]: =\n",
            "R[write to console]: =\n",
            "R[write to console]: =\n",
            "R[write to console]: =\n",
            "R[write to console]: =\n",
            "R[write to console]: =\n",
            "R[write to console]: =\n",
            "R[write to console]: =\n",
            "R[write to console]: =\n",
            "R[write to console]: =\n",
            "R[write to console]: \n",
            "\n",
            "R[write to console]: downloaded 5.1 MB\n",
            "\n",
            "\n",
            "R[write to console]: \n",
            "\n",
            "R[write to console]: \n",
            "R[write to console]: The downloaded source packages are in\n",
            "\t‘/tmp/Rtmp9jy9Px/downloaded_packages’\n",
            "R[write to console]: \n",
            "R[write to console]: \n",
            "\n",
            "R[write to console]: Installing package into ‘/usr/local/lib/R/site-library’\n",
            "(as ‘lib’ is unspecified)\n",
            "\n",
            "R[write to console]: also installing the dependency ‘quadprog’\n",
            "\n",
            "\n",
            "R[write to console]: trying URL 'https://cran.rstudio.com/src/contrib/quadprog_1.5-8.tar.gz'\n",
            "\n",
            "R[write to console]: Content type 'application/x-gzip'\n",
            "R[write to console]:  length 36141 bytes (35 KB)\n",
            "\n",
            "R[write to console]: =\n",
            "R[write to console]: =\n",
            "R[write to console]: =\n",
            "R[write to console]: =\n",
            "R[write to console]: =\n",
            "R[write to console]: =\n",
            "R[write to console]: =\n",
            "R[write to console]: =\n",
            "R[write to console]: =\n",
            "R[write to console]: =\n",
            "R[write to console]: =\n",
            "R[write to console]: =\n",
            "R[write to console]: =\n",
            "R[write to console]: =\n",
            "R[write to console]: =\n",
            "R[write to console]: =\n",
            "R[write to console]: =\n",
            "R[write to console]: =\n",
            "R[write to console]: =\n",
            "R[write to console]: =\n",
            "R[write to console]: =\n",
            "R[write to console]: =\n",
            "R[write to console]: =\n",
            "R[write to console]: =\n",
            "R[write to console]: =\n",
            "R[write to console]: =\n",
            "R[write to console]: =\n",
            "R[write to console]: =\n",
            "R[write to console]: =\n",
            "R[write to console]: =\n",
            "R[write to console]: =\n",
            "R[write to console]: =\n",
            "R[write to console]: =\n",
            "R[write to console]: =\n",
            "R[write to console]: =\n",
            "R[write to console]: =\n",
            "R[write to console]: =\n",
            "R[write to console]: =\n",
            "R[write to console]: =\n",
            "R[write to console]: =\n",
            "R[write to console]: =\n",
            "R[write to console]: =\n",
            "R[write to console]: =\n",
            "R[write to console]: =\n",
            "R[write to console]: =\n",
            "R[write to console]: =\n",
            "R[write to console]: =\n",
            "R[write to console]: =\n",
            "R[write to console]: =\n",
            "R[write to console]: =\n",
            "R[write to console]: \n",
            "\n",
            "R[write to console]: downloaded 35 KB\n",
            "\n",
            "\n",
            "R[write to console]: trying URL 'https://cran.rstudio.com/src/contrib/PerformanceAnalytics_2.0.4.tar.gz'\n",
            "\n",
            "R[write to console]: Content type 'application/x-gzip'\n",
            "R[write to console]:  length 2455098 bytes (2.3 MB)\n",
            "\n",
            "R[write to console]: =\n",
            "R[write to console]: =\n",
            "R[write to console]: =\n",
            "R[write to console]: =\n",
            "R[write to console]: =\n",
            "R[write to console]: =\n",
            "R[write to console]: =\n",
            "R[write to console]: =\n",
            "R[write to console]: =\n",
            "R[write to console]: =\n",
            "R[write to console]: =\n",
            "R[write to console]: =\n",
            "R[write to console]: =\n",
            "R[write to console]: =\n",
            "R[write to console]: =\n",
            "R[write to console]: =\n",
            "R[write to console]: =\n",
            "R[write to console]: =\n",
            "R[write to console]: =\n",
            "R[write to console]: =\n",
            "R[write to console]: =\n",
            "R[write to console]: =\n",
            "R[write to console]: =\n",
            "R[write to console]: =\n",
            "R[write to console]: =\n",
            "R[write to console]: =\n",
            "R[write to console]: =\n",
            "R[write to console]: =\n",
            "R[write to console]: =\n",
            "R[write to console]: =\n",
            "R[write to console]: =\n",
            "R[write to console]: =\n",
            "R[write to console]: =\n",
            "R[write to console]: =\n",
            "R[write to console]: =\n",
            "R[write to console]: =\n",
            "R[write to console]: =\n",
            "R[write to console]: =\n",
            "R[write to console]: =\n",
            "R[write to console]: =\n",
            "R[write to console]: =\n",
            "R[write to console]: =\n",
            "R[write to console]: =\n",
            "R[write to console]: =\n",
            "R[write to console]: =\n",
            "R[write to console]: =\n",
            "R[write to console]: =\n",
            "R[write to console]: =\n",
            "R[write to console]: =\n",
            "R[write to console]: =\n",
            "R[write to console]: \n",
            "\n",
            "R[write to console]: downloaded 2.3 MB\n",
            "\n",
            "\n",
            "R[write to console]: \n",
            "\n",
            "R[write to console]: \n",
            "R[write to console]: The downloaded source packages are in\n",
            "\t‘/tmp/Rtmp9jy9Px/downloaded_packages’\n",
            "R[write to console]: \n",
            "R[write to console]: \n",
            "\n",
            "R[write to console]: Installing package into ‘/usr/local/lib/R/site-library’\n",
            "(as ‘lib’ is unspecified)\n",
            "\n",
            "R[write to console]: trying URL 'https://cran.rstudio.com/src/contrib/Deriv_4.1.3.tar.gz'\n",
            "\n",
            "R[write to console]: Content type 'application/x-gzip'\n",
            "R[write to console]:  length 37214 bytes (36 KB)\n",
            "\n",
            "R[write to console]: =\n",
            "R[write to console]: =\n",
            "R[write to console]: =\n",
            "R[write to console]: =\n",
            "R[write to console]: =\n",
            "R[write to console]: =\n",
            "R[write to console]: =\n",
            "R[write to console]: =\n",
            "R[write to console]: =\n",
            "R[write to console]: =\n",
            "R[write to console]: =\n",
            "R[write to console]: =\n",
            "R[write to console]: =\n",
            "R[write to console]: =\n",
            "R[write to console]: =\n",
            "R[write to console]: =\n",
            "R[write to console]: =\n",
            "R[write to console]: =\n",
            "R[write to console]: =\n",
            "R[write to console]: =\n",
            "R[write to console]: =\n",
            "R[write to console]: =\n",
            "R[write to console]: =\n",
            "R[write to console]: =\n",
            "R[write to console]: =\n",
            "R[write to console]: =\n",
            "R[write to console]: =\n",
            "R[write to console]: =\n",
            "R[write to console]: =\n",
            "R[write to console]: =\n",
            "R[write to console]: =\n",
            "R[write to console]: =\n",
            "R[write to console]: =\n",
            "R[write to console]: =\n",
            "R[write to console]: =\n",
            "R[write to console]: =\n",
            "R[write to console]: =\n",
            "R[write to console]: =\n",
            "R[write to console]: =\n",
            "R[write to console]: =\n",
            "R[write to console]: =\n",
            "R[write to console]: =\n",
            "R[write to console]: =\n",
            "R[write to console]: =\n",
            "R[write to console]: =\n",
            "R[write to console]: =\n",
            "R[write to console]: =\n",
            "R[write to console]: =\n",
            "R[write to console]: =\n",
            "R[write to console]: =\n",
            "R[write to console]: \n",
            "\n",
            "R[write to console]: downloaded 36 KB\n",
            "\n",
            "\n",
            "R[write to console]: \n",
            "\n",
            "R[write to console]: \n",
            "R[write to console]: The downloaded source packages are in\n",
            "\t‘/tmp/Rtmp9jy9Px/downloaded_packages’\n",
            "R[write to console]: \n",
            "R[write to console]: \n",
            "\n",
            "R[write to console]: Loading required package: xts\n",
            "\n",
            "R[write to console]: Loading required package: zoo\n",
            "\n",
            "R[write to console]: \n",
            "Attaching package: ‘zoo’\n",
            "\n",
            "\n",
            "R[write to console]: The following objects are masked from ‘package:base’:\n",
            "\n",
            "    as.Date, as.Date.numeric\n",
            "\n",
            "\n",
            "R[write to console]: Loading required package: TTR\n",
            "\n",
            "R[write to console]: Registered S3 method overwritten by 'quantmod':\n",
            "  method            from\n",
            "  as.zoo.data.frame zoo \n",
            "\n",
            "R[write to console]: data.table 1.14.2 using 1 threads (see ?getDTthreads).  Latest news: r-datatable.com\n",
            "\n",
            "R[write to console]: \n",
            "Attaching package: ‘data.table’\n",
            "\n",
            "\n",
            "R[write to console]: The following objects are masked from ‘package:xts’:\n",
            "\n",
            "    first, last\n",
            "\n",
            "\n",
            "R[write to console]: \n",
            "Attaching package: ‘PerformanceAnalytics’\n",
            "\n",
            "\n",
            "R[write to console]: The following object is masked from ‘package:graphics’:\n",
            "\n",
            "    legend\n",
            "\n",
            "\n",
            "R[write to console]: \n",
            "Attaching package: ‘dplyr’\n",
            "\n",
            "\n",
            "R[write to console]: The following objects are masked from ‘package:data.table’:\n",
            "\n",
            "    between, first, last\n",
            "\n",
            "\n",
            "R[write to console]: The following objects are masked from ‘package:xts’:\n",
            "\n",
            "    first, last\n",
            "\n",
            "\n",
            "R[write to console]: The following objects are masked from ‘package:stats’:\n",
            "\n",
            "    filter, lag\n",
            "\n",
            "\n",
            "R[write to console]: The following objects are masked from ‘package:base’:\n",
            "\n",
            "    intersect, setdiff, setequal, union\n",
            "\n",
            "\n"
          ]
        }
      ]
    },
    {
      "cell_type": "code",
      "metadata": {
        "id": "cw7IybAurRan"
      },
      "source": [
        "\n",
        "%%R\n",
        "## GENERAMOS LAS FUNCIONES QUE NECESITAREMOS:\n",
        "\n",
        "# Función de interpolación de tasas por el método alamabrada\n",
        "talamb=function(nodos,curva,plazos){\n",
        "  n=max(ncol(plazos),1)\n",
        "  m=max(ncol(nodos),1)\n",
        "  TC=matrix(0,1,n)\n",
        "  TL=matrix(0,1,n)\n",
        "  TF=matrix(0,1,n)\n",
        "  for (j in 1:n){\n",
        "    i=1\n",
        "    repeat\n",
        "    {\n",
        "      if(nodos[i]<= plazos[j] && plazos[j] <=nodos[i+1])\n",
        "      {\n",
        "        TC[j]=curva[i]\n",
        "        TL[j]=curva[i+1]\n",
        "        TF[j]=((((1+TL[j]*nodos[i+1]/360)/(1+TC[j]*nodos[i]/360))^((plazos[j]-nodos[i])/(nodos[i+1]-nodos[i]))*(1+TC[j]*nodos[i]/360))-1)*360/plazos[j]\n",
        "        break\n",
        "      }\n",
        "      else if (plazos[j]<nodos[1])\n",
        "      {\n",
        "        TC[j]=curva[1]\n",
        "        TL[j]=curva[1]\n",
        "        TF[j]=curva[1]\n",
        "        break\n",
        "      }\n",
        "      else if (plazos[j]>nodos[m])\n",
        "      {\n",
        "        TC[j]=curva[m]\n",
        "        TL[j]=curva[m]\n",
        "        TF[j]=curva[m]\n",
        "        break\n",
        "      }\n",
        "      else\n",
        "      {i=i+1}\n",
        "    }\n",
        "  }\n",
        "  as.matrix(t(as.numeric(rbind(TF))))\n",
        "}\n",
        "\n",
        "# Función para diagonalizar un vector\n",
        "diagv=function(x)\t{\n",
        "  n01=nrow(as.matrix(x))\n",
        "  m01=ncol(as.matrix(x))\n",
        "  dimmax=max(n01,m01)\n",
        "  res=matrix(0,dimmax,dimmax)\n",
        "  for (i in 1:dimmax){\n",
        "    res[i,i]=x[i]\n",
        "  }\n",
        "  res\n",
        "}\n",
        "\n",
        "#Función de cuantil más cercano\n",
        "equantile <- function(v,p=.5,ns=nrow(as.matrix(v))) \n",
        "{ \n",
        "  if ( !is.numeric(p) || any( p<0 | p>1) ) \n",
        "    stop(\"Percentil tiene que ser 0<=p<=1\") \n",
        "  ranking <- order(v) \n",
        "  vw=matrix(0,ns,1)\n",
        "  vw[1:ns]=seq(1/ns,ns)  \n",
        "  sumw <- cumsum(vw[ranking]) \n",
        "  plist <- sumw / sumw[ length(sumw) ] \n",
        "  v [ ranking [ which.max( plist >= p ) ] ]  \n",
        "} \n",
        "\n",
        "\n",
        "wquantile <- function(v,w=rep(1,length(v)),p=.5) \n",
        "{ \n",
        "  if ( !is.numeric(w) || length(v) != length(w) ) \n",
        "    stop(\"Los valores y los pesos tienen que tener misma longitud\") \n",
        "  if ( !is.numeric(p) || any( p<0 | p>1) ) \n",
        "    stop(\"Percentil tiene que ser 0<=p<=1\") \n",
        "  if ( min(w) < 0 ) stop(\"Los pesos tiene que ser mayores que 0\") \n",
        "  ranking <- order(v) \n",
        "  sumw <- cumsum(w[ranking]) \n",
        "  plist <- sumw / sumw[ length(sumw) ] \n",
        "  v [ ranking [ which.max( plist >= p ) ] ]  \n",
        "}\n",
        "\n",
        "#CVaR con alisado\n",
        "wcvar <- function(v,w=rep(1,length(v)),p=.5) \n",
        "{ \n",
        "  if ( !is.numeric(w) || length(v) != length(w) ) \n",
        "    stop(\"Los valores y los pesos tienen que tener misma longitud\") \n",
        "  if ( !is.numeric(p) || any( p<0 | p>1) ) \n",
        "    stop(\"Percentil tiene que ser 0<=p<=1\") \n",
        "  if ( min(w) < 0 ) stop(\"Los pesos tiene que ser mayores que 0\") \n",
        "  ranking <- order(v) \n",
        "  sumw <- cumsum(w[ranking]) \n",
        "  plist <- sumw / sumw[ length(sumw) ] \n",
        "  loss= v [ ranking [ which( plist < p ) ] ]  \n",
        "  esc=w [ ranking [ which( plist < p ) ] ]  \n",
        "  sum(loss*esc)/(sum(esc))\n",
        "}"
      ],
      "execution_count": 3,
      "outputs": []
    },
    {
      "cell_type": "markdown",
      "metadata": {
        "id": "5JCrPvE20dqB"
      },
      "source": [
        "## Para el alisado"
      ]
    },
    {
      "cell_type": "code",
      "metadata": {
        "id": "XfWhHwda0iFJ"
      },
      "source": [
        "%%R\n",
        "w0 <- 0.05 #@param {type:\"number\"}"
      ],
      "execution_count": 4,
      "outputs": []
    },
    {
      "cell_type": "code",
      "metadata": {
        "id": "3KSEof6j02dw"
      },
      "source": [
        "%%R\n",
        "#VaR con alisado\n",
        "\n",
        "wquantile <- function(v,w=rep(1,length(v)),p=.5) \n",
        "{ \n",
        "  if ( !is.numeric(w) || length(v) != length(w) ) \n",
        "    stop(\"Los valores y los pesos tienen que tener misma longitud\") \n",
        "  if ( !is.numeric(p) || any( p<0 | p>1) ) \n",
        "    stop(\"Percentil tiene que ser 0<=p<=1\") \n",
        "  if ( min(w) < 0 ) stop(\"Los pesos tiene que ser mayores que 0\") \n",
        "  ranking <- order(v) \n",
        "  sumw <- cumsum(w[ranking]) \n",
        "  plist <- sumw / sumw[ length(sumw) ] \n",
        "  v [ ranking [ which.max( plist >= p ) ] ]  \n",
        "} \n",
        "\n",
        "#CVaR con alisado\n",
        "wcvar <- function(v,w=rep(1,length(v)),p=.5) \n",
        "{ \n",
        "  if ( !is.numeric(w) || length(v) != length(w) ) \n",
        "    stop(\"Los valores y los pesos tienen que tener misma longitud\") \n",
        "  if ( !is.numeric(p) || any( p<0 | p>1) ) \n",
        "    stop(\"Percentil tiene que ser 0<=p<=1\") \n",
        "  if ( min(w) < 0 ) stop(\"Los pesos tiene que ser mayores que 0\") \n",
        "  ranking <- order(v) \n",
        "  sumw <- cumsum(w[ranking]) \n",
        "  plist <- sumw / sumw[ length(sumw) ] \n",
        "  loss= v [ ranking [ which( plist <= p ) ] ]  \n",
        "  esc=w [ ranking [ which( plist <= p ) ] ]  \n",
        "  sum(loss*esc)/(sum(esc))\n",
        "} \n"
      ],
      "execution_count": 5,
      "outputs": []
    },
    {
      "cell_type": "markdown",
      "metadata": {
        "id": "hybmk3fshL_H"
      },
      "source": [
        "## **Definición de parámetros para valorar**"
      ]
    },
    {
      "cell_type": "code",
      "metadata": {
        "id": "H9At0oyxiWy_"
      },
      "source": [
        "%%R\n",
        "\"20211015\"\n",
        "\"20200313\"\n",
        "fval=as.Date(\"20211015\",format=\"%Y%m%d\") #Fecha de valoración\n",
        "itpl=0 #poner 0 si se quiere interpolación lineal o 1 si se quiere tasa alambrada\n",
        "alpha=0.98 #Nivel de confianza para obtener estimaciones de riesgo"
      ],
      "execution_count": 99,
      "outputs": []
    },
    {
      "cell_type": "markdown",
      "metadata": {
        "id": "QaQxAocklLsW"
      },
      "source": [
        "### Inciso 1\n",
        "1000 acciones de GCarso, -5000 de AméricaMóvil y 1200 WalMart. *Todas de la BMV*"
      ]
    },
    {
      "cell_type": "code",
      "metadata": {
        "id": "OQ0mLoCplhnH"
      },
      "source": [
        "%%R\n",
        "Symbols<-c  (\"AMXL.MX\", \"GCARSOA1.MX\", \"WALMEX.MX\" )#Claves de cotización de las emisoras, en orden alfabético\n",
        "pos_eq=c(-5000,1000,1200) #Monto inicial invertido en acciones\n",
        "nh=3660 #Días de historia"
      ],
      "execution_count": 100,
      "outputs": []
    },
    {
      "cell_type": "markdown",
      "metadata": {
        "id": "zY4j4mF_gU_l"
      },
      "source": [
        "### Inciso 2\n",
        "1500 dólares (peso dólar), 700 euros, y -600 libras esterlinas."
      ]
    },
    {
      "cell_type": "code",
      "metadata": {
        "id": "2pU6zJv9gpmm"
      },
      "source": [
        "%%R\n",
        "SymbolsFX<-c(\"EURUSD=X\",\"GBPUSD=X\",\"USDMXN=X\" ) #Simbolos en orden alfabetico\n",
        "pos_fx=c(700,-600,1500) #Monto incial invertido en divisas\n",
        "nh=3660 #días de historia\n"
      ],
      "execution_count": 101,
      "outputs": []
    },
    {
      "cell_type": "markdown",
      "metadata": {
        "id": "hq_OoINPhiXh"
      },
      "source": [
        "### Inciso 3\n",
        "2 bonos largos, uno cupón cero de cetes (con la curva guber) con nocional de 1500 vencimiento de 180 días, un bono M con tasa fija de 4.5% con un cupon de 4.05% anual vencimiento de 3600 días y un bono corto 1000 bondes con plazo 707 con cupón que paga 28 días (calcular cupón basado en curva de fondeo y descontar con la curva correspondiente). "
      ]
    },
    {
      "cell_type": "code",
      "metadata": {
        "id": "jdBAhRYqiFOf"
      },
      "source": [
        "%%R\n",
        "\n",
        "#CETES\n",
        "base=\"RiesgosFinancieros/2022-1/Tarea/tasa_guber.txt\"\n",
        "ven_cete = cbind(180, 0)\n",
        "contratos_cete = cbind(1500, 0)\n",
        "nominal_cete = 10\n",
        "\n",
        "\n",
        "#BONO M CON TASA FIJA\n",
        "btasadesc=\"RiesgosFinancieros/2022-1/Tarea/tasa_yield.txt\"\n",
        "tf = cbind(0.045,0)\n",
        "tfcupon = cbind(0.0405, 0)\n",
        "ven_bonom = cbind(3600, 0)\n",
        "plazocupon_bonom = cbind(182, 0)\n",
        "contratos_bonom = cbind(1000, 0)\n",
        "nominal_bonom = 100\n",
        "\n",
        "#BONDES D\n",
        "btasadescst=\"RiesgosFinancieros/2022-1/Tarea/tasa_guber_st.txt\"\n",
        "btasafondeo=\"RiesgosFinancieros/2022-1/Tarea/tfondeo.txt\"\n",
        "plazos_bdm= cbind(707, 707) #Vencimiento del bono\n",
        "plazocupon_bdm= cbind(28, 28) #plazos_bdm fijos de cada cupón\n",
        "contratos_bdm = cbind(1000, 0)\n",
        "nominal_bdm=100"
      ],
      "execution_count": 102,
      "outputs": []
    },
    {
      "cell_type": "markdown",
      "metadata": {
        "id": "DxRUO-N7BcYx"
      },
      "source": [
        "###Inciso 4\n",
        "100 contratos de compra de futuros de peso dólar con un strike de 20.83 vencimiento de 5 días, y 50 contratos\n",
        "de venta de futuros del IPC con strike de 49525 vencimiento de 53 días."
      ]
    },
    {
      "cell_type": "code",
      "metadata": {
        "id": "EmZRWzfDBldl"
      },
      "source": [
        "%%R\n",
        "#FORWARDS TDC\n",
        "bext=\"RiesgosFinancieros/2022-1/Tarea/tasa_libor.txt\"\n",
        "bdom=\"RiesgosFinancieros/2022-1/Tarea/tasa_fwd.txt\"\n",
        "SymbolsFX_ftdc<-c(\"USDMXN=X\", \"GBPUSD=X\" ) #tienen que ir en orden alfabético\n",
        "plazos_fwd=cbind(5)\n",
        "contratos_fwd=cbind(100)\n",
        "kst_fwd=cbind(20.83)\n",
        "nominal_fwd=1\n",
        "yext=1 #si se carga información de yahoo en la fecha definida por fval o SymbolsFX, en caso contrario se utiliza información que se tendrá que cargar de tasas_spot.txt\n",
        "trlib=1 #1 si la curva libor viene a 182 0 si no.\n",
        "\n",
        "#FORWARDS DE IPC\n",
        "#Descontamos con gubernamental\n",
        "base=\"RiesgosFinancieros/2022-1/Tarea/tasa_guber.txt\"\n",
        "SymbolsEQ_find<-c(\"^MXX\", \"GCARSOA1.MX\" ) #tienen que ir en orden alfabético\n",
        "plazos_fwd_ind=cbind(53)\n",
        "contratos_fwd_ind=cbind(50)\n",
        "kst_fwd_ind=cbind(49525)\n",
        "nominal_fwd_ind=1"
      ],
      "execution_count": 103,
      "outputs": []
    },
    {
      "cell_type": "markdown",
      "metadata": {
        "id": "rgn7UAur1CvH"
      },
      "source": [
        "### Inciso 5\n",
        "\n",
        "Un swap largo nocional de 1600 pagando tasa fija de 4.6% anual (cada 28 días) y recibiendo tasa flotante de la curva TIIE vencimiento de 588 días, un swap corto con nocional de 1200 pagando tasa variable de la TIIE y recibiendo fija de 4.9% vencimiento de 270."
      ]
    },
    {
      "cell_type": "code",
      "metadata": {
        "id": "nFGCZQjk1izg"
      },
      "source": [
        "%%R\n",
        "btasadesc_sw=\"RiesgosFinancieros/2022-1/Tarea/tasa_TIIE_SW_OP.txt\"\n",
        "btasacupvar_sw=\"RiesgosFinancieros/2022-1/Tarea/tasa_DIRS_SW_OP.txt\"\n",
        "tasafija_sw=cbind(0.079,0.075) #se establece la tasa fija a pagar para cada swap\n",
        "plazos_sw=cbind(588,360) #se establece el número de días que vivirá el swap\n",
        "plazocupon_sw=cbind(28,28) #se establece el número de días que se pagará cada cupón\n",
        "contratos_sw=cbind(-1600,1000) #se establece el número de contratos_sw de cada swap\n",
        "nominal_sw=cbind(1, 1) #se establece el nominal_sw de cada swap\n",
        "por_sw=cbind(0,0) #se establece 0 si se paga tasa fija y 1 si se paga tasa variable"
      ],
      "execution_count": 104,
      "outputs": []
    },
    {
      "cell_type": "markdown",
      "metadata": {
        "id": "-Xzs8r00hKoY"
      },
      "source": [
        "### Inciso 6\n",
        "Dos opciones europeas, una de tasa de interés larga call con strike de 5.8 % vencimiento de 1700 días 1000\n",
        "contratos, y otra put larga de tasa de interés con strike de 6.0 % de la tiie nocional de 500 contratos vencimiento\n",
        "700 días. (se valuará basado en las superficies de volatilidad si es in o out the money y en las curvas de tasa de interés TIIE o Pagarés)."
      ]
    },
    {
      "cell_type": "code",
      "metadata": {
        "id": "s5lqsgLLhtKM"
      },
      "source": [
        "%%R\n",
        "btasadesc_oir=\"RiesgosFinancieros/2022-1/Tarea/tasa_TIIE_SW_OP.txt\" #Tasa de descuento\n",
        "btasaspot_oir=\"RiesgosFinancieros/2022-1/Tarea/tasa_DIRS_SW_OP.txt\" #Tasa Spot\n",
        "bvolspot_oir=\"RiesgosFinancieros/2022-1/Tarea/tvoltiie_opc.txt\" #Volatilidad\n",
        "plazos_oir=cbind( 1700, 700) #T-t\n",
        "pr_oir=28 #plazo de referencia  \n",
        "dct_oir=360 #d_base\n",
        "cp_oir=cbind(1,0) #si es call (cap) o put (floor) \n",
        "K_oir=cbind( 0.058,0.06) #Strike\n",
        "contratos_oir=cbind(1000,500)\n",
        "nominal_oir=1\n",
        "cs_oir=1 #1 si es continua la tasa 0 si es simple"
      ],
      "execution_count": 105,
      "outputs": []
    },
    {
      "cell_type": "markdown",
      "metadata": {
        "id": "En1RuybCrHca"
      },
      "source": [
        "## **Carga de datos**"
      ]
    },
    {
      "cell_type": "markdown",
      "metadata": {
        "id": "cJbj6vvQNFbb"
      },
      "source": [
        "### Inciso 1"
      ]
    },
    {
      "cell_type": "code",
      "metadata": {
        "id": "c-RlR_3gNYOp"
      },
      "source": [
        "%%R\n",
        "start_date=Sys.Date()-nh #fecha inicial\n",
        "dataEnv<-new.env()\n",
        "getSymbols.yahoo(Symbols,env=dataEnv,from=start_date)\n",
        "\n",
        "bt.prep(dataEnv,align='remove.na',fill.gaps = T)\n",
        "stock_prices = dataEnv$prices"
      ],
      "execution_count": 106,
      "outputs": []
    },
    {
      "cell_type": "markdown",
      "metadata": {
        "id": "O8JTi9Vy2RIy"
      },
      "source": [
        "###Inciso 2"
      ]
    },
    {
      "cell_type": "code",
      "metadata": {
        "id": "ah56LOm92WU2"
      },
      "source": [
        "%%R\n",
        "  start_date=Sys.Date()-nh #fecha inicial\n",
        "  dataEnvFX<-new.env() #Creamos donde guardar los datos\n",
        "  getSymbols.yahoo(SymbolsFX,env=dataEnvFX,from=start_date) #Obtenemos los datps\n",
        "  bt.prep(dataEnvFX,align='remove.na',fill.gaps=T) #Limpieza de datos\n",
        "  stock_pricesFX = dataEnvFX$prices #Nos da el precio\n",
        "\n",
        "  stock_pricesFX=cbind(stock_pricesFX[,1,with=F]*stock_pricesFX[,3,with=F],stock_pricesFX[,2,with=F]*stock_pricesFX[,3,with=F],stock_pricesFX[,3,with=F])\n",
        "stock_prices_EQFX=merge(stock_pricesFX,stock_prices,join = \"inner\")\n",
        "\n",
        "aux2=data.table(Date=as.Date(index(stock_prices_EQFX)),coredata(stock_prices_EQFX))\n"
      ],
      "execution_count": 107,
      "outputs": []
    },
    {
      "cell_type": "markdown",
      "metadata": {
        "id": "Y7rQMdI7638_"
      },
      "source": [
        "### Inciso 3"
      ]
    },
    {
      "cell_type": "code",
      "metadata": {
        "id": "vlIKUqjKspKk",
        "colab": {
          "base_uri": "https://localhost:8080/"
        },
        "outputId": "f0d5605e-2016-47c4-aebc-ce5cb140191a"
      },
      "source": [
        "%%R\n",
        "\n",
        "# CETES\n",
        "data_cetes<-read.table(base)\n",
        "n_gov<-nrow(data_cetes)\n",
        "m_gov=ncol(data_cetes)\n",
        "x_orig_gov=data.frame(data_cetes[2:n_gov,1:m_gov])\n",
        "x_orig_gov=as.data.table(mutate(data_cetes[2:n_gov,1:m_gov],Date=as.Date(V1,format=\"%Y%m%d\")))\n",
        "x_orig_gov=x_orig_gov%>%select(-V1)\n",
        "nodos_gov=data.frame(data_cetes[1,2:m_gov])\n",
        "\n",
        "# BONO M\n",
        "data_m<-read.table(btasadesc)\n",
        "n_bonom<-nrow(data_m)\n",
        "m_bonom=ncol(data_m)\n",
        "x_orig_bonom=data.frame(data_m[2:n_bonom,1:m_bonom])\n",
        "x_orig_bonom=as.data.table(mutate(data_m[2:n_bonom,1:m_bonom],Date=as.Date(V1,format=\"%Y%m%d\")))\n",
        "x_orig_bonom=x_orig_bonom%>%select(-V1)\n",
        "nodos_bonom=data.frame(data_m[1,2:m_bonom])\n",
        "\n",
        "# BONDE D\n",
        "\n",
        "data1<-read.table(base)\n",
        "n<-nrow(data1)\n",
        "m_bd=ncol(data1)\n",
        "X_orig_bd=as.data.table(mutate(data1[2:n,1:m_bd],Date=as.Date(V1,format=\"%Y%m%d\")))\n",
        "X_orig_bd%>%select(-V1)\n",
        "\n",
        "X1_orig=mutate(data.frame(data1[2:n,1:m_bd]), V1=as.Date(V1,format=\"%Y%m%d\"))\n",
        "print(head(X1_orig[,1:4]))\n",
        "nodos=data.frame(data1[1,2:m_bd])\n",
        "n=n-1\n",
        "\n",
        "data3<-read.table(btasadescst)\n",
        "n3<-nrow(data3)\n",
        "m3_bd=ncol(data3)\n",
        "X3_orig_bd=as.data.table(mutate(data3[2:n,1:m3_bd],Date=as.Date(V1,format=\"%Y%m%d\")))\n",
        "X3_orig_bd=X3_orig_bd%>%select(-V1)\n",
        "\n",
        "X3a_orig=mutate(data.frame(data1[2:n,1:m_bd]), V1=as.Date(V1,format=\"%Y%m%d\"))\n",
        "nodos3_bd=data.frame(data3[1,2:m3_bd])\n",
        "n3=n3-1\n",
        "\n",
        "data2<-read.table(btasafondeo)\n",
        "n2<-nrow(data2)\n",
        "X2_orig_bd=data.frame(data2[2:n2,1:2])\n",
        "print(head(X2_orig_bd))\n",
        "X2_orig_bd=mutate(X2_orig_bd, V1=as.Date(V1,format=\"%Y%m%d\"), Date=as.Date(V1,format=\"%Y%m%d\"), V2=as.numeric(as.character(V2)))\n",
        "tfh=seq(min(X2_orig_bd$V1), max(X2_orig_bd$V1), \"days\") #sucesión de dias para tasa fondeo\n",
        "tfhd=data.frame(ID=1:count(tfh),fecha=tfh)\n",
        "\n",
        "#Cruzar la sucesión de todos los días versus el de tasa de fondeo\n",
        "tfhd=setDT(tfhd)[, Date := tfh][order(-Date)]\n",
        "X2_orig_bd=setDT(X2_orig_bd)[, Date := V1][order(-Date)]\n",
        "# rolling join unión por rolling, rellena las fechas que faltaban con el último valor conocido \"roll=Inf\"\n",
        "X2_orig_bd=X2_orig_bd[tfhd, on = .(Date), roll = Inf] \n",
        "print(head(X2_orig_bd))\n",
        "#buscar fecha de valuación en tfondeo\n",
        "tf_act=X2_orig_bd[fecha==fval,]$V2/100\n",
        "tf_int=X2_orig_bd[fecha<=fval & fecha>=(fval-plazocupon_bdm[1])]$V2/100\n",
        "\n",
        "X1_orig=setDT(X1_orig)[, Date:= V1][order(-Date)] #Para alinear con valor presente y tasa de fondeo.\n"
      ],
      "execution_count": 108,
      "outputs": [
        {
          "output_type": "stream",
          "name": "stdout",
          "text": [
            "          V1         V2         V3         V4\n",
            "2 2021-10-15 0.04850092 0.04790516 0.04729400\n",
            "3 2021-10-14 0.04737299 0.04790516 0.04729400\n",
            "4 2021-10-13 0.04737299 0.04790516 0.04751145\n",
            "5 2021-10-12 0.04793244 0.04790516 0.04751145\n",
            "6 2021-10-11 0.04737299 0.04790516 0.04751145\n",
            "7 2021-10-08 0.04737299 0.04786294 0.04751145\n",
            "        V1    V2\n",
            "2 19981103 30.75\n",
            "3 19981104  29.2\n",
            "4 19981105  29.8\n",
            "5 19981106  31.3\n",
            "6 19981109  32.9\n",
            "7 19981110 34.54\n",
            "           V1   V2       Date   ID      fecha\n",
            "1: 2021-10-22 4.79 2021-10-22 8390 2021-10-22\n",
            "2: 2021-10-21 4.80 2021-10-21 8389 2021-10-21\n",
            "3: 2021-10-20 4.84 2021-10-20 8388 2021-10-20\n",
            "4: 2021-10-19 4.83 2021-10-19 8387 2021-10-19\n",
            "5: 2021-10-18 4.77 2021-10-18 8386 2021-10-18\n",
            "6: 2021-10-15 4.74 2021-10-17 8385 2021-10-17\n"
          ]
        }
      ]
    },
    {
      "cell_type": "code",
      "metadata": {
        "colab": {
          "base_uri": "https://localhost:8080/"
        },
        "id": "27vIbthgQceF",
        "outputId": "c195bcc8-f2fc-4b34-dd24-3544e9331e6f"
      },
      "source": [
        "%%R\n",
        "X2_orig_bd[fecha==fval,]$V2/100"
      ],
      "execution_count": 109,
      "outputs": [
        {
          "output_type": "stream",
          "name": "stdout",
          "text": [
            "[1] 0.0474\n"
          ]
        }
      ]
    },
    {
      "cell_type": "markdown",
      "metadata": {
        "id": "VjEeGSB2Fb3F"
      },
      "source": [
        "###Inciso 4\n"
      ]
    },
    {
      "cell_type": "code",
      "metadata": {
        "id": "YyykdGhOF6lt",
        "colab": {
          "base_uri": "https://localhost:8080/"
        },
        "outputId": "cd144919-e344-45ac-a50a-f4014cd8bee5"
      },
      "source": [
        "%%R\n",
        "#CARGA DE DATOS DE  FORWARDS DE TDC\n",
        "#datas\n",
        "#data<-read.table(\"tasa_tiie.txt\")\n",
        "data1<-read.table(bext)\n",
        "data2<-read.table(bdom)\n",
        "\n",
        "########minimos para parametrizar\n",
        "n1=nrow(data1)\n",
        "n2=nrow(data2)\n",
        "m1_ftdc=ncol(data1)\n",
        "m2_ftdc=ncol(data2)\n",
        "n=min(n1,n2)-1\n",
        "###NODOS###\n",
        "nodos1_ftdc=data.frame(data1[1,2:m1_ftdc])\n",
        "nodos2_ftdc=data.frame(data2[1,2:m2_ftdc])\n",
        "####MATRICES DEL MISMO TAMAÑO MENOS DOLAR\n",
        "\n",
        "x1_ftdc=as.data.table(mutate(data1[2:n,1:m1_ftdc],Date=as.Date(V1,format=\"%Y%m%d\")))\n",
        "\n",
        "x1_ftdc=x1_ftdc%>%select(-V1)\n",
        "x2_ftdc=as.data.table(mutate(data2[2:n,1:m2_ftdc],Date=as.Date(V1,format=\"%Y%m%d\")))\n",
        "x2_ftdc=x2_ftdc%>%select(-V1)\n",
        "print(x2_ftdc[1:20,])\n",
        "\n",
        "###Para Dolar\n",
        "\n",
        "if (yext==1)\n",
        "{\n",
        "#Cargar los símbolos de yahoo finance para FX\n",
        "  start_date=fval-3660 #fecha inicial\n",
        "\n",
        "\n",
        "  \n",
        "#Creación del objeto para guardar los datos\n",
        "  dataEnvFX_ftdc<-new.env()\n",
        "  \n",
        "#obtener los datos\n",
        "  getSymbols.yahoo(SymbolsFX_ftdc,env=dataEnvFX_ftdc,from=start_date, to=(fval))\n",
        "#limpiarlos, alinearnos y quedarnos con el precio de cierre \n",
        "  bt.prep(dataEnvFX_ftdc,align='remove.na',fill.gaps=T)\n",
        "  \n",
        "#muestra de datos\n",
        "  head(dataEnvFX_ftdc$prices[,2])\n",
        "  \n",
        "#Nos quedamos con los precios\n",
        "  X3_ftdc=data.table(Date=as.Date(index(dataEnvFX_ftdc$prices[,2])),coredata(dataEnvFX_ftdc$prices[,2]))\n",
        "} else  \n",
        "{ \n",
        "data3<-read.table(btsp)\n",
        "print(head(data3))\n",
        "n3<-nrow(data3)\n",
        "m3<-ncol(data3)\n",
        "X3=data.table(as.matrix(as.double(as.matrix(data3[2:(n+1),m3]))))\n",
        "X3_find=as.data.table(mutate(data3[2:(n+1),1:m3],Date=as.Date(V1,format=\"%Y%m%d\")))\n",
        "}\n",
        "\n",
        "\n",
        "# CARGA DE DATOS DE  FORWARD DE IPC\n",
        "\n",
        "data<-read.table(base)\n",
        "n<-nrow(data)\n",
        "m_gov=ncol(data)\n",
        "#x_orig_gov=data.frame(data[2:n,1:m_gov])\n",
        "x_orig_gov=as.data.table(mutate(data[2:n,1:m_gov],Date=as.Date(V1,format=\"%Y%m%d\")))\n",
        "x_orig_gov=x_orig_gov%>%select(-V1)\n",
        "nodos_gov=data.frame(data[1,2:m_gov])\n",
        "\n",
        "  #Cargar los símbolos de yahoo finance para EQ\n",
        "  start_date=fval-nh #fecha inicial\n",
        "  \n",
        "  #Creación del objeto para guardar los datos\n",
        "  dataEnvEQ<-new.env()\n",
        "  \n",
        "  #obtener los datos\n",
        "  getSymbols.yahoo(SymbolsEQ_find,env=dataEnvEQ,from=start_date, to=(fval))\n",
        "  #limpiarlos, alinearnos y quedarnos con el precio de cierre \n",
        "  bt.prep(dataEnvEQ,align='remove.na',fill.gaps=T)\n",
        "  \n",
        "  #muestra de datos\n",
        "#  head(dataEnvEQ$prices)\n",
        "  \n",
        "  #Nos quedamos con los precios\n",
        "  X3_find=data.table(Date=as.Date(index(dataEnvEQ$prices[,2])),coredata(dataEnvEQ$prices[,2]))"
      ],
      "execution_count": 110,
      "outputs": [
        {
          "output_type": "stream",
          "name": "stdout",
          "text": [
            "          V2       V3       V4       V5       V6       V7       V8       V9\n",
            " 1: 4.796460 4.796460 4.809473 4.949451 5.054713 5.118665 5.197817 5.297533\n",
            " 2: 4.775640 4.788325 4.808550 4.949778 5.059443 5.118577 5.197851 5.286065\n",
            " 3: 4.795786 4.803414 4.808251 4.954771 5.059334 5.118559 5.197837 5.286147\n",
            " 4: 4.766877 4.782074 4.810029 4.949099 5.049483 5.117910 5.192407 5.286260\n",
            " 5: 4.784504 4.795402 4.805944 4.944074 5.049414 5.112439 5.186932 5.274833\n",
            " 6: 4.773803 4.780204 4.805944 4.944074 5.049414 5.112439 5.186932 5.274833\n",
            " 7: 4.774432 4.787956 4.805944 4.944074 5.049414 5.112439 5.186932 5.274923\n",
            " 8: 4.784504 4.795402 4.805944 4.944074 5.050779 5.122580 5.192471 5.286286\n",
            " 9: 4.784504 4.795402 4.805944 4.944074 5.050779 5.122580 5.192441 5.291877\n",
            "10: 4.764359 4.780509 4.805944 4.944215 5.056871 5.133474 5.203300 5.331804\n",
            "11: 4.791425 4.791427 4.804477 4.944584 5.056874 5.132634 5.197830 5.326061\n",
            "12: 4.789541 4.797222 4.801959 4.943944 5.044707 5.117180 5.186953 5.286094\n",
            "13: 4.804649 4.810295 4.805944 4.943932 5.043670 5.103567 5.159898 5.240612\n",
            "14: 4.794577 4.802849 4.805944 4.943932 5.043670 5.104509 5.165094 5.240581\n",
            "15: 4.789541 4.800433 4.810915 4.944062 5.047445 5.094177 5.159555 5.223452\n",
            "16: 4.773803 4.780204 4.805944 4.944074 5.047452 5.092645 5.148532 5.229186\n",
            "17: 4.776950 4.787101 4.799737 4.944417 5.048741 5.105268 5.170538 5.246036\n",
            "18: 4.773122 4.785841 4.805988 4.943793 5.038343 5.099106 5.159424 5.268951\n",
            "19: 4.771913 4.785440 4.803408 4.933593 5.034086 5.098242 5.154466 5.280505\n",
            "20: 4.768388 4.781919 4.799928 4.934027 5.050323 5.115442 5.175828 5.308711\n",
            "         V10      V11      V12      V13      V14      V15      V16      V17\n",
            " 1: 5.333096 5.458580 5.655407 5.901935 6.168308 6.458228 6.779539 7.136514\n",
            " 2: 5.321558 5.428262 5.603753 5.840223 6.096313 6.381771 6.698651 7.050602\n",
            " 3: 5.309715 5.428253 5.604172 5.840609 6.096664 6.379367 6.692923 7.041126\n",
            " 4: 5.303862 5.434513 5.604497 5.851093 6.119216 6.398443 6.706627 7.048783\n",
            " 5: 5.298144 5.434846 5.618054 5.862264 6.126832 6.400631 6.702618 7.037800\n",
            " 6: 5.298144 5.434810 5.624521 5.879867 6.156809 6.441248 6.754882 7.103193\n",
            " 7: 5.286357 5.429313 5.611884 5.866319 6.142677 6.426340 6.739084 7.086387\n",
            " 8: 5.297843 5.446688 5.637315 5.893192 6.170741 6.455966 6.770500 7.119827\n",
            " 9: 5.321288 5.471148 5.662630 5.926659 6.213572 6.496203 6.806696 7.151481\n",
            "10: 5.367880 5.506814 5.699369 5.958086 6.238853 6.522543 6.834935 7.181864\n",
            "11: 5.368010 5.507080 5.693069 5.940570 6.208862 6.495670 6.813047 7.165595\n",
            "12: 5.333379 5.459127 5.642771 5.895132 6.169040 6.448502 6.756425 7.098304\n",
            "13: 5.275376 5.411645 5.580696 5.850674 6.145702 6.414269 6.706954 7.031678\n",
            "14: 5.275296 5.411439 5.606616 5.871954 6.159990 6.439717 6.746565 7.087229\n",
            "15: 5.263808 5.399795 5.581397 5.851991 6.146914 6.426437 6.732354 7.071965\n",
            "16: 5.275476 5.436696 5.607293 5.895909 6.212432 6.505227 6.825084 7.180432\n",
            "17: 5.310116 5.485047 5.684026 5.988067 6.320758 6.637313 6.984423 7.370630\n",
            "18: 5.345403 5.521575 5.721935 6.027774 6.362542 6.687299 7.044193 7.441514\n",
            "19: 5.351249 5.533611 5.747814 6.062655 6.407014 6.737754 7.100994 7.505535\n",
            "20: 5.403649 5.581860 5.811022 6.136843 6.493078 6.829645 7.198840 7.610164\n",
            "          Date\n",
            " 1: 2021-10-15\n",
            " 2: 2021-10-14\n",
            " 3: 2021-10-13\n",
            " 4: 2021-10-12\n",
            " 5: 2021-10-11\n",
            " 6: 2021-10-08\n",
            " 7: 2021-10-07\n",
            " 8: 2021-10-06\n",
            " 9: 2021-10-05\n",
            "10: 2021-10-04\n",
            "11: 2021-10-01\n",
            "12: 2021-09-30\n",
            "13: 2021-09-29\n",
            "14: 2021-09-28\n",
            "15: 2021-09-27\n",
            "16: 2021-09-24\n",
            "17: 2021-09-23\n",
            "18: 2021-09-22\n",
            "19: 2021-09-21\n",
            "20: 2021-09-20\n"
          ]
        }
      ]
    },
    {
      "cell_type": "markdown",
      "metadata": {
        "id": "6q3vnBxyO9IT"
      },
      "source": [
        "### Inciso 5"
      ]
    },
    {
      "cell_type": "code",
      "metadata": {
        "id": "5YLdDms-O_sD"
      },
      "source": [
        "%%R\n",
        "data1<-read.table(btasadesc_sw)\n",
        "n1<-nrow(data1)\n",
        "m1_orig_sw=ncol(data1)\n",
        "X1_orig_sw=data.table(mutate(data1[2:n1,1:m1_orig_sw],Date=as.Date(V1,format=\"%Y%m%d\")))\n",
        "X1_orig_sw=X1_orig_sw%>%select(-V1)\n",
        "nodos1_sw=data.frame(data1[1,2:m1_orig_sw])\n",
        "  \n",
        "data2<-read.table(btasacupvar_sw)\n",
        "n2<-nrow(data2)\n",
        "m2_orig_sw=ncol(data2)\n",
        "X2_orig_sw=data.table(mutate(data2[2:n1,1:m1_orig_sw],Date=as.Date(V1,format=\"%Y%m%d\")))\n",
        "X2_orig_sw=X2_orig_sw%>%select(-V1)\n",
        "nodos2_sw=data.frame(data2[1,2:m2_orig_sw])\n"
      ],
      "execution_count": 111,
      "outputs": []
    },
    {
      "cell_type": "markdown",
      "metadata": {
        "id": "HH-ONuC12Yfz"
      },
      "source": [
        "###Inciso 6"
      ]
    },
    {
      "cell_type": "code",
      "metadata": {
        "id": "OHvzG5dD2bWY"
      },
      "source": [
        "%%R\n",
        "  #carga de rho\t\n",
        "  data1<-read.table(btasadesc_oir) \n",
        "  n<-nrow(data1)\n",
        "  m1_orig_oir=ncol(data1)\n",
        "  x1_orig_oir=data.table(mutate(data1[2:n,1:m1_orig_oir],Date=as.Date(V1,format=\"%Y%m%d\")))\n",
        "  x1_orig_oir=x1_orig_oir%>%select(-V1)\n",
        "  nodos1_oir=data.frame(data1[1,2:m1_orig_oir])\n",
        "  \n",
        "  #data1[1:3,]\n",
        "  #carga de tasas spot\n",
        "  data2<-read.table(btasaspot_oir)\n",
        "  n<-nrow(data2)\n",
        "  m2_orig_oir=ncol(data2)\n",
        "  x2_orig_oir=data.table(mutate(data2[2:n,1:m2_orig_oir],Date=as.Date(V1,format=\"%Y%m%d\")))\n",
        "  x2_orig_oir=x2_orig_oir%>%select(-V1)\n",
        "  nodos2_oir=data.frame(data2[1,2:m2_orig_oir])\n",
        "  #carga de volatilidades de spot\n",
        "  data3<-read.table(bvolspot_oir)\n",
        "  n<-nrow(data3)\n",
        "  m3_orig_oir=ncol(data3)\n",
        "  x3_orig_oir=data.table(mutate(data3[2:n,1:m3_orig_oir],Date=as.Date(V1,format=\"%Y%m%d\")))\n",
        "  x3_orig_oir=x3_orig_oir%>%select(-V1)\n",
        "  \n",
        "  nodos3_oir=data.frame(data3[1,2:m3_orig_oir])"
      ],
      "execution_count": 112,
      "outputs": []
    },
    {
      "cell_type": "markdown",
      "metadata": {
        "id": "dEovi7w5G29H"
      },
      "source": [
        "##**Integración de Insumos**"
      ]
    },
    {
      "cell_type": "markdown",
      "metadata": {
        "id": "0pJAdD0PEXIh"
      },
      "source": [
        "### Cruce de tablas"
      ]
    },
    {
      "cell_type": "code",
      "metadata": {
        "id": "rZctw8Ty6vZQ",
        "colab": {
          "base_uri": "https://localhost:8080/"
        },
        "outputId": "ac1406dd-1088-4ff0-b33d-eda938177c76"
      },
      "source": [
        "%%R\n",
        "#INTERSECCIÓN DE FECHAS DE TODOS LOS INSUMOS    \n",
        "  \n",
        "\n",
        "lin_gub=data.table(Date=as.Date(aux2[x_orig_gov,on=.(Date),nomatch=0]$Date)) #Fechas acciones, equity, guber, yield\n",
        "\n",
        "#lin_gub_aux=data.table(Date=as.Date(lin_gub[x_orig_bonom,on=.(Date),nomatch=0]$Date)) \n",
        "\n",
        "lin_gub_bmybdst_aux=data.table(Date=as.Date(lin_gub[X3_orig_bd,on=.(Date),nomatch=0]$Date)) #Fechas acciones, equity, guber, yield y st (bonde)\n",
        "\n",
        "\n",
        "lin_gub_bmybdst=data.table(Date=as.Date(X3_ftdc[lin_gub_bmybdst_aux,on=.(Date),nomatch=0]$Date)) #Fechas acciones, equity, guber, yield y st (bonde)\n",
        "\n",
        "lin_gub_bmybdst_flib=data.table(Date=as.Date(lin_gub_bmybdst[x1_ftdc,on=.(Date),nomatch=0]$Date)) #Fechas acciones, equity, guber, yield,  st (bonde), libor\n",
        "\n",
        "lin_gub_bmybdst_flibfwd=data.table(Date=as.Date(lin_gub_bmybdst_flib[x2_ftdc,on=.(Date),nomatch=0]$Date)) #Fechas acciones, equity, guber, yield, st (bonde), libor, fwd\n",
        "\n",
        "lin_gub_bmybdst_flibfwdspind=data.table(Date=as.Date(lin_gub_bmybdst_flibfwd[X3_find,on=.(Date),nomatch=0]$Date)) #Fechas acciones, equity, guber, yield, st (bonde), libor, fwd, spot, equity or index\n",
        "\n",
        "\n",
        "\n",
        "lin_gub_bmybdst_flibfwdspind_swcup=data.table(Date=as.Date(lin_gub_bmybdst_flibfwdspind[X1_orig_sw,on=.(Date),nomatch=0]$Date)) #Fechas acciones, equity, guber, yield, st (bonde), libor, fwd, spot, equity or index, swap cupón\n",
        "\n",
        "lin_gub_bmybdst_flibfwdspind_swcupvp=data.table(Date=as.Date(lin_gub_bmybdst_flibfwdspind_swcup[X2_orig_sw,on=.(Date),nomatch=0]$Date)) #Fechas acciones, equity, guber, yield, st (bonde), libor, fwd, spot, equity or index, swap cupón\n",
        "\n",
        "lin_gub_bmybdst_flibfwdspind_swcupvp_oirs=data.table(Date=as.Date(lin_gub_bmybdst_flibfwdspind_swcupvp[x1_orig_oir,on=.(Date),nomatch=0]$Date)) #Fechas acciones, equity, guber, yield, st (bonde), libor, fwd, spot, equity or index, swap cupón, opciones ir spot\n",
        "\n",
        "lin_gub_bmybdst_flibfwdspind_swcupvp_oirsvp=data.table(Date=as.Date(lin_gub_bmybdst_flibfwdspind_swcupvp_oirs[x2_orig_oir,on=.(Date),nomatch=0]$Date)) #Fechas acciones, equity, guber, yield, st (bonde), libor, fwd, spot, equity or index, swap cupón, opciones ir spot, opc ir vp\n",
        "\n",
        "lin_gub_bmybdst_flibfwdspind_swcupvp_oirsvpvol=data.table(Date=as.Date(lin_gub_bmybdst_flibfwdspind_swcupvp_oirsvp[x3_orig_oir,on=.(Date),nomatch=0]$Date)) #Fechas acciones, equity, guber, yield, st (bonde), libor, fwd, spot, equity or index, swap cupón, opciones ir spot, opc ir vp, opc ir vol\n",
        "\n",
        "\n",
        "lin_gub_bmybdst_flibfwdspind_swcupvp_oirsvpvol=unique(lin_gub_bmybdst_flibfwdspind_swcupvp_oirsvpvol)\n",
        "print(lin_gub_bmybdst_flibfwdspind_swcupvp_oirsvpvol)"
      ],
      "execution_count": 113,
      "outputs": [
        {
          "output_type": "stream",
          "name": "stdout",
          "text": [
            "           Date\n",
            "  1: 2021-10-14\n",
            "  2: 2021-10-13\n",
            "  3: 2021-10-12\n",
            "  4: 2021-10-11\n",
            "  5: 2021-10-08\n",
            " ---           \n",
            "249: 2020-10-20\n",
            "250: 2020-10-19\n",
            "251: 2020-10-16\n",
            "252: 2020-10-15\n",
            "253: 2020-10-14\n"
          ]
        }
      ]
    },
    {
      "cell_type": "markdown",
      "metadata": {
        "id": "dH41gFtOENT6"
      },
      "source": [
        "### Formato de historia"
      ]
    },
    {
      "cell_type": "markdown",
      "metadata": {
        "id": "28s1WRx1E9UA"
      },
      "source": [
        "#### Historia de todos"
      ]
    },
    {
      "cell_type": "code",
      "metadata": {
        "id": "57rW0_rpFBVo",
        "colab": {
          "base_uri": "https://localhost:8080/"
        },
        "outputId": "1c17f041-7fcd-4fe2-af23-1185dfd88b12"
      },
      "source": [
        "%%R\n",
        "n=nrow(lin_gub_bmybdst_flibfwdspind_swcupvp_oirsvpvol)\n",
        "n"
      ],
      "execution_count": 114,
      "outputs": [
        {
          "output_type": "stream",
          "name": "stdout",
          "text": [
            "[1] 253\n"
          ]
        }
      ]
    },
    {
      "cell_type": "markdown",
      "metadata": {
        "id": "aZj6NZEAE42p"
      },
      "source": [
        "#### Incisos 1 y 2"
      ]
    },
    {
      "cell_type": "code",
      "metadata": {
        "id": "SWBDdQIuEkrR"
      },
      "source": [
        "%%R\n",
        "#historia de acciones y divisas\n",
        "stock_prices_EQFX=lin_gub_bmybdst_flibfwdspind_swcupvp_oirsvpvol[aux2,on=.(Date),nomatch=0][order(-Date)]\n",
        "stock_prices_EQFX=stock_prices_EQFX%>%select(-Date)"
      ],
      "execution_count": 115,
      "outputs": []
    },
    {
      "cell_type": "markdown",
      "metadata": {
        "id": "GTI2b407kVrL"
      },
      "source": [
        "#### Inciso 3"
      ]
    },
    {
      "cell_type": "code",
      "metadata": {
        "id": "SKEedVolkb41"
      },
      "source": [
        "%%R\n",
        "#Historia de curva gubernamental y yield\n",
        "x_orig_gov=lin_gub_bmybdst_flibfwdspind_swcupvp_oirsvpvol[x_orig_gov,on=.(Date),nomatch=0][order(-Date)]\n",
        "x_orig_gov=x_orig_gov%>%select(-Date)\n",
        "\n",
        "#Historia de curvas de bonde\n",
        "X1_orig=lin_gub_bmybdst_flibfwdspind_swcupvp_oirsvpvol[X1_orig,on=.(Date),nomatch=0][order(-Date)]\n",
        "X1_orig=X1_orig%>%select(-Date)\n",
        "X2_orig_bd=lin_gub_bmybdst_flibfwdspind_swcupvp_oirsvpvol[X2_orig_bd,on=.(Date),nomatch=0][order(-Date)]\n",
        "X2_orig_bd=X2_orig_bd%>%select(-Date)\n",
        "X3_orig_bd=lin_gub_bmybdst_flibfwdspind_swcupvp_oirsvpvol[X3_orig_bd,on=.(Date),nomatch=0][order(-Date)]\n",
        "X3_orig_bd=X3_orig_bd%>%select(-Date)\n",
        "\n"
      ],
      "execution_count": 116,
      "outputs": []
    },
    {
      "cell_type": "markdown",
      "metadata": {
        "id": "FBSlPmJGlWMe"
      },
      "source": [
        "#### Inciso 4\n"
      ]
    },
    {
      "cell_type": "code",
      "metadata": {
        "id": "YNQAT638lloC"
      },
      "source": [
        "%%R\n",
        "#historia de curvas de forward tdc\n",
        "x1_ftdc=lin_gub_bmybdst_flibfwdspind_swcupvp_oirsvpvol[x1_ftdc,on=.(Date),nomatch=0][order(-Date)]\n",
        "x1_ftdc=x1_ftdc%>%select(-Date)/100\n",
        "x2_ftdc=lin_gub_bmybdst_flibfwdspind_swcupvp_oirsvpvol[x2_ftdc,on=.(Date),nomatch=0][order(-Date)]\n",
        "x2_ftdc=x2_ftdc%>%select(-Date)/100\n",
        "X3_ftdc=lin_gub_bmybdst_flibfwdspind_swcupvp_oirsvpvol[X3_ftdc,on=.(Date),nomatch=0][order(-Date)]\n",
        "X3_ftdc=X3_ftdc%>%select(-Date)\n",
        "\n",
        "#historia de curvas de forward ind\n",
        "#CONSIDERAR LA CURVA GUBERNAMENTAL X1_ORIG_GOV\n",
        "X3_find=lin_gub_bmybdst_flibfwdspind_swcupvp_oirsvpvol[X3_find,on=.(Date),nomatch=0][order(-Date)]\n",
        "X3_find=X3_find%>%select(-Date)"
      ],
      "execution_count": 117,
      "outputs": []
    },
    {
      "cell_type": "markdown",
      "metadata": {
        "id": "hP8Kw5CVFPO7"
      },
      "source": [
        "#### Inciso 5"
      ]
    },
    {
      "cell_type": "code",
      "metadata": {
        "id": "QYlhkMU2FUsg"
      },
      "source": [
        "%%R\n",
        "X1_orig_sw=lin_gub_bmybdst_flibfwdspind_swcupvp_oirsvpvol[X1_orig_sw,on=.(Date),nomatch=0][order(-Date)]\n",
        "X1_orig_sw=X1_orig_sw%>%select(-Date)/100\n",
        "X2_orig_sw=lin_gub_bmybdst_flibfwdspind_swcupvp_oirsvpvol[X2_orig_sw,on=.(Date),nomatch=0][order(-Date)]\n",
        "X2_orig_sw=X2_orig_sw%>%select(-Date)/100"
      ],
      "execution_count": 118,
      "outputs": []
    },
    {
      "cell_type": "markdown",
      "metadata": {
        "id": "Rv8mvZBChD8a"
      },
      "source": [
        "####Inciso 6"
      ]
    },
    {
      "cell_type": "code",
      "metadata": {
        "id": "o4eUepIVhR_H"
      },
      "source": [
        "%%R\n",
        "x1_orig_oir=lin_gub_bmybdst_flibfwdspind_swcupvp_oirsvpvol[x1_orig_oir,on=.(Date),nomatch=0][order(-Date)]\n",
        "x1_orig_oir=x1_orig_oir%>%select(-Date)/100\n",
        "x2_orig_oir=lin_gub_bmybdst_flibfwdspind_swcupvp_oirsvpvol[x2_orig_oir,on=.(Date),nomatch=0][order(-Date)]\n",
        "x2_orig_oir=x2_orig_oir%>%select(-Date)/100\n",
        "x3_orig_oir=lin_gub_bmybdst_flibfwdspind_swcupvp_oirsvpvol[x3_orig_oir,on=.(Date),nomatch=0][order(-Date)]\n",
        "x3_orig_oir=x3_orig_oir%>%select(-Date)"
      ],
      "execution_count": 119,
      "outputs": []
    },
    {
      "cell_type": "markdown",
      "metadata": {
        "id": "uD7bCvnGnKva"
      },
      "source": [
        "## **Valuación**"
      ]
    },
    {
      "cell_type": "markdown",
      "metadata": {
        "id": "RL6tbOVoNsxZ"
      },
      "source": [
        "### Inciso 1 y 2: Acciones y divisas"
      ]
    },
    {
      "cell_type": "code",
      "metadata": {
        "id": "67VajrF8N2AS"
      },
      "source": [
        "%%R\n",
        "x0_acc_div=stock_prices_EQFX[1,]\n",
        "DeltaX_acc_div=as.matrix(log(as.matrix(stock_prices_EQFX[1:(n-1)])/as.matrix(stock_prices_EQFX[2:(n)])))\n",
        "V0_acc_div=cbind(t(pos_fx),t(pos_eq))*x0_acc_div\n",
        "m_fx=length(pos_fx)\n",
        "m_acc=length(pos_eq)"
      ],
      "execution_count": 120,
      "outputs": []
    },
    {
      "cell_type": "markdown",
      "metadata": {
        "id": "vwstou6tnYsS"
      },
      "source": [
        "### Inciso 3: Cetes"
      ]
    },
    {
      "cell_type": "code",
      "metadata": {
        "id": "L85VyT-UnXnH",
        "colab": {
          "base_uri": "https://localhost:8080/"
        },
        "outputId": "0f15250e-f8a4-4051-8e22-ae4e1cc652b3"
      },
      "source": [
        "%%R\n",
        "# Interpolamos las tasas\n",
        "m=ncol(ven_cete)\n",
        "x=matrix(0,n,m)\n",
        "for (i in 1:(n))\n",
        "{\n",
        "    if(itpl == 0){\n",
        "        x[i,]=approx(nodos_gov,x_orig_gov[i,], ven_cete)$y\n",
        "    }else{\n",
        "        x[i,]=talamb(nodos_gov,x_orig_gov[i,],ven_cete)\n",
        "    }\n",
        "}\n",
        "#Función para el calculo de los bonos cupon 0\n",
        "bonocupcero = function(i,t)\n",
        "{\n",
        "1/(1+i*t/360)\n",
        "}\n",
        "\n",
        "#Valor actual de cada bono\n",
        "x0_cetes=x[1,]\n",
        "V0_cetes=as.matrix(bonocupcero(x0_cetes,ven_cete))*nominal_cete \n",
        "V0_cetes[1,2] = 0\n",
        "#Valor total\n",
        "VT0_cetes=sum(V0_cetes)\n",
        "\n",
        "VT0_cetes\n"
      ],
      "execution_count": 121,
      "outputs": [
        {
          "output_type": "stream",
          "name": "stdout",
          "text": [
            "[1] 9.760299\n"
          ]
        }
      ]
    },
    {
      "cell_type": "markdown",
      "metadata": {
        "id": "sCdDuULV68ki"
      },
      "source": [
        "### Inciso 3: Bonos M"
      ]
    },
    {
      "cell_type": "code",
      "metadata": {
        "id": "6zj5QzkqeYiJ",
        "colab": {
          "base_uri": "https://localhost:8080/"
        },
        "outputId": "daea04cd-5417-4bb9-dfaa-f233ad018115"
      },
      "source": [
        "%%R\n",
        "#interpolación de tasas y volatilidades\n",
        "#revisar la valuacion que cambia si usamos n en vez de n-1\n",
        "m=ncol(ven_bonom)\n",
        "X=matrix(0,n,m)\n",
        "for (i in 1:(n))\n",
        "{\n",
        "    if(itpl == 0){\n",
        "        X[i,]=approx(nodos_bonom,x_orig_gov[i,], m)$y\n",
        "    }else{\n",
        "        X[i,]=talamb(nodos_bonom,x_orig_gov[i,],m)\n",
        "    }\n",
        "}\n",
        "\n",
        "bonoMyield=function(x, plazos, plazocupon, tfcupon, nominal, contratos = 1) #valoración bono tasa fija\n",
        "{\n",
        "x=x0  \n",
        "N=as.integer(plazos/plazocupon)+1   \n",
        "a=(1-(1+x*plazocupon/360)^(-N))/(plazocupon*x/360)\n",
        "p1=plazos-plazocupon*(N-1)   \n",
        "((contratos*nominal*tfcupon*plazocupon/360)*a+(contratos*nominal)/((1+x*plazocupon/360)^N))*(1+x*plazocupon/360)^(1-p1/plazocupon)   \n",
        "}\n",
        "\n",
        "x0=X[1,] #tasas de descuento valor actual\n",
        "V0_bonom = bonoMyield(x0,ven_bonom, plazocupon_bonom, tfcupon, nominal_bonom, contratos_bonom)\n",
        "V0_bonom[1,2] = 0\n",
        "VT0_bonom=sum(V0_bonom)\n",
        "VT0_bonom\n"
      ],
      "execution_count": 122,
      "outputs": [
        {
          "output_type": "stream",
          "name": "stdout",
          "text": [
            "[1] 94954.44\n"
          ]
        }
      ]
    },
    {
      "cell_type": "code",
      "metadata": {
        "id": "8HTXOS12FA_E",
        "colab": {
          "base_uri": "https://localhost:8080/"
        },
        "outputId": "7a857e67-4454-4b51-8420-62598aa4aaee"
      },
      "source": [
        "%%R\n",
        "\n",
        "X2_orig_bd"
      ],
      "execution_count": 123,
      "outputs": [
        {
          "output_type": "stream",
          "name": "stdout",
          "text": [
            "             V1   V2   ID      fecha\n",
            "  1: 2021-10-14 4.75 8382 2021-10-14\n",
            "  2: 2021-10-13 4.73 8381 2021-10-13\n",
            "  3: 2021-10-12 4.74 8380 2021-10-12\n",
            "  4: 2021-10-11 4.77 8379 2021-10-11\n",
            "  5: 2021-10-08 4.78 8376 2021-10-08\n",
            " ---                                \n",
            "249: 2020-10-20 4.24 8023 2020-10-20\n",
            "250: 2020-10-19 4.23 8022 2020-10-19\n",
            "251: 2020-10-16 4.25 8019 2020-10-16\n",
            "252: 2020-10-15 4.25 8018 2020-10-15\n",
            "253: 2020-10-14 4.25 8017 2020-10-14\n"
          ]
        }
      ]
    },
    {
      "cell_type": "markdown",
      "metadata": {
        "id": "JWSQp1Xr-E6H"
      },
      "source": [
        "### Inciso 3: Bondes D"
      ]
    },
    {
      "cell_type": "code",
      "metadata": {
        "id": "KXD8dhvT-CWn",
        "colab": {
          "base_uri": "https://localhost:8080/"
        },
        "outputId": "622c7c96-2060-40e4-f53a-b183af8ce2bd"
      },
      "source": [
        "%%R\n",
        "#BONDE D CÁLCULO\n",
        "names(X2_orig_bd)[1] = 'Date'\n",
        "X2_pr=lin_gub_bmybdst_flibfwdspind_swcupvp_oirsvpvol[X2_orig_bd, on = .(Date),nomatch=0][order(-Date)] #Se alinea la tasa de fondeo por fecha con la tasa de valor presente.\n",
        "m=ncol(plazos_bdm)\n",
        "\n",
        "\n",
        "N_bd=as.integer(plazos_bdm/plazocupon_bdm)+1 #número de cupones a pagar\n",
        "VTplazos_bdm=matrix(0,1,sum(N_bd)) #vector de todos los plazos_bdm de todos los contratos_bdm\n",
        "contratos_bdmT=matrix(0,1,sum(N_bd)) #vector de todos los contratos_bdm de todos los flujos de todos los contratos_bdm\n",
        "nominal_bdmT=matrix(0,1,sum(N_bd)) #vector de todos los nominal_bdmes de todos los flujos de todos los contratos_bdm\n",
        "plazocupon_bdmT=matrix(0,1,sum(N_bd)) #vector de todos los plazos_bdmcupon de todos los flujos de todos los contratos_bdm\n",
        "tasafijaT_bd=matrix(0,1,sum(N_bd)) #vector de tasas fijas de todos los flujos de todos los contratos_bdm\n",
        "ulNomT_bd=matrix(0,1,sum(N_bd)) #vector de contratos_bdm a final de flujo\n",
        "\n",
        "\n",
        "plazini_bd=plazos_bdm-plazocupon_bdm*(N_bd-1) #vector de plazos_bdm iniciales\n",
        "ddv=plazocupon_bdm-plazini_bd #dias trasncurridos del cupón vigente\n",
        "tfcupon=matrix(0,1,m)  #El primero cupón de cada bono\n",
        "tfcupondev=matrix(0,1,m) #cupón de los días devengados\n",
        "tfcupgen=((1+tf_act/360)^(plazocupon_bdm[1])-1)*360/plazocupon_bdm[1] #el segundo al último cupón de todos los bonos\n",
        "#calcula cupones de bonos\n",
        "for (j in (1:m))\n",
        "{\n",
        "  tfcupondev[j]=(prod(1+tf_int[(1:ddv[j])]/360)-1)*360/ddv[j]\n",
        "  tfcupon[j]=((1+tfcupondev[j]*ddv[j]/360)*(1+tf_act/360)^(plazocupon_bdm[1]-ddv[j])-1)*360/plazocupon_bdm[1]\n",
        "}\n",
        "\n",
        "\n",
        "for (j in (1:m))\n",
        "{\n",
        "  if (j==1)\n",
        "  {\n",
        "    VTplazos_bdm[,1:sum(N_bd[1:j])]=seq(plazini_bd[j],plazos_bdm[j], by=plazocupon_bdm[j])\n",
        "    contratos_bdmT[,1:sum(N_bd[1:j])]=seq(contratos_bdm[j],contratos_bdm[j])\n",
        "    plazocupon_bdmT[,1:sum(N_bd[1:j])]=seq(plazocupon_bdm[j],plazocupon_bdm[j])\n",
        "    ulNomT_bd[,sum(N_bd[1:j])]=contratos_bdm[j]\n",
        "    tasafijaT_bd[,1]=tfcupon[j]\n",
        "    tasafijaT_bd[,2:sum(N_bd[1:j])]=seq(tfcupgen,tfcupgen)\n",
        "  }\n",
        "  else\n",
        "  {\n",
        "    VTplazos_bdm[,(sum(N_bd[1:j-1])+1):sum(N_bd[1:j])]=seq(plazini_bd[j],plazos_bdm[j], by=plazocupon_bdm[j])\n",
        "    contratos_bdmT[,(sum(N_bd[1:j-1])+1):sum(N_bd[1:j])]=seq(contratos_bdm[j],contratos_bdm[j])\t\t\t\t\t\n",
        "    plazocupon_bdmT[,(sum(N_bd[1:j-1])+1):sum(N_bd[1:j])]=seq(plazocupon_bdm[j],plazocupon_bdm[j])\n",
        "    tasafijaT_bd[,(sum(N_bd[1:j-1])+1)]=tfcupon[j]\n",
        "    tasafijaT_bd[,(sum(N_bd[1:j-1])+2):sum(N_bd[1:j])]=seq(tfcupgen,tfcupgen)\n",
        "    ulNomT_bd[,sum(N_bd[1:j])]=contratos_bdm[j]\n",
        "  }\n",
        "}\n",
        "\n",
        "Xvp_bd=matrix(0,n,ncol(VTplazos_bdm))\n",
        "Xst_bd=matrix(0,n,ncol(VTplazos_bdm))\n",
        "\n",
        "for (i in (1:n))\n",
        "{\n",
        "  Xvp_bd[i,]=if(itpl==0){approx(nodos_gov,x_orig_gov[i,],VTplazos_bdm,rule=2)$y}else{talamb(nodos_gov,x_orig_gov[i,],VTplazos_bdm)}\n",
        "  Xst_bd[i,]=if(itpl==0){approx(nodos3_bd,X3_orig_bd[i,],VTplazos_bdm,rule=2)$y}else{talamb(nodos3_bd,X3_orig_bd[i,],VTplazos_bdm)}\n",
        "  \n",
        "}\n",
        "\n",
        "X_bd_tc=matrix(1,n,ncol(contratos_bdmT))*X2_pr$V2/100\n",
        "X_bd_ext=cbind(X_bd_tc,as.matrix(Xvp_bd),as.matrix(Xst_bd))\n",
        "\n",
        "bondeD=function(contratos_bdmT,  nominal_bdm, tf_act, plazocupon_bdmT, VTplazos_bdm, Xvp, Xst, N,ddv)\n",
        "{\n",
        "  tfcupon=matrix(0,1,m)  #El primero cupón de cada bono\n",
        "  tfcupondev=matrix(0,1,m) #cupón de los días devengados\n",
        "  tfcupgen=((1+tf_act/360)^(plazocupon_bdm[1])-1)*360/plazocupon_bdm[1] #el segundo al último cupón de todos los bonos\n",
        "  tasafijaT=matrix(0,1,sum(N))\n",
        "  #calcula cupones de bonos\n",
        "  for (j in (1:m))\n",
        "  {\n",
        "    tfcupondev[j]=(prod(1+tf_int[(1:ddv[j])]/360)-1)*360/ddv[j]\n",
        "    tfcupon[j]=((1+tfcupondev[j]*ddv[j]/360)*(1+tf_act/360)^(plazocupon_bdm[1]-ddv[j])-1)*360/plazocupon_bdm[1]\n",
        "  }\n",
        "  \n",
        "  \n",
        "  for (j in (1:m))\n",
        "  {\n",
        "    if (j==1)\n",
        "    {\n",
        "      tasafijaT[,1]=tfcupon[j]\n",
        "      tasafijaT[,2:sum(N[1:j])]=seq(tfcupgen,tfcupgen)\n",
        "    }\n",
        "    else\n",
        "    {\n",
        "      tasafijaT[,(sum(N[1:j-1])+1)]=tfcupon[j]\n",
        "      tasafijaT[,(sum(N[1:j-1])+2):sum(N[1:j])]=seq(tfcupgen,tfcupgen)\n",
        "    }\n",
        "  }\n",
        "  \n",
        "  \n",
        "  V0=matrix(0,1,count(N))\n",
        "  V0f=((((contratos_bdmT*(tasafijaT)*(plazocupon_bdmT/360))+ulNomT_bd)/(1+(Xvp+Xst)*VTplazos_bdm/360)))*nominal_bdm\n",
        "  for (j in (1:count(N)))\n",
        "  {\n",
        "    if(j==1)\n",
        "    {\n",
        "      V0[j]=sum(V0f[j:N[j]])\n",
        "    }\n",
        "    else\n",
        "    {\n",
        "      V0[j]=sum(V0f[(sum(N[1:j-1])+1):(sum(N[1:j]))])\n",
        "    }\n",
        "  }\n",
        "  V0\n",
        "} \n",
        "\n",
        "\n",
        "\n",
        "V0_bd=bondeD(contratos_bdmT, nominal_bdm, tf_act, plazocupon_bdmT, VTplazos_bdm, Xvp_bd[1,], Xst_bd[1,], N_bd,ddv)\n",
        "\n",
        "V0_bd"
      ],
      "execution_count": 124,
      "outputs": [
        {
          "output_type": "stream",
          "name": "stdout",
          "text": [
            "         [,1] [,2]\n",
            "[1,] 97309.88    0\n"
          ]
        }
      ]
    },
    {
      "cell_type": "code",
      "metadata": {
        "colab": {
          "base_uri": "https://localhost:8080/"
        },
        "id": "nc2g1H7u_Yay",
        "outputId": "d897c1ac-7897-4c4e-d028-1b2b543ccdad"
      },
      "source": [
        "%%R\n",
        "N_bd"
      ],
      "execution_count": 125,
      "outputs": [
        {
          "output_type": "stream",
          "name": "stdout",
          "text": [
            "[1] 26 26\n"
          ]
        }
      ]
    },
    {
      "cell_type": "markdown",
      "metadata": {
        "id": "h5X_HCGunH-0"
      },
      "source": [
        "### Inciso 4: Forwards de tipo de cambio"
      ]
    },
    {
      "cell_type": "code",
      "metadata": {
        "id": "724EaknvnSG_",
        "colab": {
          "base_uri": "https://localhost:8080/"
        },
        "outputId": "0a11cc1b-c7e7-4658-f25a-10bb1fc193a5"
      },
      "source": [
        "%%R\n",
        "#FORWARDS Y/O FUTUROS DE TIPO DE CAMBIO CÁLCULO\n",
        "\n",
        "################MATRICES DE INTERPOLACION LINEAL ####################\n",
        "\n",
        "m=ncol(plazos_fwd)\n",
        "X1_fwtdc=matrix(0,n,m)\n",
        "X2_fwtdc=matrix(0,n,m)\n",
        "\n",
        "\n",
        "for (j in 1:n)\n",
        "{\n",
        "  X1_fwtdc[j,]=if(itpl==0){approx(nodos1_ftdc,x1_ftdc[j,],plazos_fwd,rule=2)$y}else{talamb(nodos1_ftdc,x1_ftdc[j,],plazos_fwd)}\n",
        "  X2_fwtdc[j,]=if(itpl==0){approx(nodos2_ftdc,x2_ftdc[j,],plazos_fwd,rule=2)$y}else{talamb(nodos2_ftdc,x2_ftdc[j,],plazos_fwd)}\n",
        "  if(trlib==1){X1_fwtdc[j,]=((1+X1_fwtdc[j,])^(plazos_fwd/180)-1)*360/plazos_fwd} #transformación de act 180 a 360\n",
        "}\n",
        "\n",
        "\n",
        "futuroTC = function(t,tl,tn,s,k) #t=dias por vencer, tn=tasa nacional para tipo de cambio forward, tl= tasa extranjera pra tipo de cambio forward, S=spot\n",
        "{\n",
        "  f=s*((1+tn*t/360)/(1+tl*t/360)) #Se obtiene el tipo de cambio forward\n",
        "  t(as.numeric((f-k)/(1+t*tn/360))) #Se obtiene el valor del payoff a valor presente con el valor z que define si es largo o corto\n",
        "}\n",
        "\n",
        "X3_ftdc=as.matrix(X3_ftdc)\n",
        "X_futtdc=cbind(X1_fwtdc,X2_fwtdc,X3_ftdc)\n",
        "\n",
        "V0_fwtdc=futuroTC(plazos_fwd,X1_fwtdc[1,],X2_fwtdc[1,],X3_ftdc[1,],kst_fwd)*contratos_fwd*nominal_fwd\n",
        "# V0_fwtdc=futuroTC(plazos_fwd,X1_fwtdc[1,],X2_fwtdc[1,],X3_ftdc[1,],kst_fwd)*contratos_fwd*nominal_fwd]\n",
        "V0_fwtdc"
      ],
      "execution_count": 126,
      "outputs": [
        {
          "output_type": "stream",
          "name": "stdout",
          "text": [
            "          [,1]\n",
            "[1,] -26.92905\n"
          ]
        }
      ]
    },
    {
      "cell_type": "markdown",
      "metadata": {
        "id": "sEDlzB0NnbO5"
      },
      "source": [
        "### Inciso 4: Forwards de indice"
      ]
    },
    {
      "cell_type": "code",
      "metadata": {
        "id": "mYw7esZOngvz",
        "colab": {
          "base_uri": "https://localhost:8080/"
        },
        "outputId": "5285ed1b-b179-4461-e614-345a9bc6654a"
      },
      "source": [
        "%%R\n",
        "#FORWARDS Y/O FUTUROS DE ÍNDICES CÁLCULO\n",
        "\n",
        "################MATRICES DE INTERPOLACION LINEAL ####################\n",
        "\n",
        "m_ind=ncol(plazos_fwd_ind)\n",
        "X1_fwind=matrix(0,n,m_ind) #DIVIDENDOS\n",
        "X2_fwind=matrix(0,n,m_ind)\n",
        "\n",
        "for (j in 1:n)\n",
        "{\n",
        "  #X1_fwind[j,]=if(itpl==0){approx(nodos1_,x1_ftdc[j,],plazos_fwd)$y}else{talamb(nodos1_ftdc,x1_ftdc[j,],plazos_fwd)}\n",
        "  X2_fwind[j,]=if(itpl==0){approx(nodos_gov,x_orig_gov[j,],plazos_fwd_ind,rule=2)$y}else{talamb(nodos_gov,x_orig_gov[j,],plazos_fwd_ind)}\n",
        "  #if(trlib==1){X1_fwtdc[j,]=((1+X1_fwtdc[j,])^(plazos_fwd/180)-1)*360/plazos_fwd} #transformación de act 180 a 360\n",
        "}\n",
        "\n",
        "X3_find=as.matrix(X3_find)\n",
        "X_futind=cbind(X1_fwind,X2_fwind,matrix(X3_find,n,ncol(X1_fwind)))\n",
        "\n",
        "V0_fwind=futuroTC(plazos_fwd_ind,X1_fwind[1,],X2_fwind[1,],X3_find[1,],kst_fwd_ind)*contratos_fwd_ind*nominal_fwd_ind\n",
        "V0_fwind\n"
      ],
      "execution_count": 127,
      "outputs": [
        {
          "output_type": "stream",
          "name": "stdout",
          "text": [
            "         [,1]\n",
            "[1,] 148027.6\n"
          ]
        }
      ]
    },
    {
      "cell_type": "markdown",
      "metadata": {
        "id": "TQ0E0bwzPHkr"
      },
      "source": [
        "### Inciso 5: Swaps"
      ]
    },
    {
      "cell_type": "code",
      "metadata": {
        "id": "KCwvhM8c_iTP",
        "colab": {
          "base_uri": "https://localhost:8080/"
        },
        "outputId": "1eee7fd7-9bf3-48de-f74e-313eb3bd79e9"
      },
      "source": [
        "%%R\n",
        "nodosvp=nodos1_sw\n",
        "nodostc=nodos2_sw\n",
        "curvavp=as.matrix(X1_orig_sw)\n",
        "curvatc=X2_orig_sw\n",
        "n1=nrow(curvavp)\n",
        "n2=nrow(curvatc)\n",
        "\n",
        "\n",
        "m=max(ncol(plazos_sw),1) #número de contratos_sw swap a valorar\n",
        "N=matrix(0,1,m) #es un vector de m valores donde se cargarán los m número de cupones a pagar para cada contrato\n",
        "for (j in (1:m))\n",
        "{\n",
        "  N[j]=as.integer(plazos_sw[j]/plazocupon_sw[j])+1 #número de cupones a pagar\n",
        "}\n",
        "VTplazos_sw=matrix(0,1,sum(N)) #vector de todos los plazos_sw de todos los contratos_sw\n",
        "contratos_swT=matrix(0,1,sum(N)) #vector de todos los contratos_sw de todos los flujos de todos los contratos_sw\n",
        "nominal_swT=matrix(0,1,sum(N)) #vector de todos los nominal_swes de todos los flujos de todos los contratos_sw\n",
        "por_swT=matrix(0,1,sum(N)) #vector de todos los dummy si paga o recibe de todos los flujos de todos los contratos_sw\n",
        "plazocupon_swT=matrix(0,1,sum(N)) #vector de todos los plazos_swcupon de todos los flujos de todos los contratos_sw\n",
        "tasafija_swT=matrix(0,1,sum(N)) #vector de tasas fijas de todos los flujos de todos los contratos_sw\n",
        "VTplazos_swc=matrix(0,1,sum(N)) #vector de todos los plazos_sw cortos de todos los contratos_sw\n",
        "\n",
        "\n",
        "plazini=plazos_sw-plazocupon_sw*(N-1) #vector de plazos_sw iniciales\n",
        "\n",
        "for (j in (1:m))\n",
        "{\n",
        "  if (j==1)\n",
        "  {\n",
        "    VTplazos_sw[,1:sum(N[1:j])]=seq(plazini[j],plazos_sw[j], by=plazocupon_sw[j])\n",
        "    VTplazos_swc[,1:sum(N[1:j])]=c(0,VTplazos_sw[,1:(sum(N[1:j])-1)])\n",
        "    contratos_swT[,1:sum(N[1:j])]=seq(contratos_sw[j],contratos_sw[j])\n",
        "    nominal_swT[,1:sum(N[1:j])]=seq(nominal_sw[j],nominal_sw[j])\n",
        "    por_swT[,1:sum(N[1:j])]=seq(por_sw[j],por_sw[j])\n",
        "    plazocupon_swT[,1:sum(N[1:j])]=seq(plazocupon_sw[j],plazocupon_sw[j])\n",
        "    tasafija_swT[,1:sum(N[1:j])]=seq(tasafija_sw[j],tasafija_sw[j])\n",
        "  }\n",
        "  else\n",
        "  {\n",
        "    VTplazos_sw[,(sum(N[1:j-1])+1):sum(N[1:j])]=seq(plazini[j],plazos_sw[j], by=plazocupon_sw[j])\n",
        "    VTplazos_swc[,(sum(N[1:j-1])+1):sum(N[1:j])]=c(0,VTplazos_sw[,(sum(N[1:j-1])+1):(sum(N[1:j])-1)])\n",
        "    contratos_swT[,(sum(N[1:j-1])+1):sum(N[1:j])]=seq(contratos_sw[j],contratos_sw[j])\t\t\t\t\t\n",
        "    nominal_swT[,(sum(N[1:j-1])+1):sum(N[1:j])]=seq(nominal_sw[j],nominal_sw[j])\n",
        "    por_swT[,(sum(N[1:j-1])+1):sum(N[1:j])]=seq(por_sw[j],por_sw[j])\n",
        "    plazocupon_swT[,(sum(N[1:j-1])+1):sum(N[1:j])]=seq(plazocupon_sw[j],plazocupon_sw[j])\n",
        "    tasafija_swT[,(sum(N[1:j-1])+1):sum(N[1:j])]=seq(tasafija_sw[j],tasafija_sw[j])\n",
        "  }\n",
        "}\n",
        "\n",
        "\n",
        "Xvp=matrix(0,n,ncol(VTplazos_sw))\n",
        "Xtc=matrix(0,n,ncol(VTplazos_sw))\n",
        "Xtcc=matrix(0,n,ncol(VTplazos_sw))\n",
        "XtfwdT=matrix(0,n,ncol(VTplazos_sw))\n",
        "\n",
        "for (i in (1:n))\n",
        "{\n",
        "  Xvp[i,]=if(itpl==0){approx(nodosvp,curvavp[i,],VTplazos_sw,rule=2)$y}else{talamb(nodosvp,curvavp[i,],VTplazos_sw)}\n",
        "  Xtc[i,]=if(itpl==0){approx(nodostc,curvatc[i,],VTplazos_sw,rule=2)$y}else{talamb(nodostc,curvatc[i,],VTplazos_sw)}\n",
        "  Xtcc[i,]=if(itpl==0){approx(nodostc,curvatc[i,],VTplazos_swc, rule=2)$y}else{talamb(nodostc,curvatc[i,],VTplazos_swc)}\n",
        "  \n",
        "  XtfwdT[i,]=((1+Xtc[i,]*VTplazos_sw/360)/(1+Xtcc[i,]*VTplazos_swc/360)-1)*360/plazocupon_swT \n",
        "  for (j in (1:ncol(VTplazos_sw)))\n",
        "  {\n",
        "    if (VTplazos_sw[j]<= plazocupon_swT[j])\n",
        "    {\n",
        "      XtfwdT[i,j]=Xtc[i,j]\n",
        "    }\n",
        "    else\n",
        "    {\n",
        "      j=sum(N[1:j])\n",
        "    }\n",
        "  }\n",
        "}\n",
        "\n",
        "X_sw=cbind(XtfwdT,Xvp)\n",
        "\n",
        "swap=function(por_swT, contratos_swT, nominal_swT, XtfwdT, tasafija_swT, plazocupon_swT, VTplazos_sw, Xvp, N)\n",
        "{\n",
        "  V0=matrix(0,1,ncol(N))\n",
        "  V0f=(((contratos_swT*(XtfwdT-tasafija_swT)*(plazocupon_swT/360)))/(1+Xvp*VTplazos_sw/360))*nominal_swT*(-1)^por_swT\n",
        "  for (j in (1:ncol(N)))\n",
        "  {\n",
        "    if(j==1)\n",
        "    {\n",
        "      V0[j]=sum(V0f[j:N[j]])\n",
        "    }\n",
        "    else\n",
        "    {\n",
        "      V0[j]=sum(V0f[(sum(N[1:j-1])+1):(sum(N[1:j]))])\n",
        "    }\n",
        "  }\n",
        "  V0\n",
        "}\n",
        "\n",
        "V0_sw=swap(por_swT, contratos_swT, nominal_swT, XtfwdT[1,], tasafija_swT, plazocupon_swT, VTplazos_sw, Xvp[1,], N)\n",
        "V0_sw"
      ],
      "execution_count": 128,
      "outputs": [
        {
          "output_type": "stream",
          "name": "stdout",
          "text": [
            "         [,1]      [,2]\n",
            "[1,] 80.89586 -25.11093\n"
          ]
        }
      ]
    },
    {
      "cell_type": "markdown",
      "metadata": {
        "id": "CYo4nXHwUntH"
      },
      "source": [
        "###Inciso 6: Opciones"
      ]
    },
    {
      "cell_type": "code",
      "metadata": {
        "id": "3ukSbPgwfloW",
        "colab": {
          "base_uri": "https://localhost:8080/"
        },
        "outputId": "1213c97a-1d8c-4a49-d4b0-27db4e1db62a"
      },
      "source": [
        "%%R\n",
        "m=ncol(plazos_oir)\n",
        "x1=matrix(0,n,m)\n",
        "x2tc=matrix(0,n,m)\n",
        "x2tl=matrix(0,n,m)\n",
        "x2=matrix(0,n,m)\n",
        "x3=matrix(0,n,m)\n",
        "for (i in 1:(n))\n",
        "{\n",
        "  x1[i,]=if(itpl==0){approx(nodos1_oir,x1_orig_oir[i,],plazos_oir,rule=2)$y}else{talamb(nodos1_oir,x1_orig_oir[i,],plazos_oir)}\n",
        "  x2tc[i,]=if(itpl==0){approx(nodos2_oir,x2_orig_oir[i,],plazos_oir,rule=2)$y}else{talamb(nodos2_oir,x2_orig_oir[i,],plazos_oir)}\n",
        "  x2tl[i,]=if(itpl==0){approx(nodos2_oir,x2_orig_oir[i,],(plazos_oir+pr_oir),rule=2)$y}else{talamb(nodos2_oir,x2_orig_oir[i,],(plazos_oir+pr_oir))}\n",
        "  x3[i,]=if(itpl==0){approx(nodos3_oir,x3_orig_oir[i,],plazos_oir,rule=2)$y}else{talamb(nodos3_oir,x3_orig_oir[i,],plazos_oir)}\n",
        "  x2[i,]=((1+x2tl[i,]*(plazos_oir+pr_oir)/360)/(1+x2tc[i,]*(plazos_oir)/360)-1)*360/pr_oir\n",
        "}\n",
        "\n",
        "x01=x1[1,] #tasas de descuento\n",
        "x02=x2[1,] #tasas spot\n",
        "x03=x3[1,] #volatilidades\n",
        "\n",
        "X_oir=cbind(x1,x2,x3)\n",
        "\n",
        "opctint = function(d,S,K_oir,vol,t,cp_oir,cs_oir,pr_oir,dct_oir)\t#función de una opción europea\n",
        "{\n",
        "  d1=if(cs_oir==1){(log(S/K_oir)+vol^2*t/(365*2))*(1/(vol*sqrt(t/365)))}else{(log(S/K_oir)+vol^2*t/(360*2))*(1/(vol*sqrt(t/360)))}\n",
        "  d2=if(cs_oir==1){(log(S/K_oir)-vol^2*t/(365*2))*(1/(vol*sqrt(t/365)))}else{(log(S/K_oir)-vol^2*t/(360*2))*(1/(vol*sqrt(t/360)))}\n",
        "  vp=if(cs_oir==1){log(1+d*t/360)*365/t}else{d}  \n",
        "  (if(cs_oir==1){(S*pnorm(d1*(-1)^cp_oir)-K_oir*pnorm(d2*(-1)^cp_oir))*(exp(-vp*t/365))*(-1)^cp_oir}else{(S*pnorm(d1*(-1)^cp_oir)-K_oir*pnorm(d2*(-1)^cp_oir))*(1/(1+vp*t/360))*(-1)^cp_oir})*(pr_oir/dct_oir)/(1+S*pr_oir/dct_oir)\n",
        "}\n",
        "\n",
        "#Valor del portafolio\n",
        "V0_oir=opctint(x01,x02,K_oir,x03,plazos_oir,cp_oir,cs_oir,pr_oir,dct_oir)*contratos_oir*nominal_oir\n",
        "V0_oir"
      ],
      "execution_count": 129,
      "outputs": [
        {
          "output_type": "stream",
          "name": "stdout",
          "text": [
            "         [,1]       [,2]\n",
            "[1,] 1.422881 0.05877815\n"
          ]
        }
      ]
    },
    {
      "cell_type": "markdown",
      "metadata": {
        "id": "C-nK3UdY8-48"
      },
      "source": [
        "## Integración de factores de riesgo"
      ]
    },
    {
      "cell_type": "code",
      "metadata": {
        "id": "WxMNbZc89DYi"
      },
      "source": [
        "%%R\n",
        "#DIMENSION DE TODOS LOS INSTRUMENTOS\n",
        "#Son 8 instrumentos financieros (9 si separamos acciones y divisas)\n",
        "n_if=matrix(0,8,1)\n",
        "n_if[1]=ncol(stock_prices_EQFX) #acciones y divisas\n",
        "n_if[2]=ncol(X_bd_ext) #bonde\n",
        "n_if[3]=ncol(X_sw) #swaps\n",
        "n_if[4]=ncol(X_oir) #opciones tasa de interés\n",
        "n_if[5]=ncol(X_futtdc) #Forwards de tipo de cambio\n",
        "n_if[6]=ncol(X_futind) #Forwards de índices\n",
        "n_if[7]=1 #Cetes\n",
        "n_if[8]=1 #Bonos M\n",
        "#valor del portafolios\n",
        "\n",
        "V0_port=cbind(V0_acc_div, V0_bd, V0_sw, V0_oir,V0_fwtdc,V0_fwind, V0_cetes, VT0_bonom)\n",
        "V0T_port=sum(V0_port)\n",
        "\n",
        "\n",
        "\n",
        "#INTEGRACIÓN DE TODOS LOS FACTORES DE RIESGO EN UNA MATRIZ\n",
        "X_port=cbind(stock_prices_EQFX,X_bd_ext,X_sw,X_oir,X_futtdc,X_futind, x[,1], X[,1]) #Factores de riesgo del portafolios de 8(9) instrumentos financieros\n",
        "\n",
        "#Cálculo de variaciones Delta_X DEL PORTAFOLIOS\n",
        "DeltaX_port=as.matrix(log(X_port[1:(n-1)]/X_port[2:(n)]))\n",
        "DeltaX_port[is.nan(DeltaX_port)] <- 0 #quitamos NaN\n",
        "DeltaX_port[is.na(DeltaX_port)] <- 0 #quitamos Na\n",
        "DeltaX_port[is.infinite(DeltaX_port)] <- 0 #quitamos Na\n",
        "\n",
        "\n",
        "Ns=nrow(DeltaX_port) #Definimos número de escenarios históricos\n",
        "\n",
        "DeltaX_s=DeltaX_port"
      ],
      "execution_count": 130,
      "outputs": []
    },
    {
      "cell_type": "markdown",
      "metadata": {
        "id": "MZjorS9XmL2j"
      },
      "source": [
        "## Medicion de riesgo, sin alisado"
      ]
    },
    {
      "cell_type": "markdown",
      "metadata": {
        "id": "ph64YUF1m-NR"
      },
      "source": [
        "### Inciso 1 y 2: Acciones y divisas"
      ]
    },
    {
      "cell_type": "code",
      "metadata": {
        "id": "FbUxdsonnBqB",
        "colab": {
          "base_uri": "https://localhost:8080/"
        },
        "outputId": "ee1c7823-6397-4cf1-96b1-72b666742d07"
      },
      "source": [
        "%%R\n",
        "m=m_fx+m_acc    #PASO CLAVE\n",
        "X_s_acc_div=matrix(0,Ns,n_if[1]) #Factores de riesgo simulados con base en DeltaX_s x0*(1+Delta_Xs)   #PASO CLAVE\n",
        "V_acc_div=matrix(0,Ns,m)\n",
        "Vfr1_acc_div=matrix(0,Ns,m_fx)\n",
        "Vfr2_acc_div=matrix(0,Ns,m_acc)\n",
        "PG_acc_div=matrix(0,Ns,m) #Pèrdidas y ganancias\n",
        "PGfr1_acc_div=matrix(0,Ns,m_fx)\n",
        "PGfr2_acc_div=matrix(0,Ns,m_acc)\n",
        "PGT_acc_div=matrix(0,Ns,1)\n",
        "PGfr1T_acc_div=matrix(0,Ns,1)\n",
        "PGfr2T_acc_div=matrix(0,Ns,1)\n",
        "\n",
        "DeltaX_s_acc_div=DeltaX_s[,(1:n_if[1])]    #PASO CLAVE\n",
        "x0_acc_div=stock_prices_EQFX[1,]   #PASO CLAVE\n",
        "\n",
        "for (i in 1:Ns)\n",
        "{\n",
        "  X_s_acc_div[i,]=as.matrix(x0_acc_div*exp(DeltaX_s_acc_div[i,]))\n",
        "  #PASO CLAVE\n",
        "  V_acc_div[i,]=cbind(t(pos_fx),t(pos_eq))*X_s_acc_div[i,]\n",
        "  #PASO CLAVE\n",
        "  Vfr1_acc_div[i,]=t(pos_fx)*X_s_acc_div[i,1:m_fx]\n",
        "  #PASO CLAVE\n",
        "  Vfr2_acc_div[i,]=t(pos_eq)*X_s_acc_div[i,(m_fx+1):(m_fx+m_acc)]\n",
        "  #PASO CLAVE\n",
        "  PG_acc_div[i,]=as.matrix(V_acc_div[i,]-V0_acc_div)\n",
        "  PGfr1_acc_div[i,]=as.matrix(Vfr1_acc_div[i,]-V0_acc_div[,1:m_fx])\n",
        "  PGfr2_acc_div[i,]=as.matrix(Vfr2_acc_div[i,]-V0_acc_div[,(m_fx+1):(m_fx+m_acc)])\n",
        "  PGT_acc_div[i,]=sum(PG_acc_div[i,])\n",
        "  PGfr1T_acc_div[i,]=sum(PGfr1_acc_div[i,])\n",
        "  PGfr2T_acc_div[i,]=sum(PGfr2_acc_div[i,])\n",
        "}\n",
        "\n",
        "\n",
        "\n",
        "PG_acc_div[1:5,]\n",
        "PGfr1_acc_div[1:5,]\n",
        "PGfr2_acc_div[1:5,]\n",
        "PGT_acc_div[1:5,]\n",
        "\n",
        "\n",
        "#VaR por posición\n",
        "VaRCont_acc_div=matrix(0,1,m)\n",
        "VaRfr1_acc_div=matrix(0,1,m_fx)\n",
        "VaRfr2_acc_div=matrix(0,1,m_acc)\n",
        "CVaRCont_acc_div=matrix(0,1,m)\n",
        "CVaRfr1_acc_div=matrix(0,1,m_fx)\n",
        "CVaRfr2_acc_div=matrix(0,1,m_acc)\n",
        "for (i in (1:m))\n",
        "{\n",
        "  VaRCont_acc_div[i]=equantile(PG_acc_div[,i],1-alpha,Ns)\n",
        "  CVaRCont_acc_div[i]= mean(merge(which(PG_acc_div[,i]<VaRCont_acc_div[i]),cbind(seq(1,Ns),PG_acc_div[,i]), by.x=1,by.y=1)[,2])\n",
        "  if (i<=m_fx)\n",
        "  {\n",
        "  VaRfr1_acc_div[i]=equantile(PGfr1_acc_div[,i],1-alpha,Ns)\n",
        "  CVaRfr1_acc_div[i]= mean(merge(which(PGfr1_acc_div[,i]<VaRfr1_acc_div[i]),cbind(seq(1,Ns),PGfr1_acc_div[,i]), by.x=1,by.y=1)[,2])\n",
        "  }\n",
        "  if (i<=m_acc)\n",
        "  {  \n",
        "  VaRfr2_acc_div[i]=equantile(PGfr2_acc_div[,i],1-alpha,Ns)\n",
        "  CVaRfr2_acc_div[i]= mean(merge(which(PGfr2_acc_div[,i]<VaRfr2_acc_div[i]),cbind(seq(1,Ns),PGfr2_acc_div[,i]), by.x=1,by.y=1)[,2])\n",
        "  }\n",
        "}\n",
        "\n",
        "VaRCont_acc_div\n",
        "VaRfr1_acc_div\n",
        "VaRfr2_acc_div\n",
        "CVaRCont_acc_div\n",
        "CVaRfr1_acc_div\n",
        "CVaRfr2_acc_div\n",
        "\n",
        "\n",
        "#VaR Total\n",
        "\n",
        "VaRTotal_acc_div=equantile(PGT_acc_div,1-alpha,Ns)\n",
        "CVaRTotal_acc_div= mean(merge(which(PGT_acc_div<VaRTotal_acc_div),cbind(seq(1,Ns),PGT_acc_div), by.x=1,by.y=1)[,2])\n",
        "VaRTotalfr1_acc_div=equantile(PGfr1T_acc_div,1-alpha,Ns)\n",
        "CVaRTotalfr1_acc_div= mean(PGfr1T_acc_div[which(PGfr1T_acc_div<VaRTotalfr1_acc_div),])\n",
        "VaRTotalfr2_acc_div=equantile(PGfr2T_acc_div,1-alpha,Ns)\n",
        "CVaRTotalfr2_acc_div= mean(PGfr2T_acc_div[which(PGfr2T_acc_div<VaRTotalfr2_acc_div),])\n",
        "\n",
        "\n",
        "# print(cbind(VaRTotal_acc_div,sum(V0_acc_div), VaRCont_acc_div, V0_acc_div))\n",
        "cbind(CVaRTotal_acc_div,sum(V0_acc_div), CVaRCont_acc_div, V0_acc_div)\n",
        "cbind(VaRTotal_acc_div,VaRTotalfr1_acc_div,VaRTotalfr2_acc_div)\n",
        "cbind(CVaRTotal_acc_div,CVaRTotalfr1_acc_div,CVaRTotalfr2_acc_div)\n",
        "\n",
        "print(\"Valor de acciones y divisas\")\n",
        "print(V0_acc_div )\n",
        "print(\"Valor en Riesgo de acciones y divisas\")\n",
        "print(VaRCont_acc_div)\n",
        "print(\"Valor en Riesgo de divisas\")\n",
        "print(VaRTotalfr1_acc_div)\n",
        "print(\"Valor en Riesgo de acciones\")\n",
        "print(VaRTotalfr2_acc_div)\n",
        "\n",
        "print(\"Valor en Riesgo Condicional de acciones y divisas\")\n",
        "print(CVaRCont_acc_div)\n",
        "print(\"Valor en Riesgo Condicional de divisas\")\n",
        "print(CVaRTotalfr1_acc_div)\n",
        "print(\"Valor en Riesgo Condicional de acciones\")\n",
        "print(CVaRTotalfr2_acc_div)\n"
      ],
      "execution_count": 131,
      "outputs": [
        {
          "output_type": "stream",
          "name": "stdout",
          "text": [
            "[1] \"Valor de acciones y divisas\"\n",
            "   EURUSD.X  GBPUSD.X USDMXN.X AMXL.MX GCARSOA1.MX WALMEX.MX\n",
            "1:    16689 -16857.19 30830.55  -91250       73820     86592\n",
            "[1] \"Valor en Riesgo de acciones y divisas\"\n",
            "          [,1]      [,2]      [,3]      [,4]      [,5]      [,6]\n",
            "[1,] -229.3711 -254.1641 -457.1777 -2707.715 -3356.007 -3782.774\n",
            "[1] \"Valor en Riesgo de divisas\"\n",
            "[1] -559.876\n",
            "[1] \"Valor en Riesgo de acciones\"\n",
            "[1] -5066.12\n",
            "[1] \"Valor en Riesgo Condicional de acciones y divisas\"\n",
            "          [,1]      [,2]      [,3]      [,4]     [,5]    [,6]\n",
            "[1,] -258.1004 -268.5236 -510.4965 -4132.774 -4133.76 -4322.2\n",
            "[1] \"Valor en Riesgo Condicional de divisas\"\n",
            "[1] -578.3648\n",
            "[1] \"Valor en Riesgo Condicional de acciones\"\n",
            "[1] -5853.425\n"
          ]
        }
      ]
    },
    {
      "cell_type": "markdown",
      "metadata": {
        "id": "jOV9aFS9nkpS"
      },
      "source": [
        "### Inciso 3: Cetes"
      ]
    },
    {
      "cell_type": "code",
      "metadata": {
        "id": "gMtKyz2Tnocx",
        "colab": {
          "base_uri": "https://localhost:8080/"
        },
        "outputId": "35a5d5ef-fcec-4f6f-f435-4a1f018ba729"
      },
      "source": [
        "%%R\n",
        "m = 1\n",
        "X_s_cete=matrix(0,Ns,n_if[7])\n",
        "PGfr1T_cete=matrix(0,Ns,1)\n",
        "V_cetes=matrix(0,Ns,m)\n",
        "Vfr1_cetes=matrix(0,Ns,m)\n",
        "PG_cetes=matrix(0,Ns,m)\n",
        "PGfr1_bd=matrix(0,Ns,m)\n",
        "PGT_bd=matrix(0,Ns,1)\n",
        "PGfr1T_bd=matrix(0,Ns,1)\n",
        "\n",
        "DeltaX_s_cete=DeltaX_s[,ncol(DeltaX_s)-1] \n",
        "\n",
        "for (i in 1:Ns)\n",
        "{\n",
        "  X_s_cete[i,]=x0_cetes[1]*exp(DeltaX_s_cete[i])\n",
        "  V_cetes[i,]= bonocupcero(X_s_cete[i,1], ven_cete[1])\n",
        "  PG_cetes[i,]=V_cetes[i,]-V0_cetes[1]\n",
        "}\n",
        "\n",
        "VaRCont_cetes=matrix(0,1,m)\n",
        "CVaRCont_cetes=matrix(0,1,m)\n",
        "\n",
        "for (i in (1:m))\n",
        "{\n",
        "  VaRCont_cetes[i]=equantile(PG_cetes[,i],1-alpha,Ns)\n",
        "  CVaRCont_cetes[i]= mean(merge(which(PG_cetes[,i]<VaRCont_cetes[i]),cbind(seq(1,Ns),PG_cetes[,i]), by.x=1,by.y=1)[,2])\n",
        "}\n",
        "\n",
        "print(cbind(sum(V0_cetes), VaRCont_cetes, V0_cetes))\n",
        "print(cbind(sum(V0_cetes), CVaRCont_cetes, V0_cetes))\n",
        "\n"
      ],
      "execution_count": 132,
      "outputs": [
        {
          "output_type": "stream",
          "name": "stdout",
          "text": [
            "         [,1]      [,2]     [,3] [,4]\n",
            "[1,] 9.760299 -8.784688 9.760299    0\n",
            "         [,1]      [,2]     [,3] [,4]\n",
            "[1,] 9.760299 -8.784862 9.760299    0\n"
          ]
        }
      ]
    },
    {
      "cell_type": "code",
      "metadata": {
        "colab": {
          "base_uri": "https://localhost:8080/"
        },
        "id": "poBMC0CYgobl",
        "outputId": "f2d49087-b38a-421e-9f5a-89bed7c31a0c"
      },
      "source": [
        "%%R\n",
        "head(PGfr1_bd)"
      ],
      "execution_count": 133,
      "outputs": [
        {
          "output_type": "stream",
          "name": "stdout",
          "text": [
            "     [,1]\n",
            "[1,]    0\n",
            "[2,]    0\n",
            "[3,]    0\n",
            "[4,]    0\n",
            "[5,]    0\n",
            "[6,]    0\n"
          ]
        }
      ]
    },
    {
      "cell_type": "markdown",
      "metadata": {
        "id": "MGQx0Oy3npy8"
      },
      "source": [
        "### Inciso 3: Bonos M"
      ]
    },
    {
      "cell_type": "code",
      "metadata": {
        "id": "lEOKnSJ5nsxR",
        "colab": {
          "base_uri": "https://localhost:8080/"
        },
        "outputId": "9330b12b-cf66-4397-9a4e-f563cf772101"
      },
      "source": [
        "%%R\n",
        "head(DeltaX_s)\n",
        "sum(n_if)"
      ],
      "execution_count": 134,
      "outputs": [
        {
          "output_type": "stream",
          "name": "stdout",
          "text": [
            "[1] 246\n"
          ]
        }
      ]
    },
    {
      "cell_type": "markdown",
      "metadata": {
        "id": "Lba6uV2TnuGK"
      },
      "source": [
        "### Inciso 3: Bondes D"
      ]
    },
    {
      "cell_type": "code",
      "metadata": {
        "id": "YBy4DT0qn0Ax",
        "colab": {
          "base_uri": "https://localhost:8080/"
        },
        "outputId": "7202b244-2be6-4773-bd70-e09c7d77c86d"
      },
      "source": [
        "%%R\n",
        "\n",
        "#Cálculo de matriz de pérdidas y ganancias BONDES\n",
        "#dimensión\n",
        "m=count(N_bd)    #PASO CLAVE\n",
        "X_s_bd=matrix(0,Ns,n_if[2]) #Factores de riesgo simulados con base en DeltaX_s x0*(1+Delta_Xs)   #PASO CLAVE\n",
        "V_bd=matrix(0,Ns,m)\n",
        "Vfr1_bd=matrix(0,Ns,m)\n",
        "Vfr2_bd=matrix(0,Ns,m)\n",
        "Vfr3_bd=matrix(0,Ns,m)\n",
        "PG_bd=matrix(0,Ns,m) #Pèrdidas y ganancias\n",
        "PGfr1_bd=matrix(0,Ns,m)\n",
        "PGfr2_bd=matrix(0,Ns,m)\n",
        "PGfr3_bd=matrix(0,Ns,m)\n",
        "PGT_bd=matrix(0,Ns,1)\n",
        "PGfr1T_bd=matrix(0,Ns,1)\n",
        "PGfr2T_bd=matrix(0,Ns,1)\n",
        "PGfr3T_bd=matrix(0,Ns,1)\n",
        "\n",
        "DeltaX_s_bd=DeltaX_s[,sum(n_if[1:1],1):sum(n_if[1:2])]    #PASO CLAVE\n",
        "x0_bd=X_bd_ext[1,]    #PASO CLAVE\n",
        "\n",
        "for (i in 1:Ns)\n",
        "{\n",
        "  X_s_bd[i,]=x0_bd*exp(DeltaX_s_bd[i,])\n",
        "  #PASO CLAVE\n",
        "  V_bd[i,]=bondeD(contratos_bdmT, nominal_bdm, X_s_bd[i,1], plazocupon_bdmT, VTplazos_bdm, X_s_bd[i,(n_if[2]/3+1):(n_if[2]*2/3)], X_s_bd[i,(n_if[2]*2/3+1):(n_if[2])], N_bd,ddv)\n",
        "  #PASO CLAVE\n",
        "  Vfr1_bd[i,]=bondeD(contratos_bdmT, nominal_bdm, X_s_bd[i,1], plazocupon_bdmT, VTplazos_bdm, x0_bd[(n_if[2]/3+1):(n_if[2]*2/3)], x0_bd[(n_if[2]*2/3+1):(n_if[2])], N_bd,ddv)\n",
        "  #PASO CLAVE\n",
        "  Vfr2_bd[i,]=bondeD(contratos_bdmT, nominal_bdm, x0_bd[1], plazocupon_bdmT, VTplazos_bdm, X_s_bd[i,(n_if[2]/3+1):(n_if[2]*2/3)], x0_bd[(n_if[2]*2/3+1):(n_if[2])], N_bd,ddv)\n",
        "  #PASO CLAVE\n",
        "  Vfr3_bd[i,]=bondeD(contratos_bdmT, nominal_bdm, x0_bd[1], plazocupon_bdmT, VTplazos_bdm, x0_bd[(n_if[2]/3+1):(n_if[2]*2/3)], X_s_bd[i,(n_if[2]*2/3+1):(n_if[2])], N_bd,ddv)\n",
        "  #PASO CLAVE\n",
        "  PG_bd[i,]=V_bd[i,]-V0_bd\n",
        "  PGfr1_bd[i,]=Vfr1_bd[i,]-V0_bd\n",
        "  PGfr2_bd[i,]=Vfr2_bd[i,]-V0_bd\n",
        "  PGfr3_bd[i,]=Vfr3_bd[i,]-V0_bd\n",
        "  PGT_bd[i,]=sum(PG_bd[i,])\n",
        "  PGfr1T_bd[i,]=sum(PGfr1_bd[i,])\n",
        "  PGfr2T_bd[i,]=sum(PGfr2_bd[i,])\n",
        "  PGfr3T_bd[i,]=sum(PGfr3_bd[i,])\n",
        "}\n",
        "\n",
        "\n",
        "#VaR por posición\n",
        "VaRCont_bd=matrix(0,1,m)\n",
        "VaRfr1_bd=matrix(0,1,m)\n",
        "VaRfr2_bd=matrix(0,1,m)\n",
        "VaRfr3_bd=matrix(0,1,m)\n",
        "CVaRCont_bd=matrix(0,1,m)\n",
        "CVaRfr1_bd=matrix(0,1,m)\n",
        "CVaRfr2_bd=matrix(0,1,m)\n",
        "CVaRfr3_bd=matrix(0,1,m)\n",
        "for (i in (1:m))\n",
        "{\n",
        "  VaRCont_bd[i]=equantile(PG_bd[,i],1-alpha,Ns)\n",
        "  VaRfr1_bd[i]=equantile(PGfr1_bd[,i],1-alpha,Ns)\n",
        "  VaRfr2_bd[i]=equantile(PGfr2_bd[,i],1-alpha,Ns)\n",
        "  VaRfr3_bd[i]=equantile(PGfr3_bd[,i],1-alpha,Ns)\n",
        "  CVaRfr1_bd[i]= mean(merge(which(PGfr1_bd[,i]<VaRfr1_bd[i]),cbind(seq(1,Ns),PGfr1_bd[,i]), by.x=1,by.y=1)[,2])\n",
        "  CVaRfr2_bd[i]= mean(merge(which(PGfr2_bd[,i]<VaRfr2_bd[i]),cbind(seq(1,Ns),PGfr2_bd[,i]), by.x=1,by.y=1)[,2])\n",
        "  CVaRfr3_bd[i]= mean(merge(which(PGfr3_bd[,i]<VaRfr3_bd[i]),cbind(seq(1,Ns),PGfr3_bd[,i]), by.x=1,by.y=1)[,2])\n",
        "  CVaRCont_bd[i]= mean(merge(which(PG_bd[,i]<VaRCont_bd[i]),cbind(seq(1,Ns),PG_bd[,i]), by.x=1,by.y=1)[,2])\n",
        "}\n",
        "\n",
        "#VaR Total\n",
        "\n",
        "VaRTotal_bd=equantile(PGT_bd,1-alpha,Ns)\n",
        "CVaRTotal_bd= mean(merge(which(PGT_bd<VaRTotal_bd),cbind(seq(1,Ns),PGT_bd), by.x=1,by.y=1)[,2])\n",
        "VaRTotalfr1_bd=equantile(PGfr1T_bd,1-alpha,Ns)\n",
        "CVaRTotalfr1_bd= mean(PGfr1T_bd[which(PGfr1T_bd<VaRTotalfr1_bd),])\n",
        "VaRTotalfr2_bd=equantile(PGfr2T_bd,1-alpha,Ns)\n",
        "CVaRTotalfr2_bd= mean(PGfr2T_bd[which(PGfr2T_bd<VaRTotalfr2_bd),])\n",
        "VaRTotalfr3_bd=equantile(PGfr3T_bd,1-alpha,Ns)\n",
        "CVaRTotalfr3_bd= mean(PGfr3T_bd[which(PGfr2T_bd<VaRTotalfr3_bd),])\n",
        "\n",
        "\n",
        "print(cbind(VaRTotal_bd,sum(V0_bd), VaRCont_bd, V0_bd))\n",
        "print(cbind(CVaRTotal_bd,sum(V0_bd), CVaRCont_bd, V0_bd))\n",
        "print(cbind(VaRTotal_bd,VaRTotalfr1_bd,VaRTotalfr2_bd,VaRTotalfr3_bd))\n",
        "print(cbind(CVaRTotal_bd,CVaRTotalfr1_bd,CVaRTotalfr2_bd,CVaRTotalfr3_bd))\n"
      ],
      "execution_count": 135,
      "outputs": [
        {
          "output_type": "stream",
          "name": "stdout",
          "text": [
            "     VaRTotal_bd                                \n",
            "[1,]   -274.8381 97309.88 -274.8381 0 97309.88 0\n",
            "     CVaRTotal_bd                                  \n",
            "[1,]    -320.6949 97309.88 -320.6949 NaN 97309.88 0\n",
            "     VaRTotal_bd VaRTotalfr1_bd VaRTotalfr2_bd VaRTotalfr3_bd\n",
            "[1,]   -274.8381      -219.8325      -149.2723      -42.38274\n",
            "     CVaRTotal_bd CVaRTotalfr1_bd CVaRTotalfr2_bd CVaRTotalfr3_bd\n",
            "[1,]    -320.6949       -312.8872       -173.8338       -20.93311\n"
          ]
        }
      ]
    },
    {
      "cell_type": "markdown",
      "metadata": {
        "id": "PF6R6z1Tn06k"
      },
      "source": [
        "### Inciso 4: Forwards de tipo de cambio"
      ]
    },
    {
      "cell_type": "code",
      "metadata": {
        "id": "eIB6qdbsn6Fa",
        "colab": {
          "base_uri": "https://localhost:8080/"
        },
        "outputId": "0fd30d89-6464-442f-bcdd-669fed859aac"
      },
      "source": [
        "%%R\n",
        "#Cálculo de matriz de pérdidas y ganancias FUTUROS TDC\n",
        "#dimensión\n",
        "m=ncol(plazos_fwd)  #PASO CLAVE\n",
        "X_s_fwtdc=matrix(0,Ns,n_if[5]) #Factores de riesgo simulados con base en DeltaX_s x0*(1+Delta_Xs) #PASO CLAVE\n",
        "V_fwtdc=matrix(0,Ns,m)\n",
        "Vfr1_fwtdc=matrix(0,Ns,m)\n",
        "Vfr2_fwtdc=matrix(0,Ns,m)\n",
        "Vfr3_fwtdc=matrix(0,Ns,m)\n",
        "PG_fwtdc=matrix(0,Ns,m) #Pèrdidas y ganancias\n",
        "PGfr1_fwtdc=matrix(0,Ns,m)\n",
        "PGfr2_fwtdc=matrix(0,Ns,m)\n",
        "PGfr3_fwtdc=matrix(0,Ns,m)\n",
        "PGT_fwtdc=matrix(0,Ns,1)\n",
        "PGfr1T_fwtdc=matrix(0,Ns,1)\n",
        "PGfr2T_fwtdc=matrix(0,Ns,1)\n",
        "PGfr3T_fwtdc=matrix(0,Ns,1)\n",
        "\n",
        "DeltaX_s_fwtdc=DeltaX_s[,sum(n_if[1:4],1):sum(n_if[1:5])]  #PASO CLAVE\n",
        "x0_fwtdc=X_futtdc[1,] #PASO CLAVE\n",
        "\n",
        "for (i in 1:Ns)\n",
        "{\n",
        "  X_s_fwtdc[i,]=x0_fwtdc*exp(DeltaX_s_fwtdc[i,])\n",
        "  #PASO CLAVE\n",
        "  V_fwtdc[i,]=futuroTC(plazos_fwd,X_s_fwtdc[i,1:((n_if[5]-1)/2)],X_s_fwtdc[i,((n_if[5]-1)/2+1):(n_if[5]-1)],X_s_fwtdc[i,(n_if[5])],kst_fwd)*contratos_fwd*nominal_fwd     \n",
        "  #PASO CLAVE\n",
        "  Vfr1_fwtdc[i,]=futuroTC(plazos_fwd,X_s_fwtdc[i,1:((n_if[5]-1)/2)],x0_fwtdc[((n_if[5]-1)/2+1):(n_if[5]-1)],x0_fwtdc[(n_if[5])],kst_fwd)*contratos_fwd*nominal_fwd\n",
        "  #PASO CLAVE\n",
        "  Vfr2_fwtdc[i,]=futuroTC(plazos_fwd,x0_fwtdc[1:((n_if[5]-1)/2)],X_s_fwtdc[i,((n_if[5]-1)/2+1):(n_if[5]-1)],x0_fwtdc[(n_if[5])],kst_fwd)*contratos_fwd*nominal_fwd \n",
        "  PG_fwtdc[i,]=V_fwtdc[i,]-V0_fwtdc\n",
        "  PGfr1_fwtdc[i,]=Vfr1_fwtdc[i,]-V0_fwtdc\n",
        "  PGfr2_fwtdc[i,]=Vfr2_fwtdc[i,]-V0_fwtdc\n",
        "  PGfr3_fwtdc[i,]=Vfr3_fwtdc[i,]-V0_fwtdc\n",
        "  PGT_fwtdc[i,]=sum(PG_fwtdc[i,])\n",
        "  PGfr1T_fwtdc[i,]=sum(PGfr1_fwtdc[i,])\n",
        "  PGfr2T_fwtdc[i,]=sum(PGfr2_fwtdc[i,])\n",
        "  PGfr3T_fwtdc[i,]=sum(PGfr3_fwtdc[i,])\n",
        "}\n",
        "\n",
        "\n",
        "\n",
        "PG_fwtdc[1:5,]\n",
        "PGfr1_fwtdc[1:5,]\n",
        "PGfr2_fwtdc[1:5,]\n",
        "PGT_fwtdc[1:5,]\n",
        "\n",
        "\n",
        "#VaR por posición\n",
        "VaRCont_fwtdc=matrix(0,1,m)\n",
        "VaRfr1_fwtdc=matrix(0,1,m)\n",
        "VaRfr2_fwtdc=matrix(0,1,m)\n",
        "VaRfr3_fwtdc=matrix(0,1,m)\n",
        "CVaRCont_fwtdc=matrix(0,1,m)\n",
        "CVaRfr1_fwtdc=matrix(0,1,m)\n",
        "CVaRfr2_fwtdc=matrix(0,1,m)\n",
        "CVaRfr3_fwtdc=matrix(0,1,m)\n",
        "for (i in (1:m))\n",
        "{\n",
        "  VaRCont_fwtdc[i]=quantile(PG_fwtdc[,i],1-alpha,Ns)\n",
        "  VaRfr1_fwtdc[i]=quantile(PGfr1_fwtdc[,i],1-alpha,Ns)\n",
        "  VaRfr2_fwtdc[i]=quantile(PGfr2_fwtdc[,i],1-alpha,Ns)\n",
        "  VaRfr3_fwtdc[i]=quantile(PGfr3_fwtdc[,i],1-alpha,Ns)\n",
        "  CVaRfr1_fwtdc[i]= mean(merge(which(PGfr1_fwtdc[,i]<VaRfr1_fwtdc[i]),cbind(seq(1,Ns),PGfr1_fwtdc[,i]), by.x=1,by.y=1)[,2])\n",
        "  CVaRfr2_fwtdc[i]= mean(merge(which(PGfr2_fwtdc[,i]<VaRfr2_fwtdc[i]),cbind(seq(1,Ns),PGfr2_fwtdc[,i]), by.x=1,by.y=1)[,2])\n",
        "  CVaRfr3_fwtdc[i]= mean(merge(which(PGfr3_fwtdc[,i]<VaRfr3_fwtdc[i]),cbind(seq(1,Ns),PGfr3_fwtdc[,i]), by.x=1,by.y=1)[,2])\n",
        "  CVaRCont_fwtdc[i]= mean(merge(which(PG_fwtdc[,i]<VaRCont_fwtdc[i]),cbind(seq(1,Ns),PG_fwtdc[,i]), by.x=1,by.y=1)[,2])\n",
        "}\n",
        "\n",
        "VaRCont_fwtdc\n",
        "VaRfr1_fwtdc\n",
        "VaRfr2_fwtdc\n",
        "CVaRCont_fwtdc\n",
        "CVaRfr1_fwtdc\n",
        "CVaRfr2_fwtdc\n",
        "\n",
        "\n",
        "#VaR Total\n",
        "VaRTotal_fwtdc=quantile(PGT_fwtdc,1-alpha,Ns)\n",
        "CVaRTotal_fwtdc= mean(merge(which(PGT_fwtdc<VaRTotal_fwtdc),cbind(seq(1,Ns),PGT_fwtdc), by.x=1,by.y=1)[,2])\n",
        "VaRTotalfr1_fwtdc=quantile(PGfr1T_fwtdc,1-alpha,Ns)\n",
        "CVaRTotalfr1_fwtdc= mean(PGfr1T_fwtdc[which(PGfr1T_fwtdc<VaRTotalfr1_fwtdc),])\n",
        "VaRTotalfr2_fwtdc=quantile(PGfr2T_fwtdc,1-alpha,Ns)\n",
        "CVaRTotalfr2_fwtdc= mean(PGfr2T_fwtdc[which(PGfr2T_fwtdc<VaRTotalfr2_fwtdc),])\n",
        "VaRTotalfr3_fwtdc=quantile(PGfr3T_fwtdc,1-alpha,Ns)\n",
        "CVaRTotalfr3_fwtdc= mean(PGfr3T_fwtdc[which(PGfr2T_fwtdc<VaRTotalfr2_fwtdc),])\n",
        "\n",
        "\n",
        "cbind(VaRTotal_fwtdc,sum(V0_fwtdc), VaRCont_fwtdc, V0_fwtdc)\n",
        "print(V0_fwtdc)\n",
        "print(VaRCont_fwtdc)\n",
        "cbind(CVaRTotal_fwtdc,sum(V0_fwtdc), CVaRCont_fwtdc, V0_fwtdc)\n",
        "print(CVaRCont_fwtdc)\n",
        "print(CVaRfr1_fwtdc)\n",
        "print(CVaRfr2_fwtdc)\n",
        "print(CVaRfr3_fwtdc)\n",
        "print(cbind(VaRTotal_fwtdc,VaRTotalfr1_fwtdc,VaRTotalfr2_fwtdc,VaRTotalfr3_fwtdc))\n",
        "print(cbind(CVaRTotal_fwtdc,CVaRTotalfr1_fwtdc,CVaRTotalfr2_fwtdc,CVaRTotalfr3_fwtdc))\n",
        "\n"
      ],
      "execution_count": 136,
      "outputs": [
        {
          "output_type": "stream",
          "name": "stdout",
          "text": [
            "          [,1]\n",
            "[1,] -26.92905\n",
            "          [,1]\n",
            "[1,] -28.21405\n",
            "          [,1]\n",
            "[1,] -31.63192\n",
            "             [,1]\n",
            "[1,] -0.009037957\n",
            "            [,1]\n",
            "[1,] -0.01589024\n",
            "     [,1]\n",
            "[1,]  NaN\n",
            "   VaRTotal_fwtdc VaRTotalfr1_fwtdc VaRTotalfr2_fwtdc VaRTotalfr3_fwtdc\n",
            "2%      -28.21405      -0.006245812       -0.01245653          26.92905\n",
            "     CVaRTotal_fwtdc CVaRTotalfr1_fwtdc CVaRTotalfr2_fwtdc CVaRTotalfr3_fwtdc\n",
            "[1,]       -31.63192       -0.009037957        -0.01589024           26.92905\n"
          ]
        }
      ]
    },
    {
      "cell_type": "markdown",
      "metadata": {
        "id": "d4neKbsqn7XJ"
      },
      "source": [
        "### Inciso 4: Forwards de indice"
      ]
    },
    {
      "cell_type": "code",
      "metadata": {
        "id": "g1F-6O_Wn_Vx",
        "colab": {
          "base_uri": "https://localhost:8080/"
        },
        "outputId": "7e3b22ab-9fea-4e9f-fbcb-12db378ccf1a"
      },
      "source": [
        "%%R\n",
        "#Cálculo de matriz de pérdidas y ganancias FUTUROS IPC\n",
        "m=ncol(plazos_fwd_ind)  #PASO CLAVE\n",
        "X_s_fwind=matrix(0,Ns,n_if[6]) #Factores de riesgo simulados con base en DeltaX_s x0*(1+Delta_Xs) #PASO CLAVE\n",
        "V_fwind=matrix(0,Ns,m)\n",
        "Vfr1_fwind=matrix(0,Ns,m)\n",
        "Vfr2_fwind=matrix(0,Ns,m)\n",
        "Vfr3_fwind=matrix(0,Ns,m)\n",
        "PG_fwind=matrix(0,Ns,m) #Pèrdidas y ganancias\n",
        "PGfr1_fwind=matrix(0,Ns,m)\n",
        "PGfr2_fwind=matrix(0,Ns,m)\n",
        "PGfr3_fwind=matrix(0,Ns,m)\n",
        "PGT_fwind=matrix(0,Ns,1)\n",
        "PGfr1T_fwind=matrix(0,Ns,1)\n",
        "PGfr2T_fwind=matrix(0,Ns,1)\n",
        "PGfr3T_fwind=matrix(0,Ns,1)\n",
        "\n",
        "DeltaX_s_fwind=DeltaX_s[,sum(n_if[1:5],1):sum(n_if[1:6])]  #PASO CLAVE\n",
        "x0_fwind=X_futind[1,] #PASO CLAVE\n",
        "\n",
        "\n",
        "for (i in 1:Ns)\n",
        "{\n",
        "  X_s_fwind[i,]=x0_fwind* exp(DeltaX_s_fwind[i,])\n",
        "  #PASO CLAVE\n",
        "  V_fwind[i,]=futuroTC(plazos_fwd_ind,X_s_fwind[i,1:(n_if[6]/3)],X_s_fwind[i,(n_if[6]/3+1):(n_if[6]*2/3)],X_s_fwind[i,(n_if[6]*2/3+1):n_if[6]],kst_fwd_ind)*contratos_fwd_ind*nominal_fwd_ind     \n",
        "  Vfr1_fwind[i,]=futuroTC(plazos_fwd_ind,X_s_fwind[i,1:(n_if[6]/3)],X_s_fwind[i,(n_if[6]/3+1):(n_if[6]*2/3)],X_s_fwind[i,(n_if[6]*2/3+1):n_if[6]],kst_fwd_ind)*contratos_fwd_ind*nominal_fwd_ind \n",
        "  #PASO CLAVE\n",
        "  Vfr2_fwind[i,]=futuroTC(plazos_fwd_ind,X_s_fwind[i,1:(n_if[6]/3)],X_s_fwind[i,(n_if[6]/3+1):(n_if[6]*2/3)],X_s_fwind[i,(n_if[6]*2/3+1):n_if[6]],kst_fwd_ind)*contratos_fwd_ind*nominal_fwd_ind \n",
        "  #PASO CLAVE\n",
        "  Vfr3_fwind[i,]=futuroTC(plazos_fwd_ind,X_s_fwind[i,1:(n_if[6]/3)],X_s_fwind[i,(n_if[6]/3+1):(n_if[6]*2/3)],X_s_fwind[i,(n_if[6]*2/3+1):n_if[6]],kst_fwd_ind)*contratos_fwd_ind*nominal_fwd_ind \n",
        "  PG_fwind[i,]=V_fwind[i,]-V0_fwind\n",
        "  PGfr1_fwind[i,]=Vfr1_fwind[i,]-V0_fwind\n",
        "  PGfr2_fwind[i,]=Vfr2_fwind[i,]-V0_fwind\n",
        "  PGfr3_fwind[i,]=Vfr3_fwind[i,]-V0_fwind\n",
        "  PGT_fwind[i,]=sum(PG_fwind[i,])\n",
        "  PGfr1T_fwind[i,]=sum(PGfr1_fwind[i,])\n",
        "  PGfr2T_fwind[i,]=sum(PGfr2_fwind[i,])\n",
        "  PGfr3T_fwind[i,]=sum(PGfr3_fwind[i,])\n",
        "}\n",
        "\n",
        "\n",
        "PG_fwind[1:5,]\n",
        "#PGfr1_fwind[1:5,]\n",
        "#PGfr2_fwind[1:5,]\n",
        "#PGT_fwind[1:5,]\n",
        "\n",
        "\n",
        "\n",
        "#VaR por posición\n",
        "VaRCont_fwind=matrix(0,1,m)\n",
        "VaRfr1_fwind=matrix(0,1,m)\n",
        "VaRfr2_fwind=matrix(0,1,m)\n",
        "VaRfr3_fwind=matrix(0,1,m)\n",
        "CVaRCont_fwind=matrix(0,1,m)\n",
        "CVaRfr1_fwind=matrix(0,1,m)\n",
        "CVaRfr2_fwind=matrix(0,1,m)\n",
        "CVaRfr3_fwind=matrix(0,1,m)\n",
        "for (i in (1:m))\n",
        "{\n",
        "  VaRCont_fwind[i]=quantile(PG_fwind[,i],1-alpha,Ns)\n",
        "  VaRfr1_fwind[i]=quantile(PGfr1_fwind[,i],1-alpha,Ns)\n",
        "  VaRfr2_fwind[i]=quantile(PGfr2_fwind[,i],1-alpha,Ns)\n",
        "  VaRfr3_fwind[i]=quantile(PGfr3_fwind[,i],1-alpha,Ns)\n",
        "  CVaRfr1_fwind[i]= mean(merge(which(PGfr1_fwind[,i]<VaRfr1_fwind[i]),cbind(seq(1,Ns),PGfr1_fwind[,i]), by.x=1,by.y=1)[,2])\n",
        "  CVaRfr2_fwind[i]= mean(merge(which(PGfr2_fwind[,i]<VaRfr2_fwind[i]),cbind(seq(1,Ns),PGfr2_fwind[,i]), by.x=1,by.y=1)[,2])\n",
        "  CVaRfr3_fwind[i]= mean(merge(which(PGfr3_fwind[,i]<VaRfr3_fwind[i]),cbind(seq(1,Ns),PGfr3_fwind[,i]), by.x=1,by.y=1)[,2])\n",
        "  CVaRCont_fwind[i]= mean(merge(which(PG_fwind[,i]<VaRCont_fwind[i]),cbind(seq(1,Ns),PG_fwind[,i]), by.x=1,by.y=1)[,2])\n",
        "}\n",
        "VaRCont_fwind\n",
        "VaRfr1_fwind\n",
        "VaRfr2_fwind\n",
        "CVaRCont_fwind\n",
        "CVaRfr1_fwind\n",
        "CVaRfr2_fwind\n",
        "\n",
        "\n",
        "#VaR Total\n",
        "\n",
        "VaRTotal_fwind=quantile(PGT_fwind,1-alpha,Ns)\n",
        "CVaRTotal_fwind= mean(merge(which(PGT_fwind<VaRTotal_fwind),cbind(seq(1,Ns),PGT_fwind), by.x=1,by.y=1)[,2])\n",
        "VaRTotalfr1_fwind=quantile(PGfr1T_fwind,1-alpha,Ns)\n",
        "CVaRTotalfr1_fwind= mean(PGfr1T_fwind[which(PGfr1T_fwind<VaRTotalfr1_fwind),])\n",
        "VaRTotalfr2_fwind=quantile(PGfr2T_fwind,1-alpha,Ns)\n",
        "CVaRTotalfr2_fwind= mean(PGfr2T_fwind[which(PGfr2T_fwind<VaRTotalfr2_fwind),])\n",
        "VaRTotalfr3_fwind=quantile(PGfr3T_fwind,1-alpha,Ns)\n",
        "CVaRTotalfr3_fwind= mean(PGfr3T_fwind[which(PGfr3T_fwind<VaRTotalfr3_fwind),])\n",
        "\n",
        "\n",
        "print(cbind(VaRTotal_fwind,sum(V0_fwind), VaRCont_fwind, V0_fwind))\n",
        "print(cbind(CVaRTotal_fwind,sum(V0_fwind), CVaRCont_fwind, V0_fwind))\n",
        "print(cbind(VaRTotal_fwind,VaRTotalfr1_fwind,VaRTotalfr2_fwind,VaRTotalfr3_fwind))\n",
        "cbind(CVaRTotal_fwind,CVaRTotalfr1_fwind,CVaRTotalfr2_fwind,CVaRTotalfr3_fwind)"
      ],
      "execution_count": 137,
      "outputs": [
        {
          "output_type": "stream",
          "name": "stdout",
          "text": [
            "   VaRTotal_fwind                            \n",
            "2%      -47607.83 148027.6 -47607.83 148027.6\n",
            "     CVaRTotal_fwind                            \n",
            "[1,]       -55749.01 148027.6 -55749.01 148027.6\n",
            "   VaRTotal_fwind VaRTotalfr1_fwind VaRTotalfr2_fwind VaRTotalfr3_fwind\n",
            "2%      -47607.83         -47607.83         -47607.83         -47607.83\n",
            "     CVaRTotal_fwind CVaRTotalfr1_fwind CVaRTotalfr2_fwind CVaRTotalfr3_fwind\n",
            "[1,]       -55749.01          -55749.01          -55749.01          -55749.01\n"
          ]
        }
      ]
    },
    {
      "cell_type": "markdown",
      "metadata": {
        "id": "2lTNgzE6oAi5"
      },
      "source": [
        "### Inciso 5: Swaps"
      ]
    },
    {
      "cell_type": "code",
      "metadata": {
        "id": "vflCvCScoDHp",
        "colab": {
          "base_uri": "https://localhost:8080/"
        },
        "outputId": "b44ed770-9aee-4e00-9d0d-31ad5695585c"
      },
      "source": [
        "%%R\n",
        "#riesgo del swap\n",
        "m=ncol(N)    #PASO CLAVE\n",
        "X_s_sw=matrix(0,Ns,n_if[3]) #Factores de riesgo simulados con base en DeltaX_s x0*(1+Delta_Xs)   #PASO CLAVE\n",
        "V_sw=matrix(0,Ns,m)\n",
        "Vfr1_sw=matrix(0,Ns,m)\n",
        "Vfr2_sw=matrix(0,Ns,m)\n",
        "PG_sw=matrix(0,Ns,m) #Pèrdidas y ganancias\n",
        "PGfr1_sw=matrix(0,Ns,m)\n",
        "PGfr2_sw=matrix(0,Ns,m)\n",
        "PGT_sw=matrix(0,Ns,1)\n",
        "PGfr1T_sw=matrix(0,Ns,1)\n",
        "PGfr2T_sw=matrix(0,Ns,1)\n",
        "\n",
        "DeltaX_s_sw=DeltaX_s[,sum(n_if[1:2],1):sum(n_if[1:3])]    #PASO CLAVE\n",
        "x0_sw=as.numeric(c(XtfwdT[1,],Xvp[1,]))   #PASO CLAVE\n",
        "\n",
        "for (i in 1:Ns)\n",
        "{\n",
        "  X_s_sw[i,]=x0_sw*exp(DeltaX_s_sw[i,])\n",
        "  #PASO CLAVE\n",
        "  V_sw[i,]=swap(por_swT, contratos_swT, nominal_swT, X_s_sw[i,1:(n_if[3]/2)], tasafija_swT, plazocupon_swT, VTplazos_sw, X_s_sw[i,(n_if[3]/2+1):(n_if[3])],N)\n",
        "  #PASO CLAVE\n",
        "  Vfr1_sw[i,]=swap(por_swT, contratos_swT, nominal_swT,X_s_sw[i,1:(n_if[3]/2)], tasafija_swT, plazocupon_swT, VTplazos_sw, Xvp[1,],N)\n",
        "  #PASO CLAVE\n",
        "  Vfr2_sw[i,]=swap(por_swT, contratos_swT, nominal_swT,  XtfwdT[1,], tasafija_swT, plazocupon_swT, VTplazos_sw, X_s_sw[i,(n_if[3]/2+1):(n_if[3])],N)\n",
        "  #PASO CLAVE\n",
        "  PG_sw[i,]=V_sw[i,]-V0_sw\n",
        "  PGfr1_sw[i,]=Vfr1_sw[i,]-V0_sw\n",
        "  PGfr2_sw[i,]=Vfr2_sw[i,]-V0_sw\n",
        "  PGT_sw[i,]=sum(PG_sw[i,])\n",
        "  PGfr1T_sw[i,]=sum(PGfr1_sw[i,])\n",
        "  PGfr2T_sw[i,]=sum(PGfr2_sw[i,])\n",
        "}\n",
        "\n",
        "\n",
        "\n",
        "#VaR por posición\n",
        "VaRCont_sw=matrix(0,1,m)\n",
        "VaRfr1_sw=matrix(0,1,m)\n",
        "VaRfr2_sw=matrix(0,1,m)\n",
        "CVaRCont_sw=matrix(0,1,m)\n",
        "CVaRfr1_sw=matrix(0,1,m)\n",
        "CVaRfr2_sw=matrix(0,1,m)\n",
        "for (i in (1:m))\n",
        "{\n",
        "  VaRCont_sw[i]=equantile(PG_sw[,i],1-alpha,Ns)\n",
        "  VaRfr1_sw[i]=equantile(PGfr1_sw[,i],1-alpha,Ns)\n",
        "  VaRfr2_sw[i]=equantile(PGfr2_sw[,i],1-alpha,Ns)\n",
        "  CVaRfr1_sw[i]= mean(merge(which(PGfr1_sw[,i]<VaRfr1_sw[i]),cbind(seq(1,Ns),PGfr1_sw[,i]), by.x=1,by.y=1)[,2])\n",
        "  CVaRfr2_sw[i]= mean(merge(which(PGfr2_sw[,i]<VaRfr2_sw[i]),cbind(seq(1,Ns),PGfr2_sw[,i]), by.x=1,by.y=1)[,2])\n",
        "  CVaRCont_sw[i]= mean(merge(which(PG_sw[,i]<VaRCont_sw[i]),cbind(seq(1,Ns),PG_sw[,i]), by.x=1,by.y=1)[,2])\n",
        "}\n",
        "\n",
        "#VaR Total\n",
        "\n",
        "VaRTotal_sw=equantile(PGT_sw,1-alpha,Ns)\n",
        "CVaRTotal_sw= mean(merge(which(PGT_sw<VaRTotal_sw),cbind(seq(1,Ns),PGT_sw), by.x=1,by.y=1)[,2])\n",
        "VaRTotalfr1_sw=equantile(PGfr1T_sw,1-alpha,Ns)\n",
        "CVaRTotalfr1_sw= mean(PGfr1T_sw[which(PGfr1T_sw<VaRTotalfr1_sw),])\n",
        "VaRTotalfr2_sw=equantile(PGfr2T_sw,1-alpha,Ns)\n",
        "CVaRTotalfr2_sw= mean(PGfr2T_sw[which(PGfr2T_sw<VaRTotalfr2_sw),])\n",
        "\n",
        "\n",
        "print(cbind(VaRTotal_sw,sum(V0_sw), VaRCont_sw, V0_sw))\n",
        "print(cbind(CVaRTotal_sw,sum(V0_sw), CVaRCont_sw, V0_sw))\n",
        "print(cbind(VaRTotal_sw,VaRTotalfr1_sw,VaRTotalfr2_sw))\n",
        "print(cbind(CVaRTotal_sw,CVaRTotalfr1_sw,CVaRTotalfr2_sw))\n"
      ],
      "execution_count": 138,
      "outputs": [
        {
          "output_type": "stream",
          "name": "stdout",
          "text": [
            "     VaRTotal_sw                                                 \n",
            "[1,]   -1.176537 55.78493 -1.222342 -0.7319464 80.89586 -25.11093\n",
            "     CVaRTotal_sw                                                \n",
            "[1,]     -1.90931 55.78493 -2.769698 -1.012711 80.89586 -25.11093\n",
            "     VaRTotal_sw VaRTotalfr1_sw VaRTotalfr2_sw\n",
            "[1,]   -1.176537       -1.16972    -0.03164314\n",
            "     CVaRTotal_sw CVaRTotalfr1_sw CVaRTotalfr2_sw\n",
            "[1,]     -1.90931        -1.89902     -0.07055701\n"
          ]
        }
      ]
    },
    {
      "cell_type": "markdown",
      "metadata": {
        "id": "rs73pFQJoEYo"
      },
      "source": [
        "### Inciso 6: Opciones"
      ]
    },
    {
      "cell_type": "code",
      "metadata": {
        "id": "zNGxKu6DoHLA",
        "colab": {
          "base_uri": "https://localhost:8080/"
        },
        "outputId": "da55e992-ab2e-455a-c25c-d90af6136783"
      },
      "source": [
        "%%R\n",
        "print(\"\")"
      ],
      "execution_count": 139,
      "outputs": [
        {
          "output_type": "stream",
          "name": "stdout",
          "text": [
            "[1] \"\"\n"
          ]
        }
      ]
    },
    {
      "cell_type": "markdown",
      "metadata": {
        "id": "SkvxE6A03YsR"
      },
      "source": [
        "## Medición de riesgo, con alisado"
      ]
    },
    {
      "cell_type": "markdown",
      "metadata": {
        "id": "x62UCMUm3ect"
      },
      "source": [
        "### Generación de escenarios"
      ]
    },
    {
      "cell_type": "code",
      "metadata": {
        "id": "ZT1Rzgnu3u3V",
        "colab": {
          "base_uri": "https://localhost:8080/"
        },
        "outputId": "328cc56e-a4a9-4a5e-e96e-c01638df2203"
      },
      "source": [
        "%%R\n",
        "w0 <- 0.05 #@param {type:\"number\"}\n",
        "lambda =uniroot(function(x) w0*(1-x^(n))/(1-x)-1, c(0,0.99), tol = 1e-28)$root\n",
        "\n",
        "\n",
        "#generamos la función que genera \"n\" escenarios con base en w0 y lambda\n",
        "genera_esc=function(lamda,w0,n)\n",
        "{\n",
        "  p_esc=matrix(0,n,1)\n",
        "  for (i in (1:n))\n",
        "  {\n",
        "    p_esc[i]=w0*lambda^(i-1)\n",
        "  }\n",
        "  p_esc\n",
        "}\n",
        "\n",
        "p_esc=genera_esc(lambda,w0,Ns)\n",
        "sum(p_esc)"
      ],
      "execution_count": 140,
      "outputs": [
        {
          "output_type": "stream",
          "name": "stdout",
          "text": [
            "[1] 0.9999999\n"
          ]
        }
      ]
    },
    {
      "cell_type": "markdown",
      "metadata": {
        "id": "I_WCiVlw4SFu"
      },
      "source": [
        "#### Inciso 1 y 2: Acciones y divisas\n"
      ]
    },
    {
      "cell_type": "code",
      "metadata": {
        "id": "-eWMjTb64WEF",
        "colab": {
          "base_uri": "https://localhost:8080/"
        },
        "outputId": "a92fd231-c679-477f-ac6e-0c02f45a1998"
      },
      "source": [
        "%%R\n",
        "m=m_fx+m_acc \n",
        "VaRCACont_acc_div=matrix(0,1,m)\n",
        "VaRCAfr1_acc_div=matrix(0,1,m_fx)\n",
        "VaRCAfr2_acc_div=matrix(0,1,m_acc)\n",
        "CVaRCACont_acc_div=matrix(0,1,m)\n",
        "CVaRCAfr1_acc_div=matrix(0,1,m_fx)\n",
        "CVaRCAfr2_acc_div=matrix(0,1,m_acc)\n",
        "for (i in (1:m))\n",
        "{\n",
        "  VaRCACont_acc_div[i]=wquantile(as.matrix(PG_acc_div[,i]), p_esc, 1-alpha)\n",
        "  CVaRCACont_acc_div[i]= wcvar(as.matrix(PG_acc_div[,i]), p_esc, 1-alpha)\n",
        "  if (i<=m_fx)\n",
        "  {\n",
        "  VaRCAfr1_acc_div[i]=wquantile(as.matrix(PGfr1_acc_div[,i]), p_esc, 1-alpha)\n",
        "  CVaRCAfr1_acc_div[i]= wcvar(as.matrix(PGfr1_acc_div[,i]), p_esc, 1-alpha)\n",
        "  }\n",
        "  if (i<=m_acc)\n",
        "  {  \n",
        "  VaRCAfr2_acc_div[i]=wquantile(as.matrix(PGfr2_acc_div[,i]), p_esc, 1-alpha)\n",
        "  CVaRCAfr2_acc_div[i]= wcvar(as.matrix(PGfr2_acc_div[,i]), p_esc, 1-alpha)\n",
        "  }\n",
        "}\n",
        "\n",
        "VaRCACont_acc_div\n",
        "VaRCAfr1_acc_div\n",
        "VaRCAfr2_acc_div\n",
        "CVaRCACont_acc_div\n",
        "CVaRCAfr1_acc_div\n",
        "CVaRCAfr2_acc_div\n",
        "\n",
        "#VaR Total\n",
        "\n",
        "VaRCATotal_acc_div=wquantile(PGT_acc_div,p_esc, 1-alpha)\n",
        "CVaRCATotal_acc_div= wcvar(PGT_acc_div,p_esc,1-alpha)\n",
        "VaRCATotalfr1_acc_div=wquantile(PGfr1T_acc_div,p_esc,1-alpha)\n",
        "CVaRCATotalfr1_acc_div= wcvar(PGfr1T_acc_div,p_esc,1-alpha)\n",
        "VaRCATotalfr2_acc_div=wquantile(PGfr2T_acc_div,p_esc,1-alpha)\n",
        "CVaRCATotalfr2_acc_div= wcvar(PGfr2T_acc_div,p_esc,1-alpha)\n",
        "\n",
        "print(\"Valor de acciones y divisas\")\n",
        "print(V0_acc_div )\n",
        "print(\"Valor en Riesgo de acciones y divisas\")\n",
        "print(VaRCACont_acc_div)\n",
        "print(\"Valor en Riesgo de divisas\")\n",
        "print(VaRCATotalfr1_acc_div)\n",
        "print(\"Valor en Riesgo de acciones\")\n",
        "print(VaRCATotalfr2_acc_div)\n",
        "\n",
        "print(\"Valor en Riesgo Condicional de acciones y divisas\")\n",
        "print(CVaRCACont_acc_div)\n",
        "print(\"Valor en Riesgo Condicional de divisas\")\n",
        "print(CVaRCATotalfr1_acc_div)\n",
        "print(\"Valor en Riesgo Condicional de acciones\")\n",
        "print(CVaRCATotalfr2_acc_div)"
      ],
      "execution_count": 141,
      "outputs": [
        {
          "output_type": "stream",
          "name": "stdout",
          "text": [
            "[1] \"Valor de acciones y divisas\"\n",
            "   EURUSD.X  GBPUSD.X USDMXN.X AMXL.MX GCARSOA1.MX WALMEX.MX\n",
            "1:    16689 -16857.19 30830.55  -91250       73820     86592\n",
            "[1] \"Valor en Riesgo de acciones y divisas\"\n",
            "          [,1]      [,2]      [,3]      [,4]      [,5]      [,6]\n",
            "[1,] -112.8287 -148.7894 -335.7562 -1696.911 -2873.721 -2890.737\n",
            "[1] \"Valor en Riesgo de divisas\"\n",
            "[1] -371.7948\n",
            "[1] \"Valor en Riesgo de acciones\"\n",
            "[1] -4807.637\n",
            "[1] \"Valor en Riesgo Condicional de acciones y divisas\"\n",
            "        [,1]      [,2]      [,3]      [,4]      [,5]      [,6]\n",
            "[1,] -173.32 -175.2626 -512.0436 -2835.522 -3147.862 -4130.248\n",
            "[1] \"Valor en Riesgo Condicional de divisas\"\n",
            "[1] -430.0354\n",
            "[1] \"Valor en Riesgo Condicional de acciones\"\n",
            "[1] -5847.692\n"
          ]
        }
      ]
    },
    {
      "cell_type": "markdown",
      "metadata": {
        "id": "-zAVC0t_4XZN"
      },
      "source": [
        "#### Inciso 3: Cetes"
      ]
    },
    {
      "cell_type": "code",
      "metadata": {
        "id": "VfKf48nY4a9I",
        "colab": {
          "base_uri": "https://localhost:8080/"
        },
        "outputId": "3ed3c3f3-7bd5-4980-cbb3-bd104203e6a1"
      },
      "source": [
        "%%R\n",
        "m = 1\n",
        "VaRCACont_cetes=matrix(0,1,m)\n",
        "CVaRCACont_cetes=matrix(0,1,m)\n",
        "\n",
        "for (i in (1:m))\n",
        "{\n",
        "  VaRCACont_cetes[i]=wquantile(as.matrix(PG_cetes[,i]), p_esc, 1-alpha)\n",
        "  CVaRCACont_cetes[i]= wcvar(as.matrix(PG_cetes[,i]), p_esc, 1-alpha)\n",
        "}\n",
        "\n",
        "\n",
        "#VaR Total\n",
        "\n",
        "print(\"Valor de cete\")\n",
        "print(V0_cetes )\n",
        "print(\"Valor en Riesgo de cetes\")\n",
        "print(VaRCACont_cetes)\n",
        "print(\"Valor en Riesgo Condicional de cetes\")\n",
        "print(CVaRCACont_cetes)\n"
      ],
      "execution_count": 142,
      "outputs": [
        {
          "output_type": "stream",
          "name": "stdout",
          "text": [
            "[1] \"Valor de cete\"\n",
            "         [,1] [,2]\n",
            "[1,] 9.760299    0\n",
            "[1] \"Valor en Riesgo de cetes\"\n",
            "          [,1]\n",
            "[1,] -8.784538\n",
            "[1] \"Valor en Riesgo Condicional de cetes\"\n",
            "          [,1]\n",
            "[1,] -8.784705\n"
          ]
        }
      ]
    },
    {
      "cell_type": "markdown",
      "metadata": {
        "id": "VuCNj7bx4bym"
      },
      "source": [
        "#### Inciso 3: Bonos M"
      ]
    },
    {
      "cell_type": "code",
      "metadata": {
        "id": "DdXhxDwF4ebW",
        "colab": {
          "base_uri": "https://localhost:8080/"
        },
        "outputId": "7428a5a4-35cb-4c62-cb06-f8847623db2b"
      },
      "source": [
        "%%R\n",
        "print(\"hola\")"
      ],
      "execution_count": 143,
      "outputs": [
        {
          "output_type": "stream",
          "name": "stdout",
          "text": [
            "[1] \"hola\"\n"
          ]
        }
      ]
    },
    {
      "cell_type": "markdown",
      "metadata": {
        "id": "C8UO0Vaw4kfN"
      },
      "source": [
        "#### Inciso 3: Bondes D"
      ]
    },
    {
      "cell_type": "code",
      "metadata": {
        "id": "xv33bHYV4mvm",
        "colab": {
          "base_uri": "https://localhost:8080/"
        },
        "outputId": "57ca6fea-97a2-4634-97e4-28745fb3d282"
      },
      "source": [
        "%%R\n",
        "m=count(N_bd)\n",
        "VaRCACont_bd=matrix(0,1,m)\n",
        "VaRCAfr1_bd=matrix(0,1,m)\n",
        "VaRCAfr2_bd=matrix(0,1,m)\n",
        "VaRCAfr3_bd=matrix(0,1,m)\n",
        "CVaRCACont_bd=matrix(0,1,m)\n",
        "CVaRCAfr1_bd=matrix(0,1,m)\n",
        "CVaRCAfr2_bd=matrix(0,1,m)\n",
        "CVaRCAfr3_bd=matrix(0,1,m)\n",
        "\n",
        "for (i in (1:m))\n",
        "{\n",
        "  VaRCACont_bd[i]=wquantile(as.matrix(PG_bd[,i]), p_esc, 1-alpha)\n",
        "  CVaRCACont_bd[i]= wcvar(as.matrix(PG_bd[,i]), p_esc, 1-alpha)\n",
        "  if (i<=m)\n",
        "  {\n",
        "  VaRCAfr1_bd[i]=wquantile(as.matrix(PGfr1_bd[,i]), p_esc, 1-alpha)\n",
        "  CVaRCAfr1_bd[i]= wcvar(as.matrix(PGfr1_bd[,i]), p_esc, 1-alpha)\n",
        "  VaRCAfr2_bd[i]=wquantile(as.matrix(PGfr2_bd[,i]), p_esc, 1-alpha)\n",
        "  CVaRCAfr2_bd[i]= wcvar(as.matrix(PGfr2_bd[,i]), p_esc, 1-alpha)\n",
        "  VaRCAfr3_bd[i]=wquantile(as.matrix(PGfr3_bd[,i]), p_esc, 1-alpha)\n",
        "  CVaRCAfr3_bd[i]= wcvar(as.matrix(PGfr3_bd[,i]), p_esc, 1-alpha)\n",
        "  }\n",
        "}\n",
        "\n",
        "\n",
        "#VaR Total\n",
        "\n",
        "VaRCATotal_bd=wquantile(PGT_bd,p_esc, 1-alpha)\n",
        "CVaRCATotal_bd= wcvar(PGT_bd,p_esc,1-alpha)\n",
        "VaRCATotalfr1_bd=wquantile(PGfr1T_bd,p_esc,1-alpha)\n",
        "CVaRCATotalfr1_bd= wcvar(PGfr1T_bd,p_esc,1-alpha)\n",
        "VaRCATotalfr2_bd=wquantile(PGfr2T_bd,p_esc,1-alpha)\n",
        "CVaRCATotalfr2_bd= wcvar(PGfr2T_bd,p_esc,1-alpha)\n",
        "VaRCATotalfr3_bd=wquantile(PGfr3T_bd,p_esc,1-alpha)\n",
        "CVaRCATotalfr3_bd= wcvar(PGfr3T_bd,p_esc,1-alpha)\n",
        "\n",
        "print(\"Valor de bondes D\")\n",
        "print(V0_bd )\n",
        "print(\"Valor en Riesgo de bondes D\")\n",
        "print(VaRCACont_bd)\n",
        "print(\"Valor en Riesgo de bondes D\")\n",
        "print(VaRCATotalfr1_bd)\n",
        "print(\"Valor en Riesgo de bondes D\")\n",
        "print(VaRCATotalfr2_bd)\n",
        "\n",
        "print(\"Valor en Riesgo Condicional de bondes D\")\n",
        "print(CVaRCACont_bd)\n",
        "print(\"Valor en Riesgo Condicional de bondes D\")\n",
        "print(CVaRCATotalfr1_bd)\n",
        "print(\"Valor en Riesgo Condicional de bondes D\")\n",
        "print(CVaRCATotalfr2_bd)"
      ],
      "execution_count": 144,
      "outputs": [
        {
          "output_type": "stream",
          "name": "stdout",
          "text": [
            "[1] \"Valor de bondes D\"\n",
            "         [,1] [,2]\n",
            "[1,] 97309.88    0\n",
            "[1] \"Valor en Riesgo de bondes D\"\n",
            "          [,1] [,2]\n",
            "[1,] -290.2353    0\n",
            "[1] \"Valor en Riesgo de bondes D\"\n",
            "[1] -173.1016\n",
            "[1] \"Valor en Riesgo de bondes D\"\n",
            "[1] -173.5373\n",
            "[1] \"Valor en Riesgo Condicional de bondes D\"\n",
            "          [,1] [,2]\n",
            "[1,] -322.0433  NaN\n",
            "[1] \"Valor en Riesgo Condicional de bondes D\"\n",
            "[1] -219.678\n",
            "[1] \"Valor en Riesgo Condicional de bondes D\"\n",
            "[1] -193.5976\n"
          ]
        }
      ]
    },
    {
      "cell_type": "code",
      "metadata": {
        "colab": {
          "base_uri": "https://localhost:8080/"
        },
        "id": "HjHO7o2Afmt0",
        "outputId": "7079d1ff-2756-4fc1-b88b-33a532e2950a"
      },
      "source": [
        "%%R\n",
        "head(PGfr1_bd)"
      ],
      "execution_count": 145,
      "outputs": [
        {
          "output_type": "stream",
          "name": "stdout",
          "text": [
            "             [,1] [,2]\n",
            "[1,]  55.59829306    0\n",
            "[2,]  -0.03898831    0\n",
            "[3,] -36.72819527    0\n",
            "[4,]   0.11598617    0\n",
            "[5,] -18.09538716    0\n",
            "[6,] -36.04238010    0\n"
          ]
        }
      ]
    },
    {
      "cell_type": "markdown",
      "metadata": {
        "id": "s1m9hIgG4ni2"
      },
      "source": [
        "#### Inciso 4: Forward de tipo de cambio"
      ]
    },
    {
      "cell_type": "code",
      "metadata": {
        "id": "moM4wuQE4ubd",
        "colab": {
          "base_uri": "https://localhost:8080/",
          "height": 1000
        },
        "outputId": "ecd82ac5-65b5-4606-ca21-17f6ee4a7233"
      },
      "source": [
        "%%R\n",
        "#VaRCA por posición\n",
        "VaRCACont_fwtdc=matrix(0,1,m)\n",
        "VaRCAfr1_fwtdc=matrix(0,1,m)\n",
        "VaRCAfr2_fwtdc=matrix(0,1,m)\n",
        "VaRCAfr3_fwtdc=matrix(0,1,m)\n",
        "CVaRCACont_fwtdc=matrix(0,1,m)\n",
        "CVaRCAfr1_fwtdc=matrix(0,1,m)\n",
        "CVaRCAfr2_fwtdc=matrix(0,1,m)\n",
        "CVaRCAfr3_fwtdc=matrix(0,1,m)\n",
        "for (i in (1:m))\n",
        "{\n",
        "  VaRCACont_fwtdc[i]=quantile(PG_fwtdc[,i],1-alpha,Ns)\n",
        "  VaRCAfr1_fwtdc[i]=quantile(PGfr1_fwtdc[,i],1-alpha,Ns)\n",
        "  VaRCAfr2_fwtdc[i]=quantile(PGfr2_fwtdc[,i],1-alpha,Ns)\n",
        "  VaRCAfr3_fwtdc[i]=quantile(PGfr3_fwtdc[,i],1-alpha,Ns)\n",
        "  CVaRCAfr1_fwtdc[i]= mean(merge(which(PGfr1_fwtdc[,i]<VaRCAfr1_fwtdc[i]),cbind(seq(1,Ns),PGfr1_fwtdc[,i]), by.x=1,by.y=1)[,2])\n",
        "  CVaRCAfr2_fwtdc[i]= mean(merge(which(PGfr2_fwtdc[,i]<VaRCAfr2_fwtdc[i]),cbind(seq(1,Ns),PGfr2_fwtdc[,i]), by.x=1,by.y=1)[,2])\n",
        "  CVaRCAfr3_fwtdc[i]= mean(merge(which(PGfr3_fwtdc[,i]<VaRCAfr3_fwtdc[i]),cbind(seq(1,Ns),PGfr3_fwtdc[,i]), by.x=1,by.y=1)[,2])\n",
        "  CVaRCACont_fwtdc[i]= mean(merge(which(PG_fwtdc[,i]<VaRCACont_fwtdc[i]),cbind(seq(1,Ns),PG_fwtdc[,i]), by.x=1,by.y=1)[,2])\n",
        "}\n",
        "\n",
        "VaRCACont_fwtdc\n",
        "VaRCAfr1_fwtdc\n",
        "VaRCAfr2_fwtdc\n",
        "CVaRCACont_fwtdc\n",
        "CVaRCAfr1_fwtdc\n",
        "CVaRCAfr2_fwtdc\n",
        "\n",
        "\n",
        "#VaRCA Total\n",
        "VaRCATotal_fwtdc=quantile(PGT_fwtdc,1-alpha,Ns)\n",
        "CVaRCATotal_fwtdc= mean(merge(which(PGT_fwtdc<VaRCATotal_fwtdc),cbind(seq(1,Ns),PGT_fwtdc), by.x=1,by.y=1)[,2])\n",
        "VaRCATotalfr1_fwtdc=quantile(PGfr1T_fwtdc,1-alpha,Ns)\n",
        "CVaRCATotalfr1_fwtdc= mean(PGfr1T_fwtdc[which(PGfr1T_fwtdc<VaRCATotalfr1_fwtdc),])\n",
        "VaRCATotalfr2_fwtdc=quantile(PGfr2T_fwtdc,1-alpha,Ns)\n",
        "CVaRCATotalfr2_fwtdc= mean(PGfr2T_fwtdc[which(PGfr2T_fwtdc<VaRCATotalfr2_fwtdc),])\n",
        "VaRCATotalfr3_fwtdc=quantile(PGfr3T_fwtdc,1-alpha,Ns)\n",
        "CVaRCATotalfr3_fwtdc= mean(PGfr3T_fwtdc[which(PGfr2T_fwtdc<VaRCATotalfr2_fwtdc),])\n",
        "\n",
        "\n",
        "cbind(VaRCATotal_fwtdc,sum(V0_fwtdc), VaRCACont_fwtdc, V0_fwtdc)\n",
        "print(V0_fwtdc)\n",
        "print(VaRCACont_fwtdc)\n",
        "cbind(CVaRCATotal_fwtdc,sum(V0_fwtdc), CVaRCACont_fwtdc, V0_fwtdc)\n",
        "print(CVaRCACont_fwtdc)\n",
        "print(CVaRCAfr1_fwtdc)\n",
        "print(CVaRCAfr2_fwtdc)\n",
        "print(CVaRCAfr3_fwtdc)\n",
        "print(cbind(VaRCATotal_fwtdc,VaRCATotalfr1_fwtdc,VaRCATotalfr2_fwtdc,VaRCATotalfr3_fwtdc))\n",
        "print(cbind(CVaRCATotal_fwtdc,CVaRCATotalfr1_fwtdc,CVaRCATotalfr2_fwtdc,CVaRCATotalfr3_fwtdc))\n",
        "\n"
      ],
      "execution_count": 146,
      "outputs": [
        {
          "output_type": "stream",
          "name": "stderr",
          "text": [
            "R[write to console]: Error in PG_fwtdc[, i] : subscript out of bounds\n",
            "\n",
            "R[write to console]: In addition: \n",
            "R[write to console]: Warning messages:\n",
            "\n",
            "R[write to console]: 1: AMXL.MX contains missing values. Some functions will not work if objects contain missing values in the middle of the series. Consider using na.omit(), na.approx(), na.fill(), etc to remove or replace them. \n",
            "\n",
            "R[write to console]: 2: GCARSOA1.MX contains missing values. Some functions will not work if objects contain missing values in the middle of the series. Consider using na.omit(), na.approx(), na.fill(), etc to remove or replace them. \n",
            "\n",
            "R[write to console]: 3: WALMEX.MX contains missing values. Some functions will not work if objects contain missing values in the middle of the series. Consider using na.omit(), na.approx(), na.fill(), etc to remove or replace them. \n",
            "\n",
            "R[write to console]: 4: EURUSD=X contains missing values. Some functions will not work if objects contain missing values in the middle of the series. Consider using na.omit(), na.approx(), na.fill(), etc to remove or replace them. \n",
            "\n",
            "R[write to console]: 5: GBPUSD=X contains missing values. Some functions will not work if objects contain missing values in the middle of the series. Consider using na.omit(), na.approx(), na.fill(), etc to remove or replace them. \n",
            "\n",
            "R[write to console]: 6: USDMXN=X contains missing values. Some functions will not work if objects contain missing values in the middle of the series. Consider using na.omit(), na.approx(), na.fill(), etc to remove or replace them. \n",
            "\n",
            "R[write to console]: 7: USDMXN=X contains missing values. Some functions will not work if objects contain missing values in the middle of the series. Consider using na.omit(), na.approx(), na.fill(), etc to remove or replace them. \n",
            "\n",
            "R[write to console]: 8: GBPUSD=X contains missing values. Some functions will not work if objects contain missing values in the middle of the series. Consider using na.omit(), na.approx(), na.fill(), etc to remove or replace them. \n",
            "\n",
            "R[write to console]: 9: ^MXX contains missing values. Some functions will not work if objects contain missing values in the middle of the series. Consider using na.omit(), na.approx(), na.fill(), etc to remove or replace them. \n",
            "\n",
            "R[write to console]: 10: GCARSOA1.MX contains missing values. Some functions will not work if objects contain missing values in the middle of the series. Consider using na.omit(), na.approx(), na.fill(), etc to remove or replace them. \n",
            "\n"
          ]
        },
        {
          "output_type": "stream",
          "name": "stdout",
          "text": [
            "\n",
            "Error in PG_fwtdc[, i] : subscript out of bounds\n"
          ]
        },
        {
          "output_type": "error",
          "ename": "RInterpreterError",
          "evalue": "ignored",
          "traceback": [
            "\u001b[0;31m---------------------------------------------------------------------------\u001b[0m",
            "\u001b[0;31mRRuntimeError\u001b[0m                             Traceback (most recent call last)",
            "\u001b[0;32m/usr/local/lib/python3.7/dist-packages/rpy2/ipython/rmagic.py\u001b[0m in \u001b[0;36meval\u001b[0;34m(self, code)\u001b[0m\n\u001b[1;32m    267\u001b[0m                 \u001b[0;31m# Need the newline in case the last line in code is a comment.\u001b[0m\u001b[0;34m\u001b[0m\u001b[0;34m\u001b[0m\u001b[0;34m\u001b[0m\u001b[0m\n\u001b[0;32m--> 268\u001b[0;31m                 \u001b[0mvalue\u001b[0m\u001b[0;34m,\u001b[0m \u001b[0mvisible\u001b[0m \u001b[0;34m=\u001b[0m \u001b[0mro\u001b[0m\u001b[0;34m.\u001b[0m\u001b[0mr\u001b[0m\u001b[0;34m(\u001b[0m\u001b[0;34m\"withVisible({%s\\n})\"\u001b[0m \u001b[0;34m%\u001b[0m \u001b[0mcode\u001b[0m\u001b[0;34m)\u001b[0m\u001b[0;34m\u001b[0m\u001b[0;34m\u001b[0m\u001b[0m\n\u001b[0m\u001b[1;32m    269\u001b[0m             \u001b[0;32mexcept\u001b[0m \u001b[0;34m(\u001b[0m\u001b[0mri\u001b[0m\u001b[0;34m.\u001b[0m\u001b[0membedded\u001b[0m\u001b[0;34m.\u001b[0m\u001b[0mRRuntimeError\u001b[0m\u001b[0;34m,\u001b[0m \u001b[0mValueError\u001b[0m\u001b[0;34m)\u001b[0m \u001b[0;32mas\u001b[0m \u001b[0mexception\u001b[0m\u001b[0;34m:\u001b[0m\u001b[0;34m\u001b[0m\u001b[0;34m\u001b[0m\u001b[0m\n",
            "\u001b[0;32m/usr/local/lib/python3.7/dist-packages/rpy2/robjects/__init__.py\u001b[0m in \u001b[0;36m__call__\u001b[0;34m(self, string)\u001b[0m\n\u001b[1;32m    437\u001b[0m         \u001b[0mp\u001b[0m \u001b[0;34m=\u001b[0m \u001b[0mrinterface\u001b[0m\u001b[0;34m.\u001b[0m\u001b[0mparse\u001b[0m\u001b[0;34m(\u001b[0m\u001b[0mstring\u001b[0m\u001b[0;34m)\u001b[0m\u001b[0;34m\u001b[0m\u001b[0;34m\u001b[0m\u001b[0m\n\u001b[0;32m--> 438\u001b[0;31m         \u001b[0mres\u001b[0m \u001b[0;34m=\u001b[0m \u001b[0mself\u001b[0m\u001b[0;34m.\u001b[0m\u001b[0meval\u001b[0m\u001b[0;34m(\u001b[0m\u001b[0mp\u001b[0m\u001b[0;34m)\u001b[0m\u001b[0;34m\u001b[0m\u001b[0;34m\u001b[0m\u001b[0m\n\u001b[0m\u001b[1;32m    439\u001b[0m         \u001b[0;32mreturn\u001b[0m \u001b[0mconversion\u001b[0m\u001b[0;34m.\u001b[0m\u001b[0mrpy2py\u001b[0m\u001b[0;34m(\u001b[0m\u001b[0mres\u001b[0m\u001b[0;34m)\u001b[0m\u001b[0;34m\u001b[0m\u001b[0;34m\u001b[0m\u001b[0m\n",
            "\u001b[0;32m/usr/local/lib/python3.7/dist-packages/rpy2/robjects/functions.py\u001b[0m in \u001b[0;36m__call__\u001b[0;34m(self, *args, **kwargs)\u001b[0m\n\u001b[1;32m    198\u001b[0m         return (super(SignatureTranslatedFunction, self)\n\u001b[0;32m--> 199\u001b[0;31m                 .__call__(*args, **kwargs))\n\u001b[0m\u001b[1;32m    200\u001b[0m \u001b[0;34m\u001b[0m\u001b[0m\n",
            "\u001b[0;32m/usr/local/lib/python3.7/dist-packages/rpy2/robjects/functions.py\u001b[0m in \u001b[0;36m__call__\u001b[0;34m(self, *args, **kwargs)\u001b[0m\n\u001b[1;32m    124\u001b[0m                 \u001b[0mnew_kwargs\u001b[0m\u001b[0;34m[\u001b[0m\u001b[0mk\u001b[0m\u001b[0;34m]\u001b[0m \u001b[0;34m=\u001b[0m \u001b[0mconversion\u001b[0m\u001b[0;34m.\u001b[0m\u001b[0mpy2rpy\u001b[0m\u001b[0;34m(\u001b[0m\u001b[0mv\u001b[0m\u001b[0;34m)\u001b[0m\u001b[0;34m\u001b[0m\u001b[0;34m\u001b[0m\u001b[0m\n\u001b[0;32m--> 125\u001b[0;31m         \u001b[0mres\u001b[0m \u001b[0;34m=\u001b[0m \u001b[0msuper\u001b[0m\u001b[0;34m(\u001b[0m\u001b[0mFunction\u001b[0m\u001b[0;34m,\u001b[0m \u001b[0mself\u001b[0m\u001b[0;34m)\u001b[0m\u001b[0;34m.\u001b[0m\u001b[0m__call__\u001b[0m\u001b[0;34m(\u001b[0m\u001b[0;34m*\u001b[0m\u001b[0mnew_args\u001b[0m\u001b[0;34m,\u001b[0m \u001b[0;34m**\u001b[0m\u001b[0mnew_kwargs\u001b[0m\u001b[0;34m)\u001b[0m\u001b[0;34m\u001b[0m\u001b[0;34m\u001b[0m\u001b[0m\n\u001b[0m\u001b[1;32m    126\u001b[0m         \u001b[0mres\u001b[0m \u001b[0;34m=\u001b[0m \u001b[0mconversion\u001b[0m\u001b[0;34m.\u001b[0m\u001b[0mrpy2py\u001b[0m\u001b[0;34m(\u001b[0m\u001b[0mres\u001b[0m\u001b[0;34m)\u001b[0m\u001b[0;34m\u001b[0m\u001b[0;34m\u001b[0m\u001b[0m\n",
            "\u001b[0;32m/usr/local/lib/python3.7/dist-packages/rpy2/rinterface_lib/conversion.py\u001b[0m in \u001b[0;36m_\u001b[0;34m(*args, **kwargs)\u001b[0m\n\u001b[1;32m     44\u001b[0m     \u001b[0;32mdef\u001b[0m \u001b[0m_\u001b[0m\u001b[0;34m(\u001b[0m\u001b[0;34m*\u001b[0m\u001b[0margs\u001b[0m\u001b[0;34m,\u001b[0m \u001b[0;34m**\u001b[0m\u001b[0mkwargs\u001b[0m\u001b[0;34m)\u001b[0m\u001b[0;34m:\u001b[0m\u001b[0;34m\u001b[0m\u001b[0;34m\u001b[0m\u001b[0m\n\u001b[0;32m---> 45\u001b[0;31m         \u001b[0mcdata\u001b[0m \u001b[0;34m=\u001b[0m \u001b[0mfunction\u001b[0m\u001b[0;34m(\u001b[0m\u001b[0;34m*\u001b[0m\u001b[0margs\u001b[0m\u001b[0;34m,\u001b[0m \u001b[0;34m**\u001b[0m\u001b[0mkwargs\u001b[0m\u001b[0;34m)\u001b[0m\u001b[0;34m\u001b[0m\u001b[0;34m\u001b[0m\u001b[0m\n\u001b[0m\u001b[1;32m     46\u001b[0m         \u001b[0;31m# TODO: test cdata is of the expected CType\u001b[0m\u001b[0;34m\u001b[0m\u001b[0;34m\u001b[0m\u001b[0;34m\u001b[0m\u001b[0m\n",
            "\u001b[0;32m/usr/local/lib/python3.7/dist-packages/rpy2/rinterface.py\u001b[0m in \u001b[0;36m__call__\u001b[0;34m(self, *args, **kwargs)\u001b[0m\n\u001b[1;32m    679\u001b[0m             \u001b[0;32mif\u001b[0m \u001b[0merror_occured\u001b[0m\u001b[0;34m[\u001b[0m\u001b[0;36m0\u001b[0m\u001b[0;34m]\u001b[0m\u001b[0;34m:\u001b[0m\u001b[0;34m\u001b[0m\u001b[0;34m\u001b[0m\u001b[0m\n\u001b[0;32m--> 680\u001b[0;31m                 \u001b[0;32mraise\u001b[0m \u001b[0membedded\u001b[0m\u001b[0;34m.\u001b[0m\u001b[0mRRuntimeError\u001b[0m\u001b[0;34m(\u001b[0m\u001b[0m_rinterface\u001b[0m\u001b[0;34m.\u001b[0m\u001b[0m_geterrmessage\u001b[0m\u001b[0;34m(\u001b[0m\u001b[0;34m)\u001b[0m\u001b[0;34m)\u001b[0m\u001b[0;34m\u001b[0m\u001b[0;34m\u001b[0m\u001b[0m\n\u001b[0m\u001b[1;32m    681\u001b[0m         \u001b[0;32mreturn\u001b[0m \u001b[0mres\u001b[0m\u001b[0;34m\u001b[0m\u001b[0;34m\u001b[0m\u001b[0m\n",
            "\u001b[0;31mRRuntimeError\u001b[0m: Error in PG_fwtdc[, i] : subscript out of bounds\n",
            "\nDuring handling of the above exception, another exception occurred:\n",
            "\u001b[0;31mRInterpreterError\u001b[0m                         Traceback (most recent call last)",
            "\u001b[0;32m<ipython-input-146-b6578aa19aae>\u001b[0m in \u001b[0;36m<module>\u001b[0;34m()\u001b[0m\n\u001b[0;32m----> 1\u001b[0;31m \u001b[0mget_ipython\u001b[0m\u001b[0;34m(\u001b[0m\u001b[0;34m)\u001b[0m\u001b[0;34m.\u001b[0m\u001b[0mrun_cell_magic\u001b[0m\u001b[0;34m(\u001b[0m\u001b[0;34m'R'\u001b[0m\u001b[0;34m,\u001b[0m \u001b[0;34m''\u001b[0m\u001b[0;34m,\u001b[0m \u001b[0;34m'#VaRCA por posición\\nVaRCACont_fwtdc=matrix(0,1,m)\\nVaRCAfr1_fwtdc=matrix(0,1,m)\\nVaRCAfr2_fwtdc=matrix(0,1,m)\\nVaRCAfr3_fwtdc=matrix(0,1,m)\\nCVaRCACont_fwtdc=matrix(0,1,m)\\nCVaRCAfr1_fwtdc=matrix(0,1,m)\\nCVaRCAfr2_fwtdc=matrix(0,1,m)\\nCVaRCAfr3_fwtdc=matrix(0,1,m)\\nfor (i in (1:m))\\n{\\n  VaRCACont_fwtdc[i]=quantile(PG_fwtdc[,i],1-alpha,Ns)\\n  VaRCAfr1_fwtdc[i]=quantile(PGfr1_fwtdc[,i],1-alpha,Ns)\\n  VaRCAfr2_fwtdc[i]=quantile(PGfr2_fwtdc[,i],1-alpha,Ns)\\n  VaRCAfr3_fwtdc[i]=quantile(PGfr3_fwtdc[,i],1-alpha,Ns)\\n  CVaRCAfr1_fwtdc[i]= mean(merge(which(PGfr1_fwtdc[,i]<VaRCAfr1_fwtdc[i]),cbind(seq(1,Ns),PGfr1_fwtdc[,i]), by.x=1,by.y=1)[,2])\\n  CVaRCAfr2_fwtdc[i]= mean(merge(which(PGfr2_fwtdc[,i]<VaRCAfr2_fwtdc[i]),cbind(seq(1,Ns),PGfr2_fwtdc[,i]), by.x=1,by.y=1)[,2])\\n  CVaRCAfr3_fwtdc[i]= mean(merge(which(PGfr3_fwtdc[,i]<VaRCAfr3_fwtdc[i]),cbind(seq(1,Ns),PGfr3_fwtdc[,i]), by.x=1,by.y=1)[,2])\\n  CVaRCACont_fwtdc[i]= mean(merge(which(PG_fwtdc[,i]<VaRCACont_fwtdc[i]),cbind(seq(1,Ns),PG_fwtdc[,i]), by.x=1,by.y=1)[,2])\\n}\\n\\nVaRCACont_fwtdc\\nVaRCAfr1_fwtdc\\nVaRCAfr2_fwtdc\\nCVaRCACont_fwtdc\\nCVaRCAfr1_fwtdc\\nCVaRCAfr2_fwtdc\\n\\n\\n#VaRCA Total\\nVaRCATotal_fwtdc=quantile(PGT_fwtdc,1-alpha,Ns)\\nCVaRCATotal_fwtdc= mean(merge(which(PGT_fwtdc<VaRCATotal_fwtdc),cbind(seq(1,Ns),PGT_fwtdc), by.x=1,by.y=1)[,2])\\nVaRCATota...\n\u001b[0m",
            "\u001b[0;32m/usr/local/lib/python3.7/dist-packages/IPython/core/interactiveshell.py\u001b[0m in \u001b[0;36mrun_cell_magic\u001b[0;34m(self, magic_name, line, cell)\u001b[0m\n\u001b[1;32m   2115\u001b[0m             \u001b[0mmagic_arg_s\u001b[0m \u001b[0;34m=\u001b[0m \u001b[0mself\u001b[0m\u001b[0;34m.\u001b[0m\u001b[0mvar_expand\u001b[0m\u001b[0;34m(\u001b[0m\u001b[0mline\u001b[0m\u001b[0;34m,\u001b[0m \u001b[0mstack_depth\u001b[0m\u001b[0;34m)\u001b[0m\u001b[0;34m\u001b[0m\u001b[0;34m\u001b[0m\u001b[0m\n\u001b[1;32m   2116\u001b[0m             \u001b[0;32mwith\u001b[0m \u001b[0mself\u001b[0m\u001b[0;34m.\u001b[0m\u001b[0mbuiltin_trap\u001b[0m\u001b[0;34m:\u001b[0m\u001b[0;34m\u001b[0m\u001b[0;34m\u001b[0m\u001b[0m\n\u001b[0;32m-> 2117\u001b[0;31m                 \u001b[0mresult\u001b[0m \u001b[0;34m=\u001b[0m \u001b[0mfn\u001b[0m\u001b[0;34m(\u001b[0m\u001b[0mmagic_arg_s\u001b[0m\u001b[0;34m,\u001b[0m \u001b[0mcell\u001b[0m\u001b[0;34m)\u001b[0m\u001b[0;34m\u001b[0m\u001b[0;34m\u001b[0m\u001b[0m\n\u001b[0m\u001b[1;32m   2118\u001b[0m             \u001b[0;32mreturn\u001b[0m \u001b[0mresult\u001b[0m\u001b[0;34m\u001b[0m\u001b[0;34m\u001b[0m\u001b[0m\n\u001b[1;32m   2119\u001b[0m \u001b[0;34m\u001b[0m\u001b[0m\n",
            "\u001b[0;32m<decorator-gen-119>\u001b[0m in \u001b[0;36mR\u001b[0;34m(self, line, cell, local_ns)\u001b[0m\n",
            "\u001b[0;32m/usr/local/lib/python3.7/dist-packages/IPython/core/magic.py\u001b[0m in \u001b[0;36m<lambda>\u001b[0;34m(f, *a, **k)\u001b[0m\n\u001b[1;32m    186\u001b[0m     \u001b[0;31m# but it's overkill for just that one bit of state.\u001b[0m\u001b[0;34m\u001b[0m\u001b[0;34m\u001b[0m\u001b[0;34m\u001b[0m\u001b[0m\n\u001b[1;32m    187\u001b[0m     \u001b[0;32mdef\u001b[0m \u001b[0mmagic_deco\u001b[0m\u001b[0;34m(\u001b[0m\u001b[0marg\u001b[0m\u001b[0;34m)\u001b[0m\u001b[0;34m:\u001b[0m\u001b[0;34m\u001b[0m\u001b[0;34m\u001b[0m\u001b[0m\n\u001b[0;32m--> 188\u001b[0;31m         \u001b[0mcall\u001b[0m \u001b[0;34m=\u001b[0m \u001b[0;32mlambda\u001b[0m \u001b[0mf\u001b[0m\u001b[0;34m,\u001b[0m \u001b[0;34m*\u001b[0m\u001b[0ma\u001b[0m\u001b[0;34m,\u001b[0m \u001b[0;34m**\u001b[0m\u001b[0mk\u001b[0m\u001b[0;34m:\u001b[0m \u001b[0mf\u001b[0m\u001b[0;34m(\u001b[0m\u001b[0;34m*\u001b[0m\u001b[0ma\u001b[0m\u001b[0;34m,\u001b[0m \u001b[0;34m**\u001b[0m\u001b[0mk\u001b[0m\u001b[0;34m)\u001b[0m\u001b[0;34m\u001b[0m\u001b[0;34m\u001b[0m\u001b[0m\n\u001b[0m\u001b[1;32m    189\u001b[0m \u001b[0;34m\u001b[0m\u001b[0m\n\u001b[1;32m    190\u001b[0m         \u001b[0;32mif\u001b[0m \u001b[0mcallable\u001b[0m\u001b[0;34m(\u001b[0m\u001b[0marg\u001b[0m\u001b[0;34m)\u001b[0m\u001b[0;34m:\u001b[0m\u001b[0;34m\u001b[0m\u001b[0;34m\u001b[0m\u001b[0m\n",
            "\u001b[0;32m/usr/local/lib/python3.7/dist-packages/rpy2/ipython/rmagic.py\u001b[0m in \u001b[0;36mR\u001b[0;34m(self, line, cell, local_ns)\u001b[0m\n\u001b[1;32m    781\u001b[0m             \u001b[0;32mif\u001b[0m \u001b[0;32mnot\u001b[0m \u001b[0me\u001b[0m\u001b[0;34m.\u001b[0m\u001b[0mstdout\u001b[0m\u001b[0;34m.\u001b[0m\u001b[0mendswith\u001b[0m\u001b[0;34m(\u001b[0m\u001b[0me\u001b[0m\u001b[0;34m.\u001b[0m\u001b[0merr\u001b[0m\u001b[0;34m)\u001b[0m\u001b[0;34m:\u001b[0m\u001b[0;34m\u001b[0m\u001b[0;34m\u001b[0m\u001b[0m\n\u001b[1;32m    782\u001b[0m                 \u001b[0mprint\u001b[0m\u001b[0;34m(\u001b[0m\u001b[0me\u001b[0m\u001b[0;34m.\u001b[0m\u001b[0merr\u001b[0m\u001b[0;34m)\u001b[0m\u001b[0;34m\u001b[0m\u001b[0;34m\u001b[0m\u001b[0m\n\u001b[0;32m--> 783\u001b[0;31m             \u001b[0;32mraise\u001b[0m \u001b[0me\u001b[0m\u001b[0;34m\u001b[0m\u001b[0;34m\u001b[0m\u001b[0m\n\u001b[0m\u001b[1;32m    784\u001b[0m         \u001b[0;32mfinally\u001b[0m\u001b[0;34m:\u001b[0m\u001b[0;34m\u001b[0m\u001b[0;34m\u001b[0m\u001b[0m\n\u001b[1;32m    785\u001b[0m             \u001b[0;32mif\u001b[0m \u001b[0mself\u001b[0m\u001b[0;34m.\u001b[0m\u001b[0mdevice\u001b[0m \u001b[0;32min\u001b[0m \u001b[0;34m[\u001b[0m\u001b[0;34m'png'\u001b[0m\u001b[0;34m,\u001b[0m \u001b[0;34m'svg'\u001b[0m\u001b[0;34m]\u001b[0m\u001b[0;34m:\u001b[0m\u001b[0;34m\u001b[0m\u001b[0;34m\u001b[0m\u001b[0m\n",
            "\u001b[0;32m/usr/local/lib/python3.7/dist-packages/rpy2/ipython/rmagic.py\u001b[0m in \u001b[0;36mR\u001b[0;34m(self, line, cell, local_ns)\u001b[0m\n\u001b[1;32m    761\u001b[0m                     \u001b[0mreturn_output\u001b[0m \u001b[0;34m=\u001b[0m \u001b[0;32mFalse\u001b[0m\u001b[0;34m\u001b[0m\u001b[0;34m\u001b[0m\u001b[0m\n\u001b[1;32m    762\u001b[0m             \u001b[0;32melse\u001b[0m\u001b[0;34m:\u001b[0m\u001b[0;34m\u001b[0m\u001b[0;34m\u001b[0m\u001b[0m\n\u001b[0;32m--> 763\u001b[0;31m                 \u001b[0mtext_result\u001b[0m\u001b[0;34m,\u001b[0m \u001b[0mresult\u001b[0m\u001b[0;34m,\u001b[0m \u001b[0mvisible\u001b[0m \u001b[0;34m=\u001b[0m \u001b[0mself\u001b[0m\u001b[0;34m.\u001b[0m\u001b[0meval\u001b[0m\u001b[0;34m(\u001b[0m\u001b[0mcode\u001b[0m\u001b[0;34m)\u001b[0m\u001b[0;34m\u001b[0m\u001b[0;34m\u001b[0m\u001b[0m\n\u001b[0m\u001b[1;32m    764\u001b[0m                 \u001b[0mtext_output\u001b[0m \u001b[0;34m+=\u001b[0m \u001b[0mtext_result\u001b[0m\u001b[0;34m\u001b[0m\u001b[0;34m\u001b[0m\u001b[0m\n\u001b[1;32m    765\u001b[0m                 \u001b[0;32mif\u001b[0m \u001b[0mvisible\u001b[0m\u001b[0;34m:\u001b[0m\u001b[0;34m\u001b[0m\u001b[0;34m\u001b[0m\u001b[0m\n",
            "\u001b[0;32m/usr/local/lib/python3.7/dist-packages/rpy2/ipython/rmagic.py\u001b[0m in \u001b[0;36meval\u001b[0;34m(self, code)\u001b[0m\n\u001b[1;32m    271\u001b[0m                 \u001b[0mwarning_or_other_msg\u001b[0m \u001b[0;34m=\u001b[0m \u001b[0mself\u001b[0m\u001b[0;34m.\u001b[0m\u001b[0mflush\u001b[0m\u001b[0;34m(\u001b[0m\u001b[0;34m)\u001b[0m\u001b[0;34m\u001b[0m\u001b[0;34m\u001b[0m\u001b[0m\n\u001b[1;32m    272\u001b[0m                 raise RInterpreterError(code, str(exception),\n\u001b[0;32m--> 273\u001b[0;31m                                         warning_or_other_msg)\n\u001b[0m\u001b[1;32m    274\u001b[0m             \u001b[0mtext_output\u001b[0m \u001b[0;34m=\u001b[0m \u001b[0mself\u001b[0m\u001b[0;34m.\u001b[0m\u001b[0mflush\u001b[0m\u001b[0;34m(\u001b[0m\u001b[0;34m)\u001b[0m\u001b[0;34m\u001b[0m\u001b[0;34m\u001b[0m\u001b[0m\n\u001b[1;32m    275\u001b[0m             \u001b[0;32mreturn\u001b[0m \u001b[0mtext_output\u001b[0m\u001b[0;34m,\u001b[0m \u001b[0mvalue\u001b[0m\u001b[0;34m,\u001b[0m \u001b[0mvisible\u001b[0m\u001b[0;34m[\u001b[0m\u001b[0;36m0\u001b[0m\u001b[0;34m]\u001b[0m\u001b[0;34m\u001b[0m\u001b[0;34m\u001b[0m\u001b[0m\n",
            "\u001b[0;31mRInterpreterError\u001b[0m: Failed to parse and evaluate line '#VaRCA por posición\\nVaRCACont_fwtdc=matrix(0,1,m)\\nVaRCAfr1_fwtdc=matrix(0,1,m)\\nVaRCAfr2_fwtdc=matrix(0,1,m)\\nVaRCAfr3_fwtdc=matrix(0,1,m)\\nCVaRCACont_fwtdc=matrix(0,1,m)\\nCVaRCAfr1_fwtdc=matrix(0,1,m)\\nCVaRCAfr2_fwtdc=matrix(0,1,m)\\nCVaRCAfr3_fwtdc=matrix(0,1,m)\\nfor (i in (1:m))\\n{\\n  VaRCACont_fwtdc[i]=quantile(PG_fwtdc[,i],1-alpha,Ns)\\n  VaRCAfr1_fwtdc[i]=quantile(PGfr1_fwtdc[,i],1-alpha,Ns)\\n  VaRCAfr2_fwtdc[i]=quantile(PGfr2_fwtdc[,i],1-alpha,Ns)\\n  VaRCAfr3_fwtdc[i]=quantile(PGfr3_fwtdc[,i],1-alpha,Ns)\\n  CVaRCAfr1_fwtdc[i]= mean(merge(which(PGfr1_fwtdc[,i]<VaRCAfr1_fwtdc[i]),cbind(seq(1,Ns),PGfr1_fwtdc[,i]), by.x=1,by.y=1)[,2])\\n  CVaRCAfr2_fwtdc[i]= mean(merge(which(PGfr2_fwtdc[,i]<VaRCAfr2_fwtdc[i]),cbind(seq(1,Ns),PGfr2_fwtdc[,i]), by.x=1,by.y=1)[,2])\\n  CVaRCAfr3_fwtdc[i]= mean(merge(which(PGfr3_fwtdc[,i]<VaRCAfr3_fwtdc[i]),cbind(seq(1,Ns),PGfr3_fwtdc[,i]), by.x=1,by.y=1)[,2])\\n  CVaRCACont_fwtdc[i]= mean(merge(which(PG_fwtdc[,i]<VaRCACont_fwtdc[i]),cbind(seq(1,Ns),PG_fwtdc[,i]), by.x=1,by.y=1)[,2])\\n}\\n\\nVaRCACont_fwtdc\\nVaRCAfr1_fwtdc\\nVaRCAfr2_fwtdc\\nCVaRCACont_fwtdc\\nCVaRCAfr1_fwtdc\\nCVaRCAfr2_fwtdc\\n\\n\\n#VaRCA Total\\nVaRCATotal_fwtdc=quantile(PGT_fwtdc,1-alpha,Ns)\\nCVaRCATotal_fwtdc= mean(merge(which(PGT_fwtdc<VaRCATotal_fwtdc),cbind(seq(1,Ns),PGT_fwtdc), by.x=1,by.y=1)[,2])\\nVaRCATotalfr1_fwtdc=quantile(PGfr1T_fwtdc,1-alpha,Ns)\\nCVaRCATotalfr1_fwtdc= mean(PGfr1T_fwtdc[which(PGfr1T_fwtdc<Va...\nR error message: 'Error in PG_fwtdc[, i] : subscript out of bounds'"
          ]
        }
      ]
    },
    {
      "cell_type": "markdown",
      "metadata": {
        "id": "hRcZPNXk4vWG"
      },
      "source": [
        "#### Inciso 4: Forwards de indice"
      ]
    },
    {
      "cell_type": "code",
      "metadata": {
        "id": "YIIz3coU4y0l"
      },
      "source": [
        "%%R\n",
        "#VaRCA por posición\n",
        "VaRCACont_fwind=matrix(0,1,m)\n",
        "VaRCAfr1_fwind=matrix(0,1,m)\n",
        "VaRCAfr2_fwind=matrix(0,1,m)\n",
        "VaRCAfr3_fwind=matrix(0,1,m)\n",
        "CVaRCACont_fwind=matrix(0,1,m)\n",
        "CVaRCAfr1_fwind=matrix(0,1,m)\n",
        "CVaRCAfr2_fwind=matrix(0,1,m)\n",
        "CVaRCAfr3_fwind=matrix(0,1,m)\n",
        "for (i in (1:m))\n",
        "{\n",
        "  VaRCACont_fwind[i]=quantile(PG_fwind[,i],1-alpha,Ns)\n",
        "  VaRCAfr1_fwind[i]=quantile(PGfr1_fwind[,i],1-alpha,Ns)\n",
        "  VaRCAfr2_fwind[i]=quantile(PGfr2_fwind[,i],1-alpha,Ns)\n",
        "  VaRCAfr3_fwind[i]=quantile(PGfr3_fwind[,i],1-alpha,Ns)\n",
        "  CVaRCAfr1_fwind[i]= mean(merge(which(PGfr1_fwind[,i]<VaRCAfr1_fwind[i]),cbind(seq(1,Ns),PGfr1_fwind[,i]), by.x=1,by.y=1)[,2])\n",
        "  CVaRCAfr2_fwind[i]= mean(merge(which(PGfr2_fwind[,i]<VaRCAfr2_fwind[i]),cbind(seq(1,Ns),PGfr2_fwind[,i]), by.x=1,by.y=1)[,2])\n",
        "  CVaRCAfr3_fwind[i]= mean(merge(which(PGfr3_fwind[,i]<VaRCAfr3_fwind[i]),cbind(seq(1,Ns),PGfr3_fwind[,i]), by.x=1,by.y=1)[,2])\n",
        "  CVaRCACont_fwind[i]= mean(merge(which(PG_fwind[,i]<VaRCACont_fwind[i]),cbind(seq(1,Ns),PG_fwind[,i]), by.x=1,by.y=1)[,2])\n",
        "}\n",
        "VaRCACont_fwind\n",
        "VaRCAfr1_fwind\n",
        "VaRCAfr2_fwind\n",
        "CVaRCACont_fwind\n",
        "CVaRCAfr1_fwind\n",
        "CVaRCAfr2_fwind\n",
        "\n",
        "#VaRCA Total\n",
        "\n",
        "VaRCATotal_fwind=quantile(PGT_fwind,1-alpha,Ns)\n",
        "CVaRCATotal_fwind= mean(merge(which(PGT_fwind<VaRCATotal_fwind),cbind(seq(1,Ns),PGT_fwind), by.x=1,by.y=1)[,2])\n",
        "VaRCATotalfr1_fwind=quantile(PGfr1T_fwind,1-alpha,Ns)\n",
        "CVaRCATotalfr1_fwind= mean(PGfr1T_fwind[which(PGfr1T_fwind<VaRCATotalfr1_fwind),])\n",
        "VaRCATotalfr2_fwind=quantile(PGfr2T_fwind,1-alpha,Ns)\n",
        "CVaRCATotalfr2_fwind= mean(PGfr2T_fwind[which(PGfr2T_fwind<VaRCATotalfr2_fwind),])\n",
        "VaRCATotalfr3_fwind=quantile(PGfr3T_fwind,1-alpha,Ns)\n",
        "CVaRCATotalfr3_fwind= mean(PGfr3T_fwind[which(PGfr3T_fwind<VaRCATotalfr3_fwind),])\n",
        "\n",
        "print(cbind(VaRCATotal_fwind,sum(V0_fwind), VaRCACont_fwind, V0_fwind))\n",
        "print(cbind(CVaRCATotal_fwind,sum(V0_fwind), CVaRCACont_fwind, V0_fwind))\n",
        "print(cbind(VaRCATotal_fwind,VaRCATotalfr1_fwind,VaRCATotalfr2_fwind,VaRCATotalfr3_fwind))\n",
        "cbind(CVaRCATotal_fwind,CVaRCATotalfr1_fwind,CVaRCATotalfr2_fwind,CVaRCATotalfr3_fwind)\n"
      ],
      "execution_count": null,
      "outputs": []
    },
    {
      "cell_type": "markdown",
      "metadata": {
        "id": "e_hc4LuZ4zx1"
      },
      "source": [
        "#### Inciso 5: Swaps"
      ]
    },
    {
      "cell_type": "code",
      "metadata": {
        "id": "J5D9TXXI5MK0",
        "colab": {
          "base_uri": "https://localhost:8080/"
        },
        "outputId": "6159df7e-dfec-4673-c9a4-83dd3d3ad07e"
      },
      "source": [
        "%%R\n",
        "m=ncol(N)\n",
        "VaRCACont_sw=matrix(0,1,m)\n",
        "VaRCAfr1_sw=matrix(0,1,m)\n",
        "VaRCAfr2_sw=matrix(0,1,m)\n",
        "CVaRCACont_sw=matrix(0,1,m)\n",
        "CVaRCAfr1_sw=matrix(0,1,m)\n",
        "CVaRCAfr2_sw=matrix(0,1,m)\n",
        "for (i in (1:m))\n",
        "{\n",
        "  VaRCACont_sw[i]=wquantile(PG_sw[,i],p_esc,1-alpha)\n",
        "  VaRCAfr1_sw[i]=wquantile(PGfr1_sw[,i],p_esc, 1-alpha)\n",
        "  VaRCAfr2_sw[i]=wquantile(PGfr2_sw[,i],p_esc,1-alpha)\n",
        "  CVaRCAfr1_sw[i]= wcvar(PGfr1_sw[,i],p_esc, 1-alpha)\n",
        "  CVaRCAfr2_sw[i]= wcvar(PGfr2_sw[,i],p_esc,1-alpha)\n",
        "  CVaRCACont_sw[i]= wcvar(PG_sw[,i],p_esc,1-alpha)\n",
        "}\n",
        "\n",
        "#VaRCA Total\n",
        "\n",
        "VaRCATotal_sw=wquantile(PGT_sw,p_esc,1-alpha)\n",
        "CVaRCATotal_sw= wcvar(PGT_sw,p_esc,1-alpha)\n",
        "VaRCATotalfr1_sw=wquantile(PGfr1T_sw,p_esc,1-alpha)\n",
        "CVaRCATotalfr1_sw= wcvar(PGfr1T_sw,p_esc,1-alpha)\n",
        "VaRCATotalfr2_sw= wquantile(PGfr2T_sw,p_esc,1-alpha)\n",
        "CVaRCATotalfr2_sw= wcvar(PGfr2T_sw,p_esc,1-alpha)\n",
        "\n",
        "\n",
        "print(cbind(VaRCATotal_sw,sum(V0_sw), VaRCACont_sw, V0_sw))\n",
        "print(cbind(CVaRCATotal_sw,sum(V0_sw), CVaRCACont_sw, V0_sw))\n",
        "print(cbind(VaRCATotal_sw,VaRCATotalfr1_sw,VaRCATotalfr2_sw))\n",
        "print(cbind(CVaRCATotal_sw,CVaRCATotalfr1_sw,CVaRCATotalfr2_sw))"
      ],
      "execution_count": 147,
      "outputs": [
        {
          "output_type": "stream",
          "name": "stdout",
          "text": [
            "     VaRCATotal_sw                                                 \n",
            "[1,]     -0.749869 55.78493 -0.7503908 -0.197479 80.89586 -25.11093\n",
            "     CVaRCATotal_sw                                                  \n",
            "[1,]      -1.545568 55.78493 -0.8691471 -0.2884323 80.89586 -25.11093\n",
            "     VaRCATotal_sw VaRCATotalfr1_sw VaRCATotalfr2_sw\n",
            "[1,]     -0.749869       -0.7476169      -0.01611799\n",
            "     CVaRCATotal_sw CVaRCATotalfr1_sw CVaRCATotalfr2_sw\n",
            "[1,]      -1.545568         -1.477788       -0.02195599\n"
          ]
        }
      ]
    },
    {
      "cell_type": "markdown",
      "metadata": {
        "id": "DLRDqT4q5NVt"
      },
      "source": [
        "#### Inciso 6: Opciones"
      ]
    },
    {
      "cell_type": "code",
      "metadata": {
        "id": "eyHLWcHo5SHV"
      },
      "source": [
        "%%R"
      ],
      "execution_count": null,
      "outputs": []
    },
    {
      "cell_type": "markdown",
      "metadata": {
        "id": "6t563UyF8jp9"
      },
      "source": [
        "## Riesgo integral, sin alisado"
      ]
    },
    {
      "cell_type": "code",
      "metadata": {
        "id": "vy1wk00C8og3"
      },
      "source": [
        "%%R\n",
        "#Medición de riesgo por factor de riesgo de todo el portafolios\n",
        "#Acciones\n",
        "#1. Acciones \n",
        "PGPort_ACC=PGfr2T_acc_div + PGfr3T_fwind #Pérdidas y ganancias\n",
        "VaRPort_ACC=equantile(PGPort_ACC,1-alpha,Ns) #VaR\n",
        "CVaRPort_ACC= mean(PGPort_ACC[which(PGPort_ACC<VaRPort_ACC)]) #CVaR\n",
        "\n",
        "\n",
        "#Tasa de Interés\n",
        "#1. Dado que swaps y bondes son de tasa de interés usaremos PGT_bd y PGT_sw\n",
        "#2. Para futuros usaremos PGfr1T_fwtdc y PGfr2T_fwtdc\n",
        "PGPort_TI=PGT_bd+PGT_sw+PGfr1T_oir +PGfr2T_oir + PGfr1T_fwind +PGfr2T_fwind + PGfr1T_fwtdc + PGfr2T_fwtdc#Pérdidas y ganancias\n",
        "VaRPort_TI=equantile(PGPort_TI,1-alpha,Ns) #VaR\n",
        "CVaRPort_TI= mean(PGPort_TI[which(PGPort_TI<VaRPort_TI)]) #CVaR\n",
        "\n",
        "#Tipo de cambio\n",
        "#1. Dado que swaps y bondes son de tasa de interés no usamos nada\n",
        "#2. Para futuros usamos sólo PGfr3T_fwtdc\n",
        "PGPort_TDC=PGfr1T_acc_div + PGfr3T_fwtdc  #Pérdidas y ganancias\n",
        "VaRPort_TDC=equantile(PGPort_TDC,1-alpha,Ns) #VaR\n",
        "CVaRPort_TDC= mean(PGPort_TDC[which(PGPort_TDC<VaRPort_TDC)]) #CVaR\n",
        "\n",
        "#Volatilidad\n",
        "#1. Sólo aplica la volatilidad de Opciones de tasa de interés\n",
        "\n",
        "PGPort_VOL=PGfr3T_oir  #Pérdidas y ganancias\n",
        "VaRPort_VOL=equantile(PGPort_VOL,1-alpha,Ns) #VaR\n",
        "CVaRPort_VOL= mean(PGPort_VOL[which(PGPort_VOL<VaRPort_VOL)]) #CVaR\n",
        "\n",
        "\n",
        "#Medición de riesgo de todo el portafolios\n",
        "#Sumar todos los PGT de todos los instrumentos\n",
        "\n",
        "PGT_Port=PGPort_ACC+PGPort_TI+PGPort_TDC+PGPort_VOL\n",
        "VaRTotal_Port=equantile(PGT_Port,1-alpha,Ns) #VaR\n",
        "CVaRTotal_Port= mean(PGT_Port[which(PGT_Port<VaRTotal_Port)]) #CVaR"
      ],
      "execution_count": null,
      "outputs": []
    }
  ]
}