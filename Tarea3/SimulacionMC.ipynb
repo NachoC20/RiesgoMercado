{
  "cells": [
    {
      "cell_type": "markdown",
      "metadata": {
        "id": "view-in-github",
        "colab_type": "text"
      },
      "source": [
        "<a href=\"https://colab.research.google.com/github/NachoC20/RiesgoMercado/blob/main/Tarea3/SimulacionMC.ipynb\" target=\"_parent\"><img src=\"https://colab.research.google.com/assets/colab-badge.svg\" alt=\"Open In Colab\"/></a>"
      ]
    },
    {
      "cell_type": "code",
      "execution_count": null,
      "metadata": {
        "id": "a2DjS7m7_Mia",
        "colab": {
          "base_uri": "https://localhost:8080/"
        },
        "outputId": "7bb85f3d-763b-45fe-a739-33ba3a78e03f"
      },
      "outputs": [
        {
          "output_type": "stream",
          "name": "stdout",
          "text": [
            "The rpy2.ipython extension is already loaded. To reload it, use:\n",
            "  %reload_ext rpy2.ipython\n",
            "Cloning into 'RiesgosFinancieros'...\n",
            "remote: Enumerating objects: 738, done.\u001b[K\n",
            "remote: Counting objects: 100% (159/159), done.\u001b[K\n",
            "remote: Compressing objects: 100% (159/159), done.\u001b[K\n",
            "remote: Total 738 (delta 107), reused 0 (delta 0), pack-reused 579\u001b[K\n",
            "Receiving objects: 100% (738/738), 41.15 MiB | 25.44 MiB/s, done.\n",
            "Resolving deltas: 100% (486/486), done.\n"
          ]
        }
      ],
      "source": [
        "%load_ext rpy2.ipython\n",
        "!rm -rf RiesgosFinancieros\n",
        "!git clone \"https://github.com/pikey-msc/RiesgosFinancieros/\""
      ]
    },
    {
      "cell_type": "markdown",
      "metadata": {
        "id": "YF9hg5sOafOd"
      },
      "source": [
        "# Tarea 3"
      ]
    },
    {
      "cell_type": "code",
      "execution_count": null,
      "metadata": {
        "colab": {
          "base_uri": "https://localhost:8080/"
        },
        "id": "zZZQs5jkaZP-",
        "outputId": "9b20495c-184e-448d-929f-9f0401b04134"
      },
      "outputs": [
        {
          "output_type": "stream",
          "name": "stderr",
          "text": [
            "R[write to console]: Installing package into ‘/usr/local/lib/R/site-library’\n",
            "(as ‘lib’ is unspecified)\n",
            "\n",
            "R[write to console]: trying URL 'https://cran.rstudio.com/src/contrib/quantmod_0.4.18.tar.gz'\n",
            "\n",
            "R[write to console]: Content type 'application/x-gzip'\n",
            "R[write to console]:  length 154512 bytes (150 KB)\n",
            "\n",
            "R[write to console]: =\n",
            "R[write to console]: =\n",
            "R[write to console]: =\n",
            "R[write to console]: =\n",
            "R[write to console]: =\n",
            "R[write to console]: =\n",
            "R[write to console]: =\n",
            "R[write to console]: =\n",
            "R[write to console]: =\n",
            "R[write to console]: =\n",
            "R[write to console]: =\n",
            "R[write to console]: =\n",
            "R[write to console]: =\n",
            "R[write to console]: =\n",
            "R[write to console]: =\n",
            "R[write to console]: =\n",
            "R[write to console]: =\n",
            "R[write to console]: =\n",
            "R[write to console]: =\n",
            "R[write to console]: =\n",
            "R[write to console]: =\n",
            "R[write to console]: =\n",
            "R[write to console]: =\n",
            "R[write to console]: =\n",
            "R[write to console]: =\n",
            "R[write to console]: =\n",
            "R[write to console]: =\n",
            "R[write to console]: =\n",
            "R[write to console]: =\n",
            "R[write to console]: =\n",
            "R[write to console]: =\n",
            "R[write to console]: =\n",
            "R[write to console]: =\n",
            "R[write to console]: =\n",
            "R[write to console]: =\n",
            "R[write to console]: =\n",
            "R[write to console]: =\n",
            "R[write to console]: =\n",
            "R[write to console]: =\n",
            "R[write to console]: =\n",
            "R[write to console]: =\n",
            "R[write to console]: =\n",
            "R[write to console]: =\n",
            "R[write to console]: =\n",
            "R[write to console]: =\n",
            "R[write to console]: =\n",
            "R[write to console]: =\n",
            "R[write to console]: =\n",
            "R[write to console]: =\n",
            "R[write to console]: =\n",
            "R[write to console]: \n",
            "\n",
            "R[write to console]: downloaded 150 KB\n",
            "\n",
            "\n",
            "R[write to console]: \n",
            "\n",
            "R[write to console]: \n",
            "R[write to console]: The downloaded source packages are in\n",
            "\t‘/tmp/RtmpOHYXb8/downloaded_packages’\n",
            "R[write to console]: \n",
            "R[write to console]: \n",
            "\n",
            "R[write to console]: Installing package into ‘/usr/local/lib/R/site-library’\n",
            "(as ‘lib’ is unspecified)\n",
            "\n",
            "R[write to console]: trying URL 'https://cran.rstudio.com/src/contrib/data.table_1.14.2.tar.gz'\n",
            "\n",
            "R[write to console]: Content type 'application/x-gzip'\n",
            "R[write to console]:  length 5301817 bytes (5.1 MB)\n",
            "\n",
            "R[write to console]: =\n",
            "R[write to console]: =\n",
            "R[write to console]: =\n",
            "R[write to console]: =\n",
            "R[write to console]: =\n",
            "R[write to console]: =\n",
            "R[write to console]: =\n",
            "R[write to console]: =\n",
            "R[write to console]: =\n",
            "R[write to console]: =\n",
            "R[write to console]: =\n",
            "R[write to console]: =\n",
            "R[write to console]: =\n",
            "R[write to console]: =\n",
            "R[write to console]: =\n",
            "R[write to console]: =\n",
            "R[write to console]: =\n",
            "R[write to console]: =\n",
            "R[write to console]: =\n",
            "R[write to console]: =\n",
            "R[write to console]: =\n",
            "R[write to console]: =\n",
            "R[write to console]: =\n",
            "R[write to console]: =\n",
            "R[write to console]: =\n",
            "R[write to console]: =\n",
            "R[write to console]: =\n",
            "R[write to console]: =\n",
            "R[write to console]: =\n",
            "R[write to console]: =\n",
            "R[write to console]: =\n",
            "R[write to console]: =\n",
            "R[write to console]: =\n",
            "R[write to console]: =\n",
            "R[write to console]: =\n",
            "R[write to console]: =\n",
            "R[write to console]: =\n",
            "R[write to console]: =\n",
            "R[write to console]: =\n",
            "R[write to console]: =\n",
            "R[write to console]: =\n",
            "R[write to console]: =\n",
            "R[write to console]: =\n",
            "R[write to console]: =\n",
            "R[write to console]: =\n",
            "R[write to console]: =\n",
            "R[write to console]: =\n",
            "R[write to console]: =\n",
            "R[write to console]: =\n",
            "R[write to console]: =\n",
            "R[write to console]: \n",
            "\n",
            "R[write to console]: downloaded 5.1 MB\n",
            "\n",
            "\n",
            "R[write to console]: \n",
            "\n",
            "R[write to console]: \n",
            "R[write to console]: The downloaded source packages are in\n",
            "\t‘/tmp/RtmpOHYXb8/downloaded_packages’\n",
            "R[write to console]: \n",
            "R[write to console]: \n",
            "\n",
            "R[write to console]: Installing package into ‘/usr/local/lib/R/site-library’\n",
            "(as ‘lib’ is unspecified)\n",
            "\n",
            "R[write to console]: trying URL 'https://cran.rstudio.com/src/contrib/PerformanceAnalytics_2.0.4.tar.gz'\n",
            "\n",
            "R[write to console]: Content type 'application/x-gzip'\n",
            "R[write to console]:  length 2455098 bytes (2.3 MB)\n",
            "\n",
            "R[write to console]: =\n",
            "R[write to console]: =\n",
            "R[write to console]: =\n",
            "R[write to console]: =\n",
            "R[write to console]: =\n",
            "R[write to console]: =\n",
            "R[write to console]: =\n",
            "R[write to console]: =\n",
            "R[write to console]: =\n",
            "R[write to console]: =\n",
            "R[write to console]: =\n",
            "R[write to console]: =\n",
            "R[write to console]: =\n",
            "R[write to console]: =\n",
            "R[write to console]: =\n",
            "R[write to console]: =\n",
            "R[write to console]: =\n",
            "R[write to console]: =\n",
            "R[write to console]: =\n",
            "R[write to console]: =\n",
            "R[write to console]: =\n",
            "R[write to console]: =\n",
            "R[write to console]: =\n",
            "R[write to console]: =\n",
            "R[write to console]: =\n",
            "R[write to console]: =\n",
            "R[write to console]: =\n",
            "R[write to console]: =\n",
            "R[write to console]: =\n",
            "R[write to console]: =\n",
            "R[write to console]: =\n",
            "R[write to console]: =\n",
            "R[write to console]: =\n",
            "R[write to console]: =\n",
            "R[write to console]: =\n",
            "R[write to console]: =\n",
            "R[write to console]: =\n",
            "R[write to console]: =\n",
            "R[write to console]: =\n",
            "R[write to console]: =\n",
            "R[write to console]: =\n",
            "R[write to console]: =\n",
            "R[write to console]: =\n",
            "R[write to console]: =\n",
            "R[write to console]: =\n",
            "R[write to console]: =\n",
            "R[write to console]: =\n",
            "R[write to console]: =\n",
            "R[write to console]: =\n",
            "R[write to console]: =\n",
            "R[write to console]: \n",
            "\n",
            "R[write to console]: downloaded 2.3 MB\n",
            "\n",
            "\n",
            "R[write to console]: \n",
            "\n",
            "R[write to console]: \n",
            "R[write to console]: The downloaded source packages are in\n",
            "\t‘/tmp/RtmpOHYXb8/downloaded_packages’\n",
            "R[write to console]: \n",
            "R[write to console]: \n",
            "\n",
            "R[write to console]: Installing package into ‘/usr/local/lib/R/site-library’\n",
            "(as ‘lib’ is unspecified)\n",
            "\n",
            "R[write to console]: trying URL 'https://cran.rstudio.com/src/contrib/Deriv_4.1.3.tar.gz'\n",
            "\n",
            "R[write to console]: Content type 'application/x-gzip'\n",
            "R[write to console]:  length 37214 bytes (36 KB)\n",
            "\n",
            "R[write to console]: =\n",
            "R[write to console]: =\n",
            "R[write to console]: =\n",
            "R[write to console]: =\n",
            "R[write to console]: =\n",
            "R[write to console]: =\n",
            "R[write to console]: =\n",
            "R[write to console]: =\n",
            "R[write to console]: =\n",
            "R[write to console]: =\n",
            "R[write to console]: =\n",
            "R[write to console]: =\n",
            "R[write to console]: =\n",
            "R[write to console]: =\n",
            "R[write to console]: =\n",
            "R[write to console]: =\n",
            "R[write to console]: =\n",
            "R[write to console]: =\n",
            "R[write to console]: =\n",
            "R[write to console]: =\n",
            "R[write to console]: =\n",
            "R[write to console]: =\n",
            "R[write to console]: =\n",
            "R[write to console]: =\n",
            "R[write to console]: =\n",
            "R[write to console]: =\n",
            "R[write to console]: =\n",
            "R[write to console]: =\n",
            "R[write to console]: =\n",
            "R[write to console]: =\n",
            "R[write to console]: =\n",
            "R[write to console]: =\n",
            "R[write to console]: =\n",
            "R[write to console]: =\n",
            "R[write to console]: =\n",
            "R[write to console]: =\n",
            "R[write to console]: =\n",
            "R[write to console]: =\n",
            "R[write to console]: =\n",
            "R[write to console]: =\n",
            "R[write to console]: =\n",
            "R[write to console]: =\n",
            "R[write to console]: =\n",
            "R[write to console]: =\n",
            "R[write to console]: =\n",
            "R[write to console]: =\n",
            "R[write to console]: =\n",
            "R[write to console]: =\n",
            "R[write to console]: =\n",
            "R[write to console]: =\n",
            "R[write to console]: \n",
            "\n",
            "R[write to console]: downloaded 36 KB\n",
            "\n",
            "\n",
            "R[write to console]: \n",
            "\n",
            "R[write to console]: \n",
            "R[write to console]: The downloaded source packages are in\n",
            "\t‘/tmp/RtmpOHYXb8/downloaded_packages’\n",
            "R[write to console]: \n",
            "R[write to console]: \n",
            "\n"
          ]
        }
      ],
      "source": [
        "%%R\n",
        "#Instalamos los paquetes que necesitaremos.\n",
        "install.packages(\"quantmod\")\n",
        "install.packages(\"data.table\")\n",
        "install.packages(\"PerformanceAnalytics\")\n",
        "install.packages(\"Deriv\")\n",
        "\n",
        "#Cargamos librerias\n",
        "library(Deriv)\n",
        "library(quantmod)\n",
        "library(data.table)\n",
        "library(\"PerformanceAnalytics\")\n",
        "library(dplyr)\n",
        "\n",
        "con = gzcon(url('https://github.com/systematicinvestor/SIT/raw/master/sit.gz', 'rb'))\n",
        "source(con)\n",
        "close(con)\n"
      ]
    },
    {
      "cell_type": "code",
      "execution_count": null,
      "metadata": {
        "id": "OX-Swe-xak4w"
      },
      "outputs": [],
      "source": [
        "%%R\n",
        "## GENERAMOS LAS FUNCIONES QUE NECESITAREMOS:\n",
        "\n",
        "# Función de interpolación de tasas por el método alamabrada\n",
        "talamb=function(nodos,curva,plazos){\n",
        "  n=max(ncol(plazos),1)\n",
        "  m=max(ncol(nodos),1)\n",
        "  TC=matrix(0,1,n)\n",
        "  TL=matrix(0,1,n)\n",
        "  TF=matrix(0,1,n)\n",
        "  for (j in 1:n){\n",
        "    i=1\n",
        "    repeat\n",
        "    {\n",
        "      if(nodos[i]<= plazos[j] && plazos[j] <=nodos[i+1])\n",
        "      {\n",
        "        TC[j]=curva[i]\n",
        "        TL[j]=curva[i+1]\n",
        "        TF[j]=((((1+TL[j]*nodos[i+1]/360)/(1+TC[j]*nodos[i]/360))^((plazos[j]-nodos[i])/(nodos[i+1]-nodos[i]))*(1+TC[j]*nodos[i]/360))-1)*360/plazos[j]\n",
        "        break\n",
        "      }\n",
        "      else if (plazos[j]<nodos[1])\n",
        "      {\n",
        "        TC[j]=curva[1]\n",
        "        TL[j]=curva[1]\n",
        "        TF[j]=curva[1]\n",
        "        break\n",
        "      }\n",
        "      else if (plazos[j]>nodos[m])\n",
        "      {\n",
        "        TC[j]=curva[m]\n",
        "        TL[j]=curva[m]\n",
        "        TF[j]=curva[m]\n",
        "        break\n",
        "      }\n",
        "      else\n",
        "      {i=i+1}\n",
        "    }\n",
        "  }\n",
        "  as.matrix(t(as.numeric(rbind(TF))))\n",
        "}\n",
        "\n",
        "# Función para diagonalizar un vector\n",
        "diagv=function(x)\t{\n",
        "  n01=nrow(as.matrix(x))\n",
        "  m01=ncol(as.matrix(x))\n",
        "  dimmax=max(n01,m01)\n",
        "  res=matrix(0,dimmax,dimmax)\n",
        "  for (i in 1:dimmax){\n",
        "    res[i,i]=x[i]\n",
        "  }\n",
        "  res\n",
        "}\n",
        "\n",
        "#Función de cuantil más cercano\n",
        "equantile <- function(v,p=.5,ns=nrow(as.matrix(v))) \n",
        "{ \n",
        "  if ( !is.numeric(p) || any( p<0 | p>1) ) \n",
        "    stop(\"Percentil tiene que ser 0<=p<=1\") \n",
        "  ranking <- order(v) \n",
        "  vw=matrix(0,ns,1)\n",
        "  vw[1:ns]=seq(1/ns,ns)  \n",
        "  sumw <- cumsum(vw[ranking]) \n",
        "  plist <- sumw / sumw[ length(sumw) ] \n",
        "  v [ ranking [ which.max( plist >= p ) ] ]  \n",
        "} "
      ]
    },
    {
      "cell_type": "code",
      "execution_count": null,
      "metadata": {
        "id": "xL95WskZax-R"
      },
      "outputs": [],
      "source": [
        "%%R\n",
        "#VaR con alisado\n",
        "\n",
        "wquantile <- function(v,w=rep(1,length(v)),p=.5) \n",
        "{ \n",
        "  if ( !is.numeric(w) || length(v) != length(w) ) \n",
        "    stop(\"Los valores y los pesos tienen que tener misma longitud\") \n",
        "  if ( !is.numeric(p) || any( p<0 | p>1) ) \n",
        "    stop(\"Percentil tiene que ser 0<=p<=1\") \n",
        "  if ( min(w) < 0 ) stop(\"Los pesos tiene que ser mayores que 0\") \n",
        "  ranking <- order(v) \n",
        "  sumw <- cumsum(w[ranking]) \n",
        "  plist <- sumw / sumw[ length(sumw) ] \n",
        "  v [ ranking [ which.max( plist >= p ) ] ]  \n",
        "} \n",
        "\n",
        "#CVaR con alisado\n",
        "wcvar <- function(v,w=rep(1,length(v)),p=.5) \n",
        "{ \n",
        "  if ( !is.numeric(w) || length(v) != length(w) ) \n",
        "    stop(\"Los valores y los pesos tienen que tener misma longitud\") \n",
        "  if ( !is.numeric(p) || any( p<0 | p>1) ) \n",
        "    stop(\"Percentil tiene que ser 0<=p<=1\") \n",
        "  if ( min(w) < 0 ) stop(\"Los pesos tiene que ser mayores que 0\") \n",
        "  ranking <- order(v) \n",
        "  sumw <- cumsum(w[ranking]) \n",
        "  plist <- sumw / sumw[ length(sumw) ] \n",
        "  loss= v [ ranking [ which( plist <= p ) ] ]  \n",
        "  esc=w [ ranking [ which( plist <= p ) ] ]  \n",
        "  sum(loss*esc)/(sum(esc))\n",
        "} "
      ]
    },
    {
      "cell_type": "markdown",
      "metadata": {
        "id": "pUnxfbtGa3gz"
      },
      "source": [
        "## **Definición de parámetros para valorar**"
      ]
    },
    {
      "cell_type": "code",
      "execution_count": null,
      "metadata": {
        "id": "5YXSCZ5Aa8mP"
      },
      "outputs": [],
      "source": [
        "%%R\n",
        "fval=as.Date(\"20211015\",format=\"%Y%m%d\") #Fecha de valoración"
      ]
    },
    {
      "cell_type": "code",
      "execution_count": null,
      "metadata": {
        "id": "Y7c1MJz_bAR8"
      },
      "outputs": [],
      "source": [
        "%%R\n",
        "alpha = 0.98 #@param {type:\"slider\", min:0, max:1, step:0.01}"
      ]
    },
    {
      "cell_type": "code",
      "execution_count": null,
      "metadata": {
        "id": "M-EK780MbD5C"
      },
      "outputs": [],
      "source": [
        "%%R\n",
        "#poner 0 si se quiere interpolación lineal o 1 si se quiere tasa alambrada\n",
        "itpl = 0 #@param [\"0\", \"1\"] {type:\"raw\"} "
      ]
    },
    {
      "cell_type": "code",
      "execution_count": null,
      "metadata": {
        "id": "A1M3aEbXVqxk"
      },
      "outputs": [],
      "source": [
        "%%R\n",
        "set.seed(5785)"
      ]
    },
    {
      "cell_type": "markdown",
      "metadata": {
        "id": "quWsKRfFbHen"
      },
      "source": [
        "### Inciso 1\n",
        "1000 acciones de GCarso, -5000 de AméricaMóvil y 1200 WalMart. *Todas de la BMV*"
      ]
    },
    {
      "cell_type": "code",
      "execution_count": null,
      "metadata": {
        "id": "OD4D__mcbMhr"
      },
      "outputs": [],
      "source": [
        "%%R\n",
        "Symbols<-c  (\"AMXL.MX\", \"GCARSOA1.MX\", \"WALMEX.MX\" )#Claves de cotización de las emisoras, en orden alfabético\n",
        "pos_eq=c(-5000,1000,1200) #Monto inicial invertido en acciones\n",
        "nh=3660 #Días de historia"
      ]
    },
    {
      "cell_type": "markdown",
      "metadata": {
        "id": "KeznTA0zbQRo"
      },
      "source": [
        "### Inciso 2\n",
        "1500 dólares (peso dólar), 700 euros, y -600 libras esterlinas."
      ]
    },
    {
      "cell_type": "code",
      "execution_count": null,
      "metadata": {
        "id": "xHeyiphLbVx9"
      },
      "outputs": [],
      "source": [
        "%%R\n",
        "SymbolsFX<-c(\"EURUSD=X\",\"GBPUSD=X\",\"USDMXN=X\" ) #Simbolos en orden alfabetico\n",
        "pos_fx=c(700,-600,1500) #Monto incial invertido en divisas\n",
        "nh=3660 #días de historia"
      ]
    },
    {
      "cell_type": "markdown",
      "metadata": {
        "id": "P6jqXMvIbZb4"
      },
      "source": [
        "### Inciso 3\n",
        "2 bonos largos, uno cupón cero de cetes (con la curva guber) con nocional de 1500 vencimiento de 180 días, un bono M con tasa fija de 4.5% con un cupon de 4.05% anual vencimiento de 3600 días y un bono corto 1000 bondes con plazo 707 con cupón que paga 28 días (calcular cupón basado en curva de fondeo y descontar con la curva correspondiente). "
      ]
    },
    {
      "cell_type": "code",
      "execution_count": null,
      "metadata": {
        "id": "w5iX74rYbdFI"
      },
      "outputs": [],
      "source": [
        "%%R\n",
        "\n",
        "#CETES\n",
        "base=\"RiesgosFinancieros/2022-1/Tarea/tasa_guber.txt\"\n",
        "# plazos_bcc = cbind(180, 0)\n",
        "# contratos_bcc = cbind(1500, 0)\n",
        "plazos_bcc = cbind(180)\n",
        "contratos_bcc = cbind(1500)\n",
        "nominal_bcc = 10\n",
        "\n",
        "\n",
        "#BONO M CON TASA FIJA\n",
        "btasadesc=\"RiesgosFinancieros/2022-1/Tarea/tasa_yield.txt\"\n",
        "# tf = cbind(0.045,0)\n",
        "# tfcupon_bm = cbind(0.0405, 0)\n",
        "# plazos_bm = cbind(3600, 0)\n",
        "# plazocupon_bm = cbind(182, 0)\n",
        "# contratos_bm = cbind(1000, 0)\n",
        "\n",
        "tf = cbind(0.045)\n",
        "tfcupon_bm = cbind(0.0405)\n",
        "plazos_bm = cbind(3600)\n",
        "plazocupon_bm = cbind(182)\n",
        "contratos_bm = cbind(1000)\n",
        "nominal_bm = 100\n",
        "\n",
        "#BONDES D\n",
        "btasadescst=\"RiesgosFinancieros/2022-1/Tarea/tasa_guber_st.txt\"\n",
        "btasafondeo=\"RiesgosFinancieros/2022-1/Tarea/tfondeo.txt\"\n",
        "plazos_bdm= cbind(707, 707) #Vencimiento del bono\n",
        "plazocupon_bdm= cbind(28, 28) #plazos_bdm fijos de cada cupón\n",
        "contratos_bdm = cbind(-1000, 0)\n",
        "\n",
        "# plazos_bdm= cbind(707) #Vencimiento del bono\n",
        "# plazocupon_bdm= cbind(28) #plazos_bdm fijos de cada cupón\n",
        "# contratos_bdm = cbind(-1000)\n",
        "nominal_bdm=100"
      ]
    },
    {
      "cell_type": "markdown",
      "metadata": {
        "id": "s106nu2Kbisj"
      },
      "source": [
        "###Inciso 4\n",
        "100 contratos de compra de futuros de peso dólar con un strike de 20.83 vencimiento de 5 días, y 50 contratos\n",
        "de venta de futuros del IPC con strike de 49525 vencimiento de 53 días."
      ]
    },
    {
      "cell_type": "code",
      "execution_count": null,
      "metadata": {
        "id": "Sq9TsyoPbl3i"
      },
      "outputs": [],
      "source": [
        "%%R\n",
        "#FORWARDS TDC\n",
        "bext=\"RiesgosFinancieros/2022-1/Tarea/tasa_libor.txt\"\n",
        "bdom=\"RiesgosFinancieros/2022-1/Tarea/tasa_fwd.txt\"\n",
        "SymbolsFX_ftdc<-c(\"USDMXN=X\", \"GBPUSD=X\" ) #tienen que ir en orden alfabético\n",
        "# plazos_fwd=cbind(5,5)\n",
        "# contratos_fwd=cbind(100,0)\n",
        "# kst_fwd=cbind(20.83,20.83)\n",
        "\n",
        "plazos_fwd=cbind(5)\n",
        "contratos_fwd=cbind(100)\n",
        "kst_fwd=cbind(20.83)\n",
        "nominal_fwd=1\n",
        "yext=1 #si se carga información de yahoo en la fecha definida por fval o SymbolsFX, en caso contrario se utiliza información que se tendrá que cargar de tasas_spot.txt\n",
        "trlib=1 #1 si la curva libor viene a 182 0 si no.\n",
        "\n",
        "#FORWARDS DE IPC\n",
        "#Descontamos con gubernamental\n",
        "base=\"RiesgosFinancieros/2022-1/Tarea/tasa_guber.txt\"\n",
        "SymbolsEQ_find<-c(\"^MXX\", \"GCARSOA1.MX\" ) #tienen que ir en orden alfabético\n",
        "# plazos_fwd_ind=cbind(53,53)\n",
        "# contratos_fwd_ind=cbind(50,0)\n",
        "# kst_fwd_ind=cbind(49525,49525)\n",
        "\n",
        "plazos_fwd_ind=cbind(53)\n",
        "contratos_fwd_ind=cbind(50)\n",
        "kst_fwd_ind=cbind(49525)\n",
        "nominal_fwd_ind=1"
      ]
    },
    {
      "cell_type": "markdown",
      "metadata": {
        "id": "P5Z182t1bqSg"
      },
      "source": [
        "### Inciso 5\n",
        "\n",
        "Un swap largo nocional de 1600 pagando tasa fija de 4.6% anual (cada 28 días) y recibiendo tasa flotante de la curva TIIE vencimiento de 588 días, un swap corto con nocional de 1200 pagando tasa variable de la TIIE y recibiendo fija de 4.9% vencimiento de 270."
      ]
    },
    {
      "cell_type": "code",
      "execution_count": null,
      "metadata": {
        "id": "4b6MAsc9bt-0"
      },
      "outputs": [],
      "source": [
        "%%R\n",
        "btasadesc_sw=\"RiesgosFinancieros/2022-1/Tarea/tasa_TIIE_SW_OP.txt\"\n",
        "btasacupvar_sw=\"RiesgosFinancieros/2022-1/Tarea/tasa_DIRS_SW_OP.txt\"\n",
        "tasafija_sw=cbind(0.046,0.049) #se establece la tasa fija a pagar para cada swap\n",
        "plazos_sw=cbind(588,270) #se establece el número de días que vivirá el swap\n",
        "plazocupon_sw=cbind(28,28) #se establece el número de días que se pagará cada cupón\n",
        "contratos_sw=cbind(1600,-1200) #se establece el número de contratos_sw de cada swap\n",
        "nominal_sw=cbind(1, 1) #se establece el nominal_sw de cada swap\n",
        "por_sw=cbind(0,1) #se establece 0 si se paga tasa fija y 1 si se paga tasa variable"
      ]
    },
    {
      "cell_type": "markdown",
      "metadata": {
        "id": "li4reWgTbxwA"
      },
      "source": [
        "### Inciso 6\n",
        "Dos opciones europeas, una de tasa de interés larga call con strike de 5.8 % vencimiento de 1700 días 1000\n",
        "contratos, y otra put larga de tasa de interés con strike de 6.0 % de la tiie nocional de 500 contratos vencimiento\n",
        "700 días. (se valuará basado en las superficies de volatilidad si es in o out the money y en las curvas de tasa de interés TIIE o Pagarés)."
      ]
    },
    {
      "cell_type": "code",
      "execution_count": null,
      "metadata": {
        "id": "nxZZlEMob2vo"
      },
      "outputs": [],
      "source": [
        "%%R\n",
        "btasadesc_oir=\"RiesgosFinancieros/2022-1/Tarea/tasa_TIIE_SW_OP.txt\" #Tasa de descuento\n",
        "btasaspot_oir=\"RiesgosFinancieros/2022-1/Tarea/tasa_DIRS_SW_OP.txt\" #Tasa Spot\n",
        "bvolspot_oir=\"RiesgosFinancieros/2022-1/Tarea/tvoltiie_opc.txt\" #Volatilidad\n",
        "plazos_oir=cbind( 1700, 700) #T-t\n",
        "pr_oir=28 #plazo de referencia  \n",
        "dct_oir=360 #d_base\n",
        "cp_oir=cbind(1,0) #si es call (cap) o put (floor) \n",
        "K_oir=cbind( 0.058,0.06) #Strike\n",
        "contratos_oir=cbind(1000,500)\n",
        "nominal_oir=1\n",
        "cs_oir=1 #1 si es continua la tasa 0 si es simple"
      ]
    },
    {
      "cell_type": "markdown",
      "metadata": {
        "id": "Y4nVDmF0b7gn"
      },
      "source": [
        "## **Carga de datos**"
      ]
    },
    {
      "cell_type": "markdown",
      "metadata": {
        "id": "Vx4v3M7hb_-6"
      },
      "source": [
        "### Inciso 1"
      ]
    },
    {
      "cell_type": "code",
      "execution_count": null,
      "metadata": {
        "id": "VLYt1icYcby_"
      },
      "outputs": [],
      "source": [
        "%%R\n",
        "start_date=Sys.Date()-nh #fecha inicial\n",
        "dataEnv<-new.env()\n",
        "getSymbols.yahoo(Symbols,env=dataEnv,from=start_date)\n",
        "\n",
        "bt.prep(dataEnv,align='remove.na',fill.gaps = T)\n",
        "stock_prices = dataEnv$prices"
      ]
    },
    {
      "cell_type": "markdown",
      "metadata": {
        "id": "HYxfxygecfm6"
      },
      "source": [
        "###Inciso 2"
      ]
    },
    {
      "cell_type": "code",
      "execution_count": null,
      "metadata": {
        "id": "Ts7GMM5UcqBk"
      },
      "outputs": [],
      "source": [
        "%%R\n",
        "  start_date=Sys.Date()-nh #fecha inicial\n",
        "  dataEnvFX<-new.env() #Creamos donde guardar los datos\n",
        "  getSymbols.yahoo(SymbolsFX,env=dataEnvFX,from=start_date) #Obtenemos los datps\n",
        "  bt.prep(dataEnvFX,align='remove.na',fill.gaps=T) #Limpieza de datos\n",
        "  stock_pricesFX = dataEnvFX$prices #Nos da el precio\n",
        "\n",
        "  stock_pricesFX=cbind(stock_pricesFX[,1,with=F]*stock_pricesFX[,3,with=F],stock_pricesFX[,2,with=F]*stock_pricesFX[,3,with=F],stock_pricesFX[,3,with=F])\n",
        "stock_prices_EQFX=merge(stock_pricesFX,stock_prices,join = \"inner\")\n",
        "\n",
        "aux2=data.table(Date=as.Date(index(stock_prices_EQFX)),coredata(stock_prices_EQFX))\n"
      ]
    },
    {
      "cell_type": "markdown",
      "metadata": {
        "id": "a0zmHY8CcueV"
      },
      "source": [
        "###Inciso 3"
      ]
    },
    {
      "cell_type": "code",
      "execution_count": null,
      "metadata": {
        "colab": {
          "base_uri": "https://localhost:8080/"
        },
        "id": "nVrdYFIdcu8T",
        "outputId": "be17f8d7-f888-4c3c-fb0f-4e50052ea6c9"
      },
      "outputs": [
        {
          "output_type": "stream",
          "name": "stdout",
          "text": [
            "          V1         V2         V3         V4\n",
            "2 2021-10-15 0.04850092 0.04790516 0.04729400\n",
            "3 2021-10-14 0.04737299 0.04790516 0.04729400\n",
            "4 2021-10-13 0.04737299 0.04790516 0.04751145\n",
            "5 2021-10-12 0.04793244 0.04790516 0.04751145\n",
            "6 2021-10-11 0.04737299 0.04790516 0.04751145\n",
            "7 2021-10-08 0.04737299 0.04786294 0.04751145\n"
          ]
        }
      ],
      "source": [
        "%%R\n",
        "\n",
        "# CETES\n",
        "data_cetes<-read.table(base)\n",
        "n_gov<-nrow(data_cetes)\n",
        "m_gov=ncol(data_cetes)\n",
        "x_orig_gov=data.frame(data_cetes[2:n_gov,1:m_gov])\n",
        "x_orig_gov=as.data.table(mutate(data_cetes[2:n_gov,1:m_gov],Date=as.Date(V1,format=\"%Y%m%d\")))\n",
        "x_orig_gov=x_orig_gov%>%select(-V1)\n",
        "nodos_gov=data.frame(data_cetes[1,2:m_gov])\n",
        "\n",
        "# BONO M\n",
        "data_m<-read.table(btasadesc)\n",
        "n_bonom<-nrow(data_m)\n",
        "m_bonom=ncol(data_m)\n",
        "x_orig_bonom=data.frame(data_m[2:n_bonom,1:m_bonom])\n",
        "x_orig_bonom=as.data.table(mutate(data_m[2:n_bonom,1:m_bonom],Date=as.Date(V1,format=\"%Y%m%d\")))\n",
        "x_orig_bonom=x_orig_bonom%>%select(-V1)\n",
        "nodos_bonom=data.frame(data_m[1,2:m_bonom])\n",
        "\n",
        "\n",
        "# BONDE D\n",
        "\n",
        "data1<-read.table(base)\n",
        "n<-nrow(data1)\n",
        "m_bd=ncol(data1)\n",
        "X_orig_bd=as.data.table(mutate(data1[2:n,1:m_bd],Date=as.Date(V1,format=\"%Y%m%d\")))\n",
        "X_orig_bd%>%select(-V1)\n",
        "\n",
        "X1_orig=mutate(data.frame(data1[2:n,1:m_bd]), V1=as.Date(V1,format=\"%Y%m%d\"))\n",
        "print(head(X1_orig[,1:4]))\n",
        "nodos=data.frame(data1[1,2:m_bd])\n",
        "n=n-1\n",
        "\n",
        "data3<-read.table(btasadescst)\n",
        "n3<-nrow(data3)\n",
        "m3_bd=ncol(data3)\n",
        "X3_orig_bd=as.data.table(mutate(data3[2:n,1:m3_bd],Date=as.Date(V1,format=\"%Y%m%d\")))\n",
        "X3_orig_bd=X3_orig_bd%>%select(-V1)\n",
        "\n",
        "X3a_orig=mutate(data.frame(data1[2:n,1:m_bd]), V1=as.Date(V1,format=\"%Y%m%d\"))\n",
        "nodos3_bd=data.frame(data3[1,2:m3_bd])\n",
        "n3=n3-1\n",
        "\n",
        "data2<-read.table(btasafondeo)\n",
        "n2<-nrow(data2)\n",
        "X2_orig_bd=data.frame(data2[2:n2,1:2])\n",
        "\n",
        "X2_orig_bd=mutate(X2_orig_bd, V1=as.Date(V1,format=\"%Y%m%d\"), Date=as.Date(V1,format=\"%Y%m%d\"), V2=as.numeric(as.character(V2)))\n",
        "tfh=seq(min(X2_orig_bd$V1), max(X2_orig_bd$V1), \"days\") #sucesión de dias para tasa fondeo\n",
        "tfhd=data.frame(ID=1:count(tfh),fecha=tfh)\n",
        "\n",
        "#Cruzar la sucesión de todos los días versus el de tasa de fondeo\n",
        "tfhd=setDT(tfhd)[, Date := tfh][order(-Date)]\n",
        "X2_orig_bd=setDT(X2_orig_bd)[, Date := V1][order(-Date)]\n",
        "# rolling join unión por rolling, rellena las fechas que faltaban con el último valor conocido \"roll=Inf\"\n",
        "X2_orig_bd=X2_orig_bd[tfhd, on = .(Date), roll = Inf] \n",
        "\n",
        "#buscar fecha de valuación en tfondeo\n",
        "tf_act=X2_orig_bd[fecha==fval,]$V2/100\n",
        "tf_int=X2_orig_bd[fecha<=fval & fecha>=(fval-plazocupon_bdm[1])]$V2/100\n",
        "\n",
        "X1_orig=setDT(X1_orig)[, Date:= V1][order(-Date)] #Para alinear con valor presente y tasa de fondeo.\n"
      ]
    },
    {
      "cell_type": "markdown",
      "metadata": {
        "id": "HHcqq_shcvmz"
      },
      "source": [
        "###Inciso 4"
      ]
    },
    {
      "cell_type": "code",
      "execution_count": null,
      "metadata": {
        "id": "3sz1misScwAb"
      },
      "outputs": [],
      "source": [
        "%%R\n",
        "#CARGA DE DATOS DE  FORWARDS DE TDC\n",
        "#datas\n",
        "#data<-read.table(\"tasa_tiie.txt\")\n",
        "data1<-read.table(bext)\n",
        "data2<-read.table(bdom)\n",
        "\n",
        "########minimos para parametrizar\n",
        "n1=nrow(data1)\n",
        "n2=nrow(data2)\n",
        "m1_ftdc=ncol(data1)\n",
        "m2_ftdc=ncol(data2)\n",
        "n=min(n1,n2)-1\n",
        "###NODOS###\n",
        "nodos1_ftdc=data.frame(data1[1,2:m1_ftdc])\n",
        "nodos2_ftdc=data.frame(data2[1,2:m2_ftdc])\n",
        "####MATRICES DEL MISMO TAMAÑO MENOS DOLAR\n",
        "\n",
        "x1_ftdc=as.data.table(mutate(data1[2:n,1:m1_ftdc],Date=as.Date(V1,format=\"%Y%m%d\")))\n",
        "\n",
        "x1_ftdc=x1_ftdc%>%select(-V1)\n",
        "x2_ftdc=as.data.table(mutate(data2[2:n,1:m2_ftdc],Date=as.Date(V1,format=\"%Y%m%d\")))\n",
        "x2_ftdc=x2_ftdc%>%select(-V1)\n",
        "\n",
        "\n",
        "###Para Dolar\n",
        "\n",
        "if (yext==1)\n",
        "{\n",
        "#Cargar los símbolos de yahoo finance para FX\n",
        "  start_date=fval-3660 #fecha inicial\n",
        "\n",
        "\n",
        "  \n",
        "#Creación del objeto para guardar los datos\n",
        "  dataEnvFX_ftdc<-new.env()\n",
        "  \n",
        "#obtener los datos\n",
        "  getSymbols.yahoo(SymbolsFX_ftdc,env=dataEnvFX_ftdc,from=start_date, to=(fval))\n",
        "#limpiarlos, alinearnos y quedarnos con el precio de cierre \n",
        "  bt.prep(dataEnvFX_ftdc,align='remove.na',fill.gaps=T)\n",
        "  \n",
        "#muestra de datos\n",
        "  head(dataEnvFX_ftdc$prices[,2])\n",
        "  \n",
        "#Nos quedamos con los precios\n",
        "  X3_ftdc=data.table(Date=as.Date(index(dataEnvFX_ftdc$prices[,2])),coredata(dataEnvFX_ftdc$prices[,2]))\n",
        "} else  \n",
        "{ \n",
        "data3<-read.table(btsp)\n",
        "n3<-nrow(data3)\n",
        "m3<-ncol(data3)\n",
        "X3=data.table(as.matrix(as.double(as.matrix(data3[2:(n+1),m3]))))\n",
        "X3_find=as.data.table(mutate(data3[2:(n+1),1:m3],Date=as.Date(V1,format=\"%Y%m%d\")))\n",
        "}\n",
        "\n",
        "\n",
        "# CARGA DE DATOS DE  FORWARD DE IPC\n",
        "\n",
        "data<-read.table(base)\n",
        "n<-nrow(data)\n",
        "m_gov=ncol(data)\n",
        "#x_orig_gov=data.frame(data[2:n,1:m_gov])\n",
        "x_orig_gov=as.data.table(mutate(data[2:n,1:m_gov],Date=as.Date(V1,format=\"%Y%m%d\")))\n",
        "x_orig_gov=x_orig_gov%>%select(-V1)\n",
        "nodos_gov=data.frame(data[1,2:m_gov])\n",
        "\n",
        "  #Cargar los símbolos de yahoo finance para EQ\n",
        "  start_date=fval-nh #fecha inicial\n",
        "  \n",
        "  #Creación del objeto para guardar los datos\n",
        "  dataEnvEQ<-new.env()\n",
        "  \n",
        "  #obtener los datos\n",
        "  getSymbols.yahoo(SymbolsEQ_find,env=dataEnvEQ,from=start_date, to=(fval))\n",
        "  #limpiarlos, alinearnos y quedarnos con el precio de cierre \n",
        "  bt.prep(dataEnvEQ,align='remove.na',fill.gaps=T)\n",
        "  \n",
        "  #muestra de datos\n",
        "#  head(dataEnvEQ$prices)\n",
        "  \n",
        "  #Nos quedamos con los precios\n",
        "  X3_find=data.table(Date=as.Date(index(dataEnvEQ$prices[,2])),coredata(dataEnvEQ$prices[,2]))"
      ]
    },
    {
      "cell_type": "markdown",
      "metadata": {
        "id": "xG2W58trcwe-"
      },
      "source": [
        "###Inciso 5"
      ]
    },
    {
      "cell_type": "code",
      "execution_count": null,
      "metadata": {
        "id": "voIQUqkUcxHL"
      },
      "outputs": [],
      "source": [
        "%%R\n",
        "data1<-read.table(btasadesc_sw)\n",
        "n1<-nrow(data1)\n",
        "m1_orig_sw=ncol(data1)\n",
        "X1_orig_sw=data.table(mutate(data1[2:n1,1:m1_orig_sw],Date=as.Date(V1,format=\"%Y%m%d\")))\n",
        "X1_orig_sw=X1_orig_sw%>%select(-V1)\n",
        "nodos1_sw=data.frame(data1[1,2:m1_orig_sw])\n",
        "  \n",
        "data2<-read.table(btasacupvar_sw)\n",
        "n2<-nrow(data2)\n",
        "m2_orig_sw=ncol(data2)\n",
        "X2_orig_sw=data.table(mutate(data2[2:n1,1:m1_orig_sw],Date=as.Date(V1,format=\"%Y%m%d\")))\n",
        "X2_orig_sw=X2_orig_sw%>%select(-V1)\n",
        "nodos2_sw=data.frame(data2[1,2:m2_orig_sw])"
      ]
    },
    {
      "cell_type": "markdown",
      "metadata": {
        "id": "mQNUYMe8c2-P"
      },
      "source": [
        "###Inciso 6"
      ]
    },
    {
      "cell_type": "code",
      "execution_count": null,
      "metadata": {
        "id": "0XIOru6ndQ1g"
      },
      "outputs": [],
      "source": [
        "%%R\n",
        "  #carga de rho\t\n",
        "  data1<-read.table(btasadesc_oir) \n",
        "  n<-nrow(data1)\n",
        "  m1_orig_oir=ncol(data1)\n",
        "  x1_orig_oir=data.table(mutate(data1[2:n,1:m1_orig_oir],Date=as.Date(V1,format=\"%Y%m%d\")))\n",
        "  x1_orig_oir=x1_orig_oir%>%select(-V1)\n",
        "  nodos1_oir=data.frame(data1[1,2:m1_orig_oir])\n",
        "  \n",
        "  #data1[1:3,]\n",
        "  #carga de tasas spot\n",
        "  data2<-read.table(btasaspot_oir)\n",
        "  n<-nrow(data2)\n",
        "  m2_orig_oir=ncol(data2)\n",
        "  x2_orig_oir=data.table(mutate(data2[2:n,1:m2_orig_oir],Date=as.Date(V1,format=\"%Y%m%d\")))\n",
        "  x2_orig_oir=x2_orig_oir%>%select(-V1)\n",
        "  nodos2_oir=data.frame(data2[1,2:m2_orig_oir])\n",
        "  #carga de volatilidades de spot\n",
        "  data3<-read.table(bvolspot_oir)\n",
        "  n<-nrow(data3)\n",
        "  m3_orig_oir=ncol(data3)\n",
        "  x3_orig_oir=data.table(mutate(data3[2:n,1:m3_orig_oir],Date=as.Date(V1,format=\"%Y%m%d\")))\n",
        "  x3_orig_oir=x3_orig_oir%>%select(-V1)\n",
        "  \n",
        "  nodos3_oir=data.frame(data3[1,2:m3_orig_oir])"
      ]
    },
    {
      "cell_type": "markdown",
      "metadata": {
        "id": "Ji8Uq3EzdU-m"
      },
      "source": [
        "##**Integración de Insumos**"
      ]
    },
    {
      "cell_type": "markdown",
      "metadata": {
        "id": "pCEHhalpdZIp"
      },
      "source": [
        "### Cruce de tablas"
      ]
    },
    {
      "cell_type": "code",
      "execution_count": null,
      "metadata": {
        "colab": {
          "base_uri": "https://localhost:8080/"
        },
        "id": "0_yicFZrdcTz",
        "outputId": "bdde6b28-b7ab-4be7-9552-5f0c3b1741ce"
      },
      "outputs": [
        {
          "output_type": "stream",
          "name": "stdout",
          "text": [
            "[1] 253\n"
          ]
        }
      ],
      "source": [
        "%%R\n",
        "#INTERSECCIÓN DE FECHAS DE TODOS LOS INSUMOS    \n",
        "  \n",
        "\n",
        "lin_gub=data.table(Date=as.Date(aux2[x_orig_gov,on=.(Date),nomatch=0]$Date)) #Fechas acciones, equity, guber, yield\n",
        "\n",
        "#lin_gub_aux=data.table(Date=as.Date(lin_gub[x_orig_bonom,on=.(Date),nomatch=0]$Date)) \n",
        "\n",
        "lin_gub_bmybdst_aux=data.table(Date=as.Date(lin_gub[X3_orig_bd,on=.(Date),nomatch=0]$Date)) #Fechas acciones, equity, guber, yield y st (bonde)\n",
        "\n",
        "\n",
        "lin_gub_bmybdst=data.table(Date=as.Date(X3_ftdc[lin_gub_bmybdst_aux,on=.(Date),nomatch=0]$Date)) #Fechas acciones, equity, guber, yield y st (bonde)\n",
        "\n",
        "lin_gub_bmybdst_flib=data.table(Date=as.Date(lin_gub_bmybdst[x1_ftdc,on=.(Date),nomatch=0]$Date)) #Fechas acciones, equity, guber, yield,  st (bonde), libor\n",
        "\n",
        "lin_gub_bmybdst_flibfwd=data.table(Date=as.Date(lin_gub_bmybdst_flib[x2_ftdc,on=.(Date),nomatch=0]$Date)) #Fechas acciones, equity, guber, yield, st (bonde), libor, fwd\n",
        "\n",
        "lin_gub_bmybdst_flibfwdspind=data.table(Date=as.Date(lin_gub_bmybdst_flibfwd[X3_find,on=.(Date),nomatch=0]$Date)) #Fechas acciones, equity, guber, yield, st (bonde), libor, fwd, spot, equity or index\n",
        "\n",
        "\n",
        "\n",
        "lin_gub_bmybdst_flibfwdspind_swcup=data.table(Date=as.Date(lin_gub_bmybdst_flibfwdspind[X1_orig_sw,on=.(Date),nomatch=0]$Date)) #Fechas acciones, equity, guber, yield, st (bonde), libor, fwd, spot, equity or index, swap cupón\n",
        "\n",
        "lin_gub_bmybdst_flibfwdspind_swcupvp=data.table(Date=as.Date(lin_gub_bmybdst_flibfwdspind_swcup[X2_orig_sw,on=.(Date),nomatch=0]$Date)) #Fechas acciones, equity, guber, yield, st (bonde), libor, fwd, spot, equity or index, swap cupón\n",
        "\n",
        "lin_gub_bmybdst_flibfwdspind_swcupvp_oirs=data.table(Date=as.Date(lin_gub_bmybdst_flibfwdspind_swcupvp[x1_orig_oir,on=.(Date),nomatch=0]$Date)) #Fechas acciones, equity, guber, yield, st (bonde), libor, fwd, spot, equity or index, swap cupón, opciones ir spot\n",
        "\n",
        "lin_gub_bmybdst_flibfwdspind_swcupvp_oirsvp=data.table(Date=as.Date(lin_gub_bmybdst_flibfwdspind_swcupvp_oirs[x2_orig_oir,on=.(Date),nomatch=0]$Date)) #Fechas acciones, equity, guber, yield, st (bonde), libor, fwd, spot, equity or index, swap cupón, opciones ir spot, opc ir vp\n",
        "\n",
        "lin_gub_bmybdst_flibfwdspind_swcupvp_oirsvpvol=data.table(Date=as.Date(lin_gub_bmybdst_flibfwdspind_swcupvp_oirsvp[x3_orig_oir,on=.(Date),nomatch=0]$Date)) #Fechas acciones, equity, guber, yield, st (bonde), libor, fwd, spot, equity or index, swap cupón, opciones ir spot, opc ir vp, opc ir vol\n",
        "\n",
        "\n",
        "lin_gub_bmybdst_flibfwdspind_swcupvp_oirsvpvol=unique(lin_gub_bmybdst_flibfwdspind_swcupvp_oirsvpvol)\n",
        "\n",
        "n=nrow(lin_gub_bmybdst_flibfwdspind_swcupvp_oirsvpvol)\n",
        "n"
      ]
    },
    {
      "cell_type": "markdown",
      "metadata": {
        "id": "H1S6OC4qdmHE"
      },
      "source": [
        "### Formato de historia"
      ]
    },
    {
      "cell_type": "markdown",
      "metadata": {
        "id": "CfNMTBCFdoty"
      },
      "source": [
        "#### Historia de todos"
      ]
    },
    {
      "cell_type": "code",
      "execution_count": null,
      "metadata": {
        "colab": {
          "base_uri": "https://localhost:8080/"
        },
        "id": "GR3OTHBZdlLA",
        "outputId": "20c8cde3-6a78-43b3-a6f7-c7ce08043c3c"
      },
      "outputs": [
        {
          "output_type": "stream",
          "name": "stdout",
          "text": [
            "[1] 253\n"
          ]
        }
      ],
      "source": [
        "%%R\n",
        "n=nrow(lin_gub_bmybdst_flibfwdspind_swcupvp_oirsvpvol)\n",
        "n"
      ]
    },
    {
      "cell_type": "markdown",
      "metadata": {
        "id": "7cMP2KW5dwN0"
      },
      "source": [
        "#### Incisos 1 y 2"
      ]
    },
    {
      "cell_type": "code",
      "execution_count": null,
      "metadata": {
        "id": "oEJD42__d08N"
      },
      "outputs": [],
      "source": [
        "%%R\n",
        "#historia de acciones y divisas\n",
        "stock_prices_EQFX=lin_gub_bmybdst_flibfwdspind_swcupvp_oirsvpvol[aux2,on=.(Date),nomatch=0][order(-Date)]\n",
        "stock_prices_EQFX=stock_prices_EQFX%>%select(-Date)"
      ]
    },
    {
      "cell_type": "markdown",
      "metadata": {
        "id": "Dlq9hyxJd1ZU"
      },
      "source": [
        "#### Incisos 3"
      ]
    },
    {
      "cell_type": "code",
      "execution_count": null,
      "metadata": {
        "id": "UI2Vm4QLd3N0"
      },
      "outputs": [],
      "source": [
        "%%R\n",
        "#Historia de curva gubernamental y yield\n",
        "x_orig_gov=lin_gub_bmybdst_flibfwdspind_swcupvp_oirsvpvol[x_orig_gov,on=.(Date),nomatch=0][order(-Date)]\n",
        "x_orig_gov=x_orig_gov%>%select(-Date)\n",
        "\n",
        "#Historia de curvas de bonde\n",
        "X1_orig=lin_gub_bmybdst_flibfwdspind_swcupvp_oirsvpvol[X1_orig,on=.(Date),nomatch=0][order(-Date)]\n",
        "X1_orig=X1_orig%>%select(-Date)\n",
        "X2_orig_bd=lin_gub_bmybdst_flibfwdspind_swcupvp_oirsvpvol[X2_orig_bd,on=.(Date),nomatch=0][order(-Date)]\n",
        "X2_orig_bd=X2_orig_bd%>%select(-Date)\n",
        "X3_orig_bd=lin_gub_bmybdst_flibfwdspind_swcupvp_oirsvpvol[X3_orig_bd,on=.(Date),nomatch=0][order(-Date)]\n",
        "X3_orig_bd=X3_orig_bd%>%select(-Date)\n",
        "\n"
      ]
    },
    {
      "cell_type": "markdown",
      "metadata": {
        "id": "l691TCbUd3mt"
      },
      "source": [
        "#### Incisos 4"
      ]
    },
    {
      "cell_type": "code",
      "execution_count": null,
      "metadata": {
        "id": "P4v05W3Sd48s"
      },
      "outputs": [],
      "source": [
        "%%R\n",
        "#historia de curvas de forward tdc\n",
        "x1_ftdc=lin_gub_bmybdst_flibfwdspind_swcupvp_oirsvpvol[x1_ftdc,on=.(Date),nomatch=0][order(-Date)]\n",
        "x1_ftdc=x1_ftdc%>%select(-Date)/100\n",
        "x2_ftdc=lin_gub_bmybdst_flibfwdspind_swcupvp_oirsvpvol[x2_ftdc,on=.(Date),nomatch=0][order(-Date)]\n",
        "x2_ftdc=x2_ftdc%>%select(-Date)/100\n",
        "X3_ftdc=lin_gub_bmybdst_flibfwdspind_swcupvp_oirsvpvol[X3_ftdc,on=.(Date),nomatch=0][order(-Date)]\n",
        "X3_ftdc=X3_ftdc%>%select(-Date)\n",
        "\n",
        "#historia de curvas de forward ind\n",
        "#CONSIDERAR LA CURVA GUBERNAMENTAL X1_ORIG_GOV\n",
        "X3_find=lin_gub_bmybdst_flibfwdspind_swcupvp_oirsvpvol[X3_find,on=.(Date),nomatch=0][order(-Date)]\n",
        "X3_find=X3_find%>%select(-Date)"
      ]
    },
    {
      "cell_type": "markdown",
      "metadata": {
        "id": "r0OtCdLqd5P8"
      },
      "source": [
        "#### Incisos 5"
      ]
    },
    {
      "cell_type": "code",
      "execution_count": null,
      "metadata": {
        "id": "EETfth8od6hB"
      },
      "outputs": [],
      "source": [
        "%%R\n",
        "X1_orig_sw=lin_gub_bmybdst_flibfwdspind_swcupvp_oirsvpvol[X1_orig_sw,on=.(Date),nomatch=0][order(-Date)]\n",
        "X1_orig_sw=X1_orig_sw%>%select(-Date)/100\n",
        "X2_orig_sw=lin_gub_bmybdst_flibfwdspind_swcupvp_oirsvpvol[X2_orig_sw,on=.(Date),nomatch=0][order(-Date)]\n",
        "X2_orig_sw=X2_orig_sw%>%select(-Date)/100"
      ]
    },
    {
      "cell_type": "markdown",
      "metadata": {
        "id": "XHF4M6hid7BV"
      },
      "source": [
        "#### Incisos 6"
      ]
    },
    {
      "cell_type": "code",
      "execution_count": null,
      "metadata": {
        "id": "QdkV2Ozgd8Mn"
      },
      "outputs": [],
      "source": [
        "%%R\n",
        "x1_orig_oir=lin_gub_bmybdst_flibfwdspind_swcupvp_oirsvpvol[x1_orig_oir,on=.(Date),nomatch=0][order(-Date)]\n",
        "x1_orig_oir=x1_orig_oir%>%select(-Date)/100\n",
        "x2_orig_oir=lin_gub_bmybdst_flibfwdspind_swcupvp_oirsvpvol[x2_orig_oir,on=.(Date),nomatch=0][order(-Date)]\n",
        "x2_orig_oir=x2_orig_oir%>%select(-Date)/100\n",
        "x3_orig_oir=lin_gub_bmybdst_flibfwdspind_swcupvp_oirsvpvol[x3_orig_oir,on=.(Date),nomatch=0][order(-Date)]\n",
        "x3_orig_oir=x3_orig_oir%>%select(-Date)"
      ]
    },
    {
      "cell_type": "markdown",
      "metadata": {
        "id": "Y15HgTv3XtM3"
      },
      "source": [
        "## Valuación\n"
      ]
    },
    {
      "cell_type": "markdown",
      "metadata": {
        "id": "RUcsPq-xX-_4"
      },
      "source": [
        "### Acciones y divisas"
      ]
    },
    {
      "cell_type": "code",
      "execution_count": null,
      "metadata": {
        "id": "Lv2WG7UjYBmx"
      },
      "outputs": [],
      "source": [
        "%%R\n",
        "x0_acc_div=stock_prices_EQFX[1,]\n",
        "V0_acc_div=cbind(t(pos_fx),t(pos_eq))*x0_acc_div\n",
        "m_fx=length(pos_fx)\n",
        "m_acc=length(pos_eq)"
      ]
    },
    {
      "cell_type": "markdown",
      "metadata": {
        "id": "ltvLq8XBYGlA"
      },
      "source": [
        "### Bonos: Cetes"
      ]
    },
    {
      "cell_type": "code",
      "execution_count": null,
      "metadata": {
        "colab": {
          "base_uri": "https://localhost:8080/"
        },
        "id": "I1Vk5-Z3YLWw",
        "outputId": "26e788d7-b66e-4cbd-964e-7dd40505f0a8"
      },
      "outputs": [
        {
          "output_type": "stream",
          "name": "stdout",
          "text": [
            "[1] 14640.45\n"
          ]
        }
      ],
      "source": [
        "%%R\n",
        "\n",
        "#CETE CÁLCULO\n",
        "#paso para interpolar las tasas\n",
        "m=ncol(plazos_bcc)\n",
        "x_bcc=matrix(0,n,m)\n",
        "for (i in 1:(n))\n",
        "{\n",
        "  #x[i,]=approx(nodos_gov,x_orig_gov[i,],plazos_bcc)$y\n",
        "  x_bcc[i,]=if(itpl==0){approx(nodos_gov,x_orig_gov[i,],plazos_bcc,rule=2)$y}else{talamb(nodos_gov,x_orig_gov[i,],plazos_bcc)}\n",
        "}\n",
        "\n",
        "x0_bcc=x_bcc[1,]\n",
        "\n",
        "#función\n",
        "bonocupcero = function(i,t)\n",
        "{\n",
        "  1/(1+i*t/360)\n",
        "}\n",
        "\n",
        "V0_bcc=as.matrix(bonocupcero(x0_bcc,plazos_bcc))*contratos_bcc*nominal_bcc #Valor actual de cada bono\n",
        "\n",
        "VT0_bcc=sum(V0_bcc) #Valor total del portafolio al tiempo 0\n",
        "print(VT0_bcc)"
      ]
    },
    {
      "cell_type": "markdown",
      "metadata": {
        "id": "AFPceQ2sYPP4"
      },
      "source": [
        "### Bonos: Bonos M"
      ]
    },
    {
      "cell_type": "code",
      "execution_count": null,
      "metadata": {
        "colab": {
          "base_uri": "https://localhost:8080/"
        },
        "id": "aMgHXrz4Y4VI",
        "outputId": "bbfa93bd-5310-45c0-f45d-cb99bd485cc5"
      },
      "outputs": [
        {
          "output_type": "stream",
          "name": "stdout",
          "text": [
            "         [,1]\n",
            "[1,] 96854.57\n"
          ]
        }
      ],
      "source": [
        "%%R\n",
        "#BONO M  CÁLCULO\n",
        "#Posición inicial\n",
        "#interpolación de tasas y volatilidades\n",
        "m=ncol(plazos_bm)\n",
        "X_bm=matrix(0,n,m)\n",
        "for (i in 1:(n))\n",
        "{\n",
        "  X_bm[i,]=if(itpl==0){approx(nodos_bonom,x_orig_gov[i,],plazos_bm,rule=2)$y}else{talamb(nodos_bonom,x_orig_gov[i,],plazos_bm)}\n",
        "}\n",
        "\n",
        "\n",
        "#Función de valoración por tasa yield\n",
        "bonoMyield=function(x, plazos_bm, plazocupon_bm, tfcupon_bm, nominal_bm, contratos_bm) #valoración bono tasa fija\n",
        "{\n",
        "  N=as.integer(plazos_bm/plazocupon_bm)+1   \n",
        "  p1=plazos_bm-plazocupon_bm*(N-1)   \n",
        "  a=(1-(1+x*plazocupon_bm/360)^(-N))/(plazocupon_bm*x/360)\n",
        "  ((contratos_bm*nominal_bm*tfcupon_bm*plazocupon_bm/360)*a+(contratos_bm*nominal_bm)/((1+x*plazocupon_bm/360)^N))*(1+x*plazocupon_bm/360)^(1-p1/plazocupon_bm)   \n",
        "}\n",
        "\n",
        "x0_bm=0.045 #tasas de descuento valor actual\n",
        "V0_bm=bonoMyield(x0_bm,plazos_bm, plazocupon_bm, tfcupon_bm, nominal_bm, contratos_bm)\n",
        "V0_bm"
      ]
    },
    {
      "cell_type": "markdown",
      "metadata": {
        "id": "z7oQ502FZbE5"
      },
      "source": [
        "### Bonos: Bondes D"
      ]
    },
    {
      "cell_type": "code",
      "execution_count": null,
      "metadata": {
        "colab": {
          "base_uri": "https://localhost:8080/"
        },
        "id": "UQFK3wOnZePI",
        "outputId": "543699a7-4a38-476d-a9a9-639687216420"
      },
      "outputs": [
        {
          "output_type": "stream",
          "name": "stdout",
          "text": [
            "[1] -97309.88\n"
          ]
        }
      ],
      "source": [
        "%%R\n",
        "#BONDE D CÁLCULO\n",
        "names(X2_orig_bd)[1] = 'Date'\n",
        "X2_pr=lin_gub_bmybdst_flibfwdspind_swcupvp_oirsvpvol[X2_orig_bd, on = .(Date),nomatch=0][order(-Date)] #Se alinea la tasa de fondeo por fecha con la tasa de valor presente.\n",
        "m=ncol(plazos_bdm)\n",
        "\n",
        "\n",
        "N_bd=as.integer(plazos_bdm/plazocupon_bdm)+1 #número de cupones a pagar\n",
        "VTplazos_bdm=matrix(0,1,sum(N_bd)) #vector de todos los plazos_bdm de todos los contratos_bdm\n",
        "contratos_bdmT=matrix(0,1,sum(N_bd)) #vector de todos los contratos_bdm de todos los flujos de todos los contratos_bdm\n",
        "nominal_bdmT=matrix(0,1,sum(N_bd)) #vector de todos los nominal_bdmes de todos los flujos de todos los contratos_bdm\n",
        "plazocupon_bdmT=matrix(0,1,sum(N_bd)) #vector de todos los plazos_bdmcupon de todos los flujos de todos los contratos_bdm\n",
        "tasafijaT_bd=matrix(0,1,sum(N_bd)) #vector de tasas fijas de todos los flujos de todos los contratos_bdm\n",
        "ulNomT_bd=matrix(0,1,sum(N_bd)) #vector de contratos_bdm a final de flujo\n",
        "\n",
        "\n",
        "plazini_bd=plazos_bdm-plazocupon_bdm*(N_bd-1) #vector de plazos_bdm iniciales\n",
        "ddv=plazocupon_bdm-plazini_bd #dias trasncurridos del cupón vigente\n",
        "tfcupon=matrix(0,1,m)  #El primero cupón de cada bono\n",
        "tfcupondev=matrix(0,1,m) #cupón de los días devengados\n",
        "tfcupgen=((1+tf_act/360)^(plazocupon_bdm[1])-1)*360/plazocupon_bdm[1] #el segundo al último cupón de todos los bonos\n",
        "#calcula cupones de bonos\n",
        "for (j in (1:m))\n",
        "{\n",
        "  tfcupondev[j]=(prod(1+tf_int[(1:ddv[j])]/360)-1)*360/ddv[j]\n",
        "  tfcupon[j]=((1+tfcupondev[j]*ddv[j]/360)*(1+tf_act/360)^(plazocupon_bdm[1]-ddv[j])-1)*360/plazocupon_bdm[1]\n",
        "}\n",
        "\n",
        "\n",
        "for (j in (1:m))\n",
        "{\n",
        "  if (j==1)\n",
        "  {\n",
        "    VTplazos_bdm[,1:sum(N_bd[1:j])]=seq(plazini_bd[j],plazos_bdm[j], by=plazocupon_bdm[j])\n",
        "    contratos_bdmT[,1:sum(N_bd[1:j])]=seq(contratos_bdm[j],contratos_bdm[j])\n",
        "    plazocupon_bdmT[,1:sum(N_bd[1:j])]=seq(plazocupon_bdm[j],plazocupon_bdm[j])\n",
        "    ulNomT_bd[,sum(N_bd[1:j])]=contratos_bdm[j]\n",
        "    tasafijaT_bd[,1]=tfcupon[j]\n",
        "    tasafijaT_bd[,2:sum(N_bd[1:j])]=seq(tfcupgen,tfcupgen)\n",
        "  }\n",
        "  else\n",
        "  {\n",
        "    VTplazos_bdm[,(sum(N_bd[1:j-1])+1):sum(N_bd[1:j])]=seq(plazini_bd[j],plazos_bdm[j], by=plazocupon_bdm[j])\n",
        "    contratos_bdmT[,(sum(N_bd[1:j-1])+1):sum(N_bd[1:j])]=seq(contratos_bdm[j],contratos_bdm[j])\t\t\t\t\t\n",
        "    plazocupon_bdmT[,(sum(N_bd[1:j-1])+1):sum(N_bd[1:j])]=seq(plazocupon_bdm[j],plazocupon_bdm[j])\n",
        "    tasafijaT_bd[,(sum(N_bd[1:j-1])+1)]=tfcupon[j]\n",
        "    tasafijaT_bd[,(sum(N_bd[1:j-1])+2):sum(N_bd[1:j])]=seq(tfcupgen,tfcupgen)\n",
        "    ulNomT_bd[,sum(N_bd[1:j])]=contratos_bdm[j]\n",
        "  }\n",
        "}\n",
        "\n",
        "Xvp_bd=matrix(0,n,ncol(VTplazos_bdm))\n",
        "Xst_bd=matrix(0,n,ncol(VTplazos_bdm))\n",
        "\n",
        "for (i in (1:n))\n",
        "{\n",
        "  Xvp_bd[i,]=if(itpl==0){approx(nodos_gov,x_orig_gov[i,],VTplazos_bdm,rule=2)$y}else{talamb(nodos_gov,x_orig_gov[i,],VTplazos_bdm)}\n",
        "  Xst_bd[i,]=if(itpl==0){approx(nodos3_bd,X3_orig_bd[i,],VTplazos_bdm,rule=2)$y}else{talamb(nodos3_bd,X3_orig_bd[i,],VTplazos_bdm)}\n",
        "  \n",
        "}\n",
        "\n",
        "X_bd_tc=matrix(1,n,ncol(contratos_bdmT))*X2_pr$V2/100\n",
        "X_bd_ext=cbind(X_bd_tc,as.matrix(Xvp_bd),as.matrix(Xst_bd))\n",
        "\n",
        "bondeD=function(contratos_bdmT,  nominal_bdm, tf_act, plazocupon_bdmT, VTplazos_bdm, Xvp, Xst, N,ddv)\n",
        "{\n",
        "  tfcupon=matrix(0,1,m)  #El primero cupón de cada bono\n",
        "  tfcupondev=matrix(0,1,m) #cupón de los días devengados\n",
        "  tfcupgen=((1+tf_act/360)^(plazocupon_bdm[1])-1)*360/plazocupon_bdm[1] #el segundo al último cupón de todos los bonos\n",
        "  tasafijaT=matrix(0,1,sum(N))\n",
        "  #calcula cupones de bonos\n",
        "  for (j in (1:m))\n",
        "  {\n",
        "    tfcupondev[j]=(prod(1+tf_int[(1:ddv[j])]/360)-1)*360/ddv[j]\n",
        "    tfcupon[j]=((1+tfcupondev[j]*ddv[j]/360)*(1+tf_act/360)^(plazocupon_bdm[1]-ddv[j])-1)*360/plazocupon_bdm[1]\n",
        "  }\n",
        "  \n",
        "  \n",
        "  for (j in (1:m))\n",
        "  {\n",
        "    if (j==1)\n",
        "    {\n",
        "      tasafijaT[,1]=tfcupon[j]\n",
        "      tasafijaT[,2:sum(N[1:j])]=seq(tfcupgen,tfcupgen)\n",
        "    }\n",
        "    else\n",
        "    {\n",
        "      tasafijaT[,(sum(N[1:j-1])+1)]=tfcupon[j]\n",
        "      tasafijaT[,(sum(N[1:j-1])+2):sum(N[1:j])]=seq(tfcupgen,tfcupgen)\n",
        "    }\n",
        "  }\n",
        "  \n",
        "  \n",
        "  V0=matrix(0,1,count(N))\n",
        "  V0f=((((contratos_bdmT*(tasafijaT)*(plazocupon_bdmT/360))+ulNomT_bd)/(1+(Xvp+Xst)*VTplazos_bdm/360)))*nominal_bdm\n",
        "  for (j in (1:count(N)))\n",
        "  {\n",
        "    if(j==1)\n",
        "    {\n",
        "      V0[j]=sum(V0f[j:N[j]])\n",
        "    }\n",
        "    else\n",
        "    {\n",
        "      V0[j]=sum(V0f[(sum(N[1:j-1])+1):(sum(N[1:j]))])\n",
        "    }\n",
        "  }\n",
        "  V0\n",
        "} \n",
        "\n",
        "\n",
        "\n",
        "V0_bd=bondeD(contratos_bdmT, nominal_bdm, tf_act, plazocupon_bdmT, VTplazos_bdm, Xvp_bd[1,], Xst_bd[1,], N_bd,ddv)\n",
        "V0_bd[1,1]\n"
      ]
    },
    {
      "cell_type": "markdown",
      "metadata": {
        "id": "VwlfE5ywZqPQ"
      },
      "source": [
        "### Futuros: Tipo de cambio"
      ]
    },
    {
      "cell_type": "code",
      "execution_count": null,
      "metadata": {
        "id": "8ApRGuDzZxMf"
      },
      "outputs": [],
      "source": [
        "%%R\n",
        "#FORWARDS Y/O FUTUROS DE TIPO DE CAMBIO CÁLCULO\n",
        "\n",
        "################MATRICES DE INTERPOLACION LINEAL ####################\n",
        "\n",
        "m=ncol(plazos_fwd)\n",
        "X1_fwtdc=matrix(0,n,m)\n",
        "X2_fwtdc=matrix(0,n,m)\n",
        "\n",
        "for (j in 1:n)\n",
        "{\n",
        "  X1_fwtdc[j,]=if(itpl==0){approx(nodos1_ftdc,x1_ftdc[j,],plazos_fwd,rule=2)$y}else{talamb(nodos1_ftdc,x1_ftdc[j,],plazos_fwd)}\n",
        "  X2_fwtdc[j,]=if(itpl==0){approx(nodos2_ftdc,x2_ftdc[j,],plazos_fwd,rule=2)$y}else{talamb(nodos2_ftdc,x2_ftdc[j,],plazos_fwd)}\n",
        "  if(trlib==1){X1_fwtdc[j,]=((1+X1_fwtdc[j,])^(plazos_fwd/180)-1)*360/plazos_fwd} #transformación de act 180 a 360\n",
        "}\n",
        "\n",
        "\n",
        "futuroTC = function(t,tl,tn,s,k) #t=dias por vencer, tn=tasa nacional para tipo de cambio forward, tl= tasa extranjera pra tipo de cambio forward, S=spot\n",
        "{\n",
        "  f=s*((1+tn*t/360)/(1+tl*t/360)) #Se obtiene el tipo de cambio forward\n",
        "  t(as.numeric((f-k)/(1+t*tn/360))) #Se obtiene el valor del payoff a valor presente con el valor z que define si es largo o corto\n",
        "}\n",
        "\n",
        "X3_ftdc=as.matrix(X3_ftdc)\n",
        "X_futtdc=cbind(X1_fwtdc,X2_fwtdc,X3_ftdc)\n",
        "\n",
        "V0_fwtdc=futuroTC(plazos_fwd,X1_fwtdc[1,],X2_fwtdc[1,],X3_ftdc[1,],kst_fwd)*contratos_fwd*nominal_fwd"
      ]
    },
    {
      "cell_type": "markdown",
      "metadata": {
        "id": "tEjhH7wlZ0aH"
      },
      "source": [
        "### Futuros: IPC"
      ]
    },
    {
      "cell_type": "code",
      "execution_count": null,
      "metadata": {
        "id": "djV_baxgZ2un"
      },
      "outputs": [],
      "source": [
        "%%R\n",
        "#FORWARDS Y/O FUTUROS DE ÍNDICES CÁLCULO\n",
        "\n",
        "################MATRICES DE INTERPOLACION LINEAL ####################\n",
        "\n",
        "m_ind=ncol(plazos_fwd_ind)\n",
        "X1_fwind=matrix(0,n,m_ind) #DIVIDENDOS\n",
        "X2_fwind=matrix(0,n,m_ind)\n",
        "\n",
        "for (j in 1:n)\n",
        "{\n",
        "  #X1_fwind[j,]=if(itpl==0){approx(nodos1_,x1_ftdc[j,],plazos_fwd)$y}else{talamb(nodos1_ftdc,x1_ftdc[j,],plazos_fwd)}\n",
        "  X2_fwind[j,]=if(itpl==0){approx(nodos_gov,x_orig_gov[j,],plazos_fwd_ind,rule=2)$y}else{talamb(nodos_gov,x_orig_gov[j,],plazos_fwd_ind)}\n",
        "  #if(trlib==1){X1_fwtdc[j,]=((1+X1_fwtdc[j,])^(plazos_fwd/180)-1)*360/plazos_fwd} #transformación de act 180 a 360\n",
        "}\n",
        "\n",
        "X3_find=as.matrix(X3_find)\n",
        "X_futind=cbind(X1_fwind,X2_fwind,matrix(X3_find,n,ncol(X1_fwind)))\n",
        "\n",
        "V0_fwind=futuroTC(plazos_fwd_ind,X1_fwind[1,],X2_fwind[1,],X3_find[1,],kst_fwd_ind)*contratos_fwd_ind*nominal_fwd_ind"
      ]
    },
    {
      "cell_type": "markdown",
      "metadata": {
        "id": "x6om83oNaVnn"
      },
      "source": [
        "### Swaps"
      ]
    },
    {
      "cell_type": "code",
      "execution_count": null,
      "metadata": {
        "id": "CijZIa4paU_Q"
      },
      "outputs": [],
      "source": [
        "%%R\n",
        "##SWAP TASA FIJA VS TASA VARIABLE CÁLCULO\n",
        "\n",
        "##Interpolamos\n",
        "\n",
        "nodosvp=nodos1_sw\n",
        "nodostc=nodos2_sw\n",
        "curvavp=as.matrix(X1_orig_sw)\n",
        "curvatc=X2_orig_sw\n",
        "n1=nrow(curvavp)\n",
        "n2=nrow(curvatc)\n",
        "\n",
        "\n",
        "m=max(ncol(plazos_sw),1) #número de contratos_sw swap a valorar\n",
        "N=matrix(0,1,m) #es un vector de m valores donde se cargarán los m número de cupones a pagar para cada contrato\n",
        "for (j in (1:m))\n",
        "{\n",
        "  N[j]=as.integer(plazos_sw[j]/plazocupon_sw[j])+1 #número de cupones a pagar\n",
        "}\n",
        "VTplazos_sw=matrix(0,1,sum(N)) #vector de todos los plazos_sw de todos los contratos_sw\n",
        "contratos_swT=matrix(0,1,sum(N)) #vector de todos los contratos_sw de todos los flujos de todos los contratos_sw\n",
        "nominal_swT=matrix(0,1,sum(N)) #vector de todos los nominal_swes de todos los flujos de todos los contratos_sw\n",
        "por_swT=matrix(0,1,sum(N)) #vector de todos los dummy si paga o recibe de todos los flujos de todos los contratos_sw\n",
        "plazocupon_swT=matrix(0,1,sum(N)) #vector de todos los plazos_swcupon de todos los flujos de todos los contratos_sw\n",
        "tasafija_swT=matrix(0,1,sum(N)) #vector de tasas fijas de todos los flujos de todos los contratos_sw\n",
        "VTplazos_swc=matrix(0,1,sum(N)) #vector de todos los plazos_sw cortos de todos los contratos_sw\n",
        "\n",
        "\n",
        "plazini=plazos_sw-plazocupon_sw*(N-1) #vector de plazos_sw iniciales\n",
        "\n",
        "for (j in (1:m))\n",
        "{\n",
        "  if (j==1)\n",
        "  {\n",
        "    VTplazos_sw[,1:sum(N[1:j])]=seq(plazini[j],plazos_sw[j], by=plazocupon_sw[j])\n",
        "    VTplazos_swc[,1:sum(N[1:j])]=c(0,VTplazos_sw[,1:(sum(N[1:j])-1)])\n",
        "    contratos_swT[,1:sum(N[1:j])]=seq(contratos_sw[j],contratos_sw[j])\n",
        "    nominal_swT[,1:sum(N[1:j])]=seq(nominal_sw[j],nominal_sw[j])\n",
        "    por_swT[,1:sum(N[1:j])]=seq(por_sw[j],por_sw[j])\n",
        "    plazocupon_swT[,1:sum(N[1:j])]=seq(plazocupon_sw[j],plazocupon_sw[j])\n",
        "    tasafija_swT[,1:sum(N[1:j])]=seq(tasafija_sw[j],tasafija_sw[j])\n",
        "  }\n",
        "  else\n",
        "  {\n",
        "    VTplazos_sw[,(sum(N[1:j-1])+1):sum(N[1:j])]=seq(plazini[j],plazos_sw[j], by=plazocupon_sw[j])\n",
        "    VTplazos_swc[,(sum(N[1:j-1])+1):sum(N[1:j])]=c(0,VTplazos_sw[,(sum(N[1:j-1])+1):(sum(N[1:j])-1)])\n",
        "    contratos_swT[,(sum(N[1:j-1])+1):sum(N[1:j])]=seq(contratos_sw[j],contratos_sw[j])\t\t\t\t\t\n",
        "    nominal_swT[,(sum(N[1:j-1])+1):sum(N[1:j])]=seq(nominal_sw[j],nominal_sw[j])\n",
        "    por_swT[,(sum(N[1:j-1])+1):sum(N[1:j])]=seq(por_sw[j],por_sw[j])\n",
        "    plazocupon_swT[,(sum(N[1:j-1])+1):sum(N[1:j])]=seq(plazocupon_sw[j],plazocupon_sw[j])\n",
        "    tasafija_swT[,(sum(N[1:j-1])+1):sum(N[1:j])]=seq(tasafija_sw[j],tasafija_sw[j])\n",
        "  }\n",
        "}\n",
        "\n",
        "\n",
        "Xvp=matrix(0,n,ncol(VTplazos_sw))\n",
        "Xtc=matrix(0,n,ncol(VTplazos_sw))\n",
        "Xtcc=matrix(0,n,ncol(VTplazos_sw))\n",
        "XtfwdT=matrix(0,n,ncol(VTplazos_sw))\n",
        "\n",
        "for (i in (1:n))\n",
        "{\n",
        "  Xvp[i,]=if(itpl==0){approx(nodosvp,curvavp[i,],VTplazos_sw,rule=2)$y}else{talamb(nodosvp,curvavp[i,],VTplazos_sw)}\n",
        "  Xtc[i,]=if(itpl==0){approx(nodostc,curvatc[i,],VTplazos_sw,rule=2)$y}else{talamb(nodostc,curvatc[i,],VTplazos_sw)}\n",
        "  Xtcc[i,]=if(itpl==0){approx(nodostc,curvatc[i,],VTplazos_swc, rule=2)$y}else{talamb(nodostc,curvatc[i,],VTplazos_swc)}\n",
        "  \n",
        "  XtfwdT[i,]=((1+Xtc[i,]*VTplazos_sw/360)/(1+Xtcc[i,]*VTplazos_swc/360)-1)*360/plazocupon_swT \n",
        "  for (j in (1:ncol(VTplazos_sw)))\n",
        "  {\n",
        "    if (VTplazos_sw[j]<= plazocupon_swT[j])\n",
        "    {\n",
        "      XtfwdT[i,j]=Xtc[i,j]\n",
        "    }\n",
        "    else\n",
        "    {\n",
        "      j=sum(N[1:j])\n",
        "    }\n",
        "  }\n",
        "}\n",
        "\n",
        "X_sw=cbind(XtfwdT,Xvp)\n",
        "\n",
        "swap=function(por_swT, contratos_swT, nominal_swT, XtfwdT, tasafija_swT, plazocupon_swT, VTplazos_sw, Xvp, N)\n",
        "{\n",
        "  V0=matrix(0,1,ncol(N))\n",
        "  V0f=(((contratos_swT*(XtfwdT-tasafija_swT)*(plazocupon_swT/360)))/(1+Xvp*VTplazos_sw/360))*nominal_swT*(-1)^por_swT\n",
        "  for (j in (1:ncol(N)))\n",
        "  {\n",
        "    if(j==1)\n",
        "    {\n",
        "      V0[j]=sum(V0f[j:N[j]])\n",
        "    }\n",
        "    else\n",
        "    {\n",
        "      V0[j]=sum(V0f[(sum(N[1:j-1])+1):(sum(N[1:j]))])\n",
        "    }\n",
        "  }\n",
        "  V0\n",
        "}\n",
        "\n",
        "V0_sw=swap(por_swT, contratos_swT, nominal_swT, XtfwdT[1,], tasafija_swT, plazocupon_swT, VTplazos_sw, Xvp[1,], N)"
      ]
    },
    {
      "cell_type": "markdown",
      "metadata": {
        "id": "dxpjDUVOaYxX"
      },
      "source": [
        "### Opciones"
      ]
    },
    {
      "cell_type": "code",
      "execution_count": null,
      "metadata": {
        "id": "1Wp9VAhcaamv"
      },
      "outputs": [],
      "source": [
        "%%R\n",
        "\n",
        "##opciones de tasa de interés, con inicio el día de la valuación CÁLCULO\n",
        "#Posición inicial\n",
        "\n",
        "#interpolación de tasas y volatilidades\n",
        "m=ncol(plazos_oir)\n",
        "x1=matrix(0,n,m)\n",
        "x2tc=matrix(0,n,m)\n",
        "x2tl=matrix(0,n,m)\n",
        "x2=matrix(0,n,m)\n",
        "x3=matrix(0,n,m)\n",
        "for (i in 1:(n))\n",
        "{\n",
        "  x1[i,]=if(itpl==0){approx(nodos1_oir,x1_orig_oir[i,],plazos_oir,rule=2)$y}else{talamb(nodos1_oir,x1_orig_oir[i,],plazos_oir)}\n",
        "  x2tc[i,]=if(itpl==0){approx(nodos2_oir,x2_orig_oir[i,],plazos_oir,rule=2)$y}else{talamb(nodos2_oir,x2_orig_oir[i,],plazos_oir)}\n",
        "  x2tl[i,]=if(itpl==0){approx(nodos2_oir,x2_orig_oir[i,],(plazos_oir+pr_oir),rule=2)$y}else{talamb(nodos2_oir,x2_orig_oir[i,],(plazos_oir+pr_oir))}\n",
        "  x3[i,]=if(itpl==0){approx(nodos3_oir,x3_orig_oir[i,],plazos_oir,rule=2)$y}else{talamb(nodos3_oir,x3_orig_oir[i,],plazos_oir)}\n",
        "  x2[i,]=((1+x2tl[i,]*(plazos_oir+pr_oir)/360)/(1+x2tc[i,]*(plazos_oir)/360)-1)*360/pr_oir\n",
        "}\n",
        "\n",
        "\n",
        "x01=x1[1,] #tasas de descuento\n",
        "x02=x2[1,] #tasas spot\n",
        "x03=x3[1,] #volatilidades\n",
        "\n",
        "X_oir=cbind(x1,x2,x3)\n",
        "\n",
        "opctint = function(d,S,K_oir,vol,t,cp_oir,cs_oir,pr_oir,dct_oir)\t#función de una opción europea\n",
        "{\n",
        "  d1=if(cs_oir==1){(log(S/K_oir)+vol^2*t/(365*2))*(1/(vol*sqrt(t/365)))}else{(log(S/K_oir)+vol^2*t/(360*2))*(1/(vol*sqrt(t/360)))}\n",
        "  d2=if(cs_oir==1){(log(S/K_oir)-vol^2*t/(365*2))*(1/(vol*sqrt(t/365)))}else{(log(S/K_oir)-vol^2*t/(360*2))*(1/(vol*sqrt(t/360)))}\n",
        "  vp=if(cs_oir==1){log(1+d*t/360)*365/t}else{d}  \n",
        "  (if(cs_oir==1){(S*pnorm(d1*(-1)^cp_oir)-K_oir*pnorm(d2*(-1)^cp_oir))*(exp(-vp*t/365))*(-1)^cp_oir}else{(S*pnorm(d1*(-1)^cp_oir)-K_oir*pnorm(d2*(-1)^cp_oir))*(1/(1+vp*t/360))*(-1)^cp_oir})*(pr_oir/dct_oir)/(1+S*pr_oir/dct_oir)\n",
        "}\n",
        "\n",
        "\n",
        "V0_oir=opctint(x01,x02,K_oir,x03,plazos_oir,cp_oir,cs_oir,pr_oir,dct_oir)*contratos_oir*nominal_oir #Valor del portafolio\n"
      ]
    },
    {
      "cell_type": "markdown",
      "metadata": {
        "id": "41WjICwtgbDr"
      },
      "source": [
        "## Integración de factores de riesgo y simulacion"
      ]
    },
    {
      "cell_type": "code",
      "execution_count": null,
      "metadata": {
        "id": "QtK4FDRDggT0"
      },
      "outputs": [],
      "source": [
        "%%R\n",
        "#DIMENSION DE TODOS LOS INSTRUMENTOS\n",
        "#Son 8 instrumentos financieros (9 si separamos acciones y divisas)\n",
        "n_if=matrix(0,7,1)\n",
        "n_if[1]=ncol(stock_prices_EQFX) #acciones y divisas\n",
        "n_if[2]=ncol(x_bcc) #cetes\n",
        "#Aqui iba bonos M\n",
        "n_if[3]=ncol(X_bd_ext) #bonde\n",
        "n_if[4]=ncol(X_futtdc) #fut tdc\n",
        "n_if[5]=ncol(X_futind) #fut ind\n",
        "n_if[6]=ncol(X_sw) #swaps\n",
        "n_if[7]=ncol(X_oir) #opciones tasa de interés\n",
        "\n",
        "#valor del portafolios\n",
        "\n",
        "V0_port=cbind(V0_acc_div,V0_bcc, V0_bm, V0_bd, V0_fwtdc, V0_fwind, V0_sw, V0_oir) #contrato\n",
        "V0T_port=sum(V0_port)\n",
        "\n",
        "\n",
        "\n",
        "#INTEGRACIÓN DE TODOS LOS FACTORES DE RIESGO EN UNA MATRIZ\n",
        "X_port=cbind(stock_prices_EQFX,x_bcc,X_bd_ext,X_futtdc,X_futind,X_sw,X_oir) #Factores de riesgo del portafolios de 8(9) instrumentos financieros\n",
        "\n",
        "#Cálculo de variaciones Delta_X DEL PORTAFOLIOS\n",
        "DeltaX_port=as.matrix(X_port[1:(n-1),]/X_port[2:(n),]-1)\n",
        "DeltaX_port[is.nan(DeltaX_port)] <- 0 #quitamos NaN\n",
        "DeltaX_port[is.na(DeltaX_port)] <- 0 #quitamos Na\n",
        "DeltaX_port[is.infinite(DeltaX_port)] <- 0 #quitamos Na\n",
        "\n",
        "#Definimos número de simulaciones\n",
        "Ns=102071 #@param {type:\"slider\", min:1, max:1000000, step:10}\n",
        "#0 Cholesky, 1 Componentes Principales\n",
        "ChCP=0  #@param [\"0\", \"1\"] {type:\"raw\"} \n",
        "#0 normal, 1 empírico\n",
        "normempi=0 #@param [\"0\", \"1\"] {type:\"raw\"} \n",
        "#Varianza explicada  (sólo aplica para Componentes Principales)\n",
        "eta=0.85 #@param {type:\"slider\", min:0, max:1, step:0.01}\n",
        "mT=ncol(DeltaX_port)\n",
        "\n",
        "\n",
        "VarDeltaX=if(ChCP==0){cor(DeltaX_port)}else{var(DeltaX_port)*(ncol(DeltaX_port)/(ncol(DeltaX_port)-1))}\n",
        "\n",
        "if(ChCP==0) {\n",
        "  CVarDeltaX=as.matrix(chol(VarDeltaX,pivot=TRUE))\n",
        "  CVarDeltaX[is.nan(CVarDeltaX)] <- 0 #quitamos NaN\n",
        "  CVarDeltaX[is.na(CVarDeltaX)] <- 0 #quitamos Na\n",
        "  M=matrix(0, Ns,mT)\n",
        "  if(normempi==1)\n",
        "  {\n",
        "    for (i in 1:mT)\n",
        "    {\n",
        "      M[,i]=quantile(DeltaX_port[,i],runif(Ns))\n",
        "    }\n",
        "    Met='Cholesky Empírico'\n",
        "  } else\t{\n",
        "    for (i in 1:mT)\n",
        "    {\n",
        "      M[,i]=rnorm(Ns)*sd(DeltaX_port[,i])*(mT/(mT-1))+mean(DeltaX_port[,i])\n",
        "    }\n",
        "    Met='Cholesky Normal'\n",
        "  }\n",
        "  DeltaX_s=M%*%CVarDeltaX  #Factores de riesgo simulados\n",
        "} else { #componentes principales\n",
        "  G<-eigen(VarDeltaX)      #eigenvectores\n",
        "  g1<-G$values                  #eigenvalores\n",
        "  g1p=g1/sum(g1)\n",
        "  \n",
        "  g1pac=cumsum(g1p) #suma acumulada de varianza\n",
        "  \n",
        "  k=which.max(g1pac>eta) #valor mínimo k\n",
        "  \n",
        "  y=as.matrix((DeltaX_port-colMeans(DeltaX_port)))%*%G$vectors[,1:k] #componentes principales\n",
        "  #/sqrt(diag(var(DeltaX))))\n",
        "  M=matrix(0, Ns,k)\n",
        "  if(normempi==0)\n",
        "  {\n",
        "    for (i in 1:k)\n",
        "    {\n",
        "      M[,i]=rnorm(Ns)*sd(y[,i])+mean(y[,i])\n",
        "    }\n",
        "    Met='Componentes Principales Normales'\n",
        "  } else\t{\n",
        "    for (i in 1:k)\n",
        "    {\n",
        "      M[,i]=quantile(y[,i],runif(Ns))\n",
        "    }\n",
        "    Met='Componentes Principales Empíricos'\n",
        "  }\n",
        "  DeltaX_s=M%*% t(G$vectors[,1:k]) #Factores de riesgo simulados\n",
        "}\n",
        "\n",
        "\n",
        "\n",
        "Ms1='Se explica el' \n",
        "Ms2= 'de varianza'\n",
        "Ms3= 'de suma de var-cov'"
      ]
    },
    {
      "cell_type": "markdown",
      "metadata": {
        "id": "eVpMCL_mhtjz"
      },
      "source": [
        "## Medicion de riesgo"
      ]
    },
    {
      "cell_type": "markdown",
      "metadata": {
        "id": "7RZi-nfKhwKr"
      },
      "source": [
        "### Acciones y divisas"
      ]
    },
    {
      "cell_type": "code",
      "execution_count": null,
      "metadata": {
        "id": "eLAqLt8zhyUj"
      },
      "outputs": [],
      "source": [
        "%%R\n",
        "#Medición de riesgo por instrumento, instrumento-factor de riesgo, instrumento - total\n",
        "\n",
        "\n",
        "#Cálculo de matriz de pérdidas y ganancias Acciones y Divisas\n",
        "\n",
        "#riesgo del acciones y divisas\n",
        "m=n_if[1]   #PASO CLAVE\n",
        "X_s_acc_div=matrix(0,Ns,n_if[1]) #Factores de riesgo simulados con base en DeltaX_s x0*(1+Delta_Xs)   #PASO CLAVE\n",
        "V_acc_div=matrix(0,Ns,m) #valor simulado a nivel contrato de acciones y tdc\n",
        "Vfr1_acc_div=matrix(0,Ns,m_fx) #valor simulado a nivel contrato de tdc\n",
        "Vfr2_acc_div=matrix(0,Ns,m_acc) #valor simulado a nivel contrato de acciones\n",
        "PG_acc_div=matrix(0,Ns,m) #Pèrdidas y ganancias\n",
        "PGfr1_acc_div=matrix(0,Ns,m_fx) \n",
        "PGfr2_acc_div=matrix(0,Ns,m_acc)\n",
        "PGT_acc_div=matrix(0,Ns,1) #TOTAL ACC Y DIV\n",
        "PGfr1T_acc_div=matrix(0,Ns,1) #total factor riesgo divisas\n",
        "PGfr2T_acc_div=matrix(0,Ns,1) #total factor riesgo acciones\n",
        "\n",
        "DeltaX_s_acc_div=DeltaX_s[,(1:n_if[1])]    #PASO CLAVE\n",
        "x0_acc_div=stock_prices_EQFX[1,]   #PASO CLAVE\n",
        "\n",
        "for (i in 1:Ns)\n",
        "{\n",
        "  X_s_acc_div[i,]=as.matrix(x0_acc_div*(1+DeltaX_s_acc_div[i,]))\n",
        "  #PASO CLAVE\n",
        "  V_acc_div[i,]=cbind(t(pos_fx),t(pos_eq))*X_s_acc_div[i,]\n",
        "  #PASO CLAVE\n",
        "  Vfr1_acc_div[i,]=t(pos_fx)*X_s_acc_div[i,1:m_fx]\n",
        "  #PASO CLAVE\n",
        "  Vfr2_acc_div[i,]=t(pos_eq)*X_s_acc_div[i,(m_fx+1):(m_fx+m_acc)]\n",
        "  #PASO CLAVE\n",
        "  PG_acc_div[i,]=as.matrix(V_acc_div[i,]-V0_acc_div)\n",
        "  PGfr1_acc_div[i,]=as.matrix(Vfr1_acc_div[i,]-V0_acc_div[,1:m_fx])\n",
        "  PGfr2_acc_div[i,]=as.matrix(Vfr2_acc_div[i,]-V0_acc_div[,(m_fx+1):(m_fx+m_acc)])\n",
        "  PGT_acc_div[i,]=sum(PG_acc_div[i,])\n",
        "  PGfr1T_acc_div[i,]=sum(PGfr1_acc_div[i,])\n",
        "  PGfr2T_acc_div[i,]=sum(PGfr2_acc_div[i,])\n",
        "}\n",
        "\n",
        "\n",
        "\n",
        "PG_acc_div[1:5,]\n",
        "PGfr1_acc_div[1:5,]\n",
        "PGfr2_acc_div[1:5,]\n",
        "PGT_acc_div[1:5,]\n",
        "\n",
        "\n",
        "#VaR por posición\n",
        "VaRCont_acc_div=matrix(0,1,m)\n",
        "VaRfr1_acc_div=matrix(0,1,m_fx)\n",
        "VaRfr2_acc_div=matrix(0,1,m_acc)\n",
        "CVaRCont_acc_div=matrix(0,1,m)\n",
        "CVaRfr1_acc_div=matrix(0,1,m_fx)\n",
        "CVaRfr2_acc_div=matrix(0,1,m_acc)\n",
        "for (i in (1:m))\n",
        "{\n",
        "  VaRCont_acc_div[i]=quantile(PG_acc_div[,i],1-alpha,Ns)\n",
        "  CVaRCont_acc_div[i]= mean(merge(which(PG_acc_div[,i]<VaRCont_acc_div[i]),cbind(seq(1,Ns),PG_acc_div[,i]), by.x=1,by.y=1)[,2])\n",
        "  if (i<=m_fx)\n",
        "  {\n",
        "  VaRfr1_acc_div[i]=quantile(PGfr1_acc_div[,i],1-alpha,Ns)\n",
        "  CVaRfr1_acc_div[i]= mean(merge(which(PGfr1_acc_div[,i]<VaRfr1_acc_div[i]),cbind(seq(1,Ns),PGfr1_acc_div[,i]), by.x=1,by.y=1)[,2])\n",
        "  }\n",
        "  if (i<=m_acc)\n",
        "  {  \n",
        "  VaRfr2_acc_div[i]=quantile(PGfr2_acc_div[,i],1-alpha,Ns)\n",
        "  CVaRfr2_acc_div[i]= mean(merge(which(PGfr2_acc_div[,i]<VaRfr2_acc_div[i]),cbind(seq(1,Ns),PGfr2_acc_div[,i]), by.x=1,by.y=1)[,2])\n",
        "  }\n",
        "}\n",
        "Met\n",
        "VaRCont_acc_div\n",
        "VaRfr1_acc_div\n",
        "VaRfr2_acc_div\n",
        "CVaRCont_acc_div\n",
        "CVaRfr1_acc_div\n",
        "CVaRfr2_acc_div\n",
        "\n",
        "\n",
        "#VaR Total\n",
        "Met\n",
        "VaRTotal_acc_div=quantile(PGT_acc_div,1-alpha,Ns)\n",
        "CVaRTotal_acc_div= mean(merge(which(PGT_acc_div<VaRTotal_acc_div),cbind(seq(1,Ns),PGT_acc_div), by.x=1,by.y=1)[,2])\n",
        "VaRTotalfr1_acc_div=quantile(PGfr1T_acc_div,1-alpha,Ns)\n",
        "CVaRTotalfr1_acc_div= mean(PGfr1T_acc_div[which(PGfr1T_acc_div<VaRTotalfr1_acc_div),])\n",
        "VaRTotalfr2_acc_div=quantile(PGfr2T_acc_div,1-alpha,Ns)\n",
        "CVaRTotalfr2_acc_div= mean(PGfr2T_acc_div[which(PGfr2T_acc_div<VaRTotalfr2_acc_div),])\n",
        "\n",
        "\n"
      ]
    },
    {
      "cell_type": "code",
      "execution_count": null,
      "metadata": {
        "colab": {
          "base_uri": "https://localhost:8080/"
        },
        "id": "bxeyzvmMEX8Y",
        "outputId": "8ab853f2-b68a-457f-e02c-e038affa920d"
      },
      "outputs": [
        {
          "output_type": "stream",
          "name": "stdout",
          "text": [
            "[1] \"AMXL.MX\"     \"GCARSOA1.MX\" \"WALMEX.MX\"  \n",
            "[1] \"EURUSD=X\" \"GBPUSD=X\" \"USDMXN=X\"\n",
            "[1] \"VaR total divisas\"\n",
            "       2% \n",
            "-89.57915 \n",
            "[1] \"CVaR total divisas\"\n",
            "[1] -109.9216\n",
            "[1] \"VaR total acciones\"\n",
            "      2% \n",
            "-3058.44 \n",
            "[1] \"CVaR total acciones\"\n",
            "[1] -3683.301\n",
            "[1] \"VaR posicion divisas\"\n",
            "          [,1]      [,2]      [,3]\n",
            "[1,] -42.49163 -46.10809 -85.32446\n",
            "[1] \"CVaR posicion divisas\"\n",
            "          [,1]      [,2]      [,3]\n",
            "[1,] -51.40502 -58.04925 -103.7486\n",
            "[1] \"VaR posicion acciones\"\n",
            "          [,1]      [,2]      [,3]\n",
            "[1,] -902.0177 -2700.444 -1281.844\n",
            "[1] \"CVaR posicion acciones\"\n",
            "         [,1]      [,2]      [,3]\n",
            "[1,] -1083.26 -3306.325 -1557.147\n"
          ]
        }
      ],
      "source": [
        "%%R\n",
        "print(Symbols)\n",
        "\n",
        "print(SymbolsFX)\n",
        "\n",
        "print(\"VaR total divisas\")\n",
        "print(VaRTotalfr1_acc_div)\n",
        "print(\"CVaR total divisas\")\n",
        "print(CVaRTotalfr1_acc_div)\n",
        "\n",
        "print(\"VaR total acciones\")\n",
        "print(VaRTotalfr2_acc_div)\n",
        "print(\"CVaR total acciones\")\n",
        "print(CVaRTotalfr2_acc_div)\n",
        "\n",
        "print(\"VaR posicion divisas\")\n",
        "print(VaRfr1_acc_div)\n",
        "print(\"CVaR posicion divisas\")\n",
        "print(CVaRfr1_acc_div)\n",
        "\n",
        "print(\"VaR posicion acciones\")\n",
        "print(VaRfr2_acc_div)\n",
        "print(\"CVaR posicion acciones\")\n",
        "print(CVaRfr2_acc_div)\n"
      ]
    },
    {
      "cell_type": "markdown",
      "metadata": {
        "id": "k4dnOo4fSaa9"
      },
      "source": [
        "### Cetes"
      ]
    },
    {
      "cell_type": "code",
      "execution_count": null,
      "metadata": {
        "colab": {
          "base_uri": "https://localhost:8080/"
        },
        "id": "8PAihVjfH1Zi",
        "outputId": "02dc9446-4b3f-4a90-ea47-f5dc35d57e55"
      },
      "outputs": [
        {
          "output_type": "stream",
          "name": "stdout",
          "text": [
            "       2% \n",
            "-3.386649 \n",
            "[1] -4.096629\n"
          ]
        }
      ],
      "source": [
        "%%R\n",
        "#Medición de riesgo por instrumento, instrumento-factor de riesgo, instrumento - total\n",
        "\n",
        "\n",
        "#Cálculo de matriz de pérdidas y ganancias Acciones y Divisas\n",
        "\n",
        "#riesgo del acciones y divisas\n",
        "m = 1\n",
        "X_s_cetes=matrix(0,Ns,n_if[2])\n",
        "V_cetes=matrix(0,Ns,m)\n",
        "PG_cetes=matrix(0,Ns,m)\n",
        "\n",
        "DeltaX_s_cete=DeltaX_s[,sum(n_if[1:1],1):sum(n_if[1:2])]     #PASO CLAVE\n",
        "\n",
        "for (i in 1:Ns)\n",
        "{\n",
        "  X_s_cetes[i,]=as.matrix(x0_bcc[1]*(1+DeltaX_s_cete[i]))\n",
        "  #PASO CLAVE\n",
        "  V_cetes[i,]=bonocupcero(X_s_cetes[i,1], plazos_bcc[1])*contratos_bcc*nominal_bcc\n",
        "  #PASO CLAVE\n",
        "  PG_cetes[i,]=V_cetes[i,]-V0_bcc[1]\n",
        "}\n",
        "\n",
        "#VaR por posición\n",
        "VaRCont_cetes=matrix(0,1,m)\n",
        "CVaRCont_cetes=matrix(0,1,m)\n",
        "for (i in (1:m))\n",
        "{\n",
        "  VaRCont_cetes[i]=quantile(PG_cetes[,i],1-alpha,Ns)\n",
        "  CVaRCont_acc_div[i]= mean(merge(which(PG_cetes[,i]<VaRCont_cetes[i]),cbind(seq(1,Ns),PG_cetes[,i]), by.x=1,by.y=1)[,2])\n",
        "}\n",
        "\n",
        "VaRCont_acc_div\n",
        "CVaRCont_acc_div\n",
        "\n",
        "#VaR Total\n",
        "VaRTotal_cetes=quantile(PG_cetes,1-alpha,Ns)\n",
        "CVaRTotal_cetes= mean(merge(which(PG_cetes<VaRTotal_cetes),cbind(seq(1,Ns),PG_cetes), by.x=1,by.y=1)[,2])\n",
        "print(VaRTotal_cetes)\n",
        "print(CVaRTotal_cetes)"
      ]
    },
    {
      "cell_type": "markdown",
      "metadata": {
        "id": "BubqGOCqSfJF"
      },
      "source": [
        "### Bondes D"
      ]
    },
    {
      "cell_type": "code",
      "execution_count": null,
      "metadata": {
        "colab": {
          "base_uri": "https://localhost:8080/"
        },
        "id": "f_z_QfjqSh0W",
        "outputId": "34180a62-4a43-4d9e-df5f-d39b338c835f"
      },
      "outputs": [
        {
          "output_type": "stream",
          "name": "stdout",
          "text": [
            "      2% \n",
            "-393.889 \n",
            "[1] -561.6256\n",
            "   VaRTotalfr1_bd VaRTotalfr2_bd VaRTotalfr3_bd\n",
            "2%      -304.3506      -186.6043      -79.09967\n",
            "     CVaRTotalfr1_bd CVaRTotalfr2_bd CVaRTotalfr3_bd\n",
            "[1,]       -494.5009       -238.7238       -97.87296\n"
          ]
        }
      ],
      "source": [
        "%%R\n",
        "\n",
        "#Cálculo de matriz de pérdidas y ganancias BONDES\n",
        "#dimensión\n",
        "m=count(N_bd)    #PASO CLAVE\n",
        "X_s_bd=matrix(0,Ns,n_if[3]) #Factores de riesgo simulados con base en DeltaX_s x0*(1+Delta_Xs)   #PASO CLAVE\n",
        "V_bd=matrix(0,Ns,m)\n",
        "Vfr1_bd=matrix(0,Ns,m)\n",
        "Vfr2_bd=matrix(0,Ns,m)\n",
        "Vfr3_bd=matrix(0,Ns,m)\n",
        "PG_bd=matrix(0,Ns,m) #Pèrdidas y ganancias\n",
        "PGfr1_bd=matrix(0,Ns,m)\n",
        "PGfr2_bd=matrix(0,Ns,m)\n",
        "PGfr3_bd=matrix(0,Ns,m)\n",
        "PGT_bd=matrix(0,Ns,1)\n",
        "PGfr1T_bd=matrix(0,Ns,1)\n",
        "PGfr2T_bd=matrix(0,Ns,1)\n",
        "PGfr3T_bd=matrix(0,Ns,1)\n",
        "\n",
        "DeltaX_s_bd=DeltaX_s[,sum(n_if[1:2],1):sum(n_if[1:3])]    #PASO CLAVE\n",
        "x0_bd=X_bd_ext[1,]    #PASO CLAVE\n",
        "\n",
        "for (i in 1:Ns)\n",
        "{\n",
        "  X_s_bd[i,]=x0_bd*(1+DeltaX_s_bd[i,])\n",
        "  #PASO CLAVE\n",
        "  V_bd[i,]=bondeD(contratos_bdmT, nominal_bdm, X_s_bd[i,1], plazocupon_bdmT, VTplazos_bdm, X_s_bd[i,(n_if[3]/3+1):(n_if[3]*2/3)], X_s_bd[i,(n_if[3]*2/3+1):(n_if[3])], N_bd,ddv)\n",
        "  #PASO CLAVE\n",
        "  Vfr1_bd[i,]=bondeD(contratos_bdmT, nominal_bdm, X_s_bd[i,1], plazocupon_bdmT, VTplazos_bdm, x0_bd[(n_if[3]/3+1):(n_if[3]*2/3)], x0_bd[(n_if[3]*2/3+1):(n_if[3])], N_bd,ddv)\n",
        "  #PASO CLAVE\n",
        "  Vfr2_bd[i,]=bondeD(contratos_bdmT, nominal_bdm, x0_bd[1], plazocupon_bdmT, VTplazos_bdm, X_s_bd[i,(n_if[3]/3+1):(n_if[3]*2/3)], x0_bd[(n_if[3]*2/3+1):(n_if[3])], N_bd,ddv)\n",
        "  #PASO CLAVE\n",
        "  Vfr3_bd[i,]=bondeD(contratos_bdmT, nominal_bdm, x0_bd[1], plazocupon_bdmT, VTplazos_bdm, x0_bd[(n_if[3]/3+1):(n_if[3]*2/3)], X_s_bd[i,(n_if[3]*2/3+1):(n_if[3])], N_bd,ddv)\n",
        "  #PASO CLAVE\n",
        "  PG_bd[i,]=V_bd[i,]-V0_bd\n",
        "  PGfr1_bd[i,]=Vfr1_bd[i,]-V0_bd\n",
        "  PGfr2_bd[i,]=Vfr2_bd[i,]-V0_bd\n",
        "  PGfr3_bd[i,]=Vfr3_bd[i,]-V0_bd\n",
        "  PGT_bd[i,]=sum(PG_bd[i,])\n",
        "  PGfr1T_bd[i,]=sum(PGfr1_bd[i,])\n",
        "  PGfr2T_bd[i,]=sum(PGfr2_bd[i,])\n",
        "  PGfr3T_bd[i,]=sum(PGfr3_bd[i,])\n",
        "}\n",
        "\n",
        "\n",
        "\n",
        "PG_bd[1:5,]\n",
        "PGfr1_bd[1:5,]\n",
        "PGfr2_bd[1:5,]\n",
        "PGT_bd[1:5,]\n",
        "\n",
        "\n",
        "#VaR por posición\n",
        "VaRCont_bd=matrix(0,1,m)\n",
        "VaRfr1_bd=matrix(0,1,m)\n",
        "VaRfr2_bd=matrix(0,1,m)\n",
        "VaRfr3_bd=matrix(0,1,m)\n",
        "CVaRCont_bd=matrix(0,1,m)\n",
        "CVaRfr1_bd=matrix(0,1,m)\n",
        "CVaRfr2_bd=matrix(0,1,m)\n",
        "CVaRfr3_bd=matrix(0,1,m)\n",
        "for (i in (1:m))\n",
        "{\n",
        "  VaRCont_bd[i]=quantile(PG_bd[,i],1-alpha,Ns)\n",
        "  VaRfr1_bd[i]=quantile(PGfr1_bd[,i],1-alpha,Ns)\n",
        "  VaRfr2_bd[i]=quantile(PGfr2_bd[,i],1-alpha,Ns)\n",
        "  VaRfr3_bd[i]=quantile(PGfr3_bd[,i],1-alpha,Ns)\n",
        "  CVaRfr1_bd[i]= mean(merge(which(PGfr1_bd[,i]<VaRfr1_bd[i]),cbind(seq(1,Ns),PGfr1_bd[,i]), by.x=1,by.y=1)[,2])\n",
        "  CVaRfr2_bd[i]= mean(merge(which(PGfr2_bd[,i]<VaRfr2_bd[i]),cbind(seq(1,Ns),PGfr2_bd[,i]), by.x=1,by.y=1)[,2])\n",
        "  CVaRfr3_bd[i]= mean(merge(which(PGfr3_bd[,i]<VaRfr3_bd[i]),cbind(seq(1,Ns),PGfr3_bd[,i]), by.x=1,by.y=1)[,2])\n",
        "  CVaRCont_bd[i]= mean(merge(which(PG_bd[,i]<VaRCont_bd[i]),cbind(seq(1,Ns),PG_bd[,i]), by.x=1,by.y=1)[,2])\n",
        "}\n",
        "Met\n",
        "VaRCont_bd\n",
        "VaRfr1_bd\n",
        "VaRfr2_bd\n",
        "CVaRCont_bd\n",
        "CVaRfr1_bd\n",
        "CVaRfr2_bd\n",
        "\n",
        "\n",
        "#VaR Total\n",
        "Met\n",
        "VaRTotal_bd=quantile(PGT_bd,1-alpha,Ns)\n",
        "CVaRTotal_bd= mean(merge(which(PGT_bd<VaRTotal_bd),cbind(seq(1,Ns),PGT_bd), by.x=1,by.y=1)[,2])\n",
        "VaRTotalfr1_bd=quantile(PGfr1T_bd,1-alpha,Ns)\n",
        "CVaRTotalfr1_bd= mean(PGfr1T_bd[which(PGfr1T_bd<VaRTotalfr1_bd),])\n",
        "VaRTotalfr2_bd=quantile(PGfr2T_bd,1-alpha,Ns)\n",
        "CVaRTotalfr2_bd= mean(PGfr2T_bd[which(PGfr2T_bd<VaRTotalfr2_bd),])\n",
        "VaRTotalfr3_bd=quantile(PGfr3T_bd,1-alpha,Ns)\n",
        "CVaRTotalfr3_bd= mean(PGfr3T_bd[which(PGfr2T_bd<VaRTotalfr2_bd),])\n",
        "\n",
        "print(VaRTotal_bd)\n",
        "print(CVaRTotal_bd)\n",
        "print(cbind(VaRTotalfr1_bd, VaRTotalfr2_bd, VaRTotalfr3_bd))\n",
        "print(cbind(CVaRTotalfr1_bd, CVaRTotalfr2_bd, CVaRTotalfr3_bd))\n"
      ]
    },
    {
      "cell_type": "markdown",
      "metadata": {
        "id": "EsSx0_q3TIvV"
      },
      "source": [
        "### Futuros: Tipo de cambio"
      ]
    },
    {
      "cell_type": "code",
      "execution_count": null,
      "metadata": {
        "id": "KGKxbrINTNnN"
      },
      "outputs": [],
      "source": [
        "%%R\n",
        "\n",
        "#Cálculo de matriz de pérdidas y ganancias FUTUROS TDC\n",
        "#dimensión\n",
        "m=ncol(plazos_fwd)  #PASO CLAVE\n",
        "X_s_fwtdc=matrix(0,Ns,n_if[4]) #Factores de riesgo simulados con base en DeltaX_s x0*(1+Delta_Xs) #PASO CLAVE\n",
        "V_fwtdc=matrix(0,Ns,m)\n",
        "Vfr1_fwtdc=matrix(0,Ns,m)\n",
        "Vfr2_fwtdc=matrix(0,Ns,m)\n",
        "Vfr3_fwtdc=matrix(0,Ns,m)\n",
        "PG_fwtdc=matrix(0,Ns,m) #Pèrdidas y ganancias\n",
        "PGfr1_fwtdc=matrix(0,Ns,m)\n",
        "PGfr2_fwtdc=matrix(0,Ns,m)\n",
        "PGfr3_fwtdc=matrix(0,Ns,m)\n",
        "PGT_fwtdc=matrix(0,Ns,1)\n",
        "PGfr1T_fwtdc=matrix(0,Ns,1)\n",
        "PGfr2T_fwtdc=matrix(0,Ns,1)\n",
        "PGfr3T_fwtdc=matrix(0,Ns,1)\n",
        "\n",
        "DeltaX_s_fwtdc=DeltaX_s[,sum(n_if[1:3],1):sum(n_if[1:4])]  #PASO CLAVE\n",
        "x0_fwtdc=X_futtdc[1,] #PASO CLAVE\n",
        "\n",
        "for (i in 1:Ns)\n",
        "{\n",
        "  X_s_fwtdc[i,]=x0_fwtdc*(1+DeltaX_s_fwtdc[i,])\n",
        "  #PASO CLAVE\n",
        "  V_fwtdc[i,]=futuroTC(plazos_fwd,X_s_fwtdc[i,1:((n_if[4]-1)/2)],X_s_fwtdc[i,((n_if[4]-1)/2+1):(n_if[4]-1)],X_s_fwtdc[i,(n_if[4])],kst_fwd)*contratos_fwd*nominal_fwd     \n",
        "  #PASO CLAVE\n",
        "  Vfr1_fwtdc[i,]=futuroTC(plazos_fwd,X_s_fwtdc[i,1:((n_if[4]-1)/2)],x0_fwtdc[((n_if[4]-1)/2+1):(n_if[4]-1)],x0_fwtdc[(n_if[4])],kst_fwd)*contratos_fwd*nominal_fwd\n",
        "  #PASO CLAVE\n",
        "  Vfr2_fwtdc[i,]=futuroTC(plazos_fwd,x0_fwtdc[1:((n_if[4]-1)/2)],X_s_fwtdc[i,((n_if[4]-1)/2+1):(n_if[4]-1)],x0_fwtdc[(n_if[4])],kst_fwd)*contratos_fwd*nominal_fwd\n",
        "  #PASO CLAVE\n",
        "  Vfr3_fwtdc[i,]=futuroTC(plazos_fwd,x0_fwtdc[1:((n_if[5]-1)/2)],x0_fwtdc[((n_if[4]-1)/2+1):(n_if[4]-1)],X_s_fwtdc[i,(n_if[4])],kst_fwd)*contratos_fwd*nominal_fwd\n",
        "  PG_fwtdc[i,]=V_fwtdc[i,]-V0_fwtdc\n",
        "  PGfr1_fwtdc[i,]=Vfr1_fwtdc[i,]-V0_fwtdc\n",
        "  PGfr2_fwtdc[i,]=Vfr2_fwtdc[i,]-V0_fwtdc\n",
        "  PGfr3_fwtdc[i,]=Vfr3_fwtdc[i,]-V0_fwtdc\n",
        "  PGT_fwtdc[i,]=sum(PG_fwtdc[i,])\n",
        "  PGfr1T_fwtdc[i,]=sum(PGfr1_fwtdc[i,])\n",
        "  PGfr2T_fwtdc[i,]=sum(PGfr2_fwtdc[i,])\n",
        "  PGfr3T_fwtdc[i,]=sum(PGfr3_fwtdc[i,])\n",
        "}\n",
        "\n",
        "\n",
        "\n",
        "PG_fwtdc[1:5,]\n",
        "PGfr1_fwtdc[1:5,]\n",
        "PGfr2_fwtdc[1:5,]\n",
        "PGT_fwtdc[1:5,]\n",
        "\n",
        "\n",
        "#VaR por posición\n",
        "VaRCont_fwtdc=matrix(0,1,m)\n",
        "VaRfr1_fwtdc=matrix(0,1,m)\n",
        "VaRfr2_fwtdc=matrix(0,1,m)\n",
        "VaRfr3_fwtdc=matrix(0,1,m)\n",
        "CVaRCont_fwtdc=matrix(0,1,m)\n",
        "CVaRfr1_fwtdc=matrix(0,1,m)\n",
        "CVaRfr2_fwtdc=matrix(0,1,m)\n",
        "CVaRfr3_fwtdc=matrix(0,1,m)\n",
        "for (i in (1:m))\n",
        "{\n",
        "  VaRCont_fwtdc[i]=quantile(PG_fwtdc[,i],1-alpha,Ns)\n",
        "  VaRfr1_fwtdc[i]=quantile(PGfr1_fwtdc[,i],1-alpha,Ns)\n",
        "  VaRfr2_fwtdc[i]=quantile(PGfr2_fwtdc[,i],1-alpha,Ns)\n",
        "  VaRfr3_fwtdc[i]=quantile(PGfr3_fwtdc[,i],1-alpha,Ns)\n",
        "  CVaRfr1_fwtdc[i]= mean(merge(which(PGfr1_fwtdc[,i]<VaRfr1_fwtdc[i]),cbind(seq(1,Ns),PGfr1_fwtdc[,i]), by.x=1,by.y=1)[,2])\n",
        "  CVaRfr2_fwtdc[i]= mean(merge(which(PGfr2_fwtdc[,i]<VaRfr2_fwtdc[i]),cbind(seq(1,Ns),PGfr2_fwtdc[,i]), by.x=1,by.y=1)[,2])\n",
        "  CVaRfr3_fwtdc[i]= mean(merge(which(PGfr3_fwtdc[,i]<VaRfr3_fwtdc[i]),cbind(seq(1,Ns),PGfr3_fwtdc[,i]), by.x=1,by.y=1)[,2])\n",
        "  CVaRCont_fwtdc[i]= mean(merge(which(PG_fwtdc[,i]<VaRCont_fwtdc[i]),cbind(seq(1,Ns),PG_fwtdc[,i]), by.x=1,by.y=1)[,2])\n",
        "}\n",
        "Met\n",
        "VaRCont_fwtdc\n",
        "VaRfr1_fwtdc\n",
        "VaRfr2_fwtdc\n",
        "CVaRCont_fwtdc\n",
        "CVaRfr1_fwtdc\n",
        "CVaRfr2_fwtdc\n",
        "\n",
        "\n",
        "#VaR Total\n",
        "Met\n",
        "VaRTotal_fwtdc=quantile(PGT_fwtdc,1-alpha,Ns)\n",
        "CVaRTotal_fwtdc= mean(merge(which(PGT_fwtdc<VaRTotal_fwtdc),cbind(seq(1,Ns),PGT_fwtdc), by.x=1,by.y=1)[,2])\n",
        "VaRTotalfr1_fwtdc=quantile(PGfr1T_fwtdc,1-alpha,Ns)\n",
        "CVaRTotalfr1_fwtdc= mean(PGfr1T_fwtdc[which(PGfr1T_fwtdc<VaRTotalfr1_fwtdc),])\n",
        "VaRTotalfr2_fwtdc=quantile(PGfr2T_fwtdc,1-alpha,Ns)\n",
        "CVaRTotalfr2_fwtdc= mean(PGfr2T_fwtdc[which(PGfr2T_fwtdc<VaRTotalfr2_fwtdc),])\n",
        "VaRTotalfr3_fwtdc=quantile(PGfr3T_fwtdc,1-alpha,Ns)\n",
        "CVaRTotalfr3_fwtdc= mean(PGfr3T_fwtdc[which(PGfr2T_fwtdc<VaRTotalfr2_fwtdc),])\n"
      ]
    },
    {
      "cell_type": "code",
      "source": [
        "%%R\n",
        "print(Met)\n",
        "print(\"VaR total\")\n",
        "print(VaRTotal_fwtdc)\n",
        "print(\"CVaR total\")\n",
        "print(CVaRTotal_fwtdc)\n",
        "\n",
        "print(\"VaR total fr 1\")\n",
        "print(VaRTotalfr1_fwtdc)\n",
        "print(\"VaR total fr 2\")\n",
        "print(VaRTotalfr2_fwtdc)\n",
        "print(\"VaR total fr 3\")\n",
        "print(VaRTotalfr3_fwtdc)\n",
        "\n",
        "print(\"CVaR total fr 1\")\n",
        "print(CVaRTotalfr1_fwtdc)\n",
        "print(\"CVaR total fr 2\")\n",
        "print(CVaRTotalfr2_fwtdc)\n",
        "print(\"CVaR total fr 3\")\n",
        "print(CVaRTotalfr3_fwtdc)"
      ],
      "metadata": {
        "colab": {
          "base_uri": "https://localhost:8080/"
        },
        "id": "DQTmtQplCgGP",
        "outputId": "f86317b3-4bf7-47f1-dcdd-563864ec0132"
      },
      "execution_count": null,
      "outputs": [
        {
          "output_type": "stream",
          "name": "stdout",
          "text": [
            "[1] \"Componentes Principales Empíricos\"\n",
            "[1] \"VaR total\"\n",
            "       2% \n",
            "-5.686141 \n",
            "[1] \"CVaR total\"\n",
            "[1] -6.914257\n",
            "[1] \"VaR total fr 1\"\n",
            "           2% \n",
            "-0.0007878616 \n",
            "[1] \"VaR total fr 2\"\n",
            "          2% \n",
            "-0.001623118 \n",
            "[1] \"VaR total fr 3\"\n",
            "      2% \n",
            "-5.68641 \n",
            "[1] \"CVaR total fr 1\"\n",
            "[1] -0.0009537866\n",
            "[1] \"CVaR total fr 2\"\n",
            "[1] -0.002018223\n",
            "[1] \"CVaR total fr 3\"\n",
            "[1] 1.18971\n"
          ]
        }
      ]
    },
    {
      "cell_type": "markdown",
      "metadata": {
        "id": "2yctnRkHTkF9"
      },
      "source": [
        "### Futuros: IPC"
      ]
    },
    {
      "cell_type": "code",
      "execution_count": null,
      "metadata": {
        "id": "xe3DshUdTpw9"
      },
      "outputs": [],
      "source": [
        "%%R\n",
        "\n",
        "#Cálculo de matriz de pérdidas y ganancias FUTUROS IPC\n",
        "m=ncol(plazos_fwd_ind)  #PASO CLAVE\n",
        "X_s_fwind=matrix(0,Ns,n_if[5]) #Factores de riesgo simulados con base en DeltaX_s x0*(1+Delta_Xs) #PASO CLAVE\n",
        "V_fwind=matrix(0,Ns,m)\n",
        "Vfr1_fwind=matrix(0,Ns,m)\n",
        "Vfr2_fwind=matrix(0,Ns,m)\n",
        "Vfr3_fwind=matrix(0,Ns,m)\n",
        "PG_fwind=matrix(0,Ns,m) #Pèrdidas y ganancias\n",
        "PGfr1_fwind=matrix(0,Ns,m)\n",
        "PGfr2_fwind=matrix(0,Ns,m)\n",
        "PGfr3_fwind=matrix(0,Ns,m)\n",
        "PGT_fwind=matrix(0,Ns,1)\n",
        "PGfr1T_fwind=matrix(0,Ns,1)\n",
        "PGfr2T_fwind=matrix(0,Ns,1)\n",
        "PGfr3T_fwind=matrix(0,Ns,1)\n",
        "\n",
        "DeltaX_s_fwind=DeltaX_s[,sum(n_if[1:4],1):sum(n_if[1:5])]  #PASO CLAVE\n",
        "x0_fwind=X_futind[1,] #PASO CLAVE\n",
        "\n",
        "\n",
        "for (i in 1:Ns)\n",
        "{\n",
        "  X_s_fwind[i,]=x0_fwind*(1+DeltaX_s_fwind[i,])\n",
        "  #PASO CLAVE\n",
        "  V_fwind[i,]=futuroTC(plazos_fwd_ind,X_s_fwind[i,1:(n_if[5]/3)],X_s_fwind[i,(n_if[5]/3+1):(n_if[5]*2/3)],X_s_fwind[i,(n_if[5]*2/3+1):n_if[5]],kst_fwd_ind)*contratos_fwd_ind*nominal_fwd_ind     \n",
        "  Vfr1_fwind[i,]=futuroTC(plazos_fwd_ind,X_s_fwind[i,1:(n_if[5]/3)],x0_fwind[(n_if[5]/3+1):(n_if[5]*2/3)],x0_fwind[(n_if[5]*2/3+1):n_if[5]],kst_fwd_ind)*contratos_fwd_ind*nominal_fwd_ind\n",
        "  #PASO CLAVE\n",
        "  Vfr2_fwind[i,]=futuroTC(plazos_fwd_ind,x0_fwind[1:(n_if[5]/3)],X_s_fwind[i,(n_if[5]/3+1):(n_if[5]*2/3)],x0_fwind[(n_if[5]*2/3+1):n_if[5]],kst_fwd_ind)*contratos_fwd_ind*nominal_fwd_ind\n",
        "  #PASO CLAVE\n",
        "  Vfr3_fwind[i,]=futuroTC(plazos_fwd_ind,x0_fwind[1:(n_if[5]/3)],x0_fwind[(n_if[5]/3+1):(n_if[5]*2/3)],X_s_fwind[i,(n_if[5]*2/3+1):n_if[5]],kst_fwd_ind)*contratos_fwd_ind*nominal_fwd_ind\n",
        "  PG_fwind[i,]=V_fwind[i,]-V0_fwind\n",
        "  PGfr1_fwind[i,]=Vfr1_fwind[i,]-V0_fwind\n",
        "  PGfr2_fwind[i,]=Vfr2_fwind[i,]-V0_fwind\n",
        "  PGfr3_fwind[i,]=Vfr3_fwind[i,]-V0_fwind\n",
        "  PGT_fwind[i,]=sum(PG_fwind[i,])\n",
        "  PGfr1T_fwind[i,]=sum(PGfr1_fwind[i,])\n",
        "  PGfr2T_fwind[i,]=sum(PGfr2_fwind[i,])\n",
        "  PGfr3T_fwind[i,]=sum(PGfr3_fwind[i,])\n",
        "}\n",
        "\n",
        "\n",
        "PG_fwind[1:5,]\n",
        "#PGfr1_fwind[1:5,]\n",
        "#PGfr2_fwind[1:5,]\n",
        "#PGT_fwind[1:5,]\n",
        "\n",
        "\n",
        "\n",
        "#VaR por posición\n",
        "VaRCont_fwind=matrix(0,1,m)\n",
        "VaRfr1_fwind=matrix(0,1,m)\n",
        "VaRfr2_fwind=matrix(0,1,m)\n",
        "VaRfr3_fwind=matrix(0,1,m)\n",
        "CVaRCont_fwind=matrix(0,1,m)\n",
        "CVaRfr1_fwind=matrix(0,1,m)\n",
        "CVaRfr2_fwind=matrix(0,1,m)\n",
        "CVaRfr3_fwind=matrix(0,1,m)\n",
        "for (i in (1:m))\n",
        "{\n",
        "  VaRCont_fwind[i]=quantile(PG_fwind[,i],1-alpha,Ns)\n",
        "  VaRfr1_fwind[i]=quantile(PGfr1_fwind[,i],1-alpha,Ns)\n",
        "  VaRfr2_fwind[i]=quantile(PGfr2_fwind[,i],1-alpha,Ns)\n",
        "  VaRfr3_fwind[i]=quantile(PGfr3_fwind[,i],1-alpha,Ns)\n",
        "  CVaRfr1_fwind[i]= mean(merge(which(PGfr1_fwind[,i]<VaRfr1_fwind[i]),cbind(seq(1,Ns),PGfr1_fwind[,i]), by.x=1,by.y=1)[,2])\n",
        "  CVaRfr2_fwind[i]= mean(merge(which(PGfr2_fwind[,i]<VaRfr2_fwind[i]),cbind(seq(1,Ns),PGfr2_fwind[,i]), by.x=1,by.y=1)[,2])\n",
        "  CVaRfr3_fwind[i]= mean(merge(which(PGfr3_fwind[,i]<VaRfr3_fwind[i]),cbind(seq(1,Ns),PGfr3_fwind[,i]), by.x=1,by.y=1)[,2])\n",
        "  CVaRCont_fwind[i]= mean(merge(which(PG_fwind[,i]<VaRCont_fwind[i]),cbind(seq(1,Ns),PG_fwind[,i]), by.x=1,by.y=1)[,2])\n",
        "}\n",
        "Met\n",
        "VaRCont_fwind\n",
        "VaRfr1_fwind\n",
        "VaRfr2_fwind\n",
        "CVaRCont_fwind\n",
        "CVaRfr1_fwind\n",
        "CVaRfr2_fwind\n",
        "\n",
        "\n",
        "#VaR Total\n",
        "Met\n",
        "VaRTotal_fwind=quantile(PGT_fwind,1-alpha,Ns)\n",
        "CVaRTotal_fwind= mean(merge(which(PGT_fwind<VaRTotal_fwind),cbind(seq(1,Ns),PGT_fwind), by.x=1,by.y=1)[,2])\n",
        "VaRTotalfr1_fwind=quantile(PGfr1T_fwind,1-alpha,Ns)\n",
        "CVaRTotalfr1_fwind= mean(PGfr1T_fwind[which(PGfr1T_fwind<VaRTotalfr1_fwind),])\n",
        "VaRTotalfr2_fwind=quantile(PGfr2T_fwind,1-alpha,Ns)\n",
        "CVaRTotalfr2_fwind= mean(PGfr2T_fwind[which(PGfr2T_fwind<VaRTotalfr2_fwind),])\n",
        "VaRTotalfr3_fwind=quantile(PGfr3T_fwind,1-alpha,Ns)\n",
        "CVaRTotalfr3_fwind= mean(PGfr3T_fwind[which(PGfr3T_fwind<VaRTotalfr3_fwind),])\n",
        "\n"
      ]
    },
    {
      "cell_type": "code",
      "source": [
        "%%R\n",
        "print(Met)\n",
        "print(\"VaR total\")\n",
        "print(VaRTotal_fwind)\n",
        "print(\"CVaR total\")\n",
        "print(CVaRTotal_fwind)\n",
        "\n",
        "print(\"VaR total fr 1\")\n",
        "print(VaRTotalfr1_fwind)\n",
        "print(\"VaR total fr 2\")\n",
        "print(VaRTotalfr2_fwind)\n",
        "print(\"VaR total fr 3\")\n",
        "print(VaRTotalfr3_fwind)\n",
        "\n",
        "print(\"CVaR total fr 1\")\n",
        "print(CVaRTotalfr1_fwind)\n",
        "print(\"CVaR total fr 2\")\n",
        "print(CVaRTotalfr2_fwind)\n",
        "print(\"CVaR total fr 3\")\n",
        "print(CVaRTotalfr3_fwind)"
      ],
      "metadata": {
        "colab": {
          "base_uri": "https://localhost:8080/"
        },
        "id": "80WPy9LiCaTD",
        "outputId": "3863a169-4375-4240-c999-e1c4cfe27d83"
      },
      "execution_count": null,
      "outputs": [
        {
          "output_type": "stream",
          "name": "stdout",
          "text": [
            "[1] \"Componentes Principales Empíricos\"\n",
            "[1] \"VaR total\"\n",
            "       2% \n",
            "-28592.44 \n",
            "[1] \"CVaR total\"\n",
            "[1] -34698.9\n",
            "[1] \"VaR total fr 1\"\n",
            "2% \n",
            " 0 \n",
            "[1] \"VaR total fr 2\"\n",
            "       2% \n",
            "-286.1903 \n",
            "[1] \"VaR total fr 3\"\n",
            "       2% \n",
            "-28680.23 \n",
            "[1] \"CVaR total fr 1\"\n",
            "[1] NaN\n",
            "[1] \"CVaR total fr 2\"\n",
            "[1] -350.2783\n",
            "[1] \"CVaR total fr 3\"\n",
            "[1] -34804.85\n"
          ]
        }
      ]
    },
    {
      "cell_type": "code",
      "source": [
        "%%R\n",
        "PGT_forwards = PGT_fwtdc+PGT_fwind\n",
        "\n",
        "VaRT_forwards = equantile(PGT_forwards,1-alpha,Ns)\n",
        "CVaRT_forwards = mean(merge(which(PGT_forwards<VaRT_forwards),cbind(seq(1,Ns),PGT_forwards), by.x=1,by.y=1)[,2])\n",
        "print(\"VaR de futuros\")\n",
        "print(VaRT_forwards)\n",
        "print(\"CVaR de futuros\")\n",
        "print(CVaRT_forwards)"
      ],
      "metadata": {
        "colab": {
          "base_uri": "https://localhost:8080/"
        },
        "id": "QppG4F_ulL2r",
        "outputId": "5629a829-44e0-4c83-b40b-efd5332dc108"
      },
      "execution_count": null,
      "outputs": [
        {
          "output_type": "stream",
          "name": "stdout",
          "text": [
            "[1] \"VaR de futuros\"\n",
            "[1] -28607.55\n",
            "[1] \"CVaR de futuros\"\n",
            "[1] -34719.11\n"
          ]
        }
      ]
    },
    {
      "cell_type": "markdown",
      "metadata": {
        "id": "Zzh4yy6mUHyV"
      },
      "source": [
        "### Swaps"
      ]
    },
    {
      "cell_type": "code",
      "execution_count": null,
      "metadata": {
        "id": "dOIWbRc4UJQM"
      },
      "outputs": [],
      "source": [
        "%%R\n",
        "#Cálculo de matriz de pérdidas y ganancias SWAP\n",
        "\n",
        "#riesgo del swap\n",
        "m=ncol(N)    #PASO CLAVE\n",
        "X_s_sw=matrix(0,Ns,n_if[6]) #Factores de riesgo simulados con base en DeltaX_s x0*(1+Delta_Xs)   #PASO CLAVE\n",
        "V_sw=matrix(0,Ns,m)\n",
        "Vfr1_sw=matrix(0,Ns,m)\n",
        "Vfr2_sw=matrix(0,Ns,m)\n",
        "PG_sw=matrix(0,Ns,m) #Pèrdidas y ganancias\n",
        "PGfr1_sw=matrix(0,Ns,m)\n",
        "PGfr2_sw=matrix(0,Ns,m)\n",
        "PGT_sw=matrix(0,Ns,1)\n",
        "PGfr1T_sw=matrix(0,Ns,1)\n",
        "PGfr2T_sw=matrix(0,Ns,1)\n",
        "\n",
        "DeltaX_s_sw=DeltaX_s[,sum(n_if[1:5],1):sum(n_if[1:6])]    #PASO CLAVE\n",
        "x0_sw=as.numeric(c(XtfwdT[1,],Xvp[1,]))   #PASO CLAVE\n",
        "\n",
        "for (i in 1:Ns)\n",
        "{\n",
        "  X_s_sw[i,]=x0_sw*(1+DeltaX_s_sw[i,])\n",
        "  #PASO CLAVE\n",
        "  V_sw[i,]=swap(por_swT, contratos_swT, nominal_swT, X_s_sw[i,1:(n_if[6]/2)], tasafija_swT, plazocupon_swT, VTplazos_sw, X_s_sw[i,(n_if[6]/2+1):(n_if[6])],N)\n",
        "  #PASO CLAVE\n",
        "  Vfr1_sw[i,]=swap(por_swT, contratos_swT, nominal_swT,X_s_sw[i,1:(n_if[6]/2)], tasafija_swT, plazocupon_swT, VTplazos_sw, Xvp[1,],N)\n",
        "  #PASO CLAVE\n",
        "  Vfr2_sw[i,]=swap(por_swT, contratos_swT, nominal_swT,  XtfwdT[1,], tasafija_swT, plazocupon_swT, VTplazos_sw, X_s_sw[i,(n_if[6]/2+1):(n_if[6])],N)\n",
        "  #PASO CLAVE\n",
        "  PG_sw[i,]=V_sw[i,]-V0_sw\n",
        "  PGfr1_sw[i,]=Vfr1_sw[i,]-V0_sw\n",
        "  PGfr2_sw[i,]=Vfr2_sw[i,]-V0_sw\n",
        "  PGT_sw[i,]=sum(PG_sw[i,])\n",
        "  PGfr1T_sw[i,]=sum(PGfr1_sw[i,])\n",
        "  PGfr2T_sw[i,]=sum(PGfr2_sw[i,])\n",
        "}\n",
        "\n",
        "\n",
        "\n",
        "PG_sw[1:5,]\n",
        "PGfr1_sw[1:5,]\n",
        "PGfr2_sw[1:5,]\n",
        "PGT_sw[1:5,]\n",
        "\n",
        "\n",
        "#VaR por posición\n",
        "VaRCont_sw=matrix(0,1,m)\n",
        "VaRfr1_sw=matrix(0,1,m)\n",
        "VaRfr2_sw=matrix(0,1,m)\n",
        "CVaRCont_sw=matrix(0,1,m)\n",
        "CVaRfr1_sw=matrix(0,1,m)\n",
        "CVaRfr2_sw=matrix(0,1,m)\n",
        "for (i in (1:m))\n",
        "{\n",
        "  VaRCont_sw[i]=quantile(PG_sw[,i],1-alpha,Ns)\n",
        "  VaRfr1_sw[i]=quantile(PGfr1_sw[,i],1-alpha,Ns)\n",
        "  VaRfr2_sw[i]=quantile(PGfr2_sw[,i],1-alpha,Ns)\n",
        "  CVaRfr1_sw[i]= mean(merge(which(PGfr1_sw[,i]<VaRfr1_sw[i]),cbind(seq(1,Ns),PGfr1_sw[,i]), by.x=1,by.y=1)[,2])\n",
        "  CVaRfr2_sw[i]= mean(merge(which(PGfr2_sw[,i]<VaRfr2_sw[i]),cbind(seq(1,Ns),PGfr2_sw[,i]), by.x=1,by.y=1)[,2])\n",
        "  CVaRCont_sw[i]= mean(merge(which(PG_sw[,i]<VaRCont_sw[i]),cbind(seq(1,Ns),PG_sw[,i]), by.x=1,by.y=1)[,2])\n",
        "}\n",
        "Met\n",
        "VaRCont_sw\n",
        "VaRfr1_sw\n",
        "VaRfr2_sw\n",
        "CVaRCont_sw\n",
        "CVaRfr1_sw\n",
        "CVaRfr2_sw\n",
        "\n",
        "\n",
        "#VaR Total\n",
        "Met\n",
        "VaRTotal_sw=quantile(PGT_sw,1-alpha,Ns)\n",
        "CVaRTotal_sw= mean(merge(which(PGT_sw<VaRTotal_sw),cbind(seq(1,Ns),PGT_sw), by.x=1,by.y=1)[,2])\n",
        "VaRTotalfr1_sw=quantile(PGfr1T_sw,1-alpha,Ns)\n",
        "CVaRTotalfr1_sw= mean(PGfr1T_sw[which(PGfr1T_sw<VaRTotalfr1_sw),])\n",
        "VaRTotalfr2_sw=quantile(PGfr2T_sw,1-alpha,Ns)\n",
        "CVaRTotalfr2_sw= mean(PGfr2T_sw[which(PGfr2T_sw<VaRTotalfr2_sw),])\n"
      ]
    },
    {
      "cell_type": "code",
      "execution_count": null,
      "metadata": {
        "colab": {
          "base_uri": "https://localhost:8080/"
        },
        "id": "Oi3GtFhUFAAo",
        "outputId": "97cc5ce6-339d-4aeb-ab11-034bc194e00f"
      },
      "outputs": [
        {
          "output_type": "stream",
          "name": "stdout",
          "text": [
            "[1] \"VaR total\"\n",
            "       2% \n",
            "-1.648325 \n",
            "[1] \"CVaR total\"\n",
            "[1] -2.109405\n",
            "[1] \"VaR total fr1\"\n",
            "       2% \n",
            "-1.648332 \n",
            "[1] \"CVaR total fr1\"\n",
            "[1] -2.109396\n",
            "[1] \"VaR total fr2\"\n",
            "          2% \n",
            "-0.001138612 \n",
            "[1] \"CVaR total fr2\"\n",
            "[1] -0.00149172\n",
            "[1] \"VaR por contrato\"\n",
            "          [,1]       [,2]\n",
            "[1,] -1.394318 -0.2895568\n",
            "[1] \"CVaR por contrato\"\n",
            "          [,1]       [,2]\n",
            "[1,] -1.794561 -0.3565985\n",
            "[1] \"VaR por contrato fr1\"\n",
            "          [,1]       [,2]\n",
            "[1,] -1.394299 -0.2895322\n",
            "[1] \"CVaR por contrato fr1\"\n",
            "          [,1]       [,2]\n",
            "[1,] -1.794557 -0.3565958\n",
            "[1] \"VaR por contrato fr2\"\n",
            "             [,1]          [,2]\n",
            "[1,] -0.001046931 -9.150213e-05\n",
            "[1] \"CVaR por contrato fr2\"\n",
            "             [,1]          [,2]\n",
            "[1,] -0.001371972 -0.0001197643\n"
          ]
        }
      ],
      "source": [
        "%%R\n",
        "print(\"VaR total\")\n",
        "print(VaRTotal_sw)\n",
        "print(\"CVaR total\")\n",
        "print(CVaRTotal_sw)\n",
        "\n",
        "print(\"VaR total fr1\")\n",
        "print(VaRTotalfr1_sw)\n",
        "print(\"CVaR total fr1\")\n",
        "print(CVaRTotalfr1_sw)\n",
        "\n",
        "print(\"VaR total fr2\")\n",
        "print(VaRTotalfr2_sw)\n",
        "print(\"CVaR total fr2\")\n",
        "print(CVaRTotalfr2_sw)\n",
        "\n",
        "print(\"VaR por contrato\")\n",
        "print(VaRCont_sw)\n",
        "print(\"CVaR por contrato\")\n",
        "print(CVaRCont_sw)\n",
        "\n",
        "print(\"VaR por contrato fr1\")\n",
        "print(VaRfr1_sw)\n",
        "print(\"CVaR por contrato fr1\")\n",
        "print(CVaRfr1_sw)\n",
        "\n",
        "print(\"VaR por contrato fr2\")\n",
        "print(VaRfr2_sw)\n",
        "print(\"CVaR por contrato fr2\")\n",
        "print(CVaRfr2_sw)"
      ]
    },
    {
      "cell_type": "markdown",
      "metadata": {
        "id": "EODi3PpRUZG2"
      },
      "source": [
        "### Opciones tasa de interés"
      ]
    },
    {
      "cell_type": "code",
      "execution_count": null,
      "metadata": {
        "id": "54Uqm6VdUcZE"
      },
      "outputs": [],
      "source": [
        "%%R\n",
        "#Cálculo de matriz de pérdidas y ganancias Opciones Tasa de interés\n",
        "#dimensión\n",
        "m=ncol(plazos_oir)  #PASO CLAVE\n",
        "X_s_oir=matrix(0,Ns,n_if[7]) #Factores de riesgo simulados con base en DeltaX_s x0*(1+Delta_Xs) #PASO CLAVE\n",
        "V_oir=matrix(0,Ns,m)\n",
        "Vfr1_oir=matrix(0,Ns,m)\n",
        "Vfr2_oir=matrix(0,Ns,m)\n",
        "Vfr3_oir=matrix(0,Ns,m)\n",
        "PG_oir=matrix(0,Ns,m) #Pèrdidas y ganancias\n",
        "PGfr1_oir=matrix(0,Ns,m)\n",
        "PGfr2_oir=matrix(0,Ns,m)\n",
        "PGfr3_oir=matrix(0,Ns,m)\n",
        "PGT_oir=matrix(0,Ns,1)\n",
        "PGfr1T_oir=matrix(0,Ns,1)\n",
        "PGfr2T_oir=matrix(0,Ns,1)\n",
        "PGfr3T_oir=matrix(0,Ns,1)\n",
        "\n",
        "DeltaX_s_oir=DeltaX_s[,sum(n_if[1:6],1):sum(n_if[1:7])]  #PASO CLAVE\n",
        "x0_oir=X_oir[1,] #PASO CLAVE\n",
        "\n",
        "for (i in 1:Ns)\n",
        "{\n",
        "  X_s_oir[i,]=x0_oir*(1+DeltaX_s_oir[i,])\n",
        "  #PASO CLAVE\n",
        "  V_oir[i,]=  opctint(X_s_oir[i,(1:(n_if[7]/3))],X_s_oir[i,((n_if[7]/3+1):(n_if[7]/3*2))],K_oir,X_s_oir[i,((n_if[7]*2/3+1):(n_if[7]))],plazos_oir,cp_oir,cs_oir,pr_oir,dct_oir)*contratos_oir*nominal_oir #Valor del portafolio  \n",
        "  #PASO CLAVE\n",
        "  Vfr1_oir[i,]=opctint(X_s_oir[i,(1:(n_if[7]/3))],x0_oir[((n_if[7]/3+1):(n_if[7]/3*2))],K_oir,x0_oir[((n_if[7]*2/3+1):(n_if[7]))],plazos_oir,cp_oir,cs_oir,pr_oir,dct_oir)*contratos_oir*nominal_oir #Valor del portafolio  \n",
        "  #PASO CLAVE\n",
        "  Vfr2_oir[i,]=opctint(x0_oir[(1:(n_if[7]/3))],X_s_oir[i,((n_if[7]/3+1):(n_if[7]/3*2))],K_oir,x0_oir[((n_if[7]*2/3+1):(n_if[7]))],plazos_oir,cp_oir,cs_oir,pr_oir,dct_oir)*contratos_oir*nominal_oir #Valor del portafolio  \n",
        "  #PASO CLAVE\n",
        "  Vfr3_oir[i,]=opctint(x0_oir[(1:(n_if[7]/3))],x0_oir[((n_if[7]/3+1):(n_if[7]/3*2))],K_oir,X_s_oir[i,((n_if[7]*2/3+1):(n_if[7]))],plazos_oir,cp_oir,cs_oir,pr_oir,dct_oir)*contratos_oir*nominal_oir #Valor del portafolio  \n",
        "  PG_oir[i,]=V_oir[i,]-V0_oir\n",
        "  PGfr1_oir[i,]=Vfr1_oir[i,]-V0_oir\n",
        "  PGfr2_oir[i,]=Vfr2_oir[i,]-V0_oir\n",
        "  PGfr3_oir[i,]=Vfr3_oir[i,]-V0_oir\n",
        "  PGT_oir[i,]=sum(PG_oir[i,])\n",
        "  PGfr1T_oir[i,]=sum(PGfr1_oir[i,])\n",
        "  PGfr2T_oir[i,]=sum(PGfr2_oir[i,])\n",
        "  PGfr3T_oir[i,]=sum(PGfr3_oir[i,])\n",
        "}\n",
        "\n",
        "\n",
        "\n",
        "PG_oir[1:5,]\n",
        "PGfr1_oir[1:5,]\n",
        "PGfr2_oir[1:5,]\n",
        "PGT_oir[1:5,]\n",
        "\n",
        "\n",
        "#VaR por posición\n",
        "VaRCont_oir=matrix(0,1,m)\n",
        "VaRfr1_oir=matrix(0,1,m)\n",
        "VaRfr2_oir=matrix(0,1,m)\n",
        "VaRfr3_oir=matrix(0,1,m)\n",
        "CVaRCont_oir=matrix(0,1,m)\n",
        "CVaRfr1_oir=matrix(0,1,m)\n",
        "CVaRfr2_oir=matrix(0,1,m)\n",
        "CVaRfr3_oir=matrix(0,1,m)\n",
        "for (i in (1:m))\n",
        "{\n",
        "  VaRCont_oir[i]=quantile(PG_oir[,i],1-alpha,Ns)\n",
        "  VaRfr1_oir[i]=quantile(PGfr1_oir[,i],1-alpha,Ns)\n",
        "  VaRfr2_oir[i]=quantile(PGfr2_oir[,i],1-alpha,Ns)\n",
        "  VaRfr3_oir[i]=quantile(PGfr3_oir[,i],1-alpha,Ns)\n",
        "  CVaRfr1_oir[i]= mean(merge(which(PGfr1_oir[,i]<VaRfr1_oir[i]),cbind(seq(1,Ns),PGfr1_oir[,i]), by.x=1,by.y=1)[,2])\n",
        "  CVaRfr2_oir[i]= mean(merge(which(PGfr2_oir[,i]<VaRfr2_oir[i]),cbind(seq(1,Ns),PGfr2_oir[,i]), by.x=1,by.y=1)[,2])\n",
        "  CVaRfr3_oir[i]= mean(merge(which(PGfr3_oir[,i]<VaRfr3_oir[i]),cbind(seq(1,Ns),PGfr3_oir[,i]), by.x=1,by.y=1)[,2])\n",
        "  CVaRCont_oir[i]= mean(merge(which(PG_oir[,i]<VaRCont_oir[i]),cbind(seq(1,Ns),PG_oir[,i]), by.x=1,by.y=1)[,2])\n",
        "}\n",
        "Met\n",
        "VaRCont_oir\n",
        "VaRfr1_oir\n",
        "VaRfr2_oir\n",
        "VaRfr3_oir\n",
        "CVaRCont_oir\n",
        "CVaRfr1_oir\n",
        "CVaRfr2_oir\n",
        "CVaRfr3_oir\n",
        "\n",
        "#VaR Total\n",
        "Met\n",
        "VaRTotal_oir=quantile(PGT_oir,1-alpha,Ns)\n",
        "CVaRTotal_oir= mean(merge(which(PGT_oir<VaRTotal_oir),cbind(seq(1,Ns),PGT_oir), by.x=1,by.y=1)[,2])\n",
        "VaRTotalfr1_oir=quantile(PGfr1T_oir,1-alpha,Ns)\n",
        "CVaRTotalfr1_oir= mean(PGfr1T_oir[which(PGfr1T_oir<VaRTotalfr1_oir),])\n",
        "VaRTotalfr2_oir=quantile(PGfr2T_oir,1-alpha,Ns)\n",
        "CVaRTotalfr2_oir= mean(PGfr2T_oir[which(PGfr2T_oir<VaRTotalfr2_oir),])\n",
        "VaRTotalfr3_oir=quantile(PGfr3T_oir,1-alpha,Ns)\n",
        "CVaRTotalfr3_oir= mean(PGfr3T_oir[which(PGfr2T_oir<VaRTotalfr2_oir),])\n",
        "\n"
      ]
    },
    {
      "cell_type": "code",
      "execution_count": null,
      "metadata": {
        "colab": {
          "base_uri": "https://localhost:8080/"
        },
        "id": "vn91w19dpmoa",
        "outputId": "7e8a7705-15fb-4f11-d31c-af040f4ec354"
      },
      "outputs": [
        {
          "output_type": "stream",
          "name": "stdout",
          "text": [
            "[1] \"VaR por contrato fr1\"\n",
            "             [,1]          [,2]\n",
            "[1,] -0.004797997 -8.329104e-05\n",
            "[1] \"CVaR por contrato fr1\"\n",
            "             [,1]          [,2]\n",
            "[1,] -0.006045035 -0.0001069171\n",
            "[1] \"VaR por contrato fr2\"\n",
            "            [,1]         [,2]\n",
            "[1,] -0.04038805 -0.009483763\n",
            "[1] \"CVaR por contrato fr2\"\n",
            "            [,1]        [,2]\n",
            "[1,] -0.04920424 -0.01173201\n",
            "[1] \"VaR por contrato fr3\"\n",
            "     [,1] [,2]\n",
            "[1,]    0    0\n",
            "[1] \"CVaR por contrato fr3\"\n",
            "     [,1] [,2]\n",
            "[1,]  NaN  NaN\n",
            "[1] \"VaR por contrato\"\n",
            "            [,1]         [,2]\n",
            "[1,] -0.03914624 -0.009489692\n",
            "[1] \"CVaR por contrato\"\n",
            "            [,1]        [,2]\n",
            "[1,] -0.04793978 -0.01173506\n",
            "[1] \"VaR total fr1\"\n",
            "          2% \n",
            "-0.004881004 \n",
            "[1] \"CVaR total fr1\"\n",
            "[1] -0.006150815\n",
            "[1] \"VaR total fr2\"\n",
            "         2% \n",
            "-0.03659842 \n",
            "[1] \"CVaR total fr2\"\n",
            "[1] -0.04366899\n",
            "[1] \"VaR total fr3\"\n",
            "2% \n",
            " 0 \n",
            "[1] \"CVaR total fr3\"\n",
            "[1] 0\n",
            "[1] \"VaR total\"\n",
            "       2% \n",
            "-0.035766 \n",
            "[1] \"CVaR total\"\n",
            "[1] -0.0426439\n"
          ]
        }
      ],
      "source": [
        "%%R\n",
        "\n",
        "print(\"VaR por contrato fr1\")\n",
        "print(VaRfr1_oir)\n",
        "print(\"CVaR por contrato fr1\")\n",
        "print(CVaRfr1_oir)\n",
        "\n",
        "print(\"VaR por contrato fr2\")\n",
        "print(VaRfr2_oir)\n",
        "print(\"CVaR por contrato fr2\")\n",
        "print(CVaRfr2_oir) \n",
        "\n",
        "print(\"VaR por contrato fr3\")\n",
        "print(VaRfr3_oir)\n",
        "print(\"CVaR por contrato fr3\")\n",
        "print(CVaRfr3_oir) \n",
        "\n",
        "print(\"VaR por contrato\")\n",
        "print(VaRCont_oir)\n",
        "print(\"CVaR por contrato\")\n",
        "print(CVaRCont_oir)\n",
        "\n",
        "print(\"VaR total fr1\")\n",
        "print(VaRTotalfr1_oir)\n",
        "print(\"CVaR total fr1\")\n",
        "print(CVaRTotalfr1_oir)\n",
        "\n",
        "print(\"VaR total fr2\")\n",
        "print(VaRTotalfr2_oir)\n",
        "print(\"CVaR total fr2\")\n",
        "print(CVaRTotalfr2_oir)\n",
        "\n",
        "print(\"VaR total fr3\")\n",
        "print(VaRTotalfr3_oir)\n",
        "print(\"CVaR total fr3\")\n",
        "print(CVaRTotalfr3_oir)\n",
        "\n",
        "print(\"VaR total\")\n",
        "print(VaRTotal_oir)\n",
        "print(\"CVaR total\")\n",
        "print(CVaRTotal_oir)"
      ]
    },
    {
      "cell_type": "markdown",
      "metadata": {
        "id": "Tkb80eo0U3ZU"
      },
      "source": [
        "### Riesgo integral"
      ]
    },
    {
      "cell_type": "code",
      "execution_count": null,
      "metadata": {
        "id": "IcCsS9YuU59j",
        "colab": {
          "base_uri": "https://localhost:8080/"
        },
        "outputId": "4d151e76-deb4-46c7-e9ee-4e7e2411b4bf"
      },
      "outputs": [
        {
          "output_type": "stream",
          "name": "stdout",
          "text": [
            "[1] \"VaR por acciones\"\n",
            "       2% \n",
            "-31661.97 \n",
            "[1] \"CVaR por acciones\"\n",
            "[1] -38403.21\n",
            "[1] \"VaR por tasa de interes\"\n",
            "       2% \n",
            "-490.2886 \n",
            "[1] \"CVaR por tasa de interes\"\n",
            "[1] -620.6183\n",
            "[1] \"VaR por tipo de cambio\"\n",
            "       2% \n",
            "-95.21615 \n",
            "[1] \"CVaR por tipo de cambio\"\n",
            "[1] -116.7456\n",
            "[1] \"VaR por volatilidad\"\n",
            "2% \n",
            " 0 \n",
            "[1] \"CVaR por volatilidad\"\n",
            "[1] NaN\n",
            "[1] \"VaR portafolio\"\n",
            "       2% \n",
            "-31604.21 \n",
            "[1] \"CVaR portafolio\"\n",
            "[1] -38341.08\n"
          ]
        }
      ],
      "source": [
        "%%R\n",
        "\n",
        "#Medición de riesgo por factor de riesgo de todo el portafolios\n",
        "#Acciones\n",
        "#1. Acciones \n",
        "#2. Forward de IPC\n",
        "PGPort_ACC=PGfr2T_acc_div+ PGfr3T_fwind #Pérdidas y ganancias\n",
        "VaRPort_ACC=quantile(PGPort_ACC,1-alpha,Ns) #VaR\n",
        "CVaRPort_ACC= mean(PGPort_ACC[which(PGPort_ACC<VaRPort_ACC)]) #CVaR\n",
        "print('VaR por acciones')\n",
        "print(VaRPort_ACC)\n",
        "print('CVaR por acciones')\n",
        "print(CVaRPort_ACC)\n",
        "\n",
        "#Tasa de Interés\n",
        "#1. Dado que swaps y bondes son de tasa de interés usaremos PGT_bd y PGT_sw\n",
        "#2. Para futuros usaremos PGfr1T_fwtdc y PGfr2T_fwtdc\n",
        "PGPort_TI=PGT_bd+PGT_sw+PGfr1T_fwtdc+PGfr2T_fwtdc +PGfr2T_fwind+PGfr1T_fwind +PGfr1T_oir +PGfr2T_oir + PG_cetes#Pérdidas y ganancias\n",
        "VaRPort_TI=quantile(PGPort_TI,1-alpha,Ns) #VaR\n",
        "CVaRPort_TI= mean(PGPort_TI[which(PGPort_TI<VaRPort_TI)]) #CVaR\n",
        "print('VaR por tasa de interes')\n",
        "print(VaRPort_TI)\n",
        "print('CVaR por tasa de interes')\n",
        "print(CVaRPort_TI)\n",
        "\n",
        "\n",
        "#Tipo de cambio\n",
        "#1. Dado que swaps y bondes son de tasa de interés no usamos nada\n",
        "#2. Para futuros usamos sólo PGfr3T_fwtdc\n",
        "PGPort_TDC=PGfr1T_acc_div+PGfr3T_fwtdc  #Pérdidas y ganancias\n",
        "VaRPort_TDC=quantile(PGPort_TDC,1-alpha,Ns) #VaR\n",
        "CVaRPort_TDC= mean(PGPort_TDC[which(PGPort_TDC<VaRPort_TDC)]) #CVaR\n",
        "print('VaR por tipo de cambio')\n",
        "print(VaRPort_TDC)\n",
        "print('CVaR por tipo de cambio')\n",
        "print(CVaRPort_TDC)\n",
        "#Volatilidad\n",
        "#1. Sólo aplica la volatilidad de Opciones de tasa de interés\n",
        "\n",
        "PGPort_VOL=PGfr3T_oir  #Pérdidas y ganancias\n",
        "VaRPort_VOL=quantile(PGPort_VOL,1-alpha,Ns) #VaR\n",
        "CVaRPort_VOL= mean(PGPort_VOL[which(PGPort_VOL<VaRPort_VOL)]) #CVaR\n",
        "print('VaR por volatilidad')\n",
        "print(VaRPort_VOL)\n",
        "print('CVaR por volatilidad')\n",
        "print(CVaRPort_VOL)\n",
        "\n",
        "\n",
        "\n",
        "#Medición de riesgo de todo el portafolios\n",
        "#Sumar todos los PGT de todos los instrumentos\n",
        "\n",
        "PGT_Port=PGPort_ACC+PGPort_TI+PGPort_TDC+PGPort_VOL\n",
        "VaRTotal_Port=quantile(PGT_Port,1-alpha,Ns) #VaR\n",
        "CVaRTotal_Port= mean(PGT_Port[which(PGT_Port<VaRTotal_Port)]) #CVaR\n",
        "print('VaR portafolio')\n",
        "print(VaRTotal_Port)\n",
        "print('CVaR portafolio')\n",
        "print(CVaRTotal_Port)"
      ]
    }
  ],
  "metadata": {
    "accelerator": "GPU",
    "colab": {
      "collapsed_sections": [],
      "name": "SimulacionMC",
      "provenance": [],
      "toc_visible": true,
      "include_colab_link": true
    },
    "kernelspec": {
      "display_name": "Python 3",
      "name": "python3"
    },
    "language_info": {
      "name": "python"
    }
  },
  "nbformat": 4,
  "nbformat_minor": 0
}