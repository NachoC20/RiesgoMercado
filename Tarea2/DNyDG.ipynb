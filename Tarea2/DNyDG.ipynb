{
  "nbformat": 4,
  "nbformat_minor": 0,
  "metadata": {
    "colab": {
      "name": "DNyDG.ipynb",
      "provenance": [],
      "collapsed_sections": [],
      "toc_visible": true,
      "include_colab_link": true
    },
    "kernelspec": {
      "name": "python3",
      "display_name": "Python 3"
    },
    "language_info": {
      "name": "python"
    }
  },
  "cells": [
    {
      "cell_type": "markdown",
      "metadata": {
        "id": "view-in-github",
        "colab_type": "text"
      },
      "source": [
        "<a href=\"https://colab.research.google.com/github/NachoC20/RiesgoMercado/blob/main/Tarea2/DNyDG.ipynb\" target=\"_parent\"><img src=\"https://colab.research.google.com/assets/colab-badge.svg\" alt=\"Open In Colab\"/></a>"
      ]
    },
    {
      "cell_type": "code",
      "metadata": {
        "id": "a2DjS7m7_Mia",
        "colab": {
          "base_uri": "https://localhost:8080/"
        },
        "outputId": "828f959f-6b72-4847-f96b-4909ae19fd27"
      },
      "source": [
        "%load_ext rpy2.ipython\n",
        "!rm -rf RiesgosFinancieros\n",
        "!git clone \"https://github.com/pikey-msc/RiesgosFinancieros/\""
      ],
      "execution_count": 1,
      "outputs": [
        {
          "output_type": "stream",
          "name": "stdout",
          "text": [
            "Cloning into 'RiesgosFinancieros'...\n",
            "remote: Enumerating objects: 713, done.\u001b[K\n",
            "remote: Counting objects: 100% (134/134), done.\u001b[K\n",
            "remote: Compressing objects: 100% (134/134), done.\u001b[K\n",
            "remote: Total 713 (delta 88), reused 0 (delta 0), pack-reused 579\u001b[K\n",
            "Receiving objects: 100% (713/713), 41.10 MiB | 21.40 MiB/s, done.\n",
            "Resolving deltas: 100% (467/467), done.\n"
          ]
        }
      ]
    },
    {
      "cell_type": "markdown",
      "metadata": {
        "id": "YF9hg5sOafOd"
      },
      "source": [
        "# Tarea 2"
      ]
    },
    {
      "cell_type": "code",
      "metadata": {
        "id": "zZZQs5jkaZP-",
        "colab": {
          "base_uri": "https://localhost:8080/"
        },
        "outputId": "59266fc8-66cc-4646-ac16-76925b39643b"
      },
      "source": [
        "%%R\n",
        "#Instalamos los paquetes que necesitaremos.\n",
        "install.packages(\"quantmod\")\n",
        "install.packages(\"data.table\")\n",
        "install.packages(\"PerformanceAnalytics\")\n",
        "install.packages(\"Deriv\")\n",
        "\n",
        "#Cargamos librerias\n",
        "library(Deriv)\n",
        "library(quantmod)\n",
        "library(data.table)\n",
        "library(\"PerformanceAnalytics\")\n",
        "library(dplyr)\n",
        "\n",
        "con = gzcon(url('https://github.com/systematicinvestor/SIT/raw/master/sit.gz', 'rb'))\n",
        "source(con)\n",
        "close(con)\n"
      ],
      "execution_count": 2,
      "outputs": [
        {
          "output_type": "stream",
          "name": "stderr",
          "text": [
            "R[write to console]: Installing package into ‘/usr/local/lib/R/site-library’\n",
            "(as ‘lib’ is unspecified)\n",
            "\n",
            "R[write to console]: also installing the dependencies ‘xts’, ‘zoo’, ‘TTR’\n",
            "\n",
            "\n",
            "R[write to console]: trying URL 'https://cran.rstudio.com/src/contrib/xts_0.12.1.tar.gz'\n",
            "\n",
            "R[write to console]: Content type 'application/x-gzip'\n",
            "R[write to console]:  length 517875 bytes (505 KB)\n",
            "\n",
            "R[write to console]: =\n",
            "R[write to console]: =\n",
            "R[write to console]: =\n",
            "R[write to console]: =\n",
            "R[write to console]: =\n",
            "R[write to console]: =\n",
            "R[write to console]: =\n",
            "R[write to console]: =\n",
            "R[write to console]: =\n",
            "R[write to console]: =\n",
            "R[write to console]: =\n",
            "R[write to console]: =\n",
            "R[write to console]: =\n",
            "R[write to console]: =\n",
            "R[write to console]: =\n",
            "R[write to console]: =\n",
            "R[write to console]: =\n",
            "R[write to console]: =\n",
            "R[write to console]: =\n",
            "R[write to console]: =\n",
            "R[write to console]: =\n",
            "R[write to console]: =\n",
            "R[write to console]: =\n",
            "R[write to console]: =\n",
            "R[write to console]: =\n",
            "R[write to console]: =\n",
            "R[write to console]: =\n",
            "R[write to console]: =\n",
            "R[write to console]: =\n",
            "R[write to console]: =\n",
            "R[write to console]: =\n",
            "R[write to console]: =\n",
            "R[write to console]: =\n",
            "R[write to console]: =\n",
            "R[write to console]: =\n",
            "R[write to console]: =\n",
            "R[write to console]: =\n",
            "R[write to console]: =\n",
            "R[write to console]: =\n",
            "R[write to console]: =\n",
            "R[write to console]: =\n",
            "R[write to console]: =\n",
            "R[write to console]: =\n",
            "R[write to console]: =\n",
            "R[write to console]: =\n",
            "R[write to console]: =\n",
            "R[write to console]: =\n",
            "R[write to console]: =\n",
            "R[write to console]: =\n",
            "R[write to console]: =\n",
            "R[write to console]: \n",
            "\n",
            "R[write to console]: downloaded 505 KB\n",
            "\n",
            "\n",
            "R[write to console]: trying URL 'https://cran.rstudio.com/src/contrib/zoo_1.8-9.tar.gz'\n",
            "\n",
            "R[write to console]: Content type 'application/x-gzip'\n",
            "R[write to console]:  length 793891 bytes (775 KB)\n",
            "\n",
            "R[write to console]: =\n",
            "R[write to console]: =\n",
            "R[write to console]: =\n",
            "R[write to console]: =\n",
            "R[write to console]: =\n",
            "R[write to console]: =\n",
            "R[write to console]: =\n",
            "R[write to console]: =\n",
            "R[write to console]: =\n",
            "R[write to console]: =\n",
            "R[write to console]: =\n",
            "R[write to console]: =\n",
            "R[write to console]: =\n",
            "R[write to console]: =\n",
            "R[write to console]: =\n",
            "R[write to console]: =\n",
            "R[write to console]: =\n",
            "R[write to console]: =\n",
            "R[write to console]: =\n",
            "R[write to console]: =\n",
            "R[write to console]: =\n",
            "R[write to console]: =\n",
            "R[write to console]: =\n",
            "R[write to console]: =\n",
            "R[write to console]: =\n",
            "R[write to console]: =\n",
            "R[write to console]: =\n",
            "R[write to console]: =\n",
            "R[write to console]: =\n",
            "R[write to console]: =\n",
            "R[write to console]: =\n",
            "R[write to console]: =\n",
            "R[write to console]: =\n",
            "R[write to console]: =\n",
            "R[write to console]: =\n",
            "R[write to console]: =\n",
            "R[write to console]: =\n",
            "R[write to console]: =\n",
            "R[write to console]: =\n",
            "R[write to console]: =\n",
            "R[write to console]: =\n",
            "R[write to console]: =\n",
            "R[write to console]: =\n",
            "R[write to console]: =\n",
            "R[write to console]: =\n",
            "R[write to console]: =\n",
            "R[write to console]: =\n",
            "R[write to console]: =\n",
            "R[write to console]: =\n",
            "R[write to console]: =\n",
            "R[write to console]: \n",
            "\n",
            "R[write to console]: downloaded 775 KB\n",
            "\n",
            "\n",
            "R[write to console]: trying URL 'https://cran.rstudio.com/src/contrib/TTR_0.24.2.tar.gz'\n",
            "\n",
            "R[write to console]: Content type 'application/x-gzip'\n",
            "R[write to console]:  length 314035 bytes (306 KB)\n",
            "\n",
            "R[write to console]: =\n",
            "R[write to console]: =\n",
            "R[write to console]: =\n",
            "R[write to console]: =\n",
            "R[write to console]: =\n",
            "R[write to console]: =\n",
            "R[write to console]: =\n",
            "R[write to console]: =\n",
            "R[write to console]: =\n",
            "R[write to console]: =\n",
            "R[write to console]: =\n",
            "R[write to console]: =\n",
            "R[write to console]: =\n",
            "R[write to console]: =\n",
            "R[write to console]: =\n",
            "R[write to console]: =\n",
            "R[write to console]: =\n",
            "R[write to console]: =\n",
            "R[write to console]: =\n",
            "R[write to console]: =\n",
            "R[write to console]: =\n",
            "R[write to console]: =\n",
            "R[write to console]: =\n",
            "R[write to console]: =\n",
            "R[write to console]: =\n",
            "R[write to console]: =\n",
            "R[write to console]: =\n",
            "R[write to console]: =\n",
            "R[write to console]: =\n",
            "R[write to console]: =\n",
            "R[write to console]: =\n",
            "R[write to console]: =\n",
            "R[write to console]: =\n",
            "R[write to console]: =\n",
            "R[write to console]: =\n",
            "R[write to console]: =\n",
            "R[write to console]: =\n",
            "R[write to console]: =\n",
            "R[write to console]: =\n",
            "R[write to console]: =\n",
            "R[write to console]: =\n",
            "R[write to console]: =\n",
            "R[write to console]: =\n",
            "R[write to console]: =\n",
            "R[write to console]: =\n",
            "R[write to console]: =\n",
            "R[write to console]: =\n",
            "R[write to console]: =\n",
            "R[write to console]: =\n",
            "R[write to console]: =\n",
            "R[write to console]: \n",
            "\n",
            "R[write to console]: downloaded 306 KB\n",
            "\n",
            "\n",
            "R[write to console]: trying URL 'https://cran.rstudio.com/src/contrib/quantmod_0.4.18.tar.gz'\n",
            "\n",
            "R[write to console]: Content type 'application/x-gzip'\n",
            "R[write to console]:  length 154512 bytes (150 KB)\n",
            "\n",
            "R[write to console]: =\n",
            "R[write to console]: =\n",
            "R[write to console]: =\n",
            "R[write to console]: =\n",
            "R[write to console]: =\n",
            "R[write to console]: =\n",
            "R[write to console]: =\n",
            "R[write to console]: =\n",
            "R[write to console]: =\n",
            "R[write to console]: =\n",
            "R[write to console]: =\n",
            "R[write to console]: =\n",
            "R[write to console]: =\n",
            "R[write to console]: =\n",
            "R[write to console]: =\n",
            "R[write to console]: =\n",
            "R[write to console]: =\n",
            "R[write to console]: =\n",
            "R[write to console]: =\n",
            "R[write to console]: =\n",
            "R[write to console]: =\n",
            "R[write to console]: =\n",
            "R[write to console]: =\n",
            "R[write to console]: =\n",
            "R[write to console]: =\n",
            "R[write to console]: =\n",
            "R[write to console]: =\n",
            "R[write to console]: =\n",
            "R[write to console]: =\n",
            "R[write to console]: =\n",
            "R[write to console]: =\n",
            "R[write to console]: =\n",
            "R[write to console]: =\n",
            "R[write to console]: =\n",
            "R[write to console]: =\n",
            "R[write to console]: =\n",
            "R[write to console]: =\n",
            "R[write to console]: =\n",
            "R[write to console]: =\n",
            "R[write to console]: =\n",
            "R[write to console]: =\n",
            "R[write to console]: =\n",
            "R[write to console]: =\n",
            "R[write to console]: =\n",
            "R[write to console]: =\n",
            "R[write to console]: =\n",
            "R[write to console]: =\n",
            "R[write to console]: =\n",
            "R[write to console]: =\n",
            "R[write to console]: =\n",
            "R[write to console]: \n",
            "\n",
            "R[write to console]: downloaded 150 KB\n",
            "\n",
            "\n",
            "R[write to console]: \n",
            "\n",
            "R[write to console]: \n",
            "R[write to console]: The downloaded source packages are in\n",
            "\t‘/tmp/RtmpT738mu/downloaded_packages’\n",
            "R[write to console]: \n",
            "R[write to console]: \n",
            "\n",
            "R[write to console]: Installing package into ‘/usr/local/lib/R/site-library’\n",
            "(as ‘lib’ is unspecified)\n",
            "\n",
            "R[write to console]: trying URL 'https://cran.rstudio.com/src/contrib/data.table_1.14.2.tar.gz'\n",
            "\n",
            "R[write to console]: Content type 'application/x-gzip'\n",
            "R[write to console]:  length 5301817 bytes (5.1 MB)\n",
            "\n",
            "R[write to console]: =\n",
            "R[write to console]: =\n",
            "R[write to console]: =\n",
            "R[write to console]: =\n",
            "R[write to console]: =\n",
            "R[write to console]: =\n",
            "R[write to console]: =\n",
            "R[write to console]: =\n",
            "R[write to console]: =\n",
            "R[write to console]: =\n",
            "R[write to console]: =\n",
            "R[write to console]: =\n",
            "R[write to console]: =\n",
            "R[write to console]: =\n",
            "R[write to console]: =\n",
            "R[write to console]: =\n",
            "R[write to console]: =\n",
            "R[write to console]: =\n",
            "R[write to console]: =\n",
            "R[write to console]: =\n",
            "R[write to console]: =\n",
            "R[write to console]: =\n",
            "R[write to console]: =\n",
            "R[write to console]: =\n",
            "R[write to console]: =\n",
            "R[write to console]: =\n",
            "R[write to console]: =\n",
            "R[write to console]: =\n",
            "R[write to console]: =\n",
            "R[write to console]: =\n",
            "R[write to console]: =\n",
            "R[write to console]: =\n",
            "R[write to console]: =\n",
            "R[write to console]: =\n",
            "R[write to console]: =\n",
            "R[write to console]: =\n",
            "R[write to console]: =\n",
            "R[write to console]: =\n",
            "R[write to console]: =\n",
            "R[write to console]: =\n",
            "R[write to console]: =\n",
            "R[write to console]: =\n",
            "R[write to console]: =\n",
            "R[write to console]: =\n",
            "R[write to console]: =\n",
            "R[write to console]: =\n",
            "R[write to console]: =\n",
            "R[write to console]: =\n",
            "R[write to console]: =\n",
            "R[write to console]: =\n",
            "R[write to console]: \n",
            "\n",
            "R[write to console]: downloaded 5.1 MB\n",
            "\n",
            "\n",
            "R[write to console]: \n",
            "\n",
            "R[write to console]: \n",
            "R[write to console]: The downloaded source packages are in\n",
            "\t‘/tmp/RtmpT738mu/downloaded_packages’\n",
            "R[write to console]: \n",
            "R[write to console]: \n",
            "\n",
            "R[write to console]: Installing package into ‘/usr/local/lib/R/site-library’\n",
            "(as ‘lib’ is unspecified)\n",
            "\n",
            "R[write to console]: also installing the dependency ‘quadprog’\n",
            "\n",
            "\n",
            "R[write to console]: trying URL 'https://cran.rstudio.com/src/contrib/quadprog_1.5-8.tar.gz'\n",
            "\n",
            "R[write to console]: Content type 'application/x-gzip'\n",
            "R[write to console]:  length 36141 bytes (35 KB)\n",
            "\n",
            "R[write to console]: =\n",
            "R[write to console]: =\n",
            "R[write to console]: =\n",
            "R[write to console]: =\n",
            "R[write to console]: =\n",
            "R[write to console]: =\n",
            "R[write to console]: =\n",
            "R[write to console]: =\n",
            "R[write to console]: =\n",
            "R[write to console]: =\n",
            "R[write to console]: =\n",
            "R[write to console]: =\n",
            "R[write to console]: =\n",
            "R[write to console]: =\n",
            "R[write to console]: =\n",
            "R[write to console]: =\n",
            "R[write to console]: =\n",
            "R[write to console]: =\n",
            "R[write to console]: =\n",
            "R[write to console]: =\n",
            "R[write to console]: =\n",
            "R[write to console]: =\n",
            "R[write to console]: =\n",
            "R[write to console]: =\n",
            "R[write to console]: =\n",
            "R[write to console]: =\n",
            "R[write to console]: =\n",
            "R[write to console]: =\n",
            "R[write to console]: =\n",
            "R[write to console]: =\n",
            "R[write to console]: =\n",
            "R[write to console]: =\n",
            "R[write to console]: =\n",
            "R[write to console]: =\n",
            "R[write to console]: =\n",
            "R[write to console]: =\n",
            "R[write to console]: =\n",
            "R[write to console]: =\n",
            "R[write to console]: =\n",
            "R[write to console]: =\n",
            "R[write to console]: =\n",
            "R[write to console]: =\n",
            "R[write to console]: =\n",
            "R[write to console]: =\n",
            "R[write to console]: =\n",
            "R[write to console]: =\n",
            "R[write to console]: =\n",
            "R[write to console]: =\n",
            "R[write to console]: =\n",
            "R[write to console]: =\n",
            "R[write to console]: \n",
            "\n",
            "R[write to console]: downloaded 35 KB\n",
            "\n",
            "\n",
            "R[write to console]: trying URL 'https://cran.rstudio.com/src/contrib/PerformanceAnalytics_2.0.4.tar.gz'\n",
            "\n",
            "R[write to console]: Content type 'application/x-gzip'\n",
            "R[write to console]:  length 2455098 bytes (2.3 MB)\n",
            "\n",
            "R[write to console]: =\n",
            "R[write to console]: =\n",
            "R[write to console]: =\n",
            "R[write to console]: =\n",
            "R[write to console]: =\n",
            "R[write to console]: =\n",
            "R[write to console]: =\n",
            "R[write to console]: =\n",
            "R[write to console]: =\n",
            "R[write to console]: =\n",
            "R[write to console]: =\n",
            "R[write to console]: =\n",
            "R[write to console]: =\n",
            "R[write to console]: =\n",
            "R[write to console]: =\n",
            "R[write to console]: =\n",
            "R[write to console]: =\n",
            "R[write to console]: =\n",
            "R[write to console]: =\n",
            "R[write to console]: =\n",
            "R[write to console]: =\n",
            "R[write to console]: =\n",
            "R[write to console]: =\n",
            "R[write to console]: =\n",
            "R[write to console]: =\n",
            "R[write to console]: =\n",
            "R[write to console]: =\n",
            "R[write to console]: =\n",
            "R[write to console]: =\n",
            "R[write to console]: =\n",
            "R[write to console]: =\n",
            "R[write to console]: =\n",
            "R[write to console]: =\n",
            "R[write to console]: =\n",
            "R[write to console]: =\n",
            "R[write to console]: =\n",
            "R[write to console]: =\n",
            "R[write to console]: =\n",
            "R[write to console]: =\n",
            "R[write to console]: =\n",
            "R[write to console]: =\n",
            "R[write to console]: =\n",
            "R[write to console]: =\n",
            "R[write to console]: =\n",
            "R[write to console]: =\n",
            "R[write to console]: =\n",
            "R[write to console]: =\n",
            "R[write to console]: =\n",
            "R[write to console]: =\n",
            "R[write to console]: =\n",
            "R[write to console]: \n",
            "\n",
            "R[write to console]: downloaded 2.3 MB\n",
            "\n",
            "\n",
            "R[write to console]: \n",
            "\n",
            "R[write to console]: \n",
            "R[write to console]: The downloaded source packages are in\n",
            "\t‘/tmp/RtmpT738mu/downloaded_packages’\n",
            "R[write to console]: \n",
            "R[write to console]: \n",
            "\n",
            "R[write to console]: Installing package into ‘/usr/local/lib/R/site-library’\n",
            "(as ‘lib’ is unspecified)\n",
            "\n",
            "R[write to console]: trying URL 'https://cran.rstudio.com/src/contrib/Deriv_4.1.3.tar.gz'\n",
            "\n",
            "R[write to console]: Content type 'application/x-gzip'\n",
            "R[write to console]:  length 37214 bytes (36 KB)\n",
            "\n",
            "R[write to console]: =\n",
            "R[write to console]: =\n",
            "R[write to console]: =\n",
            "R[write to console]: =\n",
            "R[write to console]: =\n",
            "R[write to console]: =\n",
            "R[write to console]: =\n",
            "R[write to console]: =\n",
            "R[write to console]: =\n",
            "R[write to console]: =\n",
            "R[write to console]: =\n",
            "R[write to console]: =\n",
            "R[write to console]: =\n",
            "R[write to console]: =\n",
            "R[write to console]: =\n",
            "R[write to console]: =\n",
            "R[write to console]: =\n",
            "R[write to console]: =\n",
            "R[write to console]: =\n",
            "R[write to console]: =\n",
            "R[write to console]: =\n",
            "R[write to console]: =\n",
            "R[write to console]: =\n",
            "R[write to console]: =\n",
            "R[write to console]: =\n",
            "R[write to console]: =\n",
            "R[write to console]: =\n",
            "R[write to console]: =\n",
            "R[write to console]: =\n",
            "R[write to console]: =\n",
            "R[write to console]: =\n",
            "R[write to console]: =\n",
            "R[write to console]: =\n",
            "R[write to console]: =\n",
            "R[write to console]: =\n",
            "R[write to console]: =\n",
            "R[write to console]: =\n",
            "R[write to console]: =\n",
            "R[write to console]: =\n",
            "R[write to console]: =\n",
            "R[write to console]: =\n",
            "R[write to console]: =\n",
            "R[write to console]: =\n",
            "R[write to console]: =\n",
            "R[write to console]: =\n",
            "R[write to console]: =\n",
            "R[write to console]: =\n",
            "R[write to console]: =\n",
            "R[write to console]: =\n",
            "R[write to console]: =\n",
            "R[write to console]: \n",
            "\n",
            "R[write to console]: downloaded 36 KB\n",
            "\n",
            "\n",
            "R[write to console]: \n",
            "\n",
            "R[write to console]: \n",
            "R[write to console]: The downloaded source packages are in\n",
            "\t‘/tmp/RtmpT738mu/downloaded_packages’\n",
            "R[write to console]: \n",
            "R[write to console]: \n",
            "\n",
            "R[write to console]: Loading required package: xts\n",
            "\n",
            "R[write to console]: Loading required package: zoo\n",
            "\n",
            "R[write to console]: \n",
            "Attaching package: ‘zoo’\n",
            "\n",
            "\n",
            "R[write to console]: The following objects are masked from ‘package:base’:\n",
            "\n",
            "    as.Date, as.Date.numeric\n",
            "\n",
            "\n",
            "R[write to console]: Loading required package: TTR\n",
            "\n",
            "R[write to console]: Registered S3 method overwritten by 'quantmod':\n",
            "  method            from\n",
            "  as.zoo.data.frame zoo \n",
            "\n",
            "R[write to console]: data.table 1.14.2 using 1 threads (see ?getDTthreads).  Latest news: r-datatable.com\n",
            "\n",
            "R[write to console]: \n",
            "Attaching package: ‘data.table’\n",
            "\n",
            "\n",
            "R[write to console]: The following objects are masked from ‘package:xts’:\n",
            "\n",
            "    first, last\n",
            "\n",
            "\n",
            "R[write to console]: \n",
            "Attaching package: ‘PerformanceAnalytics’\n",
            "\n",
            "\n",
            "R[write to console]: The following object is masked from ‘package:graphics’:\n",
            "\n",
            "    legend\n",
            "\n",
            "\n",
            "R[write to console]: \n",
            "Attaching package: ‘dplyr’\n",
            "\n",
            "\n",
            "R[write to console]: The following objects are masked from ‘package:data.table’:\n",
            "\n",
            "    between, first, last\n",
            "\n",
            "\n",
            "R[write to console]: The following objects are masked from ‘package:xts’:\n",
            "\n",
            "    first, last\n",
            "\n",
            "\n",
            "R[write to console]: The following objects are masked from ‘package:stats’:\n",
            "\n",
            "    filter, lag\n",
            "\n",
            "\n",
            "R[write to console]: The following objects are masked from ‘package:base’:\n",
            "\n",
            "    intersect, setdiff, setequal, union\n",
            "\n",
            "\n"
          ]
        }
      ]
    },
    {
      "cell_type": "code",
      "metadata": {
        "id": "OX-Swe-xak4w"
      },
      "source": [
        "%%R\n",
        "## GENERAMOS LAS FUNCIONES QUE NECESITAREMOS:\n",
        "\n",
        "# Función de interpolación de tasas por el método alamabrada\n",
        "talamb=function(nodos,curva,plazos){\n",
        "  n=max(ncol(plazos),1)\n",
        "  m=max(ncol(nodos),1)\n",
        "  TC=matrix(0,1,n)\n",
        "  TL=matrix(0,1,n)\n",
        "  TF=matrix(0,1,n)\n",
        "  for (j in 1:n){\n",
        "    i=1\n",
        "    repeat\n",
        "    {\n",
        "      if(nodos[i]<= plazos[j] && plazos[j] <=nodos[i+1])\n",
        "      {\n",
        "        TC[j]=curva[i]\n",
        "        TL[j]=curva[i+1]\n",
        "        TF[j]=((((1+TL[j]*nodos[i+1]/360)/(1+TC[j]*nodos[i]/360))^((plazos[j]-nodos[i])/(nodos[i+1]-nodos[i]))*(1+TC[j]*nodos[i]/360))-1)*360/plazos[j]\n",
        "        break\n",
        "      }\n",
        "      else if (plazos[j]<nodos[1])\n",
        "      {\n",
        "        TC[j]=curva[1]\n",
        "        TL[j]=curva[1]\n",
        "        TF[j]=curva[1]\n",
        "        break\n",
        "      }\n",
        "      else if (plazos[j]>nodos[m])\n",
        "      {\n",
        "        TC[j]=curva[m]\n",
        "        TL[j]=curva[m]\n",
        "        TF[j]=curva[m]\n",
        "        break\n",
        "      }\n",
        "      else\n",
        "      {i=i+1}\n",
        "    }\n",
        "  }\n",
        "  as.matrix(t(as.numeric(rbind(TF))))\n",
        "}\n",
        "\n",
        "# Función para diagonalizar un vector\n",
        "diagv=function(x)\t{\n",
        "  n01=nrow(as.matrix(x))\n",
        "  m01=ncol(as.matrix(x))\n",
        "  dimmax=max(n01,m01)\n",
        "  res=matrix(0,dimmax,dimmax)\n",
        "  for (i in 1:dimmax){\n",
        "    res[i,i]=x[i]\n",
        "  }\n",
        "  res\n",
        "}\n",
        "\n",
        "#Función de cuantil más cercano\n",
        "equantile <- function(v,p=.5,ns=nrow(as.matrix(v))) \n",
        "{ \n",
        "  if ( !is.numeric(p) || any( p<0 | p>1) ) \n",
        "    stop(\"Percentil tiene que ser 0<=p<=1\") \n",
        "  ranking <- order(v) \n",
        "  vw=matrix(0,ns,1)\n",
        "  vw[1:ns]=seq(1/ns,ns)  \n",
        "  sumw <- cumsum(vw[ranking]) \n",
        "  plist <- sumw / sumw[ length(sumw) ] \n",
        "  v [ ranking [ which.max( plist >= p ) ] ]  \n",
        "} "
      ],
      "execution_count": 3,
      "outputs": []
    },
    {
      "cell_type": "code",
      "metadata": {
        "id": "xL95WskZax-R"
      },
      "source": [
        "%%R\n",
        "#VaR con alisado\n",
        "\n",
        "wquantile <- function(v,w=rep(1,length(v)),p=.5) \n",
        "{ \n",
        "  if ( !is.numeric(w) || length(v) != length(w) ) \n",
        "    stop(\"Los valores y los pesos tienen que tener misma longitud\") \n",
        "  if ( !is.numeric(p) || any( p<0 | p>1) ) \n",
        "    stop(\"Percentil tiene que ser 0<=p<=1\") \n",
        "  if ( min(w) < 0 ) stop(\"Los pesos tiene que ser mayores que 0\") \n",
        "  ranking <- order(v) \n",
        "  sumw <- cumsum(w[ranking]) \n",
        "  plist <- sumw / sumw[ length(sumw) ] \n",
        "  v [ ranking [ which.max( plist >= p ) ] ]  \n",
        "} \n",
        "\n",
        "#CVaR con alisado\n",
        "wcvar <- function(v,w=rep(1,length(v)),p=.5) \n",
        "{ \n",
        "  if ( !is.numeric(w) || length(v) != length(w) ) \n",
        "    stop(\"Los valores y los pesos tienen que tener misma longitud\") \n",
        "  if ( !is.numeric(p) || any( p<0 | p>1) ) \n",
        "    stop(\"Percentil tiene que ser 0<=p<=1\") \n",
        "  if ( min(w) < 0 ) stop(\"Los pesos tiene que ser mayores que 0\") \n",
        "  ranking <- order(v) \n",
        "  sumw <- cumsum(w[ranking]) \n",
        "  plist <- sumw / sumw[ length(sumw) ] \n",
        "  loss= v [ ranking [ which( plist <= p ) ] ]  \n",
        "  esc=w [ ranking [ which( plist <= p ) ] ]  \n",
        "  sum(loss*esc)/(sum(esc))\n",
        "} "
      ],
      "execution_count": 4,
      "outputs": []
    },
    {
      "cell_type": "markdown",
      "metadata": {
        "id": "pUnxfbtGa3gz"
      },
      "source": [
        "## **Definición de parámetros para valorar**"
      ]
    },
    {
      "cell_type": "code",
      "metadata": {
        "id": "5YXSCZ5Aa8mP"
      },
      "source": [
        "%%R\n",
        "fval=as.Date(\"20211015\",format=\"%Y%m%d\") #Fecha de valoración"
      ],
      "execution_count": 5,
      "outputs": []
    },
    {
      "cell_type": "code",
      "metadata": {
        "id": "Y7c1MJz_bAR8"
      },
      "source": [
        "%%R\n",
        "alpha = 0.98 #@param {type:\"slider\", min:0, max:1, step:0.01}"
      ],
      "execution_count": 6,
      "outputs": []
    },
    {
      "cell_type": "code",
      "metadata": {
        "id": "M-EK780MbD5C"
      },
      "source": [
        "%%R\n",
        "#poner 0 si se quiere interpolación lineal o 1 si se quiere tasa alambrada\n",
        "itpl = 0 #@param [\"0\", \"1\"] {type:\"raw\"} "
      ],
      "execution_count": 7,
      "outputs": []
    },
    {
      "cell_type": "markdown",
      "metadata": {
        "id": "quWsKRfFbHen"
      },
      "source": [
        "### Inciso 1\n",
        "1000 acciones de GCarso, -5000 de AméricaMóvil y 1200 WalMart. *Todas de la BMV*"
      ]
    },
    {
      "cell_type": "code",
      "metadata": {
        "id": "OD4D__mcbMhr"
      },
      "source": [
        "%%R\n",
        "Symbols<-c  (\"AMXL.MX\", \"GCARSOA1.MX\", \"WALMEX.MX\" )#Claves de cotización de las emisoras, en orden alfabético\n",
        "pos_eq=c(-5000,1000,1200) #Monto inicial invertido en acciones\n",
        "nh=3660 #Días de historia"
      ],
      "execution_count": 8,
      "outputs": []
    },
    {
      "cell_type": "markdown",
      "metadata": {
        "id": "KeznTA0zbQRo"
      },
      "source": [
        "### Inciso 2\n",
        "1500 dólares (peso dólar), 700 euros, y -600 libras esterlinas."
      ]
    },
    {
      "cell_type": "code",
      "metadata": {
        "id": "xHeyiphLbVx9"
      },
      "source": [
        "%%R\n",
        "SymbolsFX<-c(\"EURUSD=X\",\"GBPUSD=X\",\"USDMXN=X\" ) #Simbolos en orden alfabetico\n",
        "pos_fx=c(700,-600,1500) #Monto incial invertido en divisas\n",
        "nh=3660 #días de historia"
      ],
      "execution_count": 9,
      "outputs": []
    },
    {
      "cell_type": "markdown",
      "metadata": {
        "id": "P6jqXMvIbZb4"
      },
      "source": [
        "### Inciso 3\n",
        "2 bonos largos, uno cupón cero de cetes (con la curva guber) con nocional de 1500 vencimiento de 180 días, un bono M con tasa fija de 4.5% con un cupon de 4.05% anual vencimiento de 3600 días y un bono corto 1000 bondes con plazo 707 con cupón que paga 28 días (calcular cupón basado en curva de fondeo y descontar con la curva correspondiente). "
      ]
    },
    {
      "cell_type": "code",
      "metadata": {
        "id": "w5iX74rYbdFI"
      },
      "source": [
        "%%R\n",
        "\n",
        "#CETES\n",
        "base=\"RiesgosFinancieros/2022-1/Tarea/tasa_guber.txt\"\n",
        "plazos_bcc = cbind(180, 0)\n",
        "contratos_bcc = cbind(1500, 0)\n",
        "nominal_bcc = 10\n",
        "\n",
        "\n",
        "#BONO M CON TASA FIJA\n",
        "btasadesc=\"RiesgosFinancieros/2022-1/Tarea/tasa_yield.txt\"\n",
        "tf = cbind(0.045,0)\n",
        "tfcupon_bm = cbind(0.0405, 0)\n",
        "plazos_bm = cbind(3600, 0)\n",
        "plazocupon_bm = cbind(182, 0)\n",
        "contratos_bm = cbind(1000, 0)\n",
        "nominal_bm = 100\n",
        "\n",
        "#BONDES D\n",
        "btasadescst=\"RiesgosFinancieros/2022-1/Tarea/tasa_guber_st.txt\"\n",
        "btasafondeo=\"RiesgosFinancieros/2022-1/Tarea/tfondeo.txt\"\n",
        "plazos_bdm= cbind(707, 707) #Vencimiento del bono\n",
        "plazocupon_bdm= cbind(28, 28) #plazos_bdm fijos de cada cupón\n",
        "contratos_bdm = cbind(-1000, 0)\n",
        "nominal_bdm=100"
      ],
      "execution_count": 10,
      "outputs": []
    },
    {
      "cell_type": "markdown",
      "metadata": {
        "id": "s106nu2Kbisj"
      },
      "source": [
        "###Inciso 4\n",
        "100 contratos de compra de futuros de peso dólar con un strike de 20.83 vencimiento de 5 días, y 50 contratos\n",
        "de venta de futuros del IPC con strike de 49525 vencimiento de 53 días."
      ]
    },
    {
      "cell_type": "code",
      "metadata": {
        "id": "Sq9TsyoPbl3i"
      },
      "source": [
        "%%R\n",
        "#FORWARDS TDC\n",
        "bext=\"RiesgosFinancieros/2022-1/Tarea/tasa_libor.txt\"\n",
        "bdom=\"RiesgosFinancieros/2022-1/Tarea/tasa_fwd.txt\"\n",
        "SymbolsFX_ftdc<-c(\"USDMXN=X\", \"GBPUSD=X\" ) #tienen que ir en orden alfabético\n",
        "plazos_fwd=cbind(5,5)\n",
        "contratos_fwd=cbind(100,0)\n",
        "kst_fwd=cbind(20.83,20.83)\n",
        "nominal_fwd=1\n",
        "yext=1 #si se carga información de yahoo en la fecha definida por fval o SymbolsFX, en caso contrario se utiliza información que se tendrá que cargar de tasas_spot.txt\n",
        "trlib=1 #1 si la curva libor viene a 182 0 si no.\n",
        "\n",
        "#FORWARDS DE IPC\n",
        "#Descontamos con gubernamental\n",
        "base=\"RiesgosFinancieros/2022-1/Tarea/tasa_guber.txt\"\n",
        "SymbolsEQ_find<-c(\"^MXX\", \"GCARSOA1.MX\" ) #tienen que ir en orden alfabético\n",
        "plazos_fwd_ind=cbind(53,53)\n",
        "contratos_fwd_ind=cbind(50,0)\n",
        "kst_fwd_ind=cbind(49525,49525)\n",
        "nominal_fwd_ind=1"
      ],
      "execution_count": 11,
      "outputs": []
    },
    {
      "cell_type": "markdown",
      "metadata": {
        "id": "P5Z182t1bqSg"
      },
      "source": [
        "### Inciso 5\n",
        "\n",
        "Un swap largo nocional de 1600 pagando tasa fija de 4.6% anual (cada 28 días) y recibiendo tasa flotante de la curva TIIE vencimiento de 588 días, un swap corto con nocional de 1200 pagando tasa variable de la TIIE y recibiendo fija de 4.9% vencimiento de 270."
      ]
    },
    {
      "cell_type": "code",
      "metadata": {
        "id": "4b6MAsc9bt-0"
      },
      "source": [
        "%%R\n",
        "btasadesc_sw=\"RiesgosFinancieros/2022-1/Tarea/tasa_TIIE_SW_OP.txt\"\n",
        "btasacupvar_sw=\"RiesgosFinancieros/2022-1/Tarea/tasa_DIRS_SW_OP.txt\"\n",
        "tasafija_sw=cbind(0.046,0.049) #se establece la tasa fija a pagar para cada swap\n",
        "plazos_sw=cbind(588,270) #se establece el número de días que vivirá el swap\n",
        "plazocupon_sw=cbind(28,28) #se establece el número de días que se pagará cada cupón\n",
        "contratos_sw=cbind(1600,-1200) #se establece el número de contratos_sw de cada swap\n",
        "nominal_sw=cbind(1, 1) #se establece el nominal_sw de cada swap\n",
        "por_sw=cbind(0,1) #se establece 0 si se paga tasa fija y 1 si se paga tasa variable"
      ],
      "execution_count": 12,
      "outputs": []
    },
    {
      "cell_type": "markdown",
      "metadata": {
        "id": "li4reWgTbxwA"
      },
      "source": [
        "### Inciso 6\n",
        "Dos opciones europeas, una de tasa de interés larga call con strike de 5.8 % vencimiento de 1700 días 1000\n",
        "contratos, y otra put larga de tasa de interés con strike de 6.0 % de la tiie nocional de 500 contratos vencimiento\n",
        "700 días. (se valuará basado en las superficies de volatilidad si es in o out the money y en las curvas de tasa de interés TIIE o Pagarés)."
      ]
    },
    {
      "cell_type": "code",
      "metadata": {
        "id": "nxZZlEMob2vo"
      },
      "source": [
        "%%R\n",
        "btasadesc_oir=\"RiesgosFinancieros/2022-1/Tarea/tasa_TIIE_SW_OP.txt\" #Tasa de descuento\n",
        "btasaspot_oir=\"RiesgosFinancieros/2022-1/Tarea/tasa_DIRS_SW_OP.txt\" #Tasa Spot\n",
        "bvolspot_oir=\"RiesgosFinancieros/2022-1/Tarea/tvoltiie_opc.txt\" #Volatilidad\n",
        "plazos_oir=cbind( 1700, 700) #T-t\n",
        "pr_oir=28 #plazo de referencia  \n",
        "dct_oir=360 #d_base\n",
        "cp_oir=cbind(1,0) #si es call (cap) o put (floor) \n",
        "K_oir=cbind( 0.058,0.06) #Strike\n",
        "contratos_oir=cbind(1000,500)\n",
        "nominal_oir=1\n",
        "cs_oir=1 #1 si es continua la tasa 0 si es simple"
      ],
      "execution_count": 13,
      "outputs": []
    },
    {
      "cell_type": "markdown",
      "metadata": {
        "id": "Y4nVDmF0b7gn"
      },
      "source": [
        "## **Carga de datos**"
      ]
    },
    {
      "cell_type": "markdown",
      "metadata": {
        "id": "Vx4v3M7hb_-6"
      },
      "source": [
        "### Inciso 1"
      ]
    },
    {
      "cell_type": "code",
      "metadata": {
        "id": "VLYt1icYcby_"
      },
      "source": [
        "%%R\n",
        "start_date=Sys.Date()-nh #fecha inicial\n",
        "dataEnv<-new.env()\n",
        "getSymbols.yahoo(Symbols,env=dataEnv,from=start_date)\n",
        "\n",
        "bt.prep(dataEnv,align='remove.na',fill.gaps = T)\n",
        "stock_prices = dataEnv$prices"
      ],
      "execution_count": 14,
      "outputs": []
    },
    {
      "cell_type": "markdown",
      "metadata": {
        "id": "HYxfxygecfm6"
      },
      "source": [
        "###Inciso 2"
      ]
    },
    {
      "cell_type": "code",
      "metadata": {
        "id": "Ts7GMM5UcqBk"
      },
      "source": [
        "%%R\n",
        "  start_date=Sys.Date()-nh #fecha inicial\n",
        "  dataEnvFX<-new.env() #Creamos donde guardar los datos\n",
        "  getSymbols.yahoo(SymbolsFX,env=dataEnvFX,from=start_date) #Obtenemos los datps\n",
        "  bt.prep(dataEnvFX,align='remove.na',fill.gaps=T) #Limpieza de datos\n",
        "  stock_pricesFX = dataEnvFX$prices #Nos da el precio\n",
        "\n",
        "  stock_pricesFX=cbind(stock_pricesFX[,1,with=F]*stock_pricesFX[,3,with=F],stock_pricesFX[,2,with=F]*stock_pricesFX[,3,with=F],stock_pricesFX[,3,with=F])\n",
        "stock_prices_EQFX=merge(stock_pricesFX,stock_prices,join = \"inner\")\n",
        "\n",
        "aux2=data.table(Date=as.Date(index(stock_prices_EQFX)),coredata(stock_prices_EQFX))\n"
      ],
      "execution_count": 15,
      "outputs": []
    },
    {
      "cell_type": "markdown",
      "metadata": {
        "id": "a0zmHY8CcueV"
      },
      "source": [
        "###Inciso 3"
      ]
    },
    {
      "cell_type": "code",
      "metadata": {
        "id": "nVrdYFIdcu8T",
        "colab": {
          "base_uri": "https://localhost:8080/"
        },
        "outputId": "45da7bc1-a2b2-466c-b652-38d030053710"
      },
      "source": [
        "%%R\n",
        "\n",
        "# CETES\n",
        "data_cetes<-read.table(base)\n",
        "n_gov<-nrow(data_cetes)\n",
        "m_gov=ncol(data_cetes)\n",
        "x_orig_gov=data.frame(data_cetes[2:n_gov,1:m_gov])\n",
        "x_orig_gov=as.data.table(mutate(data_cetes[2:n_gov,1:m_gov],Date=as.Date(V1,format=\"%Y%m%d\")))\n",
        "x_orig_gov=x_orig_gov%>%select(-V1)\n",
        "nodos_gov=data.frame(data_cetes[1,2:m_gov])\n",
        "\n",
        "# BONO M\n",
        "data_m<-read.table(btasadesc)\n",
        "n_bonom<-nrow(data_m)\n",
        "m_bonom=ncol(data_m)\n",
        "x_orig_bonom=data.frame(data_m[2:n_bonom,1:m_bonom])\n",
        "x_orig_bonom=as.data.table(mutate(data_m[2:n_bonom,1:m_bonom],Date=as.Date(V1,format=\"%Y%m%d\")))\n",
        "x_orig_bonom=x_orig_bonom%>%select(-V1)\n",
        "nodos_bonom=data.frame(data_m[1,2:m_bonom])\n",
        "\n",
        "# BONDE D\n",
        "\n",
        "data1<-read.table(base)\n",
        "n<-nrow(data1)\n",
        "m_bd=ncol(data1)\n",
        "X_orig_bd=as.data.table(mutate(data1[2:n,1:m_bd],Date=as.Date(V1,format=\"%Y%m%d\")))\n",
        "X_orig_bd%>%select(-V1)\n",
        "\n",
        "X1_orig=mutate(data.frame(data1[2:n,1:m_bd]), V1=as.Date(V1,format=\"%Y%m%d\"))\n",
        "print(head(X1_orig[,1:4]))\n",
        "nodos=data.frame(data1[1,2:m_bd])\n",
        "n=n-1\n",
        "\n",
        "data3<-read.table(btasadescst)\n",
        "n3<-nrow(data3)\n",
        "m3_bd=ncol(data3)\n",
        "X3_orig_bd=as.data.table(mutate(data3[2:n,1:m3_bd],Date=as.Date(V1,format=\"%Y%m%d\")))\n",
        "X3_orig_bd=X3_orig_bd%>%select(-V1)\n",
        "\n",
        "X3a_orig=mutate(data.frame(data1[2:n,1:m_bd]), V1=as.Date(V1,format=\"%Y%m%d\"))\n",
        "nodos3_bd=data.frame(data3[1,2:m3_bd])\n",
        "n3=n3-1\n",
        "\n",
        "data2<-read.table(btasafondeo)\n",
        "n2<-nrow(data2)\n",
        "X2_orig_bd=data.frame(data2[2:n2,1:2])\n",
        "\n",
        "X2_orig_bd=mutate(X2_orig_bd, V1=as.Date(V1,format=\"%Y%m%d\"), Date=as.Date(V1,format=\"%Y%m%d\"), V2=as.numeric(as.character(V2)))\n",
        "tfh=seq(min(X2_orig_bd$V1), max(X2_orig_bd$V1), \"days\") #sucesión de dias para tasa fondeo\n",
        "tfhd=data.frame(ID=1:count(tfh),fecha=tfh)\n",
        "\n",
        "#Cruzar la sucesión de todos los días versus el de tasa de fondeo\n",
        "tfhd=setDT(tfhd)[, Date := tfh][order(-Date)]\n",
        "X2_orig_bd=setDT(X2_orig_bd)[, Date := V1][order(-Date)]\n",
        "# rolling join unión por rolling, rellena las fechas que faltaban con el último valor conocido \"roll=Inf\"\n",
        "X2_orig_bd=X2_orig_bd[tfhd, on = .(Date), roll = Inf] \n",
        "\n",
        "#buscar fecha de valuación en tfondeo\n",
        "tf_act=X2_orig_bd[fecha==fval,]$V2/100\n",
        "tf_int=X2_orig_bd[fecha<=fval & fecha>=(fval-plazocupon_bdm[1])]$V2/100\n",
        "\n",
        "X1_orig=setDT(X1_orig)[, Date:= V1][order(-Date)] #Para alinear con valor presente y tasa de fondeo.\n"
      ],
      "execution_count": 16,
      "outputs": [
        {
          "output_type": "stream",
          "name": "stdout",
          "text": [
            "          V1         V2         V3         V4\n",
            "2 2021-10-15 0.04850092 0.04790516 0.04729400\n",
            "3 2021-10-14 0.04737299 0.04790516 0.04729400\n",
            "4 2021-10-13 0.04737299 0.04790516 0.04751145\n",
            "5 2021-10-12 0.04793244 0.04790516 0.04751145\n",
            "6 2021-10-11 0.04737299 0.04790516 0.04751145\n",
            "7 2021-10-08 0.04737299 0.04786294 0.04751145\n"
          ]
        }
      ]
    },
    {
      "cell_type": "markdown",
      "metadata": {
        "id": "HHcqq_shcvmz"
      },
      "source": [
        "###Inciso 4"
      ]
    },
    {
      "cell_type": "code",
      "metadata": {
        "id": "3sz1misScwAb"
      },
      "source": [
        "%%R\n",
        "#CARGA DE DATOS DE  FORWARDS DE TDC\n",
        "#datas\n",
        "#data<-read.table(\"tasa_tiie.txt\")\n",
        "data1<-read.table(bext)\n",
        "data2<-read.table(bdom)\n",
        "\n",
        "########minimos para parametrizar\n",
        "n1=nrow(data1)\n",
        "n2=nrow(data2)\n",
        "m1_ftdc=ncol(data1)\n",
        "m2_ftdc=ncol(data2)\n",
        "n=min(n1,n2)-1\n",
        "###NODOS###\n",
        "nodos1_ftdc=data.frame(data1[1,2:m1_ftdc])\n",
        "nodos2_ftdc=data.frame(data2[1,2:m2_ftdc])\n",
        "####MATRICES DEL MISMO TAMAÑO MENOS DOLAR\n",
        "\n",
        "x1_ftdc=as.data.table(mutate(data1[2:n,1:m1_ftdc],Date=as.Date(V1,format=\"%Y%m%d\")))\n",
        "\n",
        "x1_ftdc=x1_ftdc%>%select(-V1)\n",
        "x2_ftdc=as.data.table(mutate(data2[2:n,1:m2_ftdc],Date=as.Date(V1,format=\"%Y%m%d\")))\n",
        "x2_ftdc=x2_ftdc%>%select(-V1)\n",
        "\n",
        "\n",
        "###Para Dolar\n",
        "\n",
        "if (yext==1)\n",
        "{\n",
        "#Cargar los símbolos de yahoo finance para FX\n",
        "  start_date=fval-3660 #fecha inicial\n",
        "\n",
        "\n",
        "  \n",
        "#Creación del objeto para guardar los datos\n",
        "  dataEnvFX_ftdc<-new.env()\n",
        "  \n",
        "#obtener los datos\n",
        "  getSymbols.yahoo(SymbolsFX_ftdc,env=dataEnvFX_ftdc,from=start_date, to=(fval))\n",
        "#limpiarlos, alinearnos y quedarnos con el precio de cierre \n",
        "  bt.prep(dataEnvFX_ftdc,align='remove.na',fill.gaps=T)\n",
        "  \n",
        "#muestra de datos\n",
        "  head(dataEnvFX_ftdc$prices[,2])\n",
        "  \n",
        "#Nos quedamos con los precios\n",
        "  X3_ftdc=data.table(Date=as.Date(index(dataEnvFX_ftdc$prices[,2])),coredata(dataEnvFX_ftdc$prices[,2]))\n",
        "} else  \n",
        "{ \n",
        "data3<-read.table(btsp)\n",
        "n3<-nrow(data3)\n",
        "m3<-ncol(data3)\n",
        "X3=data.table(as.matrix(as.double(as.matrix(data3[2:(n+1),m3]))))\n",
        "X3_find=as.data.table(mutate(data3[2:(n+1),1:m3],Date=as.Date(V1,format=\"%Y%m%d\")))\n",
        "}\n",
        "\n",
        "\n",
        "# CARGA DE DATOS DE  FORWARD DE IPC\n",
        "\n",
        "data<-read.table(base)\n",
        "n<-nrow(data)\n",
        "m_gov=ncol(data)\n",
        "#x_orig_gov=data.frame(data[2:n,1:m_gov])\n",
        "x_orig_gov=as.data.table(mutate(data[2:n,1:m_gov],Date=as.Date(V1,format=\"%Y%m%d\")))\n",
        "x_orig_gov=x_orig_gov%>%select(-V1)\n",
        "nodos_gov=data.frame(data[1,2:m_gov])\n",
        "\n",
        "  #Cargar los símbolos de yahoo finance para EQ\n",
        "  start_date=fval-nh #fecha inicial\n",
        "  \n",
        "  #Creación del objeto para guardar los datos\n",
        "  dataEnvEQ<-new.env()\n",
        "  \n",
        "  #obtener los datos\n",
        "  getSymbols.yahoo(SymbolsEQ_find,env=dataEnvEQ,from=start_date, to=(fval))\n",
        "  #limpiarlos, alinearnos y quedarnos con el precio de cierre \n",
        "  bt.prep(dataEnvEQ,align='remove.na',fill.gaps=T)\n",
        "  \n",
        "  #muestra de datos\n",
        "#  head(dataEnvEQ$prices)\n",
        "  \n",
        "  #Nos quedamos con los precios\n",
        "  X3_find=data.table(Date=as.Date(index(dataEnvEQ$prices[,2])),coredata(dataEnvEQ$prices[,2]))"
      ],
      "execution_count": 17,
      "outputs": []
    },
    {
      "cell_type": "markdown",
      "metadata": {
        "id": "xG2W58trcwe-"
      },
      "source": [
        "###Inciso 5"
      ]
    },
    {
      "cell_type": "code",
      "metadata": {
        "id": "voIQUqkUcxHL"
      },
      "source": [
        "%%R\n",
        "data1<-read.table(btasadesc_sw)\n",
        "n1<-nrow(data1)\n",
        "m1_orig_sw=ncol(data1)\n",
        "X1_orig_sw=data.table(mutate(data1[2:n1,1:m1_orig_sw],Date=as.Date(V1,format=\"%Y%m%d\")))\n",
        "X1_orig_sw=X1_orig_sw%>%select(-V1)\n",
        "nodos1_sw=data.frame(data1[1,2:m1_orig_sw])\n",
        "  \n",
        "data2<-read.table(btasacupvar_sw)\n",
        "n2<-nrow(data2)\n",
        "m2_orig_sw=ncol(data2)\n",
        "X2_orig_sw=data.table(mutate(data2[2:n1,1:m1_orig_sw],Date=as.Date(V1,format=\"%Y%m%d\")))\n",
        "X2_orig_sw=X2_orig_sw%>%select(-V1)\n",
        "nodos2_sw=data.frame(data2[1,2:m2_orig_sw])"
      ],
      "execution_count": 18,
      "outputs": []
    },
    {
      "cell_type": "markdown",
      "metadata": {
        "id": "mQNUYMe8c2-P"
      },
      "source": [
        "###Inciso 6"
      ]
    },
    {
      "cell_type": "code",
      "metadata": {
        "id": "0XIOru6ndQ1g"
      },
      "source": [
        "%%R\n",
        "  #carga de rho\t\n",
        "  data1<-read.table(btasadesc_oir) \n",
        "  n<-nrow(data1)\n",
        "  m1_orig_oir=ncol(data1)\n",
        "  x1_orig_oir=data.table(mutate(data1[2:n,1:m1_orig_oir],Date=as.Date(V1,format=\"%Y%m%d\")))\n",
        "  x1_orig_oir=x1_orig_oir%>%select(-V1)\n",
        "  nodos1_oir=data.frame(data1[1,2:m1_orig_oir])\n",
        "  \n",
        "  #data1[1:3,]\n",
        "  #carga de tasas spot\n",
        "  data2<-read.table(btasaspot_oir)\n",
        "  n<-nrow(data2)\n",
        "  m2_orig_oir=ncol(data2)\n",
        "  x2_orig_oir=data.table(mutate(data2[2:n,1:m2_orig_oir],Date=as.Date(V1,format=\"%Y%m%d\")))\n",
        "  x2_orig_oir=x2_orig_oir%>%select(-V1)\n",
        "  nodos2_oir=data.frame(data2[1,2:m2_orig_oir])\n",
        "  #carga de volatilidades de spot\n",
        "  data3<-read.table(bvolspot_oir)\n",
        "  n<-nrow(data3)\n",
        "  m3_orig_oir=ncol(data3)\n",
        "  x3_orig_oir=data.table(mutate(data3[2:n,1:m3_orig_oir],Date=as.Date(V1,format=\"%Y%m%d\")))\n",
        "  x3_orig_oir=x3_orig_oir%>%select(-V1)\n",
        "  \n",
        "  nodos3_oir=data.frame(data3[1,2:m3_orig_oir])"
      ],
      "execution_count": 19,
      "outputs": []
    },
    {
      "cell_type": "markdown",
      "metadata": {
        "id": "Ji8Uq3EzdU-m"
      },
      "source": [
        "##**Integración de Insumos**"
      ]
    },
    {
      "cell_type": "markdown",
      "metadata": {
        "id": "pCEHhalpdZIp"
      },
      "source": [
        "### Cruce de tablas"
      ]
    },
    {
      "cell_type": "code",
      "metadata": {
        "id": "0_yicFZrdcTz",
        "colab": {
          "base_uri": "https://localhost:8080/"
        },
        "outputId": "76885112-5150-4775-94ad-42eec92d6776"
      },
      "source": [
        "%%R\n",
        "#INTERSECCIÓN DE FECHAS DE TODOS LOS INSUMOS    \n",
        "  \n",
        "\n",
        "lin_gub=data.table(Date=as.Date(aux2[x_orig_gov,on=.(Date),nomatch=0]$Date)) #Fechas acciones, equity, guber, yield\n",
        "\n",
        "#lin_gub_aux=data.table(Date=as.Date(lin_gub[x_orig_bonom,on=.(Date),nomatch=0]$Date)) \n",
        "\n",
        "lin_gub_bmybdst_aux=data.table(Date=as.Date(lin_gub[X3_orig_bd,on=.(Date),nomatch=0]$Date)) #Fechas acciones, equity, guber, yield y st (bonde)\n",
        "\n",
        "\n",
        "lin_gub_bmybdst=data.table(Date=as.Date(X3_ftdc[lin_gub_bmybdst_aux,on=.(Date),nomatch=0]$Date)) #Fechas acciones, equity, guber, yield y st (bonde)\n",
        "\n",
        "lin_gub_bmybdst_flib=data.table(Date=as.Date(lin_gub_bmybdst[x1_ftdc,on=.(Date),nomatch=0]$Date)) #Fechas acciones, equity, guber, yield,  st (bonde), libor\n",
        "\n",
        "lin_gub_bmybdst_flibfwd=data.table(Date=as.Date(lin_gub_bmybdst_flib[x2_ftdc,on=.(Date),nomatch=0]$Date)) #Fechas acciones, equity, guber, yield, st (bonde), libor, fwd\n",
        "\n",
        "lin_gub_bmybdst_flibfwdspind=data.table(Date=as.Date(lin_gub_bmybdst_flibfwd[X3_find,on=.(Date),nomatch=0]$Date)) #Fechas acciones, equity, guber, yield, st (bonde), libor, fwd, spot, equity or index\n",
        "\n",
        "\n",
        "\n",
        "lin_gub_bmybdst_flibfwdspind_swcup=data.table(Date=as.Date(lin_gub_bmybdst_flibfwdspind[X1_orig_sw,on=.(Date),nomatch=0]$Date)) #Fechas acciones, equity, guber, yield, st (bonde), libor, fwd, spot, equity or index, swap cupón\n",
        "\n",
        "lin_gub_bmybdst_flibfwdspind_swcupvp=data.table(Date=as.Date(lin_gub_bmybdst_flibfwdspind_swcup[X2_orig_sw,on=.(Date),nomatch=0]$Date)) #Fechas acciones, equity, guber, yield, st (bonde), libor, fwd, spot, equity or index, swap cupón\n",
        "\n",
        "lin_gub_bmybdst_flibfwdspind_swcupvp_oirs=data.table(Date=as.Date(lin_gub_bmybdst_flibfwdspind_swcupvp[x1_orig_oir,on=.(Date),nomatch=0]$Date)) #Fechas acciones, equity, guber, yield, st (bonde), libor, fwd, spot, equity or index, swap cupón, opciones ir spot\n",
        "\n",
        "lin_gub_bmybdst_flibfwdspind_swcupvp_oirsvp=data.table(Date=as.Date(lin_gub_bmybdst_flibfwdspind_swcupvp_oirs[x2_orig_oir,on=.(Date),nomatch=0]$Date)) #Fechas acciones, equity, guber, yield, st (bonde), libor, fwd, spot, equity or index, swap cupón, opciones ir spot, opc ir vp\n",
        "\n",
        "lin_gub_bmybdst_flibfwdspind_swcupvp_oirsvpvol=data.table(Date=as.Date(lin_gub_bmybdst_flibfwdspind_swcupvp_oirsvp[x3_orig_oir,on=.(Date),nomatch=0]$Date)) #Fechas acciones, equity, guber, yield, st (bonde), libor, fwd, spot, equity or index, swap cupón, opciones ir spot, opc ir vp, opc ir vol\n",
        "\n",
        "\n",
        "lin_gub_bmybdst_flibfwdspind_swcupvp_oirsvpvol=unique(lin_gub_bmybdst_flibfwdspind_swcupvp_oirsvpvol)\n",
        "\n",
        "n=nrow(lin_gub_bmybdst_flibfwdspind_swcupvp_oirsvpvol)\n",
        "n"
      ],
      "execution_count": 20,
      "outputs": [
        {
          "output_type": "stream",
          "name": "stdout",
          "text": [
            "[1] 253\n"
          ]
        }
      ]
    },
    {
      "cell_type": "markdown",
      "metadata": {
        "id": "H1S6OC4qdmHE"
      },
      "source": [
        "### Formato de historia"
      ]
    },
    {
      "cell_type": "markdown",
      "metadata": {
        "id": "CfNMTBCFdoty"
      },
      "source": [
        "#### Historia de todos"
      ]
    },
    {
      "cell_type": "code",
      "metadata": {
        "id": "GR3OTHBZdlLA",
        "colab": {
          "base_uri": "https://localhost:8080/"
        },
        "outputId": "1a2d257f-7919-4f6c-ec99-e5630d35959e"
      },
      "source": [
        "%%R\n",
        "n=nrow(lin_gub_bmybdst_flibfwdspind_swcupvp_oirsvpvol)\n",
        "n"
      ],
      "execution_count": 21,
      "outputs": [
        {
          "output_type": "stream",
          "name": "stdout",
          "text": [
            "[1] 253\n"
          ]
        }
      ]
    },
    {
      "cell_type": "markdown",
      "metadata": {
        "id": "7cMP2KW5dwN0"
      },
      "source": [
        "#### Incisos 1 y 2"
      ]
    },
    {
      "cell_type": "code",
      "metadata": {
        "id": "oEJD42__d08N"
      },
      "source": [
        "%%R\n",
        "#historia de acciones y divisas\n",
        "stock_prices_EQFX=lin_gub_bmybdst_flibfwdspind_swcupvp_oirsvpvol[aux2,on=.(Date),nomatch=0][order(-Date)]\n",
        "stock_prices_EQFX=stock_prices_EQFX%>%select(-Date)"
      ],
      "execution_count": 22,
      "outputs": []
    },
    {
      "cell_type": "markdown",
      "metadata": {
        "id": "Dlq9hyxJd1ZU"
      },
      "source": [
        "#### Incisos 3"
      ]
    },
    {
      "cell_type": "code",
      "metadata": {
        "id": "UI2Vm4QLd3N0"
      },
      "source": [
        "%%R\n",
        "#Historia de curva gubernamental y yield\n",
        "x_orig_gov=lin_gub_bmybdst_flibfwdspind_swcupvp_oirsvpvol[x_orig_gov,on=.(Date),nomatch=0][order(-Date)]\n",
        "x_orig_gov=x_orig_gov%>%select(-Date)\n",
        "\n",
        "#Historia de curvas de bonde\n",
        "X1_orig=lin_gub_bmybdst_flibfwdspind_swcupvp_oirsvpvol[X1_orig,on=.(Date),nomatch=0][order(-Date)]\n",
        "X1_orig=X1_orig%>%select(-Date)\n",
        "X2_orig_bd=lin_gub_bmybdst_flibfwdspind_swcupvp_oirsvpvol[X2_orig_bd,on=.(Date),nomatch=0][order(-Date)]\n",
        "X2_orig_bd=X2_orig_bd%>%select(-Date)\n",
        "X3_orig_bd=lin_gub_bmybdst_flibfwdspind_swcupvp_oirsvpvol[X3_orig_bd,on=.(Date),nomatch=0][order(-Date)]\n",
        "X3_orig_bd=X3_orig_bd%>%select(-Date)\n",
        "\n"
      ],
      "execution_count": 23,
      "outputs": []
    },
    {
      "cell_type": "markdown",
      "metadata": {
        "id": "l691TCbUd3mt"
      },
      "source": [
        "#### Incisos 4"
      ]
    },
    {
      "cell_type": "code",
      "metadata": {
        "id": "P4v05W3Sd48s"
      },
      "source": [
        "%%R\n",
        "#historia de curvas de forward tdc\n",
        "x1_ftdc=lin_gub_bmybdst_flibfwdspind_swcupvp_oirsvpvol[x1_ftdc,on=.(Date),nomatch=0][order(-Date)]\n",
        "x1_ftdc=x1_ftdc%>%select(-Date)/100\n",
        "x2_ftdc=lin_gub_bmybdst_flibfwdspind_swcupvp_oirsvpvol[x2_ftdc,on=.(Date),nomatch=0][order(-Date)]\n",
        "x2_ftdc=x2_ftdc%>%select(-Date)/100\n",
        "X3_ftdc=lin_gub_bmybdst_flibfwdspind_swcupvp_oirsvpvol[X3_ftdc,on=.(Date),nomatch=0][order(-Date)]\n",
        "X3_ftdc=X3_ftdc%>%select(-Date)\n",
        "\n",
        "#historia de curvas de forward ind\n",
        "#CONSIDERAR LA CURVA GUBERNAMENTAL X1_ORIG_GOV\n",
        "X3_find=lin_gub_bmybdst_flibfwdspind_swcupvp_oirsvpvol[X3_find,on=.(Date),nomatch=0][order(-Date)]\n",
        "X3_find=X3_find%>%select(-Date)"
      ],
      "execution_count": 24,
      "outputs": []
    },
    {
      "cell_type": "markdown",
      "metadata": {
        "id": "r0OtCdLqd5P8"
      },
      "source": [
        "#### Incisos 5"
      ]
    },
    {
      "cell_type": "code",
      "metadata": {
        "id": "EETfth8od6hB"
      },
      "source": [
        "%%R\n",
        "X1_orig_sw=lin_gub_bmybdst_flibfwdspind_swcupvp_oirsvpvol[X1_orig_sw,on=.(Date),nomatch=0][order(-Date)]\n",
        "X1_orig_sw=X1_orig_sw%>%select(-Date)/100\n",
        "X2_orig_sw=lin_gub_bmybdst_flibfwdspind_swcupvp_oirsvpvol[X2_orig_sw,on=.(Date),nomatch=0][order(-Date)]\n",
        "X2_orig_sw=X2_orig_sw%>%select(-Date)/100"
      ],
      "execution_count": 25,
      "outputs": []
    },
    {
      "cell_type": "markdown",
      "metadata": {
        "id": "XHF4M6hid7BV"
      },
      "source": [
        "#### Incisos 6"
      ]
    },
    {
      "cell_type": "code",
      "metadata": {
        "id": "QdkV2Ozgd8Mn"
      },
      "source": [
        "%%R\n",
        "x1_orig_oir=lin_gub_bmybdst_flibfwdspind_swcupvp_oirsvpvol[x1_orig_oir,on=.(Date),nomatch=0][order(-Date)]\n",
        "x1_orig_oir=x1_orig_oir%>%select(-Date)/100\n",
        "x2_orig_oir=lin_gub_bmybdst_flibfwdspind_swcupvp_oirsvpvol[x2_orig_oir,on=.(Date),nomatch=0][order(-Date)]\n",
        "x2_orig_oir=x2_orig_oir%>%select(-Date)/100\n",
        "x3_orig_oir=lin_gub_bmybdst_flibfwdspind_swcupvp_oirsvpvol[x3_orig_oir,on=.(Date),nomatch=0][order(-Date)]\n",
        "x3_orig_oir=x3_orig_oir%>%select(-Date)"
      ],
      "execution_count": 26,
      "outputs": []
    },
    {
      "cell_type": "markdown",
      "metadata": {
        "id": "igoAbhE5wA7M"
      },
      "source": [
        "## Valuación y derivadas"
      ]
    },
    {
      "cell_type": "markdown",
      "metadata": {
        "id": "reKReYX2xSH0"
      },
      "source": [
        "### Acciones y divisas"
      ]
    },
    {
      "cell_type": "code",
      "metadata": {
        "id": "exREBYboxUMC"
      },
      "source": [
        "%%R\n",
        "#divisas y acciones CÁLCULO\n",
        "\n",
        "x0_acc_div=stock_prices_EQFX[1,]\n",
        "DeltaX_acc_div=as.matrix(log(as.matrix(stock_prices_EQFX[1:(n-1)])/as.matrix(stock_prices_EQFX[2:(n)])))\n",
        "V0_acc_div=cbind(t(pos_fx),t(pos_eq))*x0_acc_div\n",
        "mu_acc_div=0\n",
        "g_acc_div=cbind(t(pos_fx),t(pos_eq))\n",
        "g_acc_divt=cbind(t(pos_fx),t(pos_eq))*x0_acc_div\n",
        "gamma_acc_divt=matrix(0,ncol(x0_acc_div),ncol(x0_acc_div))\n",
        "\n",
        "\n",
        "m_fx=length(pos_fx)\n",
        "m_acc=length(pos_eq)"
      ],
      "execution_count": 27,
      "outputs": []
    },
    {
      "cell_type": "markdown",
      "metadata": {
        "id": "lxmCu1O2aRnR"
      },
      "source": [
        "### Cetes"
      ]
    },
    {
      "cell_type": "code",
      "metadata": {
        "id": "GsaQDX9vaYxk",
        "colab": {
          "base_uri": "https://localhost:8080/"
        },
        "outputId": "270e7b80-7f80-4fd9-f54b-2ead79b62440"
      },
      "source": [
        "%%R\n",
        "\n",
        "#CETE CÁLCULO\n",
        "#paso para interpolar las tasas\n",
        "m=ncol(plazos_bcc)\n",
        "x_bcc=matrix(0,n,m)\n",
        "for (i in 1:(n))\n",
        "{\n",
        "  #x[i,]=approx(nodos_gov,x_orig_gov[i,],plazos_bcc)$y\n",
        "  x_bcc[i,]=if(itpl==0){approx(nodos_gov,x_orig_gov[i,],plazos_bcc,rule=2)$y}else{talamb(nodos_gov,x_orig_gov[i,],plazos_bcc)}\n",
        "}\n",
        "\n",
        "x0_bcc=x_bcc[1,]\n",
        "\n",
        "#función\n",
        "bonocupcero = function(i,t)\n",
        "{\n",
        "  1/(1+i*t/360)\n",
        "}\n",
        "\n",
        "#funcion primera derivada con tiempo\n",
        "bcc_dt = function(i,t)\n",
        "{\n",
        "  -(i/360)/(1+i*t/360)^2\n",
        "}\n",
        "\n",
        "#funcion primera derivada con tasa interés\n",
        "bcc_di = function(i,t)\n",
        "{\n",
        "  -(t/360)/(1+i*t/360)^2\n",
        "}\n",
        "\n",
        "#funcion segunda derivada con tasa de interés\n",
        "bcc_di2 = function(i,t)\n",
        "{\n",
        "  2*(t/360)^2/(1+i*t/360)^3\n",
        "}\n",
        "\n",
        "V0_bcc=as.matrix(bonocupcero(x0_bcc,plazos_bcc))*contratos_bcc*nominal_bcc #Valor actual de cada bono\n",
        "\n",
        "VT0_bcc=sum(V0_bcc) #Valor total del portafolio al tiempo 0\n",
        "\n",
        "mu_bcc=bcc_dt(x0_bcc,plazos_bcc)*contratos_bcc*nominal_bcc\n",
        "print(mu_bcc)\n",
        "g_bcc=bcc_di(x0_bcc,plazos_bcc)*contratos_bcc*nominal_bcc\n",
        "g_bcct=g_bcc*x0_bcc\n",
        "gamma_bcc=bcc_di2(x0_bcc,plazos_bcc)*contratos_bcc*nominal_bcc\n",
        "gamma_bcct2=diagv(gamma_bcc*(x0_bcc)^2)\n",
        "print(gamma_bcct2)\n"
      ],
      "execution_count": 28,
      "outputs": [
        {
          "output_type": "stream",
          "name": "stdout",
          "text": [
            "          [,1] [,2]\n",
            "[1,] -1.949625    0\n",
            "         [,1] [,2]\n",
            "[1,] 16.82374    0\n",
            "[2,]  0.00000    0\n"
          ]
        }
      ]
    },
    {
      "cell_type": "markdown",
      "metadata": {
        "id": "3t2-6mU9bjNw"
      },
      "source": [
        "### Bono M"
      ]
    },
    {
      "cell_type": "code",
      "metadata": {
        "colab": {
          "base_uri": "https://localhost:8080/"
        },
        "id": "qLRujQ0rblpK",
        "outputId": "8dbc2a6f-d940-40a7-b778-e2c64a1c4a45"
      },
      "source": [
        "%%R\n",
        "#BONO M  CÁLCULO\n",
        "#Posición inicial\n",
        "#interpolación de tasas y volatilidades\n",
        "m=ncol(plazos_bm)\n",
        "X_bm=matrix(0,n,m)\n",
        "for (i in 1:(n))\n",
        "{\n",
        "  X_bm[i,]=if(itpl==0){approx(nodos_bonom,x_orig_gov[i,],plazos_bm,rule=2)$y}else{talamb(nodos_bonom,x_orig_gov[i,],plazos_bm)}\n",
        "}\n",
        "\n",
        "\n",
        "#Función de valoración por tasa yield\n",
        "bonoMyield=function(x, plazos_bm, plazocupon_bm, tfcupon_bm, nominal_bm, contratos_bm) #valoración bono tasa fija\n",
        "{\n",
        "  N=as.integer(plazos_bm/plazocupon_bm)+1   \n",
        "  p1=plazos_bm-plazocupon_bm*(N-1)   \n",
        "  a=(1-(1+x*plazocupon_bm/360)^(-N))/(plazocupon_bm*x/360)\n",
        "  ((contratos_bm*nominal_bm*tfcupon_bm*plazocupon_bm/360)*a+(contratos_bm*nominal_bm)/((1+x*plazocupon_bm/360)^N))*(1+x*plazocupon_bm/360)^(1-p1/plazocupon_bm)   \n",
        "}\n",
        "\n",
        "x0_bm=t(as.matrix(X_bm[1,])) #tasas de descuento valor actual\n",
        "V0_bm=bonoMyield(x0_bm,plazos_bm, plazocupon_bm, tfcupon_bm, nominal_bm, contratos_bm)\n",
        "\n",
        "#función para derivar con respecto al tiempo a la función de Bono General\n",
        "bonoMyieldm=function(x, plazos_bm, plazocupon_bm, tfcupon_bm, nominal_bm, contratos_bm) #valoración bono tasa fija\n",
        "{\n",
        "  N=plazos_bm/plazocupon_bm+1   \n",
        "  p1=plazos_bm-plazocupon_bm*(N-1)   \n",
        "  a=(1-(1+x*plazocupon_bm/360)^(-N))/(plazocupon_bm*x/360)\n",
        "  ((contratos_bm*nominal_bm*tfcupon_bm*plazocupon_bm/360)*a+(contratos_bm*nominal_bm)/((1+x*plazocupon_bm/360)^N))*(1+x*plazocupon_bm/360)^(1-p1/plazocupon_bm)   \n",
        "}\n",
        "\n",
        "mu_bm=eval(Deriv(bonoMyieldm(x0_bm,plazos_bm, plazocupon_bm, tfcupon_bm, nominal_bm, contratos_bm), \"plazos_bm\"))\n",
        "print(mu_bm[1,1])\n",
        "g_bm=eval(Deriv(bonoMyield(x0_bm,plazos_bm, plazocupon_bm, tfcupon_bm, nominal_bm, contratos_bm), \"x0_bm\"))\n",
        "g_bmt=g_bm*x0_bm\n",
        "gamma_bm=eval(Deriv(bonoMyield(x0_bm,plazos_bm, plazocupon_bm, tfcupon_bm, nominal_bm, contratos_bm), \"x0_bm\",nderiv=2))\n",
        "gamma_bmt2=diagv(gamma_bm*(x0_bm)^2)\n",
        "print(gamma_bmt2)\n",
        "\n"
      ],
      "execution_count": 29,
      "outputs": [
        {
          "output_type": "stream",
          "name": "stdout",
          "text": [
            "[1] -3.909924\n",
            "         [,1] [,2]\n",
            "[1,] 27675.37    0\n",
            "[2,]     0.00   NA\n"
          ]
        }
      ]
    },
    {
      "cell_type": "markdown",
      "metadata": {
        "id": "Iaoeiy7Csy1n"
      },
      "source": [
        "### Bonde D"
      ]
    },
    {
      "cell_type": "code",
      "metadata": {
        "id": "qchUAMpMs13C"
      },
      "source": [
        "%%R\n",
        "#BONDE D CÁLCULO\n",
        "names(X2_orig_bd)[1] = 'Date'\n",
        "X2_pr=lin_gub_bmybdst_flibfwdspind_swcupvp_oirsvpvol[X2_orig_bd, on = .(Date),nomatch=0][order(-Date)] #Se alinea la tasa de fondeo por fecha con la tasa de valor presente.\n",
        "m=ncol(plazos_bdm)\n",
        "\n",
        "\n",
        "N_bd=as.integer(plazos_bdm/plazocupon_bdm)+1 #número de cupones a pagar\n",
        "VTplazos_bdm=matrix(0,1,sum(N_bd)) #vector de todos los plazos_bdm de todos los contratos_bdm\n",
        "contratos_bdmT=matrix(0,1,sum(N_bd)) #vector de todos los contratos_bdm de todos los flujos de todos los contratos_bdm\n",
        "nominal_bdmT=matrix(0,1,sum(N_bd)) #vector de todos los nominal_bdmes de todos los flujos de todos los contratos_bdm\n",
        "plazocupon_bdmT=matrix(0,1,sum(N_bd)) #vector de todos los plazos_bdmcupon de todos los flujos de todos los contratos_bdm\n",
        "tasafijaT_bd=matrix(0,1,sum(N_bd)) #vector de tasas fijas de todos los flujos de todos los contratos_bdm\n",
        "ulNomT_bd=matrix(0,1,sum(N_bd)) #vector de contratos_bdm a final de flujo\n",
        "\n",
        "\n",
        "plazini_bd=plazos_bdm-plazocupon_bdm*(N_bd-1) #vector de plazos_bdm iniciales\n",
        "ddv=plazocupon_bdm-plazini_bd #dias trasncurridos del cupón vigente\n",
        "tfcupon=matrix(0,1,m)  #El primero cupón de cada bono\n",
        "tfcupondev=matrix(0,1,m) #cupón de los días devengados\n",
        "tfcupgen=((1+tf_act/360)^(plazocupon_bdm[1])-1)*360/plazocupon_bdm[1] #el segundo al último cupón de todos los bonos\n",
        "#calcula cupones de bonos\n",
        "for (j in (1:m))\n",
        "{\n",
        "  tfcupondev[j]=(prod(1+tf_int[(1:ddv[j])]/360)-1)*360/ddv[j]\n",
        "  tfcupon[j]=((1+tfcupondev[j]*ddv[j]/360)*(1+tf_act/360)^(plazocupon_bdm[1]-ddv[j])-1)*360/plazocupon_bdm[1]\n",
        "}\n",
        "\n",
        "\n",
        "for (j in (1:m))\n",
        "{\n",
        "  if (j==1)\n",
        "  {\n",
        "    VTplazos_bdm[,1:sum(N_bd[1:j])]=seq(plazini_bd[j],plazos_bdm[j], by=plazocupon_bdm[j])\n",
        "    contratos_bdmT[,1:sum(N_bd[1:j])]=seq(contratos_bdm[j],contratos_bdm[j])\n",
        "    plazocupon_bdmT[,1:sum(N_bd[1:j])]=seq(plazocupon_bdm[j],plazocupon_bdm[j])\n",
        "    ulNomT_bd[,sum(N_bd[1:j])]=contratos_bdm[j]\n",
        "    tasafijaT_bd[,1]=tfcupon[j]\n",
        "    tasafijaT_bd[,2:sum(N_bd[1:j])]=seq(tfcupgen,tfcupgen)\n",
        "  }\n",
        "  else\n",
        "  {\n",
        "    VTplazos_bdm[,(sum(N_bd[1:j-1])+1):sum(N_bd[1:j])]=seq(plazini_bd[j],plazos_bdm[j], by=plazocupon_bdm[j])\n",
        "    contratos_bdmT[,(sum(N_bd[1:j-1])+1):sum(N_bd[1:j])]=seq(contratos_bdm[j],contratos_bdm[j])\t\t\t\t\t\n",
        "    plazocupon_bdmT[,(sum(N_bd[1:j-1])+1):sum(N_bd[1:j])]=seq(plazocupon_bdm[j],plazocupon_bdm[j])\n",
        "    tasafijaT_bd[,(sum(N_bd[1:j-1])+1)]=tfcupon[j]\n",
        "    tasafijaT_bd[,(sum(N_bd[1:j-1])+2):sum(N_bd[1:j])]=seq(tfcupgen,tfcupgen)\n",
        "    ulNomT_bd[,sum(N_bd[1:j])]=contratos_bdm[j]\n",
        "  }\n",
        "}\n",
        "\n",
        "Xvp_bd=matrix(0,n,ncol(VTplazos_bdm))\n",
        "Xst_bd=matrix(0,n,ncol(VTplazos_bdm))\n",
        "\n",
        "for (i in (1:n))\n",
        "{\n",
        "  Xvp_bd[i,]=if(itpl==0){approx(nodos_gov,x_orig_gov[i,],VTplazos_bdm,rule=2)$y}else{talamb(nodos_gov,x_orig_gov[i,],VTplazos_bdm)}\n",
        "  Xst_bd[i,]=if(itpl==0){approx(nodos3_bd,X3_orig_bd[i,],VTplazos_bdm,rule=2)$y}else{talamb(nodos3_bd,X3_orig_bd[i,],VTplazos_bdm)}\n",
        "  \n",
        "}\n",
        "\n",
        "\n",
        "bondeD=function(contratos_bdmT,  nominal_bdm, tf_act, plazocupon_bdmT, VTplazos_bdm, Xvp, Xst, N,ddv)\n",
        "{\n",
        "  tfcupon=matrix(0,1,m)  #El primero cupón de cada bono\n",
        "  tfcupondev=matrix(0,1,m) #cupón de los días devengados\n",
        "  tfcupgen=((1+tf_act/360)^(plazocupon_bdm[1])-1)*360/plazocupon_bdm[1] #el segundo al último cupón de todos los bonos\n",
        "  tasafijaT=matrix(0,1,sum(N))\n",
        "  #calcula cupones de bonos\n",
        "  for (j in (1:m))\n",
        "  {\n",
        "    tfcupondev[j]=(prod(1+tf_int[(1:ddv[j])]/360)-1)*360/ddv[j]\n",
        "    tfcupon[j]=((1+tfcupondev[j]*ddv[j]/360)*(1+tf_act/360)^(plazocupon_bdm[1]-ddv[j])-1)*360/plazocupon_bdm[1]\n",
        "  }\n",
        "  \n",
        "  \n",
        "  for (j in (1:m))\n",
        "  {\n",
        "    if (j==1)\n",
        "    {\n",
        "      tasafijaT[,1]=tfcupon[j]\n",
        "      tasafijaT[,2:sum(N[1:j])]=seq(tfcupgen,tfcupgen)\n",
        "    }\n",
        "    else\n",
        "    {\n",
        "      tasafijaT[,(sum(N[1:j-1])+1)]=tfcupon[j]\n",
        "      tasafijaT[,(sum(N[1:j-1])+2):sum(N[1:j])]=seq(tfcupgen,tfcupgen)\n",
        "    }\n",
        "  }\n",
        "  \n",
        "  \n",
        "  V0=matrix(0,1,count(N))\n",
        "  V0f=((((contratos_bdmT*(tasafijaT)*(plazocupon_bdmT/360))+ulNomT_bd)/(1+(Xvp+Xst)*VTplazos_bdm/360)))*nominal_bdm\n",
        "  for (j in (1:count(N)))\n",
        "  {\n",
        "    if(j==1)\n",
        "    {\n",
        "      V0[j]=sum(V0f[j:N[j]])\n",
        "    }\n",
        "    else\n",
        "    {\n",
        "      V0[j]=sum(V0f[(sum(N[1:j-1])+1):(sum(N[1:j]))])\n",
        "    }\n",
        "  }\n",
        "  V0\n",
        "} \n",
        "\n",
        "\n",
        "V0_bdm=bondeD(contratos_bdmT, nominal_bdm, tf_act, plazocupon_bdmT, VTplazos_bdm, Xvp_bd[1,], Xst_bd[1,], N_bd,ddv)\n",
        "\n",
        "\n",
        "\n",
        "d_bondeD_t=function(contratos_bdmT,  nominal_bdm, tf_act, plazocupon_bdmT, VTplazos_bdm, Xvp, Xst, N,ddv)\n",
        "{\n",
        "  tasafijaT=matrix(0,1,sum(N))\n",
        "  tfcupon=matrix(0,1,m)  #El primero cupón de cada bono\n",
        "  tfcupondev=matrix(0,1,m) #cupón de los días devengados\n",
        "  tfcupgen=((1+tf_act/360)^(plazocupon_bdm[1])-1)*360/plazocupon_bdm[1] #el segundo al último cupón de todos los bonos\n",
        "  #calcula cupones de bonos\n",
        "  for (j in (1:m))\n",
        "  {\n",
        "    tfcupondev[j]=(prod(1+tf_int[(1:ddv[j])]/360)-1)*360/ddv[j]\n",
        "    tfcupon[j]=((1+tfcupondev[j]*ddv[j]/360)*(1+tf_act/360)^(plazocupon_bdm[1]-ddv[j])-1)*360/plazocupon_bdm[1]\n",
        "  }\n",
        "  \n",
        "  \n",
        "  for (j in (1:m))\n",
        "  {\n",
        "    if (j==1)\n",
        "    {\n",
        "      tasafijaT[,1]=tfcupon[j]\n",
        "      tasafijaT[,2:sum(N[1:j])]=seq(tfcupgen,tfcupgen)\n",
        "    }\n",
        "    else\n",
        "    {\n",
        "      tasafijaT[,(sum(N[1:j-1])+1)]=tfcupon[j]\n",
        "      tasafijaT[,(sum(N[1:j-1])+2):sum(N[1:j])]=seq(tfcupgen,tfcupgen)\n",
        "    }\n",
        "  }\n",
        "  \n",
        "  \n",
        "  V0=matrix(0,1,count(N))\n",
        "  V0f=-((((contratos_bdmT*(tasafijaT)*(plazocupon_bdmT/360))+ulNomT_bd)/(1+(Xvp+Xst)*VTplazos_bdm/360)^2))*nominal_bdm*((Xvp+Xst)/360)\n",
        "  for (j in (1:count(N)))\n",
        "  {\n",
        "    if(j==1)\n",
        "    {\n",
        "      V0[j]=sum(V0f[j:N[j]])\n",
        "    }\n",
        "    else\n",
        "    {\n",
        "      V0[j]=sum(V0f[(sum(N[1:j-1])+1):(sum(N[1:j]))])\n",
        "    }\n",
        "  }\n",
        "  V0\n",
        "} \n",
        "\n",
        "\n",
        "#la derivada con respecto al valor presente y a la sobretasa es igual\n",
        "d_bondeD_x=function(contratos_bdmT,  nominal_bdm, tf_act, plazocupon_bdmT, VTplazos_bdm, Xvp, Xst, N,ddv)\n",
        "{\n",
        "  tasafijaT=matrix(0,1,sum(N))\n",
        "  tfcupon=matrix(0,1,m)  #El primero cupón de cada bono\n",
        "  tfcupondev=matrix(0,1,m) #cupón de los días devengados\n",
        "  tfcupgen=((1+tf_act/360)^(plazocupon_bdm[1])-1)*360/plazocupon_bdm[1] #el segundo al último cupón de todos los bonos\n",
        "  #calcula cupones de bonos\n",
        "  for (j in (1:m))\n",
        "  {\n",
        "    tfcupondev[j]=(prod(1+tf_int[(1:ddv[j])]/360)-1)*360/ddv[j]\n",
        "    tfcupon[j]=((1+tfcupondev[j]*ddv[j]/360)*(1+tf_act/360)^(plazocupon_bdm[1]-ddv[j])-1)*360/plazocupon_bdm[1]\n",
        "  }\n",
        "  \n",
        "  \n",
        "  for (j in (1:m))\n",
        "  {\n",
        "    if (j==1)\n",
        "    {\n",
        "      tasafijaT[,1]=tfcupon[j]\n",
        "      tasafijaT[,2:sum(N[1:j])]=seq(tfcupgen,tfcupgen)\n",
        "    }\n",
        "    else\n",
        "    {\n",
        "      tasafijaT[,(sum(N[1:j-1])+1)]=tfcupon[j]\n",
        "      tasafijaT[,(sum(N[1:j-1])+2):sum(N[1:j])]=seq(tfcupgen,tfcupgen)\n",
        "    }\n",
        "  }\n",
        "  V0f=-((((contratos_bdmT*(tasafijaT)*(plazocupon_bdmT/360))+ulNomT_bd)/(1+(Xvp+Xst)*VTplazos_bdm/360)^2))*nominal_bdm*((VTplazos_bdm)/360)\n",
        "  V0f\n",
        "} \n",
        "\n",
        "\n",
        "d_bondeD_tc=function(contratos_bdmT,  nominal_bdm, tf_act, plazocupon_bdmT, VTplazos_bdm, Xvp, Xst, N,ddv)\n",
        "{\n",
        "  tasafijaT=matrix(0,1,sum(N))\n",
        "  tfcupon=matrix(0,1,m)  #El primero cupón de cada bono\n",
        "  tfcupondev=matrix(0,1,m) #cupón de los días devengados\n",
        "  tfcupgen=((1+tf_act/360)^(plazocupon_bdm[1])-1)*360/plazocupon_bdm[1] #el segundo al último cupón de todos los bonos\n",
        "  #calcula cupones de bonos\n",
        "  for (j in (1:m))\n",
        "  {\n",
        "    tfcupondev[j]=(prod(1+tf_int[(1:ddv[j])]/360)-1)*360/ddv[j]\n",
        "    tfcupon[j]=((1+tfcupondev[j]*ddv[j]/360)*(1+tf_act/360)^(plazocupon_bdm[1]-ddv[j])-1)*360/plazocupon_bdm[1]\n",
        "  }\n",
        "  \n",
        "  \n",
        "  for (j in (1:m))\n",
        "  {\n",
        "    if (j==1)\n",
        "    {\n",
        "      tasafijaT[,1]=tfcupon[j]\n",
        "      tasafijaT[,2:sum(N[1:j])]=seq(tfcupgen,tfcupgen)\n",
        "    }\n",
        "    else\n",
        "    {\n",
        "      tasafijaT[,(sum(N[1:j-1])+1)]=tfcupon[j]\n",
        "      tasafijaT[,(sum(N[1:j-1])+2):sum(N[1:j])]=seq(tfcupgen,tfcupgen)\n",
        "    }\n",
        "  }\n",
        "  \n",
        "  V0f=-((((contratos_bdmT*(plazocupon_bdmT/360)))/(1+(Xvp+Xst)*VTplazos_bdm/360)))*nominal_bdm\n",
        "  V0f\n",
        "}\n",
        "\n",
        "\n",
        "\n",
        "mgamma_bondeD=function(contratos_bdmT,  nominal_bdm, tf_act, plazocupon_bdmT, VTplazos_bdm, Xvp, Xst, N,ddv)\t#matriz de segundas derivadas parciales de la tasa valor presente y pago de flujos\n",
        "{\n",
        "  tasafijaT=matrix(0,1,sum(N))\n",
        "  tfcupon=matrix(0,1,m)  #El primero cupón de cada bono\n",
        "  tfcupondev=matrix(0,1,m) #cupón de los días devengados\n",
        "  tfcupgen=((1+tf_act/360)^(plazocupon_bdm[1])-1)*360/plazocupon_bdm[1] #el segundo al último cupón de todos los bonos\n",
        "  #calcula cupones de bonos\n",
        "  for (j in (1:m))\n",
        "  {\n",
        "    tfcupondev[j]=(prod(1+tf_int[(1:ddv[j])]/360)-1)*360/ddv[j]\n",
        "    tfcupon[j]=((1+tfcupondev[j]*ddv[j]/360)*(1+tf_act/360)^(plazocupon_bdm[1]-ddv[j])-1)*360/plazocupon_bdm[1]\n",
        "  }\n",
        "  \n",
        "  \n",
        "  for (j in (1:m))\n",
        "  {\n",
        "    if (j==1)\n",
        "    {\n",
        "      tasafijaT[,1]=tfcupon[j]\n",
        "      tasafijaT[,2:sum(N[1:j])]=seq(tfcupgen,tfcupgen)\n",
        "    }\n",
        "    else\n",
        "    {\n",
        "      tasafijaT[,(sum(N[1:j-1])+1)]=tfcupon[j]\n",
        "      tasafijaT[,(sum(N[1:j-1])+2):sum(N[1:j])]=seq(tfcupgen,tfcupgen)\n",
        "    }\n",
        "  }\n",
        "\n",
        "  c11=matrix(0,1,length(contratos_bdmT)) #segunda derivada del cupón\n",
        "  c12=-((((contratos_bdmT*(plazocupon_bdmT/360)))/(1+(Xvp+Xst)*VTplazos_bdm/360)^2))*nominal_bdm*((VTplazos_bdm)/360) #primera del cupón y primera del vp\n",
        "  c13=c12 #primera del cupón y primera del st\n",
        "  c21=-((((contratos_bdmT*(plazocupon_bdmT/360)))/(1+(Xvp+Xst)*VTplazos_bdm/360)^2))*nominal_bdm*((VTplazos_bdm)/360) #primera del vp y primera del cupon\n",
        "  c22=2*((((contratos_bdmT*(tasafijaT)*(plazocupon_bdmT/360))+ulNomT_bd)/(1+(Xvp+Xst)*VTplazos_bdm/360)^3))*nominal_bdm*((VTplazos_bdm)/360)^2 #segunda del vp\n",
        "  c23=c22 #primera del vp y primera del st\n",
        "  c31=c12 #primera del st y primera del cupon\n",
        "  c32=c22 #primera del vp y primera del st\n",
        "  c33=c22 #segunda del st\n",
        "  rbind(cbind(diagv(c11),diagv(c12), diagv(c13)),cbind(diagv(c21),diagv(c22), diagv(c23)),cbind(diagv(c31),diagv(c32), diagv(c33)))\n",
        "}\n",
        "\n",
        "\n",
        "#mgamma_bondeD(contratos_bdmT, nominal_bdm, tf_act, plazocupon_bdmT, VTplazos_bdm, Xvp_bd[1,], Xst_bd[1,], N_bd,ddv)\n",
        "\n",
        "X_bd_tc=matrix(1,n,ncol(contratos_bdmT))*X2_pr$V2/100\n",
        "X_bd_ext=cbind(X_bd_tc,as.matrix(Xvp_bd),as.matrix(Xst_bd))\n",
        "\n",
        "mu_bd=d_bondeD_t(contratos_bdmT, nominal_bdm, tf_act, plazocupon_bdmT, VTplazos_bdm, Xvp_bd[1,], Xst_bd[1,], N_bd,ddv)\n",
        "g_bd=cbind(d_bondeD_tc(contratos_bdmT, nominal_bdm, tf_act, plazocupon_bdmT, VTplazos_bdm, Xvp_bd[1,], Xst_bd[1,], N_bd,ddv),d_bondeD_x(contratos_bdmT, nominal_bdm, tf_act, plazocupon_bdmT, VTplazos_bdm, Xvp_bd[1,], Xst_bd[1,], N_bd,ddv),d_bondeD_x(contratos_bdmT, nominal_bdm, tf_act, plazocupon_bdmT, VTplazos_bdm, Xvp_bd[1,], Xst_bd[1,], N_bd,ddv))\n",
        "x0_bd_ext=cbind(matrix(tf_act,1,ncol(contratos_bdmT)),t(as.matrix(Xvp_bd[1,])),t(as.matrix(Xst_bd[1,])))\n",
        "g_bdt=g_bd*x0_bd_ext\n",
        "gamma_bd=mgamma_bondeD(contratos_bdmT, nominal_bdm, tf_act, plazocupon_bdmT, VTplazos_bdm, Xvp_bd[1,], Xst_bd[1,], N_bd,ddv)\n",
        "gamma_bdt2=gamma_bd*(t(x0_bd_ext)%*%x0_bd_ext)\n"
      ],
      "execution_count": 30,
      "outputs": []
    },
    {
      "cell_type": "markdown",
      "metadata": {
        "id": "PR0cZu2twI45"
      },
      "source": [
        "### Swaps"
      ]
    },
    {
      "cell_type": "code",
      "metadata": {
        "id": "GqlWiqvxwIRR"
      },
      "source": [
        "%%R\n",
        "##SWAP TASA FIJA VS TASA VARIABLE CÁLCULO\n",
        "\n",
        "##Interpolamos\n",
        "\n",
        "nodosvp=nodos1_sw\n",
        "nodostc=nodos2_sw\n",
        "curvavp=as.matrix(X1_orig_sw)\n",
        "curvatc=X2_orig_sw\n",
        "n1=nrow(curvavp)\n",
        "n2=nrow(curvatc)\n",
        "\n",
        "\n",
        "m=max(ncol(plazos_sw),1) #número de contratos_sw swap a valorar\n",
        "N=matrix(0,1,m) #es un vector de m valores donde se cargarán los m número de cupones a pagar para cada contrato\n",
        "for (j in (1:m))\n",
        "{\n",
        "  N[j]=as.integer(plazos_sw[j]/plazocupon_sw[j])+1 #número de cupones a pagar\n",
        "}\n",
        "VTplazos_sw=matrix(0,1,sum(N)) #vector de todos los plazos_sw de todos los contratos_sw\n",
        "contratos_swT=matrix(0,1,sum(N)) #vector de todos los contratos_sw de todos los flujos de todos los contratos_sw\n",
        "nominal_swT=matrix(0,1,sum(N)) #vector de todos los nominal_swes de todos los flujos de todos los contratos_sw\n",
        "por_swT=matrix(0,1,sum(N)) #vector de todos los dummy si paga o recibe de todos los flujos de todos los contratos_sw\n",
        "plazocupon_swT=matrix(0,1,sum(N)) #vector de todos los plazos_swcupon de todos los flujos de todos los contratos_sw\n",
        "tasafija_swT=matrix(0,1,sum(N)) #vector de tasas fijas de todos los flujos de todos los contratos_sw\n",
        "VTplazos_swc=matrix(0,1,sum(N)) #vector de todos los plazos_sw cortos de todos los contratos_sw\n",
        "\n",
        "\n",
        "plazini=plazos_sw-plazocupon_sw*(N-1) #vector de plazos_sw iniciales\n",
        "\n",
        "for (j in (1:m))\n",
        "{\n",
        "  if (j==1)\n",
        "  {\n",
        "    VTplazos_sw[,1:sum(N[1:j])]=seq(plazini[j],plazos_sw[j], by=plazocupon_sw[j])\n",
        "    VTplazos_swc[,1:sum(N[1:j])]=c(0,VTplazos_sw[,1:(sum(N[1:j])-1)])\n",
        "    contratos_swT[,1:sum(N[1:j])]=seq(contratos_sw[j],contratos_sw[j])\n",
        "    nominal_swT[,1:sum(N[1:j])]=seq(nominal_sw[j],nominal_sw[j])\n",
        "    por_swT[,1:sum(N[1:j])]=seq(por_sw[j],por_sw[j])\n",
        "    plazocupon_swT[,1:sum(N[1:j])]=seq(plazocupon_sw[j],plazocupon_sw[j])\n",
        "    tasafija_swT[,1:sum(N[1:j])]=seq(tasafija_sw[j],tasafija_sw[j])\n",
        "  }\n",
        "  else\n",
        "  {\n",
        "    VTplazos_sw[,(sum(N[1:j-1])+1):sum(N[1:j])]=seq(plazini[j],plazos_sw[j], by=plazocupon_sw[j])\n",
        "    VTplazos_swc[,(sum(N[1:j-1])+1):sum(N[1:j])]=c(0,VTplazos_sw[,(sum(N[1:j-1])+1):(sum(N[1:j])-1)])\n",
        "    contratos_swT[,(sum(N[1:j-1])+1):sum(N[1:j])]=seq(contratos_sw[j],contratos_sw[j])\t\t\t\t\t\n",
        "    nominal_swT[,(sum(N[1:j-1])+1):sum(N[1:j])]=seq(nominal_sw[j],nominal_sw[j])\n",
        "    por_swT[,(sum(N[1:j-1])+1):sum(N[1:j])]=seq(por_sw[j],por_sw[j])\n",
        "    plazocupon_swT[,(sum(N[1:j-1])+1):sum(N[1:j])]=seq(plazocupon_sw[j],plazocupon_sw[j])\n",
        "    tasafija_swT[,(sum(N[1:j-1])+1):sum(N[1:j])]=seq(tasafija_sw[j],tasafija_sw[j])\n",
        "  }\n",
        "}\n",
        "\n",
        "\n",
        "Xvp=matrix(0,n,ncol(VTplazos_sw))\n",
        "Xtc=matrix(0,n,ncol(VTplazos_sw))\n",
        "Xtcc=matrix(0,n,ncol(VTplazos_sw))\n",
        "XtfwdT=matrix(0,n,ncol(VTplazos_sw))\n",
        "\n",
        "for (i in (1:n))\n",
        "{\n",
        "  Xvp[i,]=if(itpl==0){approx(nodosvp,curvavp[i,],VTplazos_sw,rule=2)$y}else{talamb(nodosvp,curvavp[i,],VTplazos_sw)}\n",
        "  Xtc[i,]=if(itpl==0){approx(nodostc,curvatc[i,],VTplazos_sw,rule=2)$y}else{talamb(nodostc,curvatc[i,],VTplazos_sw)}\n",
        "  Xtcc[i,]=if(itpl==0){approx(nodostc,curvatc[i,],VTplazos_swc, rule=2)$y}else{talamb(nodostc,curvatc[i,],VTplazos_swc)}\n",
        "  \n",
        "  XtfwdT[i,]=((1+Xtc[i,]*VTplazos_sw/360)/(1+Xtcc[i,]*VTplazos_swc/360)-1)*360/plazocupon_swT \n",
        "  for (j in (1:ncol(VTplazos_sw)))\n",
        "  {\n",
        "    if (VTplazos_sw[j]<= plazocupon_swT[j])\n",
        "    {\n",
        "      XtfwdT[i,j]=Xtc[i,j]\n",
        "    }\n",
        "    else\n",
        "    {\n",
        "      j=sum(N[1:j])\n",
        "    }\n",
        "  }\n",
        "}\n",
        "\n",
        "\n",
        "swap=function(por_swT, contratos_swT, nominal_swT, XtfwdT, tasafija_swT, plazocupon_swT, VTplazos_sw, Xvp, N)\n",
        "{\n",
        "  V0=matrix(0,1,ncol(N))\n",
        "  V0f=(((contratos_swT*(XtfwdT-tasafija_swT)*(plazocupon_swT/360)))/(1+Xvp*VTplazos_sw/360))*nominal_swT*(-1)^por_swT\n",
        "  for (j in (1:ncol(N)))\n",
        "  {\n",
        "    if(j==1)\n",
        "    {\n",
        "      V0[j]=sum(V0f[j:N[j]])\n",
        "    }\n",
        "    else\n",
        "    {\n",
        "      V0[j]=sum(V0f[(sum(N[1:j-1])+1):(sum(N[1:j]))])\n",
        "    }\n",
        "  }\n",
        "  V0\n",
        "}\n",
        "\n",
        "V0_sw=swap(por_swT, contratos_swT, nominal_swT, XtfwdT[1,], tasafija_swT, plazocupon_swT, VTplazos_sw, Xvp[1,], N)\n",
        "\n",
        "\n",
        "#derivada del swap con respecto aL tiempo\n",
        "dswap_dtt=function(por_swT, contratos_swT, nominal_swT, XtfwdT, tasafija_swT, plazocupon_swT, VTplazos_sw, Xvp)\n",
        "{\n",
        "  -1*(((contratos_swT*(XtfwdT-tasafija_swT)*(plazocupon_swT*Xvp/360^2)))/(1+Xvp*VTplazos_sw/360)^(2))*nominal_swT*(-1)^por_swT\n",
        "}\n",
        "\n",
        "#derivada del swap con respecto a la tasa cupón variable\n",
        "dswap_dtc=function(por_swT, contratos_swT, nominal_swT, XtfwdT, tasafija_swT, plazocupon_swT, VTplazos_sw, Xvp)\n",
        "{\n",
        "  (((contratos_swT*plazocupon_swT)/360)/(1+Xvp*VTplazos_sw/360))*nominal_swT*(-1)^por_swT\n",
        "}\n",
        "\n",
        "#derivada del swap con respecto al valor presente\n",
        "dswap_dvp=function(por_swT, contratos_swT, nominal_swT, XtfwdT, tasafija_swT, plazocupon_swT, VTplazos_sw, Xvp)\n",
        "{\n",
        "  -1*(((contratos_swT*(XtfwdT-tasafija_swT)*(plazocupon_swT*VTplazos_sw/360^2)))/(1+Xvp*VTplazos_sw/360)^(2))*nominal_swT*(-1)^por_swT\n",
        "}\n",
        "\n",
        "mgamma_swap=function(por_swT, contratos_swT, nominal_swT, XtfwdT, tasafija_swT, plazocupon_swT, VTplazos_sw, Xvp)\t#matriz de segundas derivadas parciales de la tasa valor presente y pago de flujos\n",
        "{\n",
        "  c11=matrix(0,1,ncol(contratos_swT))\n",
        "  c21=-1*(((contratos_swT*(plazocupon_swT*VTplazos_sw/360^2)))/(1+Xvp*VTplazos_sw/360)^(2))*nominal_swT*(-1)^por_swT\n",
        "  c12=-1*(((contratos_swT*plazocupon_swT*VTplazos_sw)/360^2)/(1+Xvp*VTplazos_sw/360)^2)*nominal_swT*(-1)^por_swT\n",
        "  c22=2*(((contratos_swT*(XtfwdT-tasafija_swT)*(plazocupon_swT*VTplazos_sw^2/360^3)))/(1+Xvp*VTplazos_sw/360)^(3))*nominal_swT*(-1)^por_swT\n",
        "  rbind(cbind(diagv(c11),diagv(c12)),cbind(diagv(c21),diagv(c22)))\n",
        "}\n",
        "\n",
        "X_sw=cbind( XtfwdT,Xvp)\n",
        "\n",
        "mu_sw=sum(dswap_dtt(por_swT, contratos_swT, nominal_swT, XtfwdT[1,], tasafija_swT, plazocupon_swT, VTplazos_sw, Xvp[1,]))\n",
        "g_sw=cbind(dswap_dtc(por_swT, contratos_swT, nominal_swT, XtfwdT[1,], tasafija_swT, plazocupon_swT, VTplazos_sw, Xvp[1,]),dswap_dvp(por_swT, contratos_swT, nominal_swT, XtfwdT[1,], tasafija_swT, plazocupon_swT, VTplazos_sw, Xvp[1,]))\n",
        "\n",
        "#Multiplicación de la derivada por el punto x0\n",
        "gt_sw=c( XtfwdT[1,],Xvp[1,])*g_sw\n",
        "\n",
        "gamma_sw=mgamma_swap(por_swT, contratos_swT, nominal_swT, XtfwdT[1,], tasafija_swT, plazocupon_swT, VTplazos_sw, Xvp[1,])\n",
        "tgamma_sw=c( XtfwdT[1,],Xvp[1,])%*%t(c( XtfwdT[1,],Xvp[1,]))*gamma_sw "
      ],
      "execution_count": 31,
      "outputs": []
    },
    {
      "cell_type": "markdown",
      "metadata": {
        "id": "KpIAfrrZ04Zb"
      },
      "source": [
        "## Medicion de riesgo, Delta Gama"
      ]
    },
    {
      "cell_type": "markdown",
      "metadata": {
        "id": "WAjO190tDRdZ"
      },
      "source": [
        "#### Acciones y divisas"
      ]
    },
    {
      "cell_type": "markdown",
      "metadata": {
        "id": "YWtvQhgoAxkp"
      },
      "source": [
        "##### Por factor de riesgo"
      ]
    },
    {
      "cell_type": "code",
      "metadata": {
        "id": "rzOWKThlDU2J",
        "colab": {
          "base_uri": "https://localhost:8080/"
        },
        "outputId": "15f8ed3d-6741-48bd-987a-d11d6c6b9fe6"
      },
      "source": [
        "%%R\n",
        "#Marginalizacion por factor de riesgo- accion/divisa\n",
        "Delta_acc = DeltaX_acc_div[,c(4,5,6)]\n",
        "Delta_div = DeltaX_acc_div[,c(1,2,3)]\n",
        "\n",
        "mu_acc = 0\n",
        "mu_div = 0\n",
        "\n",
        "desvest_acc = apply(Delta_acc, 2, sd)\n",
        "desvest_div = apply(Delta_div, 2, sd)\n",
        "\n",
        "g_acct = g_acc_divt[,c(4,5,6)]\n",
        "g_divt = g_acc_divt[,c(1,2,3)]\n",
        "\n",
        "VarCovX_acc = cov(Delta_acc)\n",
        "VarCovX_div = cov(Delta_div)\n",
        "\n",
        "ajuste_cornish_acc_div = qnorm(alpha)\n",
        "\n",
        "VaRfrDGN_acc = qnorm(1-alpha)*sqrt(g_acct*g_acct*desvest_acc*desvest_acc)\n",
        "VaRfrDGN_div = qnorm(1-alpha)*sqrt(g_divt*g_divt*desvest_div*desvest_div)\n",
        "\n",
        "CVaRfrDGN_acc = (dnorm(qnorm(1-alpha))/(1-alpha))*sqrt(g_acct*g_acct*desvest_acc*desvest_acc)*-1\n",
        "CVaRfrDGN_div = (dnorm(qnorm(1-alpha))/(1-alpha))*sqrt(g_divt*g_divt*desvest_div*desvest_div)*-1\n",
        "\n",
        "VaRfrCF_acc = ajuste_cornish_acc_div*sqrt(g_acct*g_acct*desvest_acc*desvest_acc)*-1\n",
        "VaRfrCF_div = ajuste_cornish_acc_div*sqrt(g_divt*g_divt*desvest_div*desvest_div)*-1\n",
        "\n",
        "CVaRfrCF_acc = (dnorm(qnorm(alpha))/(1-alpha))*sqrt(g_acct*g_acct*desvest_acc*desvest_acc)*-1\n",
        "CVaRfrCF_div = (dnorm(qnorm(alpha))/(1-alpha))*sqrt(g_divt*g_divt*desvest_div*desvest_div)*-1\n",
        "\n",
        "print('VaR por factor de riesgo DGN acciones')\n",
        "print(VaRfrDGN_acc)\n",
        "print('CVaR por factor de riesgo DGN acciones')\n",
        "print(CVaRfrDGN_acc)\n",
        "print('VaR por factor de riesgo DGN divisas')\n",
        "print(VaRfrDGN_div)\n",
        "print('CVaR por factor de riesgo DGN divisas')\n",
        "print(CVaRfrDGN_div)\n",
        "\n",
        "print('VaR por factor de riesgo CF acciones')\n",
        "print(VaRfrCF_acc)\n",
        "print('CVaR por factor de riesgo CF acciones')\n",
        "print(CVaRfrCF_acc)\n",
        "print('VaR por factor de riesgo CF divisas')\n",
        "print(VaRfrCF_div)\n",
        "print('CVaR por factor de riesgo CF divisas')\n",
        "print(CVaRfrCF_div)"
      ],
      "execution_count": 32,
      "outputs": [
        {
          "output_type": "stream",
          "name": "stdout",
          "text": [
            "[1] \"VaR por factor de riesgo DGN acciones\"\n",
            "     AMXL.MX GCARSOA1.MX WALMEX.MX\n",
            "1: -2532.208   -3530.197  -3122.84\n",
            "[1] \"CVaR por factor de riesgo DGN acciones\"\n",
            "    AMXL.MX GCARSOA1.MX WALMEX.MX\n",
            "1: 2984.903    4161.306  3681.124\n",
            "[1] \"VaR por factor de riesgo DGN divisas\"\n",
            "    EURUSD.X  GBPUSD.X USDMXN.X\n",
            "1: -197.8514 -199.0247 -429.912\n",
            "[1] \"CVaR por factor de riesgo DGN divisas\"\n",
            "   EURUSD.X GBPUSD.X USDMXN.X\n",
            "1: 233.2222 234.6053 506.7693\n",
            "[1] \"VaR por factor de riesgo CF acciones\"\n",
            "    AMXL.MX GCARSOA1.MX WALMEX.MX\n",
            "1: 2532.208    3530.197   3122.84\n",
            "[1] \"CVaR por factor de riesgo CF acciones\"\n",
            "    AMXL.MX GCARSOA1.MX WALMEX.MX\n",
            "1: 2984.903    4161.306  3681.124\n",
            "[1] \"VaR por factor de riesgo CF divisas\"\n",
            "   EURUSD.X GBPUSD.X USDMXN.X\n",
            "1: 197.8514 199.0247  429.912\n",
            "[1] \"CVaR por factor de riesgo CF divisas\"\n",
            "   EURUSD.X GBPUSD.X USDMXN.X\n",
            "1: 233.2222 234.6053 506.7693\n"
          ]
        }
      ]
    },
    {
      "cell_type": "markdown",
      "metadata": {
        "id": "Hr3Bl0PpA7co"
      },
      "source": [
        "##### Total"
      ]
    },
    {
      "cell_type": "code",
      "metadata": {
        "colab": {
          "base_uri": "https://localhost:8080/"
        },
        "id": "fzaVSL44A9rX",
        "outputId": "95d42e63-15dd-416b-9c96-e91a094d1b9d"
      },
      "source": [
        "%%R\n",
        "\n",
        "VaRTotalDGN_acc = sqrt(as.matrix(g_acct)%*%VarCovX_acc%*%t(as.matrix(g_acct)))*qnorm(1-alpha)\n",
        "VaRTotalDGN_div = sqrt(as.matrix(g_divt)%*%VarCovX_div%*%t(as.matrix(g_divt)))*qnorm(1-alpha)\n",
        "\n",
        "CVaRTotalDGN_acc = sqrt(as.matrix(g_acct)%*%VarCovX_acc%*%t(as.matrix(g_acct)))*dnorm(qnorm(1-alpha))/(1-alpha)*-1\n",
        "CVaRTotalDGN_div = sqrt(as.matrix(g_divt)%*%VarCovX_div%*%t(as.matrix(g_divt)))*dnorm(qnorm(1-alpha))/(1-alpha)*-1\n",
        "\n",
        "VaRTotalCF_acc = ajuste_cornish_acc_div*sqrt(as.matrix(g_acct)%*%VarCovX_acc%*%t(as.matrix(g_acct)))*-1\n",
        "VaRTotalCF_div = ajuste_cornish_acc_div*sqrt(as.matrix(g_divt)%*%VarCovX_div%*%t(as.matrix(g_divt)))*-1\n",
        "\n",
        "CVaRTotalCF_acc = (dnorm(qnorm(alpha))/(1-alpha))*sqrt(as.matrix(g_acct)%*%VarCovX_acc%*%t(as.matrix(g_acct)))*-1\n",
        "CVaRTotalCF_div = (dnorm(qnorm(alpha))/(1-alpha))*sqrt(as.matrix(g_divt)%*%VarCovX_div%*%t(as.matrix(g_divt)))*-1\n",
        "\n",
        "\n",
        "print('VaR total DGN acciones')\n",
        "print(VaRTotalDGN_acc)\n",
        "print('CVaR total DGN acciones')\n",
        "print(CVaRTotalDGN_acc)\n",
        "print('VaR total DGN divisas')\n",
        "print(VaRTotalDGN_div)\n",
        "print('CVaR total DGN divisas')\n",
        "print(CVaRTotalDGN_div)\n",
        "\n",
        "print('VaR total CF acciones')\n",
        "print(VaRTotalCF_acc)\n",
        "print('CVaR total CF acciones')\n",
        "print(CVaRTotalCF_acc)\n",
        "print('VaR total CF divisas')\n",
        "print(VaRTotalCF_div)\n",
        "print('CVaR total CF divisas')\n",
        "print(CVaRTotalCF_div)"
      ],
      "execution_count": 50,
      "outputs": [
        {
          "output_type": "stream",
          "name": "stdout",
          "text": [
            "[1] \"VaR total DGN acciones\"\n",
            "          [,1]\n",
            "[1,] -5207.821\n",
            "[1] \"CVaR total DGN acciones\"\n",
            "          [,1]\n",
            "[1,] -6138.847\n",
            "[1] \"VaR total DGN divisas\"\n",
            "          [,1]\n",
            "[1,] -468.3025\n",
            "[1] \"CVaR total DGN divisas\"\n",
            "          [,1]\n",
            "[1,] -552.0231\n",
            "[1] \"VaR total CF acciones\"\n",
            "          [,1]\n",
            "[1,] -5207.821\n",
            "[1] \"CVaR total CF acciones\"\n",
            "          [,1]\n",
            "[1,] -6138.847\n",
            "[1] \"VaR total CF divisas\"\n",
            "          [,1]\n",
            "[1,] -468.3025\n",
            "[1] \"CVaR total CF divisas\"\n",
            "          [,1]\n",
            "[1,] -552.0231\n"
          ]
        }
      ]
    },
    {
      "cell_type": "markdown",
      "metadata": {
        "id": "KMZzVWJmzy6X"
      },
      "source": [
        "###Cetes"
      ]
    },
    {
      "cell_type": "code",
      "metadata": {
        "id": "o5UZ0pq70Fey",
        "colab": {
          "base_uri": "https://localhost:8080/"
        },
        "outputId": "646b8b93-04a7-416e-8f72-4d1481c23535"
      },
      "source": [
        "%%R\n",
        "\n",
        "Delta_bcc = x_bcc[1:(n-1),1]/x_bcc[2:(n),1]-1\n",
        "\n",
        "desvest_bcc = sd(Delta_bcc)\n",
        "sigma_gamma_bcc = sqrt(0.5*(gamma_bcct2[1,1]*desvest_bcc^2)^2+g_bcct[1,1]*desvest_bcc^2*g_bcct[1,1])\n",
        "mu_3_bcc = (0.5*(gamma_bcct2[1,1]*desvest_bcc^2)^3+3*gamma_bcct2[1,1]*g_bcct[1,1]*desvest_bcc^2*g_bcct[1,1])/sigma_gamma_bcc^3\n",
        "ajuste_cornish_bcc = qnorm(1-alpha)+((qnorm(1-alpha)^2-1)/6)*mu_3_bcc\n",
        "aux_bcc = pnorm(-ajuste_cornish_bcc)\n",
        "\n",
        "#Calculamos el VaR y CVaR por Cornish Fisher\n",
        "VaRContCF_bcc = (mu_bcc[1,1] + sigma_gamma_bcc * ajuste_cornish_bcc) * -1\n",
        "print(VaRContCF_bcc)\n",
        "CVaRContCF_bcc = (mu_bcc[1,1] + (dnorm(-ajuste_cornish_bcc)/aux_bcc)*sigma_gamma_bcc)*-1\n",
        "print(CVaRContCF_bcc)\n",
        "\n",
        "#Calculamos el VaR y CVaR por Delta Gamma Normal\n",
        "VaRContDGM_bcc = (mu_bcc[1,1] + sigma_gamma_bcc * qnorm(1-alpha))\n",
        "print(VaRContDGM_bcc)\n",
        "CVaRContDGM_bcc = (mu_bcc[1,1] + (dnorm(qnorm(alpha))/(1-alpha))*sigma_gamma_bcc)*-1\n",
        "print(CVaRContDGM_bcc) "
      ],
      "execution_count": 33,
      "outputs": [
        {
          "output_type": "stream",
          "name": "stdout",
          "text": [
            "[1] -20.58134\n",
            "[1] -20.794\n",
            "[1] -6.487093\n",
            "[1] -3.399027\n"
          ]
        }
      ]
    },
    {
      "cell_type": "code",
      "metadata": {
        "colab": {
          "base_uri": "https://localhost:8080/"
        },
        "id": "9rSSfWfikVrZ",
        "outputId": "4f529cce-3c52-4a03-cace-d2f61b7cc139"
      },
      "source": [
        "%%R\n",
        "head(mu_bcc)"
      ],
      "execution_count": 34,
      "outputs": [
        {
          "output_type": "stream",
          "name": "stdout",
          "text": [
            "          [,1] [,2]\n",
            "[1,] -1.949625    0\n"
          ]
        }
      ]
    },
    {
      "cell_type": "markdown",
      "metadata": {
        "id": "1ulgKZP0zsie"
      },
      "source": [
        "### Bonos M\n",
        "Dado que en el problema se nos está dando una tasa fija, la cual tenemos desde el momento en el que adquirimos el bono M. No se tiene riesgo, dado que desde el inicio ya sabemos como es que va evolucionando en cada periodo de tiempo."
      ]
    },
    {
      "cell_type": "markdown",
      "metadata": {
        "id": "EPJiZS5SyZ-W"
      },
      "source": [
        "### Bondes D"
      ]
    },
    {
      "cell_type": "markdown",
      "metadata": {
        "id": "pDQFPCsTyl2E"
      },
      "source": [
        "#### Riesgo a nivel contrato y nivel contrato-factor de riesgo"
      ]
    },
    {
      "cell_type": "code",
      "metadata": {
        "id": "7JcYwI4xy5pC",
        "colab": {
          "base_uri": "https://localhost:8080/"
        },
        "outputId": "18fb3a32-07f7-4533-b31a-7687a4c5c4b8"
      },
      "source": [
        "%%R\n",
        "\n",
        "Delta_X_bd_ext=X_bd_ext[1:(n-1),]/X_bd_ext[2:(n),]-1\n",
        "\n",
        "##POR INSTRUMENTO\n",
        "\n",
        "#Para obtener el VaR por contrato\n",
        "VaRContDGM_bd=matrix(0,1,count(N_bd))\n",
        "CVaRContDGM_bd=matrix(0,1,count(N_bd))\n",
        "VaRContCF_bd=matrix(0,1,count(N_bd))\n",
        "CVaRContCF_bd=matrix(0,1,count(N_bd))\n",
        "#Para obtener el VaR por contrato por factor de riesgo\n",
        "VaRContDGM_bdf=matrix(0,3,count(N_bd))\n",
        "CVaRContDGM_bdf=matrix(0,3,count(N_bd))\n",
        "VaRContCF_bdf=matrix(0,3,count(N_bd))\n",
        "CVaRContCF_bdf=matrix(0,3,count(N_bd))\n",
        "\n",
        "#V0=swap(porT, contratosT, nominalT, XtfwdT[1,], tasafijaT, plazocuponT, VTplazos, Xvp[1,],N)\n",
        "\n",
        "\n",
        "#Valor de las derivadas evaluadas en el punto x0.\n",
        "V0f_dtc_bd=d_bondeD_tc(contratos_bdmT, nominal_bdm, tf_act, plazocupon_bdmT, VTplazos_bdm, Xvp_bd[1,], Xst_bd[1,], N_bd,ddv)\n",
        "V0f_dvp_bd=d_bondeD_x(contratos_bdmT, nominal_bdm, tf_act, plazocupon_bdmT, VTplazos_bdm, Xvp_bd[1,], Xst_bd[1,], N_bd,ddv)\n",
        "V0f_dst_bd=V0f_dvp_bd\n",
        "\n",
        "for (j in (1:count(N_bd)))\n",
        "{\n",
        "  if(j==1)\n",
        "  { \n",
        "    x0cont_bd=c(X_bd_tc[1,1:sum(N_bd[1:j])],Xvp_bd[1,1:sum(N_bd[1:j])],Xst_bd[1,1:sum(N_bd[1:j])])\n",
        "    #MATRIZ de factores de riesgo primera fila cupón, segunda valor presente, tercera sobretasa\n",
        "    x0cont_bdf=rbind(c(X_bd_tc[1,1:sum(N_bd[1:j])],Xvp_bd[1,1:sum(N_bd[1:j])]*0,Xst_bd[1,1:sum(N_bd[1:j])]*0),\n",
        "                     c(X_bd_tc[1,1:sum(N_bd[1:j])]*0,Xvp_bd[1,1:sum(N_bd[1:j])],Xst_bd[1,1:sum(N_bd[1:j])]*0),\n",
        "                     c(X_bd_tc[1,1:sum(N_bd[1:j])]*0,Xvp_bd[1,1:sum(N_bd[1:j])]*0,Xst_bd[1,1:sum(N_bd[1:j])]))\n",
        "    mucont_bd=sum(mu_bd[j])\n",
        "    gcont_bd=as.matrix(c(V0f_dtc_bd[1:sum(N_bd[1:j])],V0f_dvp_bd[1:sum(N_bd[1:j])],V0f_dst_bd[1:sum(N_bd[1:j])]))\n",
        "    gtcont_bd=t(as.matrix(gcont_bd*x0cont_bd))\n",
        "    VarCovXcont_bd=cov(cbind(X_bd_tc[,1:sum(N_bd[1:j])],Xvp_bd[,1:sum(N_bd[1:j])],Xst_bd[,1:sum(N_bd[1:j])]))*(n-1)/(n-2)\t\n",
        "    gamma_cont_bd=gamma_bd[1:(3*sum(N_bd[1:j])),1:(3*sum(N_bd[1:j]))]\n",
        "    tgamma_bd= x0cont_bd%*%t(x0cont_bd)*gamma_cont_bd #gamma tilde\n",
        "  }\n",
        "  else\n",
        "  {\n",
        "    x0cont_bd=c(X_bd_tc[1,sum(N_bd[1:j-1],1):sum(N_bd[1:j])],Xvp_bd[1,sum(N_bd[1:j-1],1):sum(N_bd[1:j])],Xst_bd[1,sum(N_bd[1:j-1],1):sum(N_bd[1:j])])\n",
        "    x0cont_bdf=rbind(c(X_bd_tc[1,sum(N_bd[1:j-1],1):sum(N_bd[1:j])],Xvp_bd[1,sum(N_bd[1:j-1],1):sum(N_bd[1:j])]*0,Xst_bd[1,sum(N_bd[1:j-1],1):sum(N_bd[1:j])]*0),\n",
        "                     c(X_bd_tc[1,sum(N_bd[1:j-1],1):sum(N_bd[1:j])]*0,Xvp_bd[1,sum(N_bd[1:j-1],1):sum(N_bd[1:j])],Xst_bd[1,sum(N_bd[1:j-1],1):sum(N_bd[1:j])]*0),\n",
        "                     c(X_bd_tc[1,sum(N_bd[1:j-1],1):sum(N_bd[1:j])]*0,Xvp_bd[1,sum(N_bd[1:j-1],1):sum(N_bd[1:j])]*0,Xst_bd[1,sum(N_bd[1:j-1],1):sum(N_bd[1:j])]))\n",
        "    mucont_bd=sum(mu_bd[j])\n",
        "    gcont_bd=as.matrix(c(V0f_dtc_bd[sum(N_bd[1:j-1],1):sum(N_bd[1:j])],V0f_dvp_bd[sum(N_bd[1:j-1],1):sum(N_bd[1:j])],V0f_dst_bd[sum(N_bd[1:j-1],1):sum(N_bd[1:j])]))\n",
        "    gtcont_bd=t(as.matrix(gcont_bd*x0cont_bd))\n",
        "    VarCovXcont_bd=cov(cbind(X_bd_tc[,sum(N_bd[1:j-1],1):sum(N_bd[1:j])],Xvp_bd[,sum(N_bd[1:j-1],1):sum(N_bd[1:j])],Xst_bd[,sum(N_bd[1:j-1],1):sum(N_bd[1:j])]))*(n-1)/(n-2)\n",
        "    gamma_cont_bd=gamma_bd[(3*sum(N_bd[1:j-1])+1):(3*sum(N_bd[1:j])),(3*sum(N_bd[1:j-1])+1):(3*sum(N_bd[1:j]))]\n",
        "    tgamma_bd= x0cont_bd%*%t(x0cont_bd)*gamma_cont_bd #gamma tilde\n",
        "  }\n",
        "  \n",
        "  \n",
        "  tgammavar_bd=(tgamma_bd%*%VarCovXcont_bd)\n",
        "  tgammavar2_bd=(tgamma_bd%*%VarCovXcont_bd)%*%(tgamma_bd%*%VarCovXcont_bd)\n",
        "  VaRContDGM_bd[j]=ifelse((sum(diag(tgammavar_bd))/2+mucont_bd)>0,0,(sum(diag(tgammavar_bd))/2+mucont_bd))+(sqrt(sum(diag(tgammavar2_bd))/2+gtcont_bd%*%VarCovXcont_bd%*%t(gtcont_bd)))*qnorm(1-alpha) #VaR Normal\n",
        "  CVaRContDGM_bd[j]=ifelse((sum(diag(tgammavar_bd))/2+mucont_bd)>0,0,(sum(diag(tgammavar_bd))/2+mucont_bd))-(sqrt(sum(diag(tgammavar_bd))/2+gtcont_bd%*%VarCovXcont_bd%*%t(gtcont_bd)))*dnorm(qnorm(alpha))/(1-alpha)\n",
        "  ###VaR Cornish Fisher\n",
        "  tgammavar3_bd=tgammavar2_bd%*%(tgamma_bd%*%VarCovXcont_bd)\n",
        "  asimPmargc_bd=sum(diag(tgammavar3_bd))+3*gtcont_bd%*%VarCovXcont_bd%*%tgamma_bd%*%VarCovXcont_bd%*%t(gtcont_bd) #gamma tercer momento\n",
        "  asimPmargc_bd=asimPmargc_bd/(sqrt(sum(diag(tgammavar2_bd))/2+gtcont_bd%*%VarCovXcont_bd%*%t(gtcont_bd)))^3  #coef de asimetría\n",
        "  VaRmargcstd_bd=qnorm(1-alpha)+((qnorm(1-alpha)^2-1)/6)*asimPmargc_bd  #VaR estandarizado\n",
        "  VaRContCF_bd[j]=ifelse((sum(diag(tgammavar_bd))/2+mucont_bd)>0,0,(sum(diag(tgammavar_bd))/2+mucont_bd))+(sqrt(sum(diag(tgammavar2_bd))/2+gtcont_bd%*%VarCovXcont_bd%*%t(gtcont_bd)))*VaRmargcstd_bd #VaR Normal\n",
        "  CVaRContCF_bd[j]=ifelse((sum(diag(tgammavar_bd))/2+mucont_bd)>0,0,(sum(diag(tgammavar_bd))/2+mucont_bd))-(sqrt(sum(diag(tgammavar2_bd))/2+gtcont_bd%*%VarCovXcont_bd%*%t(gtcont_bd)))*dnorm(VaRmargcstd_bd)/(pnorm(VaRmargcstd_bd))\n",
        "  for (k in (1:3))\n",
        "  {\n",
        "    gtcont_bd=t(as.matrix(gcont_bd*x0cont_bdf[k,]))\n",
        "    tgamma_bd= x0cont_bdf[k,]%*%t(x0cont_bdf[k,])*gamma_cont_bd #gamma tilde\n",
        "    tgammavar_bd=(tgamma_bd%*%VarCovXcont_bd)\n",
        "    tgammavar2_bd=(tgamma_bd%*%VarCovXcont_bd)%*%(tgamma_bd%*%VarCovXcont_bd)\n",
        "    VaRContDGM_bdf[k,j]=(sum(diag(tgammavar_bd))/2+mucont_bd)-(sqrt(sum(diag(tgammavar2_bd))/2+gtcont_bd%*%VarCovXcont_bd%*%t(gtcont_bd)))*qnorm(alpha) #VaR Normal\n",
        "    CVaRContDGM_bdf[k,j]=(sum(diag(tgammavar_bd))/2+mucont_bd)-(sqrt(sum(diag(tgammavar_bd))/2+gtcont_bd%*%VarCovXcont_bd%*%t(gtcont_bd)))*dnorm(qnorm(alpha))/(1-alpha)\n",
        "    ###VaR Cornish Fisher\n",
        "    tgammavar3_bd=tgammavar2_bd%*%(tgamma_bd%*%VarCovXcont_bd)\n",
        "    asimPmargc_bd=sum(diag(tgammavar3_bd))+3*gtcont_bd%*%VarCovXcont_bd%*%tgamma_bd%*%VarCovXcont_bd%*%t(gtcont_bd) #gamma tercer momento\n",
        "    asimPmargc_bd=asimPmargc_bd/(sqrt(sum(diag(tgammavar2_bd))/2+gtcont_bd%*%VarCovXcont_bd%*%t(gtcont_bd)))^3  #coef de asimetría\n",
        "    VaRmargcstd_bd=qnorm(1-alpha)+((qnorm(1-alpha)^2-1)/6)*asimPmargc_bd  #VaR estandarizado\n",
        "    VaRContCF_bdf[k,j]=(sqrt(sum(diag(tgammavar2_bd))/2+gtcont_bd%*%VarCovXcont_bd%*%t(gtcont_bd)))*VaRmargcstd_bd #VaR Normal\n",
        "    CVaRContCF_bdf[k,j]=-(sqrt(sum(diag(tgammavar2_bd))/2+gtcont_bd%*%VarCovXcont_bd%*%t(gtcont_bd)))*dnorm(VaRmargcstd_bd)/(pnorm(VaRmargcstd_bd))    \n",
        "  }\n",
        "  \n",
        "}\n",
        "VaRContDGM_bd  #VaR contrato Delta Gamma Normal \n",
        "CVaRContDGM_bd #CVaR contrato Delta Gamma Normal \n",
        "VaRContCF_bd #VaR contrato Delta Gamma CF \n",
        "CVaRContCF_bd #CVaR contrato Delta Gamma CF\n",
        "VaRContDGM_bdf #VaR contrato-factor de riesgo Delta Gamma Normal \n",
        "CVaRContDGM_bdf #CVaR contrato-factor de riesgo Delta Gamma Normal \n",
        "VaRContCF_bdf #VaR contrato-factor de riesgo Delta Gamma CF\n",
        "CVaRContCF_bdf #CVaR contrato-factor de riesgo Delta Gamma CF\n"
      ],
      "execution_count": 35,
      "outputs": [
        {
          "output_type": "stream",
          "name": "stdout",
          "text": [
            "          [,1]       [,2]\n",
            "[1,] -49.33993        NaN\n",
            "[2,] -86.38780 -0.0746687\n",
            "[3,] -11.26655        NaN\n"
          ]
        }
      ]
    },
    {
      "cell_type": "markdown",
      "metadata": {
        "id": "qxPS1Z1NzbU7"
      },
      "source": [
        "#### Riesgo a nivel total y total factor de riesgo"
      ]
    },
    {
      "cell_type": "code",
      "metadata": {
        "id": "62lw-H3izjH2",
        "colab": {
          "base_uri": "https://localhost:8080/"
        },
        "outputId": "4a4ef6f1-ab8f-4fe1-d518-0ab218679a56"
      },
      "source": [
        "%%R\n",
        "VarCovX_bd_ext=cov(Delta_X_bd_ext)*(n-1)/(n-2)\n",
        "tgammavar_bdt=(gamma_bdt2%*%VarCovX_bd_ext)\n",
        "tgammavar2_bdt=(gamma_bdt2%*%VarCovX_bd_ext)%*%(gamma_bdt2%*%VarCovX_bd_ext) \n",
        "VaRTotalDGM=ifelse((sum(diag(tgammavar_bdt))/2+sum(mu_bd))>0,0,(sum(diag(tgammavar_bdt))/2+sum(mu_bd)))+(sqrt(sum(diag(tgammavar2_bdt))/2+g_bdt%*%VarCovX_bd_ext%*%t(g_bdt)))*qnorm(1-alpha) #VaR Normal\n",
        "CVaRTotalDGM=ifelse((sum(diag(tgammavar_bdt))/2+sum(mu_bd))>0,0,(sum(diag(tgammavar_bdt))/2+sum(mu_bd)))-(sqrt(sum(diag(tgammavar2_bdt))/2+g_bdt%*%VarCovX_bd_ext%*%t(g_bdt)))*dnorm(qnorm(alpha))/(1-alpha)\n",
        "\n",
        "###VaR Cornish Fisher\n",
        "tgammavar3_bdt=tgammavar2_bdt%*%(gamma_bdt2%*%VarCovX_bd_ext) \n",
        "asimPmargc_bdt=sum(diag(tgammavar3_bdt))+3*g_bdt%*%VarCovX_bd_ext%*%gamma_bdt2%*%VarCovX_bd_ext%*%t(g_bdt) #gamma tercer momento\n",
        "asimPmargc_bdt=asimPmargc_bdt/(sqrt(sum(diag(tgammavar2_bdt))/2+g_bdt%*%VarCovX_bd_ext%*%t(g_bdt)))^3  #coef de asimetría\n",
        "VaRmargcstd_bdt=qnorm(1-alpha)+((qnorm(1-alpha)^2-1)/6)*asimPmargc_bdt  #VaR estandarizado\n",
        "VaRTotalCF=ifelse((sum(diag(tgammavar_bdt))/2+sum(mu_bd))>0,0,(sum(diag(tgammavar_bdt))/2+sum(mu_bd)))+(sqrt(sum(diag(tgammavar2_bdt))/2+g_bdt%*%VarCovX_bd_ext%*%t(g_bdt)))*VaRmargcstd_bdt #VaR Normal #VaR cf\n",
        "CVaRTotalCF=ifelse((sum(diag(tgammavar_bdt))/2+sum(mu_bd))>0,0,(sum(diag(tgammavar_bdt))/2+sum(mu_bd)))-(sqrt(sum(diag(tgammavar2_bdt))/2+g_bdt%*%VarCovX_bd_ext%*%t(g_bdt)))*dnorm(VaRmargcstd_bdt)/(pnorm(VaRmargcstd_bdt))\n",
        "\n",
        "#Por factor de riesgo\n",
        "VaRTotalDGMf=matrix(0,1,3)\n",
        "CVaRTotalDGMf=matrix(0,1,3)\n",
        "VaRTotalCFf=matrix(0,1,3)\n",
        "CVaRTotalCFf=matrix(0,1,3)\n",
        " #MATRIZ de factores de riesgo primera fila cupón, segunda valor presente, tercera sobretasa\n",
        "x0_bd_extf=rbind(cbind(matrix(tf_act,1,ncol(contratos_bdmT)),t(as.matrix(Xvp_bd[1,]))*0,t(as.matrix(Xst_bd[1,]))*0),\n",
        "                 cbind(matrix(tf_act,1,ncol(contratos_bdmT))*0,t(as.matrix(Xvp_bd[1,])),t(as.matrix(Xst_bd[1,]))*0),\n",
        "                 cbind(matrix(tf_act,1,ncol(contratos_bdmT))*0,t(as.matrix(Xvp_bd[1,]))*0,t(as.matrix(Xst_bd[1,]))))\n",
        "\n",
        "for (j in (1:3))\n",
        "{\n",
        "g_bdt=g_bd*x0_bd_extf[j,]\n",
        "gamma_bdt2=gamma_bd*((x0_bd_extf[j,])%*%t(x0_bd_extf[j,]))\n",
        "VarCovX_bd_ext=cov(Delta_X_bd_ext)*(n-1)/(n-2)\n",
        "tgammavar_bdt=(gamma_bdt2%*%VarCovX_bd_ext)\n",
        "tgammavar2_bdt=(gamma_bdt2%*%VarCovX_bd_ext)%*%(gamma_bdt2%*%VarCovX_bd_ext) \n",
        "VaRTotalDGMf[,j]=(sqrt(sum(diag(tgammavar2_bdt))/2+g_bdt%*%VarCovX_bd_ext%*%t(g_bdt)))*qnorm(1-alpha) #VaR Normal\n",
        "CVaRTotalDGMf[,j]=-(sqrt(sum(diag(tgammavar2_bdt))/2+g_bdt%*%VarCovX_bd_ext%*%t(g_bdt)))*dnorm(qnorm(alpha))/(1-alpha)\n",
        "###VaR Cornish Fisher\n",
        "tgammavar3_bdt=tgammavar2_bdt%*%(gamma_bdt2%*%VarCovX_bd_ext) \n",
        "asimPmargc_bdt=sum(diag(tgammavar3_bdt))+3*g_bdt%*%VarCovX_bd_ext%*%gamma_bdt2%*%VarCovX_bd_ext%*%t(g_bdt) #gamma tercer momento\n",
        "asimPmargc_bdt=asimPmargc_bdt/(sqrt(sum(diag(tgammavar2_bdt))/2+g_bdt%*%VarCovX_bd_ext%*%t(g_bdt)))^3  #coef de asimetría\n",
        "VaRmargcstd_bdt=qnorm(1-alpha)+((qnorm(1-alpha)^2-1)/6)*asimPmargc_bdt  #VaR estandarizado\n",
        "VaRTotalCFf[,j]=(sqrt(sum(diag(tgammavar2_bdt))/2+g_bdt%*%VarCovX_bd_ext%*%t(g_bdt)))*VaRmargcstd_bdt #VaR Normal #VaR cf\n",
        "CVaRTotalCFf[,j]=-(sqrt(sum(diag(tgammavar2_bdt))/2+g_bdt%*%VarCovX_bd_ext%*%t(g_bdt)))*dnorm(VaRmargcstd_bdt)/(pnorm(VaRmargcstd_bdt))\n",
        "}\n",
        "sum(V0_bdm)\n",
        "print(VaRTotalDGM) #VaR total Delta Gamma Normal\n",
        "print(CVaRTotalDGM) #CVaR total Delta Gamma Normal\n",
        "print(VaRTotalCF) #VaR total Delta Gamma CF\n",
        "print(CVaRTotalCF) #CVaR total Delta Gamma CF\n",
        "#VaRTotalDGMf #VaR total Delta Gamma Normal por factor de riesgo\n",
        "#CVaRTotalDGMf #CVaR total Delta Gamma Normal por factor de riesgo\n",
        "#VaRTotalCFf #VaR total Delta Gamma CF por factor de riesgo\n",
        "#CVaRTotalCFf #CVaR total Delta Gamma CF por factor de riesgo\n"
      ],
      "execution_count": 36,
      "outputs": [
        {
          "output_type": "stream",
          "name": "stdout",
          "text": [
            "          [,1]\n",
            "[1,] -320.7014\n",
            "          [,1]\n",
            "[1,] -378.0346\n",
            "          [,1]\n",
            "[1,] -320.7881\n",
            "          [,1]\n",
            "[1,] -378.1116\n"
          ]
        }
      ]
    },
    {
      "cell_type": "markdown",
      "metadata": {
        "id": "WCLi9tbT07KC"
      },
      "source": [
        "### Swaps"
      ]
    },
    {
      "cell_type": "markdown",
      "metadata": {
        "id": "JuicfJkK6Jzy"
      },
      "source": [
        "#### Total"
      ]
    },
    {
      "cell_type": "code",
      "metadata": {
        "id": "pYurD9KI1HDy",
        "colab": {
          "base_uri": "https://localhost:8080/"
        },
        "outputId": "155c0e8e-3f34-4a39-a6d0-014838e4afc3"
      },
      "source": [
        "%%R\n",
        "DeltaXvp=Xvp[1:(n-1),]/Xvp[2:n,]-1\n",
        "DeltaXtfwdt=XtfwdT[1:(n-1),]/XtfwdT[2:n,]-1\n",
        "\n",
        "DeltaX_sw=cbind(DeltaXtfwdt,DeltaXvp)\n",
        "\n",
        "VarCovX_sw=cov(DeltaX_sw)*((n-1)/(n-2))  #Matriz de Varianza-Covarianza\n",
        "\n",
        "\n",
        "# VaR y CVaR Delta Gamma Normal Total\n",
        "tgammavar_sw=(tgamma_sw%*%VarCovX_sw)\n",
        "tgammavar2_sw=(tgamma_sw%*%VarCovX_sw)%*%(tgamma_sw%*%VarCovX_sw) \n",
        "VaRTotalDGM_sw=(sum(diag(tgammavar_sw))/2+sum(dswap_dtt(por_swT, contratos_swT, nominal_swT, XtfwdT[1,], tasafija_swT,  plazocupon_swT, VTplazos_sw, Xvp[1,])))-(sqrt(sum(diag(tgammavar2_sw))/2+gt_sw%*%VarCovX_sw%*%t(gt_sw)))*qnorm(alpha) #VaR Normal\n",
        "CVaRTotalDGM_sw=(sum(diag(tgammavar_sw))/2+sum(dswap_dtt(por_swT, contratos_swT, nominal_swT, XtfwdT[1,], tasafija_swT,  plazocupon_swT, VTplazos_sw, Xvp[1,])))-(sqrt(sum(diag(tgammavar2_sw))/2+gt_sw%*%VarCovX_sw%*%t(gt_sw)))*dnorm(qnorm(alpha))/(1-alpha)\n",
        "\n",
        "# VaR y CVaR Delta Gamma CF Total\n",
        "tgammavar3_sw=tgammavar2_sw%*%(tgamma_sw%*%VarCovX_sw)\n",
        "asimPmargc_sw=sum(diag(tgammavar3_sw))+3*gt_sw%*%VarCovX_sw%*%tgamma_sw%*%VarCovX_sw%*%t(gt_sw) #gamma tercer momento\n",
        "asimPmargc_sw=asimPmargc_sw/(sqrt(sum(diag(tgammavar2_sw))/2+gt_sw%*%VarCovX_sw%*%t(gt_sw)))^3  #coef de asimetría\n",
        "VaRmargcstd_sw=qnorm(1-alpha)+((qnorm(1-alpha)^2-1)/6)*asimPmargc_sw  #VaR estandarizado\n",
        "VaRTotalCF_sw=(sum(diag(tgammavar_sw))/2+sum(dswap_dtt(por_swT, contratos_swT, nominal_swT, XtfwdT[1,], tasafija_swT,  plazocupon_swT, VTplazos_sw, Xvp[1,])))+(sqrt(sum(diag(tgammavar2_sw))/2+gt_sw%*%VarCovX_sw%*%t(gt_sw)))*VaRmargcstd_sw #VaR cf\n",
        "CVaRTotalCF_sw=(sum(diag(tgammavar_sw))/2+sum(dswap_dtt(por_swT, contratos_swT, nominal_swT, XtfwdT[1,], tasafija_swT,  plazocupon_swT, VTplazos_sw, Xvp[1,])))-(sqrt(sum(diag(tgammavar2_sw))/2+gt_sw%*%VarCovX_sw%*%t(gt_sw)))*dnorm(VaRmargcstd_sw)/(pnorm(VaRmargcstd_sw))\n",
        "\n",
        "print(\"VaR Total Delta Gamma Normal\")\n",
        "print(VaRTotalDGM_sw)\n",
        "print(\"CVaR Total Delta Gamma Normal\")\n",
        "print(CVaRTotalDGM_sw)\n",
        "print(\"VaR Total Delta Gamma CF\")\n",
        "print(VaRTotalCF_sw)\n",
        "print(\"CVaR Total Delta Gamma CF\")\n",
        "print(CVaRTotalCF_sw)\n",
        "\n"
      ],
      "execution_count": 37,
      "outputs": [
        {
          "output_type": "stream",
          "name": "stdout",
          "text": [
            "[1] \"VaR Total Delta Gamma Normal\"\n",
            "          [,1]\n",
            "[1,] -1.760434\n",
            "[1] \"CVaR Total Delta Gamma Normal\"\n",
            "          [,1]\n",
            "[1,] -2.074992\n",
            "[1] \"VaR Total Delta Gamma CF\"\n",
            "          [,1]\n",
            "[1,] -1.760419\n",
            "[1] \"CVaR Total Delta Gamma CF\"\n",
            "          [,1]\n",
            "[1,] -2.074978\n"
          ]
        }
      ]
    },
    {
      "cell_type": "markdown",
      "metadata": {
        "id": "5ZtgUFyN6Ncq"
      },
      "source": [
        "#### Por contrato"
      ]
    },
    {
      "cell_type": "code",
      "metadata": {
        "id": "A9YuxBFA6d1J",
        "colab": {
          "base_uri": "https://localhost:8080/"
        },
        "outputId": "ddc61176-54db-4c2f-a106-93e1943adb05"
      },
      "source": [
        "%%R\n",
        "VaRcont_sw=matrix(0,1,ncol(N))\n",
        "CVaRcont_sw=matrix(0,1,ncol(N))\n",
        "VaRContDGM_sw=matrix(0,1,ncol(N))\n",
        "CVaRContDGM_sw=matrix(0,1,ncol(N))\n",
        "VaRContstd_sw=matrix(0,1,ncol(N))\n",
        "VaRContCF_sw=matrix(0,1,ncol(N))\n",
        "CVaRContCF_sw=matrix(0,1,ncol(N))\n",
        "VaRmargc_sw=matrix(0,1,m)\n",
        "VaRmargcstd_sw=matrix(0,1,m)\n",
        "VaRmargcCF_sw=matrix(0,1,m)\n",
        "CVaRmargc_sw=matrix(0,1,m)\n",
        "CVaRmargcCF_sw=matrix(0,1,m)\n",
        "\n",
        "VaRContDGM_swf=matrix(0,2,ncol(N))\n",
        "CVaRContDGM_swf=matrix(0,2,ncol(N))\n",
        "VaRContCF_swf=matrix(0,2,ncol(N))\n",
        "CVaRContCF_swf=matrix(0,2,ncol(N))\n",
        "\n",
        "\n",
        "#Valor de las derivadas evaluadas en el punto x0.\n",
        "V0f_dtt_sw=dswap_dtt(por_swT, contratos_swT, nominal_swT, XtfwdT[1,], tasafija_swT,  plazocupon_swT, VTplazos_sw, Xvp[1,])\n",
        "V0f_dtc_sw=dswap_dtc(por_swT, contratos_swT, nominal_swT, XtfwdT[1,], tasafija_swT,  plazocupon_swT, VTplazos_sw, Xvp[1,])\n",
        "V0f_dvp_sw=dswap_dvp(por_swT, contratos_swT, nominal_swT, XtfwdT[1,], tasafija_swT,  plazocupon_swT, VTplazos_sw, Xvp[1,])\n",
        "for (j in (1:ncol(N)))\n",
        "{\n",
        "  if(j==1)\n",
        "  {\n",
        "    x0cont_swf=rbind(c( XtfwdT[1,1:sum(N[1:j])],Xvp[1,1:sum(N[1:j])]*0),\n",
        "                     c( XtfwdT[1,1:sum(N[1:j])]*0,Xvp[1,1:sum(N[1:j])]))\n",
        "    mucont_sw=sum(V0f_dtt_sw[1:sum(N[1:j])])\n",
        "    gcont_sw=as.matrix(c(V0f_dtc_sw[1:sum(N[1:j])],V0f_dvp_sw[1:sum(N[1:j])]))\n",
        "    gtcont_sw=t(as.matrix(gcont_sw*c(XtfwdT[1,1:sum(N[1:j])],Xvp[1,1:sum(N[1:j])])))\n",
        "    VarCovXcont_sw=cov(cbind(XtfwdT[,1:sum(N[1:j])],Xvp[,1:sum(N[1:j])]))*(n/(n-1))\t\n",
        "    gamma_cont_sw=gamma_sw[1:(2*sum(N[1:j])),1:(2*sum(N[1:j]))]\n",
        "    tgamma_sw= c(XtfwdT[1,1:sum(N[1:j])],Xvp[1,1:sum(N[1:j])])%*%t(c(XtfwdT[1,1:sum(N[1:j])],Xvp[1,1:sum(N[1:j])]))*gamma_cont_sw #gamma tilde\n",
        "  }\n",
        "  else\n",
        "  {\n",
        "    x0cont_swf=rbind(c( XtfwdT[1,sum(N[1:j-1],1):sum(N[1:j])],Xvp[1,sum(N[1:j-1],1):sum(N[1:j])]*0),\n",
        "                     c( XtfwdT[1,sum(N[1:j-1],1):sum(N[1:j])]*0,Xvp[1,sum(N[1:j-1],1):sum(N[1:j])]))\n",
        "    mucont_sw=sum(V0f_dtt_sw[sum(N[1:j-1]+1):sum(N[1:j])])\n",
        "    gcont_sw=as.matrix(c(V0f_dtc_sw[sum(N[1:j-1]+1):sum(N[1:j])],V0f_dvp_sw[sum(N[1:j-1]+1):sum(N[1:j])]))\n",
        "    gtcont_sw=t(as.matrix(gcont_sw*c(XtfwdT[1,sum(N[1:j-1]+1):sum(N[1:j])],Xvp[1,sum(N[1:j-1]+1):sum(N[1:j])])))\n",
        "    VarCovXcont_sw=cov(cbind(XtfwdT[,sum(N[1:j-1]+1):sum(N[1:j])],Xvp[,sum(N[1:j-1]+1):sum(N[1:j])]))*(n/(n-1))\n",
        "    gamma_cont_sw=gamma_sw[(2*sum(N[1:j-1])+1):(2*sum(N[1:j])),(2*sum(N[1:j-1])+1):(2*sum(N[1:j]))]\n",
        "    tgamma_sw= c(XtfwdT[1,sum(N[1:j-1]+1):sum(N[1:j])],Xvp[1,sum(N[1:j-1]+1):sum(N[1:j])])%*%t(c(XtfwdT[1,sum(N[1:j-1]+1):sum(N[1:j])],Xvp[1,sum(N[1:j-1]+1):sum(N[1:j])]))*gamma_cont_sw #gamma tilde\n",
        "  }\n",
        "  \n",
        "  \n",
        "  tgammavar_sw=(tgamma_sw%*%VarCovXcont_sw)\n",
        "  tgammavar2_sw=(tgamma_sw%*%VarCovXcont_sw)%*%(tgamma_sw%*%VarCovXcont_sw)\n",
        "  VaRContDGM_sw[j]=(sum(diag(tgammavar_sw))/2+mucont_sw)-(sqrt(sum(diag(tgammavar2_sw))/2+gtcont_sw%*%VarCovXcont_sw%*%t(gtcont_sw)))*qnorm(alpha) #VaR Normal\n",
        "  CVaRContDGM_sw[j]=(sum(diag(tgammavar_sw))/2+mucont_sw)-(sqrt(sum(diag(tgammavar_sw))/2+gtcont_sw%*%VarCovXcont_sw%*%t(gtcont_sw)))*dnorm(qnorm(alpha))/(1-alpha)\n",
        "  ###VaR Cornish Fisher\n",
        "  tgammavar3_sw=tgammavar2_sw%*%(tgamma_sw%*%VarCovXcont_sw)\n",
        "  asimPmargc_sw=sum(diag(tgammavar3_sw))+3*gtcont_sw%*%VarCovXcont_sw%*%tgamma_sw%*%VarCovXcont_sw%*%t(gtcont_sw) #gamma tercer momento\n",
        "  asimPmargc_sw=asimPmargc_sw/(sqrt(sum(diag(tgammavar2_sw))/2+gtcont_sw%*%VarCovXcont_sw%*%t(gtcont_sw)))^3  #coef de asimetría\n",
        "  VaRmargcstd_sw=qnorm(1-alpha)+((qnorm(1-alpha)^2-1)/6)*asimPmargc_sw  #VaR estandarizado\n",
        "  VaRContCF_sw[j]=(sum(diag(tgammavar_sw))/2+mucont_sw)+(sqrt(sum(diag(tgammavar2_sw))/2+gtcont_sw%*%VarCovXcont_sw%*%t(gtcont_sw)))*VaRmargcstd_sw #VaR Normal\n",
        "  CVaRContCF_sw[j]=(sum(diag(tgammavar_sw))/2+sum(mucont_sw))-(sqrt(sum(diag(tgammavar2_sw))/2+gtcont_sw%*%VarCovXcont_sw%*%t(gtcont_sw)))*dnorm(VaRmargcstd_sw)/(pnorm(VaRmargcstd_sw))\n",
        "  \n",
        "  #VaR Delta Normal\n",
        "  VaRcont_sw[j]=sum(mucont_sw)-sqrt(gtcont_sw%*%VarCovXcont_sw%*%t(gtcont_sw))*qnorm(alpha)\n",
        "  CVaRcont_sw[j]=sum(mucont_sw)-sqrt(gtcont_sw%*%VarCovXcont_sw%*%t(gtcont_sw))*dnorm(qnorm(alpha))/(1-alpha)\n",
        "\n",
        "   for (k in (1:2))\n",
        "  {\n",
        "    gtcont_sw=t(as.matrix(gcont_sw*x0cont_swf[k,]))\n",
        "    tgamma_sw= x0cont_swf[k,]%*%t(x0cont_swf[k,])*gamma_cont_sw #gamma tilde\n",
        "    tgammavar_sw=(tgamma_sw%*%VarCovXcont_sw)\n",
        "    tgammavar2_sw=(tgamma_sw%*%VarCovXcont_sw)%*%(tgamma_sw%*%VarCovXcont_sw)\n",
        "    VaRContDGM_swf[k,j]=(sum(diag(tgammavar_sw))/2+mucont_sw)-(sqrt(sum(diag(tgammavar2_sw))/2+gtcont_sw%*%VarCovXcont_sw%*%t(gtcont_sw)))*qnorm(alpha) #VaR Normal\n",
        "    CVaRContDGM_swf[k,j]=(sum(diag(tgammavar_sw))/2+mucont_sw)-(sqrt(sum(diag(tgammavar_sw))/2+gtcont_sw%*%VarCovXcont_sw%*%t(gtcont_sw)))*dnorm(qnorm(alpha))/(1-alpha)\n",
        "    ###VaR Cornish Fisher\n",
        "    tgammavar3_sw=tgammavar2_sw%*%(tgamma_sw%*%VarCovXcont_sw)\n",
        "    asimPmargc_sw=sum(diag(tgammavar3_sw))+3*gtcont_sw%*%VarCovXcont_sw%*%tgamma_sw%*%VarCovXcont_sw%*%t(gtcont_sw) #gamma tercer momento\n",
        "    asimPmargc_sw=asimPmargc_sw/(sqrt(sum(diag(tgammavar2_sw))/2+gtcont_sw%*%VarCovXcont_sw%*%t(gtcont_sw)))^3  #coef de asimetría\n",
        "    VaRmargcstd_sw=qnorm(1-alpha)+((qnorm(1-alpha)^2-1)/6)*asimPmargc_sw  #VaR estandarizado\n",
        "    VaRContCF_swf[k,j]=(sqrt(sum(diag(tgammavar2_sw))/2+gtcont_sw%*%VarCovXcont_sw%*%t(gtcont_sw)))*VaRmargcstd_sw #VaR Normal\n",
        "    CVaRContCF_swf[k,j]=-(sqrt(sum(diag(tgammavar2_sw))/2+gtcont_sw%*%VarCovXcont_sw%*%t(gtcont_sw)))*dnorm(VaRmargcstd_sw)/(pnorm(VaRmargcstd_sw))    \n",
        "  }\n",
        "}\n",
        "\n",
        "print(\"VaR contrato Delta Gamma Normal\")\n",
        "print(VaRContDGM_sw) #VaR contrato Delta Gamma Normal \n",
        "print(\"CVaR contrato Delta Gamma Normal\")\n",
        "print(CVaRContDGM_sw) #CVaR contrato Delta Gamma Normal \n",
        "print(\"VaR contrato Delta Gamma CF\")\n",
        "print(VaRContCF_sw) #VaR contrato Delta Gamma CF\n",
        "print(\"CVaR contrato Delta Gamma CF\") \n",
        "print(CVaRContCF_sw) \n",
        "print(\"VaR contrato fr Delta Gamma Normal\")\n",
        "print(VaRContDGM_swf) #VaR contrato Delta Gamma Normal \n",
        "print(\"CVaR contrato fr Delta Gamma Normal\")\n",
        "print(CVaRContDGM_swf) #CVaR contrato Delta Gamma Normal \n",
        "print(\"VaR contrato fr Delta Gamma CF\")\n",
        "print(VaRContCF_swf) #VaR contrato Delta Gamma CF\n",
        "print(\"CVaR contrato fr Delta Gamma CF\") \n",
        "print(CVaRContCF_swf) \n",
        "\n",
        "#CVaR contrato Delta Gamma CF\n",
        "#VaRContDGM_bdf #VaR contrato-factor de riesgo Delta Gamma Normal \n",
        "#CVaRContDGM_bdf #CVaR contrato-factor de riesgo Delta Gamma Normal \n",
        "#VaRContCF_bdf #VaR contrato-factor de riesgo Delta Gamma CF\n",
        "#CVaRContCF_bdf\n"
      ],
      "execution_count": 38,
      "outputs": [
        {
          "output_type": "stream",
          "name": "stdout",
          "text": [
            "[1] \"VaR contrato Delta Gamma Normal\"\n",
            "           [,1]        [,2]\n",
            "[1,] -0.2291833 -0.05914348\n",
            "[1] \"CVaR contrato Delta Gamma Normal\"\n",
            "           [,1]        [,2]\n",
            "[1,] -0.2700019 -0.06969723\n",
            "[1] \"VaR contrato Delta Gamma CF\"\n",
            "           [,1]        [,2]\n",
            "[1,] -0.2291865 -0.05914348\n",
            "[1] \"CVaR contrato Delta Gamma CF\"\n",
            "           [,1]        [,2]\n",
            "[1,] -0.2700145 -0.06969725\n",
            "[1] \"VaR contrato fr Delta Gamma Normal\"\n",
            "              [,1]          [,2]\n",
            "[1,] -0.2293332817 -0.0591552915\n",
            "[2,] -0.0009990088 -0.0001266701\n",
            "[1] \"CVaR contrato fr Delta Gamma Normal\"\n",
            "             [,1]          [,2]\n",
            "[1,] -0.270188630 -0.0697111526\n",
            "[2,] -0.001089237 -0.0001443528\n",
            "[1] \"VaR contrato fr Delta Gamma CF\"\n",
            "              [,1]          [,2]\n",
            "[1,] -0.2285300970 -5.904580e-02\n",
            "[2,] -0.0001958153 -1.717641e-05\n",
            "[1] \"CVaR contrato fr Delta Gamma CF\"\n",
            "              [,1]          [,2]\n",
            "[1,] -0.2693854452 -6.960168e-02\n",
            "[2,] -0.0002308261 -2.024724e-05\n"
          ]
        }
      ]
    },
    {
      "cell_type": "markdown",
      "metadata": {
        "id": "xIXGvf2DD_4X"
      },
      "source": [
        "#### Por factor de riesgo"
      ]
    },
    {
      "cell_type": "code",
      "metadata": {
        "id": "f0rOs2RrEChF",
        "colab": {
          "base_uri": "https://localhost:8080/"
        },
        "outputId": "56f32479-eebe-4a9b-ed3b-20cad0038959"
      },
      "source": [
        "%%R\n",
        "WFR_sw=rbind(c( XtfwdT[1,],Xvp[1,]*0),c( XtfwdT[1,]*0,Xvp[1,]))\n",
        "VaRFr_sw=matrix(0,1,2)\n",
        "CVaRFr_sw=matrix(0,1,2)\n",
        "VaRFrDGN_sw=matrix(0,1,2)\n",
        "VaRFrDGst_sw=matrix(0,1,2)\n",
        "CVaRFrDGN_sw=matrix(0,1,2)\n",
        "CVaRFrDGCF_sw=matrix(0,1,2)\n",
        "VaRFrDGCF_sw=matrix(0,1,2)\n",
        "\n",
        "for (j in (1:2))\n",
        "{\n",
        "   # gFr=as.matrix(V0f_dtc)\n",
        "    #gtFr=as.matrix(gFr*XtfwdT[1,])\n",
        "    #VarCovXFr=cov(cbind(XtfwdT[,]))*(n/(n-1))\n",
        "    \n",
        "    g_sw=cbind(dswap_dtc(por_swT, contratos_swT, nominal_swT, XtfwdT[1,], tasafija_swT,  plazocupon_swT, VTplazos_sw, Xvp[1,]),dswap_dvp(por_swT, contratos_swT, nominal_swT, XtfwdT[1,], tasafija_swT,  plazocupon_swT, VTplazos_sw, Xvp[1,]))\n",
        "    \n",
        "    #Multiplicación de la derivada por el punto x0\n",
        "    gt_sw=WFR_sw[j,]*g_sw\n",
        "    \n",
        "    \n",
        "    gamma_sw=mgamma_swap(por_swT, contratos_swT, nominal_swT, XtfwdT[1,], tasafija_swT,  plazocupon_swT, VTplazos_sw, Xvp[1,])\n",
        "    tgamma_sw=WFR_sw[j,]%*%t(WFR_sw[j,])*gamma_sw\n",
        "    tgammavar_sw=(tgamma_sw%*%VarCovX_sw)\n",
        "    tgammavar2_sw=(tgamma_sw%*%VarCovX_sw)%*%(tgamma_sw%*%VarCovX_sw) \n",
        "    VaRFrDGN_sw[j]=(sum(diag(tgammavar_sw))/2+sum(dswap_dtt(por_swT, contratos_swT, nominal_swT, XtfwdT[1,], tasafija_swT,  plazocupon_swT, VTplazos_sw, Xvp[1,])))-(sqrt(sum(diag(tgammavar2_sw))/2+gt_sw%*%VarCovX_sw%*%t(gt_sw)))*qnorm(alpha) #VaR Normal\n",
        "    CVaRFrDGN_sw[j]=(sum(diag(tgammavar_sw))/2+sum(dswap_dtt(por_swT, contratos_swT, nominal_swT, XtfwdT[1,], tasafija_swT,  plazocupon_swT, VTplazos_sw, Xvp[1,])))-(sqrt(sum(diag(tgammavar2_sw))/2+gt_sw%*%VarCovX_sw%*%t(gt_sw)))*dnorm(qnorm(alpha))/(1-alpha)\n",
        "    \n",
        "    ###VaR Cornish Fisher\n",
        "    tgammavar3_sw=tgammavar2_sw%*%(tgamma_sw%*%VarCovX_sw)\n",
        "    asimPmargc_sw=sum(diag(tgammavar3_sw))+3*gt_sw%*%VarCovX_sw%*%tgamma_sw%*%VarCovX_sw%*%t(gt_sw) #gamma tercer momento\n",
        "    asimPmargc_sw=asimPmargc_sw/(sqrt(sum(diag(tgammavar2_sw))/2+gt_sw%*%VarCovX_sw%*%t(gt_sw)))^3  #coef de asimetría\n",
        "    VaRFrDGst_sw[j]=qnorm(1-alpha)+((qnorm(1-alpha)^2-1)/6)*asimPmargc_sw  #VaR estandarizado\n",
        "    VaRFrDGCF_sw[j]=(sum(diag(tgammavar_sw))/2+sum(dswap_dtt(por_swT, contratos_swT, nominal_swT, XtfwdT[1,], tasafija_swT,  plazocupon_swT, VTplazos_sw, Xvp[1,])))+(sqrt(sum(diag(tgammavar2_sw))/2+gt_sw%*%VarCovX_sw%*%t(gt_sw)))*VaRFrDGst_sw[j] #VaR Normal \n",
        "    CVaRFrDGCF_sw[j]=(sum(diag(tgammavar_sw))/2+sum(dswap_dtt(por_swT, contratos_swT, nominal_swT, XtfwdT[1,], tasafija_swT,  plazocupon_swT, VTplazos_sw, Xvp[1,])))-(sqrt(sum(diag(tgammavar2_sw))/2+gt_sw%*%VarCovX_sw%*%t(gt_sw)))*dnorm(VaRFrDGst_sw[j])/(pnorm(VaRFrDGst_sw[j]))\n",
        "\n",
        "  #VaRFr[j]=-sqrt(gtFr%*%VarCovXFr%*%t(gtFr))*qnorm(alpha)\n",
        "  #CVaRFr[j]=-sqrt(gtFr%*%VarCovXFr%*%t(gtFr))*dnorm(qnorm(alpha))/(1-alpha)\n",
        "}\n",
        "print(\"VaR factor de riesgo Delta Gamma Normal\")\n",
        "print(VaRFrDGN_sw)\n",
        "print(\"CVaR factor de riesgo Delta Gamma Normal\")\n",
        "print(CVaRFrDGN_sw)\n",
        "print(\"VaR factor de riesgo Delta Gamma CF\")\n",
        "print(VaRFrDGCF_sw)\n",
        "print(\"CVaR factor de riesgo Delta Gamma CF\")\n",
        "print(CVaRFrDGCF_sw)\n"
      ],
      "execution_count": 39,
      "outputs": [
        {
          "output_type": "stream",
          "name": "stdout",
          "text": [
            "[1] \"VaR factor de riesgo Delta Gamma Normal\"\n",
            "         [,1]         [,2]\n",
            "[1,] -1.76041 -0.002164163\n",
            "[1] \"CVaR factor de riesgo Delta Gamma Normal\"\n",
            "          [,1]         [,2]\n",
            "[1,] -2.074963 -0.002387909\n",
            "[1] \"VaR factor de riesgo Delta Gamma CF\"\n",
            "         [,1]        [,2]\n",
            "[1,] -1.76041 -0.00216391\n",
            "[1] \"CVaR factor de riesgo Delta Gamma CF\"\n",
            "          [,1]         [,2]\n",
            "[1,] -2.074963 -0.002387685\n"
          ]
        }
      ]
    },
    {
      "cell_type": "markdown",
      "metadata": {
        "id": "m3dpWkMEWF58"
      },
      "source": [
        "## Medicion de riesgo, Delta Normal"
      ]
    },
    {
      "cell_type": "markdown",
      "metadata": {
        "id": "LVqL_FOiTz8v"
      },
      "source": [
        "### Acciones y divisas"
      ]
    },
    {
      "cell_type": "markdown",
      "metadata": {
        "id": "bMUcBAp3T23d"
      },
      "source": [
        "#### Por factor de riesgo"
      ]
    },
    {
      "cell_type": "code",
      "metadata": {
        "id": "R6CufXvTT9m-",
        "colab": {
          "base_uri": "https://localhost:8080/"
        },
        "outputId": "1d86d090-5cb3-4339-b3c6-fc2fddf4dfbd"
      },
      "source": [
        "%%R\n",
        "VaRDNfr_acc = qnorm(1-alpha)*sqrt(g_acct*g_acct*desvest_acc*desvest_acc) \n",
        "VaRDNfr_div = qnorm(1-alpha)*sqrt(g_divt*g_divt*desvest_div*desvest_div) \n",
        "\n",
        "CVaRDNfr_acc = (dnorm(qnorm(1-alpha))/(1-alpha))*sqrt(g_acct*g_acct*desvest_acc*desvest_acc)*-1\n",
        "CVaRDNfr_div = (dnorm(qnorm(1-alpha))/(1-alpha))*sqrt(g_divt*g_divt*desvest_div*desvest_div)*-1\n",
        "\n",
        "print('VaR por factor de riesgo de acciones Delta Normal')\n",
        "print(VaRDNfr_acc)\n",
        "print('CVaR por factor de riesgo de acciones Delta Normal')\n",
        "print(CVaRDNfr_acc)\n",
        "print('VaR por factor de riesgo de divisas Delta Normal')\n",
        "print(VaRDNfr_div)\n",
        "print('CVaR por factor de riesgo de divisas Delta Normal')\n",
        "print(CVaRDNfr_div)"
      ],
      "execution_count": 40,
      "outputs": [
        {
          "output_type": "stream",
          "name": "stdout",
          "text": [
            "[1] \"VaR por factor de riesgo de acciones Delta Normal\"\n",
            "     AMXL.MX GCARSOA1.MX WALMEX.MX\n",
            "1: -2532.208   -3530.197  -3122.84\n",
            "[1] \"CVaR por factor de riesgo de acciones Delta Normal\"\n",
            "     AMXL.MX GCARSOA1.MX WALMEX.MX\n",
            "1: -2984.903   -4161.306 -3681.124\n",
            "[1] \"VaR por factor de riesgo de divisas Delta Normal\"\n",
            "    EURUSD.X  GBPUSD.X USDMXN.X\n",
            "1: -197.8514 -199.0247 -429.912\n",
            "[1] \"CVaR por factor de riesgo de divisas Delta Normal\"\n",
            "    EURUSD.X  GBPUSD.X  USDMXN.X\n",
            "1: -233.2222 -234.6053 -506.7693\n"
          ]
        }
      ]
    },
    {
      "cell_type": "markdown",
      "metadata": {
        "id": "ehm9D7JET5ou"
      },
      "source": [
        "#### Total"
      ]
    },
    {
      "cell_type": "code",
      "metadata": {
        "id": "FJaLRGCDT_j-",
        "colab": {
          "base_uri": "https://localhost:8080/"
        },
        "outputId": "1082b42f-5c6f-4ff9-a114-61cf112ed7d3"
      },
      "source": [
        "%%R\n",
        "VaRDNTotal_acc = sqrt(as.matrix(g_acct)%*%VarCovX_acc%*%t(as.matrix(g_acct)))*qnorm(1-alpha)\n",
        "CVaRDNTotal_acc = sqrt(as.matrix(g_acct)%*%VarCovX_acc%*%t(as.matrix(g_acct)))*dnorm(qnorm(1-alpha))/(1-alpha)*-1\n",
        "\n",
        "VaRDNTotal_div = sqrt(as.matrix(g_divt)%*%VarCovX_div%*%t(as.matrix(g_divt)))*qnorm(1-alpha)\n",
        "CVaRDNTotal_div = sqrt(as.matrix(g_divt)%*%VarCovX_div%*%t(as.matrix(g_divt)))*dnorm(qnorm(1-alpha))/(1-alpha)*-1\n",
        "\n",
        "print('VaR Total de acciones Delta Normal')\n",
        "print(VaRDNTotal_acc)\n",
        "print('CVaR Total de acciones Delta Normal')\n",
        "print(CVaRDNTotal_acc)\n",
        "print('VaR Total de divisas Delta Normal')\n",
        "print(VaRDNTotal_div)\n",
        "print('CVaR Total de divisas Delta Normal')\n",
        "print(CVaRDNTotal_div)"
      ],
      "execution_count": 41,
      "outputs": [
        {
          "output_type": "stream",
          "name": "stdout",
          "text": [
            "[1] \"VaR Total de acciones Delta Normal\"\n",
            "          [,1]\n",
            "[1,] -5207.821\n",
            "[1] \"CVaR Total de acciones Delta Normal\"\n",
            "          [,1]\n",
            "[1,] -6138.847\n",
            "[1] \"VaR Total de divisas Delta Normal\"\n",
            "          [,1]\n",
            "[1,] -468.3025\n",
            "[1] \"CVaR Total de divisas Delta Normal\"\n",
            "          [,1]\n",
            "[1,] -552.0231\n"
          ]
        }
      ]
    },
    {
      "cell_type": "markdown",
      "metadata": {
        "id": "HagexR1TWMVa"
      },
      "source": [
        "### Swaps"
      ]
    },
    {
      "cell_type": "markdown",
      "metadata": {
        "id": "xkR8SosDhsHj"
      },
      "source": [
        "#### Por contrato"
      ]
    },
    {
      "cell_type": "code",
      "metadata": {
        "id": "cZe4bt02eMCj",
        "colab": {
          "base_uri": "https://localhost:8080/"
        },
        "outputId": "cb1db462-3ab3-4b17-8040-894d9b60817d"
      },
      "source": [
        "%%R\n",
        "VaRcontDN_sw=matrix(0,1,ncol(N))\n",
        "CVaRcontDN_sw=matrix(0,1,ncol(N))\n",
        "\n",
        "V0f_dtt=dswap_dtt(por_swT, contratos_swT, nominal_swT, XtfwdT[1,], tasafija_swT,  plazocupon_swT, VTplazos_sw, Xvp[1,])\n",
        "V0f_dtc=dswap_dtc(por_swT, contratos_swT, nominal_swT, XtfwdT[1,], tasafija_swT,  plazocupon_swT, VTplazos_sw, Xvp[1,])\n",
        "V0f_dvp=dswap_dvp(por_swT, contratos_swT, nominal_swT, XtfwdT[1,], tasafija_swT,  plazocupon_swT, VTplazos_sw, Xvp[1,])\n",
        "for (j in (1:ncol(N)))\n",
        "{\n",
        "  if(j==1)\n",
        "  {\n",
        "    mucont_sw=sum(V0f_dtt[1:sum(N[1:j])])\n",
        "    gcont_sw=as.matrix(c(V0f_dtc[1:sum(N[1:j])],V0f_dvp[1:sum(N[1:j])]))\n",
        "    gtcont_sw=t(as.matrix(gcont_sw*c(XtfwdT[1,1:sum(N[1:j])],Xvp[1,1:sum(N[1:j])])))\n",
        "    VarCovXcont_sw=cov(cbind(DeltaXtfwdt[,1:sum(N[1:j])],DeltaXvp[,1:sum(N[1:j])]))*(n/(n-1))\t\n",
        "  }\n",
        "  else\n",
        "  {\n",
        "    mucont_sw=sum(V0f_dtt[sum(N[1:j-1]+1):sum(N[1:j])])\n",
        "    gcont_sw=as.matrix(c(V0f_dtc[sum(N[1:j-1]+1):sum(N[1:j])],V0f_dvp[sum(N[1:j-1]+1):sum(N[1:j])]))\n",
        "    gtcont_sw=t(as.matrix(gcont_sw*c(XtfwdT[1,sum(N[1:j-1]+1):sum(N[1:j])],Xvp[1,sum(N[1:j-1]+1):sum(N[1:j])])))\n",
        "    VarCovXcont_sw=cov(cbind(DeltaXtfwdt[,sum(N[1:j-1]+1):sum(N[1:j])],DeltaXvp[,sum(N[1:j-1]+1):sum(N[1:j])]))*(n/(n-1))\n",
        "    \n",
        "  }\n",
        "  \n",
        "  \n",
        "  \n",
        "  #VaR Delta Normal\n",
        "  VaRcontDN_sw[j]=sum(mucont_sw)+sqrt(gtcont_sw%*%VarCovXcont_sw%*%t(gtcont_sw))*qnorm(1-alpha)\n",
        "  CVaRcontDN_sw[j]=sum(mucont_sw)+sqrt(gtcont_sw%*%VarCovXcont_sw%*%t(gtcont_sw))*dnorm(qnorm(1-alpha))/(1-alpha)\n",
        "}\n",
        "\n",
        "print(\"VaR por contrato Delta Normal\")\n",
        "print(VaRcontDN_sw)\n",
        "print(\"CVaR por contrato Delta Normal\")\n",
        "print(CVaRcontDN_sw)"
      ],
      "execution_count": 42,
      "outputs": [
        {
          "output_type": "stream",
          "name": "stdout",
          "text": [
            "[1] \"VaR por contrato Delta Normal\"\n",
            "          [,1]       [,2]\n",
            "[1,] -1.436464 -0.4086602\n",
            "[1] \"CVaR por contrato Delta Normal\"\n",
            "         [,1]      [,2]\n",
            "[1,] 1.691517 0.4814797\n"
          ]
        }
      ]
    },
    {
      "cell_type": "markdown",
      "metadata": {
        "id": "yZGqV3_3huST"
      },
      "source": [
        "#### Por contrato factor de riesgo total"
      ]
    },
    {
      "cell_type": "code",
      "metadata": {
        "id": "gy6VfM8Eh0yi",
        "colab": {
          "base_uri": "https://localhost:8080/"
        },
        "outputId": "04431c41-4dee-47f7-d114-d6facac79aef"
      },
      "source": [
        "%%R\n",
        "WFR=rbind(c( XtfwdT[1,],Xvp[1,]*0),c( XtfwdT[1,]*0,Xvp[1,]))\n",
        "VaRFrDN_sw=matrix(0,1,2)\n",
        "CVaRFrDN_sw=matrix(0,1,2)\n",
        "\n",
        "for (j in (1:2))\n",
        "{\n",
        "    \n",
        "    g_sw=cbind(dswap_dtc(por_swT, contratos_swT, nominal_swT, XtfwdT[1,], tasafija_swT,  plazocupon_swT, VTplazos_sw, Xvp[1,]),\n",
        "               dswap_dvp(por_swT, contratos_swT, nominal_swT, XtfwdT[1,], tasafija_swT,  plazocupon_swT, VTplazos_sw, Xvp[1,]))\n",
        "    \n",
        "    #Multiplicación de la derivada por el punto x0\n",
        "    gt_sw=WFR[j,]*g_sw\n",
        "    VaRFrDN_sw[j]=sqrt(gt_sw%*%VarCovX_sw%*%t(gt_sw))*qnorm(1-alpha)\n",
        "    CVaRFrDN_sw[j]=-sqrt(gt_sw%*%VarCovX_sw%*%t(gt_sw))*dnorm(qnorm(1-alpha))/(1-alpha)\n",
        "}\n",
        "\n",
        "print(\"VaR por contrato fr total\")\n",
        "print(VaRFrDN_sw)\n",
        "print(\"CVaR por contrato fr total\")\n",
        "print(CVaRFrDN_sw)"
      ],
      "execution_count": 43,
      "outputs": [
        {
          "output_type": "stream",
          "name": "stdout",
          "text": [
            "[1] \"VaR por contrato fr total\"\n",
            "          [,1]         [,2]\n",
            "[1,] -1.759498 -0.001251557\n",
            "[1] \"CVaR por contrato fr total\"\n",
            "          [,1]         [,2]\n",
            "[1,] -2.074051 -0.001475303\n"
          ]
        }
      ]
    },
    {
      "cell_type": "markdown",
      "metadata": {
        "id": "EQl12e68jLma"
      },
      "source": [
        "#### Contrato Factor de riesgo marginal"
      ]
    },
    {
      "cell_type": "code",
      "metadata": {
        "id": "_ES5A7ypjN4q",
        "colab": {
          "base_uri": "https://localhost:8080/"
        },
        "outputId": "5bd8e2f5-6d7d-46a5-c7db-8257ba2061fe"
      },
      "source": [
        "%%R\n",
        "VaRcontfrDN_sw=matrix(0,2,ncol(N))\n",
        "CVaRcontfrDN_sw=matrix(0,2,ncol(N))\n",
        "WFRcont <- rbind(c(1,0), c(0,1))\n",
        "\n",
        "V0f_dtt=dswap_dtt(por_swT, contratos_swT, nominal_swT, XtfwdT[1,], tasafija_swT,  plazocupon_swT, VTplazos_sw, Xvp[1,])\n",
        "V0f_dtc=dswap_dtc(por_swT, contratos_swT, nominal_swT, XtfwdT[1,], tasafija_swT,  plazocupon_swT, VTplazos_sw, Xvp[1,])\n",
        "V0f_dvp=dswap_dvp(por_swT, contratos_swT, nominal_swT, XtfwdT[1,], tasafija_swT,  plazocupon_swT, VTplazos_sw, Xvp[1,])\n",
        "for (j in (1:ncol(N)))\n",
        "{\n",
        "    for(k in (1:2)){\n",
        "  if(j==1)\n",
        "  {\n",
        "    mucont_sw=sum(V0f_dtt[1:sum(N[1:j])])\n",
        "    gcont_sw=as.matrix(c(V0f_dtc[1:sum(N[1:j])],V0f_dvp[1:sum(N[1:j])]))\n",
        "    gtcont_sw=t(as.matrix(gcont_sw*c(XtfwdT[1,1:sum(N[1:j])]*WFRcont[k,1],Xvp[1,1:sum(N[1:j])]*WFRcont[k,2])))\n",
        "    VarCovXcont_sw=cov(cbind(DeltaXtfwdt[,1:sum(N[1:j])],DeltaXvp[,1:sum(N[1:j])]))*(n/(n-1))\t\n",
        "    }\n",
        "  else\n",
        "  {\n",
        "    mucont_sw=sum(V0f_dtt[sum(N[1:j-1]+1):sum(N[1:j])])\n",
        "    gcont_sw=as.matrix(c(V0f_dtc[sum(N[1:j-1]+1):sum(N[1:j])],V0f_dvp[sum(N[1:j-1]+1):sum(N[1:j])]))\n",
        "    gtcont_sw=t(as.matrix(gcont_sw*c(XtfwdT[1,sum(N[1:j-1]+1):sum(N[1:j])]*WFRcont[k,1],Xvp[1,sum(N[1:j-1]+1):sum(N[1:j])]*WFRcont[k,2])))\n",
        "    VarCovXcont_sw=cov(cbind(DeltaXtfwdt[,sum(N[1:j-1]+1):sum(N[1:j])],DeltaXvp[,sum(N[1:j-1]+1):sum(N[1:j])]))*(n/(n-1))\n",
        "    }\n",
        "  \n",
        "  \n",
        "  #VaR Delta Normal\n",
        "  VaRcontfrDN_sw[k,j]=sum(mucont_sw)+sqrt(gtcont_sw%*%VarCovXcont_sw%*%t(gtcont_sw))*qnorm(1-alpha)\n",
        "  CVaRcontfrDN_sw[k,j]=sum(mucont_sw)-sqrt(gtcont_sw%*%VarCovXcont_sw%*%t(gtcont_sw))*dnorm(qnorm(1-alpha))/(1-alpha)\n",
        "}\n",
        "}\n",
        "\n",
        "print(\"VaR por contrato fr Delta Normal\")\n",
        "print(VaRcontfrDN_sw)\n",
        "print(\"CVaR por contrato fr Delta Normal\")\n",
        "print(CVaRcontfrDN_sw)"
      ],
      "execution_count": 44,
      "outputs": [
        {
          "output_type": "stream",
          "name": "stdout",
          "text": [
            "[1] \"VaR por contrato fr Delta Normal\"\n",
            "             [,1]          [,2]\n",
            "[1,] -1.436451456 -0.4086563937\n",
            "[2,] -0.001952618 -0.0002131249\n",
            "[1] \"CVaR por contrato fr Delta Normal\"\n",
            "             [,1]          [,2]\n",
            "[1,] -1.693108722 -0.4816941513\n",
            "[2,] -0.002158108 -0.0002316515\n"
          ]
        }
      ]
    },
    {
      "cell_type": "markdown",
      "metadata": {
        "id": "HZ_ahyDUkt4y"
      },
      "source": [
        "#### Total"
      ]
    },
    {
      "cell_type": "code",
      "metadata": {
        "id": "m9WVPW7Lkvm5",
        "colab": {
          "base_uri": "https://localhost:8080/"
        },
        "outputId": "c319a3f6-4561-4977-ac14-692a3623cbb1"
      },
      "source": [
        "%%R\n",
        "#Evalución de las derivada en el punto x0\n",
        "\n",
        "g_sw=cbind(dswap_dtc(por_swT, contratos_swT, nominal_swT, XtfwdT[1,], tasafija_swT,  plazocupon_swT, VTplazos_sw, Xvp[1,]),\n",
        "        dswap_dvp(por_swT, contratos_swT, nominal_swT, XtfwdT[1,], tasafija_swT,  plazocupon_swT, VTplazos_sw, Xvp[1,]))\n",
        "\n",
        "#Multiplicación de la derivada por el punto x0\n",
        "gt_sw=c( XtfwdT[1,],Xvp[1,])*g_sw\n",
        "VaRTotalDN_sw=sqrt(gt_sw%*%VarCovX_sw%*%t(gt_sw))*qnorm(1-alpha)+sum(dswap_dtt(por_swT, contratos_swT, nominal_swT, XtfwdT[1,], tasafija_swT,  plazocupon_swT, VTplazos_sw, Xvp[1,]))\n",
        "CVaRTotalDN_sw = -sqrt(gt_sw%*%VarCovX_sw%*%t(gt_sw))*dnorm(qnorm(1-alpha))/(1-alpha)+sum(dswap_dtt(por_swT, contratos_swT, nominal_swT, XtfwdT[1,], tasafija_swT,  plazocupon_swT, VTplazos_sw, Xvp[1,]))\n",
        "\n",
        "\n",
        "print(\"VaR Total Delta Normal\")\n",
        "print(VaRTotalDN_sw)\n",
        "print(\"CVaR Total Delta Normal\")\n",
        "print(CVaRTotalDN_sw)\n"
      ],
      "execution_count": 45,
      "outputs": [
        {
          "output_type": "stream",
          "name": "stdout",
          "text": [
            "[1] \"VaR Total Delta Normal\"\n",
            "          [,1]\n",
            "[1,] -1.760433\n",
            "[1] \"CVaR Total Delta Normal\"\n",
            "          [,1]\n",
            "[1,] -2.074991\n"
          ]
        }
      ]
    }
  ]
}