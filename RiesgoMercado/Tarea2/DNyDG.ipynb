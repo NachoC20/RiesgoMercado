{
  "nbformat": 4,
  "nbformat_minor": 0,
  "metadata": {
    "colab": {
      "name": "DNyDG.ipynb",
      "provenance": [],
      "collapsed_sections": [
        "a0zmHY8CcueV",
        "HHcqq_shcvmz",
        "xG2W58trcwe-",
        "mQNUYMe8c2-P",
        "Ji8Uq3EzdU-m",
        "pCEHhalpdZIp",
        "H1S6OC4qdmHE",
        "CfNMTBCFdoty",
        "7cMP2KW5dwN0",
        "Dlq9hyxJd1ZU",
        "l691TCbUd3mt",
        "r0OtCdLqd5P8",
        "XHF4M6hid7BV",
        "igoAbhE5wA7M",
        "reKReYX2xSH0",
        "PR0cZu2twI45"
      ],
      "toc_visible": true,
      "include_colab_link": true
    },
    "kernelspec": {
      "name": "python3",
      "display_name": "Python 3"
    },
    "language_info": {
      "name": "python"
    }
  },
  "cells": [
    {
      "cell_type": "markdown",
      "metadata": {
        "id": "view-in-github",
        "colab_type": "text"
      },
      "source": [
        "<a href=\"https://colab.research.google.com/github/NachoC20/RiesgoMercado/blob/main/RiesgoMercado/Tarea2/DNyDG.ipynb\" target=\"_parent\"><img src=\"https://colab.research.google.com/assets/colab-badge.svg\" alt=\"Open In Colab\"/></a>"
      ]
    },
    {
      "cell_type": "code",
      "metadata": {
        "id": "a2DjS7m7_Mia"
      },
      "source": [
        "%load_ext rpy2.ipython\n",
        "!rm -rf RiesgosFinancieros\n",
        "!git clone \"https://github.com/pikey-msc/RiesgosFinancieros/\""
      ],
      "execution_count": null,
      "outputs": []
    },
    {
      "cell_type": "markdown",
      "metadata": {
        "id": "YF9hg5sOafOd"
      },
      "source": [
        "# Tarea 2"
      ]
    },
    {
      "cell_type": "code",
      "metadata": {
        "id": "zZZQs5jkaZP-",
        "colab": {
          "base_uri": "https://localhost:8080/"
        },
        "outputId": "0eee9e6a-87bd-4cb7-822c-13140608a147"
      },
      "source": [
        "%%R\n",
        "#Instalamos los paquetes que necesitaremos.\n",
        "install.packages(\"quantmod\")\n",
        "install.packages(\"data.table\")\n",
        "install.packages(\"PerformanceAnalytics\")\n",
        "install.packages(\"Deriv\")\n",
        "\n",
        "#Cargamos librerias\n",
        "library(Deriv)\n",
        "library(quantmod)\n",
        "library(data.table)\n",
        "library(\"PerformanceAnalytics\")\n",
        "library(dplyr)\n",
        "\n",
        "con = gzcon(url('https://github.com/systematicinvestor/SIT/raw/master/sit.gz', 'rb'))\n",
        "source(con)\n",
        "close(con)\n"
      ],
      "execution_count": 48,
      "outputs": [
        {
          "output_type": "stream",
          "name": "stderr",
          "text": [
            "R[write to console]: Installing package into ‘/usr/local/lib/R/site-library’\n",
            "(as ‘lib’ is unspecified)\n",
            "\n",
            "R[write to console]: trying URL 'https://cran.rstudio.com/src/contrib/quantmod_0.4.18.tar.gz'\n",
            "\n",
            "R[write to console]: Content type 'application/x-gzip'\n",
            "R[write to console]:  length 154512 bytes (150 KB)\n",
            "\n",
            "R[write to console]: =\n",
            "R[write to console]: =\n",
            "R[write to console]: =\n",
            "R[write to console]: =\n",
            "R[write to console]: =\n",
            "R[write to console]: =\n",
            "R[write to console]: =\n",
            "R[write to console]: =\n",
            "R[write to console]: =\n",
            "R[write to console]: =\n",
            "R[write to console]: =\n",
            "R[write to console]: =\n",
            "R[write to console]: =\n",
            "R[write to console]: =\n",
            "R[write to console]: =\n",
            "R[write to console]: =\n",
            "R[write to console]: =\n",
            "R[write to console]: =\n",
            "R[write to console]: =\n",
            "R[write to console]: =\n",
            "R[write to console]: =\n",
            "R[write to console]: =\n",
            "R[write to console]: =\n",
            "R[write to console]: =\n",
            "R[write to console]: =\n",
            "R[write to console]: =\n",
            "R[write to console]: =\n",
            "R[write to console]: =\n",
            "R[write to console]: =\n",
            "R[write to console]: =\n",
            "R[write to console]: =\n",
            "R[write to console]: =\n",
            "R[write to console]: =\n",
            "R[write to console]: =\n",
            "R[write to console]: =\n",
            "R[write to console]: =\n",
            "R[write to console]: =\n",
            "R[write to console]: =\n",
            "R[write to console]: =\n",
            "R[write to console]: =\n",
            "R[write to console]: =\n",
            "R[write to console]: =\n",
            "R[write to console]: =\n",
            "R[write to console]: =\n",
            "R[write to console]: =\n",
            "R[write to console]: =\n",
            "R[write to console]: =\n",
            "R[write to console]: =\n",
            "R[write to console]: =\n",
            "R[write to console]: =\n",
            "R[write to console]: \n",
            "\n",
            "R[write to console]: downloaded 150 KB\n",
            "\n",
            "\n",
            "R[write to console]: \n",
            "\n",
            "R[write to console]: \n",
            "R[write to console]: The downloaded source packages are in\n",
            "\t‘/tmp/RtmpzOx6Dh/downloaded_packages’\n",
            "R[write to console]: \n",
            "R[write to console]: \n",
            "\n",
            "R[write to console]: Installing package into ‘/usr/local/lib/R/site-library’\n",
            "(as ‘lib’ is unspecified)\n",
            "\n",
            "R[write to console]: trying URL 'https://cran.rstudio.com/src/contrib/data.table_1.14.2.tar.gz'\n",
            "\n",
            "R[write to console]: Content type 'application/x-gzip'\n",
            "R[write to console]:  length 5301817 bytes (5.1 MB)\n",
            "\n",
            "R[write to console]: =\n",
            "R[write to console]: =\n",
            "R[write to console]: =\n",
            "R[write to console]: =\n",
            "R[write to console]: =\n",
            "R[write to console]: =\n",
            "R[write to console]: =\n",
            "R[write to console]: =\n",
            "R[write to console]: =\n",
            "R[write to console]: =\n",
            "R[write to console]: =\n",
            "R[write to console]: =\n",
            "R[write to console]: =\n",
            "R[write to console]: =\n",
            "R[write to console]: =\n",
            "R[write to console]: =\n",
            "R[write to console]: =\n",
            "R[write to console]: =\n",
            "R[write to console]: =\n",
            "R[write to console]: =\n",
            "R[write to console]: =\n",
            "R[write to console]: =\n",
            "R[write to console]: =\n",
            "R[write to console]: =\n",
            "R[write to console]: =\n",
            "R[write to console]: =\n",
            "R[write to console]: =\n",
            "R[write to console]: =\n",
            "R[write to console]: =\n",
            "R[write to console]: =\n",
            "R[write to console]: =\n",
            "R[write to console]: =\n",
            "R[write to console]: =\n",
            "R[write to console]: =\n",
            "R[write to console]: =\n",
            "R[write to console]: =\n",
            "R[write to console]: =\n",
            "R[write to console]: =\n",
            "R[write to console]: =\n",
            "R[write to console]: =\n",
            "R[write to console]: =\n",
            "R[write to console]: =\n",
            "R[write to console]: =\n",
            "R[write to console]: =\n",
            "R[write to console]: =\n",
            "R[write to console]: =\n",
            "R[write to console]: =\n",
            "R[write to console]: =\n",
            "R[write to console]: =\n",
            "R[write to console]: =\n",
            "R[write to console]: \n",
            "\n",
            "R[write to console]: downloaded 5.1 MB\n",
            "\n",
            "\n",
            "R[write to console]: \n",
            "\n",
            "R[write to console]: \n",
            "R[write to console]: The downloaded source packages are in\n",
            "\t‘/tmp/RtmpzOx6Dh/downloaded_packages’\n",
            "R[write to console]: \n",
            "R[write to console]: \n",
            "\n",
            "R[write to console]: Installing package into ‘/usr/local/lib/R/site-library’\n",
            "(as ‘lib’ is unspecified)\n",
            "\n",
            "R[write to console]: trying URL 'https://cran.rstudio.com/src/contrib/PerformanceAnalytics_2.0.4.tar.gz'\n",
            "\n",
            "R[write to console]: Content type 'application/x-gzip'\n",
            "R[write to console]:  length 2455098 bytes (2.3 MB)\n",
            "\n",
            "R[write to console]: =\n",
            "R[write to console]: =\n",
            "R[write to console]: =\n",
            "R[write to console]: =\n",
            "R[write to console]: =\n",
            "R[write to console]: =\n",
            "R[write to console]: =\n",
            "R[write to console]: =\n",
            "R[write to console]: =\n",
            "R[write to console]: =\n",
            "R[write to console]: =\n",
            "R[write to console]: =\n",
            "R[write to console]: =\n",
            "R[write to console]: =\n",
            "R[write to console]: =\n",
            "R[write to console]: =\n",
            "R[write to console]: =\n",
            "R[write to console]: =\n",
            "R[write to console]: =\n",
            "R[write to console]: =\n",
            "R[write to console]: =\n",
            "R[write to console]: =\n",
            "R[write to console]: =\n",
            "R[write to console]: =\n",
            "R[write to console]: =\n",
            "R[write to console]: =\n",
            "R[write to console]: =\n",
            "R[write to console]: =\n",
            "R[write to console]: =\n",
            "R[write to console]: =\n",
            "R[write to console]: =\n",
            "R[write to console]: =\n",
            "R[write to console]: =\n",
            "R[write to console]: =\n",
            "R[write to console]: =\n",
            "R[write to console]: =\n",
            "R[write to console]: =\n",
            "R[write to console]: =\n",
            "R[write to console]: =\n",
            "R[write to console]: =\n",
            "R[write to console]: =\n",
            "R[write to console]: =\n",
            "R[write to console]: =\n",
            "R[write to console]: =\n",
            "R[write to console]: =\n",
            "R[write to console]: =\n",
            "R[write to console]: =\n",
            "R[write to console]: =\n",
            "R[write to console]: =\n",
            "R[write to console]: =\n",
            "R[write to console]: \n",
            "\n",
            "R[write to console]: downloaded 2.3 MB\n",
            "\n",
            "\n",
            "R[write to console]: \n",
            "\n",
            "R[write to console]: \n",
            "R[write to console]: The downloaded source packages are in\n",
            "\t‘/tmp/RtmpzOx6Dh/downloaded_packages’\n",
            "R[write to console]: \n",
            "R[write to console]: \n",
            "\n",
            "R[write to console]: Installing package into ‘/usr/local/lib/R/site-library’\n",
            "(as ‘lib’ is unspecified)\n",
            "\n",
            "R[write to console]: trying URL 'https://cran.rstudio.com/src/contrib/Deriv_4.1.3.tar.gz'\n",
            "\n",
            "R[write to console]: Content type 'application/x-gzip'\n",
            "R[write to console]:  length 37214 bytes (36 KB)\n",
            "\n",
            "R[write to console]: =\n",
            "R[write to console]: =\n",
            "R[write to console]: =\n",
            "R[write to console]: =\n",
            "R[write to console]: =\n",
            "R[write to console]: =\n",
            "R[write to console]: =\n",
            "R[write to console]: =\n",
            "R[write to console]: =\n",
            "R[write to console]: =\n",
            "R[write to console]: =\n",
            "R[write to console]: =\n",
            "R[write to console]: =\n",
            "R[write to console]: =\n",
            "R[write to console]: =\n",
            "R[write to console]: =\n",
            "R[write to console]: =\n",
            "R[write to console]: =\n",
            "R[write to console]: =\n",
            "R[write to console]: =\n",
            "R[write to console]: =\n",
            "R[write to console]: =\n",
            "R[write to console]: =\n",
            "R[write to console]: =\n",
            "R[write to console]: =\n",
            "R[write to console]: =\n",
            "R[write to console]: =\n",
            "R[write to console]: =\n",
            "R[write to console]: =\n",
            "R[write to console]: =\n",
            "R[write to console]: =\n",
            "R[write to console]: =\n",
            "R[write to console]: =\n",
            "R[write to console]: =\n",
            "R[write to console]: =\n",
            "R[write to console]: =\n",
            "R[write to console]: =\n",
            "R[write to console]: =\n",
            "R[write to console]: =\n",
            "R[write to console]: =\n",
            "R[write to console]: =\n",
            "R[write to console]: =\n",
            "R[write to console]: =\n",
            "R[write to console]: =\n",
            "R[write to console]: =\n",
            "R[write to console]: =\n",
            "R[write to console]: =\n",
            "R[write to console]: =\n",
            "R[write to console]: =\n",
            "R[write to console]: =\n",
            "R[write to console]: \n",
            "\n",
            "R[write to console]: downloaded 36 KB\n",
            "\n",
            "\n",
            "R[write to console]: \n",
            "\n",
            "R[write to console]: \n",
            "R[write to console]: The downloaded source packages are in\n",
            "\t‘/tmp/RtmpzOx6Dh/downloaded_packages’\n",
            "R[write to console]: \n",
            "R[write to console]: \n",
            "\n"
          ]
        }
      ]
    },
    {
      "cell_type": "code",
      "metadata": {
        "id": "OX-Swe-xak4w"
      },
      "source": [
        "%%R\n",
        "## GENERAMOS LAS FUNCIONES QUE NECESITAREMOS:\n",
        "\n",
        "# Función de interpolación de tasas por el método alamabrada\n",
        "talamb=function(nodos,curva,plazos){\n",
        "  n=max(ncol(plazos),1)\n",
        "  m=max(ncol(nodos),1)\n",
        "  TC=matrix(0,1,n)\n",
        "  TL=matrix(0,1,n)\n",
        "  TF=matrix(0,1,n)\n",
        "  for (j in 1:n){\n",
        "    i=1\n",
        "    repeat\n",
        "    {\n",
        "      if(nodos[i]<= plazos[j] && plazos[j] <=nodos[i+1])\n",
        "      {\n",
        "        TC[j]=curva[i]\n",
        "        TL[j]=curva[i+1]\n",
        "        TF[j]=((((1+TL[j]*nodos[i+1]/360)/(1+TC[j]*nodos[i]/360))^((plazos[j]-nodos[i])/(nodos[i+1]-nodos[i]))*(1+TC[j]*nodos[i]/360))-1)*360/plazos[j]\n",
        "        break\n",
        "      }\n",
        "      else if (plazos[j]<nodos[1])\n",
        "      {\n",
        "        TC[j]=curva[1]\n",
        "        TL[j]=curva[1]\n",
        "        TF[j]=curva[1]\n",
        "        break\n",
        "      }\n",
        "      else if (plazos[j]>nodos[m])\n",
        "      {\n",
        "        TC[j]=curva[m]\n",
        "        TL[j]=curva[m]\n",
        "        TF[j]=curva[m]\n",
        "        break\n",
        "      }\n",
        "      else\n",
        "      {i=i+1}\n",
        "    }\n",
        "  }\n",
        "  as.matrix(t(as.numeric(rbind(TF))))\n",
        "}\n",
        "\n",
        "# Función para diagonalizar un vector\n",
        "diagv=function(x)\t{\n",
        "  n01=nrow(as.matrix(x))\n",
        "  m01=ncol(as.matrix(x))\n",
        "  dimmax=max(n01,m01)\n",
        "  res=matrix(0,dimmax,dimmax)\n",
        "  for (i in 1:dimmax){\n",
        "    res[i,i]=x[i]\n",
        "  }\n",
        "  res\n",
        "}\n",
        "\n",
        "#Función de cuantil más cercano\n",
        "equantile <- function(v,p=.5,ns=nrow(as.matrix(v))) \n",
        "{ \n",
        "  if ( !is.numeric(p) || any( p<0 | p>1) ) \n",
        "    stop(\"Percentil tiene que ser 0<=p<=1\") \n",
        "  ranking <- order(v) \n",
        "  vw=matrix(0,ns,1)\n",
        "  vw[1:ns]=seq(1/ns,ns)  \n",
        "  sumw <- cumsum(vw[ranking]) \n",
        "  plist <- sumw / sumw[ length(sumw) ] \n",
        "  v [ ranking [ which.max( plist >= p ) ] ]  \n",
        "} "
      ],
      "execution_count": 49,
      "outputs": []
    },
    {
      "cell_type": "code",
      "metadata": {
        "id": "xL95WskZax-R"
      },
      "source": [
        "%%R\n",
        "#VaR con alisado\n",
        "\n",
        "wquantile <- function(v,w=rep(1,length(v)),p=.5) \n",
        "{ \n",
        "  if ( !is.numeric(w) || length(v) != length(w) ) \n",
        "    stop(\"Los valores y los pesos tienen que tener misma longitud\") \n",
        "  if ( !is.numeric(p) || any( p<0 | p>1) ) \n",
        "    stop(\"Percentil tiene que ser 0<=p<=1\") \n",
        "  if ( min(w) < 0 ) stop(\"Los pesos tiene que ser mayores que 0\") \n",
        "  ranking <- order(v) \n",
        "  sumw <- cumsum(w[ranking]) \n",
        "  plist <- sumw / sumw[ length(sumw) ] \n",
        "  v [ ranking [ which.max( plist >= p ) ] ]  \n",
        "} \n",
        "\n",
        "#CVaR con alisado\n",
        "wcvar <- function(v,w=rep(1,length(v)),p=.5) \n",
        "{ \n",
        "  if ( !is.numeric(w) || length(v) != length(w) ) \n",
        "    stop(\"Los valores y los pesos tienen que tener misma longitud\") \n",
        "  if ( !is.numeric(p) || any( p<0 | p>1) ) \n",
        "    stop(\"Percentil tiene que ser 0<=p<=1\") \n",
        "  if ( min(w) < 0 ) stop(\"Los pesos tiene que ser mayores que 0\") \n",
        "  ranking <- order(v) \n",
        "  sumw <- cumsum(w[ranking]) \n",
        "  plist <- sumw / sumw[ length(sumw) ] \n",
        "  loss= v [ ranking [ which( plist <= p ) ] ]  \n",
        "  esc=w [ ranking [ which( plist <= p ) ] ]  \n",
        "  sum(loss*esc)/(sum(esc))\n",
        "} "
      ],
      "execution_count": 50,
      "outputs": []
    },
    {
      "cell_type": "markdown",
      "metadata": {
        "id": "pUnxfbtGa3gz"
      },
      "source": [
        "## **Definición de parámetros para valorar**"
      ]
    },
    {
      "cell_type": "code",
      "metadata": {
        "id": "5YXSCZ5Aa8mP"
      },
      "source": [
        "%%R\n",
        "fval=as.Date(\"20211015\",format=\"%Y%m%d\") #Fecha de valoración"
      ],
      "execution_count": 51,
      "outputs": []
    },
    {
      "cell_type": "code",
      "metadata": {
        "id": "Y7c1MJz_bAR8"
      },
      "source": [
        "%%R\n",
        "alpha = 0.98 #@param {type:\"slider\", min:0, max:1, step:0.01}"
      ],
      "execution_count": 52,
      "outputs": []
    },
    {
      "cell_type": "code",
      "metadata": {
        "id": "M-EK780MbD5C"
      },
      "source": [
        "%%R\n",
        "#poner 0 si se quiere interpolación lineal o 1 si se quiere tasa alambrada\n",
        "itpl = 0 #@param [\"0\", \"1\"] {type:\"raw\"} "
      ],
      "execution_count": 53,
      "outputs": []
    },
    {
      "cell_type": "markdown",
      "metadata": {
        "id": "quWsKRfFbHen"
      },
      "source": [
        "### Inciso 1\n",
        "1000 acciones de GCarso, -5000 de AméricaMóvil y 1200 WalMart. *Todas de la BMV*"
      ]
    },
    {
      "cell_type": "code",
      "metadata": {
        "id": "OD4D__mcbMhr"
      },
      "source": [
        "%%R\n",
        "Symbols<-c  (\"AMXL.MX\", \"GCARSOA1.MX\", \"WALMEX.MX\" )#Claves de cotización de las emisoras, en orden alfabético\n",
        "pos_eq=c(-5000,1000,1200) #Monto inicial invertido en acciones\n",
        "nh=3660 #Días de historia"
      ],
      "execution_count": 54,
      "outputs": []
    },
    {
      "cell_type": "markdown",
      "metadata": {
        "id": "KeznTA0zbQRo"
      },
      "source": [
        "### Inciso 2\n",
        "1500 dólares (peso dólar), 700 euros, y -600 libras esterlinas."
      ]
    },
    {
      "cell_type": "code",
      "metadata": {
        "id": "xHeyiphLbVx9"
      },
      "source": [
        "%%R\n",
        "SymbolsFX<-c(\"EURUSD=X\",\"GBPUSD=X\",\"USDMXN=X\" ) #Simbolos en orden alfabetico\n",
        "pos_fx=c(700,-600,1500) #Monto incial invertido en divisas\n",
        "nh=3660 #días de historia"
      ],
      "execution_count": 55,
      "outputs": []
    },
    {
      "cell_type": "markdown",
      "metadata": {
        "id": "P6jqXMvIbZb4"
      },
      "source": [
        "### Inciso 3\n",
        "2 bonos largos, uno cupón cero de cetes (con la curva guber) con nocional de 1500 vencimiento de 180 días, un bono M con tasa fija de 4.5% con un cupon de 4.05% anual vencimiento de 3600 días y un bono corto 1000 bondes con plazo 707 con cupón que paga 28 días (calcular cupón basado en curva de fondeo y descontar con la curva correspondiente). "
      ]
    },
    {
      "cell_type": "code",
      "metadata": {
        "id": "w5iX74rYbdFI"
      },
      "source": [
        "%%R\n",
        "\n",
        "#CETES\n",
        "base=\"RiesgosFinancieros/2022-1/Tarea/tasa_guber.txt\"\n",
        "ven_cete = cbind(180, 0)\n",
        "contratos_cete = cbind(1500, 0)\n",
        "nominal_cete = 10\n",
        "\n",
        "\n",
        "#BONO M CON TASA FIJA\n",
        "btasadesc=\"RiesgosFinancieros/2022-1/Tarea/tasa_yield.txt\"\n",
        "tf = cbind(0.045,0)\n",
        "tfcupon = cbind(0.0405, 0)\n",
        "ven_bonom = cbind(3600, 0)\n",
        "plazocupon_bonom = cbind(182, 0)\n",
        "contratos_bonom = cbind(1000, 0)\n",
        "nominal_bonom = 100\n",
        "\n",
        "#BONDES D\n",
        "btasadescst=\"RiesgosFinancieros/2022-1/Tarea/tasa_guber_st.txt\"\n",
        "btasafondeo=\"RiesgosFinancieros/2022-1/Tarea/tfondeo.txt\"\n",
        "plazos_bdm= cbind(707, 707) #Vencimiento del bono\n",
        "plazocupon_bdm= cbind(28, 28) #plazos_bdm fijos de cada cupón\n",
        "contratos_bdm = cbind(-1000, 0)\n",
        "nominal_bdm=100"
      ],
      "execution_count": 56,
      "outputs": []
    },
    {
      "cell_type": "markdown",
      "metadata": {
        "id": "s106nu2Kbisj"
      },
      "source": [
        "###Inciso 4\n",
        "100 contratos de compra de futuros de peso dólar con un strike de 20.83 vencimiento de 5 días, y 50 contratos\n",
        "de venta de futuros del IPC con strike de 49525 vencimiento de 53 días."
      ]
    },
    {
      "cell_type": "code",
      "metadata": {
        "id": "Sq9TsyoPbl3i"
      },
      "source": [
        "%%R\n",
        "#FORWARDS TDC\n",
        "bext=\"RiesgosFinancieros/2022-1/Tarea/tasa_libor.txt\"\n",
        "bdom=\"RiesgosFinancieros/2022-1/Tarea/tasa_fwd.txt\"\n",
        "SymbolsFX_ftdc<-c(\"USDMXN=X\", \"GBPUSD=X\" ) #tienen que ir en orden alfabético\n",
        "plazos_fwd=cbind(5,5)\n",
        "contratos_fwd=cbind(100,0)\n",
        "kst_fwd=cbind(20.83,20.83)\n",
        "nominal_fwd=1\n",
        "yext=1 #si se carga información de yahoo en la fecha definida por fval o SymbolsFX, en caso contrario se utiliza información que se tendrá que cargar de tasas_spot.txt\n",
        "trlib=1 #1 si la curva libor viene a 182 0 si no.\n",
        "\n",
        "#FORWARDS DE IPC\n",
        "#Descontamos con gubernamental\n",
        "base=\"RiesgosFinancieros/2022-1/Tarea/tasa_guber.txt\"\n",
        "SymbolsEQ_find<-c(\"^MXX\", \"GCARSOA1.MX\" ) #tienen que ir en orden alfabético\n",
        "plazos_fwd_ind=cbind(53,53)\n",
        "contratos_fwd_ind=cbind(50,0)\n",
        "kst_fwd_ind=cbind(49525,49525)\n",
        "nominal_fwd_ind=1"
      ],
      "execution_count": 57,
      "outputs": []
    },
    {
      "cell_type": "markdown",
      "metadata": {
        "id": "P5Z182t1bqSg"
      },
      "source": [
        "### Inciso 5\n",
        "\n",
        "Un swap largo nocional de 1600 pagando tasa fija de 4.6% anual (cada 28 días) y recibiendo tasa flotante de la curva TIIE vencimiento de 588 días, un swap corto con nocional de 1200 pagando tasa variable de la TIIE y recibiendo fija de 4.9% vencimiento de 270."
      ]
    },
    {
      "cell_type": "code",
      "metadata": {
        "id": "4b6MAsc9bt-0"
      },
      "source": [
        "%%R\n",
        "btasadesc_sw=\"RiesgosFinancieros/2022-1/Tarea/tasa_TIIE_SW_OP.txt\"\n",
        "btasacupvar_sw=\"RiesgosFinancieros/2022-1/Tarea/tasa_DIRS_SW_OP.txt\"\n",
        "tasafija_sw=cbind(0.046,0.049) #se establece la tasa fija a pagar para cada swap\n",
        "plazos_sw=cbind(588,270) #se establece el número de días que vivirá el swap\n",
        "plazocupon_sw=cbind(28,28) #se establece el número de días que se pagará cada cupón\n",
        "contratos_sw=cbind(1600,-1200) #se establece el número de contratos_sw de cada swap\n",
        "nominal_sw=cbind(1, 1) #se establece el nominal_sw de cada swap\n",
        "por_sw=cbind(0,1) #se establece 0 si se paga tasa fija y 1 si se paga tasa variable"
      ],
      "execution_count": 58,
      "outputs": []
    },
    {
      "cell_type": "markdown",
      "metadata": {
        "id": "li4reWgTbxwA"
      },
      "source": [
        "### Inciso 6\n",
        "Dos opciones europeas, una de tasa de interés larga call con strike de 5.8 % vencimiento de 1700 días 1000\n",
        "contratos, y otra put larga de tasa de interés con strike de 6.0 % de la tiie nocional de 500 contratos vencimiento\n",
        "700 días. (se valuará basado en las superficies de volatilidad si es in o out the money y en las curvas de tasa de interés TIIE o Pagarés)."
      ]
    },
    {
      "cell_type": "code",
      "metadata": {
        "id": "nxZZlEMob2vo"
      },
      "source": [
        "%%R\n",
        "btasadesc_oir=\"RiesgosFinancieros/2022-1/Tarea/tasa_TIIE_SW_OP.txt\" #Tasa de descuento\n",
        "btasaspot_oir=\"RiesgosFinancieros/2022-1/Tarea/tasa_DIRS_SW_OP.txt\" #Tasa Spot\n",
        "bvolspot_oir=\"RiesgosFinancieros/2022-1/Tarea/tvoltiie_opc.txt\" #Volatilidad\n",
        "plazos_oir=cbind( 1700, 700) #T-t\n",
        "pr_oir=28 #plazo de referencia  \n",
        "dct_oir=360 #d_base\n",
        "cp_oir=cbind(1,0) #si es call (cap) o put (floor) \n",
        "K_oir=cbind( 0.058,0.06) #Strike\n",
        "contratos_oir=cbind(1000,500)\n",
        "nominal_oir=1\n",
        "cs_oir=1 #1 si es continua la tasa 0 si es simple"
      ],
      "execution_count": 59,
      "outputs": []
    },
    {
      "cell_type": "markdown",
      "metadata": {
        "id": "Y4nVDmF0b7gn"
      },
      "source": [
        "## **Carga de datos**"
      ]
    },
    {
      "cell_type": "markdown",
      "metadata": {
        "id": "Vx4v3M7hb_-6"
      },
      "source": [
        "### Inciso 1"
      ]
    },
    {
      "cell_type": "code",
      "metadata": {
        "id": "VLYt1icYcby_"
      },
      "source": [
        "%%R\n",
        "start_date=Sys.Date()-nh #fecha inicial\n",
        "dataEnv<-new.env()\n",
        "getSymbols.yahoo(Symbols,env=dataEnv,from=start_date)\n",
        "\n",
        "bt.prep(dataEnv,align='remove.na',fill.gaps = T)\n",
        "stock_prices = dataEnv$prices"
      ],
      "execution_count": 60,
      "outputs": []
    },
    {
      "cell_type": "markdown",
      "metadata": {
        "id": "HYxfxygecfm6"
      },
      "source": [
        "###Inciso 2"
      ]
    },
    {
      "cell_type": "code",
      "metadata": {
        "id": "Ts7GMM5UcqBk"
      },
      "source": [
        "%%R\n",
        "  start_date=Sys.Date()-nh #fecha inicial\n",
        "  dataEnvFX<-new.env() #Creamos donde guardar los datos\n",
        "  getSymbols.yahoo(SymbolsFX,env=dataEnvFX,from=start_date) #Obtenemos los datps\n",
        "  bt.prep(dataEnvFX,align='remove.na',fill.gaps=T) #Limpieza de datos\n",
        "  stock_pricesFX = dataEnvFX$prices #Nos da el precio\n",
        "\n",
        "  stock_pricesFX=cbind(stock_pricesFX[,1,with=F]*stock_pricesFX[,3,with=F],stock_pricesFX[,2,with=F]*stock_pricesFX[,3,with=F],stock_pricesFX[,3,with=F])\n",
        "stock_prices_EQFX=merge(stock_pricesFX,stock_prices,join = \"inner\")\n",
        "\n",
        "aux2=data.table(Date=as.Date(index(stock_prices_EQFX)),coredata(stock_prices_EQFX))\n"
      ],
      "execution_count": 61,
      "outputs": []
    },
    {
      "cell_type": "markdown",
      "metadata": {
        "id": "a0zmHY8CcueV"
      },
      "source": [
        "###Inciso 3"
      ]
    },
    {
      "cell_type": "code",
      "metadata": {
        "id": "nVrdYFIdcu8T",
        "colab": {
          "base_uri": "https://localhost:8080/"
        },
        "outputId": "127d83f7-28b7-4b17-cd83-b7bc02f2f7b6"
      },
      "source": [
        "%%R\n",
        "\n",
        "# CETES\n",
        "data_cetes<-read.table(base)\n",
        "n_gov<-nrow(data_cetes)\n",
        "m_gov=ncol(data_cetes)\n",
        "x_orig_gov=data.frame(data_cetes[2:n_gov,1:m_gov])\n",
        "x_orig_gov=as.data.table(mutate(data_cetes[2:n_gov,1:m_gov],Date=as.Date(V1,format=\"%Y%m%d\")))\n",
        "x_orig_gov=x_orig_gov%>%select(-V1)\n",
        "nodos_gov=data.frame(data_cetes[1,2:m_gov])\n",
        "\n",
        "# BONO M\n",
        "data_m<-read.table(btasadesc)\n",
        "n_bonom<-nrow(data_m)\n",
        "m_bonom=ncol(data_m)\n",
        "x_orig_bonom=data.frame(data_m[2:n_bonom,1:m_bonom])\n",
        "x_orig_bonom=as.data.table(mutate(data_m[2:n_bonom,1:m_bonom],Date=as.Date(V1,format=\"%Y%m%d\")))\n",
        "x_orig_bonom=x_orig_bonom%>%select(-V1)\n",
        "nodos_bonom=data.frame(data_m[1,2:m_bonom])\n",
        "\n",
        "# BONDE D\n",
        "\n",
        "data1<-read.table(base)\n",
        "n<-nrow(data1)\n",
        "m_bd=ncol(data1)\n",
        "X_orig_bd=as.data.table(mutate(data1[2:n,1:m_bd],Date=as.Date(V1,format=\"%Y%m%d\")))\n",
        "X_orig_bd%>%select(-V1)\n",
        "\n",
        "X1_orig=mutate(data.frame(data1[2:n,1:m_bd]), V1=as.Date(V1,format=\"%Y%m%d\"))\n",
        "print(head(X1_orig[,1:4]))\n",
        "nodos=data.frame(data1[1,2:m_bd])\n",
        "n=n-1\n",
        "\n",
        "data3<-read.table(btasadescst)\n",
        "n3<-nrow(data3)\n",
        "m3_bd=ncol(data3)\n",
        "X3_orig_bd=as.data.table(mutate(data3[2:n,1:m3_bd],Date=as.Date(V1,format=\"%Y%m%d\")))\n",
        "X3_orig_bd=X3_orig_bd%>%select(-V1)\n",
        "\n",
        "X3a_orig=mutate(data.frame(data1[2:n,1:m_bd]), V1=as.Date(V1,format=\"%Y%m%d\"))\n",
        "nodos3_bd=data.frame(data3[1,2:m3_bd])\n",
        "n3=n3-1\n",
        "\n",
        "data2<-read.table(btasafondeo)\n",
        "n2<-nrow(data2)\n",
        "X2_orig_bd=data.frame(data2[2:n2,1:2])\n",
        "\n",
        "X2_orig_bd=mutate(X2_orig_bd, V1=as.Date(V1,format=\"%Y%m%d\"), Date=as.Date(V1,format=\"%Y%m%d\"), V2=as.numeric(as.character(V2)))\n",
        "tfh=seq(min(X2_orig_bd$V1), max(X2_orig_bd$V1), \"days\") #sucesión de dias para tasa fondeo\n",
        "tfhd=data.frame(ID=1:count(tfh),fecha=tfh)\n",
        "\n",
        "#Cruzar la sucesión de todos los días versus el de tasa de fondeo\n",
        "tfhd=setDT(tfhd)[, Date := tfh][order(-Date)]\n",
        "X2_orig_bd=setDT(X2_orig_bd)[, Date := V1][order(-Date)]\n",
        "# rolling join unión por rolling, rellena las fechas que faltaban con el último valor conocido \"roll=Inf\"\n",
        "X2_orig_bd=X2_orig_bd[tfhd, on = .(Date), roll = Inf] \n",
        "\n",
        "#buscar fecha de valuación en tfondeo\n",
        "tf_act=X2_orig_bd[fecha==fval,]$V2/100\n",
        "tf_int=X2_orig_bd[fecha<=fval & fecha>=(fval-plazocupon_bdm[1])]$V2/100\n",
        "\n",
        "X1_orig=setDT(X1_orig)[, Date:= V1][order(-Date)] #Para alinear con valor presente y tasa de fondeo.\n"
      ],
      "execution_count": 62,
      "outputs": [
        {
          "output_type": "stream",
          "name": "stdout",
          "text": [
            "          V1         V2         V3         V4\n",
            "2 2021-10-15 0.04850092 0.04790516 0.04729400\n",
            "3 2021-10-14 0.04737299 0.04790516 0.04729400\n",
            "4 2021-10-13 0.04737299 0.04790516 0.04751145\n",
            "5 2021-10-12 0.04793244 0.04790516 0.04751145\n",
            "6 2021-10-11 0.04737299 0.04790516 0.04751145\n",
            "7 2021-10-08 0.04737299 0.04786294 0.04751145\n"
          ]
        }
      ]
    },
    {
      "cell_type": "markdown",
      "metadata": {
        "id": "HHcqq_shcvmz"
      },
      "source": [
        "###Inciso 4"
      ]
    },
    {
      "cell_type": "code",
      "metadata": {
        "id": "3sz1misScwAb"
      },
      "source": [
        "%%R\n",
        "#CARGA DE DATOS DE  FORWARDS DE TDC\n",
        "#datas\n",
        "#data<-read.table(\"tasa_tiie.txt\")\n",
        "data1<-read.table(bext)\n",
        "data2<-read.table(bdom)\n",
        "\n",
        "########minimos para parametrizar\n",
        "n1=nrow(data1)\n",
        "n2=nrow(data2)\n",
        "m1_ftdc=ncol(data1)\n",
        "m2_ftdc=ncol(data2)\n",
        "n=min(n1,n2)-1\n",
        "###NODOS###\n",
        "nodos1_ftdc=data.frame(data1[1,2:m1_ftdc])\n",
        "nodos2_ftdc=data.frame(data2[1,2:m2_ftdc])\n",
        "####MATRICES DEL MISMO TAMAÑO MENOS DOLAR\n",
        "\n",
        "x1_ftdc=as.data.table(mutate(data1[2:n,1:m1_ftdc],Date=as.Date(V1,format=\"%Y%m%d\")))\n",
        "\n",
        "x1_ftdc=x1_ftdc%>%select(-V1)\n",
        "x2_ftdc=as.data.table(mutate(data2[2:n,1:m2_ftdc],Date=as.Date(V1,format=\"%Y%m%d\")))\n",
        "x2_ftdc=x2_ftdc%>%select(-V1)\n",
        "\n",
        "\n",
        "###Para Dolar\n",
        "\n",
        "if (yext==1)\n",
        "{\n",
        "#Cargar los símbolos de yahoo finance para FX\n",
        "  start_date=fval-3660 #fecha inicial\n",
        "\n",
        "\n",
        "  \n",
        "#Creación del objeto para guardar los datos\n",
        "  dataEnvFX_ftdc<-new.env()\n",
        "  \n",
        "#obtener los datos\n",
        "  getSymbols.yahoo(SymbolsFX_ftdc,env=dataEnvFX_ftdc,from=start_date, to=(fval))\n",
        "#limpiarlos, alinearnos y quedarnos con el precio de cierre \n",
        "  bt.prep(dataEnvFX_ftdc,align='remove.na',fill.gaps=T)\n",
        "  \n",
        "#muestra de datos\n",
        "  head(dataEnvFX_ftdc$prices[,2])\n",
        "  \n",
        "#Nos quedamos con los precios\n",
        "  X3_ftdc=data.table(Date=as.Date(index(dataEnvFX_ftdc$prices[,2])),coredata(dataEnvFX_ftdc$prices[,2]))\n",
        "} else  \n",
        "{ \n",
        "data3<-read.table(btsp)\n",
        "n3<-nrow(data3)\n",
        "m3<-ncol(data3)\n",
        "X3=data.table(as.matrix(as.double(as.matrix(data3[2:(n+1),m3]))))\n",
        "X3_find=as.data.table(mutate(data3[2:(n+1),1:m3],Date=as.Date(V1,format=\"%Y%m%d\")))\n",
        "}\n",
        "\n",
        "\n",
        "# CARGA DE DATOS DE  FORWARD DE IPC\n",
        "\n",
        "data<-read.table(base)\n",
        "n<-nrow(data)\n",
        "m_gov=ncol(data)\n",
        "#x_orig_gov=data.frame(data[2:n,1:m_gov])\n",
        "x_orig_gov=as.data.table(mutate(data[2:n,1:m_gov],Date=as.Date(V1,format=\"%Y%m%d\")))\n",
        "x_orig_gov=x_orig_gov%>%select(-V1)\n",
        "nodos_gov=data.frame(data[1,2:m_gov])\n",
        "\n",
        "  #Cargar los símbolos de yahoo finance para EQ\n",
        "  start_date=fval-nh #fecha inicial\n",
        "  \n",
        "  #Creación del objeto para guardar los datos\n",
        "  dataEnvEQ<-new.env()\n",
        "  \n",
        "  #obtener los datos\n",
        "  getSymbols.yahoo(SymbolsEQ_find,env=dataEnvEQ,from=start_date, to=(fval))\n",
        "  #limpiarlos, alinearnos y quedarnos con el precio de cierre \n",
        "  bt.prep(dataEnvEQ,align='remove.na',fill.gaps=T)\n",
        "  \n",
        "  #muestra de datos\n",
        "#  head(dataEnvEQ$prices)\n",
        "  \n",
        "  #Nos quedamos con los precios\n",
        "  X3_find=data.table(Date=as.Date(index(dataEnvEQ$prices[,2])),coredata(dataEnvEQ$prices[,2]))"
      ],
      "execution_count": 63,
      "outputs": []
    },
    {
      "cell_type": "markdown",
      "metadata": {
        "id": "xG2W58trcwe-"
      },
      "source": [
        "###Inciso 5"
      ]
    },
    {
      "cell_type": "code",
      "metadata": {
        "id": "voIQUqkUcxHL"
      },
      "source": [
        "%%R\n",
        "data1<-read.table(btasadesc_sw)\n",
        "n1<-nrow(data1)\n",
        "m1_orig_sw=ncol(data1)\n",
        "X1_orig_sw=data.table(mutate(data1[2:n1,1:m1_orig_sw],Date=as.Date(V1,format=\"%Y%m%d\")))\n",
        "X1_orig_sw=X1_orig_sw%>%select(-V1)\n",
        "nodos1_sw=data.frame(data1[1,2:m1_orig_sw])\n",
        "  \n",
        "data2<-read.table(btasacupvar_sw)\n",
        "n2<-nrow(data2)\n",
        "m2_orig_sw=ncol(data2)\n",
        "X2_orig_sw=data.table(mutate(data2[2:n1,1:m1_orig_sw],Date=as.Date(V1,format=\"%Y%m%d\")))\n",
        "X2_orig_sw=X2_orig_sw%>%select(-V1)\n",
        "nodos2_sw=data.frame(data2[1,2:m2_orig_sw])"
      ],
      "execution_count": 64,
      "outputs": []
    },
    {
      "cell_type": "markdown",
      "metadata": {
        "id": "mQNUYMe8c2-P"
      },
      "source": [
        "###Inciso 6"
      ]
    },
    {
      "cell_type": "code",
      "metadata": {
        "id": "0XIOru6ndQ1g"
      },
      "source": [
        "%%R\n",
        "  #carga de rho\t\n",
        "  data1<-read.table(btasadesc_oir) \n",
        "  n<-nrow(data1)\n",
        "  m1_orig_oir=ncol(data1)\n",
        "  x1_orig_oir=data.table(mutate(data1[2:n,1:m1_orig_oir],Date=as.Date(V1,format=\"%Y%m%d\")))\n",
        "  x1_orig_oir=x1_orig_oir%>%select(-V1)\n",
        "  nodos1_oir=data.frame(data1[1,2:m1_orig_oir])\n",
        "  \n",
        "  #data1[1:3,]\n",
        "  #carga de tasas spot\n",
        "  data2<-read.table(btasaspot_oir)\n",
        "  n<-nrow(data2)\n",
        "  m2_orig_oir=ncol(data2)\n",
        "  x2_orig_oir=data.table(mutate(data2[2:n,1:m2_orig_oir],Date=as.Date(V1,format=\"%Y%m%d\")))\n",
        "  x2_orig_oir=x2_orig_oir%>%select(-V1)\n",
        "  nodos2_oir=data.frame(data2[1,2:m2_orig_oir])\n",
        "  #carga de volatilidades de spot\n",
        "  data3<-read.table(bvolspot_oir)\n",
        "  n<-nrow(data3)\n",
        "  m3_orig_oir=ncol(data3)\n",
        "  x3_orig_oir=data.table(mutate(data3[2:n,1:m3_orig_oir],Date=as.Date(V1,format=\"%Y%m%d\")))\n",
        "  x3_orig_oir=x3_orig_oir%>%select(-V1)\n",
        "  \n",
        "  nodos3_oir=data.frame(data3[1,2:m3_orig_oir])"
      ],
      "execution_count": 65,
      "outputs": []
    },
    {
      "cell_type": "markdown",
      "metadata": {
        "id": "Ji8Uq3EzdU-m"
      },
      "source": [
        "##**Integración de Insumos**"
      ]
    },
    {
      "cell_type": "markdown",
      "metadata": {
        "id": "pCEHhalpdZIp"
      },
      "source": [
        "### Cruce de tablas"
      ]
    },
    {
      "cell_type": "code",
      "metadata": {
        "id": "0_yicFZrdcTz",
        "colab": {
          "base_uri": "https://localhost:8080/"
        },
        "outputId": "05f48add-c00f-4ca5-9025-5bed9ea04414"
      },
      "source": [
        "%%R\n",
        "#INTERSECCIÓN DE FECHAS DE TODOS LOS INSUMOS    \n",
        "  \n",
        "\n",
        "lin_gub=data.table(Date=as.Date(aux2[x_orig_gov,on=.(Date),nomatch=0]$Date)) #Fechas acciones, equity, guber, yield\n",
        "\n",
        "#lin_gub_aux=data.table(Date=as.Date(lin_gub[x_orig_bonom,on=.(Date),nomatch=0]$Date)) \n",
        "\n",
        "lin_gub_bmybdst_aux=data.table(Date=as.Date(lin_gub[X3_orig_bd,on=.(Date),nomatch=0]$Date)) #Fechas acciones, equity, guber, yield y st (bonde)\n",
        "\n",
        "\n",
        "lin_gub_bmybdst=data.table(Date=as.Date(X3_ftdc[lin_gub_bmybdst_aux,on=.(Date),nomatch=0]$Date)) #Fechas acciones, equity, guber, yield y st (bonde)\n",
        "\n",
        "lin_gub_bmybdst_flib=data.table(Date=as.Date(lin_gub_bmybdst[x1_ftdc,on=.(Date),nomatch=0]$Date)) #Fechas acciones, equity, guber, yield,  st (bonde), libor\n",
        "\n",
        "lin_gub_bmybdst_flibfwd=data.table(Date=as.Date(lin_gub_bmybdst_flib[x2_ftdc,on=.(Date),nomatch=0]$Date)) #Fechas acciones, equity, guber, yield, st (bonde), libor, fwd\n",
        "\n",
        "lin_gub_bmybdst_flibfwdspind=data.table(Date=as.Date(lin_gub_bmybdst_flibfwd[X3_find,on=.(Date),nomatch=0]$Date)) #Fechas acciones, equity, guber, yield, st (bonde), libor, fwd, spot, equity or index\n",
        "\n",
        "\n",
        "\n",
        "lin_gub_bmybdst_flibfwdspind_swcup=data.table(Date=as.Date(lin_gub_bmybdst_flibfwdspind[X1_orig_sw,on=.(Date),nomatch=0]$Date)) #Fechas acciones, equity, guber, yield, st (bonde), libor, fwd, spot, equity or index, swap cupón\n",
        "\n",
        "lin_gub_bmybdst_flibfwdspind_swcupvp=data.table(Date=as.Date(lin_gub_bmybdst_flibfwdspind_swcup[X2_orig_sw,on=.(Date),nomatch=0]$Date)) #Fechas acciones, equity, guber, yield, st (bonde), libor, fwd, spot, equity or index, swap cupón\n",
        "\n",
        "lin_gub_bmybdst_flibfwdspind_swcupvp_oirs=data.table(Date=as.Date(lin_gub_bmybdst_flibfwdspind_swcupvp[x1_orig_oir,on=.(Date),nomatch=0]$Date)) #Fechas acciones, equity, guber, yield, st (bonde), libor, fwd, spot, equity or index, swap cupón, opciones ir spot\n",
        "\n",
        "lin_gub_bmybdst_flibfwdspind_swcupvp_oirsvp=data.table(Date=as.Date(lin_gub_bmybdst_flibfwdspind_swcupvp_oirs[x2_orig_oir,on=.(Date),nomatch=0]$Date)) #Fechas acciones, equity, guber, yield, st (bonde), libor, fwd, spot, equity or index, swap cupón, opciones ir spot, opc ir vp\n",
        "\n",
        "lin_gub_bmybdst_flibfwdspind_swcupvp_oirsvpvol=data.table(Date=as.Date(lin_gub_bmybdst_flibfwdspind_swcupvp_oirsvp[x3_orig_oir,on=.(Date),nomatch=0]$Date)) #Fechas acciones, equity, guber, yield, st (bonde), libor, fwd, spot, equity or index, swap cupón, opciones ir spot, opc ir vp, opc ir vol\n",
        "\n",
        "\n",
        "lin_gub_bmybdst_flibfwdspind_swcupvp_oirsvpvol=unique(lin_gub_bmybdst_flibfwdspind_swcupvp_oirsvpvol)\n",
        "print(lin_gub_bmybdst_flibfwdspind_swcupvp_oirsvpvol)"
      ],
      "execution_count": 66,
      "outputs": [
        {
          "output_type": "stream",
          "name": "stdout",
          "text": [
            "           Date\n",
            "  1: 2021-10-14\n",
            "  2: 2021-10-13\n",
            "  3: 2021-10-12\n",
            "  4: 2021-10-11\n",
            "  5: 2021-10-08\n",
            " ---           \n",
            "249: 2020-10-20\n",
            "250: 2020-10-19\n",
            "251: 2020-10-16\n",
            "252: 2020-10-15\n",
            "253: 2020-10-14\n"
          ]
        }
      ]
    },
    {
      "cell_type": "markdown",
      "metadata": {
        "id": "H1S6OC4qdmHE"
      },
      "source": [
        "### Formato de historia"
      ]
    },
    {
      "cell_type": "markdown",
      "metadata": {
        "id": "CfNMTBCFdoty"
      },
      "source": [
        "#### Historia de todos"
      ]
    },
    {
      "cell_type": "code",
      "metadata": {
        "id": "GR3OTHBZdlLA",
        "colab": {
          "base_uri": "https://localhost:8080/"
        },
        "outputId": "c52bde1e-0545-4d5e-9bff-44d49ba08c98"
      },
      "source": [
        "%%R\n",
        "n=nrow(lin_gub_bmybdst_flibfwdspind_swcupvp_oirsvpvol)\n",
        "n"
      ],
      "execution_count": 67,
      "outputs": [
        {
          "output_type": "stream",
          "name": "stdout",
          "text": [
            "[1] 253\n"
          ]
        }
      ]
    },
    {
      "cell_type": "markdown",
      "metadata": {
        "id": "7cMP2KW5dwN0"
      },
      "source": [
        "#### Incisos 1 y 2"
      ]
    },
    {
      "cell_type": "code",
      "metadata": {
        "id": "oEJD42__d08N"
      },
      "source": [
        "%%R\n",
        "#historia de acciones y divisas\n",
        "stock_prices_EQFX=lin_gub_bmybdst_flibfwdspind_swcupvp_oirsvpvol[aux2,on=.(Date),nomatch=0][order(-Date)]\n",
        "stock_prices_EQFX=stock_prices_EQFX%>%select(-Date)"
      ],
      "execution_count": 68,
      "outputs": []
    },
    {
      "cell_type": "markdown",
      "metadata": {
        "id": "Dlq9hyxJd1ZU"
      },
      "source": [
        "#### Incisos 3"
      ]
    },
    {
      "cell_type": "code",
      "metadata": {
        "id": "UI2Vm4QLd3N0"
      },
      "source": [
        "%%R\n",
        "#Historia de curva gubernamental y yield\n",
        "x_orig_gov=lin_gub_bmybdst_flibfwdspind_swcupvp_oirsvpvol[x_orig_gov,on=.(Date),nomatch=0][order(-Date)]\n",
        "x_orig_gov=x_orig_gov%>%select(-Date)\n",
        "\n",
        "#Historia de curvas de bonde\n",
        "X1_orig=lin_gub_bmybdst_flibfwdspind_swcupvp_oirsvpvol[X1_orig,on=.(Date),nomatch=0][order(-Date)]\n",
        "X1_orig=X1_orig%>%select(-Date)\n",
        "X2_orig_bd=lin_gub_bmybdst_flibfwdspind_swcupvp_oirsvpvol[X2_orig_bd,on=.(Date),nomatch=0][order(-Date)]\n",
        "X2_orig_bd=X2_orig_bd%>%select(-Date)\n",
        "X3_orig_bd=lin_gub_bmybdst_flibfwdspind_swcupvp_oirsvpvol[X3_orig_bd,on=.(Date),nomatch=0][order(-Date)]\n",
        "X3_orig_bd=X3_orig_bd%>%select(-Date)\n",
        "\n"
      ],
      "execution_count": 69,
      "outputs": []
    },
    {
      "cell_type": "markdown",
      "metadata": {
        "id": "l691TCbUd3mt"
      },
      "source": [
        "#### Incisos 4"
      ]
    },
    {
      "cell_type": "code",
      "metadata": {
        "id": "P4v05W3Sd48s"
      },
      "source": [
        "%%R\n",
        "#historia de curvas de forward tdc\n",
        "x1_ftdc=lin_gub_bmybdst_flibfwdspind_swcupvp_oirsvpvol[x1_ftdc,on=.(Date),nomatch=0][order(-Date)]\n",
        "x1_ftdc=x1_ftdc%>%select(-Date)/100\n",
        "x2_ftdc=lin_gub_bmybdst_flibfwdspind_swcupvp_oirsvpvol[x2_ftdc,on=.(Date),nomatch=0][order(-Date)]\n",
        "x2_ftdc=x2_ftdc%>%select(-Date)/100\n",
        "X3_ftdc=lin_gub_bmybdst_flibfwdspind_swcupvp_oirsvpvol[X3_ftdc,on=.(Date),nomatch=0][order(-Date)]\n",
        "X3_ftdc=X3_ftdc%>%select(-Date)\n",
        "\n",
        "#historia de curvas de forward ind\n",
        "#CONSIDERAR LA CURVA GUBERNAMENTAL X1_ORIG_GOV\n",
        "X3_find=lin_gub_bmybdst_flibfwdspind_swcupvp_oirsvpvol[X3_find,on=.(Date),nomatch=0][order(-Date)]\n",
        "X3_find=X3_find%>%select(-Date)"
      ],
      "execution_count": 70,
      "outputs": []
    },
    {
      "cell_type": "markdown",
      "metadata": {
        "id": "r0OtCdLqd5P8"
      },
      "source": [
        "#### Incisos 5"
      ]
    },
    {
      "cell_type": "code",
      "metadata": {
        "id": "EETfth8od6hB"
      },
      "source": [
        "%%R\n",
        "X1_orig_sw=lin_gub_bmybdst_flibfwdspind_swcupvp_oirsvpvol[X1_orig_sw,on=.(Date),nomatch=0][order(-Date)]\n",
        "X1_orig_sw=X1_orig_sw%>%select(-Date)/100\n",
        "X2_orig_sw=lin_gub_bmybdst_flibfwdspind_swcupvp_oirsvpvol[X2_orig_sw,on=.(Date),nomatch=0][order(-Date)]\n",
        "X2_orig_sw=X2_orig_sw%>%select(-Date)/100"
      ],
      "execution_count": 71,
      "outputs": []
    },
    {
      "cell_type": "markdown",
      "metadata": {
        "id": "XHF4M6hid7BV"
      },
      "source": [
        "#### Incisos 6"
      ]
    },
    {
      "cell_type": "code",
      "metadata": {
        "id": "QdkV2Ozgd8Mn"
      },
      "source": [
        "%%R\n",
        "x1_orig_oir=lin_gub_bmybdst_flibfwdspind_swcupvp_oirsvpvol[x1_orig_oir,on=.(Date),nomatch=0][order(-Date)]\n",
        "x1_orig_oir=x1_orig_oir%>%select(-Date)/100\n",
        "x2_orig_oir=lin_gub_bmybdst_flibfwdspind_swcupvp_oirsvpvol[x2_orig_oir,on=.(Date),nomatch=0][order(-Date)]\n",
        "x2_orig_oir=x2_orig_oir%>%select(-Date)/100\n",
        "x3_orig_oir=lin_gub_bmybdst_flibfwdspind_swcupvp_oirsvpvol[x3_orig_oir,on=.(Date),nomatch=0][order(-Date)]\n",
        "x3_orig_oir=x3_orig_oir%>%select(-Date)"
      ],
      "execution_count": 72,
      "outputs": []
    },
    {
      "cell_type": "markdown",
      "metadata": {
        "id": "igoAbhE5wA7M"
      },
      "source": [
        "## Valuación y derivadas"
      ]
    },
    {
      "cell_type": "markdown",
      "metadata": {
        "id": "reKReYX2xSH0"
      },
      "source": [
        "### Acciones y divisas"
      ]
    },
    {
      "cell_type": "code",
      "metadata": {
        "id": "exREBYboxUMC"
      },
      "source": [
        "%%R\n",
        "#divisas y acciones CÁLCULO\n",
        "\n",
        "x0_acc_div=stock_prices_EQFX[1,]\n",
        "DeltaX_acc_div=as.matrix(log(as.matrix(stock_prices_EQFX[1:(n-1)])/as.matrix(stock_prices_EQFX[2:(n)])))\n",
        "V0_acc_div=cbind(t(pos_fx),t(pos_eq))*x0_acc_div\n",
        "mu_acc_div=0\n",
        "g_acc_div=cbind(t(pos_fx),t(pos_eq))\n",
        "g_acc_divt=cbind(t(pos_fx),t(pos_eq))*x0_acc_div\n",
        "gamma_acc_divt=matrix(0,ncol(x0_acc_div),ncol(x0_acc_div))\n",
        "\n",
        "\n",
        "m_fx=length(pos_fx)\n",
        "m_acc=length(pos_eq)"
      ],
      "execution_count": 73,
      "outputs": []
    },
    {
      "cell_type": "markdown",
      "metadata": {
        "id": "PR0cZu2twI45"
      },
      "source": [
        "### Swaps"
      ]
    },
    {
      "cell_type": "code",
      "metadata": {
        "id": "GqlWiqvxwIRR"
      },
      "source": [
        "%%R\n",
        "##SWAP TASA FIJA VS TASA VARIABLE CÁLCULO\n",
        "\n",
        "##Interpolamos\n",
        "\n",
        "nodosvp=nodos1_sw\n",
        "nodostc=nodos2_sw\n",
        "curvavp=as.matrix(X1_orig_sw)\n",
        "curvatc=X2_orig_sw\n",
        "n1=nrow(curvavp)\n",
        "n2=nrow(curvatc)\n",
        "\n",
        "\n",
        "m=max(ncol(plazos_sw),1) #número de contratos_sw swap a valorar\n",
        "N=matrix(0,1,m) #es un vector de m valores donde se cargarán los m número de cupones a pagar para cada contrato\n",
        "for (j in (1:m))\n",
        "{\n",
        "  N[j]=as.integer(plazos_sw[j]/plazocupon_sw[j])+1 #número de cupones a pagar\n",
        "}\n",
        "VTplazos_sw=matrix(0,1,sum(N)) #vector de todos los plazos_sw de todos los contratos_sw\n",
        "contratos_swT=matrix(0,1,sum(N)) #vector de todos los contratos_sw de todos los flujos de todos los contratos_sw\n",
        "nominal_swT=matrix(0,1,sum(N)) #vector de todos los nominal_swes de todos los flujos de todos los contratos_sw\n",
        "por_swT=matrix(0,1,sum(N)) #vector de todos los dummy si paga o recibe de todos los flujos de todos los contratos_sw\n",
        "plazocupon_swT=matrix(0,1,sum(N)) #vector de todos los plazos_swcupon de todos los flujos de todos los contratos_sw\n",
        "tasafija_swT=matrix(0,1,sum(N)) #vector de tasas fijas de todos los flujos de todos los contratos_sw\n",
        "VTplazos_swc=matrix(0,1,sum(N)) #vector de todos los plazos_sw cortos de todos los contratos_sw\n",
        "\n",
        "\n",
        "plazini=plazos_sw-plazocupon_sw*(N-1) #vector de plazos_sw iniciales\n",
        "\n",
        "for (j in (1:m))\n",
        "{\n",
        "  if (j==1)\n",
        "  {\n",
        "    VTplazos_sw[,1:sum(N[1:j])]=seq(plazini[j],plazos_sw[j], by=plazocupon_sw[j])\n",
        "    VTplazos_swc[,1:sum(N[1:j])]=c(0,VTplazos_sw[,1:(sum(N[1:j])-1)])\n",
        "    contratos_swT[,1:sum(N[1:j])]=seq(contratos_sw[j],contratos_sw[j])\n",
        "    nominal_swT[,1:sum(N[1:j])]=seq(nominal_sw[j],nominal_sw[j])\n",
        "    por_swT[,1:sum(N[1:j])]=seq(por_sw[j],por_sw[j])\n",
        "    plazocupon_swT[,1:sum(N[1:j])]=seq(plazocupon_sw[j],plazocupon_sw[j])\n",
        "    tasafija_swT[,1:sum(N[1:j])]=seq(tasafija_sw[j],tasafija_sw[j])\n",
        "  }\n",
        "  else\n",
        "  {\n",
        "    VTplazos_sw[,(sum(N[1:j-1])+1):sum(N[1:j])]=seq(plazini[j],plazos_sw[j], by=plazocupon_sw[j])\n",
        "    VTplazos_swc[,(sum(N[1:j-1])+1):sum(N[1:j])]=c(0,VTplazos_sw[,(sum(N[1:j-1])+1):(sum(N[1:j])-1)])\n",
        "    contratos_swT[,(sum(N[1:j-1])+1):sum(N[1:j])]=seq(contratos_sw[j],contratos_sw[j])\t\t\t\t\t\n",
        "    nominal_swT[,(sum(N[1:j-1])+1):sum(N[1:j])]=seq(nominal_sw[j],nominal_sw[j])\n",
        "    por_swT[,(sum(N[1:j-1])+1):sum(N[1:j])]=seq(por_sw[j],por_sw[j])\n",
        "    plazocupon_swT[,(sum(N[1:j-1])+1):sum(N[1:j])]=seq(plazocupon_sw[j],plazocupon_sw[j])\n",
        "    tasafija_swT[,(sum(N[1:j-1])+1):sum(N[1:j])]=seq(tasafija_sw[j],tasafija_sw[j])\n",
        "  }\n",
        "}\n",
        "\n",
        "\n",
        "Xvp=matrix(0,n,ncol(VTplazos_sw))\n",
        "Xtc=matrix(0,n,ncol(VTplazos_sw))\n",
        "Xtcc=matrix(0,n,ncol(VTplazos_sw))\n",
        "XtfwdT=matrix(0,n,ncol(VTplazos_sw))\n",
        "\n",
        "for (i in (1:n))\n",
        "{\n",
        "  Xvp[i,]=if(itpl==0){approx(nodosvp,curvavp[i,],VTplazos_sw,rule=2)$y}else{talamb(nodosvp,curvavp[i,],VTplazos_sw)}\n",
        "  Xtc[i,]=if(itpl==0){approx(nodostc,curvatc[i,],VTplazos_sw,rule=2)$y}else{talamb(nodostc,curvatc[i,],VTplazos_sw)}\n",
        "  Xtcc[i,]=if(itpl==0){approx(nodostc,curvatc[i,],VTplazos_swc, rule=2)$y}else{talamb(nodostc,curvatc[i,],VTplazos_swc)}\n",
        "  \n",
        "  XtfwdT[i,]=((1+Xtc[i,]*VTplazos_sw/360)/(1+Xtcc[i,]*VTplazos_swc/360)-1)*360/plazocupon_swT \n",
        "  for (j in (1:ncol(VTplazos_sw)))\n",
        "  {\n",
        "    if (VTplazos_sw[j]<= plazocupon_swT[j])\n",
        "    {\n",
        "      XtfwdT[i,j]=Xtc[i,j]\n",
        "    }\n",
        "    else\n",
        "    {\n",
        "      j=sum(N[1:j])\n",
        "    }\n",
        "  }\n",
        "}\n",
        "\n",
        "\n",
        "swap=function(por_swT, contratos_swT, nominal_swT, XtfwdT, tasafija_swT, plazocupon_swT, VTplazos_sw, Xvp, N)\n",
        "{\n",
        "  V0=matrix(0,1,ncol(N))\n",
        "  V0f=(((contratos_swT*(XtfwdT-tasafija_swT)*(plazocupon_swT/360)))/(1+Xvp*VTplazos_sw/360))*nominal_swT*(-1)^por_swT\n",
        "  for (j in (1:ncol(N)))\n",
        "  {\n",
        "    if(j==1)\n",
        "    {\n",
        "      V0[j]=sum(V0f[j:N[j]])\n",
        "    }\n",
        "    else\n",
        "    {\n",
        "      V0[j]=sum(V0f[(sum(N[1:j-1])+1):(sum(N[1:j]))])\n",
        "    }\n",
        "  }\n",
        "  V0\n",
        "}\n",
        "\n",
        "V0_sw=swap(por_swT, contratos_swT, nominal_swT, XtfwdT[1,], tasafija_swT, plazocupon_swT, VTplazos_sw, Xvp[1,], N)\n",
        "\n",
        "\n",
        "#derivada del swap con respecto aL tiempo\n",
        "dswap_dtt=function(por_swT, contratos_swT, nominal_swT, XtfwdT, tasafija_swT, plazocupon_swT, VTplazos_sw, Xvp)\n",
        "{\n",
        "  -1*(((contratos_swT*(XtfwdT-tasafija_swT)*(plazocupon_swT*Xvp/360^2)))/(1+Xvp*VTplazos_sw/360)^(2))*nominal_swT*(-1)^por_swT\n",
        "}\n",
        "\n",
        "#derivada del swap con respecto a la tasa cupón variable\n",
        "dswap_dtc=function(por_swT, contratos_swT, nominal_swT, XtfwdT, tasafija_swT, plazocupon_swT, VTplazos_sw, Xvp)\n",
        "{\n",
        "  (((contratos_swT*plazocupon_swT)/360)/(1+Xvp*VTplazos_sw/360))*nominal_swT*(-1)^por_swT\n",
        "}\n",
        "\n",
        "#derivada del swap con respecto al valor presente\n",
        "dswap_dvp=function(por_swT, contratos_swT, nominal_swT, XtfwdT, tasafija_swT, plazocupon_swT, VTplazos_sw, Xvp)\n",
        "{\n",
        "  -1*(((contratos_swT*(XtfwdT-tasafija_swT)*(plazocupon_swT*VTplazos_sw/360^2)))/(1+Xvp*VTplazos_sw/360)^(2))*nominal_swT*(-1)^por_swT\n",
        "}\n",
        "\n",
        "mgamma_swap=function(por_swT, contratos_swT, nominal_swT, XtfwdT, tasafija_swT, plazocupon_swT, VTplazos_sw, Xvp)\t#matriz de segundas derivadas parciales de la tasa valor presente y pago de flujos\n",
        "{\n",
        "  c11=matrix(0,1,ncol(contratos_swT))\n",
        "  c21=-1*(((contratos_swT*(plazocupon_swT*VTplazos_sw/360^2)))/(1+Xvp*VTplazos_sw/360)^(2))*nominal_swT*(-1)^por_swT\n",
        "  c12=-1*(((contratos_swT*plazocupon_swT*VTplazos_sw)/360^2)/(1+Xvp*VTplazos_sw/360)^2)*nominal_swT*(-1)^por_swT\n",
        "  c22=2*(((contratos_swT*(XtfwdT-tasafija_swT)*(plazocupon_swT*VTplazos_sw^2/360^3)))/(1+Xvp*VTplazos_sw/360)^(3))*nominal_swT*(-1)^por_swT\n",
        "  rbind(cbind(diagv(c11),diagv(c12)),cbind(diagv(c21),diagv(c22)))\n",
        "}\n",
        "\n",
        "X_sw=cbind( XtfwdT,Xvp)\n",
        "\n",
        "mu_sw=sum(dswap_dtt(por_swT, contratos_swT, nominal_swT, XtfwdT[1,], tasafija_swT, plazocupon_swT, VTplazos_sw, Xvp[1,]))\n",
        "g_sw=cbind(dswap_dtc(por_swT, contratos_swT, nominal_swT, XtfwdT[1,], tasafija_swT, plazocupon_swT, VTplazos_sw, Xvp[1,]),dswap_dvp(por_swT, contratos_swT, nominal_swT, XtfwdT[1,], tasafija_swT, plazocupon_swT, VTplazos_sw, Xvp[1,]))\n",
        "\n",
        "#Multiplicación de la derivada por el punto x0\n",
        "gt_sw=c( XtfwdT[1,],Xvp[1,])*g_sw\n",
        "\n",
        "gamma_sw=mgamma_swap(por_swT, contratos_swT, nominal_swT, XtfwdT[1,], tasafija_swT, plazocupon_swT, VTplazos_sw, Xvp[1,])\n",
        "tgamma_sw=c( XtfwdT[1,],Xvp[1,])%*%t(c( XtfwdT[1,],Xvp[1,]))*gamma_sw "
      ],
      "execution_count": 84,
      "outputs": []
    },
    {
      "cell_type": "markdown",
      "metadata": {
        "id": "KpIAfrrZ04Zb"
      },
      "source": [
        "## Medicion de riesgo, Delta Gama"
      ]
    },
    {
      "cell_type": "markdown",
      "metadata": {
        "id": "WCLi9tbT07KC"
      },
      "source": [
        "### Swaps"
      ]
    },
    {
      "cell_type": "markdown",
      "metadata": {
        "id": "JuicfJkK6Jzy"
      },
      "source": [
        "#### Total"
      ]
    },
    {
      "cell_type": "code",
      "metadata": {
        "colab": {
          "base_uri": "https://localhost:8080/"
        },
        "id": "pYurD9KI1HDy",
        "outputId": "383fc874-ffd6-4fc6-a6e5-ab4e935798a4"
      },
      "source": [
        "%%R\n",
        "DeltaXvp=Xvp[1:(n-1),]/Xvp[2:n,]-1\n",
        "DeltaXtfwdt=XtfwdT[1:(n-1),]/XtfwdT[2:n,]-1\n",
        "\n",
        "DeltaX_sw=cbind(DeltaXtfwdt,DeltaXvp)\n",
        "\n",
        "VarCovX_sw=cov(DeltaX_sw)*((n-1)/(n-2))  #Matriz de Varianza-Covarianza\n",
        "\n",
        "\n",
        "# VaR y CVaR Delta Gamma Normal Total\n",
        "tgammavar_sw=(tgamma_sw%*%VarCovX_sw)\n",
        "tgammavar2_sw=(tgamma_sw%*%VarCovX_sw)%*%(tgamma_sw%*%VarCovX_sw) \n",
        "VaRTotalDGM_sw=(sum(diag(tgammavar_sw))/2+sum(dswap_dtt(por_swT, contratos_swT, nominal_swT, XtfwdT[1,], tasafija_swT,  plazocupon_swT, VTplazos_sw, Xvp[1,])))-(sqrt(sum(diag(tgammavar2_sw))/2+gt_sw%*%VarCovX_sw%*%t(gt_sw)))*qnorm(alpha) #VaR Normal\n",
        "CVaRTotalDGM_sw=(sum(diag(tgammavar_sw))/2+sum(dswap_dtt(por_swT, contratos_swT, nominal_swT, XtfwdT[1,], tasafija_swT,  plazocupon_swT, VTplazos_sw, Xvp[1,])))-(sqrt(sum(diag(tgammavar2_sw))/2+gt_sw%*%VarCovX_sw%*%t(gt_sw)))*dnorm(qnorm(alpha))/(1-alpha)\n",
        "\n",
        "# VaR y CVaR Delta Gamma CF Total\n",
        "tgammavar3_sw=tgammavar2_sw%*%(tgamma_sw%*%VarCovX_sw)\n",
        "asimPmargc_sw=sum(diag(tgammavar3_sw))+3*gt_sw%*%VarCovX_sw%*%tgamma_sw%*%VarCovX_sw%*%t(gt_sw) #gamma tercer momento\n",
        "asimPmargc_sw=asimPmargc_sw/(sqrt(sum(diag(tgammavar2_sw))/2+gt_sw%*%VarCovX_sw%*%t(gt_sw)))^3  #coef de asimetría\n",
        "VaRmargcstd_sw=qnorm(1-alpha)+((qnorm(1-alpha)^2-1)/6)*asimPmargc_sw  #VaR estandarizado\n",
        "VaRTotalCF_sw=(sum(diag(tgammavar_sw))/2+sum(dswap_dtt(por_swT, contratos_swT, nominal_swT, XtfwdT[1,], tasafija_swT,  plazocupon_swT, VTplazos_sw, Xvp[1,])))+(sqrt(sum(diag(tgammavar2_sw))/2+gt_sw%*%VarCovX_sw%*%t(gt_sw)))*VaRmargcstd_sw #VaR cf\n",
        "CVaRTotalCF_sw=(sum(diag(tgammavar_sw))/2+sum(dswap_dtt(por_swT, contratos_swT, nominal_swT, XtfwdT[1,], tasafija_swT,  plazocupon_swT, VTplazos_sw, Xvp[1,])))-(sqrt(sum(diag(tgammavar2_sw))/2+gt_sw%*%VarCovX_sw%*%t(gt_sw)))*dnorm(VaRmargcstd_sw)/(pnorm(VaRmargcstd_sw))\n",
        "\n",
        "print(\"VaR Total Delta Gamma Normal\")\n",
        "print(VaRTotalDGM_sw)\n",
        "print(\"CVaR Total Delta Gamma Normal\")\n",
        "print(CVaRTotalDGM_sw)\n",
        "print(\"VaR Total Delta Gamma CF\")\n",
        "print(VaRTotalCF_sw)\n",
        "print(\"CVaR Total Delta Gamma CF\")\n",
        "print(CVaRTotalCF_sw)\n",
        "\n"
      ],
      "execution_count": 88,
      "outputs": [
        {
          "output_type": "stream",
          "name": "stdout",
          "text": [
            "[1] \"VaR Total Delta Gamma Normal\"\n",
            "             [,1]\n",
            "[1,] -0.002164163\n",
            "[1] \"CVaR Total Delta Gamma Normal\"\n",
            "             [,1]\n",
            "[1,] -0.002387909\n",
            "[1] \"VaR Total Delta Gamma CF\"\n",
            "            [,1]\n",
            "[1,] -0.00216391\n",
            "[1] \"CVaR Total Delta Gamma CF\"\n",
            "             [,1]\n",
            "[1,] -0.002387685\n"
          ]
        }
      ]
    },
    {
      "cell_type": "markdown",
      "metadata": {
        "id": "5ZtgUFyN6Ncq"
      },
      "source": [
        "#### Por contrato"
      ]
    },
    {
      "cell_type": "code",
      "metadata": {
        "colab": {
          "base_uri": "https://localhost:8080/"
        },
        "id": "A9YuxBFA6d1J",
        "outputId": "0e535018-a47b-4488-91bd-650be852f666"
      },
      "source": [
        "%%R\n",
        "VaRcont_sw=matrix(0,1,ncol(N))\n",
        "CVaRcont_sw=matrix(0,1,ncol(N))\n",
        "VaRContDGM_sw=matrix(0,1,ncol(N))\n",
        "CVaRContDGM_sw=matrix(0,1,ncol(N))\n",
        "VaRContstd_sw=matrix(0,1,ncol(N))\n",
        "VaRContCF_sw=matrix(0,1,ncol(N))\n",
        "CVaRContCF_sw=matrix(0,1,ncol(N))\n",
        "VaRmargc_sw=matrix(0,1,m)\n",
        "VaRmargcstd_sw=matrix(0,1,m)\n",
        "VaRmargcCF_sw=matrix(0,1,m)\n",
        "CVaRmargc_sw=matrix(0,1,m)\n",
        "CVaRmargcCF_sw=matrix(0,1,m)\n",
        "\n",
        "VaRContDGM_swf=matrix(0,2,ncol(N))\n",
        "CVaRContDGM_swf=matrix(0,2,ncol(N))\n",
        "VaRContCF_swf=matrix(0,2,ncol(N))\n",
        "CVaRContCF_swf=matrix(0,2,ncol(N))\n",
        "\n",
        "\n",
        "#Valor de las derivadas evaluadas en el punto x0.\n",
        "V0f_dtt_sw=dswap_dtt(por_swT, contratos_swT, nominal_swT, XtfwdT[1,], tasafija_swT,  plazocupon_swT, VTplazos_sw, Xvp[1,])\n",
        "V0f_dtc_sw=dswap_dtc(por_swT, contratos_swT, nominal_swT, XtfwdT[1,], tasafija_swT,  plazocupon_swT, VTplazos_sw, Xvp[1,])\n",
        "V0f_dvp_sw=dswap_dvp(por_swT, contratos_swT, nominal_swT, XtfwdT[1,], tasafija_swT,  plazocupon_swT, VTplazos_sw, Xvp[1,])\n",
        "for (j in (1:ncol(N)))\n",
        "{\n",
        "  if(j==1)\n",
        "  {\n",
        "    x0cont_swf=rbind(c( XtfwdT[1,1:sum(N[1:j])],Xvp[1,1:sum(N[1:j])]*0),\n",
        "                     c( XtfwdT[1,1:sum(N[1:j])]*0,Xvp[1,1:sum(N[1:j])]))\n",
        "    mucont_sw=sum(V0f_dtt_sw[1:sum(N[1:j])])\n",
        "    gcont_sw=as.matrix(c(V0f_dtc_sw[1:sum(N[1:j])],V0f_dvp_sw[1:sum(N[1:j])]))\n",
        "    gtcont_sw=t(as.matrix(gcont_sw*c(XtfwdT[1,1:sum(N[1:j])],Xvp[1,1:sum(N[1:j])])))\n",
        "    VarCovXcont_sw=cov(cbind(XtfwdT[,1:sum(N[1:j])],Xvp[,1:sum(N[1:j])]))*(n/(n-1))\t\n",
        "    gamma_cont_sw=gamma_sw[1:(2*sum(N[1:j])),1:(2*sum(N[1:j]))]\n",
        "    tgamma_sw= c(XtfwdT[1,1:sum(N[1:j])],Xvp[1,1:sum(N[1:j])])%*%t(c(XtfwdT[1,1:sum(N[1:j])],Xvp[1,1:sum(N[1:j])]))*gamma_cont_sw #gamma tilde\n",
        "  }\n",
        "  else\n",
        "  {\n",
        "    x0cont_swf=rbind(c( XtfwdT[1,sum(N[1:j-1],1):sum(N[1:j])],Xvp[1,sum(N[1:j-1],1):sum(N[1:j])]*0),\n",
        "                     c( XtfwdT[1,sum(N[1:j-1],1):sum(N[1:j])]*0,Xvp[1,sum(N[1:j-1],1):sum(N[1:j])]))\n",
        "    mucont_sw=sum(V0f_dtt_sw[sum(N[1:j-1]+1):sum(N[1:j])])\n",
        "    gcont_sw=as.matrix(c(V0f_dtc_sw[sum(N[1:j-1]+1):sum(N[1:j])],V0f_dvp_sw[sum(N[1:j-1]+1):sum(N[1:j])]))\n",
        "    gtcont_sw=t(as.matrix(gcont_sw*c(XtfwdT[1,sum(N[1:j-1]+1):sum(N[1:j])],Xvp[1,sum(N[1:j-1]+1):sum(N[1:j])])))\n",
        "    VarCovXcont_sw=cov(cbind(XtfwdT[,sum(N[1:j-1]+1):sum(N[1:j])],Xvp[,sum(N[1:j-1]+1):sum(N[1:j])]))*(n/(n-1))\n",
        "    gamma_cont_sw=gamma_sw[(2*sum(N[1:j-1])+1):(2*sum(N[1:j])),(2*sum(N[1:j-1])+1):(2*sum(N[1:j]))]\n",
        "    tgamma_sw= c(XtfwdT[1,sum(N[1:j-1]+1):sum(N[1:j])],Xvp[1,sum(N[1:j-1]+1):sum(N[1:j])])%*%t(c(XtfwdT[1,sum(N[1:j-1]+1):sum(N[1:j])],Xvp[1,sum(N[1:j-1]+1):sum(N[1:j])]))*gamma_cont_sw #gamma tilde\n",
        "  }\n",
        "  \n",
        "  \n",
        "  tgammavar_sw=(tgamma_sw%*%VarCovXcont_sw)\n",
        "  tgammavar2_sw=(tgamma_sw%*%VarCovXcont_sw)%*%(tgamma_sw%*%VarCovXcont_sw)\n",
        "  VaRContDGM_sw[j]=(sum(diag(tgammavar_sw))/2+mucont_sw)-(sqrt(sum(diag(tgammavar2_sw))/2+gtcont_sw%*%VarCovXcont_sw%*%t(gtcont_sw)))*qnorm(alpha) #VaR Normal\n",
        "  CVaRContDGM_sw[j]=(sum(diag(tgammavar_sw))/2+mucont_sw)-(sqrt(sum(diag(tgammavar_sw))/2+gtcont_sw%*%VarCovXcont_sw%*%t(gtcont_sw)))*dnorm(qnorm(alpha))/(1-alpha)\n",
        "  ###VaR Cornish Fisher\n",
        "  tgammavar3_sw=tgammavar2_sw%*%(tgamma_sw%*%VarCovXcont_sw)\n",
        "  asimPmargc_sw=sum(diag(tgammavar3_sw))+3*gtcont_sw%*%VarCovXcont_sw%*%tgamma_sw%*%VarCovXcont_sw%*%t(gtcont_sw) #gamma tercer momento\n",
        "  asimPmargc_sw=asimPmargc_sw/(sqrt(sum(diag(tgammavar2_sw))/2+gtcont_sw%*%VarCovXcont_sw%*%t(gtcont_sw)))^3  #coef de asimetría\n",
        "  VaRmargcstd_sw=qnorm(1-alpha)+((qnorm(1-alpha)^2-1)/6)*asimPmargc_sw  #VaR estandarizado\n",
        "  VaRContCF_sw[j]=(sum(diag(tgammavar_sw))/2+mucont_sw)+(sqrt(sum(diag(tgammavar2_sw))/2+gtcont_sw%*%VarCovXcont_sw%*%t(gtcont_sw)))*VaRmargcstd_sw #VaR Normal\n",
        "  CVaRContCF_sw[j]=(sum(diag(tgammavar_sw))/2+sum(mucont_sw))-(sqrt(sum(diag(tgammavar2_sw))/2+gtcont_sw%*%VarCovXcont_sw%*%t(gtcont_sw)))*dnorm(VaRmargcstd_sw)/(pnorm(VaRmargcstd_sw))\n",
        "  \n",
        "  #VaR Delta Normal\n",
        "  VaRcont_sw[j]=sum(mucont_sw)-sqrt(gtcont_sw%*%VarCovXcont_sw%*%t(gtcont_sw))*qnorm(alpha)\n",
        "  CVaRcont_sw[j]=sum(mucont_sw)-sqrt(gtcont_sw%*%VarCovXcont_sw%*%t(gtcont_sw))*dnorm(qnorm(alpha))/(1-alpha)\n",
        "\n",
        "   for (k in (1:2))\n",
        "  {\n",
        "    gtcont_sw=t(as.matrix(gcont_sw*x0cont_swf[k,]))\n",
        "    tgamma_sw= x0cont_swf[k,]%*%t(x0cont_swf[k,])*gamma_cont_sw #gamma tilde\n",
        "    tgammavar_sw=(tgamma_sw%*%VarCovXcont_sw)\n",
        "    tgammavar2_sw=(tgamma_sw%*%VarCovXcont_sw)%*%(tgamma_sw%*%VarCovXcont_sw)\n",
        "    VaRContDGM_swf[k,j]=(sum(diag(tgammavar_sw))/2+mucont_sw)-(sqrt(sum(diag(tgammavar2_sw))/2+gtcont_sw%*%VarCovXcont_sw%*%t(gtcont_sw)))*qnorm(alpha) #VaR Normal\n",
        "    CVaRContDGM_swf[k,j]=(sum(diag(tgammavar_sw))/2+mucont_sw)-(sqrt(sum(diag(tgammavar_sw))/2+gtcont_sw%*%VarCovXcont_sw%*%t(gtcont_sw)))*dnorm(qnorm(alpha))/(1-alpha)\n",
        "    ###VaR Cornish Fisher\n",
        "    tgammavar3_sw=tgammavar2_sw%*%(tgamma_sw%*%VarCovXcont_sw)\n",
        "    asimPmargc_sw=sum(diag(tgammavar3_sw))+3*gtcont_sw%*%VarCovXcont_sw%*%tgamma_sw%*%VarCovXcont_sw%*%t(gtcont_sw) #gamma tercer momento\n",
        "    asimPmargc_sw=asimPmargc_sw/(sqrt(sum(diag(tgammavar2_sw))/2+gtcont_sw%*%VarCovXcont_sw%*%t(gtcont_sw)))^3  #coef de asimetría\n",
        "    VaRmargcstd_sw=qnorm(1-alpha)+((qnorm(1-alpha)^2-1)/6)*asimPmargc_sw  #VaR estandarizado\n",
        "    VaRContCF_swf[k,j]=(sqrt(sum(diag(tgammavar2_sw))/2+gtcont_sw%*%VarCovXcont_sw%*%t(gtcont_sw)))*VaRmargcstd_sw #VaR Normal\n",
        "    CVaRContCF_swf[k,j]=-(sqrt(sum(diag(tgammavar2_sw))/2+gtcont_sw%*%VarCovXcont_sw%*%t(gtcont_sw)))*dnorm(VaRmargcstd_sw)/(pnorm(VaRmargcstd_sw))    \n",
        "  }\n",
        "}\n",
        "\n",
        "print(\"VaR contrato Delta Gamma Normal\")\n",
        "print(VaRContDGM_sw) #VaR contrato Delta Gamma Normal \n",
        "print(\"CVaR contrato Delta Gamma Normal\")\n",
        "print(CVaRContDGM_sw) #CVaR contrato Delta Gamma Normal \n",
        "print(\"VaR contrato Delta Gamma CF\")\n",
        "print(VaRContCF_sw) #VaR contrato Delta Gamma CF\n",
        "print(\"CVaR contrato Delta Gamma CF\") \n",
        "print(CVaRContCF_sw) \n",
        "print(\"VaR contrato fr Delta Gamma Normal\")\n",
        "print(VaRContDGM_swf) #VaR contrato Delta Gamma Normal \n",
        "print(\"CVaR contrato fr Delta Gamma Normal\")\n",
        "print(CVaRContDGM_swf) #CVaR contrato Delta Gamma Normal \n",
        "print(\"VaR contrato fr Delta Gamma CF\")\n",
        "print(VaRContCF_swf) #VaR contrato Delta Gamma CF\n",
        "print(\"CVaR contrato fr Delta Gamma CF\") \n",
        "print(CVaRContCF_swf) \n",
        "\n",
        "#CVaR contrato Delta Gamma CF\n",
        "#VaRContDGM_bdf #VaR contrato-factor de riesgo Delta Gamma Normal \n",
        "#CVaRContDGM_bdf #CVaR contrato-factor de riesgo Delta Gamma Normal \n",
        "#VaRContCF_bdf #VaR contrato-factor de riesgo Delta Gamma CF\n",
        "#CVaRContCF_bdf\n"
      ],
      "execution_count": 89,
      "outputs": [
        {
          "output_type": "stream",
          "name": "stdout",
          "text": [
            "[1] \"VaR contrato Delta Gamma Normal\"\n",
            "           [,1]        [,2]\n",
            "[1,] -0.2291833 -0.05914348\n",
            "[1] \"CVaR contrato Delta Gamma Normal\"\n",
            "           [,1]        [,2]\n",
            "[1,] -0.2700019 -0.06969723\n",
            "[1] \"VaR contrato Delta Gamma CF\"\n",
            "           [,1]        [,2]\n",
            "[1,] -0.2291865 -0.05914348\n",
            "[1] \"CVaR contrato Delta Gamma CF\"\n",
            "           [,1]        [,2]\n",
            "[1,] -0.2700145 -0.06969725\n",
            "[1] \"VaR contrato fr Delta Gamma Normal\"\n",
            "              [,1]          [,2]\n",
            "[1,] -0.2293332817 -0.0591552915\n",
            "[2,] -0.0009990088 -0.0001266701\n",
            "[1] \"CVaR contrato fr Delta Gamma Normal\"\n",
            "             [,1]          [,2]\n",
            "[1,] -0.270188630 -0.0697111526\n",
            "[2,] -0.001089237 -0.0001443528\n",
            "[1] \"VaR contrato fr Delta Gamma CF\"\n",
            "              [,1]          [,2]\n",
            "[1,] -0.2285300970 -5.904580e-02\n",
            "[2,] -0.0001958153 -1.717641e-05\n",
            "[1] \"CVaR contrato fr Delta Gamma CF\"\n",
            "              [,1]          [,2]\n",
            "[1,] -0.2693854452 -6.960168e-02\n",
            "[2,] -0.0002308261 -2.024724e-05\n"
          ]
        }
      ]
    },
    {
      "cell_type": "markdown",
      "metadata": {
        "id": "xIXGvf2DD_4X"
      },
      "source": [
        "#### Por factor de riesgo"
      ]
    },
    {
      "cell_type": "code",
      "metadata": {
        "colab": {
          "base_uri": "https://localhost:8080/"
        },
        "id": "f0rOs2RrEChF",
        "outputId": "1b6a03ac-5759-428a-c21b-2fa2fe488202"
      },
      "source": [
        "%%R\n",
        "WFR_sw=rbind(c( XtfwdT[1,],Xvp[1,]*0),c( XtfwdT[1,]*0,Xvp[1,]))\n",
        "VaRFr_sw=matrix(0,1,2)\n",
        "CVaRFr_sw=matrix(0,1,2)\n",
        "VaRFrDGN_sw=matrix(0,1,2)\n",
        "VaRFrDGst_sw=matrix(0,1,2)\n",
        "CVaRFrDGN_sw=matrix(0,1,2)\n",
        "CVaRFrDGCF_sw=matrix(0,1,2)\n",
        "VaRFrDGCF_sw=matrix(0,1,2)\n",
        "\n",
        "for (j in (1:2))\n",
        "{\n",
        "   # gFr=as.matrix(V0f_dtc)\n",
        "    #gtFr=as.matrix(gFr*XtfwdT[1,])\n",
        "    #VarCovXFr=cov(cbind(XtfwdT[,]))*(n/(n-1))\n",
        "    \n",
        "    g_sw=cbind(dswap_dtc(por_swT, contratos_swT, nominal_swT, XtfwdT[1,], tasafija_swT,  plazocupon_swT, VTplazos_sw, Xvp[1,]),dswap_dvp(por_swT, contratos_swT, nominal_swT, XtfwdT[1,], tasafija_swT,  plazocupon_swT, VTplazos_sw, Xvp[1,]))\n",
        "    \n",
        "    #Multiplicación de la derivada por el punto x0\n",
        "    gt_sw=WFR_sw[j,]*g_sw\n",
        "    \n",
        "    \n",
        "    gamma_sw=mgamma_swap(por_swT, contratos_swT, nominal_swT, XtfwdT[1,], tasafija_swT,  plazocupon_swT, VTplazos_sw, Xvp[1,])\n",
        "    tgamma_sw=WFR_sw[j,]%*%t(WFR_sw[j,])*gamma_sw\n",
        "    tgammavar_sw=(tgamma_sw%*%VarCovX_sw)\n",
        "    tgammavar2_sw=(tgamma_sw%*%VarCovX_sw)%*%(tgamma_sw%*%VarCovX_sw) \n",
        "    VaRFrDGN_sw[j]=(sum(diag(tgammavar_sw))/2+sum(dswap_dtt(por_swT, contratos_swT, nominal_swT, XtfwdT[1,], tasafija_swT,  plazocupon_swT, VTplazos_sw, Xvp[1,])))-(sqrt(sum(diag(tgammavar2_sw))/2+gt_sw%*%VarCovX_sw%*%t(gt_sw)))*qnorm(alpha) #VaR Normal\n",
        "    CVaRFrDGN_sw[j]=(sum(diag(tgammavar_sw))/2+sum(dswap_dtt(por_swT, contratos_swT, nominal_swT, XtfwdT[1,], tasafija_swT,  plazocupon_swT, VTplazos_sw, Xvp[1,])))-(sqrt(sum(diag(tgammavar2_sw))/2+gt_sw%*%VarCovX_sw%*%t(gt_sw)))*dnorm(qnorm(alpha))/(1-alpha)\n",
        "    \n",
        "    ###VaR Cornish Fisher\n",
        "    tgammavar3_sw=tgammavar2_sw%*%(tgamma_sw%*%VarCovX_sw)\n",
        "    asimPmargc_sw=sum(diag(tgammavar3_sw))+3*gt_sw%*%VarCovX_sw%*%tgamma_sw%*%VarCovX_sw%*%t(gt_sw) #gamma tercer momento\n",
        "    asimPmargc_sw=asimPmargc_sw/(sqrt(sum(diag(tgammavar2_sw))/2+gt_sw%*%VarCovX_sw%*%t(gt_sw)))^3  #coef de asimetría\n",
        "    VaRFrDGst_sw[j]=qnorm(1-alpha)+((qnorm(1-alpha)^2-1)/6)*asimPmargc_sw  #VaR estandarizado\n",
        "    VaRFrDGCF_sw[j]=(sum(diag(tgammavar_sw))/2+sum(dswap_dtt(por_swT, contratos_swT, nominal_swT, XtfwdT[1,], tasafija_swT,  plazocupon_swT, VTplazos_sw, Xvp[1,])))+(sqrt(sum(diag(tgammavar2_sw))/2+gt_sw%*%VarCovX_sw%*%t(gt_sw)))*VaRFrDGst_sw[j] #VaR Normal \n",
        "    CVaRFrDGCF_sw[j]=(sum(diag(tgammavar_sw))/2+sum(dswap_dtt(por_swT, contratos_swT, nominal_swT, XtfwdT[1,], tasafija_swT,  plazocupon_swT, VTplazos_sw, Xvp[1,])))-(sqrt(sum(diag(tgammavar2_sw))/2+gt_sw%*%VarCovX_sw%*%t(gt_sw)))*dnorm(VaRFrDGst_sw[j])/(pnorm(VaRFrDGst_sw[j]))\n",
        "\n",
        "  #VaRFr[j]=-sqrt(gtFr%*%VarCovXFr%*%t(gtFr))*qnorm(alpha)\n",
        "  #CVaRFr[j]=-sqrt(gtFr%*%VarCovXFr%*%t(gtFr))*dnorm(qnorm(alpha))/(1-alpha)\n",
        "}\n",
        "print(\"VaR factor de riesgo Delta Gamma Normal\")\n",
        "print(VaRFrDGN_sw)\n",
        "print(\"CVaR factor de riesgo Delta Gamma Normal\")\n",
        "print(CVaRFrDGN_sw)\n",
        "print(\"VaR factor de riesgo Delta Gamma CF\")\n",
        "print(VaRFrDGCF_sw)\n",
        "print(\"CVaR factor de riesgo Delta Gamma CF\")\n",
        "print(CVaRFrDGCF_sw)\n"
      ],
      "execution_count": 90,
      "outputs": [
        {
          "output_type": "stream",
          "name": "stdout",
          "text": [
            "[1] \"VaR factor de riesgo Delta Gamma Normal\"\n",
            "         [,1]         [,2]\n",
            "[1,] -1.76041 -0.002164163\n",
            "[1] \"CVaR factor de riesgo Delta Gamma Normal\"\n",
            "          [,1]         [,2]\n",
            "[1,] -2.074963 -0.002387909\n",
            "[1] \"VaR factor de riesgo Delta Gamma CF\"\n",
            "         [,1]        [,2]\n",
            "[1,] -1.76041 -0.00216391\n",
            "[1] \"CVaR factor de riesgo Delta Gamma CF\"\n",
            "          [,1]         [,2]\n",
            "[1,] -2.074963 -0.002387685\n"
          ]
        }
      ]
    },
    {
      "cell_type": "markdown",
      "metadata": {
        "id": "m3dpWkMEWF58"
      },
      "source": [
        "## Medicion de riesgo, Delta Normal"
      ]
    },
    {
      "cell_type": "markdown",
      "metadata": {
        "id": "HagexR1TWMVa"
      },
      "source": [
        "### Swaps"
      ]
    },
    {
      "cell_type": "markdown",
      "metadata": {
        "id": "xkR8SosDhsHj"
      },
      "source": [
        "#### Por contrato"
      ]
    },
    {
      "cell_type": "code",
      "metadata": {
        "colab": {
          "base_uri": "https://localhost:8080/"
        },
        "id": "cZe4bt02eMCj",
        "outputId": "3ce6920d-4484-4d82-bc34-e18d74e8ada2"
      },
      "source": [
        "%%R\n",
        "VaRcontDN_sw=matrix(0,1,ncol(N))\n",
        "CVaRcontDN_sw=matrix(0,1,ncol(N))\n",
        "\n",
        "V0f_dtt=dswap_dtt(por_swT, contratos_swT, nominal_swT, XtfwdT[1,], tasafija_swT,  plazocupon_swT, VTplazos_sw, Xvp[1,])\n",
        "V0f_dtc=dswap_dtc(por_swT, contratos_swT, nominal_swT, XtfwdT[1,], tasafija_swT,  plazocupon_swT, VTplazos_sw, Xvp[1,])\n",
        "V0f_dvp=dswap_dvp(por_swT, contratos_swT, nominal_swT, XtfwdT[1,], tasafija_swT,  plazocupon_swT, VTplazos_sw, Xvp[1,])\n",
        "for (j in (1:ncol(N)))\n",
        "{\n",
        "  if(j==1)\n",
        "  {\n",
        "    mucont_sw=sum(V0f_dtt[1:sum(N[1:j])])\n",
        "    gcont_sw=as.matrix(c(V0f_dtc[1:sum(N[1:j])],V0f_dvp[1:sum(N[1:j])]))\n",
        "    gtcont_sw=t(as.matrix(gcont_sw*c(XtfwdT[1,1:sum(N[1:j])],Xvp[1,1:sum(N[1:j])])))\n",
        "    VarCovXcont_sw=cov(cbind(DeltaXtfwdt[,1:sum(N[1:j])],DeltaXvp[,1:sum(N[1:j])]))*(n/(n-1))\t\n",
        "  }\n",
        "  else\n",
        "  {\n",
        "    mucont_sw=sum(V0f_dtt[sum(N[1:j-1]+1):sum(N[1:j])])\n",
        "    gcont_sw=as.matrix(c(V0f_dtc[sum(N[1:j-1]+1):sum(N[1:j])],V0f_dvp[sum(N[1:j-1]+1):sum(N[1:j])]))\n",
        "    gtcont_sw=t(as.matrix(gcont_sw*c(XtfwdT[1,sum(N[1:j-1]+1):sum(N[1:j])],Xvp[1,sum(N[1:j-1]+1):sum(N[1:j])])))\n",
        "    VarCovXcont_sw=cov(cbind(DeltaXtfwdt[,sum(N[1:j-1]+1):sum(N[1:j])],DeltaXvp[,sum(N[1:j-1]+1):sum(N[1:j])]))*(n/(n-1))\n",
        "    \n",
        "  }\n",
        "  \n",
        "  \n",
        "  \n",
        "  #VaR Delta Normal\n",
        "  VaRcontDN_sw[j]=sum(mucont_sw)+sqrt(gtcont_sw%*%VarCovXcont_sw%*%t(gtcont_sw))*qnorm(1-alpha)\n",
        "  CVaRcontDN_sw[j]=sum(mucont_sw)+sqrt(gtcont_sw%*%VarCovXcont_sw%*%t(gtcont_sw))*dnorm(qnorm(1-alpha))/(1-alpha)\n",
        "}\n",
        "\n",
        "print(\"VaR por contrato Delta Normal\")\n",
        "print(VaRcontDN_sw)\n",
        "print(\"CVaR por contrato Delta Normal\")\n",
        "print(CVaRcontDN_sw)"
      ],
      "execution_count": 91,
      "outputs": [
        {
          "output_type": "stream",
          "name": "stdout",
          "text": [
            "[1] \"VaR por contrato Delta Normal\"\n",
            "          [,1]       [,2]\n",
            "[1,] -1.436464 -0.4086602\n",
            "[1] \"CVaR por contrato Delta Normal\"\n",
            "         [,1]      [,2]\n",
            "[1,] 1.691517 0.4814797\n"
          ]
        }
      ]
    },
    {
      "cell_type": "markdown",
      "metadata": {
        "id": "yZGqV3_3huST"
      },
      "source": [
        "#### Por contrato factor de riesgo total"
      ]
    },
    {
      "cell_type": "code",
      "metadata": {
        "colab": {
          "base_uri": "https://localhost:8080/"
        },
        "id": "gy6VfM8Eh0yi",
        "outputId": "ccb69285-1ec9-47f8-a396-5d8dfc289d50"
      },
      "source": [
        "%%R\n",
        "WFR=rbind(c( XtfwdT[1,],Xvp[1,]*0),c( XtfwdT[1,]*0,Xvp[1,]))\n",
        "VaRFrDN_sw=matrix(0,1,2)\n",
        "CVaRFrDN_sw=matrix(0,1,2)\n",
        "\n",
        "for (j in (1:2))\n",
        "{\n",
        "    \n",
        "    g_sw=cbind(dswap_dtc(por_swT, contratos_swT, nominal_swT, XtfwdT[1,], tasafija_swT,  plazocupon_swT, VTplazos_sw, Xvp[1,]),\n",
        "               dswap_dvp(por_swT, contratos_swT, nominal_swT, XtfwdT[1,], tasafija_swT,  plazocupon_swT, VTplazos_sw, Xvp[1,]))\n",
        "    \n",
        "    #Multiplicación de la derivada por el punto x0\n",
        "    gt_sw=WFR[j,]*g_sw\n",
        "    VaRFrDN_sw[j]=sqrt(gt_sw%*%VarCovX_sw%*%t(gt_sw))*qnorm(1-alpha)\n",
        "    CVaRFrDN_sw[j]=-sqrt(gt_sw%*%VarCovX_sw%*%t(gt_sw))*dnorm(qnorm(1-alpha))/(1-alpha)\n",
        "}\n",
        "\n",
        "print(\"VaR por contrato fr total\")\n",
        "print(VaRFrDN_sw)\n",
        "print(\"CVaR por contrato fr total\")\n",
        "print(CVaRFrDN_sw)"
      ],
      "execution_count": 92,
      "outputs": [
        {
          "output_type": "stream",
          "name": "stdout",
          "text": [
            "[1] \"VaR por contrato fr total\"\n",
            "          [,1]         [,2]\n",
            "[1,] -1.759498 -0.001251557\n",
            "[1] \"CVaR por contrato fr total\"\n",
            "          [,1]         [,2]\n",
            "[1,] -2.074051 -0.001475303\n"
          ]
        }
      ]
    },
    {
      "cell_type": "markdown",
      "metadata": {
        "id": "EQl12e68jLma"
      },
      "source": [
        "#### Contrato Factor de riesgo marginal"
      ]
    },
    {
      "cell_type": "code",
      "metadata": {
        "colab": {
          "base_uri": "https://localhost:8080/"
        },
        "id": "_ES5A7ypjN4q",
        "outputId": "6ece19b3-dd31-4cce-c4b6-e9340b456737"
      },
      "source": [
        "%%R\n",
        "VaRcontfrDN_sw=matrix(0,2,ncol(N))\n",
        "CVaRcontfrDN_sw=matrix(0,2,ncol(N))\n",
        "WFRcont <- rbind(c(1,0), c(0,1))\n",
        "\n",
        "V0f_dtt=dswap_dtt(por_swT, contratos_swT, nominal_swT, XtfwdT[1,], tasafija_swT,  plazocupon_swT, VTplazos_sw, Xvp[1,])\n",
        "V0f_dtc=dswap_dtc(por_swT, contratos_swT, nominal_swT, XtfwdT[1,], tasafija_swT,  plazocupon_swT, VTplazos_sw, Xvp[1,])\n",
        "V0f_dvp=dswap_dvp(por_swT, contratos_swT, nominal_swT, XtfwdT[1,], tasafija_swT,  plazocupon_swT, VTplazos_sw, Xvp[1,])\n",
        "for (j in (1:ncol(N)))\n",
        "{\n",
        "    for(k in (1:2)){\n",
        "  if(j==1)\n",
        "  {\n",
        "    mucont_sw=sum(V0f_dtt[1:sum(N[1:j])])\n",
        "    gcont_sw=as.matrix(c(V0f_dtc[1:sum(N[1:j])],V0f_dvp[1:sum(N[1:j])]))\n",
        "    gtcont_sw=t(as.matrix(gcont_sw*c(XtfwdT[1,1:sum(N[1:j])]*WFRcont[k,1],Xvp[1,1:sum(N[1:j])]*WFRcont[k,2])))\n",
        "    VarCovXcont_sw=cov(cbind(DeltaXtfwdt[,1:sum(N[1:j])],DeltaXvp[,1:sum(N[1:j])]))*(n/(n-1))\t\n",
        "    }\n",
        "  else\n",
        "  {\n",
        "    mucont_sw=sum(V0f_dtt[sum(N[1:j-1]+1):sum(N[1:j])])\n",
        "    gcont_sw=as.matrix(c(V0f_dtc[sum(N[1:j-1]+1):sum(N[1:j])],V0f_dvp[sum(N[1:j-1]+1):sum(N[1:j])]))\n",
        "    gtcont_sw=t(as.matrix(gcont_sw*c(XtfwdT[1,sum(N[1:j-1]+1):sum(N[1:j])]*WFRcont[k,1],Xvp[1,sum(N[1:j-1]+1):sum(N[1:j])]*WFRcont[k,2])))\n",
        "    VarCovXcont_sw=cov(cbind(DeltaXtfwdt[,sum(N[1:j-1]+1):sum(N[1:j])],DeltaXvp[,sum(N[1:j-1]+1):sum(N[1:j])]))*(n/(n-1))\n",
        "    }\n",
        "  \n",
        "  \n",
        "  #VaR Delta Normal\n",
        "  VaRcontfrDN_sw[k,j]=sum(mucont_sw)+sqrt(gtcont_sw%*%VarCovXcont_sw%*%t(gtcont_sw))*qnorm(1-alpha)\n",
        "  CVaRcontfrDN_sw[k,j]=sum(mucont_sw)-sqrt(gtcont_sw%*%VarCovXcont_sw%*%t(gtcont_sw))*dnorm(qnorm(1-alpha))/(1-alpha)\n",
        "}\n",
        "}\n",
        "\n",
        "print(\"VaR por contrato fr Delta Normal\")\n",
        "print(VaRcontfrDN_sw)\n",
        "print(\"CVaR por contrato fr Delta Normal\")\n",
        "print(CVaRcontfrDN_sw)"
      ],
      "execution_count": 93,
      "outputs": [
        {
          "output_type": "stream",
          "name": "stdout",
          "text": [
            "[1] \"VaR por contrato fr Delta Normal\"\n",
            "             [,1]          [,2]\n",
            "[1,] -1.436451456 -0.4086563937\n",
            "[2,] -0.001952618 -0.0002131249\n",
            "[1] \"CVaR por contrato fr Delta Normal\"\n",
            "             [,1]          [,2]\n",
            "[1,] -1.693108722 -0.4816941513\n",
            "[2,] -0.002158108 -0.0002316515\n"
          ]
        }
      ]
    },
    {
      "cell_type": "markdown",
      "metadata": {
        "id": "HZ_ahyDUkt4y"
      },
      "source": [
        "#### Total"
      ]
    },
    {
      "cell_type": "code",
      "metadata": {
        "colab": {
          "base_uri": "https://localhost:8080/"
        },
        "id": "m9WVPW7Lkvm5",
        "outputId": "8fc5d9e5-86dc-4afc-a2eb-a6ede9acc7cf"
      },
      "source": [
        "%%R\n",
        "#Evalución de las derivada en el punto x0\n",
        "\n",
        "g_sw=cbind(dswap_dtc(por_swT, contratos_swT, nominal_swT, XtfwdT[1,], tasafija_swT,  plazocupon_swT, VTplazos_sw, Xvp[1,]),\n",
        "        dswap_dvp(por_swT, contratos_swT, nominal_swT, XtfwdT[1,], tasafija_swT,  plazocupon_swT, VTplazos_sw, Xvp[1,]))\n",
        "\n",
        "#Multiplicación de la derivada por el punto x0\n",
        "gt_sw=c( XtfwdT[1,],Xvp[1,])*g_sw\n",
        "VaRTotalDN_sw=sqrt(gt_sw%*%VarCovX_sw%*%t(gt_sw))*qnorm(1-alpha)+sum(dswap_dtt(por_swT, contratos_swT, nominal_swT, XtfwdT[1,], tasafija_swT,  plazocupon_swT, VTplazos_sw, Xvp[1,]))\n",
        "CVaRTotalDN_sw = -sqrt(gt_sw%*%VarCovX_sw%*%t(gt_sw))*dnorm(qnorm(1-alpha))/(1-alpha)+sum(dswap_dtt(por_swT, contratos_swT, nominal_swT, XtfwdT[1,], tasafija_swT,  plazocupon_swT, VTplazos_sw, Xvp[1,]))\n",
        "\n",
        "\n",
        "print(\"VaR Total Delta Normal\")\n",
        "print(VaRTotalDN_sw)\n",
        "print(\"CVaR Total Delta Normal\")\n",
        "print(CVaRTotalDN_sw)\n"
      ],
      "execution_count": 97,
      "outputs": [
        {
          "output_type": "stream",
          "name": "stdout",
          "text": [
            "[1] \"VaR Total Delta Normal\"\n",
            "          [,1]\n",
            "[1,] -1.760433\n",
            "[1] \"CVaR Total Delta Normal\"\n",
            "          [,1]\n",
            "[1,] -2.074991\n"
          ]
        }
      ]
    }
  ]
}